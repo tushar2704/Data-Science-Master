{
 "cells": [
  {
   "cell_type": "markdown",
   "id": "6a525c6b",
   "metadata": {
    "papermill": {
     "duration": 0.028275,
     "end_time": "2022-12-30T14:42:15.112064",
     "exception": false,
     "start_time": "2022-12-30T14:42:15.083789",
     "status": "completed"
    },
    "tags": []
   },
   "source": [
    "# Distributions"
   ]
  },
  {
   "cell_type": "markdown",
   "id": "2d792d21",
   "metadata": {
    "papermill": {
     "duration": 0.037937,
     "end_time": "2022-12-30T14:42:15.182545",
     "exception": false,
     "start_time": "2022-12-30T14:42:15.144608",
     "status": "completed"
    },
    "tags": []
   },
   "source": [
    "\n",
    "\n",
    "* A probability mass function (PMF), which represents a set of values and the number of times each one appears in a dataset.\n",
    "\n",
    "* A cumulative distribution function (CDF), which contains the same information as a PMF in a form that makes it easier to visualize, make comparisons, and perform some computations.\n",
    "\n",
    "* A kernel density estimate (KDE), which is like a smooth, continuous version of a histogram.\n",
    "\n",
    "For examples, we'll use data from the General Social Survey (GSS) to look at distributions of age and income, and to explore the relationship between income and education.\n",
    "\n",
    "But we'll start with one of the most important ideas in statistics, the distribution."
   ]
  },
  {
   "cell_type": "markdown",
   "id": "5fab7777",
   "metadata": {
    "papermill": {
     "duration": 0.02734,
     "end_time": "2022-12-30T14:42:15.242031",
     "exception": false,
     "start_time": "2022-12-30T14:42:15.214691",
     "status": "completed"
    },
    "tags": []
   },
   "source": [
    "## Distributions\n",
    "\n",
    "A distribution is a set of values and their corresponding probabilities.  For example, if you roll a six-sided die, there are six possible outcomes, the numbers `1` through `6`, and they all have the same probability, `1/6`.\n",
    "\n",
    "We can represent this distribution of outcomes with a table, like this:\n",
    "\n",
    "\n",
    "| Value   |      Probability |\n",
    "| -----   | -----    |\n",
    "| 1       |      1/6 |\n",
    "| 2       |      1/6 |\n",
    "| 3       |      1/6 |\n",
    "| 4       |      1/6 |\n",
    "| 5       |      1/6 |\n",
    "| 6       |      1/6 |\n",
    "\n",
    "More generally, there can be any number of values, the values can be any type, and the probabilities do not have to be equal."
   ]
  },
  {
   "cell_type": "markdown",
   "id": "4d3af96d",
   "metadata": {
    "papermill": {
     "duration": 0.026307,
     "end_time": "2022-12-30T14:42:15.299141",
     "exception": false,
     "start_time": "2022-12-30T14:42:15.272834",
     "status": "completed"
    },
    "tags": []
   },
   "source": [
    "To represent distributions in Python, we will use a library called `empiricaldist`, for \"empirical distribution\", which means it is based on data rather than a mathematical formula."
   ]
  },
  {
   "cell_type": "markdown",
   "id": "ea5039de",
   "metadata": {
    "papermill": {
     "duration": 0.027301,
     "end_time": "2022-12-30T14:42:15.357434",
     "exception": false,
     "start_time": "2022-12-30T14:42:15.330133",
     "status": "completed"
    },
    "tags": [
     "remove-cell"
    ]
   },
   "source": [
    "The following cell checks whether `empiricaldist` is installed and installs it if necessary."
   ]
  },
  {
   "cell_type": "code",
   "execution_count": 1,
   "id": "bf35e38b",
   "metadata": {
    "execution": {
     "iopub.execute_input": "2022-12-30T14:42:15.416777Z",
     "iopub.status.busy": "2022-12-30T14:42:15.415748Z",
     "iopub.status.idle": "2022-12-30T14:42:30.944552Z",
     "shell.execute_reply": "2022-12-30T14:42:30.943102Z"
    },
    "papermill": {
     "duration": 15.560008,
     "end_time": "2022-12-30T14:42:30.947913",
     "exception": false,
     "start_time": "2022-12-30T14:42:15.387905",
     "status": "completed"
    },
    "tags": [
     "remove-cell"
    ]
   },
   "outputs": [
    {
     "name": "stdout",
     "output_type": "stream",
     "text": [
      "Collecting empiricaldist\r\n",
      "  Downloading empiricaldist-0.6.7.tar.gz (11 kB)\r\n",
      "  Preparing metadata (setup.py) ... \u001b[?25l-\b \bdone\r\n",
      "\u001b[?25hBuilding wheels for collected packages: empiricaldist\r\n",
      "  Building wheel for empiricaldist (setup.py) ... \u001b[?25l-\b \b\\\b \bdone\r\n",
      "\u001b[?25h  Created wheel for empiricaldist: filename=empiricaldist-0.6.7-py3-none-any.whl size=11972 sha256=9fbc27fc8d837063cdb5d042c2cf738f3c0de9c6516934872ab72faef0830a92\r\n",
      "  Stored in directory: /root/.cache/pip/wheels/dd/dc/1c/c472efa84814edbb5b67d132ad3950534d0d7fd808543a659c\r\n",
      "Successfully built empiricaldist\r\n",
      "Installing collected packages: empiricaldist\r\n",
      "Successfully installed empiricaldist-0.6.7\r\n",
      "\u001b[33mWARNING: Running pip as the 'root' user can result in broken permissions and conflicting behaviour with the system package manager. It is recommended to use a virtual environment instead: https://pip.pypa.io/warnings/venv\u001b[0m\u001b[33m\r\n",
      "\u001b[0m"
     ]
    }
   ],
   "source": [
    "try:\n",
    "    import empiricaldist\n",
    "except ImportError:\n",
    "    !pip install empiricaldist"
   ]
  },
  {
   "cell_type": "markdown",
   "id": "8396ade1",
   "metadata": {
    "papermill": {
     "duration": 0.026651,
     "end_time": "2022-12-30T14:42:31.001380",
     "exception": false,
     "start_time": "2022-12-30T14:42:30.974729",
     "status": "completed"
    },
    "tags": []
   },
   "source": [
    "`empiricaldist` provides an object called `Pmf`, which stands for \"probability mass function\".\n",
    "A `Pmf` object contains a set of possible outcomes and their probabilities.\n",
    "\n",
    "For example, here's a `Pmf` that represents the outcome of rolling a six-sided die:"
   ]
  },
  {
   "cell_type": "code",
   "execution_count": 2,
   "id": "acc0e233",
   "metadata": {
    "execution": {
     "iopub.execute_input": "2022-12-30T14:42:31.057131Z",
     "iopub.status.busy": "2022-12-30T14:42:31.056711Z",
     "iopub.status.idle": "2022-12-30T14:42:31.427781Z",
     "shell.execute_reply": "2022-12-30T14:42:31.426488Z"
    },
    "papermill": {
     "duration": 0.402804,
     "end_time": "2022-12-30T14:42:31.430937",
     "exception": false,
     "start_time": "2022-12-30T14:42:31.028133",
     "status": "completed"
    },
    "tags": []
   },
   "outputs": [],
   "source": [
    "from empiricaldist import Pmf\n",
    "\n",
    "outcomes = [1,2,3,4,5,6]\n",
    "die = Pmf(1/6, outcomes)"
   ]
  },
  {
   "cell_type": "markdown",
   "id": "6e57ac0c",
   "metadata": {
    "papermill": {
     "duration": 0.0265,
     "end_time": "2022-12-30T14:42:31.484204",
     "exception": false,
     "start_time": "2022-12-30T14:42:31.457704",
     "status": "completed"
    },
    "tags": []
   },
   "source": [
    "The first argument is the probability of each outcome; the second argument is the list of outcomes.\n",
    "We can display the result like this."
   ]
  },
  {
   "cell_type": "code",
   "execution_count": 3,
   "id": "e10b9a9c",
   "metadata": {
    "execution": {
     "iopub.execute_input": "2022-12-30T14:42:31.539716Z",
     "iopub.status.busy": "2022-12-30T14:42:31.539205Z",
     "iopub.status.idle": "2022-12-30T14:42:31.562489Z",
     "shell.execute_reply": "2022-12-30T14:42:31.561194Z"
    },
    "papermill": {
     "duration": 0.054235,
     "end_time": "2022-12-30T14:42:31.565112",
     "exception": false,
     "start_time": "2022-12-30T14:42:31.510877",
     "status": "completed"
    },
    "tags": []
   },
   "outputs": [
    {
     "data": {
      "text/html": [
       "<div>\n",
       "<style scoped>\n",
       "    .dataframe tbody tr th:only-of-type {\n",
       "        vertical-align: middle;\n",
       "    }\n",
       "\n",
       "    .dataframe tbody tr th {\n",
       "        vertical-align: top;\n",
       "    }\n",
       "\n",
       "    .dataframe thead th {\n",
       "        text-align: right;\n",
       "    }\n",
       "</style>\n",
       "<table border=\"1\" class=\"dataframe\">\n",
       "  <thead>\n",
       "    <tr style=\"text-align: right;\">\n",
       "      <th></th>\n",
       "      <th>probs</th>\n",
       "    </tr>\n",
       "  </thead>\n",
       "  <tbody>\n",
       "    <tr>\n",
       "      <th>1</th>\n",
       "      <td>0.166667</td>\n",
       "    </tr>\n",
       "    <tr>\n",
       "      <th>2</th>\n",
       "      <td>0.166667</td>\n",
       "    </tr>\n",
       "    <tr>\n",
       "      <th>3</th>\n",
       "      <td>0.166667</td>\n",
       "    </tr>\n",
       "    <tr>\n",
       "      <th>4</th>\n",
       "      <td>0.166667</td>\n",
       "    </tr>\n",
       "    <tr>\n",
       "      <th>5</th>\n",
       "      <td>0.166667</td>\n",
       "    </tr>\n",
       "    <tr>\n",
       "      <th>6</th>\n",
       "      <td>0.166667</td>\n",
       "    </tr>\n",
       "  </tbody>\n",
       "</table>\n",
       "</div>"
      ],
      "text/plain": [
       "1    0.166667\n",
       "2    0.166667\n",
       "3    0.166667\n",
       "4    0.166667\n",
       "5    0.166667\n",
       "6    0.166667\n",
       "Name: , dtype: float64"
      ]
     },
     "execution_count": 3,
     "metadata": {},
     "output_type": "execute_result"
    }
   ],
   "source": [
    "die"
   ]
  },
  {
   "cell_type": "markdown",
   "id": "d3805529",
   "metadata": {
    "papermill": {
     "duration": 0.027262,
     "end_time": "2022-12-30T14:42:31.619470",
     "exception": false,
     "start_time": "2022-12-30T14:42:31.592208",
     "status": "completed"
    },
    "tags": []
   },
   "source": [
    "A `Pmf` object is a specialized version of a Pandas `Series`, so it provides all of the attributes and methods of a `Series`, plus some additional methods we'll see soon."
   ]
  },
  {
   "cell_type": "markdown",
   "id": "9927cd6e",
   "metadata": {
    "papermill": {
     "duration": 0.027414,
     "end_time": "2022-12-30T14:42:31.674950",
     "exception": false,
     "start_time": "2022-12-30T14:42:31.647536",
     "status": "completed"
    },
    "tags": []
   },
   "source": [
    "## The General Social Survey\n",
    "\n",
    "The examples in this chapter are based on a new dataset, the General Social Survey (GSS).\n",
    "The GSS has run annually since 1972; it surveys a representative sample of adult residents of the U.S. and asks questions about demographics, personal history, and beliefs about social and political issues.\n",
    "\n",
    "It is widely used by politicians, policy makers, and researchers, including me.\n",
    "The GSS dataset contains hundreds of columns; using an online tool call [GSS Explorer](https://gssdataexplorer.norc.org/) I've selected just a few and created a data extract.\n",
    "\n",
    "Like the NSFG data we used in the previous chapter, the GSS data is stored in a fixed-width format, described by a Stata data dictionary."
   ]
  },
  {
   "cell_type": "code",
   "execution_count": 4,
   "id": "b560030a",
   "metadata": {
    "execution": {
     "iopub.execute_input": "2022-12-30T14:42:31.733548Z",
     "iopub.status.busy": "2022-12-30T14:42:31.732105Z",
     "iopub.status.idle": "2022-12-30T14:42:31.737410Z",
     "shell.execute_reply": "2022-12-30T14:42:31.736497Z"
    },
    "papermill": {
     "duration": 0.036895,
     "end_time": "2022-12-30T14:42:31.739401",
     "exception": false,
     "start_time": "2022-12-30T14:42:31.702506",
     "status": "completed"
    },
    "tags": []
   },
   "outputs": [],
   "source": [
    "dict_file = 'GSS.dct'\n",
    "data_file = 'GSS.dat.gz'"
   ]
  },
  {
   "cell_type": "markdown",
   "id": "004421f9",
   "metadata": {
    "papermill": {
     "duration": 0.026584,
     "end_time": "2022-12-30T14:42:31.793319",
     "exception": false,
     "start_time": "2022-12-30T14:42:31.766735",
     "status": "completed"
    },
    "tags": [
     "remove-cell"
    ]
   },
   "source": [
    "The following cells download the data extract."
   ]
  },
  {
   "cell_type": "code",
   "execution_count": 5,
   "id": "0508dd83",
   "metadata": {
    "execution": {
     "iopub.execute_input": "2022-12-30T14:42:31.850747Z",
     "iopub.status.busy": "2022-12-30T14:42:31.849720Z",
     "iopub.status.idle": "2022-12-30T14:42:31.855519Z",
     "shell.execute_reply": "2022-12-30T14:42:31.854600Z"
    },
    "papermill": {
     "duration": 0.036465,
     "end_time": "2022-12-30T14:42:31.857935",
     "exception": false,
     "start_time": "2022-12-30T14:42:31.821470",
     "status": "completed"
    },
    "tags": [
     "remove-cell"
    ]
   },
   "outputs": [],
   "source": [
    "from os.path import basename, exists\n",
    "\n",
    "def download(url):\n",
    "    filename = basename(url)\n",
    "    if not exists(filename):\n",
    "        from urllib.request import urlretrieve\n",
    "        local, _ = urlretrieve(url, filename)\n",
    "        print('Downloaded ' + local)"
   ]
  },
  {
   "cell_type": "code",
   "execution_count": 6,
   "id": "16fd7608",
   "metadata": {
    "execution": {
     "iopub.execute_input": "2022-12-30T14:42:31.914572Z",
     "iopub.status.busy": "2022-12-30T14:42:31.914127Z",
     "iopub.status.idle": "2022-12-30T14:42:32.277463Z",
     "shell.execute_reply": "2022-12-30T14:42:32.276031Z"
    },
    "papermill": {
     "duration": 0.39493,
     "end_time": "2022-12-30T14:42:32.280755",
     "exception": false,
     "start_time": "2022-12-30T14:42:31.885825",
     "status": "completed"
    },
    "tags": [
     "remove-cell"
    ]
   },
   "outputs": [
    {
     "name": "stdout",
     "output_type": "stream",
     "text": [
      "Downloaded GSS.dct\n"
     ]
    }
   ],
   "source": [
    "download('https://github.com/AllenDowney/' +\n",
    "         'ElementsOfDataScience/raw/master/data/' +\n",
    "         dict_file)"
   ]
  },
  {
   "cell_type": "code",
   "execution_count": 7,
   "id": "fe6fc5d4",
   "metadata": {
    "execution": {
     "iopub.execute_input": "2022-12-30T14:42:32.336344Z",
     "iopub.status.busy": "2022-12-30T14:42:32.335854Z",
     "iopub.status.idle": "2022-12-30T14:42:32.726692Z",
     "shell.execute_reply": "2022-12-30T14:42:32.725676Z"
    },
    "papermill": {
     "duration": 0.421253,
     "end_time": "2022-12-30T14:42:32.729356",
     "exception": false,
     "start_time": "2022-12-30T14:42:32.308103",
     "status": "completed"
    },
    "tags": [
     "remove-cell"
    ]
   },
   "outputs": [
    {
     "name": "stdout",
     "output_type": "stream",
     "text": [
      "Downloaded GSS.dat.gz\n"
     ]
    }
   ],
   "source": [
    "download('https://github.com/AllenDowney/' +\n",
    "         'ElementsOfDataScience/raw/master/data/' +\n",
    "         data_file)"
   ]
  },
  {
   "cell_type": "markdown",
   "id": "a967e405",
   "metadata": {
    "papermill": {
     "duration": 0.02774,
     "end_time": "2022-12-30T14:42:32.783875",
     "exception": false,
     "start_time": "2022-12-30T14:42:32.756135",
     "status": "completed"
    },
    "tags": []
   },
   "source": [
    "We will use the `statadict` library to read the data dictionary."
   ]
  },
  {
   "cell_type": "markdown",
   "id": "c10661f8",
   "metadata": {
    "papermill": {
     "duration": 0.026724,
     "end_time": "2022-12-30T14:42:32.838555",
     "exception": false,
     "start_time": "2022-12-30T14:42:32.811831",
     "status": "completed"
    },
    "tags": [
     "remove-cell"
    ]
   },
   "source": [
    "The following cell checks whether you have `statadict` installed and installs it if necessary."
   ]
  },
  {
   "cell_type": "code",
   "execution_count": 8,
   "id": "2a308513",
   "metadata": {
    "execution": {
     "iopub.execute_input": "2022-12-30T14:42:32.894401Z",
     "iopub.status.busy": "2022-12-30T14:42:32.893676Z",
     "iopub.status.idle": "2022-12-30T14:42:44.868395Z",
     "shell.execute_reply": "2022-12-30T14:42:44.866426Z"
    },
    "papermill": {
     "duration": 12.00622,
     "end_time": "2022-12-30T14:42:44.871553",
     "exception": false,
     "start_time": "2022-12-30T14:42:32.865333",
     "status": "completed"
    },
    "tags": [
     "remove-cell"
    ]
   },
   "outputs": [
    {
     "name": "stdout",
     "output_type": "stream",
     "text": [
      "Collecting statadict\r\n",
      "  Downloading statadict-1.1.0-py3-none-any.whl (9.4 kB)\r\n",
      "Installing collected packages: statadict\r\n",
      "Successfully installed statadict-1.1.0\r\n",
      "\u001b[33mWARNING: Running pip as the 'root' user can result in broken permissions and conflicting behaviour with the system package manager. It is recommended to use a virtual environment instead: https://pip.pypa.io/warnings/venv\u001b[0m\u001b[33m\r\n",
      "\u001b[0m"
     ]
    }
   ],
   "source": [
    "try:\n",
    "    from statadict import parse_stata_dict\n",
    "except ImportError:\n",
    "    !pip install statadict"
   ]
  },
  {
   "cell_type": "code",
   "execution_count": 9,
   "id": "cff0a7dd",
   "metadata": {
    "execution": {
     "iopub.execute_input": "2022-12-30T14:42:44.929398Z",
     "iopub.status.busy": "2022-12-30T14:42:44.928902Z",
     "iopub.status.idle": "2022-12-30T14:42:44.941217Z",
     "shell.execute_reply": "2022-12-30T14:42:44.940232Z"
    },
    "papermill": {
     "duration": 0.044675,
     "end_time": "2022-12-30T14:42:44.943789",
     "exception": false,
     "start_time": "2022-12-30T14:42:44.899114",
     "status": "completed"
    },
    "tags": []
   },
   "outputs": [],
   "source": [
    "from statadict import parse_stata_dict\n",
    "\n",
    "stata_dict = parse_stata_dict(dict_file)"
   ]
  },
  {
   "cell_type": "markdown",
   "id": "0bd1caaf",
   "metadata": {
    "papermill": {
     "duration": 0.026947,
     "end_time": "2022-12-30T14:42:45.000435",
     "exception": false,
     "start_time": "2022-12-30T14:42:44.973488",
     "status": "completed"
    },
    "tags": []
   },
   "source": [
    "The data file is compressed, but we can use the `gzip` library to open it."
   ]
  },
  {
   "cell_type": "code",
   "execution_count": 10,
   "id": "401fb8d7",
   "metadata": {
    "execution": {
     "iopub.execute_input": "2022-12-30T14:42:45.057042Z",
     "iopub.status.busy": "2022-12-30T14:42:45.056578Z",
     "iopub.status.idle": "2022-12-30T14:42:45.061443Z",
     "shell.execute_reply": "2022-12-30T14:42:45.060639Z"
    },
    "papermill": {
     "duration": 0.035763,
     "end_time": "2022-12-30T14:42:45.063445",
     "exception": false,
     "start_time": "2022-12-30T14:42:45.027682",
     "status": "completed"
    },
    "tags": []
   },
   "outputs": [],
   "source": [
    "import gzip\n",
    "\n",
    "fp = gzip.open(data_file)"
   ]
  },
  {
   "cell_type": "markdown",
   "id": "0d8a0ad5",
   "metadata": {
    "papermill": {
     "duration": 0.026795,
     "end_time": "2022-12-30T14:42:45.117763",
     "exception": false,
     "start_time": "2022-12-30T14:42:45.090968",
     "status": "completed"
    },
    "tags": []
   },
   "source": [
    "The result is an object that behaves like a file, so we can pass it as an argument to `read_fwf`:"
   ]
  },
  {
   "cell_type": "code",
   "execution_count": 11,
   "id": "4bcb198f",
   "metadata": {
    "execution": {
     "iopub.execute_input": "2022-12-30T14:42:45.173576Z",
     "iopub.status.busy": "2022-12-30T14:42:45.173124Z",
     "iopub.status.idle": "2022-12-30T14:42:46.199346Z",
     "shell.execute_reply": "2022-12-30T14:42:46.198039Z"
    },
    "papermill": {
     "duration": 1.057737,
     "end_time": "2022-12-30T14:42:46.202550",
     "exception": false,
     "start_time": "2022-12-30T14:42:45.144813",
     "status": "completed"
    },
    "tags": []
   },
   "outputs": [
    {
     "data": {
      "text/plain": [
       "(64814, 8)"
      ]
     },
     "execution_count": 11,
     "metadata": {},
     "output_type": "execute_result"
    }
   ],
   "source": [
    "import pandas as pd\n",
    "\n",
    "gss = pd.read_fwf(fp, \n",
    "                  names=stata_dict.names, \n",
    "                  colspecs=stata_dict.colspecs)\n",
    "gss.shape"
   ]
  },
  {
   "cell_type": "markdown",
   "id": "1ee045d7",
   "metadata": {
    "papermill": {
     "duration": 0.027,
     "end_time": "2022-12-30T14:42:46.257087",
     "exception": false,
     "start_time": "2022-12-30T14:42:46.230087",
     "status": "completed"
    },
    "tags": []
   },
   "source": [
    "The result is a `DataFrame` with one row for each respondent, and one column for each variable.\n",
    "Here are the first few rows."
   ]
  },
  {
   "cell_type": "code",
   "execution_count": 12,
   "id": "01787f36",
   "metadata": {
    "execution": {
     "iopub.execute_input": "2022-12-30T14:42:46.314408Z",
     "iopub.status.busy": "2022-12-30T14:42:46.313101Z",
     "iopub.status.idle": "2022-12-30T14:42:46.328602Z",
     "shell.execute_reply": "2022-12-30T14:42:46.327499Z"
    },
    "papermill": {
     "duration": 0.046895,
     "end_time": "2022-12-30T14:42:46.331263",
     "exception": false,
     "start_time": "2022-12-30T14:42:46.284368",
     "status": "completed"
    },
    "tags": []
   },
   "outputs": [
    {
     "data": {
      "text/html": [
       "<div>\n",
       "<style scoped>\n",
       "    .dataframe tbody tr th:only-of-type {\n",
       "        vertical-align: middle;\n",
       "    }\n",
       "\n",
       "    .dataframe tbody tr th {\n",
       "        vertical-align: top;\n",
       "    }\n",
       "\n",
       "    .dataframe thead th {\n",
       "        text-align: right;\n",
       "    }\n",
       "</style>\n",
       "<table border=\"1\" class=\"dataframe\">\n",
       "  <thead>\n",
       "    <tr style=\"text-align: right;\">\n",
       "      <th></th>\n",
       "      <th>YEAR</th>\n",
       "      <th>ID_</th>\n",
       "      <th>AGE</th>\n",
       "      <th>EDUC</th>\n",
       "      <th>SEX</th>\n",
       "      <th>GUNLAW</th>\n",
       "      <th>GRASS</th>\n",
       "      <th>REALINC</th>\n",
       "    </tr>\n",
       "  </thead>\n",
       "  <tbody>\n",
       "    <tr>\n",
       "      <th>0</th>\n",
       "      <td>1972</td>\n",
       "      <td>1</td>\n",
       "      <td>23</td>\n",
       "      <td>16</td>\n",
       "      <td>2</td>\n",
       "      <td>1</td>\n",
       "      <td>0</td>\n",
       "      <td>18951.0</td>\n",
       "    </tr>\n",
       "    <tr>\n",
       "      <th>1</th>\n",
       "      <td>1972</td>\n",
       "      <td>2</td>\n",
       "      <td>70</td>\n",
       "      <td>10</td>\n",
       "      <td>1</td>\n",
       "      <td>1</td>\n",
       "      <td>0</td>\n",
       "      <td>24366.0</td>\n",
       "    </tr>\n",
       "    <tr>\n",
       "      <th>2</th>\n",
       "      <td>1972</td>\n",
       "      <td>3</td>\n",
       "      <td>48</td>\n",
       "      <td>12</td>\n",
       "      <td>2</td>\n",
       "      <td>1</td>\n",
       "      <td>0</td>\n",
       "      <td>24366.0</td>\n",
       "    </tr>\n",
       "    <tr>\n",
       "      <th>3</th>\n",
       "      <td>1972</td>\n",
       "      <td>4</td>\n",
       "      <td>27</td>\n",
       "      <td>17</td>\n",
       "      <td>2</td>\n",
       "      <td>1</td>\n",
       "      <td>0</td>\n",
       "      <td>30458.0</td>\n",
       "    </tr>\n",
       "    <tr>\n",
       "      <th>4</th>\n",
       "      <td>1972</td>\n",
       "      <td>5</td>\n",
       "      <td>61</td>\n",
       "      <td>12</td>\n",
       "      <td>2</td>\n",
       "      <td>1</td>\n",
       "      <td>0</td>\n",
       "      <td>50763.0</td>\n",
       "    </tr>\n",
       "  </tbody>\n",
       "</table>\n",
       "</div>"
      ],
      "text/plain": [
       "   YEAR  ID_  AGE  EDUC  SEX  GUNLAW  GRASS  REALINC\n",
       "0  1972    1   23    16    2       1      0  18951.0\n",
       "1  1972    2   70    10    1       1      0  24366.0\n",
       "2  1972    3   48    12    2       1      0  24366.0\n",
       "3  1972    4   27    17    2       1      0  30458.0\n",
       "4  1972    5   61    12    2       1      0  50763.0"
      ]
     },
     "execution_count": 12,
     "metadata": {},
     "output_type": "execute_result"
    }
   ],
   "source": [
    "gss.head()"
   ]
  },
  {
   "cell_type": "markdown",
   "id": "609a347f",
   "metadata": {
    "papermill": {
     "duration": 0.027727,
     "end_time": "2022-12-30T14:42:46.388417",
     "exception": false,
     "start_time": "2022-12-30T14:42:46.360690",
     "status": "completed"
    },
    "tags": []
   },
   "source": [
    "You can probably guess what the variables are, and I'll explain them as we go along.\n",
    "But if you want more information, you can always read the codebook at <https://gssdataexplorer.norc.org/projects/52787/variables/vfilter>."
   ]
  },
  {
   "cell_type": "markdown",
   "id": "338570c2",
   "metadata": {
    "papermill": {
     "duration": 0.027135,
     "end_time": "2022-12-30T14:42:46.442966",
     "exception": false,
     "start_time": "2022-12-30T14:42:46.415831",
     "status": "completed"
    },
    "tags": []
   },
   "source": [
    "## Distribution of Education\n",
    "\n",
    "To get started with this dataset, let's look at the distribution of `EDUC`, which records the number of years of education for each respondent.  First I'll select a column from the `DataFrame` and use `value_counts` to see what values are in it."
   ]
  },
  {
   "cell_type": "code",
   "execution_count": 13,
   "id": "9d5b89b8",
   "metadata": {
    "execution": {
     "iopub.execute_input": "2022-12-30T14:42:46.500400Z",
     "iopub.status.busy": "2022-12-30T14:42:46.499665Z",
     "iopub.status.idle": "2022-12-30T14:42:46.517230Z",
     "shell.execute_reply": "2022-12-30T14:42:46.516167Z"
    },
    "papermill": {
     "duration": 0.048903,
     "end_time": "2022-12-30T14:42:46.519569",
     "exception": false,
     "start_time": "2022-12-30T14:42:46.470666",
     "status": "completed"
    },
    "tags": []
   },
   "outputs": [
    {
     "data": {
      "text/plain": [
       "0       165\n",
       "1        47\n",
       "2       152\n",
       "3       257\n",
       "4       319\n",
       "5       402\n",
       "6       828\n",
       "7       879\n",
       "8      2724\n",
       "9      2083\n",
       "10     2880\n",
       "11     3743\n",
       "12    19663\n",
       "13     5360\n",
       "14     7160\n",
       "15     2910\n",
       "16     8355\n",
       "17     1967\n",
       "18     2384\n",
       "19      920\n",
       "20     1439\n",
       "98       73\n",
       "99      104\n",
       "Name: EDUC, dtype: int64"
      ]
     },
     "execution_count": 13,
     "metadata": {},
     "output_type": "execute_result"
    }
   ],
   "source": [
    "gss['EDUC'].value_counts().sort_index()"
   ]
  },
  {
   "cell_type": "markdown",
   "id": "0861bd9b",
   "metadata": {
    "papermill": {
     "duration": 0.027373,
     "end_time": "2022-12-30T14:42:46.574742",
     "exception": false,
     "start_time": "2022-12-30T14:42:46.547369",
     "status": "completed"
    },
    "tags": []
   },
   "source": [
    "The result from `value_counts` is a set of possible values and the number of times each one appears, so it is a kind of distribution.\n",
    "\n",
    "The values `98` and `99` are special codes for \"Don't know\" and \"No answer\".\n",
    "We'll use `replace` to replace these codes with `NaN`."
   ]
  },
  {
   "cell_type": "code",
   "execution_count": 14,
   "id": "ab5047ab",
   "metadata": {
    "execution": {
     "iopub.execute_input": "2022-12-30T14:42:46.631973Z",
     "iopub.status.busy": "2022-12-30T14:42:46.631559Z",
     "iopub.status.idle": "2022-12-30T14:42:46.638347Z",
     "shell.execute_reply": "2022-12-30T14:42:46.637503Z"
    },
    "papermill": {
     "duration": 0.038136,
     "end_time": "2022-12-30T14:42:46.640502",
     "exception": false,
     "start_time": "2022-12-30T14:42:46.602366",
     "status": "completed"
    },
    "tags": []
   },
   "outputs": [],
   "source": [
    "import numpy as np\n",
    "\n",
    "educ = gss['EDUC'].replace([98, 99], np.nan)"
   ]
  },
  {
   "cell_type": "markdown",
   "id": "ad2f060b",
   "metadata": {
    "papermill": {
     "duration": 0.027731,
     "end_time": "2022-12-30T14:42:46.696445",
     "exception": false,
     "start_time": "2022-12-30T14:42:46.668714",
     "status": "completed"
    },
    "tags": []
   },
   "source": [
    "We've already seen one way to visualize a distribution, a histogram.  Here's the histogram of education level."
   ]
  },
  {
   "cell_type": "code",
   "execution_count": 15,
   "id": "2ca23c57",
   "metadata": {
    "execution": {
     "iopub.execute_input": "2022-12-30T14:42:46.753915Z",
     "iopub.status.busy": "2022-12-30T14:42:46.753227Z",
     "iopub.status.idle": "2022-12-30T14:42:47.070982Z",
     "shell.execute_reply": "2022-12-30T14:42:47.069533Z"
    },
    "papermill": {
     "duration": 0.349749,
     "end_time": "2022-12-30T14:42:47.073749",
     "exception": false,
     "start_time": "2022-12-30T14:42:46.724000",
     "status": "completed"
    },
    "tags": []
   },
   "outputs": [
    {
     "data": {
      "image/png": "[encoded data removed]",
      "text/plain": [
       "<Figure size 432x288 with 1 Axes>"
      ]
     },
     "metadata": {
      "needs_background": "light"
     },
     "output_type": "display_data"
    }
   ],
   "source": [
    "import matplotlib.pyplot as plt\n",
    "\n",
    "educ.hist(grid=False)\n",
    "plt.xlabel('Years of education')\n",
    "plt.ylabel('Number of respondents')\n",
    "plt.title('Histogram of education level');"
   ]
  },
  {
   "cell_type": "markdown",
   "id": "25d40ef3",
   "metadata": {
    "papermill": {
     "duration": 0.026955,
     "end_time": "2022-12-30T14:42:47.129227",
     "exception": false,
     "start_time": "2022-12-30T14:42:47.102272",
     "status": "completed"
    },
    "tags": []
   },
   "source": [
    "Based on the histogram, we can see the general shape of the distribution and the central tendency -- it looks like the peak is near 12 years of education.\n",
    "But a histogram is not the best way to visualize this distribution.\n",
    "\n",
    "An alternative is a `Pmf`.\n",
    "`Pmf` provides a function called `from_seq` that takes any kind of sequence -- like a list, tuple, or Pandas `Series` -- and computes the distribution of the values in the sequence."
   ]
  },
  {
   "cell_type": "code",
   "execution_count": 16,
   "id": "f30253e2",
   "metadata": {
    "execution": {
     "iopub.execute_input": "2022-12-30T14:42:47.185717Z",
     "iopub.status.busy": "2022-12-30T14:42:47.185245Z",
     "iopub.status.idle": "2022-12-30T14:42:47.195916Z",
     "shell.execute_reply": "2022-12-30T14:42:47.195081Z"
    },
    "papermill": {
     "duration": 0.041642,
     "end_time": "2022-12-30T14:42:47.198009",
     "exception": false,
     "start_time": "2022-12-30T14:42:47.156367",
     "status": "completed"
    },
    "tags": []
   },
   "outputs": [
    {
     "data": {
      "text/plain": [
       "empiricaldist.empiricaldist.Pmf"
      ]
     },
     "execution_count": 16,
     "metadata": {},
     "output_type": "execute_result"
    }
   ],
   "source": [
    "pmf_educ = Pmf.from_seq(educ, normalize=False)\n",
    "type(pmf_educ)"
   ]
  },
  {
   "cell_type": "markdown",
   "id": "cd786430",
   "metadata": {
    "papermill": {
     "duration": 0.027174,
     "end_time": "2022-12-30T14:42:47.253168",
     "exception": false,
     "start_time": "2022-12-30T14:42:47.225994",
     "status": "completed"
    },
    "tags": []
   },
   "source": [
    "The keyword argument `normalize=False` indicates that we don't want to normalize this PMF.  I'll explain what that means soon.\n",
    "\n",
    "Here's what the first few rows look like."
   ]
  },
  {
   "cell_type": "code",
   "execution_count": 17,
   "id": "fd5f2bf9",
   "metadata": {
    "execution": {
     "iopub.execute_input": "2022-12-30T14:42:47.310411Z",
     "iopub.status.busy": "2022-12-30T14:42:47.309900Z",
     "iopub.status.idle": "2022-12-30T14:42:47.321771Z",
     "shell.execute_reply": "2022-12-30T14:42:47.320535Z"
    },
    "papermill": {
     "duration": 0.043787,
     "end_time": "2022-12-30T14:42:47.324087",
     "exception": false,
     "start_time": "2022-12-30T14:42:47.280300",
     "status": "completed"
    },
    "tags": []
   },
   "outputs": [
    {
     "data": {
      "text/html": [
       "<div>\n",
       "<style scoped>\n",
       "    .dataframe tbody tr th:only-of-type {\n",
       "        vertical-align: middle;\n",
       "    }\n",
       "\n",
       "    .dataframe tbody tr th {\n",
       "        vertical-align: top;\n",
       "    }\n",
       "\n",
       "    .dataframe thead th {\n",
       "        text-align: right;\n",
       "    }\n",
       "</style>\n",
       "<table border=\"1\" class=\"dataframe\">\n",
       "  <thead>\n",
       "    <tr style=\"text-align: right;\">\n",
       "      <th></th>\n",
       "      <th>probs</th>\n",
       "    </tr>\n",
       "  </thead>\n",
       "  <tbody>\n",
       "    <tr>\n",
       "      <th>0.0</th>\n",
       "      <td>165</td>\n",
       "    </tr>\n",
       "    <tr>\n",
       "      <th>1.0</th>\n",
       "      <td>47</td>\n",
       "    </tr>\n",
       "    <tr>\n",
       "      <th>2.0</th>\n",
       "      <td>152</td>\n",
       "    </tr>\n",
       "  </tbody>\n",
       "</table>\n",
       "</div>"
      ],
      "text/plain": [
       "0.0    165\n",
       "1.0     47\n",
       "2.0    152\n",
       "Name: , dtype: int64"
      ]
     },
     "execution_count": 17,
     "metadata": {},
     "output_type": "execute_result"
    }
   ],
   "source": [
    "pmf_educ.head()"
   ]
  },
  {
   "cell_type": "markdown",
   "id": "16a851ae",
   "metadata": {
    "papermill": {
     "duration": 0.027424,
     "end_time": "2022-12-30T14:42:47.379655",
     "exception": false,
     "start_time": "2022-12-30T14:42:47.352231",
     "status": "completed"
    },
    "tags": []
   },
   "source": [
    "In this dataset, there are `165` respondents who report that they have had no formal education, and `47` who have only one year.\n",
    "Here the last few rows."
   ]
  },
  {
   "cell_type": "code",
   "execution_count": 18,
   "id": "cb9829c4",
   "metadata": {
    "execution": {
     "iopub.execute_input": "2022-12-30T14:42:47.438006Z",
     "iopub.status.busy": "2022-12-30T14:42:47.437493Z",
     "iopub.status.idle": "2022-12-30T14:42:47.448720Z",
     "shell.execute_reply": "2022-12-30T14:42:47.447708Z"
    },
    "papermill": {
     "duration": 0.043093,
     "end_time": "2022-12-30T14:42:47.450832",
     "exception": false,
     "start_time": "2022-12-30T14:42:47.407739",
     "status": "completed"
    },
    "tags": []
   },
   "outputs": [
    {
     "data": {
      "text/html": [
       "<div>\n",
       "<style scoped>\n",
       "    .dataframe tbody tr th:only-of-type {\n",
       "        vertical-align: middle;\n",
       "    }\n",
       "\n",
       "    .dataframe tbody tr th {\n",
       "        vertical-align: top;\n",
       "    }\n",
       "\n",
       "    .dataframe thead th {\n",
       "        text-align: right;\n",
       "    }\n",
       "</style>\n",
       "<table border=\"1\" class=\"dataframe\">\n",
       "  <thead>\n",
       "    <tr style=\"text-align: right;\">\n",
       "      <th></th>\n",
       "      <th>probs</th>\n",
       "    </tr>\n",
       "  </thead>\n",
       "  <tbody>\n",
       "    <tr>\n",
       "      <th>18.0</th>\n",
       "      <td>2384</td>\n",
       "    </tr>\n",
       "    <tr>\n",
       "      <th>19.0</th>\n",
       "      <td>920</td>\n",
       "    </tr>\n",
       "    <tr>\n",
       "      <th>20.0</th>\n",
       "      <td>1439</td>\n",
       "    </tr>\n",
       "  </tbody>\n",
       "</table>\n",
       "</div>"
      ],
      "text/plain": [
       "18.0    2384\n",
       "19.0     920\n",
       "20.0    1439\n",
       "Name: , dtype: int64"
      ]
     },
     "execution_count": 18,
     "metadata": {},
     "output_type": "execute_result"
    }
   ],
   "source": [
    "pmf_educ.tail()"
   ]
  },
  {
   "cell_type": "markdown",
   "id": "704a1988",
   "metadata": {
    "papermill": {
     "duration": 0.027524,
     "end_time": "2022-12-30T14:42:47.506729",
     "exception": false,
     "start_time": "2022-12-30T14:42:47.479205",
     "status": "completed"
    },
    "tags": []
   },
   "source": [
    "There are `1439` respondents who report that they have 20 or more years of formal education, which probably means they attended college and graduate school.\n",
    "\n",
    "You can use the bracket operator to look up a value in a Pmf and get the corresponding count:"
   ]
  },
  {
   "cell_type": "code",
   "execution_count": 19,
   "id": "8f1277f5",
   "metadata": {
    "execution": {
     "iopub.execute_input": "2022-12-30T14:42:47.565045Z",
     "iopub.status.busy": "2022-12-30T14:42:47.564300Z",
     "iopub.status.idle": "2022-12-30T14:42:47.571611Z",
     "shell.execute_reply": "2022-12-30T14:42:47.570376Z"
    },
    "papermill": {
     "duration": 0.039386,
     "end_time": "2022-12-30T14:42:47.574106",
     "exception": false,
     "start_time": "2022-12-30T14:42:47.534720",
     "status": "completed"
    },
    "tags": []
   },
   "outputs": [
    {
     "data": {
      "text/plain": [
       "1439"
      ]
     },
     "execution_count": 19,
     "metadata": {},
     "output_type": "execute_result"
    }
   ],
   "source": [
    "pmf_educ[20]"
   ]
  },
  {
   "cell_type": "markdown",
   "id": "154f0812",
   "metadata": {
    "papermill": {
     "duration": 0.02753,
     "end_time": "2022-12-30T14:42:47.629763",
     "exception": false,
     "start_time": "2022-12-30T14:42:47.602233",
     "status": "completed"
    },
    "tags": []
   },
   "source": [
    "Usually when we make a PMF, we want to know the *fraction* of respondents with each value, rather than the counts.  We can do that by setting `normalize=True`; then we get a normalized PMF, that is, a PMF where the values in the second column add up to 1."
   ]
  },
  {
   "cell_type": "code",
   "execution_count": 20,
   "id": "cb97d5f6",
   "metadata": {
    "execution": {
     "iopub.execute_input": "2022-12-30T14:42:47.688831Z",
     "iopub.status.busy": "2022-12-30T14:42:47.688330Z",
     "iopub.status.idle": "2022-12-30T14:42:47.701730Z",
     "shell.execute_reply": "2022-12-30T14:42:47.700913Z"
    },
    "papermill": {
     "duration": 0.045388,
     "end_time": "2022-12-30T14:42:47.703935",
     "exception": false,
     "start_time": "2022-12-30T14:42:47.658547",
     "status": "completed"
    },
    "tags": []
   },
   "outputs": [
    {
     "data": {
      "text/html": [
       "<div>\n",
       "<style scoped>\n",
       "    .dataframe tbody tr th:only-of-type {\n",
       "        vertical-align: middle;\n",
       "    }\n",
       "\n",
       "    .dataframe tbody tr th {\n",
       "        vertical-align: top;\n",
       "    }\n",
       "\n",
       "    .dataframe thead th {\n",
       "        text-align: right;\n",
       "    }\n",
       "</style>\n",
       "<table border=\"1\" class=\"dataframe\">\n",
       "  <thead>\n",
       "    <tr style=\"text-align: right;\">\n",
       "      <th></th>\n",
       "      <th>probs</th>\n",
       "    </tr>\n",
       "  </thead>\n",
       "  <tbody>\n",
       "    <tr>\n",
       "      <th>0.0</th>\n",
       "      <td>0.002553</td>\n",
       "    </tr>\n",
       "    <tr>\n",
       "      <th>1.0</th>\n",
       "      <td>0.000727</td>\n",
       "    </tr>\n",
       "    <tr>\n",
       "      <th>2.0</th>\n",
       "      <td>0.002352</td>\n",
       "    </tr>\n",
       "  </tbody>\n",
       "</table>\n",
       "</div>"
      ],
      "text/plain": [
       "0.0    0.002553\n",
       "1.0    0.000727\n",
       "2.0    0.002352\n",
       "Name: , dtype: float64"
      ]
     },
     "execution_count": 20,
     "metadata": {},
     "output_type": "execute_result"
    }
   ],
   "source": [
    "pmf_educ_norm = Pmf.from_seq(educ, normalize=True)\n",
    "pmf_educ_norm.head()"
   ]
  },
  {
   "cell_type": "markdown",
   "id": "b805c41a",
   "metadata": {
    "papermill": {
     "duration": 0.02956,
     "end_time": "2022-12-30T14:42:47.761787",
     "exception": false,
     "start_time": "2022-12-30T14:42:47.732227",
     "status": "completed"
    },
    "tags": []
   },
   "source": [
    "Now if we use the bracket operator, the result is a fraction.\n",
    "For example, the fraction of people with 12 years of education is about 30%:"
   ]
  },
  {
   "cell_type": "code",
   "execution_count": 21,
   "id": "cf1e41d9",
   "metadata": {
    "execution": {
     "iopub.execute_input": "2022-12-30T14:42:47.820217Z",
     "iopub.status.busy": "2022-12-30T14:42:47.819349Z",
     "iopub.status.idle": "2022-12-30T14:42:47.825943Z",
     "shell.execute_reply": "2022-12-30T14:42:47.825103Z"
    },
    "papermill": {
     "duration": 0.038435,
     "end_time": "2022-12-30T14:42:47.828125",
     "exception": false,
     "start_time": "2022-12-30T14:42:47.789690",
     "status": "completed"
    },
    "tags": []
   },
   "outputs": [
    {
     "data": {
      "text/plain": [
       "0.12926033077030183"
      ]
     },
     "execution_count": 21,
     "metadata": {},
     "output_type": "execute_result"
    }
   ],
   "source": [
    "pmf_educ_norm[16]"
   ]
  },
  {
   "cell_type": "markdown",
   "id": "8056a39f",
   "metadata": {
    "papermill": {
     "duration": 0.028921,
     "end_time": "2022-12-30T14:42:47.885510",
     "exception": false,
     "start_time": "2022-12-30T14:42:47.856589",
     "status": "completed"
    },
    "tags": []
   },
   "source": [
    "`Pmf` provides a `bar` method that plots the values and their probabilities as a bar chart."
   ]
  },
  {
   "cell_type": "code",
   "execution_count": 22,
   "id": "f96b3725",
   "metadata": {
    "execution": {
     "iopub.execute_input": "2022-12-30T14:42:47.945378Z",
     "iopub.status.busy": "2022-12-30T14:42:47.944876Z",
     "iopub.status.idle": "2022-12-30T14:42:48.236086Z",
     "shell.execute_reply": "2022-12-30T14:42:48.234905Z"
    },
    "papermill": {
     "duration": 0.325088,
     "end_time": "2022-12-30T14:42:48.238773",
     "exception": false,
     "start_time": "2022-12-30T14:42:47.913685",
     "status": "completed"
    },
    "tags": []
   },
   "outputs": [
    {
     "data": {
      "image/png": "[encoded data removed]",
      "text/plain": [
       "<Figure size 432x288 with 1 Axes>"
      ]
     },
     "metadata": {
      "needs_background": "light"
     },
     "output_type": "display_data"
    }
   ],
   "source": [
    "pmf_educ_norm.bar(label='EDUC')\n",
    "\n",
    "plt.xlabel('Years of education')\n",
    "plt.xticks(range(0, 21, 4))\n",
    "plt.ylabel('PMF')\n",
    "plt.title('Distribution of years of education')\n",
    "plt.legend();"
   ]
  },
  {
   "cell_type": "markdown",
   "id": "f4a8b3ef",
   "metadata": {
    "papermill": {
     "duration": 0.030111,
     "end_time": "2022-12-30T14:42:48.299021",
     "exception": false,
     "start_time": "2022-12-30T14:42:48.268910",
     "status": "completed"
    },
    "tags": []
   },
   "source": [
    "In this figure, we can see that the most common value is 12 years, but there are also peaks at 14 and 16, which correspond to two and four years of college.\n",
    "\n",
    "For this data, the PMF is probably a better choice than the histogram.  The PMF shows all unique values, so we can see where the peaks are.\n",
    "Because the histogram puts values into bins, it obscures some details.  With this dataset, and the default number of bins, we couldn't see the peaks at 14 and 16 years.\n",
    "\n",
    "But PMFs have limitations, too, as we'll see.  But first, let's get some practice with PMFs."
   ]
  },
  {
   "cell_type": "markdown",
   "id": "ab630173",
   "metadata": {
    "papermill": {
     "duration": 0.030093,
     "end_time": "2022-12-30T14:42:48.359055",
     "exception": false,
     "start_time": "2022-12-30T14:42:48.328962",
     "status": "completed"
    },
    "tags": []
   },
   "source": [
    "**Exercise:** Let's look at another column in this `DataFrame`, `YEAR`, which represents the year each respondent was interviewed.\n",
    "\n",
    "Make an unnormalized PMF for `YEAR` and display the result.\n",
    "How many respondents were interviewed in 2018?"
   ]
  },
  {
   "cell_type": "code",
   "execution_count": 23,
   "id": "b5793252",
   "metadata": {
    "execution": {
     "iopub.execute_input": "2022-12-30T14:42:48.419735Z",
     "iopub.status.busy": "2022-12-30T14:42:48.419011Z",
     "iopub.status.idle": "2022-12-30T14:42:48.434408Z",
     "shell.execute_reply": "2022-12-30T14:42:48.433224Z"
    },
    "papermill": {
     "duration": 0.048729,
     "end_time": "2022-12-30T14:42:48.436922",
     "exception": false,
     "start_time": "2022-12-30T14:42:48.388193",
     "status": "completed"
    },
    "tags": [
     "remove-cell"
    ]
   },
   "outputs": [
    {
     "data": {
      "text/html": [
       "<div>\n",
       "<style scoped>\n",
       "    .dataframe tbody tr th:only-of-type {\n",
       "        vertical-align: middle;\n",
       "    }\n",
       "\n",
       "    .dataframe tbody tr th {\n",
       "        vertical-align: top;\n",
       "    }\n",
       "\n",
       "    .dataframe thead th {\n",
       "        text-align: right;\n",
       "    }\n",
       "</style>\n",
       "<table border=\"1\" class=\"dataframe\">\n",
       "  <thead>\n",
       "    <tr style=\"text-align: right;\">\n",
       "      <th></th>\n",
       "      <th>probs</th>\n",
       "    </tr>\n",
       "  </thead>\n",
       "  <tbody>\n",
       "    <tr>\n",
       "      <th>1972</th>\n",
       "      <td>1613</td>\n",
       "    </tr>\n",
       "    <tr>\n",
       "      <th>1973</th>\n",
       "      <td>1504</td>\n",
       "    </tr>\n",
       "    <tr>\n",
       "      <th>1974</th>\n",
       "      <td>1484</td>\n",
       "    </tr>\n",
       "    <tr>\n",
       "      <th>1975</th>\n",
       "      <td>1490</td>\n",
       "    </tr>\n",
       "    <tr>\n",
       "      <th>1976</th>\n",
       "      <td>1499</td>\n",
       "    </tr>\n",
       "    <tr>\n",
       "      <th>1977</th>\n",
       "      <td>1530</td>\n",
       "    </tr>\n",
       "    <tr>\n",
       "      <th>1978</th>\n",
       "      <td>1532</td>\n",
       "    </tr>\n",
       "    <tr>\n",
       "      <th>1980</th>\n",
       "      <td>1468</td>\n",
       "    </tr>\n",
       "    <tr>\n",
       "      <th>1982</th>\n",
       "      <td>1860</td>\n",
       "    </tr>\n",
       "    <tr>\n",
       "      <th>1983</th>\n",
       "      <td>1599</td>\n",
       "    </tr>\n",
       "    <tr>\n",
       "      <th>1984</th>\n",
       "      <td>1473</td>\n",
       "    </tr>\n",
       "    <tr>\n",
       "      <th>1985</th>\n",
       "      <td>1534</td>\n",
       "    </tr>\n",
       "    <tr>\n",
       "      <th>1986</th>\n",
       "      <td>1470</td>\n",
       "    </tr>\n",
       "    <tr>\n",
       "      <th>1987</th>\n",
       "      <td>1819</td>\n",
       "    </tr>\n",
       "    <tr>\n",
       "      <th>1988</th>\n",
       "      <td>1481</td>\n",
       "    </tr>\n",
       "    <tr>\n",
       "      <th>1989</th>\n",
       "      <td>1537</td>\n",
       "    </tr>\n",
       "    <tr>\n",
       "      <th>1990</th>\n",
       "      <td>1372</td>\n",
       "    </tr>\n",
       "    <tr>\n",
       "      <th>1991</th>\n",
       "      <td>1517</td>\n",
       "    </tr>\n",
       "    <tr>\n",
       "      <th>1993</th>\n",
       "      <td>1606</td>\n",
       "    </tr>\n",
       "    <tr>\n",
       "      <th>1994</th>\n",
       "      <td>2992</td>\n",
       "    </tr>\n",
       "    <tr>\n",
       "      <th>1996</th>\n",
       "      <td>2904</td>\n",
       "    </tr>\n",
       "    <tr>\n",
       "      <th>1998</th>\n",
       "      <td>2832</td>\n",
       "    </tr>\n",
       "    <tr>\n",
       "      <th>2000</th>\n",
       "      <td>2817</td>\n",
       "    </tr>\n",
       "    <tr>\n",
       "      <th>2002</th>\n",
       "      <td>2765</td>\n",
       "    </tr>\n",
       "    <tr>\n",
       "      <th>2004</th>\n",
       "      <td>2812</td>\n",
       "    </tr>\n",
       "    <tr>\n",
       "      <th>2006</th>\n",
       "      <td>4510</td>\n",
       "    </tr>\n",
       "    <tr>\n",
       "      <th>2008</th>\n",
       "      <td>2023</td>\n",
       "    </tr>\n",
       "    <tr>\n",
       "      <th>2010</th>\n",
       "      <td>2044</td>\n",
       "    </tr>\n",
       "    <tr>\n",
       "      <th>2012</th>\n",
       "      <td>1974</td>\n",
       "    </tr>\n",
       "    <tr>\n",
       "      <th>2014</th>\n",
       "      <td>2538</td>\n",
       "    </tr>\n",
       "    <tr>\n",
       "      <th>2016</th>\n",
       "      <td>2867</td>\n",
       "    </tr>\n",
       "    <tr>\n",
       "      <th>2018</th>\n",
       "      <td>2348</td>\n",
       "    </tr>\n",
       "  </tbody>\n",
       "</table>\n",
       "</div>"
      ],
      "text/plain": [
       "1972    1613\n",
       "1973    1504\n",
       "1974    1484\n",
       "1975    1490\n",
       "1976    1499\n",
       "1977    1530\n",
       "1978    1532\n",
       "1980    1468\n",
       "1982    1860\n",
       "1983    1599\n",
       "1984    1473\n",
       "1985    1534\n",
       "1986    1470\n",
       "1987    1819\n",
       "1988    1481\n",
       "1989    1537\n",
       "1990    1372\n",
       "1991    1517\n",
       "1993    1606\n",
       "1994    2992\n",
       "1996    2904\n",
       "1998    2832\n",
       "2000    2817\n",
       "2002    2765\n",
       "2004    2812\n",
       "2006    4510\n",
       "2008    2023\n",
       "2010    2044\n",
       "2012    1974\n",
       "2014    2538\n",
       "2016    2867\n",
       "2018    2348\n",
       "Name: , dtype: int64"
      ]
     },
     "execution_count": 23,
     "metadata": {},
     "output_type": "execute_result"
    }
   ],
   "source": [
    "# Solution\n",
    "\n",
    "# Compute the PMF for year\n",
    "pmf_year = Pmf.from_seq(gss['YEAR'], normalize=False)\n",
    "\n",
    "# Display the result\n",
    "pmf_year"
   ]
  },
  {
   "cell_type": "markdown",
   "id": "669ca3ec",
   "metadata": {
    "papermill": {
     "duration": 0.029572,
     "end_time": "2022-12-30T14:42:48.495939",
     "exception": false,
     "start_time": "2022-12-30T14:42:48.466367",
     "status": "completed"
    },
    "tags": []
   },
   "source": [
    "## Cumulative Distribution Functions\n",
    "\n",
    "Now we'll see another way to represent a distribution, the cumulative distribution function (CDF).\n",
    "`empiricaldist` provides a `Cdf` object that represents a CDF.\n",
    "We can import it like this:"
   ]
  },
  {
   "cell_type": "code",
   "execution_count": 24,
   "id": "11ce0168",
   "metadata": {
    "execution": {
     "iopub.execute_input": "2022-12-30T14:42:48.557358Z",
     "iopub.status.busy": "2022-12-30T14:42:48.556844Z",
     "iopub.status.idle": "2022-12-30T14:42:48.561963Z",
     "shell.execute_reply": "2022-12-30T14:42:48.561000Z"
    },
    "papermill": {
     "duration": 0.038595,
     "end_time": "2022-12-30T14:42:48.564439",
     "exception": false,
     "start_time": "2022-12-30T14:42:48.525844",
     "status": "completed"
    },
    "tags": []
   },
   "outputs": [],
   "source": [
    "from empiricaldist import Cdf"
   ]
  },
  {
   "cell_type": "markdown",
   "id": "a22cb095",
   "metadata": {
    "papermill": {
     "duration": 0.028891,
     "end_time": "2022-12-30T14:42:48.622497",
     "exception": false,
     "start_time": "2022-12-30T14:42:48.593606",
     "status": "completed"
    },
    "tags": []
   },
   "source": [
    "As an example, suppose we have a sequence of five values: "
   ]
  },
  {
   "cell_type": "code",
   "execution_count": 25,
   "id": "a167834b",
   "metadata": {
    "execution": {
     "iopub.execute_input": "2022-12-30T14:42:48.682819Z",
     "iopub.status.busy": "2022-12-30T14:42:48.682305Z",
     "iopub.status.idle": "2022-12-30T14:42:48.687390Z",
     "shell.execute_reply": "2022-12-30T14:42:48.686413Z"
    },
    "papermill": {
     "duration": 0.03807,
     "end_time": "2022-12-30T14:42:48.689514",
     "exception": false,
     "start_time": "2022-12-30T14:42:48.651444",
     "status": "completed"
    },
    "tags": []
   },
   "outputs": [],
   "source": [
    "values = 1, 2, 2, 3, 5  "
   ]
  },
  {
   "cell_type": "markdown",
   "id": "befabd4c",
   "metadata": {
    "papermill": {
     "duration": 0.029354,
     "end_time": "2022-12-30T14:42:48.747758",
     "exception": false,
     "start_time": "2022-12-30T14:42:48.718404",
     "status": "completed"
    },
    "tags": []
   },
   "source": [
    "Here's the `Pmf` of these values."
   ]
  },
  {
   "cell_type": "code",
   "execution_count": 26,
   "id": "0c98dce7",
   "metadata": {
    "execution": {
     "iopub.execute_input": "2022-12-30T14:42:48.809381Z",
     "iopub.status.busy": "2022-12-30T14:42:48.808551Z",
     "iopub.status.idle": "2022-12-30T14:42:48.820303Z",
     "shell.execute_reply": "2022-12-30T14:42:48.819008Z"
    },
    "papermill": {
     "duration": 0.046102,
     "end_time": "2022-12-30T14:42:48.823134",
     "exception": false,
     "start_time": "2022-12-30T14:42:48.777032",
     "status": "completed"
    },
    "tags": []
   },
   "outputs": [
    {
     "data": {
      "text/html": [
       "<div>\n",
       "<style scoped>\n",
       "    .dataframe tbody tr th:only-of-type {\n",
       "        vertical-align: middle;\n",
       "    }\n",
       "\n",
       "    .dataframe tbody tr th {\n",
       "        vertical-align: top;\n",
       "    }\n",
       "\n",
       "    .dataframe thead th {\n",
       "        text-align: right;\n",
       "    }\n",
       "</style>\n",
       "<table border=\"1\" class=\"dataframe\">\n",
       "  <thead>\n",
       "    <tr style=\"text-align: right;\">\n",
       "      <th></th>\n",
       "      <th>probs</th>\n",
       "    </tr>\n",
       "  </thead>\n",
       "  <tbody>\n",
       "    <tr>\n",
       "      <th>1</th>\n",
       "      <td>0.2</td>\n",
       "    </tr>\n",
       "    <tr>\n",
       "      <th>2</th>\n",
       "      <td>0.4</td>\n",
       "    </tr>\n",
       "    <tr>\n",
       "      <th>3</th>\n",
       "      <td>0.2</td>\n",
       "    </tr>\n",
       "    <tr>\n",
       "      <th>5</th>\n",
       "      <td>0.2</td>\n",
       "    </tr>\n",
       "  </tbody>\n",
       "</table>\n",
       "</div>"
      ],
      "text/plain": [
       "1    0.2\n",
       "2    0.4\n",
       "3    0.2\n",
       "5    0.2\n",
       "Name: , dtype: float64"
      ]
     },
     "execution_count": 26,
     "metadata": {},
     "output_type": "execute_result"
    }
   ],
   "source": [
    "Pmf.from_seq(values)"
   ]
  },
  {
   "cell_type": "markdown",
   "id": "589def67",
   "metadata": {
    "papermill": {
     "duration": 0.029319,
     "end_time": "2022-12-30T14:42:48.881579",
     "exception": false,
     "start_time": "2022-12-30T14:42:48.852260",
     "status": "completed"
    },
    "tags": []
   },
   "source": [
    "If you draw a random value from `values`, the PMF tells you the chance of getting `x`, for any value of `x`.\n",
    "So the probability of the value `1` is `1/5`; the probability of the value `2` is `2/5`; and the probabilities for `3` and `5` are `1/5` each."
   ]
  },
  {
   "cell_type": "markdown",
   "id": "f2a38a83",
   "metadata": {
    "papermill": {
     "duration": 0.029001,
     "end_time": "2022-12-30T14:42:48.940053",
     "exception": false,
     "start_time": "2022-12-30T14:42:48.911052",
     "status": "completed"
    },
    "tags": []
   },
   "source": [
    "A CDF is similar in the sense that it contains values and their probabilities; the difference is that the probabilities in the CDF are the the cumulative sum of the probabilities in the PMF.\n",
    "\n",
    "Here's the `Cdf` for the same five values."
   ]
  },
  {
   "cell_type": "code",
   "execution_count": 27,
   "id": "4ae2f6d0",
   "metadata": {
    "execution": {
     "iopub.execute_input": "2022-12-30T14:42:49.006370Z",
     "iopub.status.busy": "2022-12-30T14:42:49.005284Z",
     "iopub.status.idle": "2022-12-30T14:42:49.018208Z",
     "shell.execute_reply": "2022-12-30T14:42:49.017051Z"
    },
    "papermill": {
     "duration": 0.04703,
     "end_time": "2022-12-30T14:42:49.020718",
     "exception": false,
     "start_time": "2022-12-30T14:42:48.973688",
     "status": "completed"
    },
    "tags": []
   },
   "outputs": [
    {
     "data": {
      "text/html": [
       "<div>\n",
       "<style scoped>\n",
       "    .dataframe tbody tr th:only-of-type {\n",
       "        vertical-align: middle;\n",
       "    }\n",
       "\n",
       "    .dataframe tbody tr th {\n",
       "        vertical-align: top;\n",
       "    }\n",
       "\n",
       "    .dataframe thead th {\n",
       "        text-align: right;\n",
       "    }\n",
       "</style>\n",
       "<table border=\"1\" class=\"dataframe\">\n",
       "  <thead>\n",
       "    <tr style=\"text-align: right;\">\n",
       "      <th></th>\n",
       "      <th>probs</th>\n",
       "    </tr>\n",
       "  </thead>\n",
       "  <tbody>\n",
       "    <tr>\n",
       "      <th>1</th>\n",
       "      <td>0.2</td>\n",
       "    </tr>\n",
       "    <tr>\n",
       "      <th>2</th>\n",
       "      <td>0.6</td>\n",
       "    </tr>\n",
       "    <tr>\n",
       "      <th>3</th>\n",
       "      <td>0.8</td>\n",
       "    </tr>\n",
       "    <tr>\n",
       "      <th>5</th>\n",
       "      <td>1.0</td>\n",
       "    </tr>\n",
       "  </tbody>\n",
       "</table>\n",
       "</div>"
      ],
      "text/plain": [
       "1    0.2\n",
       "2    0.6\n",
       "3    0.8\n",
       "5    1.0\n",
       "Name: , dtype: float64"
      ]
     },
     "execution_count": 27,
     "metadata": {},
     "output_type": "execute_result"
    }
   ],
   "source": [
    "Cdf.from_seq(values)"
   ]
  },
  {
   "cell_type": "markdown",
   "id": "a131695d",
   "metadata": {
    "papermill": {
     "duration": 0.02949,
     "end_time": "2022-12-30T14:42:49.081149",
     "exception": false,
     "start_time": "2022-12-30T14:42:49.051659",
     "status": "completed"
    },
    "tags": []
   },
   "source": [
    "If you draw a random value from `values`, `Cdf` tells you the chance of getting a value *less than or equal to* `x`, for any given `x`.\n",
    "\n",
    "So the `Cdf` of `1` is `1/5` because one of the five values in the sequence is less than or equal to 1.\n",
    "\n",
    "The `Cdf` of 2 is `3/5` because three of the five values are less than or equal to 2.\n",
    "\n",
    "And the `Cdf` of 5 is `5/5` because all of the values are less than or equal to 5."
   ]
  },
  {
   "cell_type": "markdown",
   "id": "7c46762d",
   "metadata": {
    "papermill": {
     "duration": 0.029689,
     "end_time": "2022-12-30T14:42:49.140801",
     "exception": false,
     "start_time": "2022-12-30T14:42:49.111112",
     "status": "completed"
    },
    "tags": []
   },
   "source": [
    "## CDF of Age\n",
    "\n",
    "Now let's look at a more substantial `Cdf`, the distribution of ages for respondents in the General Social Survey.\n",
    "\n",
    "The variable we'll use is `'AGE'`.\n",
    "According to the codebook, the range of the values is from `18` to `89`, where `89` means \"89 or older\".\n",
    "The special codes `98` and `99` mean \"Don't know\" and \"Didn't answer\".\n",
    "See <https://gssdataexplorer.norc.org/variables/53/vshow>.\n",
    "\n",
    "I'll use `replace` to replace the special codes with `NaN`."
   ]
  },
  {
   "cell_type": "code",
   "execution_count": 28,
   "id": "1a18a7bc",
   "metadata": {
    "execution": {
     "iopub.execute_input": "2022-12-30T14:42:49.202449Z",
     "iopub.status.busy": "2022-12-30T14:42:49.201986Z",
     "iopub.status.idle": "2022-12-30T14:42:49.209069Z",
     "shell.execute_reply": "2022-12-30T14:42:49.207978Z"
    },
    "papermill": {
     "duration": 0.04072,
     "end_time": "2022-12-30T14:42:49.211410",
     "exception": false,
     "start_time": "2022-12-30T14:42:49.170690",
     "status": "completed"
    },
    "tags": []
   },
   "outputs": [],
   "source": [
    "age = gss['AGE'].replace([98, 99], np.nan)"
   ]
  },
  {
   "cell_type": "markdown",
   "id": "be3ef8b8",
   "metadata": {
    "papermill": {
     "duration": 0.030659,
     "end_time": "2022-12-30T14:42:49.272664",
     "exception": false,
     "start_time": "2022-12-30T14:42:49.242005",
     "status": "completed"
    },
    "tags": []
   },
   "source": [
    "We can compute the `Cdf` of these values like this:"
   ]
  },
  {
   "cell_type": "code",
   "execution_count": 29,
   "id": "4a4e2c0d",
   "metadata": {
    "execution": {
     "iopub.execute_input": "2022-12-30T14:42:49.335254Z",
     "iopub.status.busy": "2022-12-30T14:42:49.334817Z",
     "iopub.status.idle": "2022-12-30T14:42:49.342630Z",
     "shell.execute_reply": "2022-12-30T14:42:49.341532Z"
    },
    "papermill": {
     "duration": 0.04252,
     "end_time": "2022-12-30T14:42:49.345245",
     "exception": false,
     "start_time": "2022-12-30T14:42:49.302725",
     "status": "completed"
    },
    "tags": []
   },
   "outputs": [],
   "source": [
    "cdf_age = Cdf.from_seq(age)"
   ]
  },
  {
   "cell_type": "markdown",
   "id": "dd16e007",
   "metadata": {
    "papermill": {
     "duration": 0.030905,
     "end_time": "2022-12-30T14:42:49.407943",
     "exception": false,
     "start_time": "2022-12-30T14:42:49.377038",
     "status": "completed"
    },
    "tags": []
   },
   "source": [
    "`Cdf` provides a method called `plot` that plots the CDF as a line.  Here's what it looks like."
   ]
  },
  {
   "cell_type": "code",
   "execution_count": 30,
   "id": "7ac47de7",
   "metadata": {
    "execution": {
     "iopub.execute_input": "2022-12-30T14:42:49.472325Z",
     "iopub.status.busy": "2022-12-30T14:42:49.471901Z",
     "iopub.status.idle": "2022-12-30T14:42:49.720062Z",
     "shell.execute_reply": "2022-12-30T14:42:49.718710Z"
    },
    "papermill": {
     "duration": 0.283501,
     "end_time": "2022-12-30T14:42:49.723033",
     "exception": false,
     "start_time": "2022-12-30T14:42:49.439532",
     "status": "completed"
    },
    "tags": []
   },
   "outputs": [
    {
     "data": {
      "image/png": "[encoded data removed]",
      "text/plain": [
       "<Figure size 432x288 with 1 Axes>"
      ]
     },
     "metadata": {
      "needs_background": "light"
     },
     "output_type": "display_data"
    }
   ],
   "source": [
    "cdf_age.plot()\n",
    "\n",
    "plt.xlabel('Age (years)')\n",
    "plt.ylabel('CDF')\n",
    "plt.title('Distribution of age');"
   ]
  },
  {
   "cell_type": "markdown",
   "id": "ef50a91f",
   "metadata": {
    "papermill": {
     "duration": 0.030009,
     "end_time": "2022-12-30T14:42:49.783980",
     "exception": false,
     "start_time": "2022-12-30T14:42:49.753971",
     "status": "completed"
    },
    "tags": []
   },
   "source": [
    "The $x$-axis is the ages, from 18 to 89.  The $y$-axis is the cumulative probabilities, from 0 to 1.\n",
    "\n",
    "`cdf_age` can be used as a function, so if you give it an age, it returns the corresponding probability (in a NumPy array)."
   ]
  },
  {
   "cell_type": "code",
   "execution_count": 31,
   "id": "1250df36",
   "metadata": {
    "execution": {
     "iopub.execute_input": "2022-12-30T14:42:49.849921Z",
     "iopub.status.busy": "2022-12-30T14:42:49.848506Z",
     "iopub.status.idle": "2022-12-30T14:42:49.857223Z",
     "shell.execute_reply": "2022-12-30T14:42:49.856198Z"
    },
    "papermill": {
     "duration": 0.044428,
     "end_time": "2022-12-30T14:42:49.859490",
     "exception": false,
     "start_time": "2022-12-30T14:42:49.815062",
     "status": "completed"
    },
    "tags": []
   },
   "outputs": [
    {
     "data": {
      "text/plain": [
       "array(0.63318676)"
      ]
     },
     "execution_count": 31,
     "metadata": {},
     "output_type": "execute_result"
    }
   ],
   "source": [
    "q = 51\n",
    "p = cdf_age(q)\n",
    "p"
   ]
  },
  {
   "cell_type": "markdown",
   "id": "eb7ef623",
   "metadata": {
    "papermill": {
     "duration": 0.03087,
     "end_time": "2022-12-30T14:42:49.920950",
     "exception": false,
     "start_time": "2022-12-30T14:42:49.890080",
     "status": "completed"
    },
    "tags": []
   },
   "source": [
    "`q` stands for \"quantity\", which is what we are looking up.  `p` stands for probability, which is the result.\n",
    "In this example, the quantity is age 51, and the corresponding probability is about `0.63`.\n",
    "That means that about 63% of the respondents are 51 years old or younger.\n",
    "\n",
    "The arrow in the following figure shows how you could read this value from the CDF, at least approximately."
   ]
  },
  {
   "cell_type": "code",
   "execution_count": 32,
   "id": "668f92d4",
   "metadata": {
    "execution": {
     "iopub.execute_input": "2022-12-30T14:42:49.999857Z",
     "iopub.status.busy": "2022-12-30T14:42:49.999425Z",
     "iopub.status.idle": "2022-12-30T14:42:50.014091Z",
     "shell.execute_reply": "2022-12-30T14:42:50.011303Z"
    },
    "papermill": {
     "duration": 0.057692,
     "end_time": "2022-12-30T14:42:50.017149",
     "exception": false,
     "start_time": "2022-12-30T14:42:49.959457",
     "status": "completed"
    },
    "tags": [
     "remove-cell"
    ]
   },
   "outputs": [],
   "source": [
    "def draw_line(p, q, x):\n",
    "    xs = [q, q, x]\n",
    "    ys = [0, p, p]\n",
    "    plt.plot(xs, ys, ':', color='gray')\n",
    "\n",
    "def draw_arrow_left(p, q, x):\n",
    "    dx = 3\n",
    "    dy = 0.025\n",
    "    xs = [x+dx, x, x+dx]\n",
    "    ys = [p-dy, p, p+dy]\n",
    "    plt.plot(xs, ys, ':', color='gray')\n",
    "    \n",
    "def draw_arrow_down(p, q, y):\n",
    "    dx = 1.25\n",
    "    dy = 0.045\n",
    "    xs = [q-dx, q, q+dx]\n",
    "    ys = [y+dy, y, y+dy]\n",
    "    plt.plot(xs, ys, ':', color='gray')"
   ]
  },
  {
   "cell_type": "code",
   "execution_count": 33,
   "id": "cd9dabe0",
   "metadata": {
    "execution": {
     "iopub.execute_input": "2022-12-30T14:42:50.099754Z",
     "iopub.status.busy": "2022-12-30T14:42:50.099317Z",
     "iopub.status.idle": "2022-12-30T14:42:50.334088Z",
     "shell.execute_reply": "2022-12-30T14:42:50.332706Z"
    },
    "papermill": {
     "duration": 0.276921,
     "end_time": "2022-12-30T14:42:50.336836",
     "exception": false,
     "start_time": "2022-12-30T14:42:50.059915",
     "status": "completed"
    },
    "tags": [
     "hide-input"
    ]
   },
   "outputs": [
    {
     "data": {
      "image/png": "[encoded data removed]",
      "text/plain": [
       "<Figure size 432x288 with 1 Axes>"
      ]
     },
     "metadata": {
      "needs_background": "light"
     },
     "output_type": "display_data"
    }
   ],
   "source": [
    "cdf_age.plot()\n",
    "\n",
    "x = 17\n",
    "draw_line(p, q, x)\n",
    "draw_arrow_left(p, q, x)\n",
    "\n",
    "plt.xlabel('Age (years)')\n",
    "plt.xlim(x-1, 91)\n",
    "plt.ylabel('CDF')\n",
    "plt.title('Distribution of age');"
   ]
  },
  {
   "cell_type": "markdown",
   "id": "3fce78bf",
   "metadata": {
    "papermill": {
     "duration": 0.032092,
     "end_time": "2022-12-30T14:42:50.400227",
     "exception": false,
     "start_time": "2022-12-30T14:42:50.368135",
     "status": "completed"
    },
    "tags": []
   },
   "source": [
    "The CDF is an invertible function, which means that if you have a probability, `p`, you can look up the corresponding quantity, `q`.\n",
    "`Cdf` provides a method called `inverse` that computes the inverse of the cumulative distribution function."
   ]
  },
  {
   "cell_type": "code",
   "execution_count": 34,
   "id": "a7091599",
   "metadata": {
    "execution": {
     "iopub.execute_input": "2022-12-30T14:42:50.463854Z",
     "iopub.status.busy": "2022-12-30T14:42:50.463455Z",
     "iopub.status.idle": "2022-12-30T14:42:50.473401Z",
     "shell.execute_reply": "2022-12-30T14:42:50.471855Z"
    },
    "papermill": {
     "duration": 0.045602,
     "end_time": "2022-12-30T14:42:50.476636",
     "exception": false,
     "start_time": "2022-12-30T14:42:50.431034",
     "status": "completed"
    },
    "tags": []
   },
   "outputs": [
    {
     "data": {
      "text/plain": [
       "array(31.)"
      ]
     },
     "execution_count": 34,
     "metadata": {},
     "output_type": "execute_result"
    }
   ],
   "source": [
    "p1 = 0.25\n",
    "q1 = cdf_age.inverse(p1)\n",
    "q1"
   ]
  },
  {
   "cell_type": "markdown",
   "id": "9867b840",
   "metadata": {
    "papermill": {
     "duration": 0.030582,
     "end_time": "2022-12-30T14:42:50.539873",
     "exception": false,
     "start_time": "2022-12-30T14:42:50.509291",
     "status": "completed"
    },
    "tags": []
   },
   "source": [
    "In this example, we look up the probability `0.25` and the result is `31`.  \n",
    "That means that 25% of the respondents are age 31 or less.  Another way to say the same thing is \"age 31 is the 25th percentile of this distribution\".\n",
    "\n",
    "If we look up probability `0.75`, it returns `59`, so 75% of the respondents are 59 or younger."
   ]
  },
  {
   "cell_type": "code",
   "execution_count": 35,
   "id": "e39f1984",
   "metadata": {
    "execution": {
     "iopub.execute_input": "2022-12-30T14:42:50.604567Z",
     "iopub.status.busy": "2022-12-30T14:42:50.603536Z",
     "iopub.status.idle": "2022-12-30T14:42:50.613775Z",
     "shell.execute_reply": "2022-12-30T14:42:50.612468Z"
    },
    "papermill": {
     "duration": 0.045132,
     "end_time": "2022-12-30T14:42:50.616118",
     "exception": false,
     "start_time": "2022-12-30T14:42:50.570986",
     "status": "completed"
    },
    "tags": []
   },
   "outputs": [
    {
     "data": {
      "text/plain": [
       "array(59.)"
      ]
     },
     "execution_count": 35,
     "metadata": {},
     "output_type": "execute_result"
    }
   ],
   "source": [
    "p2 = 0.75\n",
    "q2 = cdf_age.inverse(p2)\n",
    "q2"
   ]
  },
  {
   "cell_type": "markdown",
   "id": "d9c270a5",
   "metadata": {
    "papermill": {
     "duration": 0.032357,
     "end_time": "2022-12-30T14:42:50.679659",
     "exception": false,
     "start_time": "2022-12-30T14:42:50.647302",
     "status": "completed"
    },
    "tags": []
   },
   "source": [
    "In the following figure, the arrows show how you could read these values from the CDF."
   ]
  },
  {
   "cell_type": "code",
   "execution_count": 36,
   "id": "796c3c3a",
   "metadata": {
    "execution": {
     "iopub.execute_input": "2022-12-30T14:42:50.745005Z",
     "iopub.status.busy": "2022-12-30T14:42:50.744245Z",
     "iopub.status.idle": "2022-12-30T14:42:51.160801Z",
     "shell.execute_reply": "2022-12-30T14:42:51.159774Z"
    },
    "papermill": {
     "duration": 0.452173,
     "end_time": "2022-12-30T14:42:51.163155",
     "exception": false,
     "start_time": "2022-12-30T14:42:50.710982",
     "status": "completed"
    },
    "tags": []
   },
   "outputs": [
    {
     "data": {
      "image/png": "[encoded data removed]",
      "text/plain": [
       "<Figure size 432x288 with 1 Axes>"
      ]
     },
     "metadata": {
      "needs_background": "light"
     },
     "output_type": "display_data"
    }
   ],
   "source": [
    "cdf_age.plot()\n",
    "\n",
    "x = 17\n",
    "draw_line(p1, q1, x)\n",
    "draw_arrow_down(p1, q1, 0)\n",
    "\n",
    "draw_line(p2, q2, x)\n",
    "draw_arrow_down(p2, q2, 0)\n",
    "\n",
    "plt.xlabel('Age (years)')\n",
    "plt.xlim(x-1, 91)\n",
    "plt.ylabel('CDF')\n",
    "plt.title('Distribution of age');"
   ]
  },
  {
   "cell_type": "markdown",
   "id": "5d772bed",
   "metadata": {
    "papermill": {
     "duration": 0.040632,
     "end_time": "2022-12-30T14:42:51.242616",
     "exception": false,
     "start_time": "2022-12-30T14:42:51.201984",
     "status": "completed"
    },
    "tags": []
   },
   "source": [
    "The distance from the 25th to the 75th percentile is called the **interquartile range**, or IQR.  It measures the spread of the distribution, so it is similar to standard deviation or variance.\n",
    "\n",
    "Because it is based on percentiles, it doesn't get thrown off by extreme values or outliers, the way standard deviation does.  So IQR is more **robust** than variance, which means it works well even if there are errors in the data or extreme values."
   ]
  },
  {
   "cell_type": "markdown",
   "id": "4daccec7",
   "metadata": {
    "papermill": {
     "duration": 0.031322,
     "end_time": "2022-12-30T14:42:51.305882",
     "exception": false,
     "start_time": "2022-12-30T14:42:51.274560",
     "status": "completed"
    },
    "tags": []
   },
   "source": [
    "**Exercise:**  Using `cdf_age`, compute the fraction of the respondents in the GSS dataset that are *older* than 65."
   ]
  },
  {
   "cell_type": "code",
   "execution_count": 37,
   "id": "8d983649",
   "metadata": {
    "execution": {
     "iopub.execute_input": "2022-12-30T14:42:51.382232Z",
     "iopub.status.busy": "2022-12-30T14:42:51.381792Z",
     "iopub.status.idle": "2022-12-30T14:42:51.390320Z",
     "shell.execute_reply": "2022-12-30T14:42:51.388926Z"
    },
    "papermill": {
     "duration": 0.052286,
     "end_time": "2022-12-30T14:42:51.392815",
     "exception": false,
     "start_time": "2022-12-30T14:42:51.340529",
     "status": "completed"
    },
    "tags": [
     "remove-cell"
    ]
   },
   "outputs": [
    {
     "data": {
      "text/plain": [
       "0.16757501625739324"
      ]
     },
     "execution_count": 37,
     "metadata": {},
     "output_type": "execute_result"
    }
   ],
   "source": [
    "# Solution\n",
    "\n",
    "1 - cdf_age(65)"
   ]
  },
  {
   "cell_type": "markdown",
   "id": "3dd04a48",
   "metadata": {
    "papermill": {
     "duration": 0.03134,
     "end_time": "2022-12-30T14:42:51.457501",
     "exception": false,
     "start_time": "2022-12-30T14:42:51.426161",
     "status": "completed"
    },
    "tags": []
   },
   "source": [
    "**Exercise:** The distribution of income in almost every country is long-tailed, which means there are a small number of people with very high incomes.\n",
    "In the GSS dataset, the column `REALINC` represents total household income, converted to 1986 dollars.  We can get a sense of the shape of this distribution by plotting the CDF.\n",
    "\n",
    "Select `REALINC` from the `gss` dataset, make a `Cdf` called `cdf_income`, and plot it.  Remember to label the axes!"
   ]
  },
  {
   "cell_type": "code",
   "execution_count": 38,
   "id": "031aaf1b",
   "metadata": {
    "execution": {
     "iopub.execute_input": "2022-12-30T14:42:51.521785Z",
     "iopub.status.busy": "2022-12-30T14:42:51.520941Z",
     "iopub.status.idle": "2022-12-30T14:42:51.738293Z",
     "shell.execute_reply": "2022-12-30T14:42:51.737049Z"
    },
    "papermill": {
     "duration": 0.252598,
     "end_time": "2022-12-30T14:42:51.741007",
     "exception": false,
     "start_time": "2022-12-30T14:42:51.488409",
     "status": "completed"
    },
    "tags": [
     "remove-cell"
    ]
   },
   "outputs": [
    {
     "data": {
      "image/png": "[encoded data removed]",
      "text/plain": [
       "<Figure size 432x288 with 1 Axes>"
      ]
     },
     "metadata": {
      "needs_background": "light"
     },
     "output_type": "display_data"
    }
   ],
   "source": [
    "# Solution\n",
    "\n",
    "# Select realinc\n",
    "realinc = gss['REALINC']\n",
    "\n",
    "# Make the CDF\n",
    "cdf_income = Cdf.from_seq(realinc)\n",
    "\n",
    "# Plot it\n",
    "cdf_income.plot()\n",
    "\n",
    "# Label the axes\n",
    "plt.xlabel('Income (1986 USD)')\n",
    "plt.xticks(range(0, 160000, 50000))\n",
    "plt.ylabel('CDF')\n",
    "plt.title('Distribution of income');"
   ]
  },
  {
   "cell_type": "markdown",
   "id": "65b1ffcb",
   "metadata": {
    "papermill": {
     "duration": 0.03143,
     "end_time": "2022-12-30T14:42:51.804660",
     "exception": false,
     "start_time": "2022-12-30T14:42:51.773230",
     "status": "completed"
    },
    "tags": []
   },
   "source": [
    "## Comparing Distributions\n",
    "\n",
    "So far we've seen two ways to represent distributions, PMFs and CDFs.  Now we'll use PMFs and CDFs to compare distributions, and we'll see the pros and cons of each.\n",
    "\n",
    "One way to compare distributions is to plot multiple PMFs on the same axes.  For example, suppose we want to compare the distribution of age for male and female respondents.\n",
    "\n",
    "First I'll create a Boolean Series that's true for male respondents."
   ]
  },
  {
   "cell_type": "code",
   "execution_count": 39,
   "id": "f2449007",
   "metadata": {
    "execution": {
     "iopub.execute_input": "2022-12-30T14:42:51.871706Z",
     "iopub.status.busy": "2022-12-30T14:42:51.870727Z",
     "iopub.status.idle": "2022-12-30T14:42:51.876992Z",
     "shell.execute_reply": "2022-12-30T14:42:51.876180Z"
    },
    "papermill": {
     "duration": 0.042629,
     "end_time": "2022-12-30T14:42:51.879308",
     "exception": false,
     "start_time": "2022-12-30T14:42:51.836679",
     "status": "completed"
    },
    "tags": []
   },
   "outputs": [],
   "source": [
    "male = (gss['SEX'] == 1)"
   ]
  },
  {
   "cell_type": "markdown",
   "id": "3976cf2f",
   "metadata": {
    "papermill": {
     "duration": 0.032162,
     "end_time": "2022-12-30T14:42:51.944849",
     "exception": false,
     "start_time": "2022-12-30T14:42:51.912687",
     "status": "completed"
    },
    "tags": []
   },
   "source": [
    "And another that's true for female respondents."
   ]
  },
  {
   "cell_type": "code",
   "execution_count": 40,
   "id": "000588ff",
   "metadata": {
    "execution": {
     "iopub.execute_input": "2022-12-30T14:42:52.013654Z",
     "iopub.status.busy": "2022-12-30T14:42:52.013145Z",
     "iopub.status.idle": "2022-12-30T14:42:52.019299Z",
     "shell.execute_reply": "2022-12-30T14:42:52.018186Z"
    },
    "papermill": {
     "duration": 0.042798,
     "end_time": "2022-12-30T14:42:52.021731",
     "exception": false,
     "start_time": "2022-12-30T14:42:51.978933",
     "status": "completed"
    },
    "tags": []
   },
   "outputs": [],
   "source": [
    "female = (gss['SEX'] == 2)"
   ]
  },
  {
   "cell_type": "markdown",
   "id": "1f4fcd34",
   "metadata": {
    "papermill": {
     "duration": 0.032158,
     "end_time": "2022-12-30T14:42:52.085897",
     "exception": false,
     "start_time": "2022-12-30T14:42:52.053739",
     "status": "completed"
    },
    "tags": []
   },
   "source": [
    "Now I can select ages for the male and female respondents."
   ]
  },
  {
   "cell_type": "code",
   "execution_count": 41,
   "id": "37aa340e",
   "metadata": {
    "execution": {
     "iopub.execute_input": "2022-12-30T14:42:52.151292Z",
     "iopub.status.busy": "2022-12-30T14:42:52.150875Z",
     "iopub.status.idle": "2022-12-30T14:42:52.158310Z",
     "shell.execute_reply": "2022-12-30T14:42:52.157078Z"
    },
    "papermill": {
     "duration": 0.043232,
     "end_time": "2022-12-30T14:42:52.160877",
     "exception": false,
     "start_time": "2022-12-30T14:42:52.117645",
     "status": "completed"
    },
    "tags": []
   },
   "outputs": [],
   "source": [
    "male_age = age[male]\n",
    "female_age = age[female]"
   ]
  },
  {
   "cell_type": "markdown",
   "id": "af591e78",
   "metadata": {
    "papermill": {
     "duration": 0.031673,
     "end_time": "2022-12-30T14:42:52.224670",
     "exception": false,
     "start_time": "2022-12-30T14:42:52.192997",
     "status": "completed"
    },
    "tags": []
   },
   "source": [
    "And plot a Pmf for each."
   ]
  },
  {
   "cell_type": "code",
   "execution_count": 42,
   "id": "91a6237f",
   "metadata": {
    "execution": {
     "iopub.execute_input": "2022-12-30T14:42:52.289841Z",
     "iopub.status.busy": "2022-12-30T14:42:52.289445Z",
     "iopub.status.idle": "2022-12-30T14:42:52.550209Z",
     "shell.execute_reply": "2022-12-30T14:42:52.549075Z"
    },
    "papermill": {
     "duration": 0.296492,
     "end_time": "2022-12-30T14:42:52.552906",
     "exception": false,
     "start_time": "2022-12-30T14:42:52.256414",
     "status": "completed"
    },
    "tags": []
   },
   "outputs": [
    {
     "data": {
      "image/png": "[encoded data removed]",
      "text/plain": [
       "<Figure size 432x288 with 1 Axes>"
      ]
     },
     "metadata": {
      "needs_background": "light"
     },
     "output_type": "display_data"
    }
   ],
   "source": [
    "pmf_male_age = Pmf.from_seq(male_age)\n",
    "pmf_male_age.plot(label='Male')\n",
    "\n",
    "pmf_female_age = Pmf.from_seq(female_age)\n",
    "pmf_female_age.plot(label='Female')\n",
    "\n",
    "plt.xlabel('Age (years)') \n",
    "plt.ylabel('PMF')\n",
    "plt.title('Distribution of age by sex')\n",
    "plt.legend();"
   ]
  },
  {
   "cell_type": "markdown",
   "id": "d2af6913",
   "metadata": {
    "papermill": {
     "duration": 0.032154,
     "end_time": "2022-12-30T14:42:52.618368",
     "exception": false,
     "start_time": "2022-12-30T14:42:52.586214",
     "status": "completed"
    },
    "tags": []
   },
   "source": [
    "The plot is pretty noisy.\n",
    "In the range from 40 to 50, it looks like the PMF is higher for men.\n",
    "And from 70 to 80, it is higher for women.\n",
    "But both of those differences might be due to random variation.\n",
    "\n",
    "Now let's do the same thing with CDFs; everything is the same except we replace `Pmf` with `Cdf`."
   ]
  },
  {
   "cell_type": "code",
   "execution_count": 43,
   "id": "6d4929d9",
   "metadata": {
    "execution": {
     "iopub.execute_input": "2022-12-30T14:42:52.686750Z",
     "iopub.status.busy": "2022-12-30T14:42:52.686343Z",
     "iopub.status.idle": "2022-12-30T14:42:52.954130Z",
     "shell.execute_reply": "2022-12-30T14:42:52.952636Z"
    },
    "papermill": {
     "duration": 0.305866,
     "end_time": "2022-12-30T14:42:52.956892",
     "exception": false,
     "start_time": "2022-12-30T14:42:52.651026",
     "status": "completed"
    },
    "tags": []
   },
   "outputs": [
    {
     "data": {
      "image/png": "[encoded data removed]",
      "text/plain": [
       "<Figure size 432x288 with 1 Axes>"
      ]
     },
     "metadata": {
      "needs_background": "light"
     },
     "output_type": "display_data"
    }
   ],
   "source": [
    "cdf_male_age = Cdf.from_seq(male_age)\n",
    "cdf_male_age.plot(label='Male')\n",
    "\n",
    "cdf_female_age = Cdf.from_seq(female_age)\n",
    "cdf_female_age.plot(label='Female')\n",
    "\n",
    "plt.xlabel('Age (years)') \n",
    "plt.ylabel('CDF')\n",
    "plt.title('Distribution of age by sex')\n",
    "plt.legend();"
   ]
  },
  {
   "cell_type": "markdown",
   "id": "98a3304e",
   "metadata": {
    "papermill": {
     "duration": 0.032408,
     "end_time": "2022-12-30T14:42:53.022342",
     "exception": false,
     "start_time": "2022-12-30T14:42:52.989934",
     "status": "completed"
    },
    "tags": []
   },
   "source": [
    "In general, CDFs are smoother than PMFs.  Because they smooth out randomness, we can often get a better view of real differences between distributions.\n",
    "In this case, the lines are close together until age 40; after that, the CDF is higher for men than women.\n",
    "So what does that mean?\n",
    "\n",
    "One way to interpret the difference is that the fraction of men below a given age is generally more than the fraction of women below the same age.\n",
    "For example, about 79% of men are 60 or less, compared to 76% of women."
   ]
  },
  {
   "cell_type": "code",
   "execution_count": 44,
   "id": "70e05534",
   "metadata": {
    "execution": {
     "iopub.execute_input": "2022-12-30T14:42:53.090750Z",
     "iopub.status.busy": "2022-12-30T14:42:53.090357Z",
     "iopub.status.idle": "2022-12-30T14:42:53.099491Z",
     "shell.execute_reply": "2022-12-30T14:42:53.097972Z"
    },
    "papermill": {
     "duration": 0.04665,
     "end_time": "2022-12-30T14:42:53.101809",
     "exception": false,
     "start_time": "2022-12-30T14:42:53.055159",
     "status": "completed"
    },
    "tags": []
   },
   "outputs": [
    {
     "data": {
      "text/plain": [
       "(array(0.78599958), array(0.75529908))"
      ]
     },
     "execution_count": 44,
     "metadata": {},
     "output_type": "execute_result"
    }
   ],
   "source": [
    "cdf_male_age(60), cdf_female_age(60)"
   ]
  },
  {
   "cell_type": "markdown",
   "id": "b87911f6",
   "metadata": {
    "papermill": {
     "duration": 0.032567,
     "end_time": "2022-12-30T14:42:53.167439",
     "exception": false,
     "start_time": "2022-12-30T14:42:53.134872",
     "status": "completed"
    },
    "tags": []
   },
   "source": [
    "Going the other way, we could also compare percentiles.\n",
    "For example, the median age woman is older than the median age man, by about one year."
   ]
  },
  {
   "cell_type": "code",
   "execution_count": 45,
   "id": "08996cfa",
   "metadata": {
    "execution": {
     "iopub.execute_input": "2022-12-30T14:42:53.235548Z",
     "iopub.status.busy": "2022-12-30T14:42:53.235130Z",
     "iopub.status.idle": "2022-12-30T14:42:53.244282Z",
     "shell.execute_reply": "2022-12-30T14:42:53.243046Z"
    },
    "papermill": {
     "duration": 0.046432,
     "end_time": "2022-12-30T14:42:53.246652",
     "exception": false,
     "start_time": "2022-12-30T14:42:53.200220",
     "status": "completed"
    },
    "tags": []
   },
   "outputs": [
    {
     "data": {
      "text/plain": [
       "(array(43.), array(44.))"
      ]
     },
     "execution_count": 45,
     "metadata": {},
     "output_type": "execute_result"
    }
   ],
   "source": [
    "cdf_male_age.inverse(0.5), cdf_female_age.inverse(0.5)"
   ]
  },
  {
   "cell_type": "markdown",
   "id": "6e44c49b",
   "metadata": {
    "papermill": {
     "duration": 0.033177,
     "end_time": "2022-12-30T14:42:53.313280",
     "exception": false,
     "start_time": "2022-12-30T14:42:53.280103",
     "status": "completed"
    },
    "tags": []
   },
   "source": [
    "**Exercise:** What fraction of men are over 80?  What fraction of women?"
   ]
  },
  {
   "cell_type": "code",
   "execution_count": 46,
   "id": "0852761b",
   "metadata": {
    "execution": {
     "iopub.execute_input": "2022-12-30T14:42:53.382932Z",
     "iopub.status.busy": "2022-12-30T14:42:53.382020Z",
     "iopub.status.idle": "2022-12-30T14:42:53.390262Z",
     "shell.execute_reply": "2022-12-30T14:42:53.389179Z"
    },
    "papermill": {
     "duration": 0.0449,
     "end_time": "2022-12-30T14:42:53.392472",
     "exception": false,
     "start_time": "2022-12-30T14:42:53.347572",
     "status": "completed"
    },
    "tags": [
     "remove-cell"
    ]
   },
   "outputs": [
    {
     "data": {
      "text/plain": [
       "(0.0258566323313012, 0.03806458772611254)"
      ]
     },
     "execution_count": 46,
     "metadata": {},
     "output_type": "execute_result"
    }
   ],
   "source": [
    "# Solution\n",
    "\n",
    "1-cdf_male_age(80), 1-cdf_female_age(80)"
   ]
  },
  {
   "cell_type": "markdown",
   "id": "b86cc338",
   "metadata": {
    "papermill": {
     "duration": 0.032829,
     "end_time": "2022-12-30T14:42:53.458837",
     "exception": false,
     "start_time": "2022-12-30T14:42:53.426008",
     "status": "completed"
    },
    "tags": []
   },
   "source": [
    "## Income\n",
    "\n",
    "As another example, let's look at household income and compare the distribution before and after 1995 (I chose 1995 because it's roughly the midpoint of the survey).\n",
    "The variable `REALINC` represents household income in 1986 dollars.\n",
    "\n",
    "I'll make a Boolean `Series` to select respondents interviewed before and after 1995."
   ]
  },
  {
   "cell_type": "code",
   "execution_count": 47,
   "id": "5640fd93",
   "metadata": {
    "execution": {
     "iopub.execute_input": "2022-12-30T14:42:53.527130Z",
     "iopub.status.busy": "2022-12-30T14:42:53.526697Z",
     "iopub.status.idle": "2022-12-30T14:42:53.533548Z",
     "shell.execute_reply": "2022-12-30T14:42:53.532192Z"
    },
    "papermill": {
     "duration": 0.044149,
     "end_time": "2022-12-30T14:42:53.536039",
     "exception": false,
     "start_time": "2022-12-30T14:42:53.491890",
     "status": "completed"
    },
    "tags": []
   },
   "outputs": [],
   "source": [
    "pre95 = (gss['YEAR'] < 1995)\n",
    "post95 = (gss['YEAR'] >= 1995)"
   ]
  },
  {
   "cell_type": "markdown",
   "id": "223367d2",
   "metadata": {
    "papermill": {
     "duration": 0.033827,
     "end_time": "2022-12-30T14:42:53.603978",
     "exception": false,
     "start_time": "2022-12-30T14:42:53.570151",
     "status": "completed"
    },
    "tags": []
   },
   "source": [
    "Now we can plot the PMFs."
   ]
  },
  {
   "cell_type": "code",
   "execution_count": 48,
   "id": "9a277e23",
   "metadata": {
    "execution": {
     "iopub.execute_input": "2022-12-30T14:42:53.674729Z",
     "iopub.status.busy": "2022-12-30T14:42:53.674313Z",
     "iopub.status.idle": "2022-12-30T14:42:53.973188Z",
     "shell.execute_reply": "2022-12-30T14:42:53.972345Z"
    },
    "papermill": {
     "duration": 0.336735,
     "end_time": "2022-12-30T14:42:53.975769",
     "exception": false,
     "start_time": "2022-12-30T14:42:53.639034",
     "status": "completed"
    },
    "tags": []
   },
   "outputs": [
    {
     "data": {
      "image/png": "[encoded data removed]",
      "text/plain": [
       "<Figure size 432x288 with 1 Axes>"
      ]
     },
     "metadata": {
      "needs_background": "light"
     },
     "output_type": "display_data"
    }
   ],
   "source": [
    "income = gss['REALINC'].replace(0, np.nan)\n",
    "\n",
    "Pmf.from_seq(income[pre95]).plot(label='Before 1995')\n",
    "Pmf.from_seq(income[post95]).plot(label='After 1995')\n",
    "\n",
    "plt.xlabel('Income (1986 USD)')\n",
    "plt.ylabel('PMF')\n",
    "plt.title('Distribution of income')\n",
    "plt.legend();"
   ]
  },
  {
   "cell_type": "markdown",
   "id": "c319a497",
   "metadata": {
    "papermill": {
     "duration": 0.034653,
     "end_time": "2022-12-30T14:42:54.044968",
     "exception": false,
     "start_time": "2022-12-30T14:42:54.010315",
     "status": "completed"
    },
    "tags": []
   },
   "source": [
    "There are a lot of unique values in this distribution, and none of them appear very often.  As a result, the PMF is so noisy and we can't really see the shape of the distribution.\n",
    "\n",
    "It's also hard to compare the distributions.\n",
    "It looks like there are more people with high incomes after 1995, but it's hard to tell.  We can get a clearer picture with a CDF."
   ]
  },
  {
   "cell_type": "code",
   "execution_count": 49,
   "id": "46aa4612",
   "metadata": {
    "execution": {
     "iopub.execute_input": "2022-12-30T14:42:54.115804Z",
     "iopub.status.busy": "2022-12-30T14:42:54.114942Z",
     "iopub.status.idle": "2022-12-30T14:42:54.394154Z",
     "shell.execute_reply": "2022-12-30T14:42:54.393265Z"
    },
    "papermill": {
     "duration": 0.317137,
     "end_time": "2022-12-30T14:42:54.396735",
     "exception": false,
     "start_time": "2022-12-30T14:42:54.079598",
     "status": "completed"
    },
    "tags": []
   },
   "outputs": [
    {
     "data": {
      "image/png": "[encoded data removed]",
      "text/plain": [
       "<Figure size 432x288 with 1 Axes>"
      ]
     },
     "metadata": {
      "needs_background": "light"
     },
     "output_type": "display_data"
    }
   ],
   "source": [
    "Cdf.from_seq(income[pre95]).plot(label='Before 1995')\n",
    "Cdf.from_seq(income[post95]).plot(label='After 1995')\n",
    "\n",
    "plt.xlabel('Income (1986 USD)')\n",
    "plt.ylabel('CDF')\n",
    "plt.title('Distribution of income')\n",
    "plt.legend();"
   ]
  },
  {
   "cell_type": "markdown",
   "id": "c7ebc07a",
   "metadata": {
    "papermill": {
     "duration": 0.035065,
     "end_time": "2022-12-30T14:42:54.468070",
     "exception": false,
     "start_time": "2022-12-30T14:42:54.433005",
     "status": "completed"
    },
    "tags": []
   },
   "source": [
    "Below $30,000 the CDFs are almost identical; above that, we can see that the post-1995 distribution is shifted to the right.\n",
    "In other words, the fraction of people with high incomes is about the same, but the income of high earners has increased.\n",
    "\n",
    "In general, I recommend CDFs for exploratory analysis.  They give you a clear view of the distribution, without too much noise, and they are good for comparing distributions, especially if you have more than two."
   ]
  },
  {
   "cell_type": "markdown",
   "id": "b0cc02b9",
   "metadata": {
    "papermill": {
     "duration": 0.03451,
     "end_time": "2022-12-30T14:42:54.537278",
     "exception": false,
     "start_time": "2022-12-30T14:42:54.502768",
     "status": "completed"
    },
    "tags": []
   },
   "source": [
    "**Exercise:** In the previous figure, the dollar amounts are big enough that the labels on the `x` axis are crowded.  Improve the figure by expressing income in 1000s of dollars (and update the `x` label accordingly)."
   ]
  },
  {
   "cell_type": "code",
   "execution_count": 50,
   "id": "7ea136bd",
   "metadata": {
    "execution": {
     "iopub.execute_input": "2022-12-30T14:42:54.608660Z",
     "iopub.status.busy": "2022-12-30T14:42:54.607564Z",
     "iopub.status.idle": "2022-12-30T14:42:54.887067Z",
     "shell.execute_reply": "2022-12-30T14:42:54.886081Z"
    },
    "papermill": {
     "duration": 0.318064,
     "end_time": "2022-12-30T14:42:54.889621",
     "exception": false,
     "start_time": "2022-12-30T14:42:54.571557",
     "status": "completed"
    },
    "tags": [
     "remove-cell"
    ]
   },
   "outputs": [
    {
     "data": {
      "image/png": "[encoded data removed]",
      "text/plain": [
       "<Figure size 432x288 with 1 Axes>"
      ]
     },
     "metadata": {
      "needs_background": "light"
     },
     "output_type": "display_data"
    }
   ],
   "source": [
    "# Solution\n",
    "\n",
    "Cdf.from_seq(income[pre95]/1000).plot(label='Before 1995')\n",
    "Cdf.from_seq(income[post95]/1000).plot(label='After 1995')\n",
    "\n",
    "plt.xlabel('Income (1000s 1986 USD)')\n",
    "plt.ylabel('CDF')\n",
    "plt.title('Distribution of income')\n",
    "plt.legend();"
   ]
  },
  {
   "cell_type": "markdown",
   "id": "56f6a6a1",
   "metadata": {
    "papermill": {
     "duration": 0.040809,
     "end_time": "2022-12-30T14:42:54.967554",
     "exception": false,
     "start_time": "2022-12-30T14:42:54.926745",
     "status": "completed"
    },
    "tags": []
   },
   "source": [
    "**Exercise:** Let's compare incomes for different levels of education in the GSS dataset\n",
    "\n",
    "To do that we'll create Boolean Series to identify respondents with different levels of education.\n",
    "\n",
    "* In the U.S, 12 years of education usually means the respondent has completed high school (secondary education).  \n",
    "\n",
    "* A respondent with 14 years of education has probably completed an associate degree (two years of college)\n",
    "\n",
    "* Someone with 16 years has probably completed a bachelor's degree (four years of college or university).\n",
    "\n",
    "Define Boolean `Series` named `high`, `assc`, and `bach` that are true for respondents with\n",
    "\n",
    "* 12 or fewer years of education,\n",
    "\n",
    "* 13, 14, or 15 years, and\n",
    "\n",
    "* 16 or more.\n",
    "\n",
    "Compute and plot the distribution of income for each group.  Remember to label the CDFs, display a legend, and label the axes.\n",
    "Write a few sentences that describe and interpret the results."
   ]
  },
  {
   "cell_type": "code",
   "execution_count": 51,
   "id": "f7abcee4",
   "metadata": {
    "execution": {
     "iopub.execute_input": "2022-12-30T14:42:55.038462Z",
     "iopub.status.busy": "2022-12-30T14:42:55.038015Z",
     "iopub.status.idle": "2022-12-30T14:42:55.045933Z",
     "shell.execute_reply": "2022-12-30T14:42:55.044570Z"
    },
    "papermill": {
     "duration": 0.046265,
     "end_time": "2022-12-30T14:42:55.048469",
     "exception": false,
     "start_time": "2022-12-30T14:42:55.002204",
     "status": "completed"
    },
    "tags": [
     "remove-cell"
    ]
   },
   "outputs": [],
   "source": [
    "# Solution\n",
    "\n",
    "# Select educ\n",
    "educ = gss['EDUC']\n",
    "\n",
    "# Bachelor's degree\n",
    "bach = (educ >= 16)\n",
    "\n",
    "# Associate degree\n",
    "assc = (educ >= 14) & (educ < 16)\n",
    "\n",
    "# High school\n",
    "high = (educ <= 12)"
   ]
  },
  {
   "cell_type": "code",
   "execution_count": 52,
   "id": "af9f8ff1",
   "metadata": {
    "execution": {
     "iopub.execute_input": "2022-12-30T14:42:55.219789Z",
     "iopub.status.busy": "2022-12-30T14:42:55.219368Z",
     "iopub.status.idle": "2022-12-30T14:42:55.519539Z",
     "shell.execute_reply": "2022-12-30T14:42:55.518384Z"
    },
    "papermill": {
     "duration": 0.341008,
     "end_time": "2022-12-30T14:42:55.522711",
     "exception": false,
     "start_time": "2022-12-30T14:42:55.181703",
     "status": "completed"
    },
    "tags": [
     "remove-cell"
    ]
   },
   "outputs": [
    {
     "data": {
      "image/png": "[encoded data removed]",
      "text/plain": [
       "<Figure size 432x288 with 1 Axes>"
      ]
     },
     "metadata": {
      "needs_background": "light"
     },
     "output_type": "display_data"
    }
   ],
   "source": [
    "# Solution\n",
    "\n",
    "# Plot the CDFs\n",
    "Cdf.from_seq(income[high]).plot(label='High school')\n",
    "Cdf.from_seq(income[assc]).plot(label='Associate')\n",
    "Cdf.from_seq(income[bach]).plot(label='Bachelor')\n",
    "\n",
    "# Label the axes\n",
    "plt.xlabel('Income (1986 USD)')\n",
    "plt.ylabel('CDF')\n",
    "plt.legend();"
   ]
  },
  {
   "cell_type": "markdown",
   "id": "34b97abf",
   "metadata": {
    "papermill": {
     "duration": 0.035814,
     "end_time": "2022-12-30T14:42:55.593019",
     "exception": false,
     "start_time": "2022-12-30T14:42:55.557205",
     "status": "completed"
    },
    "tags": []
   },
   "source": [
    "## Modeling Distributions\n",
    "\n",
    "Some distributions have names.  For example, you might be familiar with the normal distribution, also called the Gaussian distribution or the bell curve.  And you might have heard of others like the exponential distribution, binomial distribution, or maybe Poisson distribution.\n",
    "\n",
    "These \"distributions with names\" are called **analytic** because they are described by analytic mathematical functions, as contrasted with empirical distributions, which are based on data.\n",
    "\n",
    "It turns out that many things we measure in the world have distributions that are well approximated by analytic distributions, so these distributions are sometimes good models for the real world.  \n",
    "In this context, what I mean by a \"model\" is a simplified description of the world that is accurate enough for its intended purpose.\n",
    "\n",
    "In this section, we'll compute the CDF of a normal distribution and compare it to an empirical distribution of data.\n",
    "But before we get to real data, we'll start with fake data.\n",
    "\n",
    "The following statement uses NumPy's `random` library to generate 1000 values from a normal distribution with mean `0` and standard deviation `1`."
   ]
  },
  {
   "cell_type": "code",
   "execution_count": 53,
   "id": "bfbc34d0",
   "metadata": {
    "execution": {
     "iopub.execute_input": "2022-12-30T14:42:55.665478Z",
     "iopub.status.busy": "2022-12-30T14:42:55.665074Z",
     "iopub.status.idle": "2022-12-30T14:42:55.670499Z",
     "shell.execute_reply": "2022-12-30T14:42:55.669098Z"
    },
    "papermill": {
     "duration": 0.045524,
     "end_time": "2022-12-30T14:42:55.672879",
     "exception": false,
     "start_time": "2022-12-30T14:42:55.627355",
     "status": "completed"
    },
    "tags": [
     "hide-cell"
    ]
   },
   "outputs": [],
   "source": [
    "np.random.seed(17)"
   ]
  },
  {
   "cell_type": "code",
   "execution_count": 54,
   "id": "ee053562",
   "metadata": {
    "execution": {
     "iopub.execute_input": "2022-12-30T14:42:55.745012Z",
     "iopub.status.busy": "2022-12-30T14:42:55.744613Z",
     "iopub.status.idle": "2022-12-30T14:42:55.750320Z",
     "shell.execute_reply": "2022-12-30T14:42:55.748977Z"
    },
    "papermill": {
     "duration": 0.04482,
     "end_time": "2022-12-30T14:42:55.752850",
     "exception": false,
     "start_time": "2022-12-30T14:42:55.708030",
     "status": "completed"
    },
    "tags": []
   },
   "outputs": [],
   "source": [
    "sample = np.random.normal(size=1000)"
   ]
  },
  {
   "cell_type": "markdown",
   "id": "dd09110d",
   "metadata": {
    "papermill": {
     "duration": 0.037572,
     "end_time": "2022-12-30T14:42:55.827284",
     "exception": false,
     "start_time": "2022-12-30T14:42:55.789712",
     "status": "completed"
    },
    "tags": []
   },
   "source": [
    "Here's what the empirical distribution of the sample looks like."
   ]
  },
  {
   "cell_type": "code",
   "execution_count": 55,
   "id": "e319ee92",
   "metadata": {
    "execution": {
     "iopub.execute_input": "2022-12-30T14:42:55.897207Z",
     "iopub.status.busy": "2022-12-30T14:42:55.896703Z",
     "iopub.status.idle": "2022-12-30T14:42:56.150354Z",
     "shell.execute_reply": "2022-12-30T14:42:56.149083Z"
    },
    "papermill": {
     "duration": 0.291696,
     "end_time": "2022-12-30T14:42:56.153043",
     "exception": false,
     "start_time": "2022-12-30T14:42:55.861347",
     "status": "completed"
    },
    "tags": []
   },
   "outputs": [
    {
     "data": {
      "image/png": "[encoded data removed]",
      "text/plain": [
       "<Figure size 432x288 with 1 Axes>"
      ]
     },
     "metadata": {
      "needs_background": "light"
     },
     "output_type": "display_data"
    }
   ],
   "source": [
    "cdf_sample = Cdf.from_seq(sample)\n",
    "cdf_sample.plot(label='Random sample')\n",
    "\n",
    "plt.xlabel('x')\n",
    "plt.ylabel('CDF')\n",
    "plt.legend();"
   ]
  },
  {
   "cell_type": "markdown",
   "id": "c1fd9e92",
   "metadata": {
    "papermill": {
     "duration": 0.034008,
     "end_time": "2022-12-30T14:42:56.222054",
     "exception": false,
     "start_time": "2022-12-30T14:42:56.188046",
     "status": "completed"
    },
    "tags": []
   },
   "source": [
    "If we did not know that this sample was drawn from a normal distribution, and we wanted to check, we could compare the CDF of the data to the CDF of an ideal normal distribution, which we can use the SciPy library to compute."
   ]
  },
  {
   "cell_type": "code",
   "execution_count": 56,
   "id": "96655de1",
   "metadata": {
    "execution": {
     "iopub.execute_input": "2022-12-30T14:42:56.293355Z",
     "iopub.status.busy": "2022-12-30T14:42:56.292135Z",
     "iopub.status.idle": "2022-12-30T14:42:56.788719Z",
     "shell.execute_reply": "2022-12-30T14:42:56.787514Z"
    },
    "papermill": {
     "duration": 0.535248,
     "end_time": "2022-12-30T14:42:56.791410",
     "exception": false,
     "start_time": "2022-12-30T14:42:56.256162",
     "status": "completed"
    },
    "tags": []
   },
   "outputs": [],
   "source": [
    "from scipy.stats import norm\n",
    "\n",
    "xs = np.linspace(-3, 3)\n",
    "ys = norm(0, 1).cdf(xs)"
   ]
  },
  {
   "cell_type": "markdown",
   "id": "b1c4a5d5",
   "metadata": {
    "papermill": {
     "duration": 0.034111,
     "end_time": "2022-12-30T14:42:56.859964",
     "exception": false,
     "start_time": "2022-12-30T14:42:56.825853",
     "status": "completed"
    },
    "tags": []
   },
   "source": [
    "First we import `norm` from `scipy.stats`, which is a collection of functions related to statistics.\n",
    "\n",
    "Then we use `linspace()` to create an array of equally-spaced points from -3 to 3; those are the `x` values where we will evaluate the normal CDF.\n",
    "\n",
    "Next, `norm(0, 1)` creates an object that represents a normal distribution with mean `0` and standard deviation `1`.\n",
    "\n",
    "Finally, `cdf` computes the CDF of the normal distribution, evaluated at each of the `xs`.\n",
    "\n",
    "I'll plot the normal CDF with a gray line and then plot the CDF of the data again."
   ]
  },
  {
   "cell_type": "code",
   "execution_count": 57,
   "id": "83552b13",
   "metadata": {
    "execution": {
     "iopub.execute_input": "2022-12-30T14:42:56.931892Z",
     "iopub.status.busy": "2022-12-30T14:42:56.931017Z",
     "iopub.status.idle": "2022-12-30T14:42:57.194438Z",
     "shell.execute_reply": "2022-12-30T14:42:57.193183Z"
    },
    "papermill": {
     "duration": 0.30243,
     "end_time": "2022-12-30T14:42:57.197151",
     "exception": false,
     "start_time": "2022-12-30T14:42:56.894721",
     "status": "completed"
    },
    "tags": []
   },
   "outputs": [
    {
     "data": {
      "image/png": "[encoded data removed]",
      "text/plain": [
       "<Figure size 432x288 with 1 Axes>"
      ]
     },
     "metadata": {
      "needs_background": "light"
     },
     "output_type": "display_data"
    }
   ],
   "source": [
    "plt.plot(xs, ys, color='gray', label='Normal CDF')\n",
    "cdf_sample.plot(label='Random sample')\n",
    "\n",
    "plt.xlabel('x')\n",
    "plt.ylabel('CDF')\n",
    "plt.legend();"
   ]
  },
  {
   "cell_type": "markdown",
   "id": "d1c47406",
   "metadata": {
    "papermill": {
     "duration": 0.034465,
     "end_time": "2022-12-30T14:42:57.266416",
     "exception": false,
     "start_time": "2022-12-30T14:42:57.231951",
     "status": "completed"
    },
    "tags": []
   },
   "source": [
    "The CDF of the random sample agrees with the normal model.\n",
    "And that's not surprising because the data were actually sampled from a normal distribution.\n",
    "When we collect data in the real world, we do not expect it to fit a normal distribution as well as this.  In the next exercise, we'll try it and see. "
   ]
  },
  {
   "cell_type": "markdown",
   "id": "f6eb5c13",
   "metadata": {
    "papermill": {
     "duration": 0.035549,
     "end_time": "2022-12-30T14:42:57.337043",
     "exception": false,
     "start_time": "2022-12-30T14:42:57.301494",
     "status": "completed"
    },
    "tags": []
   },
   "source": [
    "**Exercise:** Is the normal distribution a good model for the distribution of ages in the U.S. population?\n",
    "\n",
    "To answer this question:\n",
    "\n",
    "* Compute the mean and standard deviation of ages in the GSS dataset.\n",
    "\n",
    "* Use `linspace` to create an array of equally spaced values between 18 and 89.\n",
    "\n",
    "* Use `norm` to create a normal distribution with the same mean and standard deviation as the data, then use it to compute the normal CDF for each value in the array.\n",
    "\n",
    "* Plot the normal CDF with a gray line.\n",
    "\n",
    "* Plot the CDF of the ages in the GSS.\n",
    "\n",
    "How well do the plotted CDFs agree?"
   ]
  },
  {
   "cell_type": "code",
   "execution_count": 58,
   "id": "7f540dda",
   "metadata": {
    "execution": {
     "iopub.execute_input": "2022-12-30T14:42:57.410989Z",
     "iopub.status.busy": "2022-12-30T14:42:57.410555Z",
     "iopub.status.idle": "2022-12-30T14:42:57.680780Z",
     "shell.execute_reply": "2022-12-30T14:42:57.679392Z"
    },
    "papermill": {
     "duration": 0.310073,
     "end_time": "2022-12-30T14:42:57.683365",
     "exception": false,
     "start_time": "2022-12-30T14:42:57.373292",
     "status": "completed"
    },
    "tags": [
     "remove-cell"
    ]
   },
   "outputs": [
    {
     "data": {
      "image/png": "[encoded data removed]",
      "text/plain": [
       "<Figure size 432x288 with 1 Axes>"
      ]
     },
     "metadata": {
      "needs_background": "light"
     },
     "output_type": "display_data"
    }
   ],
   "source": [
    "# Solution\n",
    "\n",
    "# The distribution of ages does not fit the normal distribution\n",
    "# particularly well.  And there's no particular reason it should.\n",
    "\n",
    "mu, sigma = age.mean(), age.std()\n",
    "\n",
    "xs = np.linspace(18, 89)\n",
    "ys = norm(mu, sigma).cdf(xs)\n",
    "plt.plot(xs, ys, color='gray', label='Normal CDF')\n",
    "\n",
    "cdf_age.plot(label='AGE')\n",
    "\n",
    "plt.xlabel('Age in years')\n",
    "plt.ylabel('CDF')\n",
    "plt.title('Distribution of ages and a normal model')\n",
    "plt.legend();"
   ]
  },
  {
   "cell_type": "markdown",
   "id": "0f6f1664",
   "metadata": {
    "papermill": {
     "duration": 0.035665,
     "end_time": "2022-12-30T14:42:57.754477",
     "exception": false,
     "start_time": "2022-12-30T14:42:57.718812",
     "status": "completed"
    },
    "tags": []
   },
   "source": [
    "**Exercise:** In many datasets, the distribution of income is approximately **lognormal**, which means that the logarithms of the incomes fit a normal distribution.  We'll see whether that's true for the GSS data. \n",
    "\n",
    "* Extract `REALINC` from `gss` and compute its logarithm using `np.log10()`.  Hint: Replace the value `0` with `NaN` before computing logarithms.\n",
    "\n",
    "* Compute the mean and standard deviation of the log-transformed incomes.\n",
    "\n",
    "* Use `norm` to make a normal distribution with the same mean and standard deviation as the log-transformed incomes.\n",
    "\n",
    "* Plot the CDF of the normal distribution.\n",
    "\n",
    "* Compute and plot the CDF of the log-transformed incomes.\n",
    "\n",
    "How similar are the CDFs of the log-transformed incomes and the normal distribution?"
   ]
  },
  {
   "cell_type": "code",
   "execution_count": 59,
   "id": "c0baa0ea",
   "metadata": {
    "execution": {
     "iopub.execute_input": "2022-12-30T14:42:57.827316Z",
     "iopub.status.busy": "2022-12-30T14:42:57.826755Z",
     "iopub.status.idle": "2022-12-30T14:42:57.840604Z",
     "shell.execute_reply": "2022-12-30T14:42:57.839006Z"
    },
    "papermill": {
     "duration": 0.053943,
     "end_time": "2022-12-30T14:42:57.843459",
     "exception": false,
     "start_time": "2022-12-30T14:42:57.789516",
     "status": "completed"
    },
    "tags": [
     "remove-cell"
    ]
   },
   "outputs": [
    {
     "name": "stdout",
     "output_type": "stream",
     "text": [
      "4.31863804458836 0.4458542109964441\n"
     ]
    }
   ],
   "source": [
    "# Solution\n",
    "\n",
    "# Extract realinc and compute its log\n",
    "realinc = gss['REALINC'].replace(0, np.nan)\n",
    "log_income = np.log10(realinc)\n",
    "\n",
    "# Compute mean and standard deviation\n",
    "mean = log_income.mean()\n",
    "std = log_income.std()\n",
    "print(mean, std)"
   ]
  },
  {
   "cell_type": "code",
   "execution_count": 60,
   "id": "a18618e5",
   "metadata": {
    "execution": {
     "iopub.execute_input": "2022-12-30T14:42:57.916327Z",
     "iopub.status.busy": "2022-12-30T14:42:57.915786Z",
     "iopub.status.idle": "2022-12-30T14:42:58.193632Z",
     "shell.execute_reply": "2022-12-30T14:42:58.192653Z"
    },
    "papermill": {
     "duration": 0.317329,
     "end_time": "2022-12-30T14:42:58.196050",
     "exception": false,
     "start_time": "2022-12-30T14:42:57.878721",
     "status": "completed"
    },
    "tags": [
     "remove-cell"
    ]
   },
   "outputs": [
    {
     "data": {
      "image/png": "[encoded data removed]",
      "text/plain": [
       "<Figure size 432x288 with 1 Axes>"
      ]
     },
     "metadata": {
      "needs_background": "light"
     },
     "output_type": "display_data"
    }
   ],
   "source": [
    "# Solution\n",
    "\n",
    "# Evaluate the model CDF\n",
    "xs = np.linspace(2, 5.5)\n",
    "ys = norm(mean, std).cdf(xs)\n",
    "\n",
    "# Plot the model CDF\n",
    "plt.plot(xs, ys, color='gray', label='Normal CDF')\n",
    "\n",
    "# Create and plot the Cdf of log_income\n",
    "Cdf.from_seq(log_income).plot(label='REALINC')\n",
    "    \n",
    "# Label the axes\n",
    "plt.xlabel('Real income in 1986 dollars (log10 scale)')\n",
    "plt.ylabel('CDF')\n",
    "plt.title('Distribution of income')\n",
    "plt.legend();"
   ]
  },
  {
   "cell_type": "markdown",
   "id": "7a0dc9c7",
   "metadata": {
    "papermill": {
     "duration": 0.035982,
     "end_time": "2022-12-30T14:42:58.267708",
     "exception": false,
     "start_time": "2022-12-30T14:42:58.231726",
     "status": "completed"
    },
    "tags": []
   },
   "source": [
    "## Probability Density Functions\n",
    "\n",
    "We have seen two ways to represent distributions, PMFs and CDFs.  Now we'll learn another way: a probability density function, or PDF.\n",
    "The `norm` function, which we used to compute the normal CDF, can also compute the normal PDF:"
   ]
  },
  {
   "cell_type": "code",
   "execution_count": 61,
   "id": "653c052c",
   "metadata": {
    "execution": {
     "iopub.execute_input": "2022-12-30T14:42:58.342786Z",
     "iopub.status.busy": "2022-12-30T14:42:58.342279Z",
     "iopub.status.idle": "2022-12-30T14:42:58.598718Z",
     "shell.execute_reply": "2022-12-30T14:42:58.597721Z"
    },
    "papermill": {
     "duration": 0.297713,
     "end_time": "2022-12-30T14:42:58.601406",
     "exception": false,
     "start_time": "2022-12-30T14:42:58.303693",
     "status": "completed"
    },
    "tags": []
   },
   "outputs": [
    {
     "data": {
      "image/png": "[encoded data removed]",
      "text/plain": [
       "<Figure size 432x288 with 1 Axes>"
      ]
     },
     "metadata": {
      "needs_background": "light"
     },
     "output_type": "display_data"
    }
   ],
   "source": [
    "xs = np.linspace(-3, 3)\n",
    "ys = norm(0,1).pdf(xs)\n",
    "plt.plot(xs, ys, color='gray', label='Normal PDF')\n",
    "\n",
    "plt.xlabel('x')\n",
    "plt.ylabel('PDF')\n",
    "plt.title('Normal density function')\n",
    "plt.legend();"
   ]
  },
  {
   "cell_type": "markdown",
   "id": "c7391952",
   "metadata": {
    "papermill": {
     "duration": 0.036397,
     "end_time": "2022-12-30T14:42:58.673979",
     "exception": false,
     "start_time": "2022-12-30T14:42:58.637582",
     "status": "completed"
    },
    "tags": []
   },
   "source": [
    "The normal PDF is the classic \"bell curve\".  \n",
    "\n",
    "It is tempting to compare the PMF of the data to the PDF of the normal distribution, but that doesn't work.\n",
    "Let's see what happens if we try:"
   ]
  },
  {
   "cell_type": "code",
   "execution_count": 62,
   "id": "d711ff2a",
   "metadata": {
    "execution": {
     "iopub.execute_input": "2022-12-30T14:42:58.750519Z",
     "iopub.status.busy": "2022-12-30T14:42:58.749666Z",
     "iopub.status.idle": "2022-12-30T14:42:59.249908Z",
     "shell.execute_reply": "2022-12-30T14:42:59.248603Z"
    },
    "papermill": {
     "duration": 0.541262,
     "end_time": "2022-12-30T14:42:59.252823",
     "exception": false,
     "start_time": "2022-12-30T14:42:58.711561",
     "status": "completed"
    },
    "tags": []
   },
   "outputs": [
    {
     "data": {
      "image/png": "[encoded data removed]",
      "text/plain": [
       "<Figure size 432x288 with 1 Axes>"
      ]
     },
     "metadata": {
      "needs_background": "light"
     },
     "output_type": "display_data"
    }
   ],
   "source": [
    "plt.plot(xs, ys, color='gray', label='Normal PDF')\n",
    "\n",
    "pmf_sample = Pmf.from_seq(sample)\n",
    "pmf_sample.plot(label='Random sample')\n",
    "\n",
    "plt.xlabel('x')\n",
    "plt.ylabel('PDF')\n",
    "plt.title('Normal density function')\n",
    "plt.legend();"
   ]
  },
  {
   "cell_type": "markdown",
   "id": "feff4e3c",
   "metadata": {
    "papermill": {
     "duration": 0.036364,
     "end_time": "2022-12-30T14:42:59.325946",
     "exception": false,
     "start_time": "2022-12-30T14:42:59.289582",
     "status": "completed"
    },
    "tags": []
   },
   "source": [
    "The PMF of the sample is a flat line across the bottom.  In the random sample, every value is unique, so they all have the same probability, one in 1000.\n",
    "\n",
    "However, we can use the points in the sample to estimate the PDF of the distribution they came from.\n",
    "This process is called **kernel density estimation**, or KDE.  It's a way of getting from a PMF, a probability mass function, to a PDF, a probability density function.\n",
    "\n",
    "To generate a KDE plot, we'll use the Seaborn library, which I'll import as `sns`.\n",
    "Seaborn provides `kdeplot`, which takes the sample, estimates the PDF, and plots it."
   ]
  },
  {
   "cell_type": "code",
   "execution_count": 63,
   "id": "f02ddfe8",
   "metadata": {
    "execution": {
     "iopub.execute_input": "2022-12-30T14:42:59.403578Z",
     "iopub.status.busy": "2022-12-30T14:42:59.402208Z",
     "iopub.status.idle": "2022-12-30T14:42:59.852090Z",
     "shell.execute_reply": "2022-12-30T14:42:59.850821Z"
    },
    "papermill": {
     "duration": 0.490476,
     "end_time": "2022-12-30T14:42:59.854887",
     "exception": false,
     "start_time": "2022-12-30T14:42:59.364411",
     "status": "completed"
    },
    "tags": []
   },
   "outputs": [
    {
     "data": {
      "image/png": "[encoded data removed]",
      "text/plain": [
       "<Figure size 432x288 with 1 Axes>"
      ]
     },
     "metadata": {
      "needs_background": "light"
     },
     "output_type": "display_data"
    }
   ],
   "source": [
    "import seaborn as sns\n",
    "\n",
    "sns.kdeplot(sample, label='Estimated sample PDF')\n",
    "\n",
    "plt.xlabel('x')\n",
    "plt.ylabel('PDF')\n",
    "plt.title('Normal density function')\n",
    "plt.legend();"
   ]
  },
  {
   "cell_type": "markdown",
   "id": "59a97aa5",
   "metadata": {
    "papermill": {
     "duration": 0.038316,
     "end_time": "2022-12-30T14:42:59.931044",
     "exception": false,
     "start_time": "2022-12-30T14:42:59.892728",
     "status": "completed"
    },
    "tags": []
   },
   "source": [
    "Now we can compare the KDE plot and the normal PDF."
   ]
  },
  {
   "cell_type": "code",
   "execution_count": 64,
   "id": "e4eee259",
   "metadata": {
    "execution": {
     "iopub.execute_input": "2022-12-30T14:43:00.019194Z",
     "iopub.status.busy": "2022-12-30T14:43:00.018290Z",
     "iopub.status.idle": "2022-12-30T14:43:00.306360Z",
     "shell.execute_reply": "2022-12-30T14:43:00.305025Z"
    },
    "papermill": {
     "duration": 0.332383,
     "end_time": "2022-12-30T14:43:00.309141",
     "exception": false,
     "start_time": "2022-12-30T14:42:59.976758",
     "status": "completed"
    },
    "tags": []
   },
   "outputs": [
    {
     "data": {
      "image/png": "[encoded data removed]",
      "text/plain": [
       "<Figure size 432x288 with 1 Axes>"
      ]
     },
     "metadata": {
      "needs_background": "light"
     },
     "output_type": "display_data"
    }
   ],
   "source": [
    "plt.plot(xs, ys, color='gray', label='Normal PDF')\n",
    "sns.kdeplot(sample, label='Estimated sample PDF')\n",
    "\n",
    "plt.xlabel('x')\n",
    "plt.ylabel('PDF')\n",
    "plt.title('Normal density function')\n",
    "plt.legend();"
   ]
  },
  {
   "cell_type": "markdown",
   "id": "3d368917",
   "metadata": {
    "papermill": {
     "duration": 0.039336,
     "end_time": "2022-12-30T14:43:00.387294",
     "exception": false,
     "start_time": "2022-12-30T14:43:00.347958",
     "status": "completed"
    },
    "tags": []
   },
   "source": [
    "The KDE plot matches the normal PDF pretty well, although the differences look bigger when we compare PDFs than they did with the CDFs.\n",
    "That means that the PDF is a more sensitive way to look for differences, but often it is too sensitive.  \n",
    "It's hard to tell whether apparent differences mean anything, or if they are just random, as in this case."
   ]
  },
  {
   "cell_type": "markdown",
   "id": "0b077cad",
   "metadata": {
    "papermill": {
     "duration": 0.03836,
     "end_time": "2022-12-30T14:43:00.465257",
     "exception": false,
     "start_time": "2022-12-30T14:43:00.426897",
     "status": "completed"
    },
    "tags": []
   },
   "source": [
    "**Exercise:** In a previous exercise, we asked \"Is the normal distribution a good model for the distribution of ages in the U.S. population?\"  To answer this question, we plotted the CDF of the data and compared it to the CDF of a normal distribution with the same mean and standard deviation.\n",
    "\n",
    "Now we'll compare the estimated density of the data with the normal PDF.\n",
    "\n",
    "* Again, compute the mean and standard deviation of ages in the GSS dataset.\n",
    "\n",
    "* Use `linspace` to create an array of values between 18 and 89.\n",
    "\n",
    "* Use `norm` to create a normal distribution with the same mean and standard deviation as the data, then use it to compute the normal PDF for each value in the array.\n",
    "\n",
    "* Plot the normal PDF with a gray line.\n",
    "\n",
    "* Use `sns.kdeplot` to estimate and plot the density of the ages in the GSS.  \n",
    "\n",
    "Note: Seaborn can't handle NaNs, so use `dropna` to drop them before calling `kdeplot`.\n",
    "\n",
    "How well do the PDF and KDE plots agree?"
   ]
  },
  {
   "cell_type": "code",
   "execution_count": 65,
   "id": "c8fb0baf",
   "metadata": {
    "execution": {
     "iopub.execute_input": "2022-12-30T14:43:00.544008Z",
     "iopub.status.busy": "2022-12-30T14:43:00.543308Z",
     "iopub.status.idle": "2022-12-30T14:43:01.095938Z",
     "shell.execute_reply": "2022-12-30T14:43:01.094526Z"
    },
    "papermill": {
     "duration": 0.595494,
     "end_time": "2022-12-30T14:43:01.098522",
     "exception": false,
     "start_time": "2022-12-30T14:43:00.503028",
     "status": "completed"
    },
    "tags": [
     "remove-cell"
    ]
   },
   "outputs": [
    {
     "data": {
      "image/png": "[encoded data removed]",
      "text/plain": [
       "<Figure size 432x288 with 1 Axes>"
      ]
     },
     "metadata": {
      "needs_background": "light"
     },
     "output_type": "display_data"
    }
   ],
   "source": [
    "# Solution\n",
    "\n",
    "mu, sigma = age.mean(), age.std()\n",
    "\n",
    "xs = np.linspace(18, 89)\n",
    "ys = norm(mu, sigma).pdf(xs)\n",
    "plt.plot(xs, ys, color='gray', label='Normal PDF')\n",
    "\n",
    "sns.kdeplot(age.dropna(), label='Estimated density')\n",
    "\n",
    "plt.xlabel('Age in years')\n",
    "plt.ylabel('PDF')\n",
    "plt.title('Distribution of ages and a normal model')\n",
    "plt.legend();"
   ]
  },
  {
   "cell_type": "markdown",
   "id": "cf1a3b01",
   "metadata": {
    "papermill": {
     "duration": 0.039663,
     "end_time": "2022-12-30T14:43:01.177687",
     "exception": false,
     "start_time": "2022-12-30T14:43:01.138024",
     "status": "completed"
    },
    "tags": []
   },
   "source": [
    "**Exercise:** In a previous exercise, we used CDFs to see if the distribution of income fits a lognormal distribution.  We can make the same comparison using a PDF and KDE.\n",
    "\n",
    "* Again, extract `REALINC` from `gss` and compute its logarithm using `np.log10()`.\n",
    "\n",
    "* Compute the mean and standard deviation of the log-transformed incomes.\n",
    "\n",
    "* Use `norm` to make a normal distribution with the same mean and standard deviation as the log-transformed incomes.\n",
    "\n",
    "* Plot the PDF of the normal distribution.\n",
    "\n",
    "* Use `sns.kdeplot()` to estimate and plot the density of the log-transformed incomes."
   ]
  },
  {
   "cell_type": "code",
   "execution_count": 66,
   "id": "452e0c59",
   "metadata": {
    "execution": {
     "iopub.execute_input": "2022-12-30T14:43:01.258991Z",
     "iopub.status.busy": "2022-12-30T14:43:01.258601Z",
     "iopub.status.idle": "2022-12-30T14:43:01.270459Z",
     "shell.execute_reply": "2022-12-30T14:43:01.268965Z"
    },
    "papermill": {
     "duration": 0.055657,
     "end_time": "2022-12-30T14:43:01.273219",
     "exception": false,
     "start_time": "2022-12-30T14:43:01.217562",
     "status": "completed"
    },
    "tags": [
     "remove-cell"
    ]
   },
   "outputs": [
    {
     "name": "stdout",
     "output_type": "stream",
     "text": [
      "4.31863804458836 0.4458542109964441\n"
     ]
    }
   ],
   "source": [
    "# Solution\n",
    "\n",
    "# Extract realinc and compute its log\n",
    "realinc = gss['REALINC'].replace(0, np.nan)\n",
    "log_income = np.log10(realinc)\n",
    "\n",
    "# Compute mean and standard deviation\n",
    "mean = log_income.mean()\n",
    "std = log_income.std()\n",
    "print(mean, std)"
   ]
  },
  {
   "cell_type": "code",
   "execution_count": 67,
   "id": "784da73b",
   "metadata": {
    "execution": {
     "iopub.execute_input": "2022-12-30T14:43:01.355390Z",
     "iopub.status.busy": "2022-12-30T14:43:01.354909Z",
     "iopub.status.idle": "2022-12-30T14:43:01.929263Z",
     "shell.execute_reply": "2022-12-30T14:43:01.927604Z"
    },
    "papermill": {
     "duration": 0.618593,
     "end_time": "2022-12-30T14:43:01.932093",
     "exception": false,
     "start_time": "2022-12-30T14:43:01.313500",
     "status": "completed"
    },
    "tags": [
     "remove-cell"
    ]
   },
   "outputs": [
    {
     "data": {
      "image/png": "[encoded data removed]",
      "text/plain": [
       "<Figure size 432x288 with 1 Axes>"
      ]
     },
     "metadata": {
      "needs_background": "light"
     },
     "output_type": "display_data"
    }
   ],
   "source": [
    "# Solution\n",
    "\n",
    "# Evaluate the normal PDF\n",
    "xs = np.linspace(2, 5.5)\n",
    "ys = norm(mean, std).pdf(xs)\n",
    "\n",
    "# Plot the model PDF\n",
    "plt.plot(xs, ys, color='gray', label='Normal PDF')\n",
    "\n",
    "# Plot the data KDE\n",
    "sns.kdeplot(log_income.dropna(), \n",
    "            label='Estimated density of income')\n",
    "    \n",
    "# Label the axes\n",
    "plt.xlabel('log10 of real income in 1986 dollars')\n",
    "plt.ylabel('PDF')\n",
    "plt.title('Distribution of income')\n",
    "plt.legend();"
   ]
  }
 ],
 "metadata": {
  "kernelspec": {
   "display_name": "Python 3",
   "language": "python",
   "name": "python3"
  },
  "language_info": {
   "codemirror_mode": {
    "name": "ipython",
    "version": 3
   },
   "file_extension": ".py",
   "mimetype": "text/x-python",
   "name": "python",
   "nbconvert_exporter": "python",
   "pygments_lexer": "ipython3",
   "version": "3.7.12"
  },
  "papermill": {
   "default_parameters": {},
   "duration": 57.002309,
   "end_time": "2022-12-30T14:43:02.997253",
   "environment_variables": {},
   "exception": null,
   "input_path": "__notebook__.ipynb",
   "output_path": "__notebook__.ipynb",
   "parameters": {},
   "start_time": "2022-12-30T14:42:05.994944",
   "version": "2.3.4"
  }
 },
 "nbformat": 4,
 "nbformat_minor": 5
}
