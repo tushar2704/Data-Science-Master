{
 "cells": [
  {
   "cell_type": "markdown",
   "id": "386cc6c8",
   "metadata": {
    "papermill": {
     "duration": 0.010661,
     "end_time": "2023-02-17T14:33:45.175120",
     "exception": false,
     "start_time": "2023-02-17T14:33:45.164459",
     "status": "completed"
    },
    "tags": []
   },
   "source": [
    "<center>\n",
    "    <img src=\"https://s3-api.us-geo.objectstorage.softlayer.net/cf-courses-data/CognitiveClass/Logos/organization_logo/organization_logo.png\" width=\"300\" alt=\"cognitiveclass.ai logo\"  />\n",
    "</center>\n"
   ]
  },
  {
   "cell_type": "markdown",
   "id": "3baeff7c",
   "metadata": {
    "papermill": {
     "duration": 0.008784,
     "end_time": "2023-02-17T14:33:45.193224",
     "exception": false,
     "start_time": "2023-02-17T14:33:45.184440",
     "status": "completed"
    },
    "tags": []
   },
   "source": [
    "<h1>Extracting and Visualizing Stock Data</h1>\n",
    "<h2>Description</h2>\n"
   ]
  },
  {
   "cell_type": "markdown",
   "id": "7a9294f2",
   "metadata": {
    "papermill": {
     "duration": 0.008706,
     "end_time": "2023-02-17T14:33:45.211103",
     "exception": false,
     "start_time": "2023-02-17T14:33:45.202397",
     "status": "completed"
    },
    "tags": []
   },
   "source": [
    "Extracting essential data from a dataset and displaying it is a necessary part of data science; therefore individuals can make correct decisions based on the data. In this assignment, you will extract some stock data, you will then display this data in a graph.\n"
   ]
  },
  {
   "cell_type": "markdown",
   "id": "1971a8a6",
   "metadata": {
    "papermill": {
     "duration": 0.008681,
     "end_time": "2023-02-17T14:33:45.228741",
     "exception": false,
     "start_time": "2023-02-17T14:33:45.220060",
     "status": "completed"
    },
    "tags": []
   },
   "source": [
    "<h2>Table of Contents</h2>\n",
    "<div class=\"alert alert-block alert-info\" style=\"margin-top: 20px\">\n",
    "    <ul>\n",
    "        <li>Define a Function that Makes a Graph</li>\n",
    "        <li>Question 1: Use yfinance to Extract Stock Data</li>\n",
    "        <li>Question 2: Use Webscraping to Extract Tesla Revenue Data</li>\n",
    "        <li>Question 3: Use yfinance to Extract Stock Data</li>\n",
    "        <li>Question 4: Use Webscraping to Extract GME Revenue Data</li>\n",
    "        <li>Question 5: Plot Tesla Stock Graph</li>\n",
    "        <li>Question 6: Plot GameStop Stock Graph</li>\n",
    "    </ul>\n",
    "<p>\n",
    "    Estimated Time Needed: <strong>30 min</strong></p>\n",
    "</div>\n",
    "\n",
    "<hr>\n"
   ]
  },
  {
   "cell_type": "code",
   "execution_count": 1,
   "id": "73dc1cb6",
   "metadata": {
    "execution": {
     "iopub.execute_input": "2023-02-17T14:33:45.249362Z",
     "iopub.status.busy": "2023-02-17T14:33:45.248558Z",
     "iopub.status.idle": "2023-02-17T14:34:48.714126Z",
     "shell.execute_reply": "2023-02-17T14:34:48.712650Z"
    },
    "papermill": {
     "duration": 63.479562,
     "end_time": "2023-02-17T14:34:48.717336",
     "exception": false,
     "start_time": "2023-02-17T14:33:45.237774",
     "status": "completed"
    },
    "tags": []
   },
   "outputs": [
    {
     "name": "stdout",
     "output_type": "stream",
     "text": [
      "/bin/bash: /opt/conda/lib/libtinfo.so.6: no version information available (required by /bin/bash)\r\n",
      "Collecting yfinance==0.1.67\r\n",
      "  Downloading yfinance-0.1.67-py2.py3-none-any.whl (25 kB)\r\n",
      "Collecting multitasking>=0.0.7\r\n",
      "  Downloading multitasking-0.0.11-py3-none-any.whl (8.5 kB)\r\n",
      "Requirement already satisfied: pandas>=0.24 in /opt/conda/lib/python3.7/site-packages (from yfinance==0.1.67) (1.3.5)\r\n",
      "Requirement already satisfied: lxml>=4.5.1 in /opt/conda/lib/python3.7/site-packages (from yfinance==0.1.67) (4.9.1)\r\n",
      "Requirement already satisfied: numpy>=1.15 in /opt/conda/lib/python3.7/site-packages (from yfinance==0.1.67) (1.21.6)\r\n",
      "Requirement already satisfied: requests>=2.20 in /opt/conda/lib/python3.7/site-packages (from yfinance==0.1.67) (2.28.1)\r\n",
      "Requirement already satisfied: python-dateutil>=2.7.3 in /opt/conda/lib/python3.7/site-packages (from pandas>=0.24->yfinance==0.1.67) (2.8.2)\r\n",
      "Requirement already satisfied: pytz>=2017.3 in /opt/conda/lib/python3.7/site-packages (from pandas>=0.24->yfinance==0.1.67) (2022.2.1)\r\n",
      "Requirement already satisfied: charset-normalizer<3,>=2 in /opt/conda/lib/python3.7/site-packages (from requests>=2.20->yfinance==0.1.67) (2.1.1)\r\n",
      "Requirement already satisfied: urllib3<1.27,>=1.21.1 in /opt/conda/lib/python3.7/site-packages (from requests>=2.20->yfinance==0.1.67) (1.26.11)\r\n",
      "Requirement already satisfied: certifi>=2017.4.17 in /opt/conda/lib/python3.7/site-packages (from requests>=2.20->yfinance==0.1.67) (2022.12.7)\r\n",
      "Requirement already satisfied: idna<4,>=2.5 in /opt/conda/lib/python3.7/site-packages (from requests>=2.20->yfinance==0.1.67) (3.3)\r\n",
      "Requirement already satisfied: six>=1.5 in /opt/conda/lib/python3.7/site-packages (from python-dateutil>=2.7.3->pandas>=0.24->yfinance==0.1.67) (1.16.0)\r\n",
      "Installing collected packages: multitasking, yfinance\r\n",
      "Successfully installed multitasking-0.0.11 yfinance-0.1.67\r\n",
      "\u001b[33mWARNING: Running pip as the 'root' user can result in broken permissions and conflicting behaviour with the system package manager. It is recommended to use a virtual environment instead: https://pip.pypa.io/warnings/venv\u001b[0m\u001b[33m\r\n",
      "\u001b[0m/bin/bash: /opt/conda/lib/libtinfo.so.6: no version information available (required by /bin/bash)\r\n",
      "\r\n",
      "                  __    __    __    __\r\n",
      "                 /  \\  /  \\  /  \\  /  \\\r\n",
      "                /    \\/    \\/    \\/    \\\r\n",
      "███████████████/  /██/  /██/  /██/  /████████████████████████\r\n",
      "              /  / \\   / \\   / \\   / \\  \\____\r\n",
      "             /  /   \\_/   \\_/   \\_/   \\    o \\__,\r\n",
      "            / _/                       \\_____/  `\r\n",
      "            |/\r\n",
      "        ███╗   ███╗ █████╗ ███╗   ███╗██████╗  █████╗\r\n",
      "        ████╗ ████║██╔══██╗████╗ ████║██╔══██╗██╔══██╗\r\n",
      "        ██╔████╔██║███████║██╔████╔██║██████╔╝███████║\r\n",
      "        ██║╚██╔╝██║██╔══██║██║╚██╔╝██║██╔══██╗██╔══██║\r\n",
      "        ██║ ╚═╝ ██║██║  ██║██║ ╚═╝ ██║██████╔╝██║  ██║\r\n",
      "        ╚═╝     ╚═╝╚═╝  ╚═╝╚═╝     ╚═╝╚═════╝ ╚═╝  ╚═╝\r\n",
      "\r\n",
      "        mamba (0.25.0) supported by @QuantStack\r\n",
      "\r\n",
      "        GitHub:  https://github.com/mamba-org/mamba\r\n",
      "        Twitter: https://twitter.com/QuantStack\r\n",
      "\r\n",
      "█████████████████████████████████████████████████████████████\r\n",
      "\r\n",
      "\r\n",
      "Looking for: ['bs4==4.10.0']\r\n",
      "\r\n",
      "\u001b[?25l\u001b[2K\u001b[0G[+] 0.0s\r\n",
      "\u001b[2K\u001b[1A\u001b[2K\u001b[0G[+] 0.1s\r\n",
      "rapidsai/linux-64    \u001b[90m━━━━━━━━━━╸\u001b[0m\u001b[33m━━━━━━━━━━━━\u001b[0m   0.0 B /  ??.?MB @  ??.?MB/s  0.1s\r\n",
      "rapidsai/noarch      \u001b[90m━━━━━━━━━━━╸\u001b[0m\u001b[33m━━━━━━━━━━━\u001b[0m   0.0 B /  ??.?MB @  ??.?MB/s  0.1s\r\n",
      "nvidia/linux-64      \u001b[90m━━━━━━━╸\u001b[0m\u001b[33m━━━━━━━━━━━━━━━\u001b[0m   0.0 B /  ??.?MB @  ??.?MB/s  0.1s\r\n",
      "nvidia/noarch        \u001b[90m━╸\u001b[0m\u001b[33m━━━━━━━━━━━━━━━╸\u001b[0m\u001b[90m━━━━━\u001b[0m   0.0 B /  ??.?MB @  ??.?MB/s  0.1s\r\n",
      "conda-forge/linux-64 \u001b[33m━━━━━━━━━━╸\u001b[0m\u001b[90m━━━━━━━━━━━━\u001b[0m   0.0 B /  ??.?MB @  ??.?MB/s  0.1s\u001b[2K\u001b[1A\u001b[2K\u001b[1A\u001b[2K\u001b[1A\u001b[2K\u001b[1A\u001b[2K\u001b[1A\u001b[2K\u001b[0G[+] 0.2s\r\n",
      "rapidsai/linux-64    \u001b[90m━━━━━━━━━━━╸\u001b[0m\u001b[33m━━━━━━━━━━━\u001b[0m   0.0 B /  ??.?MB @  ??.?MB/s  0.2s\r\n",
      "rapidsai/noarch      \u001b[90m━━━━━━━━━━━━╸\u001b[0m\u001b[33m━━━━━━━━━━\u001b[0m   0.0 B /  ??.?MB @  ??.?MB/s  0.2s\r\n",
      "nvidia/linux-64      \u001b[90m━━━━━━━━╸\u001b[0m\u001b[33m━━━━━━━━━━━━━━\u001b[0m   0.0 B /  ??.?MB @  ??.?MB/s  0.2s\r\n",
      "nvidia/noarch        \u001b[90m━━╸\u001b[0m\u001b[33m━━━━━━━━━━━━━━━╸\u001b[0m\u001b[90m━━━━\u001b[0m   0.0 B /  ??.?MB @  ??.?MB/s  0.2s\r\n",
      "conda-forge/linux-64 \u001b[33m━━━━━━━━━━━╸\u001b[0m\u001b[90m━━━━━━━━━━━\u001b[0m   0.0 B /  ??.?MB @  ??.?MB/s  0.2s\u001b[2K\u001b[1A\u001b[2K\u001b[1A\u001b[2K\u001b[1A\u001b[2K\u001b[1A\u001b[2K\u001b[1A\u001b[2K\u001b[0Gnvidia/linux-64                                               No change\r\n",
      "[+] 0.3s\r\n",
      "rapidsai/linux-64    \u001b[33m━━━━━━━╸\u001b[0m\u001b[90m━━━━━━━━━━━━━━━\u001b[0m   0.0 B /  ??.?MB @  ??.?MB/s  0.3s\r\n",
      "rapidsai/noarch      \u001b[33m━━━━━━━━╸\u001b[0m\u001b[90m━━━━━━━━━━━━━━\u001b[0m   0.0 B /  ??.?MB @  ??.?MB/s  0.3s\r\n",
      "nvidia/noarch        \u001b[90m━━━━╸\u001b[0m\u001b[33m━━━━━━━━━━━━━━━╸\u001b[0m\u001b[90m━━\u001b[0m   0.0 B /  ??.?MB @  ??.?MB/s  0.3s\r\n",
      "conda-forge/linux-64 \u001b[33m━━━━━━━━━━━━━━╸\u001b[0m\u001b[90m━━━━━━━━\u001b[0m   0.0 B /  ??.?MB @  ??.?MB/s  0.3s\r\n",
      "conda-forge/noarch   \u001b[33m━━━━━━━━━━━━━━━╸\u001b[0m\u001b[90m━━━━━━━\u001b[0m   0.0 B /  ??.?MB @  ??.?MB/s  0.0s\u001b[2K\u001b[1A\u001b[2K\u001b[1A\u001b[2K\u001b[1A\u001b[2K\u001b[1A\u001b[2K\u001b[1A\u001b[2K\u001b[0Gnvidia/noarch                                                 No change\r\n",
      "[+] 0.4s\r\n",
      "rapidsai/linux-64    \u001b[33m━━━━━━━━━╸\u001b[0m\u001b[90m━━━━━━━━━━━━━\u001b[0m   0.0 B /  ??.?MB @  ??.?MB/s  0.4s\r\n",
      "rapidsai/noarch      \u001b[33m━━━━━━━━━━╸\u001b[0m\u001b[90m━━━━━━━━━━━━\u001b[0m   0.0 B /  ??.?MB @  ??.?MB/s  0.4s\r\n",
      "conda-forge/linux-64 \u001b[33m━━━━━━━━━━━━━━━╸\u001b[0m\u001b[90m━━━━━━━\u001b[0m 216.7kB /  ??.?MB @ 620.2kB/s  0.4s\r\n",
      "conda-forge/noarch   \u001b[90m━━╸\u001b[0m\u001b[33m━━━━━━━━━━━━━━━╸\u001b[0m\u001b[90m━━━━\u001b[0m 296.2kB /  ??.?MB @ 783.8kB/s  0.1s\r\n",
      "pkgs/main/noarch     \u001b[90m━━━━━━━━━━╸\u001b[0m\u001b[33m━━━━━━━━━━━━\u001b[0m   0.0 B /  ??.?MB @  ??.?MB/s  0.1s\u001b[2K\u001b[1A\u001b[2K\u001b[1A\u001b[2K\u001b[1A\u001b[2K\u001b[1A\u001b[2K\u001b[1A\u001b[2K\u001b[0G[+] 0.5s\r\n",
      "rapidsai/linux-64    \u001b[33m━━━━━━━━━━╸\u001b[0m\u001b[90m━━━━━━━━━━━\u001b[0m   0.0 B @  ??.?MB/s             0.5s\r\n",
      "rapidsai/noarch      \u001b[33m━━━━━━━━━━━╸\u001b[0m\u001b[90m━━━━━━━━━━\u001b[0m   0.0 B @  ??.?MB/s             0.5s\r\n",
      "conda-forge/linux-64 \u001b[33m━━━━━━━━━━━━━━━╸\u001b[0m\u001b[90m━━━━━━\u001b[0m 444.4kB @   1.1MB/s             0.5s\r\n",
      "conda-forge/noarch   \u001b[90m━━╸\u001b[0m\u001b[33m━━━━━━━━━━━━━━━╸\u001b[0m\u001b[90m━━━\u001b[0m 547.1kB @   1.3MB/s             0.2s\r\n",
      "pkgs/main/noarch     ━━━━━━━━━━━━━━━━━━━━━━   0.0 B @  ??.?MB/s Downloaded  0.2s\r\n",
      "pkgs/r/noarch        \u001b[90m━━━━╸\u001b[0m\u001b[33m━━━━━━━━━━━━━━━╸\u001b[0m\u001b[90m━\u001b[0m   0.0 B @  ??.?MB/s             0.1s\u001b[2K\u001b[1A\u001b[2K\u001b[1A\u001b[2K\u001b[1A\u001b[2K\u001b[1A\u001b[2K\u001b[1A\u001b[2K\u001b[1A\u001b[2K\u001b[0Gpkgs/main/noarch                                              No change\r\n",
      "pkgs/r/noarch                                                 No change\r\n",
      "[+] 0.6s\r\n",
      "rapidsai/linux-64    \u001b[33m━━━━━━━━━━━━━╸\u001b[0m\u001b[90m━━━━━━━━━\u001b[0m   0.0 B /  ??.?MB @  ??.?MB/s  0.6s\r\n",
      "rapidsai/noarch      \u001b[33m━━━━━━━━━━━━━━╸\u001b[0m\u001b[90m━━━━━━━━\u001b[0m   0.0 B /  ??.?MB @  ??.?MB/s  0.6s\r\n",
      "conda-forge/linux-64 \u001b[90m━━╸\u001b[0m\u001b[33m━━━━━━━━━━━━━━━╸\u001b[0m\u001b[90m━━━━\u001b[0m 655.7kB /  ??.?MB @   1.1MB/s  0.6s\r\n",
      "conda-forge/noarch   \u001b[90m━━━━━╸\u001b[0m\u001b[33m━━━━━━━━━━━━━━━╸\u001b[0m\u001b[90m━\u001b[0m 657.6kB /  ??.?MB @   1.1MB/s  0.3s\r\n",
      "pkgs/main/linux-64   \u001b[33m━━━━━━━━━╸\u001b[0m\u001b[90m━━━━━━━━━━━━━\u001b[0m   0.0 B /  ??.?MB @  ??.?MB/s  0.0s\u001b[2K\u001b[1A\u001b[2K\u001b[1A\u001b[2K\u001b[1A\u001b[2K\u001b[1A\u001b[2K\u001b[1A\u001b[2K\u001b[0Grapidsai/linux-64                                             No change\r\n",
      "[+] 0.7s\r\n",
      "rapidsai/noarch      ━━━━━━━━━━━━━━━━━━━━━━   0.0 B @  ??.?MB/s Downloaded  0.7s\r\n",
      "conda-forge/linux-64 \u001b[90m━━━━╸\u001b[0m\u001b[33m━━━━━━━━━━━━━━━╸\u001b[0m\u001b[90m━\u001b[0m   1.1MB @   1.5MB/s             0.7s\r\n",
      "conda-forge/noarch   \u001b[90m━━━━━━╸\u001b[0m\u001b[33m━━━━━━━━━━━━━━━\u001b[0m   1.2MB @   1.8MB/s             0.4s\r\n",
      "pkgs/main/linux-64   \u001b[33m━━━━━━━━━━━╸\u001b[0m\u001b[90m━━━━━━━━━━\u001b[0m 106.6kB @ 155.1kB/s             0.1s\r\n",
      "pkgs/r/linux-64      \u001b[33m━━━━━━━━━━━╸\u001b[0m\u001b[90m━━━━━━━━━━\u001b[0m   0.0 B @  ??.?MB/s             0.1s\u001b[2K\u001b[1A\u001b[2K\u001b[1A\u001b[2K\u001b[1A\u001b[2K\u001b[1A\u001b[2K\u001b[1A\u001b[2K\u001b[0Grapidsai/noarch                                               No change\r\n",
      "[+] 0.8s\r\n",
      "conda-forge/linux-64 \u001b[90m━━━━╸\u001b[0m\u001b[33m━━━━━━━━━━━━━━━╸\u001b[0m\u001b[90m━\u001b[0m   1.1MB @   1.5MB/s             0.8s\r\n",
      "conda-forge/noarch   \u001b[90m━━━━━━╸\u001b[0m\u001b[33m━━━━━━━━━━━━━━━\u001b[0m   1.2MB @   1.8MB/s             0.5s\r\n",
      "pkgs/main/linux-64   \u001b[33m━━━━━━━━━━━╸\u001b[0m\u001b[90m━━━━━━━━━━\u001b[0m 106.6kB @ 155.1kB/s             0.2s\r\n",
      "pkgs/r/linux-64      ━━━━━━━━━━━━━━━━━━━━━━   0.0 B @  ??.?MB/s Downloaded  0.2s\u001b[2K\u001b[1A\u001b[2K\u001b[1A\u001b[2K\u001b[1A\u001b[2K\u001b[1A\u001b[2K\u001b[0Gpkgs/r/linux-64                                               No change\r\n",
      "[+] 0.9s\r\n",
      "conda-forge/linux-64 \u001b[90m━━━━━━╸\u001b[0m\u001b[33m━━━━━━━━━━━━━━━━\u001b[0m   1.5MB /  ??.?MB @   1.7MB/s  0.9s\r\n",
      "conda-forge/noarch   \u001b[90m━━━━━━━━━╸\u001b[0m\u001b[33m━━━━━━━━━━━━━\u001b[0m   1.8MB /  ??.?MB @   2.1MB/s  0.6s\r\n",
      "pkgs/main/linux-64   \u001b[33m━━━━━━━━━━━━━╸\u001b[0m\u001b[90m━━━━━━━━━\u001b[0m   1.1MB /  ??.?MB @   1.3MB/s  0.3s\u001b[2K\u001b[1A\u001b[2K\u001b[1A\u001b[2K\u001b[1A\u001b[2K\u001b[0G[+] 1.0s\r\n",
      "conda-forge/linux-64 \u001b[90m━━━━━━━━━╸\u001b[0m\u001b[33m━━━━━━━━━━━━━\u001b[0m   2.4MB /  ??.?MB @   2.4MB/s  1.0s\r\n",
      "conda-forge/noarch   \u001b[90m━━━━━━━━━━━╸\u001b[0m\u001b[33m━━━━━━━━━━━\u001b[0m   2.9MB /  ??.?MB @   3.0MB/s  0.7s\r\n",
      "pkgs/main/linux-64   \u001b[33m━━━━━━━━━━━━━━━╸\u001b[0m\u001b[90m━━━━━━━\u001b[0m   1.8MB /  ??.?MB @   1.8MB/s  0.4s\u001b[2K\u001b[1A\u001b[2K\u001b[1A\u001b[2K\u001b[1A\u001b[2K\u001b[0G[+] 1.1s\r\n",
      "conda-forge/linux-64 \u001b[90m━━━━━━━━━━━╸\u001b[0m\u001b[33m━━━━━━━━━━━\u001b[0m   2.9MB /  ??.?MB @   2.7MB/s  1.1s\r\n",
      "conda-forge/noarch   \u001b[33m━━━━━━━━╸\u001b[0m\u001b[90m━━━━━━━━━━━━━━\u001b[0m   3.5MB /  ??.?MB @   3.2MB/s  0.8s\r\n",
      "pkgs/main/linux-64   \u001b[90m━╸\u001b[0m\u001b[33m━━━━━━━━━━━━━━━╸\u001b[0m\u001b[90m━━━━━\u001b[0m   2.4MB /  ??.?MB @   2.2MB/s  0.5s\u001b[2K\u001b[1A\u001b[2K\u001b[1A\u001b[2K\u001b[1A\u001b[2K\u001b[0G[+] 1.2s\r\n",
      "conda-forge/linux-64 \u001b[33m━━━━━━━╸\u001b[0m\u001b[90m━━━━━━━━━━━━━━━\u001b[0m   3.4MB /  ??.?MB @   2.9MB/s  1.2s\r\n",
      "conda-forge/noarch   \u001b[33m━━━━━━━━━━╸\u001b[0m\u001b[90m━━━━━━━━━━━━\u001b[0m   3.9MB /  ??.?MB @   3.3MB/s  0.9s\r\n",
      "pkgs/main/linux-64   \u001b[90m━━━━╸\u001b[0m\u001b[33m━━━━━━━━━━━━━━━╸\u001b[0m\u001b[90m━━\u001b[0m   2.9MB /  ??.?MB @   2.4MB/s  0.6s\u001b[2K\u001b[1A\u001b[2K\u001b[1A\u001b[2K\u001b[1A\u001b[2K\u001b[0G[+] 1.3s\r\n",
      "conda-forge/linux-64 \u001b[33m━━━━━━━━━╸\u001b[0m\u001b[90m━━━━━━━━━━━━━\u001b[0m   3.9MB /  ??.?MB @   3.1MB/s  1.3s\r\n",
      "conda-forge/noarch   \u001b[33m━━━━━━━━━━━━╸\u001b[0m\u001b[90m━━━━━━━━━━\u001b[0m   4.3MB /  ??.?MB @   3.4MB/s  1.0s\r\n",
      "pkgs/main/linux-64   \u001b[90m━━━━━━╸\u001b[0m\u001b[33m━━━━━━━━━━━━━━━━\u001b[0m   3.4MB /  ??.?MB @   2.6MB/s  0.7s\u001b[2K\u001b[1A\u001b[2K\u001b[1A\u001b[2K\u001b[1A\u001b[2K\u001b[0G[+] 1.4s\r\n",
      "conda-forge/linux-64 \u001b[33m━━━━━━━━━━━╸\u001b[0m\u001b[90m━━━━━━━━━━━\u001b[0m   4.4MB /  ??.?MB @   3.2MB/s  1.4s\r\n",
      "conda-forge/noarch   \u001b[33m━━━━━━━━━━━━━━╸\u001b[0m\u001b[90m━━━━━━━━\u001b[0m   4.7MB /  ??.?MB @   3.4MB/s  1.1s\r\n",
      "pkgs/main/linux-64   \u001b[90m━━━━━━━━╸\u001b[0m\u001b[33m━━━━━━━━━━━━━━\u001b[0m   3.9MB /  ??.?MB @   2.8MB/s  0.8s\u001b[2K\u001b[1A\u001b[2K\u001b[1A\u001b[2K\u001b[1A\u001b[2K\u001b[0G[+] 1.5s\r\n",
      "conda-forge/linux-64 \u001b[33m━━━━━━━━━━━━━━╸\u001b[0m\u001b[90m━━━━━━━━\u001b[0m   4.9MB /  ??.?MB @   3.3MB/s  1.5s\r\n",
      "conda-forge/noarch   \u001b[90m╸\u001b[0m\u001b[33m━━━━━━━━━━━━━━━╸\u001b[0m\u001b[90m━━━━━━\u001b[0m   5.2MB /  ??.?MB @   3.5MB/s  1.2s\r\n",
      "pkgs/main/linux-64   \u001b[90m━━━━━━━━━━╸\u001b[0m\u001b[33m━━━━━━━━━━━━\u001b[0m   4.5MB /  ??.?MB @   3.0MB/s  0.9s\u001b[2K\u001b[1A\u001b[2K\u001b[1A\u001b[2K\u001b[1A\u001b[2K\u001b[0G[+] 1.6s\r\n",
      "conda-forge/linux-64 \u001b[90m╸\u001b[0m\u001b[33m━━━━━━━━━━━━━━━╸\u001b[0m\u001b[90m━━━━━━\u001b[0m   5.3MB /  ??.?MB @   3.3MB/s  1.6s\r\n",
      "conda-forge/noarch   \u001b[90m━━━╸\u001b[0m\u001b[33m━━━━━━━━━━━━━━━╸\u001b[0m\u001b[90m━━━\u001b[0m   5.7MB /  ??.?MB @   3.6MB/s  1.3s\r\n",
      "pkgs/main/linux-64   \u001b[90m━━━━━━━━━━━━╸\u001b[0m\u001b[33m━━━━━━━━━━\u001b[0m   5.0MB /  ??.?MB @   3.2MB/s  1.0s\u001b[2K\u001b[1A\u001b[2K\u001b[1A\u001b[2K\u001b[1A\u001b[2K\u001b[0G[+] 1.7s\r\n",
      "conda-forge/linux-64 \u001b[33m━━━━━━━━━━━━━━━╸\u001b[0m\u001b[90m━━━━━━\u001b[0m   5.3MB @   3.3MB/s             1.7s\r\n",
      "conda-forge/noarch   \u001b[90m━━╸\u001b[0m\u001b[33m━━━━━━━━━━━━━━━╸\u001b[0m\u001b[90m━━━\u001b[0m   5.7MB @   3.6MB/s             1.4s\r\n",
      "pkgs/main/linux-64   ━━━━━━━━━━━━━━━━━━━━━━   5.2MB @   3.2MB/s Downloaded  1.1s\u001b[2K\u001b[1A\u001b[2K\u001b[1A\u001b[2K\u001b[1A\u001b[2K\u001b[0G[+] 1.8s\r\n",
      "conda-forge/linux-64 \u001b[33m━━━━━━━━━━━━━━━╸\u001b[0m\u001b[90m━━━━━━\u001b[0m   5.3MB @   3.3MB/s             1.8s\r\n",
      "conda-forge/noarch   \u001b[90m━━╸\u001b[0m\u001b[33m━━━━━━━━━━━━━━━╸\u001b[0m\u001b[90m━━━\u001b[0m   5.7MB @   3.6MB/s             1.5s\r\n",
      "pkgs/main/linux-64   ━━━━━━━━━━━━━━━━━━━━━━   5.2MB @   3.2MB/s Downloaded  1.2s\u001b[2K\u001b[1A\u001b[2K\u001b[1A\u001b[2K\u001b[1A\u001b[2K\u001b[0G[+] 1.9s\r\n",
      "conda-forge/linux-64 \u001b[33m━━━━━━━━━━━━━━━╸\u001b[0m\u001b[90m━━━━━━\u001b[0m   5.3MB @   3.3MB/s             1.9s\r\n",
      "conda-forge/noarch   \u001b[90m━━╸\u001b[0m\u001b[33m━━━━━━━━━━━━━━━╸\u001b[0m\u001b[90m━━━\u001b[0m   5.7MB @   3.6MB/s             1.6s\r\n",
      "pkgs/main/linux-64   ━━━━━━━━━━━━━━━━━━━━━━   5.2MB @   3.2MB/s Downloaded  1.3s\u001b[2K\u001b[1A\u001b[2K\u001b[1A\u001b[2K\u001b[1A\u001b[2K\u001b[0G[+] 2.0s\r\n",
      "conda-forge/linux-64 \u001b[33m━━━━━━━━━━━━━━━╸\u001b[0m\u001b[90m━━━━━━\u001b[0m   5.3MB @   3.3MB/s             2.0s\r\n",
      "conda-forge/noarch   \u001b[90m━━╸\u001b[0m\u001b[33m━━━━━━━━━━━━━━━╸\u001b[0m\u001b[90m━━━\u001b[0m   5.7MB @   3.6MB/s             1.7s\r\n",
      "pkgs/main/linux-64   ━━━━━━━━━━━━━━━━━━━━━━   5.2MB @   3.2MB/s Downloaded  1.4s\u001b[2K\u001b[1A\u001b[2K\u001b[1A\u001b[2K\u001b[1A\u001b[2K\u001b[0G[+] 2.1s\r\n",
      "conda-forge/linux-64 \u001b[33m━━━━━━━━━━━━━━━╸\u001b[0m\u001b[90m━━━━━━\u001b[0m   5.3MB @   3.3MB/s             2.1s\r\n",
      "conda-forge/noarch   \u001b[90m━━╸\u001b[0m\u001b[33m━━━━━━━━━━━━━━━╸\u001b[0m\u001b[90m━━━\u001b[0m   5.7MB @   3.6MB/s             1.8s\r\n",
      "pkgs/main/linux-64   ━━━━━━━━━━━━━━━━━━━━━━   5.2MB @   3.2MB/s Downloaded  1.5s\u001b[2K\u001b[1A\u001b[2K\u001b[1A\u001b[2K\u001b[1A\u001b[2K\u001b[0G[+] 2.2s\r\n",
      "conda-forge/linux-64 \u001b[33m━━━━━━━━━━━━━━━╸\u001b[0m\u001b[90m━━━━━━\u001b[0m   5.3MB @   3.3MB/s             2.2s\r\n",
      "conda-forge/noarch   \u001b[90m━━╸\u001b[0m\u001b[33m━━━━━━━━━━━━━━━╸\u001b[0m\u001b[90m━━━\u001b[0m   5.7MB @   3.6MB/s             1.9s\r\n",
      "pkgs/main/linux-64   ━━━━━━━━━━━━━━━━━━━━━━   5.2MB @   3.2MB/s Finalizing  1.6s\u001b[2K\u001b[1A\u001b[2K\u001b[1A\u001b[2K\u001b[1A\u001b[2K\u001b[0Gpkgs/main/linux-64                                 @   3.2MB/s  1.6s\r\n",
      "[+] 2.3s\r\n",
      "conda-forge/linux-64 \u001b[90m━╸\u001b[0m\u001b[33m━━━━━━━━━━━━━━━╸\u001b[0m\u001b[90m━━━━━\u001b[0m   5.4MB /  ??.?MB @   2.4MB/s  2.3s\r\n",
      "conda-forge/noarch   \u001b[90m━━━━╸\u001b[0m\u001b[33m━━━━━━━━━━━━━━━╸\u001b[0m\u001b[90m━━\u001b[0m   5.8MB /  ??.?MB @   2.6MB/s  2.0s\u001b[2K\u001b[1A\u001b[2K\u001b[1A\u001b[2K\u001b[0G[+] 2.4s\r\n",
      "conda-forge/linux-64 \u001b[90m━━━╸\u001b[0m\u001b[33m━━━━━━━━━━━━━━━╸\u001b[0m\u001b[90m━━━\u001b[0m   6.0MB /  ??.?MB @   2.5MB/s  2.4s\r\n",
      "conda-forge/noarch   \u001b[90m━━━━━━╸\u001b[0m\u001b[33m━━━━━━━━━━━━━━━━\u001b[0m   6.7MB /  ??.?MB @   2.8MB/s  2.1s\u001b[2K\u001b[1A\u001b[2K\u001b[1A\u001b[2K\u001b[0G[+] 2.5s\r\n",
      "conda-forge/linux-64 \u001b[90m━━━━━╸\u001b[0m\u001b[33m━━━━━━━━━━━━━━━╸\u001b[0m\u001b[90m━\u001b[0m   6.5MB /  ??.?MB @   2.6MB/s  2.5s\r\n",
      "conda-forge/noarch   \u001b[90m━━━━━━━━╸\u001b[0m\u001b[33m━━━━━━━━━━━━━━\u001b[0m   7.3MB /  ??.?MB @   2.9MB/s  2.2s\u001b[2K\u001b[1A\u001b[2K\u001b[1A\u001b[2K\u001b[0G[+] 2.6s\r\n",
      "conda-forge/linux-64 \u001b[90m━━━━━━━━╸\u001b[0m\u001b[33m━━━━━━━━━━━━━━\u001b[0m   7.2MB /  ??.?MB @   2.8MB/s  2.6s\r\n",
      "conda-forge/noarch   \u001b[90m━━━━━━━━━━╸\u001b[0m\u001b[33m━━━━━━━━━━━━\u001b[0m   7.9MB /  ??.?MB @   3.0MB/s  2.3s\u001b[2K\u001b[1A\u001b[2K\u001b[1A\u001b[2K\u001b[0G[+] 2.7s\r\n",
      "conda-forge/linux-64 \u001b[90m━━━━━━━━━━╸\u001b[0m\u001b[33m━━━━━━━━━━━━\u001b[0m   7.7MB /  ??.?MB @   2.9MB/s  2.7s\r\n",
      "conda-forge/noarch   \u001b[90m━━━━━━━━━━━━━╸\u001b[0m\u001b[33m━━━━━━━━━\u001b[0m   8.3MB /  ??.?MB @   3.1MB/s  2.4s\u001b[2K\u001b[1A\u001b[2K\u001b[1A\u001b[2K\u001b[0G[+] 2.8s\r\n",
      "conda-forge/linux-64 \u001b[90m━━━━━━━━━━━━╸\u001b[0m\u001b[33m━━━━━━━━━━\u001b[0m   8.1MB /  ??.?MB @   2.9MB/s  2.8s\r\n",
      "conda-forge/noarch   \u001b[33m━━━━━━━━━╸\u001b[0m\u001b[90m━━━━━━━━━━━━━\u001b[0m   8.8MB /  ??.?MB @   3.2MB/s  2.5s\u001b[2K\u001b[1A\u001b[2K\u001b[1A\u001b[2K\u001b[0G[+] 2.9s\r\n",
      "conda-forge/linux-64 \u001b[33m━━━━━━━━╸\u001b[0m\u001b[90m━━━━━━━━━━━━━━\u001b[0m   8.6MB /  ??.?MB @   3.0MB/s  2.9s\r\n",
      "conda-forge/noarch   \u001b[33m━━━━━━━━━━━╸\u001b[0m\u001b[90m━━━━━━━━━━━\u001b[0m   9.3MB /  ??.?MB @   3.2MB/s  2.6s\u001b[2K\u001b[1A\u001b[2K\u001b[1A\u001b[2K\u001b[0G[+] 3.0s\r\n",
      "conda-forge/linux-64 \u001b[33m━━━━━━━━━━╸\u001b[0m\u001b[90m━━━━━━━━━━━━\u001b[0m   9.1MB /  ??.?MB @   3.0MB/s  3.0s\r\n",
      "conda-forge/noarch   \u001b[33m━━━━━━━━━━━━━╸\u001b[0m\u001b[90m━━━━━━━━━\u001b[0m   9.8MB /  ??.?MB @   3.3MB/s  2.7s\u001b[2K\u001b[1A\u001b[2K\u001b[1A\u001b[2K\u001b[0G[+] 3.1s\r\n",
      "conda-forge/linux-64 \u001b[33m━━━━━━━━━━━━━╸\u001b[0m\u001b[90m━━━━━━━━━\u001b[0m   9.5MB /  ??.?MB @   3.1MB/s  3.1s\r\n",
      "conda-forge/noarch   \u001b[33m━━━━━━━━━━━━━━━╸\u001b[0m\u001b[90m━━━━━━━\u001b[0m  10.3MB /  ??.?MB @   3.3MB/s  2.8s\u001b[2K\u001b[1A\u001b[2K\u001b[1A\u001b[2K\u001b[0G[+] 3.2s\r\n",
      "conda-forge/linux-64 \u001b[33m━━━━━━━━━━━━━━━╸\u001b[0m\u001b[90m━━━━━━━\u001b[0m  10.0MB /  ??.?MB @   3.1MB/s  3.2s\r\n",
      "conda-forge/noarch   \u001b[90m━━╸\u001b[0m\u001b[33m━━━━━━━━━━━━━━━╸\u001b[0m\u001b[90m━━━━\u001b[0m  10.8MB /  ??.?MB @   3.4MB/s  2.9s\u001b[2K\u001b[1A\u001b[2K\u001b[1A\u001b[2K\u001b[0G[+] 3.3s\r\n",
      "conda-forge/linux-64 \u001b[90m━╸\u001b[0m\u001b[33m━━━━━━━━━━━━━━━╸\u001b[0m\u001b[90m━━━━━\u001b[0m  10.5MB /  ??.?MB @   3.2MB/s  3.3s\r\n",
      "conda-forge/noarch   \u001b[90m━━━━╸\u001b[0m\u001b[33m━━━━━━━━━━━━━━━╸\u001b[0m\u001b[90m━━\u001b[0m  11.2MB /  ??.?MB @   3.4MB/s  3.0s\u001b[2K\u001b[1A\u001b[2K\u001b[1A\u001b[2K\u001b[0G[+] 3.4s\r\n",
      "conda-forge/linux-64 \u001b[90m━╸\u001b[0m\u001b[33m━━━━━━━━━━━━━━━╸\u001b[0m\u001b[90m━━━━━\u001b[0m  10.5MB /  ??.?MB @   3.2MB/s  3.4s\r\n",
      "conda-forge/noarch   \u001b[90m━━━━╸\u001b[0m\u001b[33m━━━━━━━━━━━━━━━╸\u001b[0m\u001b[90m━━\u001b[0m  11.2MB /  ??.?MB @   3.4MB/s  3.1s\u001b[2K\u001b[1A\u001b[2K\u001b[1A\u001b[2K\u001b[0G[+] 3.5s\r\n",
      "conda-forge/linux-64 \u001b[90m╸\u001b[0m\u001b[33m━━━━━━━━━━━━━━━╸\u001b[0m\u001b[90m━━━━━\u001b[0m  10.5MB @   3.2MB/s             3.5s\r\n",
      "conda-forge/noarch   ━━━━━━━━━━━━━━━━━━━━━━  11.3MB @   3.4MB/s Downloaded  3.2s\u001b[2K\u001b[1A\u001b[2K\u001b[1A\u001b[2K\u001b[0G[+] 3.6s\r\n",
      "conda-forge/linux-64 \u001b[90m╸\u001b[0m\u001b[33m━━━━━━━━━━━━━━━╸\u001b[0m\u001b[90m━━━━━\u001b[0m  10.5MB @   3.2MB/s             3.6s\r\n",
      "conda-forge/noarch   ━━━━━━━━━━━━━━━━━━━━━━  11.3MB @   3.4MB/s Downloaded  3.3s\u001b[2K\u001b[1A\u001b[2K\u001b[1A\u001b[2K\u001b[0G[+] 3.7s\r\n",
      "conda-forge/linux-64 \u001b[90m╸\u001b[0m\u001b[33m━━━━━━━━━━━━━━━╸\u001b[0m\u001b[90m━━━━━\u001b[0m  10.5MB @   3.2MB/s             3.7s\r\n",
      "conda-forge/noarch   ━━━━━━━━━━━━━━━━━━━━━━  11.3MB @   3.4MB/s Downloaded  3.4s\u001b[2K\u001b[1A\u001b[2K\u001b[1A\u001b[2K\u001b[0G[+] 3.8s\r\n",
      "conda-forge/linux-64 \u001b[90m╸\u001b[0m\u001b[33m━━━━━━━━━━━━━━━╸\u001b[0m\u001b[90m━━━━━\u001b[0m  10.5MB @   3.2MB/s             3.8s\r\n",
      "conda-forge/noarch   ━━━━━━━━━━━━━━━━━━━━━━  11.3MB @   3.4MB/s Downloaded  3.5s\u001b[2K\u001b[1A\u001b[2K\u001b[1A\u001b[2K\u001b[0G[+] 3.9s\r\n",
      "conda-forge/linux-64 \u001b[90m╸\u001b[0m\u001b[33m━━━━━━━━━━━━━━━╸\u001b[0m\u001b[90m━━━━━\u001b[0m  10.5MB @   3.2MB/s             3.9s\r\n",
      "conda-forge/noarch   ━━━━━━━━━━━━━━━━━━━━━━  11.3MB @   3.4MB/s Downloaded  3.6s\u001b[2K\u001b[1A\u001b[2K\u001b[1A\u001b[2K\u001b[0G[+] 4.0s\r\n",
      "conda-forge/linux-64 \u001b[90m╸\u001b[0m\u001b[33m━━━━━━━━━━━━━━━╸\u001b[0m\u001b[90m━━━━━\u001b[0m  10.5MB @   3.2MB/s             4.0s\r\n",
      "conda-forge/noarch   ━━━━━━━━━━━━━━━━━━━━━━  11.3MB @   3.4MB/s Downloaded  3.7s\u001b[2K\u001b[1A\u001b[2K\u001b[1A\u001b[2K\u001b[0G[+] 4.1s\r\n",
      "conda-forge/linux-64 \u001b[90m╸\u001b[0m\u001b[33m━━━━━━━━━━━━━━━╸\u001b[0m\u001b[90m━━━━━\u001b[0m  10.5MB @   3.2MB/s             4.1s\r\n",
      "conda-forge/noarch   ━━━━━━━━━━━━━━━━━━━━━━  11.3MB @   3.4MB/s Downloaded  3.8s\u001b[2K\u001b[1A\u001b[2K\u001b[1A\u001b[2K\u001b[0G[+] 4.2s\r\n",
      "conda-forge/linux-64 \u001b[90m╸\u001b[0m\u001b[33m━━━━━━━━━━━━━━━╸\u001b[0m\u001b[90m━━━━━\u001b[0m  10.5MB @   3.2MB/s             4.2s\r\n",
      "conda-forge/noarch   ━━━━━━━━━━━━━━━━━━━━━━  11.3MB @   3.4MB/s Downloaded  3.9s\u001b[2K\u001b[1A\u001b[2K\u001b[1A\u001b[2K\u001b[0G[+] 4.3s\r\n",
      "conda-forge/linux-64 \u001b[90m╸\u001b[0m\u001b[33m━━━━━━━━━━━━━━━╸\u001b[0m\u001b[90m━━━━━\u001b[0m  10.5MB @   3.2MB/s             4.3s\r\n",
      "conda-forge/noarch   ━━━━━━━━━━━━━━━━━━━━━━  11.3MB @   3.4MB/s Downloaded  4.0s\u001b[2K\u001b[1A\u001b[2K\u001b[1A\u001b[2K\u001b[0G[+] 4.4s\r\n",
      "conda-forge/linux-64 \u001b[90m╸\u001b[0m\u001b[33m━━━━━━━━━━━━━━━╸\u001b[0m\u001b[90m━━━━━\u001b[0m  10.5MB @   3.2MB/s             4.4s\r\n",
      "conda-forge/noarch   ━━━━━━━━━━━━━━━━━━━━━━  11.3MB @   3.4MB/s Downloaded  4.1s\u001b[2K\u001b[1A\u001b[2K\u001b[1A\u001b[2K\u001b[0G[+] 4.5s\r\n",
      "conda-forge/linux-64 \u001b[90m╸\u001b[0m\u001b[33m━━━━━━━━━━━━━━━╸\u001b[0m\u001b[90m━━━━━\u001b[0m  10.5MB @   3.2MB/s             4.5s\r\n",
      "conda-forge/noarch   ━━━━━━━━━━━━━━━━━━━━━━  11.3MB @   3.4MB/s Downloaded  4.2s\u001b[2K\u001b[1A\u001b[2K\u001b[1A\u001b[2K\u001b[0G[+] 4.6s\r\n",
      "conda-forge/linux-64 \u001b[90m╸\u001b[0m\u001b[33m━━━━━━━━━━━━━━━╸\u001b[0m\u001b[90m━━━━━\u001b[0m  10.5MB @   3.2MB/s             4.6s\r\n",
      "conda-forge/noarch   ━━━━━━━━━━━━━━━━━━━━━━  11.3MB @   3.4MB/s Downloaded  4.3s\u001b[2K\u001b[1A\u001b[2K\u001b[1A\u001b[2K\u001b[0G[+] 4.7s\r\n",
      "conda-forge/linux-64 \u001b[90m╸\u001b[0m\u001b[33m━━━━━━━━━━━━━━━╸\u001b[0m\u001b[90m━━━━━\u001b[0m  10.5MB @   3.2MB/s             4.7s\r\n",
      "conda-forge/noarch   ━━━━━━━━━━━━━━━━━━━━━━  11.3MB @   3.4MB/s Finalizing  4.4s\u001b[2K\u001b[1A\u001b[2K\u001b[1A\u001b[2K\u001b[0G[+] 4.8s\r\n",
      "conda-forge/linux-64 \u001b[90m━╸\u001b[0m\u001b[33m━━━━━━━━━━━━━━━╸\u001b[0m\u001b[90m━━━━━\u001b[0m  10.5MB /  ??.?MB @   3.2MB/s  4.8s\u001b[2K\u001b[1A\u001b[2K\u001b[0Gconda-forge/noarch                                 @   3.4MB/s  4.5s\r\n",
      "[+] 4.9s\r\n",
      "conda-forge/linux-64 \u001b[90m━━━╸\u001b[0m\u001b[33m━━━━━━━━━━━━━━━╸\u001b[0m\u001b[90m━━━\u001b[0m  11.8MB /  ??.?MB @   2.4MB/s  4.9s\u001b[2K\u001b[1A\u001b[2K\u001b[0G[+] 5.0s\r\n",
      "conda-forge/linux-64 \u001b[90m━━━━━╸\u001b[0m\u001b[33m━━━━━━━━━━━━━━━╸\u001b[0m\u001b[90m━\u001b[0m  12.3MB /  ??.?MB @   2.5MB/s  5.0s\u001b[2K\u001b[1A\u001b[2K\u001b[0G[+] 5.1s\r\n",
      "conda-forge/linux-64 \u001b[90m━━━━━━━━╸\u001b[0m\u001b[33m━━━━━━━━━━━━━━\u001b[0m  12.8MB /  ??.?MB @   2.5MB/s  5.1s\u001b[2K\u001b[1A\u001b[2K\u001b[0G[+] 5.2s\r\n",
      "conda-forge/linux-64 \u001b[90m━━━━━━━━━━╸\u001b[0m\u001b[33m━━━━━━━━━━━━\u001b[0m  13.2MB /  ??.?MB @   2.5MB/s  5.2s\u001b[2K\u001b[1A\u001b[2K\u001b[0G[+] 5.3s\r\n",
      "conda-forge/linux-64 \u001b[90m━━━━━━━━━━━━╸\u001b[0m\u001b[33m━━━━━━━━━━\u001b[0m  13.7MB /  ??.?MB @   2.6MB/s  5.3s\u001b[2K\u001b[1A\u001b[2K\u001b[0G[+] 5.4s\r\n",
      "conda-forge/linux-64 \u001b[33m━━━━━━━━╸\u001b[0m\u001b[90m━━━━━━━━━━━━━━\u001b[0m  14.2MB /  ??.?MB @   2.6MB/s  5.4s\u001b[2K\u001b[1A\u001b[2K\u001b[0G[+] 5.5s\r\n",
      "conda-forge/linux-64 \u001b[33m━━━━━━━━━━╸\u001b[0m\u001b[90m━━━━━━━━━━━━\u001b[0m  14.7MB /  ??.?MB @   2.7MB/s  5.5s\u001b[2K\u001b[1A\u001b[2K\u001b[0G[+] 5.6s\r\n",
      "conda-forge/linux-64 \u001b[33m━━━━━━━━━━━━━╸\u001b[0m\u001b[90m━━━━━━━━━\u001b[0m  15.2MB /  ??.?MB @   2.7MB/s  5.6s\u001b[2K\u001b[1A\u001b[2K\u001b[0G[+] 5.7s\r\n",
      "conda-forge/linux-64 \u001b[33m━━━━━━━━━━━━━━━╸\u001b[0m\u001b[90m━━━━━━━\u001b[0m  15.8MB /  ??.?MB @   2.8MB/s  5.7s\u001b[2K\u001b[1A\u001b[2K\u001b[0G[+] 5.8s\r\n",
      "conda-forge/linux-64 \u001b[90m━╸\u001b[0m\u001b[33m━━━━━━━━━━━━━━━╸\u001b[0m\u001b[90m━━━━━\u001b[0m  16.3MB /  ??.?MB @   2.8MB/s  5.8s\u001b[2K\u001b[1A\u001b[2K\u001b[0G[+] 5.9s\r\n",
      "conda-forge/linux-64 \u001b[90m━━╸\u001b[0m\u001b[33m━━━━━━━━━━━━━━━╸\u001b[0m\u001b[90m━━━━\u001b[0m  16.6MB /  ??.?MB @   2.8MB/s  5.9s\u001b[2K\u001b[1A\u001b[2K\u001b[0G[+] 6.0s\r\n",
      "conda-forge/linux-64 \u001b[90m━━━━╸\u001b[0m\u001b[33m━━━━━━━━━━━━━━━╸\u001b[0m\u001b[90m━━\u001b[0m  17.1MB /  ??.?MB @   2.9MB/s  6.0s\u001b[2K\u001b[1A\u001b[2K\u001b[0G[+] 6.1s\r\n",
      "conda-forge/linux-64 \u001b[90m━━━━━━╸\u001b[0m\u001b[33m━━━━━━━━━━━━━━━━\u001b[0m  17.6MB /  ??.?MB @   2.9MB/s  6.1s\u001b[2K\u001b[1A\u001b[2K\u001b[0G[+] 6.2s\r\n",
      "conda-forge/linux-64 \u001b[90m━━━━━━━━━╸\u001b[0m\u001b[33m━━━━━━━━━━━━━\u001b[0m  18.1MB /  ??.?MB @   2.9MB/s  6.2s\u001b[2K\u001b[1A\u001b[2K\u001b[0G[+] 6.3s\r\n",
      "conda-forge/linux-64 \u001b[90m━━━━━━━━━━━╸\u001b[0m\u001b[33m━━━━━━━━━━━\u001b[0m  18.6MB /  ??.?MB @   3.0MB/s  6.3s\u001b[2K\u001b[1A\u001b[2K\u001b[0G[+] 6.4s\r\n",
      "conda-forge/linux-64 \u001b[33m━━━━━━━╸\u001b[0m\u001b[90m━━━━━━━━━━━━━━━\u001b[0m  19.1MB /  ??.?MB @   3.0MB/s  6.4s\u001b[2K\u001b[1A\u001b[2K\u001b[0G[+] 6.5s\r\n",
      "conda-forge/linux-64 \u001b[33m━━━━━━━━━╸\u001b[0m\u001b[90m━━━━━━━━━━━━━\u001b[0m  19.6MB /  ??.?MB @   3.0MB/s  6.5s\u001b[2K\u001b[1A\u001b[2K\u001b[0G[+] 6.6s\r\n",
      "conda-forge/linux-64 \u001b[33m━━━━━━━━━━━╸\u001b[0m\u001b[90m━━━━━━━━━━━\u001b[0m  20.0MB /  ??.?MB @   3.0MB/s  6.6s\u001b[2K\u001b[1A\u001b[2K\u001b[0G[+] 6.7s\r\n",
      "conda-forge/linux-64 \u001b[33m━━━━━━━━━━━━━━╸\u001b[0m\u001b[90m━━━━━━━━\u001b[0m  20.4MB /  ??.?MB @   3.1MB/s  6.7s\u001b[2K\u001b[1A\u001b[2K\u001b[0G[+] 6.8s\r\n",
      "conda-forge/linux-64 \u001b[90m╸\u001b[0m\u001b[33m━━━━━━━━━━━━━━━╸\u001b[0m\u001b[90m━━━━━━\u001b[0m  20.9MB /  ??.?MB @   3.1MB/s  6.8s\u001b[2K\u001b[1A\u001b[2K\u001b[0G[+] 6.9s\r\n",
      "conda-forge/linux-64 \u001b[90m━━╸\u001b[0m\u001b[33m━━━━━━━━━━━━━━━╸\u001b[0m\u001b[90m━━━━\u001b[0m  21.3MB /  ??.?MB @   3.1MB/s  6.9s\u001b[2K\u001b[1A\u001b[2K\u001b[0G[+] 7.0s\r\n",
      "conda-forge/linux-64 \u001b[90m━━━━╸\u001b[0m\u001b[33m━━━━━━━━━━━━━━━╸\u001b[0m\u001b[90m━━\u001b[0m  21.7MB /  ??.?MB @   3.1MB/s  7.0s\u001b[2K\u001b[1A\u001b[2K\u001b[0G[+] 7.1s\r\n",
      "conda-forge/linux-64 \u001b[90m━━━━━━╸\u001b[0m\u001b[33m━━━━━━━━━━━━━━━━\u001b[0m  22.1MB /  ??.?MB @   3.1MB/s  7.1s\u001b[2K\u001b[1A\u001b[2K\u001b[0G[+] 7.2s\r\n",
      "conda-forge/linux-64 \u001b[90m━━━━━━━━━╸\u001b[0m\u001b[33m━━━━━━━━━━━━━\u001b[0m  22.5MB /  ??.?MB @   3.1MB/s  7.2s\u001b[2K\u001b[1A\u001b[2K\u001b[0G[+] 7.3s\r\n",
      "conda-forge/linux-64 \u001b[90m━━━━━━━━━━━╸\u001b[0m\u001b[33m━━━━━━━━━━━\u001b[0m  22.9MB /  ??.?MB @   3.1MB/s  7.3s\u001b[2K\u001b[1A\u001b[2K\u001b[0G[+] 7.4s\r\n",
      "conda-forge/linux-64 \u001b[33m━━━━━━━╸\u001b[0m\u001b[90m━━━━━━━━━━━━━━━\u001b[0m  23.4MB /  ??.?MB @   3.2MB/s  7.4s\u001b[2K\u001b[1A\u001b[2K\u001b[0G[+] 7.5s\r\n",
      "conda-forge/linux-64 \u001b[33m━━━━━━━━━╸\u001b[0m\u001b[90m━━━━━━━━━━━━━\u001b[0m  23.9MB /  ??.?MB @   3.2MB/s  7.5s\u001b[2K\u001b[1A\u001b[2K\u001b[0G[+] 7.6s\r\n",
      "conda-forge/linux-64 \u001b[33m━━━━━━━━━━━╸\u001b[0m\u001b[90m━━━━━━━━━━━\u001b[0m  24.4MB /  ??.?MB @   3.2MB/s  7.6s\u001b[2K\u001b[1A\u001b[2K\u001b[0G[+] 7.7s\r\n",
      "conda-forge/linux-64 \u001b[33m━━━━━━━━━━━━━━╸\u001b[0m\u001b[90m━━━━━━━━\u001b[0m  24.8MB /  ??.?MB @   3.2MB/s  7.7s\u001b[2K\u001b[1A\u001b[2K\u001b[0G[+] 7.8s\r\n",
      "conda-forge/linux-64 \u001b[90m╸\u001b[0m\u001b[33m━━━━━━━━━━━━━━━╸\u001b[0m\u001b[90m━━━━━━\u001b[0m  25.4MB /  ??.?MB @   3.3MB/s  7.8s\u001b[2K\u001b[1A\u001b[2K\u001b[0G[+] 7.9s\r\n",
      "conda-forge/linux-64 \u001b[90m━━╸\u001b[0m\u001b[33m━━━━━━━━━━━━━━━╸\u001b[0m\u001b[90m━━━━\u001b[0m  25.9MB /  ??.?MB @   3.3MB/s  7.9s\u001b[2K\u001b[1A\u001b[2K\u001b[0G[+] 8.0s\r\n",
      "conda-forge/linux-64 \u001b[90m━━━━╸\u001b[0m\u001b[33m━━━━━━━━━━━━━━━╸\u001b[0m\u001b[90m━━\u001b[0m  26.4MB /  ??.?MB @   3.3MB/s  8.0s\u001b[2K\u001b[1A\u001b[2K\u001b[0G[+] 8.1s\r\n",
      "conda-forge/linux-64 \u001b[90m━━━━━╸\u001b[0m\u001b[33m━━━━━━━━━━━━━━━╸\u001b[0m\u001b[90m━\u001b[0m  26.6MB /  ??.?MB @   3.3MB/s  8.1s\u001b[2K\u001b[1A\u001b[2K\u001b[0G[+] 8.2s\r\n",
      "conda-forge/linux-64 \u001b[90m━━━━━━━━╸\u001b[0m\u001b[33m━━━━━━━━━━━━━━\u001b[0m  27.1MB /  ??.?MB @   3.3MB/s  8.2s\u001b[2K\u001b[1A\u001b[2K\u001b[0G[+] 8.3s\r\n",
      "conda-forge/linux-64 \u001b[90m━━━━━━━━━━╸\u001b[0m\u001b[33m━━━━━━━━━━━━\u001b[0m  27.6MB /  ??.?MB @   3.3MB/s  8.3s\u001b[2K\u001b[1A\u001b[2K\u001b[0G[+] 8.4s\r\n",
      "conda-forge/linux-64 \u001b[90m━━━━━━━━━━━━╸\u001b[0m\u001b[33m━━━━━━━━━━\u001b[0m  28.1MB /  ??.?MB @   3.4MB/s  8.4s\u001b[2K\u001b[1A\u001b[2K\u001b[0G[+] 8.5s\r\n",
      "conda-forge/linux-64 \u001b[33m━━━━━━━━╸\u001b[0m\u001b[90m━━━━━━━━━━━━━━\u001b[0m  28.5MB /  ??.?MB @   3.4MB/s  8.5s\u001b[2K\u001b[1A\u001b[2K\u001b[0G[+] 8.6s\r\n",
      "conda-forge/linux-64 \u001b[33m━━━━━━━━━━╸\u001b[0m\u001b[90m━━━━━━━━━━━━\u001b[0m  29.0MB /  ??.?MB @   3.4MB/s  8.6s\u001b[2K\u001b[1A\u001b[2K\u001b[0G[+] 8.7s\r\n",
      "conda-forge/linux-64 \u001b[33m━━━━━━━━━━━━━╸\u001b[0m\u001b[90m━━━━━━━━━\u001b[0m  29.4MB /  ??.?MB @   3.4MB/s  8.7s\u001b[2K\u001b[1A\u001b[2K\u001b[0G[+] 8.8s\r\n",
      "conda-forge/linux-64 \u001b[33m━━━━━━━━━━━━━━╸\u001b[0m\u001b[90m━━━━━━━━\u001b[0m  29.7MB /  ??.?MB @   3.4MB/s  8.8s\u001b[2K\u001b[1A\u001b[2K\u001b[0G[+] 8.9s\r\n",
      "conda-forge/linux-64 \u001b[33m━━━━━━━━━━━━━━╸\u001b[0m\u001b[90m━━━━━━━━\u001b[0m  29.7MB /  ??.?MB @   3.4MB/s  8.9s\u001b[2K\u001b[1A\u001b[2K\u001b[0G[+] 9.0s\r\n",
      "conda-forge/linux-64 \u001b[33m━━━━━━━━━━━━━━╸\u001b[0m\u001b[90m━━━━━━━━\u001b[0m  29.7MB /  ??.?MB @   3.4MB/s  9.0s\u001b[2K\u001b[1A\u001b[2K\u001b[0G[+] 9.1s\r\n",
      "conda-forge/linux-64 \u001b[33m━━━━━━━━━━━━━━╸\u001b[0m\u001b[90m━━━━━━━━\u001b[0m  29.7MB /  ??.?MB @   3.4MB/s  9.1s\u001b[2K\u001b[1A\u001b[2K\u001b[0G[+] 9.2s\r\n",
      "conda-forge/linux-64 \u001b[33m━━━━━━━━━━━━━━╸\u001b[0m\u001b[90m━━━━━━━━\u001b[0m  29.7MB /  ??.?MB @   3.4MB/s  9.2s\u001b[2K\u001b[1A\u001b[2K\u001b[0G[+] 9.3s\r\n",
      "conda-forge/linux-64 \u001b[33m━━━━━━━━━━━━━━╸\u001b[0m\u001b[90m━━━━━━━━\u001b[0m  29.7MB /  ??.?MB @   3.4MB/s  9.3s\u001b[2K\u001b[1A\u001b[2K\u001b[0G[+] 9.4s\r\n",
      "conda-forge/linux-64 \u001b[33m━━━━━━━━━━━━━━╸\u001b[0m\u001b[90m━━━━━━━━\u001b[0m  29.7MB /  ??.?MB @   3.4MB/s  9.4s\u001b[2K\u001b[1A\u001b[2K\u001b[0G[+] 9.5s\r\n",
      "conda-forge/linux-64 \u001b[33m━━━━━━━━━━━━━━╸\u001b[0m\u001b[90m━━━━━━━━\u001b[0m  29.7MB /  ??.?MB @   3.4MB/s  9.5s\u001b[2K\u001b[1A\u001b[2K\u001b[0G[+] 9.6s\r\n",
      "conda-forge/linux-64 \u001b[33m━━━━━━━━━━━━━━╸\u001b[0m\u001b[90m━━━━━━━━\u001b[0m  29.7MB /  ??.?MB @   3.4MB/s  9.6s\u001b[2K\u001b[1A\u001b[2K\u001b[0G[+] 9.7s\r\n",
      "conda-forge/linux-64 \u001b[33m━━━━━━━━━━━━━━╸\u001b[0m\u001b[90m━━━━━━━━\u001b[0m  29.7MB /  ??.?MB @   3.4MB/s  9.7s\u001b[2K\u001b[1A\u001b[2K\u001b[0G[+] 9.8s\r\n",
      "conda-forge/linux-64 \u001b[33m━━━━━━━━━━━━━━╸\u001b[0m\u001b[90m━━━━━━━━\u001b[0m  29.7MB /  ??.?MB @   3.4MB/s  9.8s\u001b[2K\u001b[1A\u001b[2K\u001b[0G[+] 9.9s\r\n",
      "conda-forge/linux-64 \u001b[33m━━━━━━━━━━━━━━╸\u001b[0m\u001b[90m━━━━━━━━\u001b[0m  29.7MB /  ??.?MB @   3.4MB/s  9.9s\u001b[2K\u001b[1A\u001b[2K\u001b[0G[+] 10.0s\r\n",
      "conda-forge/linux-64 ━━━━━━━━━━━━━━━━━━━━━━  29.7MB @   3.4MB/s Downloaded 10.0s\u001b[2K\u001b[1A\u001b[2K\u001b[0G[+] 10.1s\r\n",
      "conda-forge/linux-64 ━━━━━━━━━━━━━━━━━━━━━━  29.7MB @   3.4MB/s Downloaded 10.1s\u001b[2K\u001b[1A\u001b[2K\u001b[0G[+] 10.2s\r\n",
      "conda-forge/linux-64 ━━━━━━━━━━━━━━━━━━━━━━  29.7MB @   3.4MB/s Downloaded 10.2s\u001b[2K\u001b[1A\u001b[2K\u001b[0G[+] 10.3s\r\n",
      "conda-forge/linux-64 ━━━━━━━━━━━━━━━━━━━━━━  29.7MB @   3.4MB/s Downloaded 10.3s\u001b[2K\u001b[1A\u001b[2K\u001b[0G[+] 10.4s\r\n",
      "conda-forge/linux-64 ━━━━━━━━━━━━━━━━━━━━━━  29.7MB @   3.4MB/s Downloaded 10.4s\u001b[2K\u001b[1A\u001b[2K\u001b[0G[+] 10.5s\r\n",
      "conda-forge/linux-64 ━━━━━━━━━━━━━━━━━━━━━━  29.7MB @   3.4MB/s Downloaded 10.5s\u001b[2K\u001b[1A\u001b[2K\u001b[0G[+] 10.6s\r\n",
      "conda-forge/linux-64 ━━━━━━━━━━━━━━━━━━━━━━  29.7MB @   3.4MB/s Downloaded 10.6s\u001b[2K\u001b[1A\u001b[2K\u001b[0G[+] 10.7s\r\n",
      "conda-forge/linux-64 ━━━━━━━━━━━━━━━━━━━━━━  29.7MB @   3.4MB/s Downloaded 10.7s\u001b[2K\u001b[1A\u001b[2K\u001b[0G[+] 10.8s\r\n",
      "conda-forge/linux-64 ━━━━━━━━━━━━━━━━━━━━━━  29.7MB @   3.4MB/s Downloaded 10.8s\u001b[2K\u001b[1A\u001b[2K\u001b[0G[+] 10.9s\r\n",
      "conda-forge/linux-64 ━━━━━━━━━━━━━━━━━━━━━━  29.7MB @   3.4MB/s Downloaded 10.9s\u001b[2K\u001b[1A\u001b[2K\u001b[0G[+] 11.0s\r\n",
      "conda-forge/linux-64 ━━━━━━━━━━━━━━━━━━━━━━  29.7MB @   3.4MB/s Downloaded 11.0s\u001b[2K\u001b[1A\u001b[2K\u001b[0G[+] 11.1s\r\n",
      "conda-forge/linux-64 ━━━━━━━━━━━━━━━━━━━━━━  29.7MB @   3.4MB/s Downloaded 11.1s\u001b[2K\u001b[1A\u001b[2K\u001b[0G[+] 11.2s\r\n",
      "conda-forge/linux-64 ━━━━━━━━━━━━━━━━━━━━━━  29.7MB @   3.4MB/s Downloaded 11.2s\u001b[2K\u001b[1A\u001b[2K\u001b[0G[+] 11.3s\r\n",
      "conda-forge/linux-64 ━━━━━━━━━━━━━━━━━━━━━━  29.7MB @   3.4MB/s Downloaded 11.3s\u001b[2K\u001b[1A\u001b[2K\u001b[0G[+] 11.4s\r\n",
      "conda-forge/linux-64 ━━━━━━━━━━━━━━━━━━━━━━  29.7MB @   3.4MB/s Downloaded 11.4s\u001b[2K\u001b[1A\u001b[2K\u001b[0G[+] 11.5s\r\n",
      "conda-forge/linux-64 ━━━━━━━━━━━━━━━━━━━━━━  29.7MB @   3.4MB/s Downloaded 11.5s\u001b[2K\u001b[1A\u001b[2K\u001b[0G[+] 11.6s\r\n",
      "conda-forge/linux-64 ━━━━━━━━━━━━━━━━━━━━━━  29.7MB @   3.4MB/s Downloaded 11.6s\u001b[2K\u001b[1A\u001b[2K\u001b[0G[+] 11.7s\r\n",
      "conda-forge/linux-64 ━━━━━━━━━━━━━━━━━━━━━━  29.7MB @   3.4MB/s Downloaded 11.7s\u001b[2K\u001b[1A\u001b[2K\u001b[0G[+] 11.8s\r\n",
      "conda-forge/linux-64 ━━━━━━━━━━━━━━━━━━━━━━  29.7MB @   3.4MB/s Downloaded 11.8s\u001b[2K\u001b[1A\u001b[2K\u001b[0G[+] 11.9s\r\n",
      "conda-forge/linux-64 ━━━━━━━━━━━━━━━━━━━━━━  29.7MB @   3.4MB/s Downloaded 11.9s\u001b[2K\u001b[1A\u001b[2K\u001b[0G[+] 12.0s\r\n",
      "conda-forge/linux-64 ━━━━━━━━━━━━━━━━━━━━━━  29.7MB @   3.4MB/s Downloaded 12.0s\u001b[2K\u001b[1A\u001b[2K\u001b[0G[+] 12.1s\r\n",
      "conda-forge/linux-64 ━━━━━━━━━━━━━━━━━━━━━━  29.7MB @   3.4MB/s Downloaded 12.1s\u001b[2K\u001b[1A\u001b[2K\u001b[0G[+] 12.2s\r\n",
      "conda-forge/linux-64 ━━━━━━━━━━━━━━━━━━━━━━  29.7MB @   3.4MB/s Downloaded 12.2s\u001b[2K\u001b[1A\u001b[2K\u001b[0G[+] 12.3s\r\n",
      "conda-forge/linux-64 ━━━━━━━━━━━━━━━━━━━━━━  29.7MB @   3.4MB/s Downloaded 12.3s\u001b[2K\u001b[1A\u001b[2K\u001b[0G[+] 12.4s\r\n",
      "conda-forge/linux-64 ━━━━━━━━━━━━━━━━━━━━━━  29.7MB @   3.4MB/s Downloaded 12.4s\u001b[2K\u001b[1A\u001b[2K\u001b[0G[+] 12.5s\r\n",
      "conda-forge/linux-64 ━━━━━━━━━━━━━━━━━━━━━━  29.7MB @   3.4MB/s Downloaded 12.5s\u001b[2K\u001b[1A\u001b[2K\u001b[0G[+] 12.6s\r\n",
      "conda-forge/linux-64 ━━━━━━━━━━━━━━━━━━━━━━  29.7MB @   3.4MB/s Downloaded 12.6s\u001b[2K\u001b[1A\u001b[2K\u001b[0G[+] 12.7s\r\n",
      "conda-forge/linux-64 ━━━━━━━━━━━━━━━━━━━━━━  29.7MB @   3.4MB/s Finalizing 12.7s\u001b[2K\u001b[1A\u001b[2K\u001b[0G[+] 12.8s\r\n",
      "conda-forge/linux-64 ━━━━━━━━━━━━━━━━━━━━━━  29.7MB @   3.4MB/s Finalizing 12.8s\u001b[2K\u001b[1A\u001b[2K\u001b[0G[+] 12.9s\r\n",
      "conda-forge/linux-64 ━━━━━━━━━━━━━━━━━━━━━━  29.7MB @   3.4MB/s Finalizing 12.9s\u001b[2K\u001b[1A\u001b[2K\u001b[0G[+] 13.0s\r\n",
      "\u001b[2K\u001b[1A\u001b[2K\u001b[0G[+] 13.1s\r\n",
      "\u001b[2K\u001b[1A\u001b[2K\u001b[0G[+] 13.2s\r\n",
      "\u001b[2K\u001b[1A\u001b[2K\u001b[0G[+] 13.3s\r\n",
      "\u001b[2K\u001b[1A\u001b[2K\u001b[0Gconda-forge/linux-64                               @   3.4MB/s 13.0s\r\n",
      "\u001b[?25h\r\n",
      "Pinned packages:\r\n",
      "  - python 3.7.*\r\n",
      "\r\n",
      "\r\n",
      "Transaction\r\n",
      "\r\n",
      "  Prefix: /opt/conda\r\n",
      "\r\n",
      "  Updating specs:\r\n",
      "\r\n",
      "   - bs4==4.10.0\r\n",
      "   - ca-certificates\r\n",
      "   - certifi\r\n",
      "   - openssl\r\n",
      "\r\n",
      "\r\n",
      "  Package           Version  Build         Channel                Size\r\n",
      "────────────────────────────────────────────────────────────────────────\r\n",
      "  Install:\r\n",
      "────────────────────────────────────────────────────────────────────────\r\n",
      "\r\n",
      "\u001b[32m  + bs4           \u001b[00m   4.10.0  hd8ed1ab_0    conda-forge/noarch      4kB\r\n",
      "\r\n",
      "  Downgrade:\r\n",
      "────────────────────────────────────────────────────────────────────────\r\n",
      "\r\n",
      "\u001b[31m  - beautifulsoup4\u001b[00m   4.11.1  pyha770c72_0  conda-forge                \r\n",
      "\u001b[32m  + beautifulsoup4\u001b[00m   4.10.0  pyha770c72_0  conda-forge/noarch     79kB\r\n",
      "\r\n",
      "  Summary:\r\n",
      "\r\n",
      "  Install: 1 packages\r\n",
      "  Downgrade: 1 packages\r\n",
      "\r\n",
      "  Total download: 84kB\r\n",
      "\r\n",
      "────────────────────────────────────────────────────────────────────────\r\n",
      "\r\n",
      "\u001b[?25l\u001b[2K\u001b[0G[+] 0.0s\r\n",
      "Downloading      \u001b[90m━━━━━━━━━━━━━━━━━━━━━━━\u001b[0m   0.0 B                            0.0s\r\n",
      "Extracting       \u001b[90m━━━━━━━━━━━━━━━━━━━━━━━\u001b[0m       0                            0.0s\u001b[2K\u001b[1A\u001b[2K\u001b[1A\u001b[2K\u001b[0G[+] 0.1s\r\n",
      "Downloading  (2) \u001b[33m━━━━━━━━━━━━━━━━━━━━━━━\u001b[0m   0.0 B beautifulsoup4             0.0s\r\n",
      "Extracting       \u001b[90m━━━━━━━━━━━━━━━━━━━━━━━\u001b[0m       0                            0.0s\u001b[2K\u001b[1A\u001b[2K\u001b[1A\u001b[2K\u001b[0G[+] 0.2s\r\n",
      "Downloading  (2) \u001b[33m━━━━━━━━━━━━━━━━━━━━━━━\u001b[0m   0.0 B beautifulsoup4             0.1s\r\n",
      "Extracting       \u001b[90m━━━━━━━━━━━━━━━━━━━━━━━\u001b[0m       0                            0.0s\u001b[2K\u001b[1A\u001b[2K\u001b[1A\u001b[2K\u001b[0Gbeautifulsoup4                                      79.2kB @ 276.8kB/s  0.3s\r\n",
      "bs4                                                  4.3kB @  14.6kB/s  0.3s\r\n",
      "[+] 0.3s\r\n",
      "Downloading      ━━━━━━━━━━━━━━━━━━━━━━━  83.5kB                            0.2s\r\n",
      "Extracting   (2) \u001b[90m╸\u001b[0m\u001b[33m━━━━━━━━━━━━━━━╸\u001b[0m\u001b[90m━━━━━━\u001b[0m       0 beautifulsoup4             0.0s\u001b[2K\u001b[1A\u001b[2K\u001b[1A\u001b[2K\u001b[0G[+] 0.4s\r\n",
      "Downloading      ━━━━━━━━━━━━━━━━━━━━━━━  83.5kB                            0.2s\r\n",
      "Extracting   (2) \u001b[90m━╸\u001b[0m\u001b[33m━━━━━━━━━━━━━━━╸\u001b[0m\u001b[90m━━━━━\u001b[0m       0 beautifulsoup4             0.1s\u001b[2K\u001b[1A\u001b[2K\u001b[1A\u001b[2K\u001b[0G[+] 0.5s\r\n",
      "Downloading      ━━━━━━━━━━━━━━━━━━━━━━━  83.5kB                            0.2s\r\n",
      "Extracting   (2) \u001b[90m━━╸\u001b[0m\u001b[33m━━━━━━━━━━━━━━━╸\u001b[0m\u001b[90m━━━━\u001b[0m       0 beautifulsoup4             0.2s\u001b[2K\u001b[1A\u001b[2K\u001b[1A\u001b[2K\u001b[0G[+] 0.6s\r\n",
      "Downloading      ━━━━━━━━━━━━━━━━━━━━━━━  83.5kB                            0.2s\r\n",
      "Extracting   (2) \u001b[90m━━━━╸\u001b[0m\u001b[33m━━━━━━━━━━━━━━━╸\u001b[0m\u001b[90m━━\u001b[0m       0 beautifulsoup4             0.3s\u001b[2K\u001b[1A\u001b[2K\u001b[1A\u001b[2K\u001b[0G[+] 0.7s\r\n",
      "Downloading      ━━━━━━━━━━━━━━━━━━━━━━━  83.5kB                            0.2s\r\n",
      "Extracting   (2) \u001b[90m━━━━━╸\u001b[0m\u001b[33m━━━━━━━━━━━━━━━╸\u001b[0m\u001b[90m━\u001b[0m       0 bs4                        0.4s\u001b[2K\u001b[1A\u001b[2K\u001b[1A\u001b[2K\u001b[0G[+] 0.8s\r\n",
      "Downloading      ━━━━━━━━━━━━━━━━━━━━━━━  83.5kB                            0.2s\r\n",
      "Extracting   (2) \u001b[90m━━━━━━╸\u001b[0m\u001b[33m━━━━━━━━━━━━━━━━\u001b[0m       0 bs4                        0.5s\u001b[2K\u001b[1A\u001b[2K\u001b[1A\u001b[2K\u001b[0G[+] 0.9s\r\n",
      "Downloading      ━━━━━━━━━━━━━━━━━━━━━━━  83.5kB                            0.2s\r\n",
      "Extracting   (2) \u001b[90m━━━━━━━╸\u001b[0m\u001b[33m━━━━━━━━━━━━━━━\u001b[0m       0 bs4                        0.6s\u001b[2K\u001b[1A\u001b[2K\u001b[1A\u001b[2K\u001b[0G[+] 1.0s\r\n",
      "Downloading      ━━━━━━━━━━━━━━━━━━━━━━━  83.5kB                            0.2s\r\n",
      "Extracting   (2) \u001b[90m━━━━━━━━╸\u001b[0m\u001b[33m━━━━━━━━━━━━━━\u001b[0m       0 bs4                        0.7s\u001b[2K\u001b[1A\u001b[2K\u001b[1A\u001b[2K\u001b[0G[+] 1.1s\r\n",
      "Downloading      ━━━━━━━━━━━━━━━━━━━━━━━  83.5kB                            0.2s\r\n",
      "Extracting   (2) \u001b[90m━━━━━━━━━╸\u001b[0m\u001b[33m━━━━━━━━━━━━━\u001b[0m       0 beautifulsoup4             0.8s\u001b[2K\u001b[1A\u001b[2K\u001b[1A\u001b[2K\u001b[0G[+] 1.2s\r\n",
      "Downloading      ━━━━━━━━━━━━━━━━━━━━━━━  83.5kB                            0.2s\r\n",
      "Extracting   (2) \u001b[90m━━━━━━━━━━╸\u001b[0m\u001b[33m━━━━━━━━━━━━\u001b[0m       0 beautifulsoup4             0.9s\u001b[2K\u001b[1A\u001b[2K\u001b[1A\u001b[2K\u001b[0G[+] 1.3s\r\n",
      "Downloading      ━━━━━━━━━━━━━━━━━━━━━━━  83.5kB                            0.2s\r\n",
      "Extracting   (2) \u001b[90m━━━━━━━━━━━╸\u001b[0m\u001b[33m━━━━━━━━━━━\u001b[0m       0 beautifulsoup4             1.0s\u001b[2K\u001b[1A\u001b[2K\u001b[1A\u001b[2K\u001b[0G[+] 1.4s\r\n",
      "Downloading      ━━━━━━━━━━━━━━━━━━━━━━━  83.5kB                            0.2s\r\n",
      "Extracting   (2) \u001b[90m━━━━━━━━━━━━╸\u001b[0m\u001b[33m━━━━━━━━━━\u001b[0m       0 beautifulsoup4             1.1s\u001b[2K\u001b[1A\u001b[2K\u001b[1A\u001b[2K\u001b[0G\u001b[?25hPreparing transaction: - \b\bdone\r\n",
      "Verifying transaction: | \b\bdone\r\n",
      "Executing transaction: - \b\b\\ \b\b| \b\b/ \b\b- \b\b\\ \b\b| \b\b/ \b\b- \b\b\\ \b\b| \b\b/ \b\b- \b\b\\ \b\bdone\r\n"
     ]
    }
   ],
   "source": [
    "!pip install yfinance==0.1.67\n",
    "#!pip install pandas==1.3.3\n",
    "#!pip install requests==2.26.0\n",
    "!mamba install bs4==4.10.0 -y\n",
    "#!pip install plotly==5.3.1"
   ]
  },
  {
   "cell_type": "code",
   "execution_count": 2,
   "id": "93453073",
   "metadata": {
    "execution": {
     "iopub.execute_input": "2023-02-17T14:34:48.762836Z",
     "iopub.status.busy": "2023-02-17T14:34:48.762405Z",
     "iopub.status.idle": "2023-02-17T14:34:48.974489Z",
     "shell.execute_reply": "2023-02-17T14:34:48.973638Z"
    },
    "papermill": {
     "duration": 0.237893,
     "end_time": "2023-02-17T14:34:48.976930",
     "exception": false,
     "start_time": "2023-02-17T14:34:48.739037",
     "status": "completed"
    },
    "tags": []
   },
   "outputs": [],
   "source": [
    "import yfinance as yf\n",
    "import pandas as pd\n",
    "import requests\n",
    "from bs4 import BeautifulSoup\n",
    "import plotly.graph_objects as go\n",
    "from plotly.subplots import make_subplots"
   ]
  },
  {
   "cell_type": "markdown",
   "id": "5905ccdc",
   "metadata": {
    "papermill": {
     "duration": 0.020772,
     "end_time": "2023-02-17T14:34:49.018916",
     "exception": false,
     "start_time": "2023-02-17T14:34:48.998144",
     "status": "completed"
    },
    "tags": []
   },
   "source": [
    "## Define Graphing Function\n"
   ]
  },
  {
   "cell_type": "markdown",
   "id": "d7daddf0",
   "metadata": {
    "papermill": {
     "duration": 0.020567,
     "end_time": "2023-02-17T14:34:49.060394",
     "exception": false,
     "start_time": "2023-02-17T14:34:49.039827",
     "status": "completed"
    },
    "tags": []
   },
   "source": [
    "In this section, we define the function `make_graph`. You don't have to know how the function works, you should only care about the inputs. It takes a dataframe with stock data (dataframe must contain Date and Close columns), a dataframe with revenue data (dataframe must contain Date and Revenue columns), and the name of the stock.\n"
   ]
  },
  {
   "cell_type": "code",
   "execution_count": 3,
   "id": "f8169dd6",
   "metadata": {
    "execution": {
     "iopub.execute_input": "2023-02-17T14:34:49.104925Z",
     "iopub.status.busy": "2023-02-17T14:34:49.104185Z",
     "iopub.status.idle": "2023-02-17T14:34:49.113401Z",
     "shell.execute_reply": "2023-02-17T14:34:49.112643Z"
    },
    "papermill": {
     "duration": 0.033926,
     "end_time": "2023-02-17T14:34:49.115548",
     "exception": false,
     "start_time": "2023-02-17T14:34:49.081622",
     "status": "completed"
    },
    "tags": []
   },
   "outputs": [],
   "source": [
    "def make_graph(stock_data, revenue_data, stock):\n",
    "    fig = make_subplots(rows=2, cols=1, shared_xaxes=True, subplot_titles=(\"Historical Share Price\", \"Historical Revenue\"), vertical_spacing = .3)\n",
    "    stock_data_specific = stock_data[stock_data.Date <= '2021--06-14']\n",
    "    revenue_data_specific = revenue_data[revenue_data.Date <= '2021-04-30']\n",
    "    fig.add_trace(go.Scatter(x=pd.to_datetime(stock_data_specific.Date, infer_datetime_format=True), y=stock_data_specific.Close.astype(\"float\"), name=\"Share Price\"), row=1, col=1)\n",
    "    fig.add_trace(go.Scatter(x=pd.to_datetime(revenue_data_specific.Date, infer_datetime_format=True), y=revenue_data_specific.Revenue.astype(\"float\"), name=\"Revenue\"), row=2, col=1)\n",
    "    fig.update_xaxes(title_text=\"Date\", row=1, col=1)\n",
    "    fig.update_xaxes(title_text=\"Date\", row=2, col=1)\n",
    "    fig.update_yaxes(title_text=\"Price ($US)\", row=1, col=1)\n",
    "    fig.update_yaxes(title_text=\"Revenue ($US Millions)\", row=2, col=1)\n",
    "    fig.update_layout(showlegend=False,\n",
    "    height=900,\n",
    "    title=stock,\n",
    "    xaxis_rangeslider_visible=True)\n",
    "    fig.show()"
   ]
  },
  {
   "cell_type": "markdown",
   "id": "567f9002",
   "metadata": {
    "papermill": {
     "duration": 0.020877,
     "end_time": "2023-02-17T14:34:49.157646",
     "exception": false,
     "start_time": "2023-02-17T14:34:49.136769",
     "status": "completed"
    },
    "tags": []
   },
   "source": [
    "## Question 1: Use yfinance to Extract Stock Data\n"
   ]
  },
  {
   "cell_type": "markdown",
   "id": "22d6a49d",
   "metadata": {
    "papermill": {
     "duration": 0.020752,
     "end_time": "2023-02-17T14:34:49.199501",
     "exception": false,
     "start_time": "2023-02-17T14:34:49.178749",
     "status": "completed"
    },
    "tags": []
   },
   "source": [
    "Using the `Ticker` function enter the ticker symbol of the stock we want to extract data on to create a ticker object. The stock is Tesla and its ticker symbol is `TSLA`.\n"
   ]
  },
  {
   "cell_type": "code",
   "execution_count": 4,
   "id": "9cfd934b",
   "metadata": {
    "execution": {
     "iopub.execute_input": "2023-02-17T14:34:49.243607Z",
     "iopub.status.busy": "2023-02-17T14:34:49.242871Z",
     "iopub.status.idle": "2023-02-17T14:34:49.254488Z",
     "shell.execute_reply": "2023-02-17T14:34:49.253668Z"
    },
    "papermill": {
     "duration": 0.035985,
     "end_time": "2023-02-17T14:34:49.256652",
     "exception": false,
     "start_time": "2023-02-17T14:34:49.220667",
     "status": "completed"
    },
    "tags": []
   },
   "outputs": [],
   "source": [
    "tesla = yf.Ticker(\"TSLA\")"
   ]
  },
  {
   "cell_type": "markdown",
   "id": "52488d6d",
   "metadata": {
    "papermill": {
     "duration": 0.020814,
     "end_time": "2023-02-17T14:34:49.298581",
     "exception": false,
     "start_time": "2023-02-17T14:34:49.277767",
     "status": "completed"
    },
    "tags": []
   },
   "source": [
    "Using the ticker object and the function `history` extract stock information and save it in a dataframe named `tesla_data`. Set the `period` parameter to `max` so we get information for the maximum amount of time.\n"
   ]
  },
  {
   "cell_type": "code",
   "execution_count": 5,
   "id": "c8c7e442",
   "metadata": {
    "execution": {
     "iopub.execute_input": "2023-02-17T14:34:49.342927Z",
     "iopub.status.busy": "2023-02-17T14:34:49.342204Z",
     "iopub.status.idle": "2023-02-17T14:34:50.088454Z",
     "shell.execute_reply": "2023-02-17T14:34:50.087569Z"
    },
    "papermill": {
     "duration": 0.771193,
     "end_time": "2023-02-17T14:34:50.090939",
     "exception": false,
     "start_time": "2023-02-17T14:34:49.319746",
     "status": "completed"
    },
    "tags": []
   },
   "outputs": [],
   "source": [
    "tesla_data = tesla.history(period=\"max\")"
   ]
  },
  {
   "cell_type": "markdown",
   "id": "f938e543",
   "metadata": {
    "papermill": {
     "duration": 0.020939,
     "end_time": "2023-02-17T14:34:50.133270",
     "exception": false,
     "start_time": "2023-02-17T14:34:50.112331",
     "status": "completed"
    },
    "tags": []
   },
   "source": [
    "**Reset the index** using the `reset_index(inplace=True)` function on the tesla_data DataFrame and display the first five rows of the `tesla_data` dataframe using the `head` function. Take a screenshot of the results and code from the beginning of Question 1 to the results below.\n"
   ]
  },
  {
   "cell_type": "code",
   "execution_count": 6,
   "id": "fbadfc2e",
   "metadata": {
    "execution": {
     "iopub.execute_input": "2023-02-17T14:34:50.177703Z",
     "iopub.status.busy": "2023-02-17T14:34:50.177096Z",
     "iopub.status.idle": "2023-02-17T14:34:50.198576Z",
     "shell.execute_reply": "2023-02-17T14:34:50.197433Z"
    },
    "papermill": {
     "duration": 0.046337,
     "end_time": "2023-02-17T14:34:50.200847",
     "exception": false,
     "start_time": "2023-02-17T14:34:50.154510",
     "status": "completed"
    },
    "tags": []
   },
   "outputs": [
    {
     "data": {
      "text/html": [
       "<div>\n",
       "<style scoped>\n",
       "    .dataframe tbody tr th:only-of-type {\n",
       "        vertical-align: middle;\n",
       "    }\n",
       "\n",
       "    .dataframe tbody tr th {\n",
       "        vertical-align: top;\n",
       "    }\n",
       "\n",
       "    .dataframe thead th {\n",
       "        text-align: right;\n",
       "    }\n",
       "</style>\n",
       "<table border=\"1\" class=\"dataframe\">\n",
       "  <thead>\n",
       "    <tr style=\"text-align: right;\">\n",
       "      <th></th>\n",
       "      <th>Date</th>\n",
       "      <th>Open</th>\n",
       "      <th>High</th>\n",
       "      <th>Low</th>\n",
       "      <th>Close</th>\n",
       "      <th>Volume</th>\n",
       "      <th>Dividends</th>\n",
       "      <th>Stock Splits</th>\n",
       "    </tr>\n",
       "  </thead>\n",
       "  <tbody>\n",
       "    <tr>\n",
       "      <th>0</th>\n",
       "      <td>2010-06-29</td>\n",
       "      <td>1.266667</td>\n",
       "      <td>1.666667</td>\n",
       "      <td>1.169333</td>\n",
       "      <td>1.592667</td>\n",
       "      <td>281494500</td>\n",
       "      <td>0</td>\n",
       "      <td>0.0</td>\n",
       "    </tr>\n",
       "    <tr>\n",
       "      <th>1</th>\n",
       "      <td>2010-06-30</td>\n",
       "      <td>1.719333</td>\n",
       "      <td>2.028000</td>\n",
       "      <td>1.553333</td>\n",
       "      <td>1.588667</td>\n",
       "      <td>257806500</td>\n",
       "      <td>0</td>\n",
       "      <td>0.0</td>\n",
       "    </tr>\n",
       "    <tr>\n",
       "      <th>2</th>\n",
       "      <td>2010-07-01</td>\n",
       "      <td>1.666667</td>\n",
       "      <td>1.728000</td>\n",
       "      <td>1.351333</td>\n",
       "      <td>1.464000</td>\n",
       "      <td>123282000</td>\n",
       "      <td>0</td>\n",
       "      <td>0.0</td>\n",
       "    </tr>\n",
       "    <tr>\n",
       "      <th>3</th>\n",
       "      <td>2010-07-02</td>\n",
       "      <td>1.533333</td>\n",
       "      <td>1.540000</td>\n",
       "      <td>1.247333</td>\n",
       "      <td>1.280000</td>\n",
       "      <td>77097000</td>\n",
       "      <td>0</td>\n",
       "      <td>0.0</td>\n",
       "    </tr>\n",
       "    <tr>\n",
       "      <th>4</th>\n",
       "      <td>2010-07-06</td>\n",
       "      <td>1.333333</td>\n",
       "      <td>1.333333</td>\n",
       "      <td>1.055333</td>\n",
       "      <td>1.074000</td>\n",
       "      <td>103003500</td>\n",
       "      <td>0</td>\n",
       "      <td>0.0</td>\n",
       "    </tr>\n",
       "  </tbody>\n",
       "</table>\n",
       "</div>"
      ],
      "text/plain": [
       "        Date      Open      High       Low     Close     Volume  Dividends  \\\n",
       "0 2010-06-29  1.266667  1.666667  1.169333  1.592667  281494500          0   \n",
       "1 2010-06-30  1.719333  2.028000  1.553333  1.588667  257806500          0   \n",
       "2 2010-07-01  1.666667  1.728000  1.351333  1.464000  123282000          0   \n",
       "3 2010-07-02  1.533333  1.540000  1.247333  1.280000   77097000          0   \n",
       "4 2010-07-06  1.333333  1.333333  1.055333  1.074000  103003500          0   \n",
       "\n",
       "   Stock Splits  \n",
       "0           0.0  \n",
       "1           0.0  \n",
       "2           0.0  \n",
       "3           0.0  \n",
       "4           0.0  "
      ]
     },
     "execution_count": 6,
     "metadata": {},
     "output_type": "execute_result"
    }
   ],
   "source": [
    "tesla_data.reset_index(inplace=True)\n",
    "tesla_data.head()"
   ]
  },
  {
   "cell_type": "markdown",
   "id": "6eed825d",
   "metadata": {
    "papermill": {
     "duration": 0.021129,
     "end_time": "2023-02-17T14:34:50.243681",
     "exception": false,
     "start_time": "2023-02-17T14:34:50.222552",
     "status": "completed"
    },
    "tags": []
   },
   "source": [
    "## Question 2: Use Webscraping to Extract Tesla Revenue Data\n"
   ]
  },
  {
   "cell_type": "markdown",
   "id": "66c5cc12",
   "metadata": {
    "papermill": {
     "duration": 0.021066,
     "end_time": "2023-02-17T14:34:50.286020",
     "exception": false,
     "start_time": "2023-02-17T14:34:50.264954",
     "status": "completed"
    },
    "tags": []
   },
   "source": [
    "Use the `requests` library to download the webpage [https://www.macrotrends.net/stocks/charts/TSLA/tesla/revenue](https://www.macrotrends.net/stocks/charts/TSLA/tesla/revenue?utm_medium=Exinfluencer&utm_source=Exinfluencer&utm_content=000026UJ&utm_term=10006555&utm_id=NA-SkillsNetwork-Channel-SkillsNetworkCoursesIBMDeveloperSkillsNetworkPY0220ENSkillsNetwork23455606-2021-01-01). Save the text of the response as a variable named `html_data`.\n"
   ]
  },
  {
   "cell_type": "code",
   "execution_count": 7,
   "id": "abad43fd",
   "metadata": {
    "execution": {
     "iopub.execute_input": "2023-02-17T14:34:50.331338Z",
     "iopub.status.busy": "2023-02-17T14:34:50.330611Z",
     "iopub.status.idle": "2023-02-17T14:34:50.822494Z",
     "shell.execute_reply": "2023-02-17T14:34:50.821424Z"
    },
    "papermill": {
     "duration": 0.517895,
     "end_time": "2023-02-17T14:34:50.825266",
     "exception": false,
     "start_time": "2023-02-17T14:34:50.307371",
     "status": "completed"
    },
    "tags": []
   },
   "outputs": [],
   "source": [
    "url= \"https://www.macrotrends.net/stocks/charts/TSLA/tesla/revenue\"\n",
    "html_data=requests.get(url).text"
   ]
  },
  {
   "cell_type": "markdown",
   "id": "654343da",
   "metadata": {
    "papermill": {
     "duration": 0.021387,
     "end_time": "2023-02-17T14:34:50.868803",
     "exception": false,
     "start_time": "2023-02-17T14:34:50.847416",
     "status": "completed"
    },
    "tags": []
   },
   "source": [
    "Parse the html data using `beautiful_soup`.\n"
   ]
  },
  {
   "cell_type": "code",
   "execution_count": 8,
   "id": "076361ea",
   "metadata": {
    "execution": {
     "iopub.execute_input": "2023-02-17T14:34:50.913825Z",
     "iopub.status.busy": "2023-02-17T14:34:50.913389Z",
     "iopub.status.idle": "2023-02-17T14:34:50.999473Z",
     "shell.execute_reply": "2023-02-17T14:34:50.998303Z"
    },
    "papermill": {
     "duration": 0.11187,
     "end_time": "2023-02-17T14:34:51.002238",
     "exception": false,
     "start_time": "2023-02-17T14:34:50.890368",
     "status": "completed"
    },
    "tags": []
   },
   "outputs": [],
   "source": [
    "soup = BeautifulSoup(html_data,\"html5lib\")"
   ]
  },
  {
   "cell_type": "markdown",
   "id": "f8d00c6b",
   "metadata": {
    "papermill": {
     "duration": 0.022265,
     "end_time": "2023-02-17T14:34:51.046848",
     "exception": false,
     "start_time": "2023-02-17T14:34:51.024583",
     "status": "completed"
    },
    "tags": []
   },
   "source": [
    "Using `BeautifulSoup` or the `read_html` function extract the table with `Tesla Quarterly Revenue` and store it into a dataframe named `tesla_revenue`. The dataframe should have columns `Date` and `Revenue`.\n"
   ]
  },
  {
   "cell_type": "markdown",
   "id": "f098234c",
   "metadata": {
    "papermill": {
     "duration": 0.021578,
     "end_time": "2023-02-17T14:34:51.090787",
     "exception": false,
     "start_time": "2023-02-17T14:34:51.069209",
     "status": "completed"
    },
    "tags": []
   },
   "source": [
    "<details><summary>Click here if you need help locating the table</summary>\n",
    "\n",
    "```\n",
    "    \n",
    "Below is the code to isolate the table, you will now need to loop through the rows and columns like in the previous lab\n",
    "    \n",
    "soup.find_all(\"tbody\")[1]\n",
    "    \n",
    "If you want to use the read_html function the table is located at index 1\n",
    "\n",
    "\n",
    "```\n",
    "\n",
    "</details>\n"
   ]
  },
  {
   "cell_type": "code",
   "execution_count": 9,
   "id": "c05b9c23",
   "metadata": {
    "execution": {
     "iopub.execute_input": "2023-02-17T14:34:51.135953Z",
     "iopub.status.busy": "2023-02-17T14:34:51.135524Z",
     "iopub.status.idle": "2023-02-17T14:34:51.849847Z",
     "shell.execute_reply": "2023-02-17T14:34:51.848703Z"
    },
    "papermill": {
     "duration": 0.739786,
     "end_time": "2023-02-17T14:34:51.852450",
     "exception": false,
     "start_time": "2023-02-17T14:34:51.112664",
     "status": "completed"
    },
    "tags": []
   },
   "outputs": [
    {
     "name": "stderr",
     "output_type": "stream",
     "text": [
      "/opt/conda/lib/python3.7/site-packages/ipykernel_launcher.py:3: FutureWarning: The default value of regex will change from True to False in a future version. In addition, single character regular expressions will *not* be treated as literal strings when regex=True.\n",
      "  This is separate from the ipykernel package so we can avoid doing imports until\n"
     ]
    },
    {
     "data": {
      "text/html": [
       "<div>\n",
       "<style scoped>\n",
       "    .dataframe tbody tr th:only-of-type {\n",
       "        vertical-align: middle;\n",
       "    }\n",
       "\n",
       "    .dataframe tbody tr th {\n",
       "        vertical-align: top;\n",
       "    }\n",
       "\n",
       "    .dataframe thead th {\n",
       "        text-align: right;\n",
       "    }\n",
       "</style>\n",
       "<table border=\"1\" class=\"dataframe\">\n",
       "  <thead>\n",
       "    <tr style=\"text-align: right;\">\n",
       "      <th></th>\n",
       "      <th>Date</th>\n",
       "      <th>Revenue</th>\n",
       "    </tr>\n",
       "  </thead>\n",
       "  <tbody>\n",
       "    <tr>\n",
       "      <th>0</th>\n",
       "      <td>2022-12-31</td>\n",
       "      <td>24318</td>\n",
       "    </tr>\n",
       "    <tr>\n",
       "      <th>1</th>\n",
       "      <td>2022-09-30</td>\n",
       "      <td>21454</td>\n",
       "    </tr>\n",
       "    <tr>\n",
       "      <th>2</th>\n",
       "      <td>2022-06-30</td>\n",
       "      <td>16934</td>\n",
       "    </tr>\n",
       "    <tr>\n",
       "      <th>3</th>\n",
       "      <td>2022-03-31</td>\n",
       "      <td>18756</td>\n",
       "    </tr>\n",
       "    <tr>\n",
       "      <th>4</th>\n",
       "      <td>2021-12-31</td>\n",
       "      <td>17719</td>\n",
       "    </tr>\n",
       "  </tbody>\n",
       "</table>\n",
       "</div>"
      ],
      "text/plain": [
       "         Date Revenue\n",
       "0  2022-12-31   24318\n",
       "1  2022-09-30   21454\n",
       "2  2022-06-30   16934\n",
       "3  2022-03-31   18756\n",
       "4  2021-12-31   17719"
      ]
     },
     "execution_count": 9,
     "metadata": {},
     "output_type": "execute_result"
    }
   ],
   "source": [
    "tesla_revenue= pd.read_html(url, match=\"Tesla Quarterly Revenue\", flavor='bs4')[0]\n",
    "tesla_revenue=tesla_revenue.rename(columns = {'Tesla Quarterly Revenue(Millions of US $)': 'Date', 'Tesla Quarterly Revenue(Millions of US $).1': 'Revenue'}, inplace = False)\n",
    "tesla_revenue[\"Revenue\"] = tesla_revenue[\"Revenue\"].str.replace(\",\",\"\").str.replace(\"$\",\"\")\n",
    "tesla_revenue.head()"
   ]
  },
  {
   "cell_type": "markdown",
   "id": "2cb42a9e",
   "metadata": {
    "papermill": {
     "duration": 0.022061,
     "end_time": "2023-02-17T14:34:51.897258",
     "exception": false,
     "start_time": "2023-02-17T14:34:51.875197",
     "status": "completed"
    },
    "tags": []
   },
   "source": [
    "Execute the following line to remove the comma and dollar sign from the `Revenue` column.\n"
   ]
  },
  {
   "cell_type": "code",
   "execution_count": 10,
   "id": "58b4f851",
   "metadata": {
    "execution": {
     "iopub.execute_input": "2023-02-17T14:34:51.943323Z",
     "iopub.status.busy": "2023-02-17T14:34:51.942432Z",
     "iopub.status.idle": "2023-02-17T14:34:51.955760Z",
     "shell.execute_reply": "2023-02-17T14:34:51.954959Z"
    },
    "papermill": {
     "duration": 0.038514,
     "end_time": "2023-02-17T14:34:51.957766",
     "exception": false,
     "start_time": "2023-02-17T14:34:51.919252",
     "status": "completed"
    },
    "tags": []
   },
   "outputs": [
    {
     "data": {
      "text/html": [
       "<div>\n",
       "<style scoped>\n",
       "    .dataframe tbody tr th:only-of-type {\n",
       "        vertical-align: middle;\n",
       "    }\n",
       "\n",
       "    .dataframe tbody tr th {\n",
       "        vertical-align: top;\n",
       "    }\n",
       "\n",
       "    .dataframe thead th {\n",
       "        text-align: right;\n",
       "    }\n",
       "</style>\n",
       "<table border=\"1\" class=\"dataframe\">\n",
       "  <thead>\n",
       "    <tr style=\"text-align: right;\">\n",
       "      <th></th>\n",
       "      <th>Date</th>\n",
       "      <th>Revenue</th>\n",
       "    </tr>\n",
       "  </thead>\n",
       "  <tbody>\n",
       "    <tr>\n",
       "      <th>0</th>\n",
       "      <td>2022-12-31</td>\n",
       "      <td>24318</td>\n",
       "    </tr>\n",
       "    <tr>\n",
       "      <th>1</th>\n",
       "      <td>2022-09-30</td>\n",
       "      <td>21454</td>\n",
       "    </tr>\n",
       "    <tr>\n",
       "      <th>2</th>\n",
       "      <td>2022-06-30</td>\n",
       "      <td>16934</td>\n",
       "    </tr>\n",
       "    <tr>\n",
       "      <th>3</th>\n",
       "      <td>2022-03-31</td>\n",
       "      <td>18756</td>\n",
       "    </tr>\n",
       "    <tr>\n",
       "      <th>4</th>\n",
       "      <td>2021-12-31</td>\n",
       "      <td>17719</td>\n",
       "    </tr>\n",
       "    <tr>\n",
       "      <th>5</th>\n",
       "      <td>2021-09-30</td>\n",
       "      <td>13757</td>\n",
       "    </tr>\n",
       "    <tr>\n",
       "      <th>6</th>\n",
       "      <td>2021-06-30</td>\n",
       "      <td>11958</td>\n",
       "    </tr>\n",
       "    <tr>\n",
       "      <th>7</th>\n",
       "      <td>2021-03-31</td>\n",
       "      <td>10389</td>\n",
       "    </tr>\n",
       "    <tr>\n",
       "      <th>8</th>\n",
       "      <td>2020-12-31</td>\n",
       "      <td>10744</td>\n",
       "    </tr>\n",
       "    <tr>\n",
       "      <th>9</th>\n",
       "      <td>2020-09-30</td>\n",
       "      <td>8771</td>\n",
       "    </tr>\n",
       "    <tr>\n",
       "      <th>10</th>\n",
       "      <td>2020-06-30</td>\n",
       "      <td>6036</td>\n",
       "    </tr>\n",
       "    <tr>\n",
       "      <th>11</th>\n",
       "      <td>2020-03-31</td>\n",
       "      <td>5985</td>\n",
       "    </tr>\n",
       "    <tr>\n",
       "      <th>12</th>\n",
       "      <td>2019-12-31</td>\n",
       "      <td>7384</td>\n",
       "    </tr>\n",
       "    <tr>\n",
       "      <th>13</th>\n",
       "      <td>2019-09-30</td>\n",
       "      <td>6303</td>\n",
       "    </tr>\n",
       "    <tr>\n",
       "      <th>14</th>\n",
       "      <td>2019-06-30</td>\n",
       "      <td>6350</td>\n",
       "    </tr>\n",
       "    <tr>\n",
       "      <th>15</th>\n",
       "      <td>2019-03-31</td>\n",
       "      <td>4541</td>\n",
       "    </tr>\n",
       "    <tr>\n",
       "      <th>16</th>\n",
       "      <td>2018-12-31</td>\n",
       "      <td>7226</td>\n",
       "    </tr>\n",
       "    <tr>\n",
       "      <th>17</th>\n",
       "      <td>2018-09-30</td>\n",
       "      <td>6824</td>\n",
       "    </tr>\n",
       "    <tr>\n",
       "      <th>18</th>\n",
       "      <td>2018-06-30</td>\n",
       "      <td>4002</td>\n",
       "    </tr>\n",
       "    <tr>\n",
       "      <th>19</th>\n",
       "      <td>2018-03-31</td>\n",
       "      <td>3409</td>\n",
       "    </tr>\n",
       "    <tr>\n",
       "      <th>20</th>\n",
       "      <td>2017-12-31</td>\n",
       "      <td>3288</td>\n",
       "    </tr>\n",
       "    <tr>\n",
       "      <th>21</th>\n",
       "      <td>2017-09-30</td>\n",
       "      <td>2985</td>\n",
       "    </tr>\n",
       "    <tr>\n",
       "      <th>22</th>\n",
       "      <td>2017-06-30</td>\n",
       "      <td>2790</td>\n",
       "    </tr>\n",
       "    <tr>\n",
       "      <th>23</th>\n",
       "      <td>2017-03-31</td>\n",
       "      <td>2696</td>\n",
       "    </tr>\n",
       "    <tr>\n",
       "      <th>24</th>\n",
       "      <td>2016-12-31</td>\n",
       "      <td>2285</td>\n",
       "    </tr>\n",
       "    <tr>\n",
       "      <th>25</th>\n",
       "      <td>2016-09-30</td>\n",
       "      <td>2298</td>\n",
       "    </tr>\n",
       "    <tr>\n",
       "      <th>26</th>\n",
       "      <td>2016-06-30</td>\n",
       "      <td>1270</td>\n",
       "    </tr>\n",
       "    <tr>\n",
       "      <th>27</th>\n",
       "      <td>2016-03-31</td>\n",
       "      <td>1147</td>\n",
       "    </tr>\n",
       "    <tr>\n",
       "      <th>28</th>\n",
       "      <td>2015-12-31</td>\n",
       "      <td>1214</td>\n",
       "    </tr>\n",
       "    <tr>\n",
       "      <th>29</th>\n",
       "      <td>2015-09-30</td>\n",
       "      <td>937</td>\n",
       "    </tr>\n",
       "    <tr>\n",
       "      <th>30</th>\n",
       "      <td>2015-06-30</td>\n",
       "      <td>955</td>\n",
       "    </tr>\n",
       "    <tr>\n",
       "      <th>31</th>\n",
       "      <td>2015-03-31</td>\n",
       "      <td>940</td>\n",
       "    </tr>\n",
       "    <tr>\n",
       "      <th>32</th>\n",
       "      <td>2014-12-31</td>\n",
       "      <td>957</td>\n",
       "    </tr>\n",
       "    <tr>\n",
       "      <th>33</th>\n",
       "      <td>2014-09-30</td>\n",
       "      <td>852</td>\n",
       "    </tr>\n",
       "    <tr>\n",
       "      <th>34</th>\n",
       "      <td>2014-06-30</td>\n",
       "      <td>769</td>\n",
       "    </tr>\n",
       "    <tr>\n",
       "      <th>35</th>\n",
       "      <td>2014-03-31</td>\n",
       "      <td>621</td>\n",
       "    </tr>\n",
       "    <tr>\n",
       "      <th>36</th>\n",
       "      <td>2013-12-31</td>\n",
       "      <td>615</td>\n",
       "    </tr>\n",
       "    <tr>\n",
       "      <th>37</th>\n",
       "      <td>2013-09-30</td>\n",
       "      <td>431</td>\n",
       "    </tr>\n",
       "    <tr>\n",
       "      <th>38</th>\n",
       "      <td>2013-06-30</td>\n",
       "      <td>405</td>\n",
       "    </tr>\n",
       "    <tr>\n",
       "      <th>39</th>\n",
       "      <td>2013-03-31</td>\n",
       "      <td>562</td>\n",
       "    </tr>\n",
       "    <tr>\n",
       "      <th>40</th>\n",
       "      <td>2012-12-31</td>\n",
       "      <td>306</td>\n",
       "    </tr>\n",
       "    <tr>\n",
       "      <th>41</th>\n",
       "      <td>2012-09-30</td>\n",
       "      <td>50</td>\n",
       "    </tr>\n",
       "    <tr>\n",
       "      <th>42</th>\n",
       "      <td>2012-06-30</td>\n",
       "      <td>27</td>\n",
       "    </tr>\n",
       "    <tr>\n",
       "      <th>43</th>\n",
       "      <td>2012-03-31</td>\n",
       "      <td>30</td>\n",
       "    </tr>\n",
       "    <tr>\n",
       "      <th>44</th>\n",
       "      <td>2011-12-31</td>\n",
       "      <td>39</td>\n",
       "    </tr>\n",
       "    <tr>\n",
       "      <th>45</th>\n",
       "      <td>2011-09-30</td>\n",
       "      <td>58</td>\n",
       "    </tr>\n",
       "    <tr>\n",
       "      <th>46</th>\n",
       "      <td>2011-06-30</td>\n",
       "      <td>58</td>\n",
       "    </tr>\n",
       "    <tr>\n",
       "      <th>47</th>\n",
       "      <td>2011-03-31</td>\n",
       "      <td>49</td>\n",
       "    </tr>\n",
       "    <tr>\n",
       "      <th>48</th>\n",
       "      <td>2010-12-31</td>\n",
       "      <td>36</td>\n",
       "    </tr>\n",
       "    <tr>\n",
       "      <th>49</th>\n",
       "      <td>2010-09-30</td>\n",
       "      <td>31</td>\n",
       "    </tr>\n",
       "    <tr>\n",
       "      <th>50</th>\n",
       "      <td>2010-06-30</td>\n",
       "      <td>28</td>\n",
       "    </tr>\n",
       "    <tr>\n",
       "      <th>51</th>\n",
       "      <td>2010-03-31</td>\n",
       "      <td>21</td>\n",
       "    </tr>\n",
       "    <tr>\n",
       "      <th>52</th>\n",
       "      <td>2009-12-31</td>\n",
       "      <td>NaN</td>\n",
       "    </tr>\n",
       "    <tr>\n",
       "      <th>53</th>\n",
       "      <td>2009-09-30</td>\n",
       "      <td>46</td>\n",
       "    </tr>\n",
       "    <tr>\n",
       "      <th>54</th>\n",
       "      <td>2009-06-30</td>\n",
       "      <td>27</td>\n",
       "    </tr>\n",
       "  </tbody>\n",
       "</table>\n",
       "</div>"
      ],
      "text/plain": [
       "          Date Revenue\n",
       "0   2022-12-31   24318\n",
       "1   2022-09-30   21454\n",
       "2   2022-06-30   16934\n",
       "3   2022-03-31   18756\n",
       "4   2021-12-31   17719\n",
       "5   2021-09-30   13757\n",
       "6   2021-06-30   11958\n",
       "7   2021-03-31   10389\n",
       "8   2020-12-31   10744\n",
       "9   2020-09-30    8771\n",
       "10  2020-06-30    6036\n",
       "11  2020-03-31    5985\n",
       "12  2019-12-31    7384\n",
       "13  2019-09-30    6303\n",
       "14  2019-06-30    6350\n",
       "15  2019-03-31    4541\n",
       "16  2018-12-31    7226\n",
       "17  2018-09-30    6824\n",
       "18  2018-06-30    4002\n",
       "19  2018-03-31    3409\n",
       "20  2017-12-31    3288\n",
       "21  2017-09-30    2985\n",
       "22  2017-06-30    2790\n",
       "23  2017-03-31    2696\n",
       "24  2016-12-31    2285\n",
       "25  2016-09-30    2298\n",
       "26  2016-06-30    1270\n",
       "27  2016-03-31    1147\n",
       "28  2015-12-31    1214\n",
       "29  2015-09-30     937\n",
       "30  2015-06-30     955\n",
       "31  2015-03-31     940\n",
       "32  2014-12-31     957\n",
       "33  2014-09-30     852\n",
       "34  2014-06-30     769\n",
       "35  2014-03-31     621\n",
       "36  2013-12-31     615\n",
       "37  2013-09-30     431\n",
       "38  2013-06-30     405\n",
       "39  2013-03-31     562\n",
       "40  2012-12-31     306\n",
       "41  2012-09-30      50\n",
       "42  2012-06-30      27\n",
       "43  2012-03-31      30\n",
       "44  2011-12-31      39\n",
       "45  2011-09-30      58\n",
       "46  2011-06-30      58\n",
       "47  2011-03-31      49\n",
       "48  2010-12-31      36\n",
       "49  2010-09-30      31\n",
       "50  2010-06-30      28\n",
       "51  2010-03-31      21\n",
       "52  2009-12-31     NaN\n",
       "53  2009-09-30      46\n",
       "54  2009-06-30      27"
      ]
     },
     "execution_count": 10,
     "metadata": {},
     "output_type": "execute_result"
    }
   ],
   "source": [
    "tesla_revenue"
   ]
  },
  {
   "cell_type": "markdown",
   "id": "0d1bac4b",
   "metadata": {
    "papermill": {
     "duration": 0.022116,
     "end_time": "2023-02-17T14:34:52.002442",
     "exception": false,
     "start_time": "2023-02-17T14:34:51.980326",
     "status": "completed"
    },
    "tags": []
   },
   "source": [
    "Execute the following lines to remove an null or empty strings in the Revenue column.\n"
   ]
  },
  {
   "cell_type": "code",
   "execution_count": 11,
   "id": "2db43fa8",
   "metadata": {
    "execution": {
     "iopub.execute_input": "2023-02-17T14:34:52.050176Z",
     "iopub.status.busy": "2023-02-17T14:34:52.049411Z",
     "iopub.status.idle": "2023-02-17T14:34:52.060710Z",
     "shell.execute_reply": "2023-02-17T14:34:52.059667Z"
    },
    "papermill": {
     "duration": 0.03749,
     "end_time": "2023-02-17T14:34:52.062950",
     "exception": false,
     "start_time": "2023-02-17T14:34:52.025460",
     "status": "completed"
    },
    "tags": []
   },
   "outputs": [
    {
     "data": {
      "text/html": [
       "<div>\n",
       "<style scoped>\n",
       "    .dataframe tbody tr th:only-of-type {\n",
       "        vertical-align: middle;\n",
       "    }\n",
       "\n",
       "    .dataframe tbody tr th {\n",
       "        vertical-align: top;\n",
       "    }\n",
       "\n",
       "    .dataframe thead th {\n",
       "        text-align: right;\n",
       "    }\n",
       "</style>\n",
       "<table border=\"1\" class=\"dataframe\">\n",
       "  <thead>\n",
       "    <tr style=\"text-align: right;\">\n",
       "      <th></th>\n",
       "      <th>Date</th>\n",
       "      <th>Revenue</th>\n",
       "    </tr>\n",
       "  </thead>\n",
       "  <tbody>\n",
       "    <tr>\n",
       "      <th>49</th>\n",
       "      <td>2010-09-30</td>\n",
       "      <td>31</td>\n",
       "    </tr>\n",
       "    <tr>\n",
       "      <th>50</th>\n",
       "      <td>2010-06-30</td>\n",
       "      <td>28</td>\n",
       "    </tr>\n",
       "    <tr>\n",
       "      <th>51</th>\n",
       "      <td>2010-03-31</td>\n",
       "      <td>21</td>\n",
       "    </tr>\n",
       "    <tr>\n",
       "      <th>53</th>\n",
       "      <td>2009-09-30</td>\n",
       "      <td>46</td>\n",
       "    </tr>\n",
       "    <tr>\n",
       "      <th>54</th>\n",
       "      <td>2009-06-30</td>\n",
       "      <td>27</td>\n",
       "    </tr>\n",
       "  </tbody>\n",
       "</table>\n",
       "</div>"
      ],
      "text/plain": [
       "          Date Revenue\n",
       "49  2010-09-30      31\n",
       "50  2010-06-30      28\n",
       "51  2010-03-31      21\n",
       "53  2009-09-30      46\n",
       "54  2009-06-30      27"
      ]
     },
     "execution_count": 11,
     "metadata": {},
     "output_type": "execute_result"
    }
   ],
   "source": [
    "tesla_revenue.dropna(inplace=True)\n",
    "tesla_revenue.tail()"
   ]
  },
  {
   "cell_type": "markdown",
   "id": "7983b3be",
   "metadata": {
    "papermill": {
     "duration": 0.023126,
     "end_time": "2023-02-17T14:34:52.109646",
     "exception": false,
     "start_time": "2023-02-17T14:34:52.086520",
     "status": "completed"
    },
    "tags": []
   },
   "source": [
    "Display the last 5 row of the `tesla_revenue` dataframe using the `tail` function. Take a screenshot of the results.\n"
   ]
  },
  {
   "cell_type": "code",
   "execution_count": null,
   "id": "020aded2",
   "metadata": {
    "papermill": {
     "duration": 0.022561,
     "end_time": "2023-02-17T14:34:52.155088",
     "exception": false,
     "start_time": "2023-02-17T14:34:52.132527",
     "status": "completed"
    },
    "tags": []
   },
   "outputs": [],
   "source": []
  },
  {
   "cell_type": "markdown",
   "id": "9ecefbfa",
   "metadata": {
    "papermill": {
     "duration": 0.022407,
     "end_time": "2023-02-17T14:34:52.200395",
     "exception": false,
     "start_time": "2023-02-17T14:34:52.177988",
     "status": "completed"
    },
    "tags": []
   },
   "source": [
    "## Question 3: Use yfinance to Extract Stock Data\n"
   ]
  },
  {
   "cell_type": "markdown",
   "id": "84507bb0",
   "metadata": {
    "papermill": {
     "duration": 0.022474,
     "end_time": "2023-02-17T14:34:52.245879",
     "exception": false,
     "start_time": "2023-02-17T14:34:52.223405",
     "status": "completed"
    },
    "tags": []
   },
   "source": [
    "Using the `Ticker` function enter the ticker symbol of the stock we want to extract data on to create a ticker object. The stock is GameStop and its ticker symbol is `GME`.\n"
   ]
  },
  {
   "cell_type": "code",
   "execution_count": 12,
   "id": "e2bcc7e0",
   "metadata": {
    "execution": {
     "iopub.execute_input": "2023-02-17T14:34:52.294055Z",
     "iopub.status.busy": "2023-02-17T14:34:52.293621Z",
     "iopub.status.idle": "2023-02-17T14:34:52.302625Z",
     "shell.execute_reply": "2023-02-17T14:34:52.301651Z"
    },
    "papermill": {
     "duration": 0.035353,
     "end_time": "2023-02-17T14:34:52.304726",
     "exception": false,
     "start_time": "2023-02-17T14:34:52.269373",
     "status": "completed"
    },
    "tags": []
   },
   "outputs": [],
   "source": [
    "gamestop = yf.Ticker(\"GME\")"
   ]
  },
  {
   "cell_type": "markdown",
   "id": "86d494be",
   "metadata": {
    "papermill": {
     "duration": 0.022428,
     "end_time": "2023-02-17T14:34:52.350544",
     "exception": false,
     "start_time": "2023-02-17T14:34:52.328116",
     "status": "completed"
    },
    "tags": []
   },
   "source": [
    "Using the ticker object and the function `history` extract stock information and save it in a dataframe named `gme_data`. Set the `period` parameter to `max` so we get information for the maximum amount of time.\n"
   ]
  },
  {
   "cell_type": "code",
   "execution_count": 13,
   "id": "c579cf62",
   "metadata": {
    "execution": {
     "iopub.execute_input": "2023-02-17T14:34:52.398628Z",
     "iopub.status.busy": "2023-02-17T14:34:52.398211Z",
     "iopub.status.idle": "2023-02-17T14:34:53.158101Z",
     "shell.execute_reply": "2023-02-17T14:34:53.157021Z"
    },
    "papermill": {
     "duration": 0.787542,
     "end_time": "2023-02-17T14:34:53.160726",
     "exception": false,
     "start_time": "2023-02-17T14:34:52.373184",
     "status": "completed"
    },
    "tags": []
   },
   "outputs": [],
   "source": [
    "gme_data=gamestop.history(period=\"max\")"
   ]
  },
  {
   "cell_type": "markdown",
   "id": "5dfc40b6",
   "metadata": {
    "papermill": {
     "duration": 0.022701,
     "end_time": "2023-02-17T14:34:53.206741",
     "exception": false,
     "start_time": "2023-02-17T14:34:53.184040",
     "status": "completed"
    },
    "tags": []
   },
   "source": [
    "**Reset the index** using the `reset_index(inplace=True)` function on the gme_data DataFrame and display the first five rows of the `gme_data` dataframe using the `head` function. Take a screenshot of the results and code from the beginning of Question 3 to the results below.\n"
   ]
  },
  {
   "cell_type": "code",
   "execution_count": 14,
   "id": "1074da15",
   "metadata": {
    "execution": {
     "iopub.execute_input": "2023-02-17T14:34:53.254373Z",
     "iopub.status.busy": "2023-02-17T14:34:53.253772Z",
     "iopub.status.idle": "2023-02-17T14:34:53.270738Z",
     "shell.execute_reply": "2023-02-17T14:34:53.269581Z"
    },
    "papermill": {
     "duration": 0.043334,
     "end_time": "2023-02-17T14:34:53.272939",
     "exception": false,
     "start_time": "2023-02-17T14:34:53.229605",
     "status": "completed"
    },
    "tags": []
   },
   "outputs": [
    {
     "data": {
      "text/html": [
       "<div>\n",
       "<style scoped>\n",
       "    .dataframe tbody tr th:only-of-type {\n",
       "        vertical-align: middle;\n",
       "    }\n",
       "\n",
       "    .dataframe tbody tr th {\n",
       "        vertical-align: top;\n",
       "    }\n",
       "\n",
       "    .dataframe thead th {\n",
       "        text-align: right;\n",
       "    }\n",
       "</style>\n",
       "<table border=\"1\" class=\"dataframe\">\n",
       "  <thead>\n",
       "    <tr style=\"text-align: right;\">\n",
       "      <th></th>\n",
       "      <th>Date</th>\n",
       "      <th>Open</th>\n",
       "      <th>High</th>\n",
       "      <th>Low</th>\n",
       "      <th>Close</th>\n",
       "      <th>Volume</th>\n",
       "      <th>Dividends</th>\n",
       "      <th>Stock Splits</th>\n",
       "    </tr>\n",
       "  </thead>\n",
       "  <tbody>\n",
       "    <tr>\n",
       "      <th>0</th>\n",
       "      <td>2002-02-13</td>\n",
       "      <td>1.620129</td>\n",
       "      <td>1.693350</td>\n",
       "      <td>1.603296</td>\n",
       "      <td>1.691667</td>\n",
       "      <td>76216000</td>\n",
       "      <td>0.0</td>\n",
       "      <td>0.0</td>\n",
       "    </tr>\n",
       "    <tr>\n",
       "      <th>1</th>\n",
       "      <td>2002-02-14</td>\n",
       "      <td>1.712708</td>\n",
       "      <td>1.716074</td>\n",
       "      <td>1.670626</td>\n",
       "      <td>1.683251</td>\n",
       "      <td>11021600</td>\n",
       "      <td>0.0</td>\n",
       "      <td>0.0</td>\n",
       "    </tr>\n",
       "    <tr>\n",
       "      <th>2</th>\n",
       "      <td>2002-02-15</td>\n",
       "      <td>1.683250</td>\n",
       "      <td>1.687458</td>\n",
       "      <td>1.658002</td>\n",
       "      <td>1.674834</td>\n",
       "      <td>8389600</td>\n",
       "      <td>0.0</td>\n",
       "      <td>0.0</td>\n",
       "    </tr>\n",
       "    <tr>\n",
       "      <th>3</th>\n",
       "      <td>2002-02-19</td>\n",
       "      <td>1.666418</td>\n",
       "      <td>1.666418</td>\n",
       "      <td>1.578047</td>\n",
       "      <td>1.607504</td>\n",
       "      <td>7410400</td>\n",
       "      <td>0.0</td>\n",
       "      <td>0.0</td>\n",
       "    </tr>\n",
       "    <tr>\n",
       "      <th>4</th>\n",
       "      <td>2002-02-20</td>\n",
       "      <td>1.615921</td>\n",
       "      <td>1.662210</td>\n",
       "      <td>1.603296</td>\n",
       "      <td>1.662210</td>\n",
       "      <td>6892800</td>\n",
       "      <td>0.0</td>\n",
       "      <td>0.0</td>\n",
       "    </tr>\n",
       "  </tbody>\n",
       "</table>\n",
       "</div>"
      ],
      "text/plain": [
       "        Date      Open      High       Low     Close    Volume  Dividends  \\\n",
       "0 2002-02-13  1.620129  1.693350  1.603296  1.691667  76216000        0.0   \n",
       "1 2002-02-14  1.712708  1.716074  1.670626  1.683251  11021600        0.0   \n",
       "2 2002-02-15  1.683250  1.687458  1.658002  1.674834   8389600        0.0   \n",
       "3 2002-02-19  1.666418  1.666418  1.578047  1.607504   7410400        0.0   \n",
       "4 2002-02-20  1.615921  1.662210  1.603296  1.662210   6892800        0.0   \n",
       "\n",
       "   Stock Splits  \n",
       "0           0.0  \n",
       "1           0.0  \n",
       "2           0.0  \n",
       "3           0.0  \n",
       "4           0.0  "
      ]
     },
     "execution_count": 14,
     "metadata": {},
     "output_type": "execute_result"
    }
   ],
   "source": [
    "gme_data.reset_index(inplace=True)\n",
    "gme_data.head()"
   ]
  },
  {
   "cell_type": "markdown",
   "id": "8df878c1",
   "metadata": {
    "papermill": {
     "duration": 0.022756,
     "end_time": "2023-02-17T14:34:53.318897",
     "exception": false,
     "start_time": "2023-02-17T14:34:53.296141",
     "status": "completed"
    },
    "tags": []
   },
   "source": [
    "## Question 4: Use Webscraping to Extract GME Revenue Data\n"
   ]
  },
  {
   "cell_type": "markdown",
   "id": "d31ddc0e",
   "metadata": {
    "papermill": {
     "duration": 0.023349,
     "end_time": "2023-02-17T14:34:53.365243",
     "exception": false,
     "start_time": "2023-02-17T14:34:53.341894",
     "status": "completed"
    },
    "tags": []
   },
   "source": [
    "Use the `requests` library to download the webpage [https://www.macrotrends.net/stocks/charts/GME/gamestop/revenue](https://www.macrotrends.net/stocks/charts/GME/gamestop/revenue?utm_medium=Exinfluencer&utm_source=Exinfluencer&utm_content=000026UJ&utm_term=10006555&utm_id=NA-SkillsNetwork-Channel-SkillsNetworkCoursesIBMDeveloperSkillsNetworkPY0220ENSkillsNetwork23455606-2021-01-01). Save the text of the response as a variable named `html_data`.\n"
   ]
  },
  {
   "cell_type": "code",
   "execution_count": 15,
   "id": "6afc1de2",
   "metadata": {
    "execution": {
     "iopub.execute_input": "2023-02-17T14:34:53.414408Z",
     "iopub.status.busy": "2023-02-17T14:34:53.413975Z",
     "iopub.status.idle": "2023-02-17T14:34:53.903678Z",
     "shell.execute_reply": "2023-02-17T14:34:53.902529Z"
    },
    "papermill": {
     "duration": 0.516983,
     "end_time": "2023-02-17T14:34:53.906377",
     "exception": false,
     "start_time": "2023-02-17T14:34:53.389394",
     "status": "completed"
    },
    "tags": []
   },
   "outputs": [],
   "source": [
    "url=\"https://www.macrotrends.net/stocks/charts/GME/gamestop/revenue\"\n",
    "html_data=requests.get(url).text"
   ]
  },
  {
   "cell_type": "markdown",
   "id": "63ab8de8",
   "metadata": {
    "papermill": {
     "duration": 0.022485,
     "end_time": "2023-02-17T14:34:53.951818",
     "exception": false,
     "start_time": "2023-02-17T14:34:53.929333",
     "status": "completed"
    },
    "tags": []
   },
   "source": [
    "Parse the html data using `beautiful_soup`.\n"
   ]
  },
  {
   "cell_type": "code",
   "execution_count": 16,
   "id": "2baa5c5d",
   "metadata": {
    "execution": {
     "iopub.execute_input": "2023-02-17T14:34:53.999319Z",
     "iopub.status.busy": "2023-02-17T14:34:53.998866Z",
     "iopub.status.idle": "2023-02-17T14:34:54.075549Z",
     "shell.execute_reply": "2023-02-17T14:34:54.073956Z"
    },
    "papermill": {
     "duration": 0.103441,
     "end_time": "2023-02-17T14:34:54.078085",
     "exception": false,
     "start_time": "2023-02-17T14:34:53.974644",
     "status": "completed"
    },
    "tags": []
   },
   "outputs": [],
   "source": [
    "soup = BeautifulSoup(html_data,\"html5lib\")"
   ]
  },
  {
   "cell_type": "markdown",
   "id": "e2f7b001",
   "metadata": {
    "papermill": {
     "duration": 0.022894,
     "end_time": "2023-02-17T14:34:54.124577",
     "exception": false,
     "start_time": "2023-02-17T14:34:54.101683",
     "status": "completed"
    },
    "tags": []
   },
   "source": [
    "Using `BeautifulSoup` or the `read_html` function extract the table with `GameStop Quarterly Revenue` and store it into a dataframe named `gme_revenue`. The dataframe should have columns `Date` and `Revenue`. Make sure the comma and dollar sign is removed from the `Revenue` column using a method similar to what you did in Question 2.\n"
   ]
  },
  {
   "cell_type": "markdown",
   "id": "46e2ac51",
   "metadata": {
    "papermill": {
     "duration": 0.024375,
     "end_time": "2023-02-17T14:34:54.172252",
     "exception": false,
     "start_time": "2023-02-17T14:34:54.147877",
     "status": "completed"
    },
    "tags": []
   },
   "source": [
    "<details><summary>Click here if you need help locating the table</summary>\n",
    "\n",
    "```\n",
    "    \n",
    "Below is the code to isolate the table, you will now need to loop through the rows and columns like in the previous lab\n",
    "    \n",
    "soup.find_all(\"tbody\")[1]\n",
    "    \n",
    "If you want to use the read_html function the table is located at index 1\n",
    "\n",
    "\n",
    "```\n",
    "\n",
    "</details>\n"
   ]
  },
  {
   "cell_type": "code",
   "execution_count": 17,
   "id": "99c4636c",
   "metadata": {
    "execution": {
     "iopub.execute_input": "2023-02-17T14:34:54.221056Z",
     "iopub.status.busy": "2023-02-17T14:34:54.219876Z",
     "iopub.status.idle": "2023-02-17T14:34:54.900889Z",
     "shell.execute_reply": "2023-02-17T14:34:54.899606Z"
    },
    "papermill": {
     "duration": 0.70817,
     "end_time": "2023-02-17T14:34:54.903555",
     "exception": false,
     "start_time": "2023-02-17T14:34:54.195385",
     "status": "completed"
    },
    "tags": []
   },
   "outputs": [
    {
     "name": "stderr",
     "output_type": "stream",
     "text": [
      "/opt/conda/lib/python3.7/site-packages/ipykernel_launcher.py:3: FutureWarning: The default value of regex will change from True to False in a future version. In addition, single character regular expressions will *not* be treated as literal strings when regex=True.\n",
      "  This is separate from the ipykernel package so we can avoid doing imports until\n"
     ]
    }
   ],
   "source": [
    "gme_revenue= pd.read_html(url, match=\"GameStop Quarterly Revenue\", flavor='bs4')[0]\n",
    "gme_revenue=gme_revenue.rename(columns = {'GameStop Quarterly Revenue(Millions of US $)': 'Date', 'GameStop Quarterly Revenue(Millions of US $).1': 'Revenue'}, inplace = False)\n",
    "gme_revenue[\"Revenue\"] = gme_revenue[\"Revenue\"].str.replace(\",\",\"\").str.replace(\"$\",\"\")"
   ]
  },
  {
   "cell_type": "markdown",
   "id": "378d1b87",
   "metadata": {
    "papermill": {
     "duration": 0.023087,
     "end_time": "2023-02-17T14:34:54.950172",
     "exception": false,
     "start_time": "2023-02-17T14:34:54.927085",
     "status": "completed"
    },
    "tags": []
   },
   "source": [
    "Display the last five rows of the `gme_revenue` dataframe using the `tail` function. Take a screenshot of the results.\n"
   ]
  },
  {
   "cell_type": "code",
   "execution_count": 18,
   "id": "b05a4de5",
   "metadata": {
    "execution": {
     "iopub.execute_input": "2023-02-17T14:34:54.998707Z",
     "iopub.status.busy": "2023-02-17T14:34:54.998315Z",
     "iopub.status.idle": "2023-02-17T14:34:55.010121Z",
     "shell.execute_reply": "2023-02-17T14:34:55.009046Z"
    },
    "papermill": {
     "duration": 0.03888,
     "end_time": "2023-02-17T14:34:55.012492",
     "exception": false,
     "start_time": "2023-02-17T14:34:54.973612",
     "status": "completed"
    },
    "tags": []
   },
   "outputs": [
    {
     "data": {
      "text/html": [
       "<div>\n",
       "<style scoped>\n",
       "    .dataframe tbody tr th:only-of-type {\n",
       "        vertical-align: middle;\n",
       "    }\n",
       "\n",
       "    .dataframe tbody tr th {\n",
       "        vertical-align: top;\n",
       "    }\n",
       "\n",
       "    .dataframe thead th {\n",
       "        text-align: right;\n",
       "    }\n",
       "</style>\n",
       "<table border=\"1\" class=\"dataframe\">\n",
       "  <thead>\n",
       "    <tr style=\"text-align: right;\">\n",
       "      <th></th>\n",
       "      <th>Date</th>\n",
       "      <th>Revenue</th>\n",
       "    </tr>\n",
       "  </thead>\n",
       "  <tbody>\n",
       "    <tr>\n",
       "      <th>51</th>\n",
       "      <td>2010-01-31</td>\n",
       "      <td>3524</td>\n",
       "    </tr>\n",
       "    <tr>\n",
       "      <th>52</th>\n",
       "      <td>2009-10-31</td>\n",
       "      <td>1835</td>\n",
       "    </tr>\n",
       "    <tr>\n",
       "      <th>53</th>\n",
       "      <td>2009-07-31</td>\n",
       "      <td>1739</td>\n",
       "    </tr>\n",
       "    <tr>\n",
       "      <th>54</th>\n",
       "      <td>2009-04-30</td>\n",
       "      <td>1981</td>\n",
       "    </tr>\n",
       "    <tr>\n",
       "      <th>55</th>\n",
       "      <td>2009-01-31</td>\n",
       "      <td>3492</td>\n",
       "    </tr>\n",
       "  </tbody>\n",
       "</table>\n",
       "</div>"
      ],
      "text/plain": [
       "          Date Revenue\n",
       "51  2010-01-31    3524\n",
       "52  2009-10-31    1835\n",
       "53  2009-07-31    1739\n",
       "54  2009-04-30    1981\n",
       "55  2009-01-31    3492"
      ]
     },
     "execution_count": 18,
     "metadata": {},
     "output_type": "execute_result"
    }
   ],
   "source": [
    "gme_revenue.dropna(inplace=True)\n",
    "gme_revenue.tail()"
   ]
  },
  {
   "cell_type": "markdown",
   "id": "80d16a16",
   "metadata": {
    "papermill": {
     "duration": 0.023275,
     "end_time": "2023-02-17T14:34:55.059670",
     "exception": false,
     "start_time": "2023-02-17T14:34:55.036395",
     "status": "completed"
    },
    "tags": []
   },
   "source": [
    "## Question 5: Plot Tesla Stock Graph\n"
   ]
  },
  {
   "cell_type": "markdown",
   "id": "0ab773fb",
   "metadata": {
    "papermill": {
     "duration": 0.024235,
     "end_time": "2023-02-17T14:34:55.108168",
     "exception": false,
     "start_time": "2023-02-17T14:34:55.083933",
     "status": "completed"
    },
    "tags": []
   },
   "source": [
    "Use the `make_graph` function to graph the Tesla Stock Data, also provide a title for the graph. The structure to call the `make_graph` function is `make_graph(tesla_data, tesla_revenue, 'Tesla')`. Note the graph will only show data upto June 2021.\n"
   ]
  },
  {
   "cell_type": "code",
   "execution_count": 19,
   "id": "89e4756d",
   "metadata": {
    "execution": {
     "iopub.execute_input": "2023-02-17T14:34:55.157692Z",
     "iopub.status.busy": "2023-02-17T14:34:55.156986Z",
     "iopub.status.idle": "2023-02-17T14:34:55.636369Z",
     "shell.execute_reply": "2023-02-17T14:34:55.635282Z"
    },
    "papermill": {
     "duration": 0.507926,
     "end_time": "2023-02-17T14:34:55.639726",
     "exception": false,
     "start_time": "2023-02-17T14:34:55.131800",
     "status": "completed"
    },
    "tags": []
   },
   "outputs": [
    {
     "data": {
      "text/html": [
       "        <script type=\"text/javascript\">\n",
       "        window.PlotlyConfig = {MathJaxConfig: 'local'};\n",
       "        if (window.MathJax && window.MathJax.Hub && window.MathJax.Hub.Config) {window.MathJax.Hub.Config({SVG: {font: \"STIX-Web\"}});}\n",
       "        if (typeof require !== 'undefined') {\n",
       "        require.undef(\"plotly\");\n",
       "        requirejs.config({\n",
       "            paths: {\n",
       "                'plotly': ['https://cdn.plot.ly/plotly-2.18.0.min']\n",
       "            }\n",
       "        });\n",
       "        require(['plotly'], function(Plotly) {\n",
       "            window._Plotly = Plotly;\n",
       "        });\n",
       "        }\n",
       "        </script>\n",
       "        "
      ]
     },
     "metadata": {},
     "output_type": "display_data"
    },
    {
     "data": {
      "text/html": [
       "<div>                            <div id=\"ca615c4d-6b47-453a-9b04-8c2156c680ba\" class=\"plotly-graph-div\" style=\"height:900px; width:100%;\"></div>            <script type=\"text/javascript\">                require([\"plotly\"], function(Plotly) {                    window.PLOTLYENV=window.PLOTLYENV || {};                                    if (document.getElementById(\"ca615c4d-6b47-453a-9b04-8c2156c680ba\")) {                    Plotly.newPlot(                        \"ca615c4d-6b47-453a-9b04-8c2156c680ba\",                        [{\"name\":\"Share Price\",\"x\":[\"2010-06-29T00:00:00\",\"2010-06-30T00:00:00\",\"2010-07-01T00:00:00\",\"2010-07-02T00:00:00\",\"2010-07-06T00:00:00\",\"2010-07-07T00:00:00\",\"2010-07-08T00:00:00\",\"2010-07-09T00:00:00\",\"2010-07-12T00:00:00\",\"2010-07-13T00:00:00\",\"2010-07-14T00:00:00\",\"2010-07-15T00:00:00\",\"2010-07-16T00:00:00\",\"2010-07-19T00:00:00\",\"2010-07-20T00:00:00\",\"2010-07-21T00:00:00\",\"2010-07-22T00:00:00\",\"2010-07-23T00:00:00\",\"2010-07-26T00:00:00\",\"2010-07-27T00:00:00\",\"2010-07-28T00:00:00\",\"2010-07-29T00:00:00\",\"2010-07-30T00:00:00\",\"2010-08-02T00:00:00\",\"2010-08-03T00:00:00\",\"2010-08-04T00:00:00\",\"2010-08-05T00:00:00\",\"2010-08-06T00:00:00\",\"2010-08-09T00:00:00\",\"2010-08-10T00:00:00\",\"2010-08-11T00:00:00\",\"2010-08-12T00:00:00\",\"2010-08-13T00:00:00\",\"2010-08-16T00:00:00\",\"2010-08-17T00:00:00\",\"2010-08-18T00:00:00\",\"2010-08-19T00:00:00\",\"2010-08-20T00:00:00\",\"2010-08-23T00:00:00\",\"2010-08-24T00:00:00\",\"2010-08-25T00:00:00\",\"2010-08-26T00:00:00\",\"2010-08-27T00:00:00\",\"2010-08-30T00:00:00\",\"2010-08-31T00:00:00\",\"2010-09-01T00:00:00\",\"2010-09-02T00:00:00\",\"2010-09-03T00:00:00\",\"2010-09-07T00:00:00\",\"2010-09-08T00:00:00\",\"2010-09-09T00:00:00\",\"2010-09-10T00:00:00\",\"2010-09-13T00:00:00\",\"2010-09-14T00:00:00\",\"2010-09-15T00:00:00\",\"2010-09-16T00:00:00\",\"2010-09-17T00:00:00\",\"2010-09-20T00:00:00\",\"2010-09-21T00:00:00\",\"2010-09-22T00:00:00\",\"2010-09-23T00:00:00\",\"2010-09-24T00:00:00\",\"2010-09-27T00:00:00\",\"2010-09-28T00:00:00\",\"2010-09-29T00:00:00\",\"2010-09-30T00:00:00\",\"2010-10-01T00:00:00\",\"2010-10-04T00:00:00\",\"2010-10-05T00:00:00\",\"2010-10-06T00:00:00\",\"2010-10-07T00:00:00\",\"2010-10-08T00:00:00\",\"2010-10-11T00:00:00\",\"2010-10-12T00:00:00\",\"2010-10-13T00:00:00\",\"2010-10-14T00:00:00\",\"2010-10-15T00:00:00\",\"2010-10-18T00:00:00\",\"2010-10-19T00:00:00\",\"2010-10-20T00:00:00\",\"2010-10-21T00:00:00\",\"2010-10-22T00:00:00\",\"2010-10-25T00:00:00\",\"2010-10-26T00:00:00\",\"2010-10-27T00:00:00\",\"2010-10-28T00:00:00\",\"2010-10-29T00:00:00\",\"2010-11-01T00:00:00\",\"2010-11-02T00:00:00\",\"2010-11-03T00:00:00\",\"2010-11-04T00:00:00\",\"2010-11-05T00:00:00\",\"2010-11-08T00:00:00\",\"2010-11-09T00:00:00\",\"2010-11-10T00:00:00\",\"2010-11-11T00:00:00\",\"2010-11-12T00:00:00\",\"2010-11-15T00:00:00\",\"2010-11-16T00:00:00\",\"2010-11-17T00:00:00\",\"2010-11-18T00:00:00\",\"2010-11-19T00:00:00\",\"2010-11-22T00:00:00\",\"2010-11-23T00:00:00\",\"2010-11-24T00:00:00\",\"2010-11-26T00:00:00\",\"2010-11-29T00:00:00\",\"2010-11-30T00:00:00\",\"2010-12-01T00:00:00\",\"2010-12-02T00:00:00\",\"2010-12-03T00:00:00\",\"2010-12-06T00:00:00\",\"2010-12-07T00:00:00\",\"2010-12-08T00:00:00\",\"2010-12-09T00:00:00\",\"2010-12-10T00:00:00\",\"2010-12-13T00:00:00\",\"2010-12-14T00:00:00\",\"2010-12-15T00:00:00\",\"2010-12-16T00:00:00\",\"2010-12-17T00:00:00\",\"2010-12-20T00:00:00\",\"2010-12-21T00:00:00\",\"2010-12-22T00:00:00\",\"2010-12-23T00:00:00\",\"2010-12-27T00:00:00\",\"2010-12-28T00:00:00\",\"2010-12-29T00:00:00\",\"2010-12-30T00:00:00\",\"2010-12-31T00:00:00\",\"2011-01-03T00:00:00\",\"2011-01-04T00:00:00\",\"2011-01-05T00:00:00\",\"2011-01-06T00:00:00\",\"2011-01-07T00:00:00\",\"2011-01-10T00:00:00\",\"2011-01-11T00:00:00\",\"2011-01-12T00:00:00\",\"2011-01-13T00:00:00\",\"2011-01-14T00:00:00\",\"2011-01-18T00:00:00\",\"2011-01-19T00:00:00\",\"2011-01-20T00:00:00\",\"2011-01-21T00:00:00\",\"2011-01-24T00:00:00\",\"2011-01-25T00:00:00\",\"2011-01-26T00:00:00\",\"2011-01-27T00:00:00\",\"2011-01-28T00:00:00\",\"2011-01-31T00:00:00\",\"2011-02-01T00:00:00\",\"2011-02-02T00:00:00\",\"2011-02-03T00:00:00\",\"2011-02-04T00:00:00\",\"2011-02-07T00:00:00\",\"2011-02-08T00:00:00\",\"2011-02-09T00:00:00\",\"2011-02-10T00:00:00\",\"2011-02-11T00:00:00\",\"2011-02-14T00:00:00\",\"2011-02-15T00:00:00\",\"2011-02-16T00:00:00\",\"2011-02-17T00:00:00\",\"2011-02-18T00:00:00\",\"2011-02-22T00:00:00\",\"2011-02-23T00:00:00\",\"2011-02-24T00:00:00\",\"2011-02-25T00:00:00\",\"2011-02-28T00:00:00\",\"2011-03-01T00:00:00\",\"2011-03-02T00:00:00\",\"2011-03-03T00:00:00\",\"2011-03-04T00:00:00\",\"2011-03-07T00:00:00\",\"2011-03-08T00:00:00\",\"2011-03-09T00:00:00\",\"2011-03-10T00:00:00\",\"2011-03-11T00:00:00\",\"2011-03-14T00:00:00\",\"2011-03-15T00:00:00\",\"2011-03-16T00:00:00\",\"2011-03-17T00:00:00\",\"2011-03-18T00:00:00\",\"2011-03-21T00:00:00\",\"2011-03-22T00:00:00\",\"2011-03-23T00:00:00\",\"2011-03-24T00:00:00\",\"2011-03-25T00:00:00\",\"2011-03-28T00:00:00\",\"2011-03-29T00:00:00\",\"2011-03-30T00:00:00\",\"2011-03-31T00:00:00\",\"2011-04-01T00:00:00\",\"2011-04-04T00:00:00\",\"2011-04-05T00:00:00\",\"2011-04-06T00:00:00\",\"2011-04-07T00:00:00\",\"2011-04-08T00:00:00\",\"2011-04-11T00:00:00\",\"2011-04-12T00:00:00\",\"2011-04-13T00:00:00\",\"2011-04-14T00:00:00\",\"2011-04-15T00:00:00\",\"2011-04-18T00:00:00\",\"2011-04-19T00:00:00\",\"2011-04-20T00:00:00\",\"2011-04-21T00:00:00\",\"2011-04-25T00:00:00\",\"2011-04-26T00:00:00\",\"2011-04-27T00:00:00\",\"2011-04-28T00:00:00\",\"2011-04-29T00:00:00\",\"2011-05-02T00:00:00\",\"2011-05-03T00:00:00\",\"2011-05-04T00:00:00\",\"2011-05-05T00:00:00\",\"2011-05-06T00:00:00\",\"2011-05-09T00:00:00\",\"2011-05-10T00:00:00\",\"2011-05-11T00:00:00\",\"2011-05-12T00:00:00\",\"2011-05-13T00:00:00\",\"2011-05-16T00:00:00\",\"2011-05-17T00:00:00\",\"2011-05-18T00:00:00\",\"2011-05-19T00:00:00\",\"2011-05-20T00:00:00\",\"2011-05-23T00:00:00\",\"2011-05-24T00:00:00\",\"2011-05-25T00:00:00\",\"2011-05-26T00:00:00\",\"2011-05-27T00:00:00\",\"2011-05-31T00:00:00\",\"2011-06-01T00:00:00\",\"2011-06-02T00:00:00\",\"2011-06-03T00:00:00\",\"2011-06-06T00:00:00\",\"2011-06-07T00:00:00\",\"2011-06-08T00:00:00\",\"2011-06-09T00:00:00\",\"2011-06-10T00:00:00\",\"2011-06-13T00:00:00\",\"2011-06-14T00:00:00\",\"2011-06-15T00:00:00\",\"2011-06-16T00:00:00\",\"2011-06-17T00:00:00\",\"2011-06-20T00:00:00\",\"2011-06-21T00:00:00\",\"2011-06-22T00:00:00\",\"2011-06-23T00:00:00\",\"2011-06-24T00:00:00\",\"2011-06-27T00:00:00\",\"2011-06-28T00:00:00\",\"2011-06-29T00:00:00\",\"2011-06-30T00:00:00\",\"2011-07-01T00:00:00\",\"2011-07-05T00:00:00\",\"2011-07-06T00:00:00\",\"2011-07-07T00:00:00\",\"2011-07-08T00:00:00\",\"2011-07-11T00:00:00\",\"2011-07-12T00:00:00\",\"2011-07-13T00:00:00\",\"2011-07-14T00:00:00\",\"2011-07-15T00:00:00\",\"2011-07-18T00:00:00\",\"2011-07-19T00:00:00\",\"2011-07-20T00:00:00\",\"2011-07-21T00:00:00\",\"2011-07-22T00:00:00\",\"2011-07-25T00:00:00\",\"2011-07-26T00:00:00\",\"2011-07-27T00:00:00\",\"2011-07-28T00:00:00\",\"2011-07-29T00:00:00\",\"2011-08-01T00:00:00\",\"2011-08-02T00:00:00\",\"2011-08-03T00:00:00\",\"2011-08-04T00:00:00\",\"2011-08-05T00:00:00\",\"2011-08-08T00:00:00\",\"2011-08-09T00:00:00\",\"2011-08-10T00:00:00\",\"2011-08-11T00:00:00\",\"2011-08-12T00:00:00\",\"2011-08-15T00:00:00\",\"2011-08-16T00:00:00\",\"2011-08-17T00:00:00\",\"2011-08-18T00:00:00\",\"2011-08-19T00:00:00\",\"2011-08-22T00:00:00\",\"2011-08-23T00:00:00\",\"2011-08-24T00:00:00\",\"2011-08-25T00:00:00\",\"2011-08-26T00:00:00\",\"2011-08-29T00:00:00\",\"2011-08-30T00:00:00\",\"2011-08-31T00:00:00\",\"2011-09-01T00:00:00\",\"2011-09-02T00:00:00\",\"2011-09-06T00:00:00\",\"2011-09-07T00:00:00\",\"2011-09-08T00:00:00\",\"2011-09-09T00:00:00\",\"2011-09-12T00:00:00\",\"2011-09-13T00:00:00\",\"2011-09-14T00:00:00\",\"2011-09-15T00:00:00\",\"2011-09-16T00:00:00\",\"2011-09-19T00:00:00\",\"2011-09-20T00:00:00\",\"2011-09-21T00:00:00\",\"2011-09-22T00:00:00\",\"2011-09-23T00:00:00\",\"2011-09-26T00:00:00\",\"2011-09-27T00:00:00\",\"2011-09-28T00:00:00\",\"2011-09-29T00:00:00\",\"2011-09-30T00:00:00\",\"2011-10-03T00:00:00\",\"2011-10-04T00:00:00\",\"2011-10-05T00:00:00\",\"2011-10-06T00:00:00\",\"2011-10-07T00:00:00\",\"2011-10-10T00:00:00\",\"2011-10-11T00:00:00\",\"2011-10-12T00:00:00\",\"2011-10-13T00:00:00\",\"2011-10-14T00:00:00\",\"2011-10-17T00:00:00\",\"2011-10-18T00:00:00\",\"2011-10-19T00:00:00\",\"2011-10-20T00:00:00\",\"2011-10-21T00:00:00\",\"2011-10-24T00:00:00\",\"2011-10-25T00:00:00\",\"2011-10-26T00:00:00\",\"2011-10-27T00:00:00\",\"2011-10-28T00:00:00\",\"2011-10-31T00:00:00\",\"2011-11-01T00:00:00\",\"2011-11-02T00:00:00\",\"2011-11-03T00:00:00\",\"2011-11-04T00:00:00\",\"2011-11-07T00:00:00\",\"2011-11-08T00:00:00\",\"2011-11-09T00:00:00\",\"2011-11-10T00:00:00\",\"2011-11-11T00:00:00\",\"2011-11-14T00:00:00\",\"2011-11-15T00:00:00\",\"2011-11-16T00:00:00\",\"2011-11-17T00:00:00\",\"2011-11-18T00:00:00\",\"2011-11-21T00:00:00\",\"2011-11-22T00:00:00\",\"2011-11-23T00:00:00\",\"2011-11-25T00:00:00\",\"2011-11-28T00:00:00\",\"2011-11-29T00:00:00\",\"2011-11-30T00:00:00\",\"2011-12-01T00:00:00\",\"2011-12-02T00:00:00\",\"2011-12-05T00:00:00\",\"2011-12-06T00:00:00\",\"2011-12-07T00:00:00\",\"2011-12-08T00:00:00\",\"2011-12-09T00:00:00\",\"2011-12-12T00:00:00\",\"2011-12-13T00:00:00\",\"2011-12-14T00:00:00\",\"2011-12-15T00:00:00\",\"2011-12-16T00:00:00\",\"2011-12-19T00:00:00\",\"2011-12-20T00:00:00\",\"2011-12-21T00:00:00\",\"2011-12-22T00:00:00\",\"2011-12-23T00:00:00\",\"2011-12-27T00:00:00\",\"2011-12-28T00:00:00\",\"2011-12-29T00:00:00\",\"2011-12-30T00:00:00\",\"2012-01-03T00:00:00\",\"2012-01-04T00:00:00\",\"2012-01-05T00:00:00\",\"2012-01-06T00:00:00\",\"2012-01-09T00:00:00\",\"2012-01-10T00:00:00\",\"2012-01-11T00:00:00\",\"2012-01-12T00:00:00\",\"2012-01-13T00:00:00\",\"2012-01-17T00:00:00\",\"2012-01-18T00:00:00\",\"2012-01-19T00:00:00\",\"2012-01-20T00:00:00\",\"2012-01-23T00:00:00\",\"2012-01-24T00:00:00\",\"2012-01-25T00:00:00\",\"2012-01-26T00:00:00\",\"2012-01-27T00:00:00\",\"2012-01-30T00:00:00\",\"2012-01-31T00:00:00\",\"2012-02-01T00:00:00\",\"2012-02-02T00:00:00\",\"2012-02-03T00:00:00\",\"2012-02-06T00:00:00\",\"2012-02-07T00:00:00\",\"2012-02-08T00:00:00\",\"2012-02-09T00:00:00\",\"2012-02-10T00:00:00\",\"2012-02-13T00:00:00\",\"2012-02-14T00:00:00\",\"2012-02-15T00:00:00\",\"2012-02-16T00:00:00\",\"2012-02-17T00:00:00\",\"2012-02-21T00:00:00\",\"2012-02-22T00:00:00\",\"2012-02-23T00:00:00\",\"2012-02-24T00:00:00\",\"2012-02-27T00:00:00\",\"2012-02-28T00:00:00\",\"2012-02-29T00:00:00\",\"2012-03-01T00:00:00\",\"2012-03-02T00:00:00\",\"2012-03-05T00:00:00\",\"2012-03-06T00:00:00\",\"2012-03-07T00:00:00\",\"2012-03-08T00:00:00\",\"2012-03-09T00:00:00\",\"2012-03-12T00:00:00\",\"2012-03-13T00:00:00\",\"2012-03-14T00:00:00\",\"2012-03-15T00:00:00\",\"2012-03-16T00:00:00\",\"2012-03-19T00:00:00\",\"2012-03-20T00:00:00\",\"2012-03-21T00:00:00\",\"2012-03-22T00:00:00\",\"2012-03-23T00:00:00\",\"2012-03-26T00:00:00\",\"2012-03-27T00:00:00\",\"2012-03-28T00:00:00\",\"2012-03-29T00:00:00\",\"2012-03-30T00:00:00\",\"2012-04-02T00:00:00\",\"2012-04-03T00:00:00\",\"2012-04-04T00:00:00\",\"2012-04-05T00:00:00\",\"2012-04-09T00:00:00\",\"2012-04-10T00:00:00\",\"2012-04-11T00:00:00\",\"2012-04-12T00:00:00\",\"2012-04-13T00:00:00\",\"2012-04-16T00:00:00\",\"2012-04-17T00:00:00\",\"2012-04-18T00:00:00\",\"2012-04-19T00:00:00\",\"2012-04-20T00:00:00\",\"2012-04-23T00:00:00\",\"2012-04-24T00:00:00\",\"2012-04-25T00:00:00\",\"2012-04-26T00:00:00\",\"2012-04-27T00:00:00\",\"2012-04-30T00:00:00\",\"2012-05-01T00:00:00\",\"2012-05-02T00:00:00\",\"2012-05-03T00:00:00\",\"2012-05-04T00:00:00\",\"2012-05-07T00:00:00\",\"2012-05-08T00:00:00\",\"2012-05-09T00:00:00\",\"2012-05-10T00:00:00\",\"2012-05-11T00:00:00\",\"2012-05-14T00:00:00\",\"2012-05-15T00:00:00\",\"2012-05-16T00:00:00\",\"2012-05-17T00:00:00\",\"2012-05-18T00:00:00\",\"2012-05-21T00:00:00\",\"2012-05-22T00:00:00\",\"2012-05-23T00:00:00\",\"2012-05-24T00:00:00\",\"2012-05-25T00:00:00\",\"2012-05-29T00:00:00\",\"2012-05-30T00:00:00\",\"2012-05-31T00:00:00\",\"2012-06-01T00:00:00\",\"2012-06-04T00:00:00\",\"2012-06-05T00:00:00\",\"2012-06-06T00:00:00\",\"2012-06-07T00:00:00\",\"2012-06-08T00:00:00\",\"2012-06-11T00:00:00\",\"2012-06-12T00:00:00\",\"2012-06-13T00:00:00\",\"2012-06-14T00:00:00\",\"2012-06-15T00:00:00\",\"2012-06-18T00:00:00\",\"2012-06-19T00:00:00\",\"2012-06-20T00:00:00\",\"2012-06-21T00:00:00\",\"2012-06-22T00:00:00\",\"2012-06-25T00:00:00\",\"2012-06-26T00:00:00\",\"2012-06-27T00:00:00\",\"2012-06-28T00:00:00\",\"2012-06-29T00:00:00\",\"2012-07-02T00:00:00\",\"2012-07-03T00:00:00\",\"2012-07-05T00:00:00\",\"2012-07-06T00:00:00\",\"2012-07-09T00:00:00\",\"2012-07-10T00:00:00\",\"2012-07-11T00:00:00\",\"2012-07-12T00:00:00\",\"2012-07-13T00:00:00\",\"2012-07-16T00:00:00\",\"2012-07-17T00:00:00\",\"2012-07-18T00:00:00\",\"2012-07-19T00:00:00\",\"2012-07-20T00:00:00\",\"2012-07-23T00:00:00\",\"2012-07-24T00:00:00\",\"2012-07-25T00:00:00\",\"2012-07-26T00:00:00\",\"2012-07-27T00:00:00\",\"2012-07-30T00:00:00\",\"2012-07-31T00:00:00\",\"2012-08-01T00:00:00\",\"2012-08-02T00:00:00\",\"2012-08-03T00:00:00\",\"2012-08-06T00:00:00\",\"2012-08-07T00:00:00\",\"2012-08-08T00:00:00\",\"2012-08-09T00:00:00\",\"2012-08-10T00:00:00\",\"2012-08-13T00:00:00\",\"2012-08-14T00:00:00\",\"2012-08-15T00:00:00\",\"2012-08-16T00:00:00\",\"2012-08-17T00:00:00\",\"2012-08-20T00:00:00\",\"2012-08-21T00:00:00\",\"2012-08-22T00:00:00\",\"2012-08-23T00:00:00\",\"2012-08-24T00:00:00\",\"2012-08-27T00:00:00\",\"2012-08-28T00:00:00\",\"2012-08-29T00:00:00\",\"2012-08-30T00:00:00\",\"2012-08-31T00:00:00\",\"2012-09-04T00:00:00\",\"2012-09-05T00:00:00\",\"2012-09-06T00:00:00\",\"2012-09-07T00:00:00\",\"2012-09-10T00:00:00\",\"2012-09-11T00:00:00\",\"2012-09-12T00:00:00\",\"2012-09-13T00:00:00\",\"2012-09-14T00:00:00\",\"2012-09-17T00:00:00\",\"2012-09-18T00:00:00\",\"2012-09-19T00:00:00\",\"2012-09-20T00:00:00\",\"2012-09-21T00:00:00\",\"2012-09-24T00:00:00\",\"2012-09-25T00:00:00\",\"2012-09-26T00:00:00\",\"2012-09-27T00:00:00\",\"2012-09-28T00:00:00\",\"2012-10-01T00:00:00\",\"2012-10-02T00:00:00\",\"2012-10-03T00:00:00\",\"2012-10-04T00:00:00\",\"2012-10-05T00:00:00\",\"2012-10-08T00:00:00\",\"2012-10-09T00:00:00\",\"2012-10-10T00:00:00\",\"2012-10-11T00:00:00\",\"2012-10-12T00:00:00\",\"2012-10-15T00:00:00\",\"2012-10-16T00:00:00\",\"2012-10-17T00:00:00\",\"2012-10-18T00:00:00\",\"2012-10-19T00:00:00\",\"2012-10-22T00:00:00\",\"2012-10-23T00:00:00\",\"2012-10-24T00:00:00\",\"2012-10-25T00:00:00\",\"2012-10-26T00:00:00\",\"2012-10-31T00:00:00\",\"2012-11-01T00:00:00\",\"2012-11-02T00:00:00\",\"2012-11-05T00:00:00\",\"2012-11-06T00:00:00\",\"2012-11-07T00:00:00\",\"2012-11-08T00:00:00\",\"2012-11-09T00:00:00\",\"2012-11-12T00:00:00\",\"2012-11-13T00:00:00\",\"2012-11-14T00:00:00\",\"2012-11-15T00:00:00\",\"2012-11-16T00:00:00\",\"2012-11-19T00:00:00\",\"2012-11-20T00:00:00\",\"2012-11-21T00:00:00\",\"2012-11-23T00:00:00\",\"2012-11-26T00:00:00\",\"2012-11-27T00:00:00\",\"2012-11-28T00:00:00\",\"2012-11-29T00:00:00\",\"2012-11-30T00:00:00\",\"2012-12-03T00:00:00\",\"2012-12-04T00:00:00\",\"2012-12-05T00:00:00\",\"2012-12-06T00:00:00\",\"2012-12-07T00:00:00\",\"2012-12-10T00:00:00\",\"2012-12-11T00:00:00\",\"2012-12-12T00:00:00\",\"2012-12-13T00:00:00\",\"2012-12-14T00:00:00\",\"2012-12-17T00:00:00\",\"2012-12-18T00:00:00\",\"2012-12-19T00:00:00\",\"2012-12-20T00:00:00\",\"2012-12-21T00:00:00\",\"2012-12-24T00:00:00\",\"2012-12-26T00:00:00\",\"2012-12-27T00:00:00\",\"2012-12-28T00:00:00\",\"2012-12-31T00:00:00\",\"2013-01-02T00:00:00\",\"2013-01-03T00:00:00\",\"2013-01-04T00:00:00\",\"2013-01-07T00:00:00\",\"2013-01-08T00:00:00\",\"2013-01-09T00:00:00\",\"2013-01-10T00:00:00\",\"2013-01-11T00:00:00\",\"2013-01-14T00:00:00\",\"2013-01-15T00:00:00\",\"2013-01-16T00:00:00\",\"2013-01-17T00:00:00\",\"2013-01-18T00:00:00\",\"2013-01-22T00:00:00\",\"2013-01-23T00:00:00\",\"2013-01-24T00:00:00\",\"2013-01-25T00:00:00\",\"2013-01-28T00:00:00\",\"2013-01-29T00:00:00\",\"2013-01-30T00:00:00\",\"2013-01-31T00:00:00\",\"2013-02-01T00:00:00\",\"2013-02-04T00:00:00\",\"2013-02-05T00:00:00\",\"2013-02-06T00:00:00\",\"2013-02-07T00:00:00\",\"2013-02-08T00:00:00\",\"2013-02-11T00:00:00\",\"2013-02-12T00:00:00\",\"2013-02-13T00:00:00\",\"2013-02-14T00:00:00\",\"2013-02-15T00:00:00\",\"2013-02-19T00:00:00\",\"2013-02-20T00:00:00\",\"2013-02-21T00:00:00\",\"2013-02-22T00:00:00\",\"2013-02-25T00:00:00\",\"2013-02-26T00:00:00\",\"2013-02-27T00:00:00\",\"2013-02-28T00:00:00\",\"2013-03-01T00:00:00\",\"2013-03-04T00:00:00\",\"2013-03-05T00:00:00\",\"2013-03-06T00:00:00\",\"2013-03-07T00:00:00\",\"2013-03-08T00:00:00\",\"2013-03-11T00:00:00\",\"2013-03-12T00:00:00\",\"2013-03-13T00:00:00\",\"2013-03-14T00:00:00\",\"2013-03-15T00:00:00\",\"2013-03-18T00:00:00\",\"2013-03-19T00:00:00\",\"2013-03-20T00:00:00\",\"2013-03-21T00:00:00\",\"2013-03-22T00:00:00\",\"2013-03-25T00:00:00\",\"2013-03-26T00:00:00\",\"2013-03-27T00:00:00\",\"2013-03-28T00:00:00\",\"2013-04-01T00:00:00\",\"2013-04-02T00:00:00\",\"2013-04-03T00:00:00\",\"2013-04-04T00:00:00\",\"2013-04-05T00:00:00\",\"2013-04-08T00:00:00\",\"2013-04-09T00:00:00\",\"2013-04-10T00:00:00\",\"2013-04-11T00:00:00\",\"2013-04-12T00:00:00\",\"2013-04-15T00:00:00\",\"2013-04-16T00:00:00\",\"2013-04-17T00:00:00\",\"2013-04-18T00:00:00\",\"2013-04-19T00:00:00\",\"2013-04-22T00:00:00\",\"2013-04-23T00:00:00\",\"2013-04-24T00:00:00\",\"2013-04-25T00:00:00\",\"2013-04-26T00:00:00\",\"2013-04-29T00:00:00\",\"2013-04-30T00:00:00\",\"2013-05-01T00:00:00\",\"2013-05-02T00:00:00\",\"2013-05-03T00:00:00\",\"2013-05-06T00:00:00\",\"2013-05-07T00:00:00\",\"2013-05-08T00:00:00\",\"2013-05-09T00:00:00\",\"2013-05-10T00:00:00\",\"2013-05-13T00:00:00\",\"2013-05-14T00:00:00\",\"2013-05-15T00:00:00\",\"2013-05-16T00:00:00\",\"2013-05-17T00:00:00\",\"2013-05-20T00:00:00\",\"2013-05-21T00:00:00\",\"2013-05-22T00:00:00\",\"2013-05-23T00:00:00\",\"2013-05-24T00:00:00\",\"2013-05-28T00:00:00\",\"2013-05-29T00:00:00\",\"2013-05-30T00:00:00\",\"2013-05-31T00:00:00\",\"2013-06-03T00:00:00\",\"2013-06-04T00:00:00\",\"2013-06-05T00:00:00\",\"2013-06-06T00:00:00\",\"2013-06-07T00:00:00\",\"2013-06-10T00:00:00\",\"2013-06-11T00:00:00\",\"2013-06-12T00:00:00\",\"2013-06-13T00:00:00\",\"2013-06-14T00:00:00\",\"2013-06-17T00:00:00\",\"2013-06-18T00:00:00\",\"2013-06-19T00:00:00\",\"2013-06-20T00:00:00\",\"2013-06-21T00:00:00\",\"2013-06-24T00:00:00\",\"2013-06-25T00:00:00\",\"2013-06-26T00:00:00\",\"2013-06-27T00:00:00\",\"2013-06-28T00:00:00\",\"2013-07-01T00:00:00\",\"2013-07-02T00:00:00\",\"2013-07-03T00:00:00\",\"2013-07-05T00:00:00\",\"2013-07-08T00:00:00\",\"2013-07-09T00:00:00\",\"2013-07-10T00:00:00\",\"2013-07-11T00:00:00\",\"2013-07-12T00:00:00\",\"2013-07-15T00:00:00\",\"2013-07-16T00:00:00\",\"2013-07-17T00:00:00\",\"2013-07-18T00:00:00\",\"2013-07-19T00:00:00\",\"2013-07-22T00:00:00\",\"2013-07-23T00:00:00\",\"2013-07-24T00:00:00\",\"2013-07-25T00:00:00\",\"2013-07-26T00:00:00\",\"2013-07-29T00:00:00\",\"2013-07-30T00:00:00\",\"2013-07-31T00:00:00\",\"2013-08-01T00:00:00\",\"2013-08-02T00:00:00\",\"2013-08-05T00:00:00\",\"2013-08-06T00:00:00\",\"2013-08-07T00:00:00\",\"2013-08-08T00:00:00\",\"2013-08-09T00:00:00\",\"2013-08-12T00:00:00\",\"2013-08-13T00:00:00\",\"2013-08-14T00:00:00\",\"2013-08-15T00:00:00\",\"2013-08-16T00:00:00\",\"2013-08-19T00:00:00\",\"2013-08-20T00:00:00\",\"2013-08-21T00:00:00\",\"2013-08-22T00:00:00\",\"2013-08-23T00:00:00\",\"2013-08-26T00:00:00\",\"2013-08-27T00:00:00\",\"2013-08-28T00:00:00\",\"2013-08-29T00:00:00\",\"2013-08-30T00:00:00\",\"2013-09-03T00:00:00\",\"2013-09-04T00:00:00\",\"2013-09-05T00:00:00\",\"2013-09-06T00:00:00\",\"2013-09-09T00:00:00\",\"2013-09-10T00:00:00\",\"2013-09-11T00:00:00\",\"2013-09-12T00:00:00\",\"2013-09-13T00:00:00\",\"2013-09-16T00:00:00\",\"2013-09-17T00:00:00\",\"2013-09-18T00:00:00\",\"2013-09-19T00:00:00\",\"2013-09-20T00:00:00\",\"2013-09-23T00:00:00\",\"2013-09-24T00:00:00\",\"2013-09-25T00:00:00\",\"2013-09-26T00:00:00\",\"2013-09-27T00:00:00\",\"2013-09-30T00:00:00\",\"2013-10-01T00:00:00\",\"2013-10-02T00:00:00\",\"2013-10-03T00:00:00\",\"2013-10-04T00:00:00\",\"2013-10-07T00:00:00\",\"2013-10-08T00:00:00\",\"2013-10-09T00:00:00\",\"2013-10-10T00:00:00\",\"2013-10-11T00:00:00\",\"2013-10-14T00:00:00\",\"2013-10-15T00:00:00\",\"2013-10-16T00:00:00\",\"2013-10-17T00:00:00\",\"2013-10-18T00:00:00\",\"2013-10-21T00:00:00\",\"2013-10-22T00:00:00\",\"2013-10-23T00:00:00\",\"2013-10-24T00:00:00\",\"2013-10-25T00:00:00\",\"2013-10-28T00:00:00\",\"2013-10-29T00:00:00\",\"2013-10-30T00:00:00\",\"2013-10-31T00:00:00\",\"2013-11-01T00:00:00\",\"2013-11-04T00:00:00\",\"2013-11-05T00:00:00\",\"2013-11-06T00:00:00\",\"2013-11-07T00:00:00\",\"2013-11-08T00:00:00\",\"2013-11-11T00:00:00\",\"2013-11-12T00:00:00\",\"2013-11-13T00:00:00\",\"2013-11-14T00:00:00\",\"2013-11-15T00:00:00\",\"2013-11-18T00:00:00\",\"2013-11-19T00:00:00\",\"2013-11-20T00:00:00\",\"2013-11-21T00:00:00\",\"2013-11-22T00:00:00\",\"2013-11-25T00:00:00\",\"2013-11-26T00:00:00\",\"2013-11-27T00:00:00\",\"2013-11-29T00:00:00\",\"2013-12-02T00:00:00\",\"2013-12-03T00:00:00\",\"2013-12-04T00:00:00\",\"2013-12-05T00:00:00\",\"2013-12-06T00:00:00\",\"2013-12-09T00:00:00\",\"2013-12-10T00:00:00\",\"2013-12-11T00:00:00\",\"2013-12-12T00:00:00\",\"2013-12-13T00:00:00\",\"2013-12-16T00:00:00\",\"2013-12-17T00:00:00\",\"2013-12-18T00:00:00\",\"2013-12-19T00:00:00\",\"2013-12-20T00:00:00\",\"2013-12-23T00:00:00\",\"2013-12-24T00:00:00\",\"2013-12-26T00:00:00\",\"2013-12-27T00:00:00\",\"2013-12-30T00:00:00\",\"2013-12-31T00:00:00\",\"2014-01-02T00:00:00\",\"2014-01-03T00:00:00\",\"2014-01-06T00:00:00\",\"2014-01-07T00:00:00\",\"2014-01-08T00:00:00\",\"2014-01-09T00:00:00\",\"2014-01-10T00:00:00\",\"2014-01-13T00:00:00\",\"2014-01-14T00:00:00\",\"2014-01-15T00:00:00\",\"2014-01-16T00:00:00\",\"2014-01-17T00:00:00\",\"2014-01-21T00:00:00\",\"2014-01-22T00:00:00\",\"2014-01-23T00:00:00\",\"2014-01-24T00:00:00\",\"2014-01-27T00:00:00\",\"2014-01-28T00:00:00\",\"2014-01-29T00:00:00\",\"2014-01-30T00:00:00\",\"2014-01-31T00:00:00\",\"2014-02-03T00:00:00\",\"2014-02-04T00:00:00\",\"2014-02-05T00:00:00\",\"2014-02-06T00:00:00\",\"2014-02-07T00:00:00\",\"2014-02-10T00:00:00\",\"2014-02-11T00:00:00\",\"2014-02-12T00:00:00\",\"2014-02-13T00:00:00\",\"2014-02-14T00:00:00\",\"2014-02-18T00:00:00\",\"2014-02-19T00:00:00\",\"2014-02-20T00:00:00\",\"2014-02-21T00:00:00\",\"2014-02-24T00:00:00\",\"2014-02-25T00:00:00\",\"2014-02-26T00:00:00\",\"2014-02-27T00:00:00\",\"2014-02-28T00:00:00\",\"2014-03-03T00:00:00\",\"2014-03-04T00:00:00\",\"2014-03-05T00:00:00\",\"2014-03-06T00:00:00\",\"2014-03-07T00:00:00\",\"2014-03-10T00:00:00\",\"2014-03-11T00:00:00\",\"2014-03-12T00:00:00\",\"2014-03-13T00:00:00\",\"2014-03-14T00:00:00\",\"2014-03-17T00:00:00\",\"2014-03-18T00:00:00\",\"2014-03-19T00:00:00\",\"2014-03-20T00:00:00\",\"2014-03-21T00:00:00\",\"2014-03-24T00:00:00\",\"2014-03-25T00:00:00\",\"2014-03-26T00:00:00\",\"2014-03-27T00:00:00\",\"2014-03-28T00:00:00\",\"2014-03-31T00:00:00\",\"2014-04-01T00:00:00\",\"2014-04-02T00:00:00\",\"2014-04-03T00:00:00\",\"2014-04-04T00:00:00\",\"2014-04-07T00:00:00\",\"2014-04-08T00:00:00\",\"2014-04-09T00:00:00\",\"2014-04-10T00:00:00\",\"2014-04-11T00:00:00\",\"2014-04-14T00:00:00\",\"2014-04-15T00:00:00\",\"2014-04-16T00:00:00\",\"2014-04-17T00:00:00\",\"2014-04-21T00:00:00\",\"2014-04-22T00:00:00\",\"2014-04-23T00:00:00\",\"2014-04-24T00:00:00\",\"2014-04-25T00:00:00\",\"2014-04-28T00:00:00\",\"2014-04-29T00:00:00\",\"2014-04-30T00:00:00\",\"2014-05-01T00:00:00\",\"2014-05-02T00:00:00\",\"2014-05-05T00:00:00\",\"2014-05-06T00:00:00\",\"2014-05-07T00:00:00\",\"2014-05-08T00:00:00\",\"2014-05-09T00:00:00\",\"2014-05-12T00:00:00\",\"2014-05-13T00:00:00\",\"2014-05-14T00:00:00\",\"2014-05-15T00:00:00\",\"2014-05-16T00:00:00\",\"2014-05-19T00:00:00\",\"2014-05-20T00:00:00\",\"2014-05-21T00:00:00\",\"2014-05-22T00:00:00\",\"2014-05-23T00:00:00\",\"2014-05-27T00:00:00\",\"2014-05-28T00:00:00\",\"2014-05-29T00:00:00\",\"2014-05-30T00:00:00\",\"2014-06-02T00:00:00\",\"2014-06-03T00:00:00\",\"2014-06-04T00:00:00\",\"2014-06-05T00:00:00\",\"2014-06-06T00:00:00\",\"2014-06-09T00:00:00\",\"2014-06-10T00:00:00\",\"2014-06-11T00:00:00\",\"2014-06-12T00:00:00\",\"2014-06-13T00:00:00\",\"2014-06-16T00:00:00\",\"2014-06-17T00:00:00\",\"2014-06-18T00:00:00\",\"2014-06-19T00:00:00\",\"2014-06-20T00:00:00\",\"2014-06-23T00:00:00\",\"2014-06-24T00:00:00\",\"2014-06-25T00:00:00\",\"2014-06-26T00:00:00\",\"2014-06-27T00:00:00\",\"2014-06-30T00:00:00\",\"2014-07-01T00:00:00\",\"2014-07-02T00:00:00\",\"2014-07-03T00:00:00\",\"2014-07-07T00:00:00\",\"2014-07-08T00:00:00\",\"2014-07-09T00:00:00\",\"2014-07-10T00:00:00\",\"2014-07-11T00:00:00\",\"2014-07-14T00:00:00\",\"2014-07-15T00:00:00\",\"2014-07-16T00:00:00\",\"2014-07-17T00:00:00\",\"2014-07-18T00:00:00\",\"2014-07-21T00:00:00\",\"2014-07-22T00:00:00\",\"2014-07-23T00:00:00\",\"2014-07-24T00:00:00\",\"2014-07-25T00:00:00\",\"2014-07-28T00:00:00\",\"2014-07-29T00:00:00\",\"2014-07-30T00:00:00\",\"2014-07-31T00:00:00\",\"2014-08-01T00:00:00\",\"2014-08-04T00:00:00\",\"2014-08-05T00:00:00\",\"2014-08-06T00:00:00\",\"2014-08-07T00:00:00\",\"2014-08-08T00:00:00\",\"2014-08-11T00:00:00\",\"2014-08-12T00:00:00\",\"2014-08-13T00:00:00\",\"2014-08-14T00:00:00\",\"2014-08-15T00:00:00\",\"2014-08-18T00:00:00\",\"2014-08-19T00:00:00\",\"2014-08-20T00:00:00\",\"2014-08-21T00:00:00\",\"2014-08-22T00:00:00\",\"2014-08-25T00:00:00\",\"2014-08-26T00:00:00\",\"2014-08-27T00:00:00\",\"2014-08-28T00:00:00\",\"2014-08-29T00:00:00\",\"2014-09-02T00:00:00\",\"2014-09-03T00:00:00\",\"2014-09-04T00:00:00\",\"2014-09-05T00:00:00\",\"2014-09-08T00:00:00\",\"2014-09-09T00:00:00\",\"2014-09-10T00:00:00\",\"2014-09-11T00:00:00\",\"2014-09-12T00:00:00\",\"2014-09-15T00:00:00\",\"2014-09-16T00:00:00\",\"2014-09-17T00:00:00\",\"2014-09-18T00:00:00\",\"2014-09-19T00:00:00\",\"2014-09-22T00:00:00\",\"2014-09-23T00:00:00\",\"2014-09-24T00:00:00\",\"2014-09-25T00:00:00\",\"2014-09-26T00:00:00\",\"2014-09-29T00:00:00\",\"2014-09-30T00:00:00\",\"2014-10-01T00:00:00\",\"2014-10-02T00:00:00\",\"2014-10-03T00:00:00\",\"2014-10-06T00:00:00\",\"2014-10-07T00:00:00\",\"2014-10-08T00:00:00\",\"2014-10-09T00:00:00\",\"2014-10-10T00:00:00\",\"2014-10-13T00:00:00\",\"2014-10-14T00:00:00\",\"2014-10-15T00:00:00\",\"2014-10-16T00:00:00\",\"2014-10-17T00:00:00\",\"2014-10-20T00:00:00\",\"2014-10-21T00:00:00\",\"2014-10-22T00:00:00\",\"2014-10-23T00:00:00\",\"2014-10-24T00:00:00\",\"2014-10-27T00:00:00\",\"2014-10-28T00:00:00\",\"2014-10-29T00:00:00\",\"2014-10-30T00:00:00\",\"2014-10-31T00:00:00\",\"2014-11-03T00:00:00\",\"2014-11-04T00:00:00\",\"2014-11-05T00:00:00\",\"2014-11-06T00:00:00\",\"2014-11-07T00:00:00\",\"2014-11-10T00:00:00\",\"2014-11-11T00:00:00\",\"2014-11-12T00:00:00\",\"2014-11-13T00:00:00\",\"2014-11-14T00:00:00\",\"2014-11-17T00:00:00\",\"2014-11-18T00:00:00\",\"2014-11-19T00:00:00\",\"2014-11-20T00:00:00\",\"2014-11-21T00:00:00\",\"2014-11-24T00:00:00\",\"2014-11-25T00:00:00\",\"2014-11-26T00:00:00\",\"2014-11-28T00:00:00\",\"2014-12-01T00:00:00\",\"2014-12-02T00:00:00\",\"2014-12-03T00:00:00\",\"2014-12-04T00:00:00\",\"2014-12-05T00:00:00\",\"2014-12-08T00:00:00\",\"2014-12-09T00:00:00\",\"2014-12-10T00:00:00\",\"2014-12-11T00:00:00\",\"2014-12-12T00:00:00\",\"2014-12-15T00:00:00\",\"2014-12-16T00:00:00\",\"2014-12-17T00:00:00\",\"2014-12-18T00:00:00\",\"2014-12-19T00:00:00\",\"2014-12-22T00:00:00\",\"2014-12-23T00:00:00\",\"2014-12-24T00:00:00\",\"2014-12-26T00:00:00\",\"2014-12-29T00:00:00\",\"2014-12-30T00:00:00\",\"2014-12-31T00:00:00\",\"2015-01-02T00:00:00\",\"2015-01-05T00:00:00\",\"2015-01-06T00:00:00\",\"2015-01-07T00:00:00\",\"2015-01-08T00:00:00\",\"2015-01-09T00:00:00\",\"2015-01-12T00:00:00\",\"2015-01-13T00:00:00\",\"2015-01-14T00:00:00\",\"2015-01-15T00:00:00\",\"2015-01-16T00:00:00\",\"2015-01-20T00:00:00\",\"2015-01-21T00:00:00\",\"2015-01-22T00:00:00\",\"2015-01-23T00:00:00\",\"2015-01-26T00:00:00\",\"2015-01-27T00:00:00\",\"2015-01-28T00:00:00\",\"2015-01-29T00:00:00\",\"2015-01-30T00:00:00\",\"2015-02-02T00:00:00\",\"2015-02-03T00:00:00\",\"2015-02-04T00:00:00\",\"2015-02-05T00:00:00\",\"2015-02-06T00:00:00\",\"2015-02-09T00:00:00\",\"2015-02-10T00:00:00\",\"2015-02-11T00:00:00\",\"2015-02-12T00:00:00\",\"2015-02-13T00:00:00\",\"2015-02-17T00:00:00\",\"2015-02-18T00:00:00\",\"2015-02-19T00:00:00\",\"2015-02-20T00:00:00\",\"2015-02-23T00:00:00\",\"2015-02-24T00:00:00\",\"2015-02-25T00:00:00\",\"2015-02-26T00:00:00\",\"2015-02-27T00:00:00\",\"2015-03-02T00:00:00\",\"2015-03-03T00:00:00\",\"2015-03-04T00:00:00\",\"2015-03-05T00:00:00\",\"2015-03-06T00:00:00\",\"2015-03-09T00:00:00\",\"2015-03-10T00:00:00\",\"2015-03-11T00:00:00\",\"2015-03-12T00:00:00\",\"2015-03-13T00:00:00\",\"2015-03-16T00:00:00\",\"2015-03-17T00:00:00\",\"2015-03-18T00:00:00\",\"2015-03-19T00:00:00\",\"2015-03-20T00:00:00\",\"2015-03-23T00:00:00\",\"2015-03-24T00:00:00\",\"2015-03-25T00:00:00\",\"2015-03-26T00:00:00\",\"2015-03-27T00:00:00\",\"2015-03-30T00:00:00\",\"2015-03-31T00:00:00\",\"2015-04-01T00:00:00\",\"2015-04-02T00:00:00\",\"2015-04-06T00:00:00\",\"2015-04-07T00:00:00\",\"2015-04-08T00:00:00\",\"2015-04-09T00:00:00\",\"2015-04-10T00:00:00\",\"2015-04-13T00:00:00\",\"2015-04-14T00:00:00\",\"2015-04-15T00:00:00\",\"2015-04-16T00:00:00\",\"2015-04-17T00:00:00\",\"2015-04-20T00:00:00\",\"2015-04-21T00:00:00\",\"2015-04-22T00:00:00\",\"2015-04-23T00:00:00\",\"2015-04-24T00:00:00\",\"2015-04-27T00:00:00\",\"2015-04-28T00:00:00\",\"2015-04-29T00:00:00\",\"2015-04-30T00:00:00\",\"2015-05-01T00:00:00\",\"2015-05-04T00:00:00\",\"2015-05-05T00:00:00\",\"2015-05-06T00:00:00\",\"2015-05-07T00:00:00\",\"2015-05-08T00:00:00\",\"2015-05-11T00:00:00\",\"2015-05-12T00:00:00\",\"2015-05-13T00:00:00\",\"2015-05-14T00:00:00\",\"2015-05-15T00:00:00\",\"2015-05-18T00:00:00\",\"2015-05-19T00:00:00\",\"2015-05-20T00:00:00\",\"2015-05-21T00:00:00\",\"2015-05-22T00:00:00\",\"2015-05-26T00:00:00\",\"2015-05-27T00:00:00\",\"2015-05-28T00:00:00\",\"2015-05-29T00:00:00\",\"2015-06-01T00:00:00\",\"2015-06-02T00:00:00\",\"2015-06-03T00:00:00\",\"2015-06-04T00:00:00\",\"2015-06-05T00:00:00\",\"2015-06-08T00:00:00\",\"2015-06-09T00:00:00\",\"2015-06-10T00:00:00\",\"2015-06-11T00:00:00\",\"2015-06-12T00:00:00\",\"2015-06-15T00:00:00\",\"2015-06-16T00:00:00\",\"2015-06-17T00:00:00\",\"2015-06-18T00:00:00\",\"2015-06-19T00:00:00\",\"2015-06-22T00:00:00\",\"2015-06-23T00:00:00\",\"2015-06-24T00:00:00\",\"2015-06-25T00:00:00\",\"2015-06-26T00:00:00\",\"2015-06-29T00:00:00\",\"2015-06-30T00:00:00\",\"2015-07-01T00:00:00\",\"2015-07-02T00:00:00\",\"2015-07-06T00:00:00\",\"2015-07-07T00:00:00\",\"2015-07-08T00:00:00\",\"2015-07-09T00:00:00\",\"2015-07-10T00:00:00\",\"2015-07-13T00:00:00\",\"2015-07-14T00:00:00\",\"2015-07-15T00:00:00\",\"2015-07-16T00:00:00\",\"2015-07-17T00:00:00\",\"2015-07-20T00:00:00\",\"2015-07-21T00:00:00\",\"2015-07-22T00:00:00\",\"2015-07-23T00:00:00\",\"2015-07-24T00:00:00\",\"2015-07-27T00:00:00\",\"2015-07-28T00:00:00\",\"2015-07-29T00:00:00\",\"2015-07-30T00:00:00\",\"2015-07-31T00:00:00\",\"2015-08-03T00:00:00\",\"2015-08-04T00:00:00\",\"2015-08-05T00:00:00\",\"2015-08-06T00:00:00\",\"2015-08-07T00:00:00\",\"2015-08-10T00:00:00\",\"2015-08-11T00:00:00\",\"2015-08-12T00:00:00\",\"2015-08-13T00:00:00\",\"2015-08-14T00:00:00\",\"2015-08-17T00:00:00\",\"2015-08-18T00:00:00\",\"2015-08-19T00:00:00\",\"2015-08-20T00:00:00\",\"2015-08-21T00:00:00\",\"2015-08-24T00:00:00\",\"2015-08-25T00:00:00\",\"2015-08-26T00:00:00\",\"2015-08-27T00:00:00\",\"2015-08-28T00:00:00\",\"2015-08-31T00:00:00\",\"2015-09-01T00:00:00\",\"2015-09-02T00:00:00\",\"2015-09-03T00:00:00\",\"2015-09-04T00:00:00\",\"2015-09-08T00:00:00\",\"2015-09-09T00:00:00\",\"2015-09-10T00:00:00\",\"2015-09-11T00:00:00\",\"2015-09-14T00:00:00\",\"2015-09-15T00:00:00\",\"2015-09-16T00:00:00\",\"2015-09-17T00:00:00\",\"2015-09-18T00:00:00\",\"2015-09-21T00:00:00\",\"2015-09-22T00:00:00\",\"2015-09-23T00:00:00\",\"2015-09-24T00:00:00\",\"2015-09-25T00:00:00\",\"2015-09-28T00:00:00\",\"2015-09-29T00:00:00\",\"2015-09-30T00:00:00\",\"2015-10-01T00:00:00\",\"2015-10-02T00:00:00\",\"2015-10-05T00:00:00\",\"2015-10-06T00:00:00\",\"2015-10-07T00:00:00\",\"2015-10-08T00:00:00\",\"2015-10-09T00:00:00\",\"2015-10-12T00:00:00\",\"2015-10-13T00:00:00\",\"2015-10-14T00:00:00\",\"2015-10-15T00:00:00\",\"2015-10-16T00:00:00\",\"2015-10-19T00:00:00\",\"2015-10-20T00:00:00\",\"2015-10-21T00:00:00\",\"2015-10-22T00:00:00\",\"2015-10-23T00:00:00\",\"2015-10-26T00:00:00\",\"2015-10-27T00:00:00\",\"2015-10-28T00:00:00\",\"2015-10-29T00:00:00\",\"2015-10-30T00:00:00\",\"2015-11-02T00:00:00\",\"2015-11-03T00:00:00\",\"2015-11-04T00:00:00\",\"2015-11-05T00:00:00\",\"2015-11-06T00:00:00\",\"2015-11-09T00:00:00\",\"2015-11-10T00:00:00\",\"2015-11-11T00:00:00\",\"2015-11-12T00:00:00\",\"2015-11-13T00:00:00\",\"2015-11-16T00:00:00\",\"2015-11-17T00:00:00\",\"2015-11-18T00:00:00\",\"2015-11-19T00:00:00\",\"2015-11-20T00:00:00\",\"2015-11-23T00:00:00\",\"2015-11-24T00:00:00\",\"2015-11-25T00:00:00\",\"2015-11-27T00:00:00\",\"2015-11-30T00:00:00\",\"2015-12-01T00:00:00\",\"2015-12-02T00:00:00\",\"2015-12-03T00:00:00\",\"2015-12-04T00:00:00\",\"2015-12-07T00:00:00\",\"2015-12-08T00:00:00\",\"2015-12-09T00:00:00\",\"2015-12-10T00:00:00\",\"2015-12-11T00:00:00\",\"2015-12-14T00:00:00\",\"2015-12-15T00:00:00\",\"2015-12-16T00:00:00\",\"2015-12-17T00:00:00\",\"2015-12-18T00:00:00\",\"2015-12-21T00:00:00\",\"2015-12-22T00:00:00\",\"2015-12-23T00:00:00\",\"2015-12-24T00:00:00\",\"2015-12-28T00:00:00\",\"2015-12-29T00:00:00\",\"2015-12-30T00:00:00\",\"2015-12-31T00:00:00\",\"2016-01-04T00:00:00\",\"2016-01-05T00:00:00\",\"2016-01-06T00:00:00\",\"2016-01-07T00:00:00\",\"2016-01-08T00:00:00\",\"2016-01-11T00:00:00\",\"2016-01-12T00:00:00\",\"2016-01-13T00:00:00\",\"2016-01-14T00:00:00\",\"2016-01-15T00:00:00\",\"2016-01-19T00:00:00\",\"2016-01-20T00:00:00\",\"2016-01-21T00:00:00\",\"2016-01-22T00:00:00\",\"2016-01-25T00:00:00\",\"2016-01-26T00:00:00\",\"2016-01-27T00:00:00\",\"2016-01-28T00:00:00\",\"2016-01-29T00:00:00\",\"2016-02-01T00:00:00\",\"2016-02-02T00:00:00\",\"2016-02-03T00:00:00\",\"2016-02-04T00:00:00\",\"2016-02-05T00:00:00\",\"2016-02-08T00:00:00\",\"2016-02-09T00:00:00\",\"2016-02-10T00:00:00\",\"2016-02-11T00:00:00\",\"2016-02-12T00:00:00\",\"2016-02-16T00:00:00\",\"2016-02-17T00:00:00\",\"2016-02-18T00:00:00\",\"2016-02-19T00:00:00\",\"2016-02-22T00:00:00\",\"2016-02-23T00:00:00\",\"2016-02-24T00:00:00\",\"2016-02-25T00:00:00\",\"2016-02-26T00:00:00\",\"2016-02-29T00:00:00\",\"2016-03-01T00:00:00\",\"2016-03-02T00:00:00\",\"2016-03-03T00:00:00\",\"2016-03-04T00:00:00\",\"2016-03-07T00:00:00\",\"2016-03-08T00:00:00\",\"2016-03-09T00:00:00\",\"2016-03-10T00:00:00\",\"2016-03-11T00:00:00\",\"2016-03-14T00:00:00\",\"2016-03-15T00:00:00\",\"2016-03-16T00:00:00\",\"2016-03-17T00:00:00\",\"2016-03-18T00:00:00\",\"2016-03-21T00:00:00\",\"2016-03-22T00:00:00\",\"2016-03-23T00:00:00\",\"2016-03-24T00:00:00\",\"2016-03-28T00:00:00\",\"2016-03-29T00:00:00\",\"2016-03-30T00:00:00\",\"2016-03-31T00:00:00\",\"2016-04-01T00:00:00\",\"2016-04-04T00:00:00\",\"2016-04-05T00:00:00\",\"2016-04-06T00:00:00\",\"2016-04-07T00:00:00\",\"2016-04-08T00:00:00\",\"2016-04-11T00:00:00\",\"2016-04-12T00:00:00\",\"2016-04-13T00:00:00\",\"2016-04-14T00:00:00\",\"2016-04-15T00:00:00\",\"2016-04-18T00:00:00\",\"2016-04-19T00:00:00\",\"2016-04-20T00:00:00\",\"2016-04-21T00:00:00\",\"2016-04-22T00:00:00\",\"2016-04-25T00:00:00\",\"2016-04-26T00:00:00\",\"2016-04-27T00:00:00\",\"2016-04-28T00:00:00\",\"2016-04-29T00:00:00\",\"2016-05-02T00:00:00\",\"2016-05-03T00:00:00\",\"2016-05-04T00:00:00\",\"2016-05-05T00:00:00\",\"2016-05-06T00:00:00\",\"2016-05-09T00:00:00\",\"2016-05-10T00:00:00\",\"2016-05-11T00:00:00\",\"2016-05-12T00:00:00\",\"2016-05-13T00:00:00\",\"2016-05-16T00:00:00\",\"2016-05-17T00:00:00\",\"2016-05-18T00:00:00\",\"2016-05-19T00:00:00\",\"2016-05-20T00:00:00\",\"2016-05-23T00:00:00\",\"2016-05-24T00:00:00\",\"2016-05-25T00:00:00\",\"2016-05-26T00:00:00\",\"2016-05-27T00:00:00\",\"2016-05-31T00:00:00\",\"2016-06-01T00:00:00\",\"2016-06-02T00:00:00\",\"2016-06-03T00:00:00\",\"2016-06-06T00:00:00\",\"2016-06-07T00:00:00\",\"2016-06-08T00:00:00\",\"2016-06-09T00:00:00\",\"2016-06-10T00:00:00\",\"2016-06-13T00:00:00\",\"2016-06-14T00:00:00\",\"2016-06-15T00:00:00\",\"2016-06-16T00:00:00\",\"2016-06-17T00:00:00\",\"2016-06-20T00:00:00\",\"2016-06-21T00:00:00\",\"2016-06-22T00:00:00\",\"2016-06-23T00:00:00\",\"2016-06-24T00:00:00\",\"2016-06-27T00:00:00\",\"2016-06-28T00:00:00\",\"2016-06-29T00:00:00\",\"2016-06-30T00:00:00\",\"2016-07-01T00:00:00\",\"2016-07-05T00:00:00\",\"2016-07-06T00:00:00\",\"2016-07-07T00:00:00\",\"2016-07-08T00:00:00\",\"2016-07-11T00:00:00\",\"2016-07-12T00:00:00\",\"2016-07-13T00:00:00\",\"2016-07-14T00:00:00\",\"2016-07-15T00:00:00\",\"2016-07-18T00:00:00\",\"2016-07-19T00:00:00\",\"2016-07-20T00:00:00\",\"2016-07-21T00:00:00\",\"2016-07-22T00:00:00\",\"2016-07-25T00:00:00\",\"2016-07-26T00:00:00\",\"2016-07-27T00:00:00\",\"2016-07-28T00:00:00\",\"2016-07-29T00:00:00\",\"2016-08-01T00:00:00\",\"2016-08-02T00:00:00\",\"2016-08-03T00:00:00\",\"2016-08-04T00:00:00\",\"2016-08-05T00:00:00\",\"2016-08-08T00:00:00\",\"2016-08-09T00:00:00\",\"2016-08-10T00:00:00\",\"2016-08-11T00:00:00\",\"2016-08-12T00:00:00\",\"2016-08-15T00:00:00\",\"2016-08-16T00:00:00\",\"2016-08-17T00:00:00\",\"2016-08-18T00:00:00\",\"2016-08-19T00:00:00\",\"2016-08-22T00:00:00\",\"2016-08-23T00:00:00\",\"2016-08-24T00:00:00\",\"2016-08-25T00:00:00\",\"2016-08-26T00:00:00\",\"2016-08-29T00:00:00\",\"2016-08-30T00:00:00\",\"2016-08-31T00:00:00\",\"2016-09-01T00:00:00\",\"2016-09-02T00:00:00\",\"2016-09-06T00:00:00\",\"2016-09-07T00:00:00\",\"2016-09-08T00:00:00\",\"2016-09-09T00:00:00\",\"2016-09-12T00:00:00\",\"2016-09-13T00:00:00\",\"2016-09-14T00:00:00\",\"2016-09-15T00:00:00\",\"2016-09-16T00:00:00\",\"2016-09-19T00:00:00\",\"2016-09-20T00:00:00\",\"2016-09-21T00:00:00\",\"2016-09-22T00:00:00\",\"2016-09-23T00:00:00\",\"2016-09-26T00:00:00\",\"2016-09-27T00:00:00\",\"2016-09-28T00:00:00\",\"2016-09-29T00:00:00\",\"2016-09-30T00:00:00\",\"2016-10-03T00:00:00\",\"2016-10-04T00:00:00\",\"2016-10-05T00:00:00\",\"2016-10-06T00:00:00\",\"2016-10-07T00:00:00\",\"2016-10-10T00:00:00\",\"2016-10-11T00:00:00\",\"2016-10-12T00:00:00\",\"2016-10-13T00:00:00\",\"2016-10-14T00:00:00\",\"2016-10-17T00:00:00\",\"2016-10-18T00:00:00\",\"2016-10-19T00:00:00\",\"2016-10-20T00:00:00\",\"2016-10-21T00:00:00\",\"2016-10-24T00:00:00\",\"2016-10-25T00:00:00\",\"2016-10-26T00:00:00\",\"2016-10-27T00:00:00\",\"2016-10-28T00:00:00\",\"2016-10-31T00:00:00\",\"2016-11-01T00:00:00\",\"2016-11-02T00:00:00\",\"2016-11-03T00:00:00\",\"2016-11-04T00:00:00\",\"2016-11-07T00:00:00\",\"2016-11-08T00:00:00\",\"2016-11-09T00:00:00\",\"2016-11-10T00:00:00\",\"2016-11-11T00:00:00\",\"2016-11-14T00:00:00\",\"2016-11-15T00:00:00\",\"2016-11-16T00:00:00\",\"2016-11-17T00:00:00\",\"2016-11-18T00:00:00\",\"2016-11-21T00:00:00\",\"2016-11-22T00:00:00\",\"2016-11-23T00:00:00\",\"2016-11-25T00:00:00\",\"2016-11-28T00:00:00\",\"2016-11-29T00:00:00\",\"2016-11-30T00:00:00\",\"2016-12-01T00:00:00\",\"2016-12-02T00:00:00\",\"2016-12-05T00:00:00\",\"2016-12-06T00:00:00\",\"2016-12-07T00:00:00\",\"2016-12-08T00:00:00\",\"2016-12-09T00:00:00\",\"2016-12-12T00:00:00\",\"2016-12-13T00:00:00\",\"2016-12-14T00:00:00\",\"2016-12-15T00:00:00\",\"2016-12-16T00:00:00\",\"2016-12-19T00:00:00\",\"2016-12-20T00:00:00\",\"2016-12-21T00:00:00\",\"2016-12-22T00:00:00\",\"2016-12-23T00:00:00\",\"2016-12-27T00:00:00\",\"2016-12-28T00:00:00\",\"2016-12-29T00:00:00\",\"2016-12-30T00:00:00\",\"2017-01-03T00:00:00\",\"2017-01-04T00:00:00\",\"2017-01-05T00:00:00\",\"2017-01-06T00:00:00\",\"2017-01-09T00:00:00\",\"2017-01-10T00:00:00\",\"2017-01-11T00:00:00\",\"2017-01-12T00:00:00\",\"2017-01-13T00:00:00\",\"2017-01-17T00:00:00\",\"2017-01-18T00:00:00\",\"2017-01-19T00:00:00\",\"2017-01-20T00:00:00\",\"2017-01-23T00:00:00\",\"2017-01-24T00:00:00\",\"2017-01-25T00:00:00\",\"2017-01-26T00:00:00\",\"2017-01-27T00:00:00\",\"2017-01-30T00:00:00\",\"2017-01-31T00:00:00\",\"2017-02-01T00:00:00\",\"2017-02-02T00:00:00\",\"2017-02-03T00:00:00\",\"2017-02-06T00:00:00\",\"2017-02-07T00:00:00\",\"2017-02-08T00:00:00\",\"2017-02-09T00:00:00\",\"2017-02-10T00:00:00\",\"2017-02-13T00:00:00\",\"2017-02-14T00:00:00\",\"2017-02-15T00:00:00\",\"2017-02-16T00:00:00\",\"2017-02-17T00:00:00\",\"2017-02-21T00:00:00\",\"2017-02-22T00:00:00\",\"2017-02-23T00:00:00\",\"2017-02-24T00:00:00\",\"2017-02-27T00:00:00\",\"2017-02-28T00:00:00\",\"2017-03-01T00:00:00\",\"2017-03-02T00:00:00\",\"2017-03-03T00:00:00\",\"2017-03-06T00:00:00\",\"2017-03-07T00:00:00\",\"2017-03-08T00:00:00\",\"2017-03-09T00:00:00\",\"2017-03-10T00:00:00\",\"2017-03-13T00:00:00\",\"2017-03-14T00:00:00\",\"2017-03-15T00:00:00\",\"2017-03-16T00:00:00\",\"2017-03-17T00:00:00\",\"2017-03-20T00:00:00\",\"2017-03-21T00:00:00\",\"2017-03-22T00:00:00\",\"2017-03-23T00:00:00\",\"2017-03-24T00:00:00\",\"2017-03-27T00:00:00\",\"2017-03-28T00:00:00\",\"2017-03-29T00:00:00\",\"2017-03-30T00:00:00\",\"2017-03-31T00:00:00\",\"2017-04-03T00:00:00\",\"2017-04-04T00:00:00\",\"2017-04-05T00:00:00\",\"2017-04-06T00:00:00\",\"2017-04-07T00:00:00\",\"2017-04-10T00:00:00\",\"2017-04-11T00:00:00\",\"2017-04-12T00:00:00\",\"2017-04-13T00:00:00\",\"2017-04-17T00:00:00\",\"2017-04-18T00:00:00\",\"2017-04-19T00:00:00\",\"2017-04-20T00:00:00\",\"2017-04-21T00:00:00\",\"2017-04-24T00:00:00\",\"2017-04-25T00:00:00\",\"2017-04-26T00:00:00\",\"2017-04-27T00:00:00\",\"2017-04-28T00:00:00\",\"2017-05-01T00:00:00\",\"2017-05-02T00:00:00\",\"2017-05-03T00:00:00\",\"2017-05-04T00:00:00\",\"2017-05-05T00:00:00\",\"2017-05-08T00:00:00\",\"2017-05-09T00:00:00\",\"2017-05-10T00:00:00\",\"2017-05-11T00:00:00\",\"2017-05-12T00:00:00\",\"2017-05-15T00:00:00\",\"2017-05-16T00:00:00\",\"2017-05-17T00:00:00\",\"2017-05-18T00:00:00\",\"2017-05-19T00:00:00\",\"2017-05-22T00:00:00\",\"2017-05-23T00:00:00\",\"2017-05-24T00:00:00\",\"2017-05-25T00:00:00\",\"2017-05-26T00:00:00\",\"2017-05-30T00:00:00\",\"2017-05-31T00:00:00\",\"2017-06-01T00:00:00\",\"2017-06-02T00:00:00\",\"2017-06-05T00:00:00\",\"2017-06-06T00:00:00\",\"2017-06-07T00:00:00\",\"2017-06-08T00:00:00\",\"2017-06-09T00:00:00\",\"2017-06-12T00:00:00\",\"2017-06-13T00:00:00\",\"2017-06-14T00:00:00\",\"2017-06-15T00:00:00\",\"2017-06-16T00:00:00\",\"2017-06-19T00:00:00\",\"2017-06-20T00:00:00\",\"2017-06-21T00:00:00\",\"2017-06-22T00:00:00\",\"2017-06-23T00:00:00\",\"2017-06-26T00:00:00\",\"2017-06-27T00:00:00\",\"2017-06-28T00:00:00\",\"2017-06-29T00:00:00\",\"2017-06-30T00:00:00\",\"2017-07-03T00:00:00\",\"2017-07-05T00:00:00\",\"2017-07-06T00:00:00\",\"2017-07-07T00:00:00\",\"2017-07-10T00:00:00\",\"2017-07-11T00:00:00\",\"2017-07-12T00:00:00\",\"2017-07-13T00:00:00\",\"2017-07-14T00:00:00\",\"2017-07-17T00:00:00\",\"2017-07-18T00:00:00\",\"2017-07-19T00:00:00\",\"2017-07-20T00:00:00\",\"2017-07-21T00:00:00\",\"2017-07-24T00:00:00\",\"2017-07-25T00:00:00\",\"2017-07-26T00:00:00\",\"2017-07-27T00:00:00\",\"2017-07-28T00:00:00\",\"2017-07-31T00:00:00\",\"2017-08-01T00:00:00\",\"2017-08-02T00:00:00\",\"2017-08-03T00:00:00\",\"2017-08-04T00:00:00\",\"2017-08-07T00:00:00\",\"2017-08-08T00:00:00\",\"2017-08-09T00:00:00\",\"2017-08-10T00:00:00\",\"2017-08-11T00:00:00\",\"2017-08-14T00:00:00\",\"2017-08-15T00:00:00\",\"2017-08-16T00:00:00\",\"2017-08-17T00:00:00\",\"2017-08-18T00:00:00\",\"2017-08-21T00:00:00\",\"2017-08-22T00:00:00\",\"2017-08-23T00:00:00\",\"2017-08-24T00:00:00\",\"2017-08-25T00:00:00\",\"2017-08-28T00:00:00\",\"2017-08-29T00:00:00\",\"2017-08-30T00:00:00\",\"2017-08-31T00:00:00\",\"2017-09-01T00:00:00\",\"2017-09-05T00:00:00\",\"2017-09-06T00:00:00\",\"2017-09-07T00:00:00\",\"2017-09-08T00:00:00\",\"2017-09-11T00:00:00\",\"2017-09-12T00:00:00\",\"2017-09-13T00:00:00\",\"2017-09-14T00:00:00\",\"2017-09-15T00:00:00\",\"2017-09-18T00:00:00\",\"2017-09-19T00:00:00\",\"2017-09-20T00:00:00\",\"2017-09-21T00:00:00\",\"2017-09-22T00:00:00\",\"2017-09-25T00:00:00\",\"2017-09-26T00:00:00\",\"2017-09-27T00:00:00\",\"2017-09-28T00:00:00\",\"2017-09-29T00:00:00\",\"2017-10-02T00:00:00\",\"2017-10-03T00:00:00\",\"2017-10-04T00:00:00\",\"2017-10-05T00:00:00\",\"2017-10-06T00:00:00\",\"2017-10-09T00:00:00\",\"2017-10-10T00:00:00\",\"2017-10-11T00:00:00\",\"2017-10-12T00:00:00\",\"2017-10-13T00:00:00\",\"2017-10-16T00:00:00\",\"2017-10-17T00:00:00\",\"2017-10-18T00:00:00\",\"2017-10-19T00:00:00\",\"2017-10-20T00:00:00\",\"2017-10-23T00:00:00\",\"2017-10-24T00:00:00\",\"2017-10-25T00:00:00\",\"2017-10-26T00:00:00\",\"2017-10-27T00:00:00\",\"2017-10-30T00:00:00\",\"2017-10-31T00:00:00\",\"2017-11-01T00:00:00\",\"2017-11-02T00:00:00\",\"2017-11-03T00:00:00\",\"2017-11-06T00:00:00\",\"2017-11-07T00:00:00\",\"2017-11-08T00:00:00\",\"2017-11-09T00:00:00\",\"2017-11-10T00:00:00\",\"2017-11-13T00:00:00\",\"2017-11-14T00:00:00\",\"2017-11-15T00:00:00\",\"2017-11-16T00:00:00\",\"2017-11-17T00:00:00\",\"2017-11-20T00:00:00\",\"2017-11-21T00:00:00\",\"2017-11-22T00:00:00\",\"2017-11-24T00:00:00\",\"2017-11-27T00:00:00\",\"2017-11-28T00:00:00\",\"2017-11-29T00:00:00\",\"2017-11-30T00:00:00\",\"2017-12-01T00:00:00\",\"2017-12-04T00:00:00\",\"2017-12-05T00:00:00\",\"2017-12-06T00:00:00\",\"2017-12-07T00:00:00\",\"2017-12-08T00:00:00\",\"2017-12-11T00:00:00\",\"2017-12-12T00:00:00\",\"2017-12-13T00:00:00\",\"2017-12-14T00:00:00\",\"2017-12-15T00:00:00\",\"2017-12-18T00:00:00\",\"2017-12-19T00:00:00\",\"2017-12-20T00:00:00\",\"2017-12-21T00:00:00\",\"2017-12-22T00:00:00\",\"2017-12-26T00:00:00\",\"2017-12-27T00:00:00\",\"2017-12-28T00:00:00\",\"2017-12-29T00:00:00\",\"2018-01-02T00:00:00\",\"2018-01-03T00:00:00\",\"2018-01-04T00:00:00\",\"2018-01-05T00:00:00\",\"2018-01-08T00:00:00\",\"2018-01-09T00:00:00\",\"2018-01-10T00:00:00\",\"2018-01-11T00:00:00\",\"2018-01-12T00:00:00\",\"2018-01-16T00:00:00\",\"2018-01-17T00:00:00\",\"2018-01-18T00:00:00\",\"2018-01-19T00:00:00\",\"2018-01-22T00:00:00\",\"2018-01-23T00:00:00\",\"2018-01-24T00:00:00\",\"2018-01-25T00:00:00\",\"2018-01-26T00:00:00\",\"2018-01-29T00:00:00\",\"2018-01-30T00:00:00\",\"2018-01-31T00:00:00\",\"2018-02-01T00:00:00\",\"2018-02-02T00:00:00\",\"2018-02-05T00:00:00\",\"2018-02-06T00:00:00\",\"2018-02-07T00:00:00\",\"2018-02-08T00:00:00\",\"2018-02-09T00:00:00\",\"2018-02-12T00:00:00\",\"2018-02-13T00:00:00\",\"2018-02-14T00:00:00\",\"2018-02-15T00:00:00\",\"2018-02-16T00:00:00\",\"2018-02-20T00:00:00\",\"2018-02-21T00:00:00\",\"2018-02-22T00:00:00\",\"2018-02-23T00:00:00\",\"2018-02-26T00:00:00\",\"2018-02-27T00:00:00\",\"2018-02-28T00:00:00\",\"2018-03-01T00:00:00\",\"2018-03-02T00:00:00\",\"2018-03-05T00:00:00\",\"2018-03-06T00:00:00\",\"2018-03-07T00:00:00\",\"2018-03-08T00:00:00\",\"2018-03-09T00:00:00\",\"2018-03-12T00:00:00\",\"2018-03-13T00:00:00\",\"2018-03-14T00:00:00\",\"2018-03-15T00:00:00\",\"2018-03-16T00:00:00\",\"2018-03-19T00:00:00\",\"2018-03-20T00:00:00\",\"2018-03-21T00:00:00\",\"2018-03-22T00:00:00\",\"2018-03-23T00:00:00\",\"2018-03-26T00:00:00\",\"2018-03-27T00:00:00\",\"2018-03-28T00:00:00\",\"2018-03-29T00:00:00\",\"2018-04-02T00:00:00\",\"2018-04-03T00:00:00\",\"2018-04-04T00:00:00\",\"2018-04-05T00:00:00\",\"2018-04-06T00:00:00\",\"2018-04-09T00:00:00\",\"2018-04-10T00:00:00\",\"2018-04-11T00:00:00\",\"2018-04-12T00:00:00\",\"2018-04-13T00:00:00\",\"2018-04-16T00:00:00\",\"2018-04-17T00:00:00\",\"2018-04-18T00:00:00\",\"2018-04-19T00:00:00\",\"2018-04-20T00:00:00\",\"2018-04-23T00:00:00\",\"2018-04-24T00:00:00\",\"2018-04-25T00:00:00\",\"2018-04-26T00:00:00\",\"2018-04-27T00:00:00\",\"2018-04-30T00:00:00\",\"2018-05-01T00:00:00\",\"2018-05-02T00:00:00\",\"2018-05-03T00:00:00\",\"2018-05-04T00:00:00\",\"2018-05-07T00:00:00\",\"2018-05-08T00:00:00\",\"2018-05-09T00:00:00\",\"2018-05-10T00:00:00\",\"2018-05-11T00:00:00\",\"2018-05-14T00:00:00\",\"2018-05-15T00:00:00\",\"2018-05-16T00:00:00\",\"2018-05-17T00:00:00\",\"2018-05-18T00:00:00\",\"2018-05-21T00:00:00\",\"2018-05-22T00:00:00\",\"2018-05-23T00:00:00\",\"2018-05-24T00:00:00\",\"2018-05-25T00:00:00\",\"2018-05-29T00:00:00\",\"2018-05-30T00:00:00\",\"2018-05-31T00:00:00\",\"2018-06-01T00:00:00\",\"2018-06-04T00:00:00\",\"2018-06-05T00:00:00\",\"2018-06-06T00:00:00\",\"2018-06-07T00:00:00\",\"2018-06-08T00:00:00\",\"2018-06-11T00:00:00\",\"2018-06-12T00:00:00\",\"2018-06-13T00:00:00\",\"2018-06-14T00:00:00\",\"2018-06-15T00:00:00\",\"2018-06-18T00:00:00\",\"2018-06-19T00:00:00\",\"2018-06-20T00:00:00\",\"2018-06-21T00:00:00\",\"2018-06-22T00:00:00\",\"2018-06-25T00:00:00\",\"2018-06-26T00:00:00\",\"2018-06-27T00:00:00\",\"2018-06-28T00:00:00\",\"2018-06-29T00:00:00\",\"2018-07-02T00:00:00\",\"2018-07-03T00:00:00\",\"2018-07-05T00:00:00\",\"2018-07-06T00:00:00\",\"2018-07-09T00:00:00\",\"2018-07-10T00:00:00\",\"2018-07-11T00:00:00\",\"2018-07-12T00:00:00\",\"2018-07-13T00:00:00\",\"2018-07-16T00:00:00\",\"2018-07-17T00:00:00\",\"2018-07-18T00:00:00\",\"2018-07-19T00:00:00\",\"2018-07-20T00:00:00\",\"2018-07-23T00:00:00\",\"2018-07-24T00:00:00\",\"2018-07-25T00:00:00\",\"2018-07-26T00:00:00\",\"2018-07-27T00:00:00\",\"2018-07-30T00:00:00\",\"2018-07-31T00:00:00\",\"2018-08-01T00:00:00\",\"2018-08-02T00:00:00\",\"2018-08-03T00:00:00\",\"2018-08-06T00:00:00\",\"2018-08-07T00:00:00\",\"2018-08-08T00:00:00\",\"2018-08-09T00:00:00\",\"2018-08-10T00:00:00\",\"2018-08-13T00:00:00\",\"2018-08-14T00:00:00\",\"2018-08-15T00:00:00\",\"2018-08-16T00:00:00\",\"2018-08-17T00:00:00\",\"2018-08-20T00:00:00\",\"2018-08-21T00:00:00\",\"2018-08-22T00:00:00\",\"2018-08-23T00:00:00\",\"2018-08-24T00:00:00\",\"2018-08-27T00:00:00\",\"2018-08-28T00:00:00\",\"2018-08-29T00:00:00\",\"2018-08-30T00:00:00\",\"2018-08-31T00:00:00\",\"2018-09-04T00:00:00\",\"2018-09-05T00:00:00\",\"2018-09-06T00:00:00\",\"2018-09-07T00:00:00\",\"2018-09-10T00:00:00\",\"2018-09-11T00:00:00\",\"2018-09-12T00:00:00\",\"2018-09-13T00:00:00\",\"2018-09-14T00:00:00\",\"2018-09-17T00:00:00\",\"2018-09-18T00:00:00\",\"2018-09-19T00:00:00\",\"2018-09-20T00:00:00\",\"2018-09-21T00:00:00\",\"2018-09-24T00:00:00\",\"2018-09-25T00:00:00\",\"2018-09-26T00:00:00\",\"2018-09-27T00:00:00\",\"2018-09-28T00:00:00\",\"2018-10-01T00:00:00\",\"2018-10-02T00:00:00\",\"2018-10-03T00:00:00\",\"2018-10-04T00:00:00\",\"2018-10-05T00:00:00\",\"2018-10-08T00:00:00\",\"2018-10-09T00:00:00\",\"2018-10-10T00:00:00\",\"2018-10-11T00:00:00\",\"2018-10-12T00:00:00\",\"2018-10-15T00:00:00\",\"2018-10-16T00:00:00\",\"2018-10-17T00:00:00\",\"2018-10-18T00:00:00\",\"2018-10-19T00:00:00\",\"2018-10-22T00:00:00\",\"2018-10-23T00:00:00\",\"2018-10-24T00:00:00\",\"2018-10-25T00:00:00\",\"2018-10-26T00:00:00\",\"2018-10-29T00:00:00\",\"2018-10-30T00:00:00\",\"2018-10-31T00:00:00\",\"2018-11-01T00:00:00\",\"2018-11-02T00:00:00\",\"2018-11-05T00:00:00\",\"2018-11-06T00:00:00\",\"2018-11-07T00:00:00\",\"2018-11-08T00:00:00\",\"2018-11-09T00:00:00\",\"2018-11-12T00:00:00\",\"2018-11-13T00:00:00\",\"2018-11-14T00:00:00\",\"2018-11-15T00:00:00\",\"2018-11-16T00:00:00\",\"2018-11-19T00:00:00\",\"2018-11-20T00:00:00\",\"2018-11-21T00:00:00\",\"2018-11-23T00:00:00\",\"2018-11-26T00:00:00\",\"2018-11-27T00:00:00\",\"2018-11-28T00:00:00\",\"2018-11-29T00:00:00\",\"2018-11-30T00:00:00\",\"2018-12-03T00:00:00\",\"2018-12-04T00:00:00\",\"2018-12-06T00:00:00\",\"2018-12-07T00:00:00\",\"2018-12-10T00:00:00\",\"2018-12-11T00:00:00\",\"2018-12-12T00:00:00\",\"2018-12-13T00:00:00\",\"2018-12-14T00:00:00\",\"2018-12-17T00:00:00\",\"2018-12-18T00:00:00\",\"2018-12-19T00:00:00\",\"2018-12-20T00:00:00\",\"2018-12-21T00:00:00\",\"2018-12-24T00:00:00\",\"2018-12-26T00:00:00\",\"2018-12-27T00:00:00\",\"2018-12-28T00:00:00\",\"2018-12-31T00:00:00\",\"2019-01-02T00:00:00\",\"2019-01-03T00:00:00\",\"2019-01-04T00:00:00\",\"2019-01-07T00:00:00\",\"2019-01-08T00:00:00\",\"2019-01-09T00:00:00\",\"2019-01-10T00:00:00\",\"2019-01-11T00:00:00\",\"2019-01-14T00:00:00\",\"2019-01-15T00:00:00\",\"2019-01-16T00:00:00\",\"2019-01-17T00:00:00\",\"2019-01-18T00:00:00\",\"2019-01-22T00:00:00\",\"2019-01-23T00:00:00\",\"2019-01-24T00:00:00\",\"2019-01-25T00:00:00\",\"2019-01-28T00:00:00\",\"2019-01-29T00:00:00\",\"2019-01-30T00:00:00\",\"2019-01-31T00:00:00\",\"2019-02-01T00:00:00\",\"2019-02-04T00:00:00\",\"2019-02-05T00:00:00\",\"2019-02-06T00:00:00\",\"2019-02-07T00:00:00\",\"2019-02-08T00:00:00\",\"2019-02-11T00:00:00\",\"2019-02-12T00:00:00\",\"2019-02-13T00:00:00\",\"2019-02-14T00:00:00\",\"2019-02-15T00:00:00\",\"2019-02-19T00:00:00\",\"2019-02-20T00:00:00\",\"2019-02-21T00:00:00\",\"2019-02-22T00:00:00\",\"2019-02-25T00:00:00\",\"2019-02-26T00:00:00\",\"2019-02-27T00:00:00\",\"2019-02-28T00:00:00\",\"2019-03-01T00:00:00\",\"2019-03-04T00:00:00\",\"2019-03-05T00:00:00\",\"2019-03-06T00:00:00\",\"2019-03-07T00:00:00\",\"2019-03-08T00:00:00\",\"2019-03-11T00:00:00\",\"2019-03-12T00:00:00\",\"2019-03-13T00:00:00\",\"2019-03-14T00:00:00\",\"2019-03-15T00:00:00\",\"2019-03-18T00:00:00\",\"2019-03-19T00:00:00\",\"2019-03-20T00:00:00\",\"2019-03-21T00:00:00\",\"2019-03-22T00:00:00\",\"2019-03-25T00:00:00\",\"2019-03-26T00:00:00\",\"2019-03-27T00:00:00\",\"2019-03-28T00:00:00\",\"2019-03-29T00:00:00\",\"2019-04-01T00:00:00\",\"2019-04-02T00:00:00\",\"2019-04-03T00:00:00\",\"2019-04-04T00:00:00\",\"2019-04-05T00:00:00\",\"2019-04-08T00:00:00\",\"2019-04-09T00:00:00\",\"2019-04-10T00:00:00\",\"2019-04-11T00:00:00\",\"2019-04-12T00:00:00\",\"2019-04-15T00:00:00\",\"2019-04-16T00:00:00\",\"2019-04-17T00:00:00\",\"2019-04-18T00:00:00\",\"2019-04-22T00:00:00\",\"2019-04-23T00:00:00\",\"2019-04-24T00:00:00\",\"2019-04-25T00:00:00\",\"2019-04-26T00:00:00\",\"2019-04-29T00:00:00\",\"2019-04-30T00:00:00\",\"2019-05-01T00:00:00\",\"2019-05-02T00:00:00\",\"2019-05-03T00:00:00\",\"2019-05-06T00:00:00\",\"2019-05-07T00:00:00\",\"2019-05-08T00:00:00\",\"2019-05-09T00:00:00\",\"2019-05-10T00:00:00\",\"2019-05-13T00:00:00\",\"2019-05-14T00:00:00\",\"2019-05-15T00:00:00\",\"2019-05-16T00:00:00\",\"2019-05-17T00:00:00\",\"2019-05-20T00:00:00\",\"2019-05-21T00:00:00\",\"2019-05-22T00:00:00\",\"2019-05-23T00:00:00\",\"2019-05-24T00:00:00\",\"2019-05-28T00:00:00\",\"2019-05-29T00:00:00\",\"2019-05-30T00:00:00\",\"2019-05-31T00:00:00\",\"2019-06-03T00:00:00\",\"2019-06-04T00:00:00\",\"2019-06-05T00:00:00\",\"2019-06-06T00:00:00\",\"2019-06-07T00:00:00\",\"2019-06-10T00:00:00\",\"2019-06-11T00:00:00\",\"2019-06-12T00:00:00\",\"2019-06-13T00:00:00\",\"2019-06-14T00:00:00\",\"2019-06-17T00:00:00\",\"2019-06-18T00:00:00\",\"2019-06-19T00:00:00\",\"2019-06-20T00:00:00\",\"2019-06-21T00:00:00\",\"2019-06-24T00:00:00\",\"2019-06-25T00:00:00\",\"2019-06-26T00:00:00\",\"2019-06-27T00:00:00\",\"2019-06-28T00:00:00\",\"2019-07-01T00:00:00\",\"2019-07-02T00:00:00\",\"2019-07-03T00:00:00\",\"2019-07-05T00:00:00\",\"2019-07-08T00:00:00\",\"2019-07-09T00:00:00\",\"2019-07-10T00:00:00\",\"2019-07-11T00:00:00\",\"2019-07-12T00:00:00\",\"2019-07-15T00:00:00\",\"2019-07-16T00:00:00\",\"2019-07-17T00:00:00\",\"2019-07-18T00:00:00\",\"2019-07-19T00:00:00\",\"2019-07-22T00:00:00\",\"2019-07-23T00:00:00\",\"2019-07-24T00:00:00\",\"2019-07-25T00:00:00\",\"2019-07-26T00:00:00\",\"2019-07-29T00:00:00\",\"2019-07-30T00:00:00\",\"2019-07-31T00:00:00\",\"2019-08-01T00:00:00\",\"2019-08-02T00:00:00\",\"2019-08-05T00:00:00\",\"2019-08-06T00:00:00\",\"2019-08-07T00:00:00\",\"2019-08-08T00:00:00\",\"2019-08-09T00:00:00\",\"2019-08-12T00:00:00\",\"2019-08-13T00:00:00\",\"2019-08-14T00:00:00\",\"2019-08-15T00:00:00\",\"2019-08-16T00:00:00\",\"2019-08-19T00:00:00\",\"2019-08-20T00:00:00\",\"2019-08-21T00:00:00\",\"2019-08-22T00:00:00\",\"2019-08-23T00:00:00\",\"2019-08-26T00:00:00\",\"2019-08-27T00:00:00\",\"2019-08-28T00:00:00\",\"2019-08-29T00:00:00\",\"2019-08-30T00:00:00\",\"2019-09-03T00:00:00\",\"2019-09-04T00:00:00\",\"2019-09-05T00:00:00\",\"2019-09-06T00:00:00\",\"2019-09-09T00:00:00\",\"2019-09-10T00:00:00\",\"2019-09-11T00:00:00\",\"2019-09-12T00:00:00\",\"2019-09-13T00:00:00\",\"2019-09-16T00:00:00\",\"2019-09-17T00:00:00\",\"2019-09-18T00:00:00\",\"2019-09-19T00:00:00\",\"2019-09-20T00:00:00\",\"2019-09-23T00:00:00\",\"2019-09-24T00:00:00\",\"2019-09-25T00:00:00\",\"2019-09-26T00:00:00\",\"2019-09-27T00:00:00\",\"2019-09-30T00:00:00\",\"2019-10-01T00:00:00\",\"2019-10-02T00:00:00\",\"2019-10-03T00:00:00\",\"2019-10-04T00:00:00\",\"2019-10-07T00:00:00\",\"2019-10-08T00:00:00\",\"2019-10-09T00:00:00\",\"2019-10-10T00:00:00\",\"2019-10-11T00:00:00\",\"2019-10-14T00:00:00\",\"2019-10-15T00:00:00\",\"2019-10-16T00:00:00\",\"2019-10-17T00:00:00\",\"2019-10-18T00:00:00\",\"2019-10-21T00:00:00\",\"2019-10-22T00:00:00\",\"2019-10-23T00:00:00\",\"2019-10-24T00:00:00\",\"2019-10-25T00:00:00\",\"2019-10-28T00:00:00\",\"2019-10-29T00:00:00\",\"2019-10-30T00:00:00\",\"2019-10-31T00:00:00\",\"2019-11-01T00:00:00\",\"2019-11-04T00:00:00\",\"2019-11-05T00:00:00\",\"2019-11-06T00:00:00\",\"2019-11-07T00:00:00\",\"2019-11-08T00:00:00\",\"2019-11-11T00:00:00\",\"2019-11-12T00:00:00\",\"2019-11-13T00:00:00\",\"2019-11-14T00:00:00\",\"2019-11-15T00:00:00\",\"2019-11-18T00:00:00\",\"2019-11-19T00:00:00\",\"2019-11-20T00:00:00\",\"2019-11-21T00:00:00\",\"2019-11-22T00:00:00\",\"2019-11-25T00:00:00\",\"2019-11-26T00:00:00\",\"2019-11-27T00:00:00\",\"2019-11-29T00:00:00\",\"2019-12-02T00:00:00\",\"2019-12-03T00:00:00\",\"2019-12-04T00:00:00\",\"2019-12-05T00:00:00\",\"2019-12-06T00:00:00\",\"2019-12-09T00:00:00\",\"2019-12-10T00:00:00\",\"2019-12-11T00:00:00\",\"2019-12-12T00:00:00\",\"2019-12-13T00:00:00\",\"2019-12-16T00:00:00\",\"2019-12-17T00:00:00\",\"2019-12-18T00:00:00\",\"2019-12-19T00:00:00\",\"2019-12-20T00:00:00\",\"2019-12-23T00:00:00\",\"2019-12-24T00:00:00\",\"2019-12-26T00:00:00\",\"2019-12-27T00:00:00\",\"2019-12-30T00:00:00\",\"2019-12-31T00:00:00\",\"2020-01-02T00:00:00\",\"2020-01-03T00:00:00\",\"2020-01-06T00:00:00\",\"2020-01-07T00:00:00\",\"2020-01-08T00:00:00\",\"2020-01-09T00:00:00\",\"2020-01-10T00:00:00\",\"2020-01-13T00:00:00\",\"2020-01-14T00:00:00\",\"2020-01-15T00:00:00\",\"2020-01-16T00:00:00\",\"2020-01-17T00:00:00\",\"2020-01-21T00:00:00\",\"2020-01-22T00:00:00\",\"2020-01-23T00:00:00\",\"2020-01-24T00:00:00\",\"2020-01-27T00:00:00\",\"2020-01-28T00:00:00\",\"2020-01-29T00:00:00\",\"2020-01-30T00:00:00\",\"2020-01-31T00:00:00\",\"2020-02-03T00:00:00\",\"2020-02-04T00:00:00\",\"2020-02-05T00:00:00\",\"2020-02-06T00:00:00\",\"2020-02-07T00:00:00\",\"2020-02-10T00:00:00\",\"2020-02-11T00:00:00\",\"2020-02-12T00:00:00\",\"2020-02-13T00:00:00\",\"2020-02-14T00:00:00\",\"2020-02-18T00:00:00\",\"2020-02-19T00:00:00\",\"2020-02-20T00:00:00\",\"2020-02-21T00:00:00\",\"2020-02-24T00:00:00\",\"2020-02-25T00:00:00\",\"2020-02-26T00:00:00\",\"2020-02-27T00:00:00\",\"2020-02-28T00:00:00\",\"2020-03-02T00:00:00\",\"2020-03-03T00:00:00\",\"2020-03-04T00:00:00\",\"2020-03-05T00:00:00\",\"2020-03-06T00:00:00\",\"2020-03-09T00:00:00\",\"2020-03-10T00:00:00\",\"2020-03-11T00:00:00\",\"2020-03-12T00:00:00\",\"2020-03-13T00:00:00\",\"2020-03-16T00:00:00\",\"2020-03-17T00:00:00\",\"2020-03-18T00:00:00\",\"2020-03-19T00:00:00\",\"2020-03-20T00:00:00\",\"2020-03-23T00:00:00\",\"2020-03-24T00:00:00\",\"2020-03-25T00:00:00\",\"2020-03-26T00:00:00\",\"2020-03-27T00:00:00\",\"2020-03-30T00:00:00\",\"2020-03-31T00:00:00\",\"2020-04-01T00:00:00\",\"2020-04-02T00:00:00\",\"2020-04-03T00:00:00\",\"2020-04-06T00:00:00\",\"2020-04-07T00:00:00\",\"2020-04-08T00:00:00\",\"2020-04-09T00:00:00\",\"2020-04-13T00:00:00\",\"2020-04-14T00:00:00\",\"2020-04-15T00:00:00\",\"2020-04-16T00:00:00\",\"2020-04-17T00:00:00\",\"2020-04-20T00:00:00\",\"2020-04-21T00:00:00\",\"2020-04-22T00:00:00\",\"2020-04-23T00:00:00\",\"2020-04-24T00:00:00\",\"2020-04-27T00:00:00\",\"2020-04-28T00:00:00\",\"2020-04-29T00:00:00\",\"2020-04-30T00:00:00\",\"2020-05-01T00:00:00\",\"2020-05-04T00:00:00\",\"2020-05-05T00:00:00\",\"2020-05-06T00:00:00\",\"2020-05-07T00:00:00\",\"2020-05-08T00:00:00\",\"2020-05-11T00:00:00\",\"2020-05-12T00:00:00\",\"2020-05-13T00:00:00\",\"2020-05-14T00:00:00\",\"2020-05-15T00:00:00\",\"2020-05-18T00:00:00\",\"2020-05-19T00:00:00\",\"2020-05-20T00:00:00\",\"2020-05-21T00:00:00\",\"2020-05-22T00:00:00\",\"2020-05-26T00:00:00\",\"2020-05-27T00:00:00\",\"2020-05-28T00:00:00\",\"2020-05-29T00:00:00\",\"2020-06-01T00:00:00\",\"2020-06-02T00:00:00\",\"2020-06-03T00:00:00\",\"2020-06-04T00:00:00\",\"2020-06-05T00:00:00\",\"2020-06-08T00:00:00\",\"2020-06-09T00:00:00\",\"2020-06-10T00:00:00\",\"2020-06-11T00:00:00\",\"2020-06-12T00:00:00\",\"2020-06-15T00:00:00\",\"2020-06-16T00:00:00\",\"2020-06-17T00:00:00\",\"2020-06-18T00:00:00\",\"2020-06-19T00:00:00\",\"2020-06-22T00:00:00\",\"2020-06-23T00:00:00\",\"2020-06-24T00:00:00\",\"2020-06-25T00:00:00\",\"2020-06-26T00:00:00\",\"2020-06-29T00:00:00\",\"2020-06-30T00:00:00\",\"2020-07-01T00:00:00\",\"2020-07-02T00:00:00\",\"2020-07-06T00:00:00\",\"2020-07-07T00:00:00\",\"2020-07-08T00:00:00\",\"2020-07-09T00:00:00\",\"2020-07-10T00:00:00\",\"2020-07-13T00:00:00\",\"2020-07-14T00:00:00\",\"2020-07-15T00:00:00\",\"2020-07-16T00:00:00\",\"2020-07-17T00:00:00\",\"2020-07-20T00:00:00\",\"2020-07-21T00:00:00\",\"2020-07-22T00:00:00\",\"2020-07-23T00:00:00\",\"2020-07-24T00:00:00\",\"2020-07-27T00:00:00\",\"2020-07-28T00:00:00\",\"2020-07-29T00:00:00\",\"2020-07-30T00:00:00\",\"2020-07-31T00:00:00\",\"2020-08-03T00:00:00\",\"2020-08-04T00:00:00\",\"2020-08-05T00:00:00\",\"2020-08-06T00:00:00\",\"2020-08-07T00:00:00\",\"2020-08-10T00:00:00\",\"2020-08-11T00:00:00\",\"2020-08-12T00:00:00\",\"2020-08-13T00:00:00\",\"2020-08-14T00:00:00\",\"2020-08-17T00:00:00\",\"2020-08-18T00:00:00\",\"2020-08-19T00:00:00\",\"2020-08-20T00:00:00\",\"2020-08-21T00:00:00\",\"2020-08-24T00:00:00\",\"2020-08-25T00:00:00\",\"2020-08-26T00:00:00\",\"2020-08-27T00:00:00\",\"2020-08-28T00:00:00\",\"2020-08-31T00:00:00\",\"2020-09-01T00:00:00\",\"2020-09-02T00:00:00\",\"2020-09-03T00:00:00\",\"2020-09-04T00:00:00\",\"2020-09-08T00:00:00\",\"2020-09-09T00:00:00\",\"2020-09-10T00:00:00\",\"2020-09-11T00:00:00\",\"2020-09-14T00:00:00\",\"2020-09-15T00:00:00\",\"2020-09-16T00:00:00\",\"2020-09-17T00:00:00\",\"2020-09-18T00:00:00\",\"2020-09-21T00:00:00\",\"2020-09-22T00:00:00\",\"2020-09-23T00:00:00\",\"2020-09-24T00:00:00\",\"2020-09-25T00:00:00\",\"2020-09-28T00:00:00\",\"2020-09-29T00:00:00\",\"2020-09-30T00:00:00\",\"2020-10-01T00:00:00\",\"2020-10-02T00:00:00\",\"2020-10-05T00:00:00\",\"2020-10-06T00:00:00\",\"2020-10-07T00:00:00\",\"2020-10-08T00:00:00\",\"2020-10-09T00:00:00\",\"2020-10-12T00:00:00\",\"2020-10-13T00:00:00\",\"2020-10-14T00:00:00\",\"2020-10-15T00:00:00\",\"2020-10-16T00:00:00\",\"2020-10-19T00:00:00\",\"2020-10-20T00:00:00\",\"2020-10-21T00:00:00\",\"2020-10-22T00:00:00\",\"2020-10-23T00:00:00\",\"2020-10-26T00:00:00\",\"2020-10-27T00:00:00\",\"2020-10-28T00:00:00\",\"2020-10-29T00:00:00\",\"2020-10-30T00:00:00\",\"2020-11-02T00:00:00\",\"2020-11-03T00:00:00\",\"2020-11-04T00:00:00\",\"2020-11-05T00:00:00\",\"2020-11-06T00:00:00\",\"2020-11-09T00:00:00\",\"2020-11-10T00:00:00\",\"2020-11-11T00:00:00\",\"2020-11-12T00:00:00\",\"2020-11-13T00:00:00\",\"2020-11-16T00:00:00\",\"2020-11-17T00:00:00\",\"2020-11-18T00:00:00\",\"2020-11-19T00:00:00\",\"2020-11-20T00:00:00\",\"2020-11-23T00:00:00\",\"2020-11-24T00:00:00\",\"2020-11-25T00:00:00\",\"2020-11-27T00:00:00\",\"2020-11-30T00:00:00\",\"2020-12-01T00:00:00\",\"2020-12-02T00:00:00\",\"2020-12-03T00:00:00\",\"2020-12-04T00:00:00\",\"2020-12-07T00:00:00\",\"2020-12-08T00:00:00\",\"2020-12-09T00:00:00\",\"2020-12-10T00:00:00\",\"2020-12-11T00:00:00\",\"2020-12-14T00:00:00\",\"2020-12-15T00:00:00\",\"2020-12-16T00:00:00\",\"2020-12-17T00:00:00\",\"2020-12-18T00:00:00\",\"2020-12-21T00:00:00\",\"2020-12-22T00:00:00\",\"2020-12-23T00:00:00\",\"2020-12-24T00:00:00\",\"2020-12-28T00:00:00\",\"2020-12-29T00:00:00\",\"2020-12-30T00:00:00\",\"2020-12-31T00:00:00\",\"2021-01-04T00:00:00\",\"2021-01-05T00:00:00\",\"2021-01-06T00:00:00\",\"2021-01-07T00:00:00\",\"2021-01-08T00:00:00\",\"2021-01-11T00:00:00\",\"2021-01-12T00:00:00\",\"2021-01-13T00:00:00\",\"2021-01-14T00:00:00\",\"2021-01-15T00:00:00\",\"2021-01-19T00:00:00\",\"2021-01-20T00:00:00\",\"2021-01-21T00:00:00\",\"2021-01-22T00:00:00\",\"2021-01-25T00:00:00\",\"2021-01-26T00:00:00\",\"2021-01-27T00:00:00\",\"2021-01-28T00:00:00\",\"2021-01-29T00:00:00\",\"2021-02-01T00:00:00\",\"2021-02-02T00:00:00\",\"2021-02-03T00:00:00\",\"2021-02-04T00:00:00\",\"2021-02-05T00:00:00\",\"2021-02-08T00:00:00\",\"2021-02-09T00:00:00\",\"2021-02-10T00:00:00\",\"2021-02-11T00:00:00\",\"2021-02-12T00:00:00\",\"2021-02-16T00:00:00\",\"2021-02-17T00:00:00\",\"2021-02-18T00:00:00\",\"2021-02-19T00:00:00\",\"2021-02-22T00:00:00\",\"2021-02-23T00:00:00\",\"2021-02-24T00:00:00\",\"2021-02-25T00:00:00\",\"2021-02-26T00:00:00\",\"2021-03-01T00:00:00\",\"2021-03-02T00:00:00\",\"2021-03-03T00:00:00\",\"2021-03-04T00:00:00\",\"2021-03-05T00:00:00\",\"2021-03-08T00:00:00\",\"2021-03-09T00:00:00\",\"2021-03-10T00:00:00\",\"2021-03-11T00:00:00\",\"2021-03-12T00:00:00\",\"2021-03-15T00:00:00\",\"2021-03-16T00:00:00\",\"2021-03-17T00:00:00\",\"2021-03-18T00:00:00\",\"2021-03-19T00:00:00\",\"2021-03-22T00:00:00\",\"2021-03-23T00:00:00\",\"2021-03-24T00:00:00\",\"2021-03-25T00:00:00\",\"2021-03-26T00:00:00\",\"2021-03-29T00:00:00\",\"2021-03-30T00:00:00\",\"2021-03-31T00:00:00\",\"2021-04-01T00:00:00\",\"2021-04-05T00:00:00\",\"2021-04-06T00:00:00\",\"2021-04-07T00:00:00\",\"2021-04-08T00:00:00\",\"2021-04-09T00:00:00\",\"2021-04-12T00:00:00\",\"2021-04-13T00:00:00\",\"2021-04-14T00:00:00\",\"2021-04-15T00:00:00\",\"2021-04-16T00:00:00\",\"2021-04-19T00:00:00\",\"2021-04-20T00:00:00\",\"2021-04-21T00:00:00\",\"2021-04-22T00:00:00\",\"2021-04-23T00:00:00\",\"2021-04-26T00:00:00\",\"2021-04-27T00:00:00\",\"2021-04-28T00:00:00\",\"2021-04-29T00:00:00\",\"2021-04-30T00:00:00\",\"2021-05-03T00:00:00\",\"2021-05-04T00:00:00\",\"2021-05-05T00:00:00\",\"2021-05-06T00:00:00\",\"2021-05-07T00:00:00\",\"2021-05-10T00:00:00\",\"2021-05-11T00:00:00\",\"2021-05-12T00:00:00\",\"2021-05-13T00:00:00\",\"2021-05-14T00:00:00\",\"2021-05-17T00:00:00\",\"2021-05-18T00:00:00\",\"2021-05-19T00:00:00\",\"2021-05-20T00:00:00\",\"2021-05-21T00:00:00\",\"2021-05-24T00:00:00\",\"2021-05-25T00:00:00\",\"2021-05-26T00:00:00\",\"2021-05-27T00:00:00\",\"2021-05-28T00:00:00\",\"2021-06-01T00:00:00\",\"2021-06-02T00:00:00\",\"2021-06-03T00:00:00\",\"2021-06-04T00:00:00\",\"2021-06-07T00:00:00\",\"2021-06-08T00:00:00\",\"2021-06-09T00:00:00\",\"2021-06-10T00:00:00\",\"2021-06-11T00:00:00\",\"2021-06-14T00:00:00\"],\"y\":[1.5926669836044312,1.5886670351028442,1.4639999866485596,1.2799999713897705,1.0740000009536743,1.053333044052124,1.1640000343322754,1.159999966621399,1.136667013168335,1.2093329429626465,1.3226670026779175,1.3259999752044678,1.3760000467300415,1.4606670141220093,1.3533329963684082,1.3480000495910645,1.399999976158142,1.4193329811096191,1.3966670036315918,1.3700000047683716,1.3813329935073853,1.3566670417785645,1.329332947731018,1.3946670293807983,1.463333010673523,1.4173330068588257,1.363332986831665,1.305999994277954,1.3066669702529907,1.2686669826507568,1.1933330297470093,1.1733330488204956,1.2213330268859863,1.2519999742507935,1.2766669988632202,1.2513329982757568,1.25266695022583,1.273332953453064,1.3420000076293945,1.2799999713897705,1.3266669511795044,1.3166669607162476,1.3133330345153809,1.324666976928711,1.2986669540405273,1.363332986831665,1.4040000438690186,1.4033329486846924,1.369333028793335,1.3933329582214355,1.380666971206665,1.3446669578552246,1.3813329935073853,1.4079999923706055,1.4653329849243164,1.3960000276565552,1.348667025566101,1.4040000438690186,1.3846670389175415,1.324666976928711,1.3040000200271606,1.340000033378601,1.3686670064926147,1.4266669750213623,1.4653329849243164,1.3606669902801514,1.3733329772949219,1.3993330001831055,1.4079999923706055,1.3639999628067017,1.3619999885559082,1.3619999885559082,1.3493330478668213,1.3493330478668213,1.369333028793335,1.3833329677581787,1.369333028793335,1.348667025566101,1.3366669416427612,1.3766670227050781,1.3833329677581787,1.3813329935073853,1.3899999856948853,1.4240000247955322,1.399999976158142,1.4126670360565186,1.4559999704360962,1.4273329973220825,1.4166669845581055,1.4513330459594727,1.659999966621399,1.6293330192565918,1.6653330326080322,1.6419999599456787,1.957332968711853,1.869333028793335,1.9893330335617065,2.053333044052124,1.9780000448226929,1.965999960899353,1.9926669597625732,2.065999984741211,2.2266669273376465,2.3046669960021973,2.3646669387817383,2.3546669483184814,2.2886669635772705,2.355333089828491,2.2899999618530273,2.1566669940948486,2.0993330478668213,2.02066707611084,2.1040000915527344,2.1579999923706055,2.136667013168335,2.101332902908325,2.0366671085357666,1.9019999504089355,1.9733330011367798,2.053999900817871,2.0906670093536377,2.113332986831665,2.1506669521331787,2.175333023071289,2.00600004196167,1.7033330202102661,1.7606669664382935,1.848667025566101,1.7666670083999634,1.775333046913147,1.7746670246124268,1.777999997138977,1.7886669635772705,1.858667016029358,1.8826669454574585,1.8966670036315918,1.797333002090454,1.797333002090454,1.7480000257492065,1.7166670560836792,1.7093329429626465,1.6019999980926514,1.5080000162124634,1.5360000133514404,1.6326669454574585,1.6453330516815186,1.649999976158142,1.6613329648971558,1.6006669998168945,1.6066670417785645,1.593999981880188,1.5959999561309814,1.5753329992294312,1.5640000104904175,1.5379999876022339,1.6326669454574585,1.547333002090454,1.5479999780654907,1.5499999523162842,1.5386669635772705,1.5226670503616333,1.6486669778823853,1.5733330249786377,1.5453330278396606,1.4579999446868896,1.4553329944610596,1.5019999742507935,1.5740000009536743,1.5926669836044312,1.5959999561309814,1.6013330221176147,1.6239999532699585,1.6633330583572388,1.6626670360565186,1.6440000534057617,1.6480000019073486,1.6006669998168945,1.6046669483184814,1.5499999523162842,1.5299999713897705,1.5213329792022705,1.5206669569015503,1.5306669473648071,1.5153330564498901,1.4793330430984497,1.480666995048523,1.4886670112609863,1.5166670083999634,1.5499999523162842,1.5946669578552246,1.5806670188903809,1.850000023841858,1.7773330211639404,1.722000002861023,1.7799999713897705,1.7660000324249268,1.815999984741211,1.7660000324249268,1.6846669912338257,1.6433329582214355,1.6619999408721924,1.6759999990463257,1.7053329944610596,1.668666958808899,1.6773329973220825,1.7166670560836792,1.7826670408248901,1.7593330144882202,1.7953330278396606,1.8053330183029175,1.843999981880188,1.840000033378601,1.8300000429153442,1.7913329601287842,1.7793329954147339,1.762666940689087,1.8079999685287476,1.8606669902801514,1.8886669874191284,1.8046669960021973,1.8446669578552246,1.8366669416427612,1.773332953453064,1.730666995048523,1.7566670179367065,1.8799999952316284,1.8646670579910278,1.7879999876022339,1.7813329696655273,1.9320000410079956,1.9653329849243164,1.9700000286102295,2.0093328952789307,1.901332974433899,1.9173330068588257,2.0086669921875,1.9133330583572388,1.891332983970642,1.8079999685287476,1.841333031654358,1.8573329448699951,1.8953330516815186,1.9066669940948486,1.8213330507278442,1.7666670083999634,1.7666670083999634,1.7339999675750732,1.835332989692688,1.8140000104904175,1.8473329544067383,1.8380000591278076,1.8306670188903809,1.8739999532699585,1.8860000371932983,1.9420000314712524,1.9346669912338257,1.942667007446289,1.9306670427322388,1.9819999933242798,1.920667052268982,1.8899999856948853,1.878000020980835,1.9093329906463623,1.8406670093536377,1.8386670351028442,1.8153330087661743,1.8593330383300781,1.9126670360565186,1.9133330583572388,1.952666997909546,1.8993330001831055,1.8666670322418213,1.8426669836044312,1.878000020980835,1.878000020980835,1.9179999828338623,1.8226670026779175,1.8133330345153809,1.649999976158142,1.6160000562667847,1.5759999752044678,1.670667052268982,1.5880000591278076,1.6866669654846191,1.753999948501587,1.7486670017242432,1.7400000095367432,1.722000002861023,1.6173330545425415,1.4866670370101929,1.463333010673523,1.5306669473648071,1.591333031654358,1.5406670570373535,1.5820000171661377,1.647333025932312,1.6419999599456787,1.6493330001831055,1.600000023841858,1.5379999876022339,1.5293329954147339,1.5893330574035645,1.5740000009536743,1.5313329696655273,1.525333046913147,1.6053329706192017,1.6226669549942017,1.6546670198440552,1.7200000286102295,1.718000054359436,1.7339999675750732,1.7233330011367798,1.7086670398712158,1.7586669921875,1.7013330459594727,1.746000051498413,1.6393330097198486,1.6080000400543213,1.6260000467300415,1.5820000171661377,1.5773329734802246,1.6913330554962158,1.797333002090454,1.7993329763412476,1.858667016029358,1.8406670093536377,1.8533329963684082,1.8626669645309448,1.8700000047683716,1.8279999494552612,1.8893330097198486,1.8380000591278076,1.8226670026779175,1.8686670064926147,1.9033329486846924,1.8833329677581787,1.8653329610824585,1.9173330068588257,1.9913330078125,1.9579999446868896,1.925333023071289,1.9140000343322754,2.1640000343322754,2.1540000438690186,2.0846669673919678,2.122667074203491,2.058666944503784,2.0886669158935547,2.2426669597625732,2.2146670818328857,2.26200008392334,2.3293330669403076,2.245332956314087,2.173332929611206,2.117332935333252,2.138000011444092,2.0966670513153076,2.1106669902801514,2.1706669330596924,2.1166670322418213,2.1826670169830322,2.173332929611206,2.2200000286102295,2.2946670055389404,2.324666976928711,2.2793331146240234,2.059333086013794,2.069333076477051,2.0273330211639404,1.963333010673523,1.9019999504089355,1.9079999923706055,1.8666670322418213,1.850000023841858,1.8600000143051147,1.8380000591278076,1.8513330221176147,1.8600000143051147,1.9046670198440552,1.9006669521331787,1.9153330326080322,1.9040000438690186,1.871999979019165,1.8473329544067383,1.8079999685287476,1.7940000295639038,1.8166669607162476,1.841333031654358,1.8819999694824219,1.8833329677581787,1.519333004951477,1.773332953453064,1.7873330116271973,1.784000039100647,1.773332953453064,1.7846670150756836,1.8279999494552612,1.8646670579910278,1.929332971572876,1.9553329944610596,1.9713330268859863,1.937999963760376,1.972000002861023,2.016666889190674,2.076667070388794,2.119999885559082,2.1066670417785645,2.128667116165161,2.171999931335449,2.0733330249786377,2.0993330478668213,2.2113330364227295,2.240000009536743,2.2786669731140137,2.3313329219818115,2.299999952316284,2.2813329696655273,2.302000045776367,2.25,2.2413330078125,2.253999948501587,2.2273330688476562,2.2939999103546143,2.2693328857421875,2.251332998275757,2.2073330879211426,2.2079999446868896,2.204667091369629,2.315999984741211,2.4006669521331787,2.4059998989105225,2.3526670932769775,2.3333330154418945,2.3546669483184814,2.3320000171661377,2.330667018890381,2.3433330059051514,2.293333053588867,2.2720000743865967,2.493333101272583,2.5293331146240234,2.5233330726623535,2.4886670112609863,2.4826669692993164,2.438667058944702,2.5339999198913574,2.3333330154418945,2.2986669540405273,2.2100000381469727,2.1640000343322754,2.2060000896453857,2.22933292388916,2.239332914352417,2.1500000953674316,2.1493330001831055,2.177333116531372,2.2106668949127197,2.2106668949127197,2.129333019256592,2.121332883834839,2.194000005722046,2.2326669692993164,2.2226669788360596,2.208667039871216,2.252000093460083,2.262666940689087,2.1640000343322754,2.121999979019165,2.1646668910980225,2.012666940689087,2.003999948501587,2.1973330974578857,2.1500000953674316,2.003999948501587,1.9620000123977661,1.9453330039978027,1.9046670198440552,1.8373329639434814,1.9179999828338623,2.053333044052124,2.068000078201294,2.018666982650757,1.987333059310913,2.1126670837402344,2.0273330211639404,1.9666670560836792,1.8766670227050781,1.858667016029358,1.8606669902801514,1.9479999542236328,1.9286669492721558,2.0053329467773438,1.9413330554962158,1.9773329496383667,1.9846669435501099,1.9593329429626465,1.99399995803833,2.122667074203491,2.1393330097198486,2.252000093460083,2.1459999084472656,2.25266695022583,2.2073330879211426,2.107332944869995,2.130666971206665,2.0940001010894775,2.0859999656677246,2.0266671180725098,2.0439999103546143,2.0820000171661377,2.065999984741211,2.0993330478668213,2.0846669673919678,2.1006669998168945,2.180000066757202,2.2833330631256104,2.3973329067230225,2.2233328819274902,2.1433329582214355,2.1513330936431885,2.119333028793335,2.0439999103546143,1.9893330335617065,1.9299999475479126,1.8753329515457153,1.9673329591751099,1.8233330249786377,1.8279999494552612,1.75,1.7400000095367432,1.8179999589920044,1.8846670389175415,2.016666889190674,1.9393329620361328,1.9606670141220093,1.996000051498413,2.078000068664551,1.9613330364227295,1.9600000381469727,2.0199999809265137,2.000667095184326,1.9673329591751099,1.9406670331954956,1.9966670274734497,2.0486669540405273,1.9666670560836792,1.8880000114440918,1.9126670360565186,1.8940000534057617,1.8940000534057617,1.901332974433899,1.8760000467300415,1.8626669645309448,1.9033329486846924,1.9566669464111328,1.824666976928711,1.8533329963684082,1.8853329420089722,1.9653329849243164,2.0260000228881836,2.169332981109619,2.0893330574035645,2.069999933242798,2.059999942779541,2.001332998275757,2.0439999103546143,1.843999981880188,1.8359999656677246,1.8993330001831055,1.9520000219345093,1.944000005722046,1.9866670370101929,1.9533330202102661,1.9600000381469727,1.9259999990463257,1.9500000476837158,1.891332983970642,1.8933329582214355,1.8880000114440918,1.8426669836044312,1.8220000267028809,1.8706669807434082,1.9213329553604126,1.869333028793335,1.8493330478668213,1.8566670417785645,1.8926670551300049,1.8279999494552612,1.8346669673919678,1.8253329992294312,1.8753329515457153,1.9500000476837158,1.9279999732971191,2.0999999046325684,2.076667070388794,2.1026670932769775,2.0873329639434814,2.0213329792022705,2.0713329315185547,2.107332944869995,2.0920000076293945,2.0546669960021973,2.122667074203491,2.194667100906372,2.200000047683716,2.1646668910980225,2.1419999599456787,2.1513330936431885,2.1433329582214355,2.2153329849243164,2.246000051498413,2.254667043685913,2.308000087738037,2.259999990463257,2.24733304977417,2.259999990463257,2.2780001163482666,2.3046669960021973,2.3519999980926514,2.3506669998168945,2.2406671047210693,2.253999948501587,2.293333053588867,2.305999994277954,2.307332992553711,2.295332908630371,2.266666889190674,2.2853329181671143,2.239332914352417,2.246000051498413,2.2146670818328857,2.257999897003174,2.357332944869995,2.318000078201294,2.293333053588867,2.2893331050872803,2.245332956314087,2.2426669597625732,2.23533296585083,2.194000005722046,2.2173330783843994,2.259999990463257,2.2733330726623535,2.2920000553131104,2.301332950592041,2.3459999561309814,2.4000000953674316,2.4660000801086426,2.4653329849243164,2.5353329181671143,2.5299999713897705,2.501332998275757,2.500667095184326,2.553333044052124,2.5160000324249268,2.5420000553131104,2.611332893371582,2.631999969482422,2.615999937057495,2.561332941055298,2.5260000228881836,2.563333034515381,2.551332950592041,2.4693329334259033,2.618666887283325,2.569333076477051,2.3440001010894775,2.4073328971862793,2.2920000553131104,2.295332908630371,2.3399999141693115,2.322000026702881,2.309999942779541,2.371999979019165,2.4433329105377197,2.512666940689087,2.5486669540405273,2.564666986465454,2.6066670417785645,2.6080000400543213,2.5986669063568115,2.456666946411133,2.3526670932769775,2.3433330059051514,2.3386669158935547,2.396667003631592,2.4006669521331787,2.441333055496216,2.502000093460083,2.5239999294281006,2.5439999103546143,2.5260000228881836,2.9286670684814453,2.9560000896453857,2.740000009536743,2.8006670475006104,2.757999897003174,2.7886669635772705,2.700000047683716,2.7906670570373535,2.9059998989105225,2.9166669845581055,2.886667013168335,3.0393331050872803,3.0299999713897705,3.131333112716675,3.188667058944702,3.3459999561309814,3.4006669521331787,3.361999988555908,3.4666669368743896,3.413332939147949,3.6626670360565186,3.5993330478668213,3.552000045776367,3.607332944869995,3.636667013168335,3.9666669368743896,3.700666904449463,3.7193329334259033,4.626667022705078,5.117332935333252,5.853332996368408,5.549333095550537,5.656000137329102,6.150000095367432,6.099999904632568,5.995999813079834,5.8393330574035645,5.815999984741211,6.182000160217285,6.4720001220703125,7.355332851409912,6.975333213806152,6.99666690826416,6.517333030700684,6.172667026519775,6.322667121887207,6.357999801635742,6.489999771118164,6.802667140960693,6.670000076293945,6.297999858856201,6.51533317565918,6.545332908630371,6.686666965484619,6.813333034515381,6.892666816711426,6.97866678237915,6.710000038146973,6.636666774749756,6.765999794006348,6.826666831970215,7.047999858856201,7.283332824707031,7.157332897186279,7.811999797821045,7.8546671867370605,7.682666778564453,8.005999565124512,8.107333183288574,8.229999542236328,8.15133285522461,8.37399959564209,8.65999984741211,8.484000205993652,7.269999980926514,8.016667366027832,7.935332775115967,7.97866678237915,8.161999702453613,8.182666778564453,8.113332748413086,8.271332740783691,8.62600040435791,8.974666595458984,8.78266716003418,8.95199966430664,9.036666870117188,9.199999809265137,9.645333290100098,9.476667404174805,8.9486665725708,10.232000350952148,10.199999809265137,9.825332641601562,9.695332527160645,9.290666580200195,9.311332702636719,9.466667175292969,9.65999984741211,9.972000122070312,9.857333183288574,10.473333358764648,10.78933334350586,10.947999954223633,11.133999824523926,11.096667289733887,11.070667266845703,11.266667366027832,11.262666702270508,11.374667167663574,11.328666687011719,11.131333351135254,10.713333129882812,11.091333389282227,10.90133285522461,10.995332717895508,11.03600025177002,11.10533332824707,11.081999778747559,11.08133316040039,11.861332893371582,12.22599983215332,12.074000358581543,12.155332565307617,12.349332809448242,12.576000213623047,12.726667404174805,12.891332626342773,12.866666793823242,12.063332557678223,11.553999900817871,12.065333366394043,12.204667091369629,11.648667335510254,11.251999855041504,11.528667449951172,11.91333293914795,11.981332778930664,12.262666702270508,12.237333297729492,12.186667442321777,12.226667404174805,11.506667137145996,11.435999870300293,10.966667175292969,11.543333053588867,11.310667037963867,10.857333183288574,10.964667320251465,10.614666938781738,10.662667274475098,10.811332702636719,11.680000305175781,11.787332534790039,10.077333450317383,9.317999839782715,9.196666717529297,9.646666526794434,9.186667442321777,9.24666690826416,9.173333168029785,9.029999732971191,8.10533332824707,8.406000137329102,8.074000358581543,8.140000343322754,8.092000007629395,8.055999755859375,8.033332824707031,8.462667465209961,8.485333442687988,8.277999877929688,9.646666526794434,9.263333320617676,9.36533260345459,9.157333374023438,9.4399995803833,9.47933292388916,9.3100004196167,9.83133316040039,9.84333324432373,9.862667083740234,10.163999557495117,9.86533260345459,9.381333351135254,9.549332618713379,9.569999694824219,10.093999862670898,10.366666793823242,10.074666976928711,10.162667274475098,10.028667449951172,10.006667137145996,9.970666885375977,9.800000190734863,9.957332611083984,10.085332870483398,9.835332870483398,9.714667320251465,9.28933334350586,10.751333236694336,10.942000389099121,11.39799976348877,11.333999633789062,11.778667449951172,11.904000282287598,12.100000381469727,11.640000343322754,11.307999610900879,11.892000198364258,11.682000160217285,12.189332962036133,12.093999862670898,11.807332992553711,11.915332794189453,11.628000259399414,11.892000198364258,12.435333251953125,13.104000091552734,13.107999801635742,13.021332740783691,13.308667182922363,13.215332984924316,13.579999923706055,12.909333229064941,13.998000144958496,13.973333358764648,14.510000228881836,16.53333282470703,16.866666793823242,16.836000442504883,16.320667266845703,16.70400047302246,16.98933219909668,16.8439998626709,16.862667083740234,16.413999557495117,15.922666549682617,15.62733268737793,16.099332809448242,15.852666854858398,15.39799976348877,15.59866714477539,16.002666473388672,15.72266674041748,15.660667419433594,15.259332656860352,14.678000450134277,14.696000099182129,14.197333335876465,13.821332931518555,14.157999992370605,13.896666526794434,14.464667320251465,15.352666854858398,15.026666641235352,14.148667335510254,13.834667205810547,14.36400032043457,14.461999893188477,13.612667083740234,13.585332870483398,13.206000328063965,12.927332878112793,13.27400016784668,13.208000183105469,13.625332832336426,14.576000213623047,13.866000175476074,13.857333183288574,13.323332786560059,13.234000205993652,13.79466724395752,13.859333038330078,13.84866714477539,14.060667037963867,14.440667152404785,13.8186674118042,13.423333168029785,11.906000137329102,12.150667190551758,12.311332702636719,12.677332878112793,12.708000183105469,12.572667121887207,12.77066707611084,13.072667121887207,13.020000457763672,13.296667098999023,13.658666610717773,13.819999694824219,14.104000091552734,14.015999794006348,14.015999794006348,13.851332664489746,13.646666526794434,13.662667274475098,13.599332809448242,13.793333053588867,13.878000259399414,13.687333106994629,13.486666679382324,13.631333351135254,13.567999839782715,13.761333465576172,14.973999977111816,15.444666862487793,15.141332626342773,15.185999870300293,15.305999755859375,15.814666748046875,15.5,15.792667388916016,15.706666946411133,15.937333106994629,16.003999710083008,15.981332778930664,15.295332908630371,15.283332824707031,14.843999862670898,14.604666709899902,14.870667457580566,14.630666732788086,14.541999816894531,15.113332748413086,14.638667106628418,14.477333068847656,14.359999656677246,14.668000221252441,14.702667236328125,14.638667106628418,14.832667350769043,14.902667045593262,14.904666900634766,14.98799991607666,15.000666618347168,15.261333465576172,14.886667251586914,15.5513334274292,15.90133285522461,15.899333000183105,16.595333099365234,16.826000213623047,16.54199981689453,17.288000106811523,17.33066749572754,17.354000091552734,17.42533302307129,17.46733283996582,17.32933235168457,17.117332458496094,17.047332763671875,16.95599937438965,17.118667602539062,17.503332138061523,17.44933319091797,17.549999237060547,17.590667724609375,17.979999542236328,18.941333770751953,18.746000289916992,19.069332122802734,18.492666244506836,18.80733299255371,18.565332412719727,18.739999771118164,18.687332153320312,18.613332748413086,16.923999786376953,17.382667541503906,17.42533302307129,17.58799934387207,17.288000106811523,16.66866683959961,16.694000244140625,16.80933380126953,16.463333129882812,16.440000534057617,16.35066795349121,16.178667068481445,16.016000747680664,16.761333465576172,17.013999938964844,17.374666213989258,17.30466651916504,17.28533363342285,17.134000778198242,15.793999671936035,14.97266674041748,15.137332916259766,15.313332557678223,15.09000015258789,15.165332794189453,15.364666938781738,15.689332962036133,15.40666675567627,15.685999870300293,15.682666778564453,14.777999877929688,16.184667587280273,15.873332977294922,15.910667419433594,16.113332748413086,16.172666549682617,15.928667068481445,15.39799976348877,16.08133316040039,16.01333236694336,16.1286678314209,16.738666534423828,16.606666564941406,16.780000686645508,17.245332717895508,16.93199920654297,17.18000030517578,16.516000747680664,16.58066749572754,16.185333251953125,16.447999954223633,16.53933334350586,16.562667846679688,16.301332473754883,15.442667007446289,15.428667068481445,15.286666870117188,15.218667030334473,14.913999557495117,14.290666580200195,14.459333419799805,13.989333152770996,13.925333023071289,13.800000190734863,13.602666854858398,13.187333106994629,13.721332550048828,14.550666809082031,14.619333267211914,14.84000015258789,14.731332778930664,14.817333221435547,15.187999725341797,15.047332763671875,14.815333366394043,14.827333450317383,14.620667457580566,14.005999565124512,14.085332870483398,14.063332557678223,14.041333198547363,13.77733325958252,13.480667114257812,13.616666793823242,12.845999717712402,12.791333198547363,12.871333122253418,12.795332908630371,13.104666709899902,13.441332817077637,13.419333457946777,13.770000457763672,13.732000350952148,13.291333198547363,13.680000305175781,13.573332786560059,14.062666893005371,14.557332992553711,14.569999694824219,14.732666969299316,14.490667343139648,14.498666763305664,14.419333457946777,14.186667442321777,13.525333404541016,13.584667205810547,13.623332977294922,13.630666732788086,14.11400032043457,14.473999977111816,13.822667121887207,13.607333183288574,13.583999633789062,13.812666893005371,13.555999755859375,13.155332565307617,13.303999900817871,13.496000289916992,13.375332832336426,12.925333023071289,12.725333213806152,12.687999725341797,12.916000366210938,12.73799991607666,12.578666687011719,13.046667098999023,12.982000350952148,13.380666732788086,13.043333053588867,13.20533275604248,13.308667182922363,13.447999954223633,12.953332901000977,12.694000244140625,12.333333015441895,12.704667091369629,12.584667205810547,12.505999565124512,12.733332633972168,13.539999961853027,13.550000190734863,13.844667434692383,14.005999565124512,14.0600004196167,13.985333442687988,13.830666542053223,13.85533332824707,13.779999732971191,13.78600025177002,13.684666633605957,13.96066665649414,14.629332542419434,14.573332786560059,14.562000274658203,15.436667442321777,15.36533260345459,15.49666690826416,15.069999694824219,15.0686674118042,15.36733341217041,15.529999732971191,15.362000465393066,15.786666870117188,15.77400016784668,15.965999603271484,16.31599998474121,16.211999893188477,16.273332595825195,16.589332580566406,16.583332061767578,16.47599983215332,16.290000915527344,16.374666213989258,16.51533317565918,16.497333526611328,16.495332717895508,16.76333236694336,16.719999313354492,16.6299991607666,16.55666732788086,16.599332809448242,16.39466667175293,16.609333038330078,17.086000442504883,17.066667556762695,16.713333129882812,16.76066780090332,16.71266746520996,16.691999435424805,16.874666213989258,17.360666275024414,17.459333419799805,17.500667572021484,17.319332122802734,17.844667434692383,17.67799949645996,17.91933250427246,17.805999755859375,17.468000411987305,17.884000778198242,17.94333267211914,18.667999267578125,18.648000717163086,17.858667373657227,16.997333526611328,17.19466781616211,17.27666664123535,17.477333068847656,17.709999084472656,17.542667388916016,17.778667449951172,18.310667037963867,18.817333221435547,17.784666061401367,17.857999801635742,17.81333351135254,17.694000244140625,16.867332458496094,17.654666900634766,17.58799934387207,17.785999298095703,17.74333381652832,17.332666397094727,17.75200080871582,18.0086669921875,16.408666610717773,16.167333602905273,16.076000213623047,15.824666976928711,15.878000259399414,16.167333602905273,16.209999084472656,16.999332427978516,17.381332397460938,17.016666412353516,16.14533233642578,15.38466739654541,14.591333389282227,14.66866683959961,14.989333152770996,16.19933319091797,16.565332412719727,16.604000091552734,15.908666610717773,16.512666702270508,16.3713321685791,16.1286678314209,16.544666290283203,16.5939998626709,16.565332412719727,16.682666778564453,16.87933349609375,16.904666900634766,17.483333587646484,17.471332550048828,17.374666213989258,17.613332748413086,17.395999908447266,17.40399932861328,17.541332244873047,17.12733268737793,16.562000274658203,16.44333267211914,16.559999465942383,15.991999626159668,16.504667282104492,16.40999984741211,16.097333908081055,15.46399974822998,15.114666938781738,14.712667465209961,14.371999740600586,14.616666793823242,14.458666801452637,14.753999710083008,15.133999824523926,15.206666946411133,14.20199966430664,14.005999565124512,14.114666938781738,13.939332962036133,14.350666999816895,14.023332595825195,14.197333335876465,14.108667373657227,13.795332908630371,14.252667427062988,13.890000343322754,15.442000389099121,15.451333045959473,15.490667343139648,15.022000312805176,14.433333396911621,14.60533332824707,14.196000099182129,13.812666893005371,14.287332534790039,14.266667366027832,14.73799991607666,14.786666870117188,14.667332649230957,14.516667366027832,14.550000190734863,15.309332847595215,15.440667152404785,15.350666999816895,15.812666893005371,15.465999603271484,15.513999938964844,15.358667373657227,15.408666610717773,15.114666938781738,14.968000411987305,15.137999534606934,14.468000411987305,14.571999549865723,14.739333152770996,15.633999824523926,15.559332847595215,15.36400032043457,15.503999710083008,15.329999923706055,15.313332557678223,15.371333122253418,15.263333320617676,15.812666893005371,15.87266731262207,16.000667572021484,14.894000053405762,14.895333290100098,14.602666854858398,14.376667022705078,14.066666603088379,13.856666564941406,13.998000144958496,13.354000091552734,13.745332717895508,13.666000366210938,13.64799976348877,13.24666690826416,13.33133316040039,13.50333309173584,13.092000007629395,12.904000282287598,12.538000106811523,12.646666526794434,12.74666690826416,13.129332542419434,12.185333251953125,11.565333366394043,11.688667297363281,10.84000015258789,9.866000175476074,9.883333206176758,9.57800006866455,10.031332969665527,10.06933307647705,10.344667434692383,11.245332717895508,11.118000030517578,11.10533332824707,11.849332809448242,11.814000129699707,11.933333396911621,12.495332717895508,12.689332962036133,12.795332908630371,12.423333168029785,12.555999755859375,13.049332618713379,13.402667045593262,13.685999870300293,13.506667137145996,13.914667129516602,13.678667068481445,13.833333015441895,14.34333324432373,14.555999755859375,14.795332908630371,15.092000007629395,15.515999794006348,15.887999534606934,15.616000175476074,14.838666915893555,15.183333396911621,15.350666999816895,15.342000007629395,15.12600040435791,15.317999839782715,15.839332580566406,16.465999603271484,17.031333923339844,17.69466781616211,17.14666748046875,16.67133331298828,16.661333084106445,16.521333694458008,16.968666076660156,16.790666580200195,16.96733283996582,16.92533302307129,16.4913330078125,16.6646671295166,16.55266761779785,16.916667938232422,16.788000106811523,16.916000366210938,16.764667510986328,16.513999938964844,16.05066680908203,16.1200008392334,15.48799991607666,14.837332725524902,14.10200023651123,14.328666687011719,13.928000450134277,13.912667274475098,13.93066692352295,13.8186674118042,13.840666770935059,13.88599967956543,13.644000053405762,14.07800006866455,14.347332954406738,14.685333251953125,14.414667129516602,14.52733325958252,14.638667106628418,15.008000373840332,14.869333267211914,14.881999969482422,14.637332916259766,14.597332954406738,14.599332809448242,14.711999893188477,15.489333152770996,15.701333045959473,15.290666580200195,14.586000442504883,14.524666786193848,14.330666542053223,14.513333320617676,14.528667449951172,14.364666938781738,14.646666526794434,14.640666961669922,13.11066722869873,13.09333324432373,12.876667022705078,13.236666679382324,13.452667236328125,14.012666702270508,14.152000427246094,14.433333396911621,14.26533317565918,14.295999526977539,14.395999908447266,14.45199966430664,14.985333442687988,14.976667404174805,14.835332870483398,14.768667221069336,14.69333267211914,15.083333015441895,15.017333030700684,15.223999977111816,14.699999809265137,14.817999839782715,15.333999633789062,15.300666809082031,15.232666969299316,15.37399959564209,15.652667045593262,15.333999633789062,15.146666526794434,15.052666664123535,15.37399959564209,15.335332870483398,15.077333450317383,15.272000312805176,15.043333053588867,14.994000434875488,15.040666580200195,15.03933334350586,14.907333374023438,14.88266658782959,14.900667190551758,15.0,14.862000465393066,14.989333152770996,14.841333389282227,14.730667114257812,14.666000366210938,14.346667289733887,14.089332580566406,14.133999824523926,13.38466739654541,13.185333251953125,13.522000312805176,13.447333335876465,13.157333374023438,12.964667320251465,13.220000267028809,13.069999694824219,13.093999862670898,13.361332893371582,13.69333267211914,13.755999565124512,13.642666816711426,13.6813325881958,13.76200008392334,13.829999923706055,13.932666778564453,13.720666885375977,13.751333236694336,13.380000114440918,13.60200023651123,14.24666690826416,14.093999862670898,13.897333145141602,13.399999618530273,13.107333183288574,13.396666526794434,13.34000015258789,13.434000015258789,13.349332809448242,13.100666999816895,12.93066692352295,13.273332595825195,13.570667266845703,13.273332595825195,13.339332580566406,13.517333030700684,13.489333152770996,13.482666969299316,13.600666999816895,13.33133316040039,13.182000160217285,12.719332695007324,12.534667015075684,12.494667053222656,12.704000473022461,12.880666732788086,12.996000289916992,12.670666694641113,12.356666564941406,12.570667266845703,12.096667289733887,12.251333236694336,12.26200008392334,12.577333450317383,12.334667205810547,12.3013334274292,12.744667053222656,12.87600040435791,13.109999656677246,13.074666976928711,12.637999534606934,12.626667022705078,12.125332832336426,12.097999572753906,12.453332901000977,12.390000343322754,12.876667022705078,12.81933307647705,12.812000274658203,12.828666687011719,13.210000038146973,13.246000289916992,13.17199993133545,13.499333381652832,13.51533317565918,13.919333457946777,13.846667289733887,13.896666526794434,14.22266674041748,14.635333061218262,14.649333000183105,14.312000274658203,14.246000289916992,14.465999603271484,15.13266658782959,15.116666793823242,15.267333030700684,15.41866683959961,15.324666976928711,15.315333366394043,15.305999755859375,15.850000381469727,15.70533275604248,15.890666961669922,16.250667572021484,16.315332412719727,16.594667434692383,16.974000930786133,16.96466636657715,16.833999633789062,16.863332748413086,16.708667755126953,16.795333862304688,16.615999221801758,16.770000457763672,16.755332946777344,17.184667587280273,17.165332794189453,17.472000122070312,17.946666717529297,17.948667526245117,18.706666946411133,18.73200035095215,18.650667190551758,17.93000030517578,18.148666381835938,18.492666244506836,18.233999252319336,17.06599998474121,17.133333206176758,16.415332794189453,16.666000366210938,16.667999267578125,16.698667526245117,16.771333694458008,16.747333526611328,16.57266616821289,16.45800018310547,16.32666778564453,16.246000289916992,16.411333084106445,17.200000762939453,17.048667907714844,17.469999313354492,17.433332443237305,17.461332321166992,16.711999893188477,17.000667572021484,16.985332489013672,17.54400062561035,18.014667510986328,18.496667861938477,18.492000579833984,18.527999877929688,18.553333282470703,19.90133285522461,20.246667861938477,19.666667938232422,19.913333892822266,20.16933250427246,20.826000213623047,20.58066749572754,19.78933334350586,20.266666412353516,20.09600067138672,20.016666412353516,20.368000030517578,20.167333602905273,20.373332977294922,20.53533363342285,20.91933250427246,20.67799949645996,20.575332641601562,20.937999725341797,21.52199935913086,21.25933265686035,20.73466682434082,19.69733238220215,20.55666732788086,20.479333877563477,21.417333602905273,21.681333541870117,21.540000915527344,21.65399932861328,21.058666229248047,21.134000778198242,20.407333374023438,20.87066650390625,20.722000122070312,20.690000534057617,20.257333755493164,20.681333541870117,21.121999740600586,21.676000595092773,22.34000015258789,22.733999252319336,22.691333770751953,22.656667709350586,23.154666900634766,23.523332595825195,23.976667404174805,24.666667938232422,23.821332931518555,23.93400001525879,25.06333351135254,25.37733268737793,25.022666931152344,24.760000228881836,24.65333366394043,24.81599998474121,25.093332290649414,25.507333755493164,25.56333351135254,25.166000366210938,24.158000946044922,24.749332427978516,24.049999237060547,24.107332229614258,23.507999420166016,21.805999755859375,20.588666915893555,20.881332397460938,21.06999969482422,21.814666748046875,21.968000411987305,21.560667037963867,21.851999282836914,21.30466651916504,21.882667541503906,21.68400001525879,21.994667053222656,21.893333435058594,22.834667205810547,22.639999389648438,22.92333221435547,22.297332763671875,22.33799934387207,21.564666748046875,21.30466651916504,21.72599983215332,23.139333724975586,23.79400062561035,23.67799949645996,24.347999572753906,24.235332489013672,23.69333267211914,23.857999801635742,24.253332138061523,24.155332565307617,24.194000244140625,23.461332321166992,23.163999557495117,22.52400016784668,22.75666618347168,23.51799964904785,23.528667449951172,23.203332901000977,23.04400062561035,23.157333374023438,23.545333862304688,23.726667404174805,23.69333267211914,23.305999755859375,22.968666076660156,23.374000549316406,22.893333435058594,24.246000289916992,24.183332443237305,24.415332794189453,25.176000595092773,25.320667266845703,25.666667938232422,25.00666618347168,24.92733383178711,24.43199920654297,23.4060001373291,22.999332427978516,23.016666412353516,22.731332778930664,22.639999389648438,22.739999771118164,22.768667221069336,23.209333419799805,23.667333602905273,23.68866729736328,23.79199981689453,22.862667083740234,23.70599937438965,23.639999389648438,23.711999893188477,23.704666137695312,23.373332977294922,23.71666717529297,23.976667404174805,23.45400047302246,23.00666618347168,22.468000411987305,22.48933219909668,21.722667694091797,21.744667053222656,21.391332626342773,21.338666915893555,22.101999282836914,21.405332565307617,19.950666427612305,20.4060001373291,20.185333251953125,20.40333366394043,20.292667388916016,20.19933319091797,20.19933319091797,21.02666664123535,20.579999923706055,20.753332138061523,20.833332061767578,21.003332138061523,20.582666397094727,21.187332153320312,20.84000015258789,21.036666870117188,21.12066650390625,21.170000076293945,20.502666473388672,20.59000015258789,20.435333251953125,20.34666633605957,20.246667861938477,20.884000778198242,20.749332427978516,21.0086669921875,21.92733383178711,22.735332489013672,22.601999282836914,22.525999069213867,22.89666748046875,22.591333389282227,22.073333740234375,21.93199920654297,22.110666275024414,21.68000030517578,21.152666091918945,20.775999069213867,21.02400016784668,20.75666618347168,21.368667602539062,21.149999618530273,20.974666595458984,21.10533332824707,22.42733383178711,22.246000289916992,22.31999969482422,22.530000686645508,22.4146671295166,22.67066764831543,23.143999099731445,22.971332550048828,23.334667205810547,23.437332153320312,23.519332885742188,23.05933380126953,22.50933265686035,22.856666564941406,23.302000045776367,23.05466651916504,23.62066650390625,23.28333282470703,22.916667938232422,22.208667755126953,22.264667510986328,23.0,21.01533317565918,20.69466781616211,21.048667907714844,21.577333450317383,21.487333297729492,22.271333694458008,22.365999221801758,22.31800079345703,22.219999313354492,23.077999114990234,23.469999313354492,23.827999114990234,23.39933204650879,22.87066650390625,22.062000274658203,22.341333389282227,22.22333335876465,21.8799991607666,22.15333366394043,21.940000534057617,21.81133270263672,23.034000396728516,22.78933334350586,21.775333404541016,21.706666946411133,21.42333221435547,20.90399932861328,20.703332901000977,21.101999282836914,20.606666564941406,20.1026668548584,20.278667449951172,18.61199951171875,17.185333251953125,17.742000579833984,16.832000732421875,17.8353328704834,19.12933349609375,20.381332397460938,19.953332901000977,19.310667037963867,20.31333351135254,20.062000274658203,19.60533332824707,20.022666931152344,19.413999557495117,19.179332733154297,19.55666732788086,20.005332946777344,19.349332809448242,18.891332626342773,18.8973331451416,18.71266746520996,19.031999588012695,19.60533332824707,19.593332290649414,19.994667053222656,20.07666778564453,18.963333129882812,19.606000900268555,20.184667587280273,20.131332397460938,20.456666946411133,20.334667205810547,20.070667266845703,19.46466636657715,18.94533348083496,19.09866714477539,18.96933364868164,18.454666137695312,18.965999603271484,18.333999633789062,18.60466766357422,18.523332595825195,18.59000015258789,18.917333602905273,19.447999954223633,18.98200035095215,19.454666137695312,19.78266716003418,19.408666610717773,21.299999237060547,21.07266616821289,21.17733383178711,22.139999389648438,22.851333618164062,22.985332489013672,23.847999572753906,23.878000259399414,24.722000122070312,23.503332138061523,24.148000717163086,23.167333602905273,22.242000579833984,22.200666427612305,22.799999237060547,22.96666717529297,23.32866668701172,22.863332748413086,22.33799934387207,20.724000930786133,20.610666275024414,20.593332290649414,21.233999252319336,21.49799919128418,21.263999938964844,21.11400032043457,21.257999420166016,20.67333221435547,21.512666702270508,21.59000015258789,21.34866714477539,20.905332565307617,20.213333129882812,19.82866668701172,20.582666397094727,20.44333267211914,19.812000274658203,19.344667434692383,19.875999450683594,20.055999755859375,23.30266761779785,23.211332321166992,22.799333572387695,25.30466651916504,24.689332962036133,23.496667861938477,23.69933319091797,23.76066780090332,23.176000595092773,22.57933235168457,22.363332748413086,20.366666793823242,20.562667846679688,21.459999084472656,21.44266700744629,21.34000015258789,21.521333694458008,21.284666061401367,20.790666580200195,20.333999633789062,20.209999084472656,20.110666275024414,19.26333236694336,18.715999603271484,18.729999542236328,17.549333572387695,19.03333282470703,18.62933349609375,19.369333267211914,19.297332763671875,19.68000030517578,19.6560001373291,18.997333526611328,19.934667587280273,19.8886661529541,19.940000534057617,19.978666305541992,20.06599998474121,20.6386661529541,20.501333236694336,17.65133285522461,20.713333129882812,20.06800079345703,19.65333366394043,18.788667678833008,17.463333129882812,16.70400047302246,17.520000457763672,17.125333786010742,16.815332412719727,17.25200080871582,17.305999755859375,18.439332962036133,18.118667602539062,17.5939998626709,17.333332061767578,17.39666748046875,19.609333038330078,19.233333587646484,20.99066734313965,22.059999465942383,22.323333740234375,21.99333381652832,22.488000869750977,22.95199966430664,23.0939998626709,22.760000228881836,22.737333297729492,23.21066665649414,23.426666259765625,23.367332458496094,22.0853328704834,22.582000732421875,22.933332443237305,23.229333877563477,23.62066650390625,23.564666748046875,23.166000366210938,22.54599952697754,21.722000122070312,23.066667556762695,22.92799949645996,23.191333770751953,22.744667053222656,23.365333557128906,23.89933204650879,23.979999542236328,24.20400047302246,23.864667892456055,24.343332290649414,24.450666427612305,24.440000534057617,25.119333267211914,24.380666732788086,23.22800064086914,22.468666076660156,22.197999954223633,21.025333404541016,21.31800079345703,19.69266700744629,21.73933219909668,21.075332641601562,22.257999420166016,22.18666648864746,20.674667358398438,20.02400016784668,21.179332733154297,22.33066749572754,22.356666564941406,22.568666458129883,22.99799919128418,23.150667190551758,22.293333053588867,22.961999893188477,23.06999969482422,23.15399932861328,20.150667190551758,19.92799949645996,19.172666549682617,19.43400001525879,19.80266761779785,19.7586669921875,19.83066749572754,20.584667205810547,20.468000411987305,20.81399917602539,20.859333038330078,21.42333221435547,21.148000717163086,20.500667572021484,20.386667251586914,20.856000900268555,20.78733253479004,20.544666290283203,20.251333236694336,20.525333404541016,20.375999450683594,20.17066764831543,19.415332794189453,19.6473331451416,19.917999267578125,19.857332229614258,20.982667922973633,21.325332641601562,19.652666091918945,19.02400016784668,18.43600082397461,18.416000366210938,18.439332962036133,18.94266700744629,19.39466667175293,18.890666961669922,19.263999938964844,19.33066749572754,18.36199951171875,17.965999603271484,17.83133316040039,18.239999771118164,18.26799964904785,17.635332107543945,17.3613338470459,17.851333618164062,18.32200050354004,18.57466697692871,18.657333374023438,19.278667449951172,19.058666229248047,19.45400047302246,17.851999282836914,18.33066749572754,18.213333129882812,18.15399932861328,18.40399932861328,17.89466667175293,17.84666633605957,17.7586669921875,18.224000930786133,18.082000732421875,18.21733283996582,17.516666412353516,17.593332290649414,17.243999481201172,16.5086669921875,15.675999641418457,16.097999572753906,15.912667274475098,15.600666999816895,16.273332595825195,17.00200080871582,17.022666931152344,16.470666885375977,16.32266616821289,16.131999969482422,15.968000411987305,15.133999824523926,15.487333297729492,15.463333129882812,15.222000122070312,14.0686674118042,13.690667152404785,13.67199993133545,12.84866714477539,13.03266716003418,12.708666801452637,12.579999923706055,12.657333374023438,12.54800033569336,12.343999862670898,11.9313325881958,12.90666675567627,13.105999946594238,13.729999542236328,13.633333206176758,14.192000389099121,14.473333358764648,13.950667381286621,14.260666847229004,14.32800006866455,15.001999855041504,14.982666969299316,15.095333099365234,14.641332626342773,14.790666580200195,14.909333229064941,14.650667190551758,14.618000030517578,14.855999946594238,14.897333145141602,15.14466667175293,14.970000267028809,15.65999984741211,15.539999961853027,15.355999946594238,15.337332725524902,15.928000450134277,15.90666675567627,16.338666915893555,16.899999618530273,16.825332641601562,16.99066734313965,16.902666091918945,17.211999893188477,17.045333862304688,17.344667434692383,17.658666610717773,15.254667282104492,15.202667236328125,15.718000411987305,16.150667190551758,16.107332229614258,15.59000015258789,15.62266731262207,15.221332550048828,15.383333206176758,15.561332702636719,15.886667251586914,15.667332649230957,15.267333030700684,15.666666984558105,14.641332626342773,14.37600040435791,14.662667274475098,15.121999740600586,15.057332992553711,14.722000122070312,14.8100004196167,14.09333324432373,14.333333015441895,14.272000312805176,14.37266731262207,14.780667304992676,15.040666580200195,15.000666618347168,14.711999893188477,15.305333137512207,15.16333293914795,15.452667236328125,15.702667236328125,16.47333335876465,16.391332626342773,16.34666633605957,16.187332153320312,16.319332122802734,16.232667922973633,16.440000534057617,16.041332244873047,16.082000732421875,14.880666732788086,15.24666690826416,16.17066764831543,16.142000198364258,16.058000564575195,16.312667846679688,16.208667755126953,15.535332679748535,15.428667068481445,15.847999572753906,16.003332138061523,16.302000045776367,16.31599998474121,16.525999069213867,17.130666732788086,17.19266700744629,17.316667556762695,17.46466636657715,17.1299991607666,16.899999618530273,17.038667678833008,16.978666305541992,19.978666305541992,21.875333786010742,21.847333908081055,21.08133316040039,21.000667572021484,20.994667053222656,20.887332916259766,21.1646671295166,21.148000717163086,21.77199935913086,22.369333267211914,22.47599983215332,23.006000518798828,23.32866668701172,23.073999404907227,23.290000915527344,23.47800064086914,23.332666397094727,23.968000411987305,23.481332778930664,23.655332565307617,22.202667236328125,22.422666549682617,21.92799949645996,22.086000442504883,21.996000289916992,22.32466697692871,22.413333892822266,22.20199966430664,22.024667739868164,22.392667770385742,22.635332107543945,23.256000518798828,23.51333236694336,23.978666305541992,23.892667770385742,25.433332443237305,25.266000747680664,26.209999084472656,26.93600082397461,27.03933334350586,27.947999954223633,28.350000381469727,28.729333877563477,28.691999435424805,27.64666748046875,27.8886661529541,28.68400001525879,29.534000396728516,30.1026668548584,31.270666122436523,32.80933380126953,32.089332580566406,31.876667022705078,34.990665435791016,35.861331939697266,34.56666564941406,34.232666015625,34.03333282470703,36.47999954223633,37.97066879272461,38.14666748046875,37.654666900634766,37.201332092285156,37.793331146240234,38.732666015625,42.72066879272461,43.371334075927734,52.0,59.137332916259766,48.97999954223633,49.930667877197266,49.871334075927734,51.41866683959961,51.62533187866211,51.15266799926758,53.599998474121094,53.33533477783203,57.22666549682617,61.16133117675781,59.96066665649414,60.06666564941406,55.58599853515625,53.32733154296875,51.91999816894531,45.266666412353516,44.53266525268555,49.574668884277344,49.70066833496094,49.96666717529297,48.30266571044922,46.89866638183594,40.53333282470703,43.02199935913086,42.28200149536133,37.369998931884766,36.44133377075195,29.67133331298828,28.68000030517578,24.08133316040039,28.50933265686035,28.50200080871582,28.952667236328125,33.66666793823242,35.95000076293945,35.21066665649414,34.29066848754883,33.47533416748047,34.93333435058594,32.104000091552734,30.29800033569336,32.000667572021484,34.41600036621094,36.36333465576172,36.589332580566406,38.20000076293945,43.39666748046875,47.32600021362305,48.65533447265625,49.680667877197266,50.259334564208984,49.75733184814453,45.781333923339844,48.807334899902344,47.04199981689453,48.34333419799805,53.25,51.27466583251953,53.367332458496094,52.12533187866211,46.75466537475586,50.74599838256836,51.2140007019043,52.172000885009766,52.00266647338867,54.62799835205078,54.08599853515625,53.96066665649414,52.73066711425781,53.55533218383789,53.27799987792969,54.242000579833984,53.867332458496094,54.37066650390625,55.17333221435547,54.45866775512695,54.591331481933594,54.68199920654297,53.72066879272461,55.66666793823242,59.87333297729492,58.770668029785156,58.86399841308594,57.62533187866211,59.04399871826172,63.327999114990234,62.711334228515625,68.336669921875,64.85600280761719,62.35200119018555,66.05999755859375,65.47533416748047,66.11933135986328,66.9306640625,66.72666931152344,66.28800201416016,66.78533172607422,64.0566635131836,65.73200225830078,63.982666015625,67.29000091552734,71.98733520507812,74.64199829101562,80.57733154296875,91.43866729736328,92.65733337402344,91.05867004394531,92.9520034790039,102.97666931152344,99.80400085449219,101.12000274658203,103.06732940673828,100.04266357421875,100.05599975585938,109.53333282470703,104.55733489990234,106.15533447265625,100.87133026123047,94.46666717529297,102.63999938964844,98.43267059326172,99.94066619873047,99.16600036621094,95.38400268554688,99.0,99.13333129882812,99.00133514404297,99.30533599853516,96.84733581542969,94.57133483886719,91.6259994506836,103.65066528320312,108.06666564941406,110.04733276367188,122.3759994506836,125.80599975585938,125.23533630371094,133.45533752441406,136.6653289794922,134.27999877929688,134.8893280029297,143.54466247558594,149.25,147.55999755859375,166.10667419433594,158.35000610351562,149.1233367919922,135.6666717529297,139.44000244140625,110.06999969482422,122.09333038330078,123.77999877929688,124.23999786376953,139.8733367919922,149.9199981689453,147.25332641601562,141.14332580566406,147.38333129882812,149.79666137695312,141.41000366210938,126.78666687011719,129.26333618164062,135.77999877929688,140.39999389648438,139.69000244140625,143.00332641601562,149.3866729736328,138.3633270263672,141.89332580566406,137.9933319091797,141.76666259765625,141.97332763671875,144.6666717529297,147.43333435058594,148.88333129882812,153.76666259765625,149.6266632080078,146.55667114257812,143.61000061035156,140.64666748046875,140.8800048828125,141.92999267578125,140.2100067138672,140.0933380126953,141.55999755859375,135.33999633789062,136.94332885742188,129.34666442871094,133.50332641601562,141.3000030517578,140.32666015625,146.02999877929688,143.31666564941406,140.4199981689453,136.7866668701172,139.0433349609375,137.25332641601562,136.1666717529297,136.02999877929688,147.20333862304688,162.2133331298828,166.42333984375,163.20333862304688,173.9499969482422,185.1266632080078,191.3333282470703,195.25332641601562,189.1999969482422,194.9199981689453,189.60667419433594,197.7933349609375,199.67999267578125,213.9199981689453,216.6266632080078,201.4933319091797,209.02333068847656,203.3300018310547,213.27667236328125,211.0833282470703,207.58999633789062,218.63333129882812,231.6666717529297,216.6199951171875,213.44667053222656,215.32666015625,220.58999633789062,221.22999572753906,221.99667358398438,231.5933380126953,235.22332763671875,243.2566680908203,245.0366668701172,251.9933319091797,272.0133361816406,293.3399963378906,270.39666748046875,283.14666748046875,284.8033447265625,281.6666564941406,275.38665771484375,281.51666259765625,283.48333740234375,281.663330078125,282.21331787109375,293.6000061035156,294.36334228515625,288.0533447265625,278.4766540527344,264.510009765625,279.9366760253906,290.92999267578125,284.89666748046875,283.3299865722656,284.07666015625,287.8066711425781,283.1533203125,268.2733459472656,270.5533447265625,272.0400085449219,265.40667724609375,266.04998779296875,262.4599914550781,260.4333190917969,238.1666717529297,232.94667053222656,247.33999633789062,227.4066619873047,225.1666717529297,239.47666931152344,228.81333923339844,217.73333740234375,207.14666748046875,199.31666564941406,187.6666717529297,224.52667236328125,222.68666076660156,233.1999969482422,231.2433319091797,235.97999572753906,225.6266632080078,233.93666076660156,217.72000122070312,218.2899932861328,223.3333282470703,220.72000122070312,210.08999633789062,213.4633331298828,206.23666381835938,203.76333618164062,211.8733367919922,222.64332580566406,220.5833282470703,230.35000610351562,230.5399932861328,223.6566619873047,227.93333435058594,225.67333984375,233.9933319091797,254.10667419433594,244.07666015625,246.28334045410156,246.5933380126953,238.2100067138672,239.663330078125,248.0399932861328,239.89666748046875,243.13333129882812,246.06666564941406,234.913330078125,231.46665954589844,225.6666717529297,236.47999572753906,228.3000030517578,224.53334045410156,223.64666748046875,221.17999267578125,224.1233367919922,209.67999267578125,205.73333740234375,196.6300048828125,190.56333923339844,196.5800018310547,192.27667236328125,192.6233367919922,187.82000732421875,195.5933380126953,193.6266632080078,202.14666748046875,201.56333923339844,206.3766632080078,210.28334045410156,208.4066619873047,207.96665954589844,201.7066650390625,190.94667053222656,199.68333435058594,201.7100067138672,201.19667053222656,199.5933380126953,203.3733367919922,203.29666137695312,205.89666748046875],\"type\":\"scatter\",\"xaxis\":\"x\",\"yaxis\":\"y\"},{\"name\":\"Revenue\",\"x\":[\"2021-03-31T00:00:00\",\"2020-12-31T00:00:00\",\"2020-09-30T00:00:00\",\"2020-06-30T00:00:00\",\"2020-03-31T00:00:00\",\"2019-12-31T00:00:00\",\"2019-09-30T00:00:00\",\"2019-06-30T00:00:00\",\"2019-03-31T00:00:00\",\"2018-12-31T00:00:00\",\"2018-09-30T00:00:00\",\"2018-06-30T00:00:00\",\"2018-03-31T00:00:00\",\"2017-12-31T00:00:00\",\"2017-09-30T00:00:00\",\"2017-06-30T00:00:00\",\"2017-03-31T00:00:00\",\"2016-12-31T00:00:00\",\"2016-09-30T00:00:00\",\"2016-06-30T00:00:00\",\"2016-03-31T00:00:00\",\"2015-12-31T00:00:00\",\"2015-09-30T00:00:00\",\"2015-06-30T00:00:00\",\"2015-03-31T00:00:00\",\"2014-12-31T00:00:00\",\"2014-09-30T00:00:00\",\"2014-06-30T00:00:00\",\"2014-03-31T00:00:00\",\"2013-12-31T00:00:00\",\"2013-09-30T00:00:00\",\"2013-06-30T00:00:00\",\"2013-03-31T00:00:00\",\"2012-12-31T00:00:00\",\"2012-09-30T00:00:00\",\"2012-06-30T00:00:00\",\"2012-03-31T00:00:00\",\"2011-12-31T00:00:00\",\"2011-09-30T00:00:00\",\"2011-06-30T00:00:00\",\"2011-03-31T00:00:00\",\"2010-12-31T00:00:00\",\"2010-09-30T00:00:00\",\"2010-06-30T00:00:00\",\"2010-03-31T00:00:00\",\"2009-09-30T00:00:00\",\"2009-06-30T00:00:00\"],\"y\":[10389.0,10744.0,8771.0,6036.0,5985.0,7384.0,6303.0,6350.0,4541.0,7226.0,6824.0,4002.0,3409.0,3288.0,2985.0,2790.0,2696.0,2285.0,2298.0,1270.0,1147.0,1214.0,937.0,955.0,940.0,957.0,852.0,769.0,621.0,615.0,431.0,405.0,562.0,306.0,50.0,27.0,30.0,39.0,58.0,58.0,49.0,36.0,31.0,28.0,21.0,46.0,27.0],\"type\":\"scatter\",\"xaxis\":\"x2\",\"yaxis\":\"y2\"}],                        {\"template\":{\"data\":{\"histogram2dcontour\":[{\"type\":\"histogram2dcontour\",\"colorbar\":{\"outlinewidth\":0,\"ticks\":\"\"},\"colorscale\":[[0.0,\"#0d0887\"],[0.1111111111111111,\"#46039f\"],[0.2222222222222222,\"#7201a8\"],[0.3333333333333333,\"#9c179e\"],[0.4444444444444444,\"#bd3786\"],[0.5555555555555556,\"#d8576b\"],[0.6666666666666666,\"#ed7953\"],[0.7777777777777778,\"#fb9f3a\"],[0.8888888888888888,\"#fdca26\"],[1.0,\"#f0f921\"]]}],\"choropleth\":[{\"type\":\"choropleth\",\"colorbar\":{\"outlinewidth\":0,\"ticks\":\"\"}}],\"histogram2d\":[{\"type\":\"histogram2d\",\"colorbar\":{\"outlinewidth\":0,\"ticks\":\"\"},\"colorscale\":[[0.0,\"#0d0887\"],[0.1111111111111111,\"#46039f\"],[0.2222222222222222,\"#7201a8\"],[0.3333333333333333,\"#9c179e\"],[0.4444444444444444,\"#bd3786\"],[0.5555555555555556,\"#d8576b\"],[0.6666666666666666,\"#ed7953\"],[0.7777777777777778,\"#fb9f3a\"],[0.8888888888888888,\"#fdca26\"],[1.0,\"#f0f921\"]]}],\"heatmap\":[{\"type\":\"heatmap\",\"colorbar\":{\"outlinewidth\":0,\"ticks\":\"\"},\"colorscale\":[[0.0,\"#0d0887\"],[0.1111111111111111,\"#46039f\"],[0.2222222222222222,\"#7201a8\"],[0.3333333333333333,\"#9c179e\"],[0.4444444444444444,\"#bd3786\"],[0.5555555555555556,\"#d8576b\"],[0.6666666666666666,\"#ed7953\"],[0.7777777777777778,\"#fb9f3a\"],[0.8888888888888888,\"#fdca26\"],[1.0,\"#f0f921\"]]}],\"heatmapgl\":[{\"type\":\"heatmapgl\",\"colorbar\":{\"outlinewidth\":0,\"ticks\":\"\"},\"colorscale\":[[0.0,\"#0d0887\"],[0.1111111111111111,\"#46039f\"],[0.2222222222222222,\"#7201a8\"],[0.3333333333333333,\"#9c179e\"],[0.4444444444444444,\"#bd3786\"],[0.5555555555555556,\"#d8576b\"],[0.6666666666666666,\"#ed7953\"],[0.7777777777777778,\"#fb9f3a\"],[0.8888888888888888,\"#fdca26\"],[1.0,\"#f0f921\"]]}],\"contourcarpet\":[{\"type\":\"contourcarpet\",\"colorbar\":{\"outlinewidth\":0,\"ticks\":\"\"}}],\"contour\":[{\"type\":\"contour\",\"colorbar\":{\"outlinewidth\":0,\"ticks\":\"\"},\"colorscale\":[[0.0,\"#0d0887\"],[0.1111111111111111,\"#46039f\"],[0.2222222222222222,\"#7201a8\"],[0.3333333333333333,\"#9c179e\"],[0.4444444444444444,\"#bd3786\"],[0.5555555555555556,\"#d8576b\"],[0.6666666666666666,\"#ed7953\"],[0.7777777777777778,\"#fb9f3a\"],[0.8888888888888888,\"#fdca26\"],[1.0,\"#f0f921\"]]}],\"surface\":[{\"type\":\"surface\",\"colorbar\":{\"outlinewidth\":0,\"ticks\":\"\"},\"colorscale\":[[0.0,\"#0d0887\"],[0.1111111111111111,\"#46039f\"],[0.2222222222222222,\"#7201a8\"],[0.3333333333333333,\"#9c179e\"],[0.4444444444444444,\"#bd3786\"],[0.5555555555555556,\"#d8576b\"],[0.6666666666666666,\"#ed7953\"],[0.7777777777777778,\"#fb9f3a\"],[0.8888888888888888,\"#fdca26\"],[1.0,\"#f0f921\"]]}],\"mesh3d\":[{\"type\":\"mesh3d\",\"colorbar\":{\"outlinewidth\":0,\"ticks\":\"\"}}],\"scatter\":[{\"fillpattern\":{\"fillmode\":\"overlay\",\"size\":10,\"solidity\":0.2},\"type\":\"scatter\"}],\"parcoords\":[{\"type\":\"parcoords\",\"line\":{\"colorbar\":{\"outlinewidth\":0,\"ticks\":\"\"}}}],\"scatterpolargl\":[{\"type\":\"scatterpolargl\",\"marker\":{\"colorbar\":{\"outlinewidth\":0,\"ticks\":\"\"}}}],\"bar\":[{\"error_x\":{\"color\":\"#2a3f5f\"},\"error_y\":{\"color\":\"#2a3f5f\"},\"marker\":{\"line\":{\"color\":\"#E5ECF6\",\"width\":0.5},\"pattern\":{\"fillmode\":\"overlay\",\"size\":10,\"solidity\":0.2}},\"type\":\"bar\"}],\"scattergeo\":[{\"type\":\"scattergeo\",\"marker\":{\"colorbar\":{\"outlinewidth\":0,\"ticks\":\"\"}}}],\"scatterpolar\":[{\"type\":\"scatterpolar\",\"marker\":{\"colorbar\":{\"outlinewidth\":0,\"ticks\":\"\"}}}],\"histogram\":[{\"marker\":{\"pattern\":{\"fillmode\":\"overlay\",\"size\":10,\"solidity\":0.2}},\"type\":\"histogram\"}],\"scattergl\":[{\"type\":\"scattergl\",\"marker\":{\"colorbar\":{\"outlinewidth\":0,\"ticks\":\"\"}}}],\"scatter3d\":[{\"type\":\"scatter3d\",\"line\":{\"colorbar\":{\"outlinewidth\":0,\"ticks\":\"\"}},\"marker\":{\"colorbar\":{\"outlinewidth\":0,\"ticks\":\"\"}}}],\"scattermapbox\":[{\"type\":\"scattermapbox\",\"marker\":{\"colorbar\":{\"outlinewidth\":0,\"ticks\":\"\"}}}],\"scatterternary\":[{\"type\":\"scatterternary\",\"marker\":{\"colorbar\":{\"outlinewidth\":0,\"ticks\":\"\"}}}],\"scattercarpet\":[{\"type\":\"scattercarpet\",\"marker\":{\"colorbar\":{\"outlinewidth\":0,\"ticks\":\"\"}}}],\"carpet\":[{\"aaxis\":{\"endlinecolor\":\"#2a3f5f\",\"gridcolor\":\"white\",\"linecolor\":\"white\",\"minorgridcolor\":\"white\",\"startlinecolor\":\"#2a3f5f\"},\"baxis\":{\"endlinecolor\":\"#2a3f5f\",\"gridcolor\":\"white\",\"linecolor\":\"white\",\"minorgridcolor\":\"white\",\"startlinecolor\":\"#2a3f5f\"},\"type\":\"carpet\"}],\"table\":[{\"cells\":{\"fill\":{\"color\":\"#EBF0F8\"},\"line\":{\"color\":\"white\"}},\"header\":{\"fill\":{\"color\":\"#C8D4E3\"},\"line\":{\"color\":\"white\"}},\"type\":\"table\"}],\"barpolar\":[{\"marker\":{\"line\":{\"color\":\"#E5ECF6\",\"width\":0.5},\"pattern\":{\"fillmode\":\"overlay\",\"size\":10,\"solidity\":0.2}},\"type\":\"barpolar\"}],\"pie\":[{\"automargin\":true,\"type\":\"pie\"}]},\"layout\":{\"autotypenumbers\":\"strict\",\"colorway\":[\"#636efa\",\"#EF553B\",\"#00cc96\",\"#ab63fa\",\"#FFA15A\",\"#19d3f3\",\"#FF6692\",\"#B6E880\",\"#FF97FF\",\"#FECB52\"],\"font\":{\"color\":\"#2a3f5f\"},\"hovermode\":\"closest\",\"hoverlabel\":{\"align\":\"left\"},\"paper_bgcolor\":\"white\",\"plot_bgcolor\":\"#E5ECF6\",\"polar\":{\"bgcolor\":\"#E5ECF6\",\"angularaxis\":{\"gridcolor\":\"white\",\"linecolor\":\"white\",\"ticks\":\"\"},\"radialaxis\":{\"gridcolor\":\"white\",\"linecolor\":\"white\",\"ticks\":\"\"}},\"ternary\":{\"bgcolor\":\"#E5ECF6\",\"aaxis\":{\"gridcolor\":\"white\",\"linecolor\":\"white\",\"ticks\":\"\"},\"baxis\":{\"gridcolor\":\"white\",\"linecolor\":\"white\",\"ticks\":\"\"},\"caxis\":{\"gridcolor\":\"white\",\"linecolor\":\"white\",\"ticks\":\"\"}},\"coloraxis\":{\"colorbar\":{\"outlinewidth\":0,\"ticks\":\"\"}},\"colorscale\":{\"sequential\":[[0.0,\"#0d0887\"],[0.1111111111111111,\"#46039f\"],[0.2222222222222222,\"#7201a8\"],[0.3333333333333333,\"#9c179e\"],[0.4444444444444444,\"#bd3786\"],[0.5555555555555556,\"#d8576b\"],[0.6666666666666666,\"#ed7953\"],[0.7777777777777778,\"#fb9f3a\"],[0.8888888888888888,\"#fdca26\"],[1.0,\"#f0f921\"]],\"sequentialminus\":[[0.0,\"#0d0887\"],[0.1111111111111111,\"#46039f\"],[0.2222222222222222,\"#7201a8\"],[0.3333333333333333,\"#9c179e\"],[0.4444444444444444,\"#bd3786\"],[0.5555555555555556,\"#d8576b\"],[0.6666666666666666,\"#ed7953\"],[0.7777777777777778,\"#fb9f3a\"],[0.8888888888888888,\"#fdca26\"],[1.0,\"#f0f921\"]],\"diverging\":[[0,\"#8e0152\"],[0.1,\"#c51b7d\"],[0.2,\"#de77ae\"],[0.3,\"#f1b6da\"],[0.4,\"#fde0ef\"],[0.5,\"#f7f7f7\"],[0.6,\"#e6f5d0\"],[0.7,\"#b8e186\"],[0.8,\"#7fbc41\"],[0.9,\"#4d9221\"],[1,\"#276419\"]]},\"xaxis\":{\"gridcolor\":\"white\",\"linecolor\":\"white\",\"ticks\":\"\",\"title\":{\"standoff\":15},\"zerolinecolor\":\"white\",\"automargin\":true,\"zerolinewidth\":2},\"yaxis\":{\"gridcolor\":\"white\",\"linecolor\":\"white\",\"ticks\":\"\",\"title\":{\"standoff\":15},\"zerolinecolor\":\"white\",\"automargin\":true,\"zerolinewidth\":2},\"scene\":{\"xaxis\":{\"backgroundcolor\":\"#E5ECF6\",\"gridcolor\":\"white\",\"linecolor\":\"white\",\"showbackground\":true,\"ticks\":\"\",\"zerolinecolor\":\"white\",\"gridwidth\":2},\"yaxis\":{\"backgroundcolor\":\"#E5ECF6\",\"gridcolor\":\"white\",\"linecolor\":\"white\",\"showbackground\":true,\"ticks\":\"\",\"zerolinecolor\":\"white\",\"gridwidth\":2},\"zaxis\":{\"backgroundcolor\":\"#E5ECF6\",\"gridcolor\":\"white\",\"linecolor\":\"white\",\"showbackground\":true,\"ticks\":\"\",\"zerolinecolor\":\"white\",\"gridwidth\":2}},\"shapedefaults\":{\"line\":{\"color\":\"#2a3f5f\"}},\"annotationdefaults\":{\"arrowcolor\":\"#2a3f5f\",\"arrowhead\":0,\"arrowwidth\":1},\"geo\":{\"bgcolor\":\"white\",\"landcolor\":\"#E5ECF6\",\"subunitcolor\":\"white\",\"showland\":true,\"showlakes\":true,\"lakecolor\":\"white\"},\"title\":{\"x\":0.05},\"mapbox\":{\"style\":\"light\"}}},\"xaxis\":{\"anchor\":\"y\",\"domain\":[0.0,1.0],\"matches\":\"x2\",\"showticklabels\":false,\"title\":{\"text\":\"Date\"},\"rangeslider\":{\"visible\":true}},\"yaxis\":{\"anchor\":\"x\",\"domain\":[0.6499999999999999,0.9999999999999999],\"title\":{\"text\":\"Price ($US)\"}},\"xaxis2\":{\"anchor\":\"y2\",\"domain\":[0.0,1.0],\"title\":{\"text\":\"Date\"}},\"yaxis2\":{\"anchor\":\"x2\",\"domain\":[0.0,0.35],\"title\":{\"text\":\"Revenue ($US Millions)\"}},\"annotations\":[{\"font\":{\"size\":16},\"showarrow\":false,\"text\":\"Historical Share Price\",\"x\":0.5,\"xanchor\":\"center\",\"xref\":\"paper\",\"y\":0.9999999999999999,\"yanchor\":\"bottom\",\"yref\":\"paper\"},{\"font\":{\"size\":16},\"showarrow\":false,\"text\":\"Historical Revenue\",\"x\":0.5,\"xanchor\":\"center\",\"xref\":\"paper\",\"y\":0.35,\"yanchor\":\"bottom\",\"yref\":\"paper\"}],\"showlegend\":false,\"height\":900,\"title\":{\"text\":\"Tesla Stock Data Graph\"}},                        {\"responsive\": true}                    ).then(function(){\n",
       "                            \n",
       "var gd = document.getElementById('ca615c4d-6b47-453a-9b04-8c2156c680ba');\n",
       "var x = new MutationObserver(function (mutations, observer) {{\n",
       "        var display = window.getComputedStyle(gd).display;\n",
       "        if (!display || display === 'none') {{\n",
       "            console.log([gd, 'removed!']);\n",
       "            Plotly.purge(gd);\n",
       "            observer.disconnect();\n",
       "        }}\n",
       "}});\n",
       "\n",
       "// Listen for the removal of the full notebook cells\n",
       "var notebookContainer = gd.closest('#notebook-container');\n",
       "if (notebookContainer) {{\n",
       "    x.observe(notebookContainer, {childList: true});\n",
       "}}\n",
       "\n",
       "// Listen for the clearing of the current output cell\n",
       "var outputEl = gd.closest('.output');\n",
       "if (outputEl) {{\n",
       "    x.observe(outputEl, {childList: true});\n",
       "}}\n",
       "\n",
       "                        })                };                });            </script>        </div>"
      ]
     },
     "metadata": {},
     "output_type": "display_data"
    }
   ],
   "source": [
    "make_graph(tesla_data, tesla_revenue, 'Tesla Stock Data Graph')"
   ]
  },
  {
   "cell_type": "markdown",
   "id": "ab58a257",
   "metadata": {
    "papermill": {
     "duration": 0.02531,
     "end_time": "2023-02-17T14:34:55.691749",
     "exception": false,
     "start_time": "2023-02-17T14:34:55.666439",
     "status": "completed"
    },
    "tags": []
   },
   "source": [
    "## Question 6: Plot GameStop Stock Graph\n"
   ]
  },
  {
   "cell_type": "markdown",
   "id": "9368ad30",
   "metadata": {
    "papermill": {
     "duration": 0.024977,
     "end_time": "2023-02-17T14:34:55.742375",
     "exception": false,
     "start_time": "2023-02-17T14:34:55.717398",
     "status": "completed"
    },
    "tags": []
   },
   "source": [
    "Use the `make_graph` function to graph the GameStop Stock Data, also provide a title for the graph. The structure to call the `make_graph` function is `make_graph(gme_data, gme_revenue, 'GameStop')`. Note the graph will only show data upto June 2021.\n"
   ]
  },
  {
   "cell_type": "code",
   "execution_count": 20,
   "id": "1e9f8e4d",
   "metadata": {
    "execution": {
     "iopub.execute_input": "2023-02-17T14:34:55.794530Z",
     "iopub.status.busy": "2023-02-17T14:34:55.794081Z",
     "iopub.status.idle": "2023-02-17T14:34:55.958547Z",
     "shell.execute_reply": "2023-02-17T14:34:55.957489Z"
    },
    "papermill": {
     "duration": 0.195245,
     "end_time": "2023-02-17T14:34:55.962707",
     "exception": false,
     "start_time": "2023-02-17T14:34:55.767462",
     "status": "completed"
    },
    "tags": []
   },
   "outputs": [
    {
     "data": {
      "text/html": [
       "<div>                            <div id=\"a80f727a-08a9-4b20-be43-8a0690789561\" class=\"plotly-graph-div\" style=\"height:900px; width:100%;\"></div>            <script type=\"text/javascript\">                require([\"plotly\"], function(Plotly) {                    window.PLOTLYENV=window.PLOTLYENV || {};                                    if (document.getElementById(\"a80f727a-08a9-4b20-be43-8a0690789561\")) {                    Plotly.newPlot(                        \"a80f727a-08a9-4b20-be43-8a0690789561\",                        [{\"name\":\"Share Price\",\"x\":[\"2002-02-13T00:00:00\",\"2002-02-14T00:00:00\",\"2002-02-15T00:00:00\",\"2002-02-19T00:00:00\",\"2002-02-20T00:00:00\",\"2002-02-21T00:00:00\",\"2002-02-22T00:00:00\",\"2002-02-25T00:00:00\",\"2002-02-26T00:00:00\",\"2002-02-27T00:00:00\",\"2002-02-28T00:00:00\",\"2002-03-01T00:00:00\",\"2002-03-04T00:00:00\",\"2002-03-05T00:00:00\",\"2002-03-06T00:00:00\",\"2002-03-07T00:00:00\",\"2002-03-08T00:00:00\",\"2002-03-11T00:00:00\",\"2002-03-12T00:00:00\",\"2002-03-13T00:00:00\",\"2002-03-14T00:00:00\",\"2002-03-15T00:00:00\",\"2002-03-18T00:00:00\",\"2002-03-19T00:00:00\",\"2002-03-20T00:00:00\",\"2002-03-21T00:00:00\",\"2002-03-22T00:00:00\",\"2002-03-25T00:00:00\",\"2002-03-26T00:00:00\",\"2002-03-27T00:00:00\",\"2002-03-28T00:00:00\",\"2002-04-01T00:00:00\",\"2002-04-02T00:00:00\",\"2002-04-03T00:00:00\",\"2002-04-04T00:00:00\",\"2002-04-05T00:00:00\",\"2002-04-08T00:00:00\",\"2002-04-09T00:00:00\",\"2002-04-10T00:00:00\",\"2002-04-11T00:00:00\",\"2002-04-12T00:00:00\",\"2002-04-15T00:00:00\",\"2002-04-16T00:00:00\",\"2002-04-17T00:00:00\",\"2002-04-18T00:00:00\",\"2002-04-19T00:00:00\",\"2002-04-22T00:00:00\",\"2002-04-23T00:00:00\",\"2002-04-24T00:00:00\",\"2002-04-25T00:00:00\",\"2002-04-26T00:00:00\",\"2002-04-29T00:00:00\",\"2002-04-30T00:00:00\",\"2002-05-01T00:00:00\",\"2002-05-02T00:00:00\",\"2002-05-03T00:00:00\",\"2002-05-06T00:00:00\",\"2002-05-07T00:00:00\",\"2002-05-08T00:00:00\",\"2002-05-09T00:00:00\",\"2002-05-10T00:00:00\",\"2002-05-13T00:00:00\",\"2002-05-14T00:00:00\",\"2002-05-15T00:00:00\",\"2002-05-16T00:00:00\",\"2002-05-17T00:00:00\",\"2002-05-20T00:00:00\",\"2002-05-21T00:00:00\",\"2002-05-22T00:00:00\",\"2002-05-23T00:00:00\",\"2002-05-24T00:00:00\",\"2002-05-28T00:00:00\",\"2002-05-29T00:00:00\",\"2002-05-30T00:00:00\",\"2002-05-31T00:00:00\",\"2002-06-03T00:00:00\",\"2002-06-04T00:00:00\",\"2002-06-05T00:00:00\",\"2002-06-06T00:00:00\",\"2002-06-07T00:00:00\",\"2002-06-10T00:00:00\",\"2002-06-11T00:00:00\",\"2002-06-12T00:00:00\",\"2002-06-13T00:00:00\",\"2002-06-14T00:00:00\",\"2002-06-17T00:00:00\",\"2002-06-18T00:00:00\",\"2002-06-19T00:00:00\",\"2002-06-20T00:00:00\",\"2002-06-21T00:00:00\",\"2002-06-24T00:00:00\",\"2002-06-25T00:00:00\",\"2002-06-26T00:00:00\",\"2002-06-27T00:00:00\",\"2002-06-28T00:00:00\",\"2002-07-01T00:00:00\",\"2002-07-02T00:00:00\",\"2002-07-03T00:00:00\",\"2002-07-05T00:00:00\",\"2002-07-08T00:00:00\",\"2002-07-09T00:00:00\",\"2002-07-10T00:00:00\",\"2002-07-11T00:00:00\",\"2002-07-12T00:00:00\",\"2002-07-15T00:00:00\",\"2002-07-16T00:00:00\",\"2002-07-17T00:00:00\",\"2002-07-18T00:00:00\",\"2002-07-19T00:00:00\",\"2002-07-22T00:00:00\",\"2002-07-23T00:00:00\",\"2002-07-24T00:00:00\",\"2002-07-25T00:00:00\",\"2002-07-26T00:00:00\",\"2002-07-29T00:00:00\",\"2002-07-30T00:00:00\",\"2002-07-31T00:00:00\",\"2002-08-01T00:00:00\",\"2002-08-02T00:00:00\",\"2002-08-05T00:00:00\",\"2002-08-06T00:00:00\",\"2002-08-07T00:00:00\",\"2002-08-08T00:00:00\",\"2002-08-09T00:00:00\",\"2002-08-12T00:00:00\",\"2002-08-13T00:00:00\",\"2002-08-14T00:00:00\",\"2002-08-15T00:00:00\",\"2002-08-16T00:00:00\",\"2002-08-19T00:00:00\",\"2002-08-20T00:00:00\",\"2002-08-21T00:00:00\",\"2002-08-22T00:00:00\",\"2002-08-23T00:00:00\",\"2002-08-26T00:00:00\",\"2002-08-27T00:00:00\",\"2002-08-28T00:00:00\",\"2002-08-29T00:00:00\",\"2002-08-30T00:00:00\",\"2002-09-03T00:00:00\",\"2002-09-04T00:00:00\",\"2002-09-05T00:00:00\",\"2002-09-06T00:00:00\",\"2002-09-09T00:00:00\",\"2002-09-10T00:00:00\",\"2002-09-11T00:00:00\",\"2002-09-12T00:00:00\",\"2002-09-13T00:00:00\",\"2002-09-16T00:00:00\",\"2002-09-17T00:00:00\",\"2002-09-18T00:00:00\",\"2002-09-19T00:00:00\",\"2002-09-20T00:00:00\",\"2002-09-23T00:00:00\",\"2002-09-24T00:00:00\",\"2002-09-25T00:00:00\",\"2002-09-26T00:00:00\",\"2002-09-27T00:00:00\",\"2002-09-30T00:00:00\",\"2002-10-01T00:00:00\",\"2002-10-02T00:00:00\",\"2002-10-03T00:00:00\",\"2002-10-04T00:00:00\",\"2002-10-07T00:00:00\",\"2002-10-08T00:00:00\",\"2002-10-09T00:00:00\",\"2002-10-10T00:00:00\",\"2002-10-11T00:00:00\",\"2002-10-14T00:00:00\",\"2002-10-15T00:00:00\",\"2002-10-16T00:00:00\",\"2002-10-17T00:00:00\",\"2002-10-18T00:00:00\",\"2002-10-21T00:00:00\",\"2002-10-22T00:00:00\",\"2002-10-23T00:00:00\",\"2002-10-24T00:00:00\",\"2002-10-25T00:00:00\",\"2002-10-28T00:00:00\",\"2002-10-29T00:00:00\",\"2002-10-30T00:00:00\",\"2002-10-31T00:00:00\",\"2002-11-01T00:00:00\",\"2002-11-04T00:00:00\",\"2002-11-05T00:00:00\",\"2002-11-06T00:00:00\",\"2002-11-07T00:00:00\",\"2002-11-08T00:00:00\",\"2002-11-11T00:00:00\",\"2002-11-12T00:00:00\",\"2002-11-13T00:00:00\",\"2002-11-14T00:00:00\",\"2002-11-15T00:00:00\",\"2002-11-18T00:00:00\",\"2002-11-19T00:00:00\",\"2002-11-20T00:00:00\",\"2002-11-21T00:00:00\",\"2002-11-22T00:00:00\",\"2002-11-25T00:00:00\",\"2002-11-26T00:00:00\",\"2002-11-27T00:00:00\",\"2002-11-29T00:00:00\",\"2002-12-02T00:00:00\",\"2002-12-03T00:00:00\",\"2002-12-04T00:00:00\",\"2002-12-05T00:00:00\",\"2002-12-06T00:00:00\",\"2002-12-09T00:00:00\",\"2002-12-10T00:00:00\",\"2002-12-11T00:00:00\",\"2002-12-12T00:00:00\",\"2002-12-13T00:00:00\",\"2002-12-16T00:00:00\",\"2002-12-17T00:00:00\",\"2002-12-18T00:00:00\",\"2002-12-19T00:00:00\",\"2002-12-20T00:00:00\",\"2002-12-23T00:00:00\",\"2002-12-24T00:00:00\",\"2002-12-26T00:00:00\",\"2002-12-27T00:00:00\",\"2002-12-30T00:00:00\",\"2002-12-31T00:00:00\",\"2003-01-02T00:00:00\",\"2003-01-03T00:00:00\",\"2003-01-06T00:00:00\",\"2003-01-07T00:00:00\",\"2003-01-08T00:00:00\",\"2003-01-09T00:00:00\",\"2003-01-10T00:00:00\",\"2003-01-13T00:00:00\",\"2003-01-14T00:00:00\",\"2003-01-15T00:00:00\",\"2003-01-16T00:00:00\",\"2003-01-17T00:00:00\",\"2003-01-21T00:00:00\",\"2003-01-22T00:00:00\",\"2003-01-23T00:00:00\",\"2003-01-24T00:00:00\",\"2003-01-27T00:00:00\",\"2003-01-28T00:00:00\",\"2003-01-29T00:00:00\",\"2003-01-30T00:00:00\",\"2003-01-31T00:00:00\",\"2003-02-03T00:00:00\",\"2003-02-04T00:00:00\",\"2003-02-05T00:00:00\",\"2003-02-06T00:00:00\",\"2003-02-07T00:00:00\",\"2003-02-10T00:00:00\",\"2003-02-11T00:00:00\",\"2003-02-12T00:00:00\",\"2003-02-13T00:00:00\",\"2003-02-14T00:00:00\",\"2003-02-18T00:00:00\",\"2003-02-19T00:00:00\",\"2003-02-20T00:00:00\",\"2003-02-21T00:00:00\",\"2003-02-24T00:00:00\",\"2003-02-25T00:00:00\",\"2003-02-26T00:00:00\",\"2003-02-27T00:00:00\",\"2003-02-28T00:00:00\",\"2003-03-03T00:00:00\",\"2003-03-04T00:00:00\",\"2003-03-05T00:00:00\",\"2003-03-06T00:00:00\",\"2003-03-07T00:00:00\",\"2003-03-10T00:00:00\",\"2003-03-11T00:00:00\",\"2003-03-12T00:00:00\",\"2003-03-13T00:00:00\",\"2003-03-14T00:00:00\",\"2003-03-17T00:00:00\",\"2003-03-18T00:00:00\",\"2003-03-19T00:00:00\",\"2003-03-20T00:00:00\",\"2003-03-21T00:00:00\",\"2003-03-24T00:00:00\",\"2003-03-25T00:00:00\",\"2003-03-26T00:00:00\",\"2003-03-27T00:00:00\",\"2003-03-28T00:00:00\",\"2003-03-31T00:00:00\",\"2003-04-01T00:00:00\",\"2003-04-02T00:00:00\",\"2003-04-03T00:00:00\",\"2003-04-04T00:00:00\",\"2003-04-07T00:00:00\",\"2003-04-08T00:00:00\",\"2003-04-09T00:00:00\",\"2003-04-10T00:00:00\",\"2003-04-11T00:00:00\",\"2003-04-14T00:00:00\",\"2003-04-15T00:00:00\",\"2003-04-16T00:00:00\",\"2003-04-17T00:00:00\",\"2003-04-21T00:00:00\",\"2003-04-22T00:00:00\",\"2003-04-23T00:00:00\",\"2003-04-24T00:00:00\",\"2003-04-25T00:00:00\",\"2003-04-28T00:00:00\",\"2003-04-29T00:00:00\",\"2003-04-30T00:00:00\",\"2003-05-01T00:00:00\",\"2003-05-02T00:00:00\",\"2003-05-05T00:00:00\",\"2003-05-06T00:00:00\",\"2003-05-07T00:00:00\",\"2003-05-08T00:00:00\",\"2003-05-09T00:00:00\",\"2003-05-12T00:00:00\",\"2003-05-13T00:00:00\",\"2003-05-14T00:00:00\",\"2003-05-15T00:00:00\",\"2003-05-16T00:00:00\",\"2003-05-19T00:00:00\",\"2003-05-20T00:00:00\",\"2003-05-21T00:00:00\",\"2003-05-22T00:00:00\",\"2003-05-23T00:00:00\",\"2003-05-27T00:00:00\",\"2003-05-28T00:00:00\",\"2003-05-29T00:00:00\",\"2003-05-30T00:00:00\",\"2003-06-02T00:00:00\",\"2003-06-03T00:00:00\",\"2003-06-04T00:00:00\",\"2003-06-05T00:00:00\",\"2003-06-06T00:00:00\",\"2003-06-09T00:00:00\",\"2003-06-10T00:00:00\",\"2003-06-11T00:00:00\",\"2003-06-12T00:00:00\",\"2003-06-13T00:00:00\",\"2003-06-16T00:00:00\",\"2003-06-17T00:00:00\",\"2003-06-18T00:00:00\",\"2003-06-19T00:00:00\",\"2003-06-20T00:00:00\",\"2003-06-23T00:00:00\",\"2003-06-24T00:00:00\",\"2003-06-25T00:00:00\",\"2003-06-26T00:00:00\",\"2003-06-27T00:00:00\",\"2003-06-30T00:00:00\",\"2003-07-01T00:00:00\",\"2003-07-02T00:00:00\",\"2003-07-03T00:00:00\",\"2003-07-07T00:00:00\",\"2003-07-08T00:00:00\",\"2003-07-09T00:00:00\",\"2003-07-10T00:00:00\",\"2003-07-11T00:00:00\",\"2003-07-14T00:00:00\",\"2003-07-15T00:00:00\",\"2003-07-16T00:00:00\",\"2003-07-17T00:00:00\",\"2003-07-18T00:00:00\",\"2003-07-21T00:00:00\",\"2003-07-22T00:00:00\",\"2003-07-23T00:00:00\",\"2003-07-24T00:00:00\",\"2003-07-25T00:00:00\",\"2003-07-28T00:00:00\",\"2003-07-29T00:00:00\",\"2003-07-30T00:00:00\",\"2003-07-31T00:00:00\",\"2003-08-01T00:00:00\",\"2003-08-04T00:00:00\",\"2003-08-05T00:00:00\",\"2003-08-06T00:00:00\",\"2003-08-07T00:00:00\",\"2003-08-08T00:00:00\",\"2003-08-11T00:00:00\",\"2003-08-12T00:00:00\",\"2003-08-13T00:00:00\",\"2003-08-14T00:00:00\",\"2003-08-15T00:00:00\",\"2003-08-18T00:00:00\",\"2003-08-19T00:00:00\",\"2003-08-20T00:00:00\",\"2003-08-21T00:00:00\",\"2003-08-22T00:00:00\",\"2003-08-25T00:00:00\",\"2003-08-26T00:00:00\",\"2003-08-27T00:00:00\",\"2003-08-28T00:00:00\",\"2003-08-29T00:00:00\",\"2003-09-02T00:00:00\",\"2003-09-03T00:00:00\",\"2003-09-04T00:00:00\",\"2003-09-05T00:00:00\",\"2003-09-08T00:00:00\",\"2003-09-09T00:00:00\",\"2003-09-10T00:00:00\",\"2003-09-11T00:00:00\",\"2003-09-12T00:00:00\",\"2003-09-15T00:00:00\",\"2003-09-16T00:00:00\",\"2003-09-17T00:00:00\",\"2003-09-18T00:00:00\",\"2003-09-19T00:00:00\",\"2003-09-22T00:00:00\",\"2003-09-23T00:00:00\",\"2003-09-24T00:00:00\",\"2003-09-25T00:00:00\",\"2003-09-26T00:00:00\",\"2003-09-29T00:00:00\",\"2003-09-30T00:00:00\",\"2003-10-01T00:00:00\",\"2003-10-02T00:00:00\",\"2003-10-03T00:00:00\",\"2003-10-06T00:00:00\",\"2003-10-07T00:00:00\",\"2003-10-08T00:00:00\",\"2003-10-09T00:00:00\",\"2003-10-10T00:00:00\",\"2003-10-13T00:00:00\",\"2003-10-14T00:00:00\",\"2003-10-15T00:00:00\",\"2003-10-16T00:00:00\",\"2003-10-17T00:00:00\",\"2003-10-20T00:00:00\",\"2003-10-21T00:00:00\",\"2003-10-22T00:00:00\",\"2003-10-23T00:00:00\",\"2003-10-24T00:00:00\",\"2003-10-27T00:00:00\",\"2003-10-28T00:00:00\",\"2003-10-29T00:00:00\",\"2003-10-30T00:00:00\",\"2003-10-31T00:00:00\",\"2003-11-03T00:00:00\",\"2003-11-04T00:00:00\",\"2003-11-05T00:00:00\",\"2003-11-06T00:00:00\",\"2003-11-07T00:00:00\",\"2003-11-10T00:00:00\",\"2003-11-11T00:00:00\",\"2003-11-12T00:00:00\",\"2003-11-13T00:00:00\",\"2003-11-14T00:00:00\",\"2003-11-17T00:00:00\",\"2003-11-18T00:00:00\",\"2003-11-19T00:00:00\",\"2003-11-20T00:00:00\",\"2003-11-21T00:00:00\",\"2003-11-24T00:00:00\",\"2003-11-25T00:00:00\",\"2003-11-26T00:00:00\",\"2003-11-28T00:00:00\",\"2003-12-01T00:00:00\",\"2003-12-02T00:00:00\",\"2003-12-03T00:00:00\",\"2003-12-04T00:00:00\",\"2003-12-05T00:00:00\",\"2003-12-08T00:00:00\",\"2003-12-09T00:00:00\",\"2003-12-10T00:00:00\",\"2003-12-11T00:00:00\",\"2003-12-12T00:00:00\",\"2003-12-15T00:00:00\",\"2003-12-16T00:00:00\",\"2003-12-17T00:00:00\",\"2003-12-18T00:00:00\",\"2003-12-19T00:00:00\",\"2003-12-22T00:00:00\",\"2003-12-23T00:00:00\",\"2003-12-24T00:00:00\",\"2003-12-26T00:00:00\",\"2003-12-29T00:00:00\",\"2003-12-30T00:00:00\",\"2003-12-31T00:00:00\",\"2004-01-02T00:00:00\",\"2004-01-05T00:00:00\",\"2004-01-06T00:00:00\",\"2004-01-07T00:00:00\",\"2004-01-08T00:00:00\",\"2004-01-09T00:00:00\",\"2004-01-12T00:00:00\",\"2004-01-13T00:00:00\",\"2004-01-14T00:00:00\",\"2004-01-15T00:00:00\",\"2004-01-16T00:00:00\",\"2004-01-20T00:00:00\",\"2004-01-21T00:00:00\",\"2004-01-22T00:00:00\",\"2004-01-23T00:00:00\",\"2004-01-26T00:00:00\",\"2004-01-27T00:00:00\",\"2004-01-28T00:00:00\",\"2004-01-29T00:00:00\",\"2004-01-30T00:00:00\",\"2004-02-02T00:00:00\",\"2004-02-03T00:00:00\",\"2004-02-04T00:00:00\",\"2004-02-05T00:00:00\",\"2004-02-06T00:00:00\",\"2004-02-09T00:00:00\",\"2004-02-10T00:00:00\",\"2004-02-11T00:00:00\",\"2004-02-12T00:00:00\",\"2004-02-13T00:00:00\",\"2004-02-17T00:00:00\",\"2004-02-18T00:00:00\",\"2004-02-19T00:00:00\",\"2004-02-20T00:00:00\",\"2004-02-23T00:00:00\",\"2004-02-24T00:00:00\",\"2004-02-25T00:00:00\",\"2004-02-26T00:00:00\",\"2004-02-27T00:00:00\",\"2004-03-01T00:00:00\",\"2004-03-02T00:00:00\",\"2004-03-03T00:00:00\",\"2004-03-04T00:00:00\",\"2004-03-05T00:00:00\",\"2004-03-08T00:00:00\",\"2004-03-09T00:00:00\",\"2004-03-10T00:00:00\",\"2004-03-11T00:00:00\",\"2004-03-12T00:00:00\",\"2004-03-15T00:00:00\",\"2004-03-16T00:00:00\",\"2004-03-17T00:00:00\",\"2004-03-18T00:00:00\",\"2004-03-19T00:00:00\",\"2004-03-22T00:00:00\",\"2004-03-23T00:00:00\",\"2004-03-24T00:00:00\",\"2004-03-25T00:00:00\",\"2004-03-26T00:00:00\",\"2004-03-29T00:00:00\",\"2004-03-30T00:00:00\",\"2004-03-31T00:00:00\",\"2004-04-01T00:00:00\",\"2004-04-02T00:00:00\",\"2004-04-05T00:00:00\",\"2004-04-06T00:00:00\",\"2004-04-07T00:00:00\",\"2004-04-08T00:00:00\",\"2004-04-12T00:00:00\",\"2004-04-13T00:00:00\",\"2004-04-14T00:00:00\",\"2004-04-15T00:00:00\",\"2004-04-16T00:00:00\",\"2004-04-19T00:00:00\",\"2004-04-20T00:00:00\",\"2004-04-21T00:00:00\",\"2004-04-22T00:00:00\",\"2004-04-23T00:00:00\",\"2004-04-26T00:00:00\",\"2004-04-27T00:00:00\",\"2004-04-28T00:00:00\",\"2004-04-29T00:00:00\",\"2004-04-30T00:00:00\",\"2004-05-03T00:00:00\",\"2004-05-04T00:00:00\",\"2004-05-05T00:00:00\",\"2004-05-06T00:00:00\",\"2004-05-07T00:00:00\",\"2004-05-10T00:00:00\",\"2004-05-11T00:00:00\",\"2004-05-12T00:00:00\",\"2004-05-13T00:00:00\",\"2004-05-14T00:00:00\",\"2004-05-17T00:00:00\",\"2004-05-18T00:00:00\",\"2004-05-19T00:00:00\",\"2004-05-20T00:00:00\",\"2004-05-21T00:00:00\",\"2004-05-24T00:00:00\",\"2004-05-25T00:00:00\",\"2004-05-26T00:00:00\",\"2004-05-27T00:00:00\",\"2004-05-28T00:00:00\",\"2004-06-01T00:00:00\",\"2004-06-02T00:00:00\",\"2004-06-03T00:00:00\",\"2004-06-04T00:00:00\",\"2004-06-07T00:00:00\",\"2004-06-08T00:00:00\",\"2004-06-09T00:00:00\",\"2004-06-10T00:00:00\",\"2004-06-14T00:00:00\",\"2004-06-15T00:00:00\",\"2004-06-16T00:00:00\",\"2004-06-17T00:00:00\",\"2004-06-18T00:00:00\",\"2004-06-21T00:00:00\",\"2004-06-22T00:00:00\",\"2004-06-23T00:00:00\",\"2004-06-24T00:00:00\",\"2004-06-25T00:00:00\",\"2004-06-28T00:00:00\",\"2004-06-29T00:00:00\",\"2004-06-30T00:00:00\",\"2004-07-01T00:00:00\",\"2004-07-02T00:00:00\",\"2004-07-06T00:00:00\",\"2004-07-07T00:00:00\",\"2004-07-08T00:00:00\",\"2004-07-09T00:00:00\",\"2004-07-12T00:00:00\",\"2004-07-13T00:00:00\",\"2004-07-14T00:00:00\",\"2004-07-15T00:00:00\",\"2004-07-16T00:00:00\",\"2004-07-19T00:00:00\",\"2004-07-20T00:00:00\",\"2004-07-21T00:00:00\",\"2004-07-22T00:00:00\",\"2004-07-23T00:00:00\",\"2004-07-26T00:00:00\",\"2004-07-27T00:00:00\",\"2004-07-28T00:00:00\",\"2004-07-29T00:00:00\",\"2004-07-30T00:00:00\",\"2004-08-02T00:00:00\",\"2004-08-03T00:00:00\",\"2004-08-04T00:00:00\",\"2004-08-05T00:00:00\",\"2004-08-06T00:00:00\",\"2004-08-09T00:00:00\",\"2004-08-10T00:00:00\",\"2004-08-11T00:00:00\",\"2004-08-12T00:00:00\",\"2004-08-13T00:00:00\",\"2004-08-16T00:00:00\",\"2004-08-17T00:00:00\",\"2004-08-18T00:00:00\",\"2004-08-19T00:00:00\",\"2004-08-20T00:00:00\",\"2004-08-23T00:00:00\",\"2004-08-24T00:00:00\",\"2004-08-25T00:00:00\",\"2004-08-26T00:00:00\",\"2004-08-27T00:00:00\",\"2004-08-30T00:00:00\",\"2004-08-31T00:00:00\",\"2004-09-01T00:00:00\",\"2004-09-02T00:00:00\",\"2004-09-03T00:00:00\",\"2004-09-07T00:00:00\",\"2004-09-08T00:00:00\",\"2004-09-09T00:00:00\",\"2004-09-10T00:00:00\",\"2004-09-13T00:00:00\",\"2004-09-14T00:00:00\",\"2004-09-15T00:00:00\",\"2004-09-16T00:00:00\",\"2004-09-17T00:00:00\",\"2004-09-20T00:00:00\",\"2004-09-21T00:00:00\",\"2004-09-22T00:00:00\",\"2004-09-23T00:00:00\",\"2004-09-24T00:00:00\",\"2004-09-27T00:00:00\",\"2004-09-28T00:00:00\",\"2004-09-29T00:00:00\",\"2004-09-30T00:00:00\",\"2004-10-01T00:00:00\",\"2004-10-04T00:00:00\",\"2004-10-05T00:00:00\",\"2004-10-06T00:00:00\",\"2004-10-07T00:00:00\",\"2004-10-08T00:00:00\",\"2004-10-11T00:00:00\",\"2004-10-12T00:00:00\",\"2004-10-13T00:00:00\",\"2004-10-14T00:00:00\",\"2004-10-15T00:00:00\",\"2004-10-18T00:00:00\",\"2004-10-19T00:00:00\",\"2004-10-20T00:00:00\",\"2004-10-21T00:00:00\",\"2004-10-22T00:00:00\",\"2004-10-25T00:00:00\",\"2004-10-26T00:00:00\",\"2004-10-27T00:00:00\",\"2004-10-28T00:00:00\",\"2004-10-29T00:00:00\",\"2004-11-01T00:00:00\",\"2004-11-02T00:00:00\",\"2004-11-03T00:00:00\",\"2004-11-04T00:00:00\",\"2004-11-05T00:00:00\",\"2004-11-08T00:00:00\",\"2004-11-09T00:00:00\",\"2004-11-10T00:00:00\",\"2004-11-11T00:00:00\",\"2004-11-12T00:00:00\",\"2004-11-15T00:00:00\",\"2004-11-16T00:00:00\",\"2004-11-17T00:00:00\",\"2004-11-18T00:00:00\",\"2004-11-19T00:00:00\",\"2004-11-22T00:00:00\",\"2004-11-23T00:00:00\",\"2004-11-24T00:00:00\",\"2004-11-26T00:00:00\",\"2004-11-29T00:00:00\",\"2004-11-30T00:00:00\",\"2004-12-01T00:00:00\",\"2004-12-02T00:00:00\",\"2004-12-03T00:00:00\",\"2004-12-06T00:00:00\",\"2004-12-07T00:00:00\",\"2004-12-08T00:00:00\",\"2004-12-09T00:00:00\",\"2004-12-10T00:00:00\",\"2004-12-13T00:00:00\",\"2004-12-14T00:00:00\",\"2004-12-15T00:00:00\",\"2004-12-16T00:00:00\",\"2004-12-17T00:00:00\",\"2004-12-20T00:00:00\",\"2004-12-21T00:00:00\",\"2004-12-22T00:00:00\",\"2004-12-23T00:00:00\",\"2004-12-27T00:00:00\",\"2004-12-28T00:00:00\",\"2004-12-29T00:00:00\",\"2004-12-30T00:00:00\",\"2004-12-31T00:00:00\",\"2005-01-03T00:00:00\",\"2005-01-04T00:00:00\",\"2005-01-05T00:00:00\",\"2005-01-06T00:00:00\",\"2005-01-07T00:00:00\",\"2005-01-10T00:00:00\",\"2005-01-11T00:00:00\",\"2005-01-12T00:00:00\",\"2005-01-13T00:00:00\",\"2005-01-14T00:00:00\",\"2005-01-18T00:00:00\",\"2005-01-19T00:00:00\",\"2005-01-20T00:00:00\",\"2005-01-21T00:00:00\",\"2005-01-24T00:00:00\",\"2005-01-25T00:00:00\",\"2005-01-26T00:00:00\",\"2005-01-27T00:00:00\",\"2005-01-28T00:00:00\",\"2005-01-31T00:00:00\",\"2005-02-01T00:00:00\",\"2005-02-02T00:00:00\",\"2005-02-03T00:00:00\",\"2005-02-04T00:00:00\",\"2005-02-07T00:00:00\",\"2005-02-08T00:00:00\",\"2005-02-09T00:00:00\",\"2005-02-10T00:00:00\",\"2005-02-11T00:00:00\",\"2005-02-14T00:00:00\",\"2005-02-15T00:00:00\",\"2005-02-16T00:00:00\",\"2005-02-17T00:00:00\",\"2005-02-18T00:00:00\",\"2005-02-22T00:00:00\",\"2005-02-23T00:00:00\",\"2005-02-24T00:00:00\",\"2005-02-25T00:00:00\",\"2005-02-28T00:00:00\",\"2005-03-01T00:00:00\",\"2005-03-02T00:00:00\",\"2005-03-03T00:00:00\",\"2005-03-04T00:00:00\",\"2005-03-07T00:00:00\",\"2005-03-08T00:00:00\",\"2005-03-09T00:00:00\",\"2005-03-10T00:00:00\",\"2005-03-11T00:00:00\",\"2005-03-14T00:00:00\",\"2005-03-15T00:00:00\",\"2005-03-16T00:00:00\",\"2005-03-17T00:00:00\",\"2005-03-18T00:00:00\",\"2005-03-21T00:00:00\",\"2005-03-22T00:00:00\",\"2005-03-23T00:00:00\",\"2005-03-24T00:00:00\",\"2005-03-28T00:00:00\",\"2005-03-29T00:00:00\",\"2005-03-30T00:00:00\",\"2005-03-31T00:00:00\",\"2005-04-01T00:00:00\",\"2005-04-04T00:00:00\",\"2005-04-05T00:00:00\",\"2005-04-06T00:00:00\",\"2005-04-07T00:00:00\",\"2005-04-08T00:00:00\",\"2005-04-11T00:00:00\",\"2005-04-12T00:00:00\",\"2005-04-13T00:00:00\",\"2005-04-14T00:00:00\",\"2005-04-15T00:00:00\",\"2005-04-18T00:00:00\",\"2005-04-19T00:00:00\",\"2005-04-20T00:00:00\",\"2005-04-21T00:00:00\",\"2005-04-22T00:00:00\",\"2005-04-25T00:00:00\",\"2005-04-26T00:00:00\",\"2005-04-27T00:00:00\",\"2005-04-28T00:00:00\",\"2005-04-29T00:00:00\",\"2005-05-02T00:00:00\",\"2005-05-03T00:00:00\",\"2005-05-04T00:00:00\",\"2005-05-05T00:00:00\",\"2005-05-06T00:00:00\",\"2005-05-09T00:00:00\",\"2005-05-10T00:00:00\",\"2005-05-11T00:00:00\",\"2005-05-12T00:00:00\",\"2005-05-13T00:00:00\",\"2005-05-16T00:00:00\",\"2005-05-17T00:00:00\",\"2005-05-18T00:00:00\",\"2005-05-19T00:00:00\",\"2005-05-20T00:00:00\",\"2005-05-23T00:00:00\",\"2005-05-24T00:00:00\",\"2005-05-25T00:00:00\",\"2005-05-26T00:00:00\",\"2005-05-27T00:00:00\",\"2005-05-31T00:00:00\",\"2005-06-01T00:00:00\",\"2005-06-02T00:00:00\",\"2005-06-03T00:00:00\",\"2005-06-06T00:00:00\",\"2005-06-07T00:00:00\",\"2005-06-08T00:00:00\",\"2005-06-09T00:00:00\",\"2005-06-10T00:00:00\",\"2005-06-13T00:00:00\",\"2005-06-14T00:00:00\",\"2005-06-15T00:00:00\",\"2005-06-16T00:00:00\",\"2005-06-17T00:00:00\",\"2005-06-20T00:00:00\",\"2005-06-21T00:00:00\",\"2005-06-22T00:00:00\",\"2005-06-23T00:00:00\",\"2005-06-24T00:00:00\",\"2005-06-27T00:00:00\",\"2005-06-28T00:00:00\",\"2005-06-29T00:00:00\",\"2005-06-30T00:00:00\",\"2005-07-01T00:00:00\",\"2005-07-05T00:00:00\",\"2005-07-06T00:00:00\",\"2005-07-07T00:00:00\",\"2005-07-08T00:00:00\",\"2005-07-11T00:00:00\",\"2005-07-12T00:00:00\",\"2005-07-13T00:00:00\",\"2005-07-14T00:00:00\",\"2005-07-15T00:00:00\",\"2005-07-18T00:00:00\",\"2005-07-19T00:00:00\",\"2005-07-20T00:00:00\",\"2005-07-21T00:00:00\",\"2005-07-22T00:00:00\",\"2005-07-25T00:00:00\",\"2005-07-26T00:00:00\",\"2005-07-27T00:00:00\",\"2005-07-28T00:00:00\",\"2005-07-29T00:00:00\",\"2005-08-01T00:00:00\",\"2005-08-02T00:00:00\",\"2005-08-03T00:00:00\",\"2005-08-04T00:00:00\",\"2005-08-05T00:00:00\",\"2005-08-08T00:00:00\",\"2005-08-09T00:00:00\",\"2005-08-10T00:00:00\",\"2005-08-11T00:00:00\",\"2005-08-12T00:00:00\",\"2005-08-15T00:00:00\",\"2005-08-16T00:00:00\",\"2005-08-17T00:00:00\",\"2005-08-18T00:00:00\",\"2005-08-19T00:00:00\",\"2005-08-22T00:00:00\",\"2005-08-23T00:00:00\",\"2005-08-24T00:00:00\",\"2005-08-25T00:00:00\",\"2005-08-26T00:00:00\",\"2005-08-29T00:00:00\",\"2005-08-30T00:00:00\",\"2005-08-31T00:00:00\",\"2005-09-01T00:00:00\",\"2005-09-02T00:00:00\",\"2005-09-06T00:00:00\",\"2005-09-07T00:00:00\",\"2005-09-08T00:00:00\",\"2005-09-09T00:00:00\",\"2005-09-12T00:00:00\",\"2005-09-13T00:00:00\",\"2005-09-14T00:00:00\",\"2005-09-15T00:00:00\",\"2005-09-16T00:00:00\",\"2005-09-19T00:00:00\",\"2005-09-20T00:00:00\",\"2005-09-21T00:00:00\",\"2005-09-22T00:00:00\",\"2005-09-23T00:00:00\",\"2005-09-26T00:00:00\",\"2005-09-27T00:00:00\",\"2005-09-28T00:00:00\",\"2005-09-29T00:00:00\",\"2005-09-30T00:00:00\",\"2005-10-03T00:00:00\",\"2005-10-04T00:00:00\",\"2005-10-05T00:00:00\",\"2005-10-06T00:00:00\",\"2005-10-07T00:00:00\",\"2005-10-10T00:00:00\",\"2005-10-11T00:00:00\",\"2005-10-12T00:00:00\",\"2005-10-13T00:00:00\",\"2005-10-14T00:00:00\",\"2005-10-17T00:00:00\",\"2005-10-18T00:00:00\",\"2005-10-19T00:00:00\",\"2005-10-20T00:00:00\",\"2005-10-21T00:00:00\",\"2005-10-24T00:00:00\",\"2005-10-25T00:00:00\",\"2005-10-26T00:00:00\",\"2005-10-27T00:00:00\",\"2005-10-28T00:00:00\",\"2005-10-31T00:00:00\",\"2005-11-01T00:00:00\",\"2005-11-02T00:00:00\",\"2005-11-03T00:00:00\",\"2005-11-04T00:00:00\",\"2005-11-07T00:00:00\",\"2005-11-08T00:00:00\",\"2005-11-09T00:00:00\",\"2005-11-10T00:00:00\",\"2005-11-11T00:00:00\",\"2005-11-14T00:00:00\",\"2005-11-15T00:00:00\",\"2005-11-16T00:00:00\",\"2005-11-17T00:00:00\",\"2005-11-18T00:00:00\",\"2005-11-21T00:00:00\",\"2005-11-22T00:00:00\",\"2005-11-23T00:00:00\",\"2005-11-25T00:00:00\",\"2005-11-28T00:00:00\",\"2005-11-29T00:00:00\",\"2005-11-30T00:00:00\",\"2005-12-01T00:00:00\",\"2005-12-02T00:00:00\",\"2005-12-05T00:00:00\",\"2005-12-06T00:00:00\",\"2005-12-07T00:00:00\",\"2005-12-08T00:00:00\",\"2005-12-09T00:00:00\",\"2005-12-12T00:00:00\",\"2005-12-13T00:00:00\",\"2005-12-14T00:00:00\",\"2005-12-15T00:00:00\",\"2005-12-16T00:00:00\",\"2005-12-19T00:00:00\",\"2005-12-20T00:00:00\",\"2005-12-21T00:00:00\",\"2005-12-22T00:00:00\",\"2005-12-23T00:00:00\",\"2005-12-27T00:00:00\",\"2005-12-28T00:00:00\",\"2005-12-29T00:00:00\",\"2005-12-30T00:00:00\",\"2006-01-03T00:00:00\",\"2006-01-04T00:00:00\",\"2006-01-05T00:00:00\",\"2006-01-06T00:00:00\",\"2006-01-09T00:00:00\",\"2006-01-10T00:00:00\",\"2006-01-11T00:00:00\",\"2006-01-12T00:00:00\",\"2006-01-13T00:00:00\",\"2006-01-17T00:00:00\",\"2006-01-18T00:00:00\",\"2006-01-19T00:00:00\",\"2006-01-20T00:00:00\",\"2006-01-23T00:00:00\",\"2006-01-24T00:00:00\",\"2006-01-25T00:00:00\",\"2006-01-26T00:00:00\",\"2006-01-27T00:00:00\",\"2006-01-30T00:00:00\",\"2006-01-31T00:00:00\",\"2006-02-01T00:00:00\",\"2006-02-02T00:00:00\",\"2006-02-03T00:00:00\",\"2006-02-06T00:00:00\",\"2006-02-07T00:00:00\",\"2006-02-08T00:00:00\",\"2006-02-09T00:00:00\",\"2006-02-10T00:00:00\",\"2006-02-13T00:00:00\",\"2006-02-14T00:00:00\",\"2006-02-15T00:00:00\",\"2006-02-16T00:00:00\",\"2006-02-17T00:00:00\",\"2006-02-21T00:00:00\",\"2006-02-22T00:00:00\",\"2006-02-23T00:00:00\",\"2006-02-24T00:00:00\",\"2006-02-27T00:00:00\",\"2006-02-28T00:00:00\",\"2006-03-01T00:00:00\",\"2006-03-02T00:00:00\",\"2006-03-03T00:00:00\",\"2006-03-06T00:00:00\",\"2006-03-07T00:00:00\",\"2006-03-08T00:00:00\",\"2006-03-09T00:00:00\",\"2006-03-10T00:00:00\",\"2006-03-13T00:00:00\",\"2006-03-14T00:00:00\",\"2006-03-15T00:00:00\",\"2006-03-16T00:00:00\",\"2006-03-17T00:00:00\",\"2006-03-20T00:00:00\",\"2006-03-21T00:00:00\",\"2006-03-22T00:00:00\",\"2006-03-23T00:00:00\",\"2006-03-24T00:00:00\",\"2006-03-27T00:00:00\",\"2006-03-28T00:00:00\",\"2006-03-29T00:00:00\",\"2006-03-30T00:00:00\",\"2006-03-31T00:00:00\",\"2006-04-03T00:00:00\",\"2006-04-04T00:00:00\",\"2006-04-05T00:00:00\",\"2006-04-06T00:00:00\",\"2006-04-07T00:00:00\",\"2006-04-10T00:00:00\",\"2006-04-11T00:00:00\",\"2006-04-12T00:00:00\",\"2006-04-13T00:00:00\",\"2006-04-17T00:00:00\",\"2006-04-18T00:00:00\",\"2006-04-19T00:00:00\",\"2006-04-20T00:00:00\",\"2006-04-21T00:00:00\",\"2006-04-24T00:00:00\",\"2006-04-25T00:00:00\",\"2006-04-26T00:00:00\",\"2006-04-27T00:00:00\",\"2006-04-28T00:00:00\",\"2006-05-01T00:00:00\",\"2006-05-02T00:00:00\",\"2006-05-03T00:00:00\",\"2006-05-04T00:00:00\",\"2006-05-05T00:00:00\",\"2006-05-08T00:00:00\",\"2006-05-09T00:00:00\",\"2006-05-10T00:00:00\",\"2006-05-11T00:00:00\",\"2006-05-12T00:00:00\",\"2006-05-15T00:00:00\",\"2006-05-16T00:00:00\",\"2006-05-17T00:00:00\",\"2006-05-18T00:00:00\",\"2006-05-19T00:00:00\",\"2006-05-22T00:00:00\",\"2006-05-23T00:00:00\",\"2006-05-24T00:00:00\",\"2006-05-25T00:00:00\",\"2006-05-26T00:00:00\",\"2006-05-30T00:00:00\",\"2006-05-31T00:00:00\",\"2006-06-01T00:00:00\",\"2006-06-02T00:00:00\",\"2006-06-05T00:00:00\",\"2006-06-06T00:00:00\",\"2006-06-07T00:00:00\",\"2006-06-08T00:00:00\",\"2006-06-09T00:00:00\",\"2006-06-12T00:00:00\",\"2006-06-13T00:00:00\",\"2006-06-14T00:00:00\",\"2006-06-15T00:00:00\",\"2006-06-16T00:00:00\",\"2006-06-19T00:00:00\",\"2006-06-20T00:00:00\",\"2006-06-21T00:00:00\",\"2006-06-22T00:00:00\",\"2006-06-23T00:00:00\",\"2006-06-26T00:00:00\",\"2006-06-27T00:00:00\",\"2006-06-28T00:00:00\",\"2006-06-29T00:00:00\",\"2006-06-30T00:00:00\",\"2006-07-03T00:00:00\",\"2006-07-05T00:00:00\",\"2006-07-06T00:00:00\",\"2006-07-07T00:00:00\",\"2006-07-10T00:00:00\",\"2006-07-11T00:00:00\",\"2006-07-12T00:00:00\",\"2006-07-13T00:00:00\",\"2006-07-14T00:00:00\",\"2006-07-17T00:00:00\",\"2006-07-18T00:00:00\",\"2006-07-19T00:00:00\",\"2006-07-20T00:00:00\",\"2006-07-21T00:00:00\",\"2006-07-24T00:00:00\",\"2006-07-25T00:00:00\",\"2006-07-26T00:00:00\",\"2006-07-27T00:00:00\",\"2006-07-28T00:00:00\",\"2006-07-31T00:00:00\",\"2006-08-01T00:00:00\",\"2006-08-02T00:00:00\",\"2006-08-03T00:00:00\",\"2006-08-04T00:00:00\",\"2006-08-07T00:00:00\",\"2006-08-08T00:00:00\",\"2006-08-09T00:00:00\",\"2006-08-10T00:00:00\",\"2006-08-11T00:00:00\",\"2006-08-14T00:00:00\",\"2006-08-15T00:00:00\",\"2006-08-16T00:00:00\",\"2006-08-17T00:00:00\",\"2006-08-18T00:00:00\",\"2006-08-21T00:00:00\",\"2006-08-22T00:00:00\",\"2006-08-23T00:00:00\",\"2006-08-24T00:00:00\",\"2006-08-25T00:00:00\",\"2006-08-28T00:00:00\",\"2006-08-29T00:00:00\",\"2006-08-30T00:00:00\",\"2006-08-31T00:00:00\",\"2006-09-01T00:00:00\",\"2006-09-05T00:00:00\",\"2006-09-06T00:00:00\",\"2006-09-07T00:00:00\",\"2006-09-08T00:00:00\",\"2006-09-11T00:00:00\",\"2006-09-12T00:00:00\",\"2006-09-13T00:00:00\",\"2006-09-14T00:00:00\",\"2006-09-15T00:00:00\",\"2006-09-18T00:00:00\",\"2006-09-19T00:00:00\",\"2006-09-20T00:00:00\",\"2006-09-21T00:00:00\",\"2006-09-22T00:00:00\",\"2006-09-25T00:00:00\",\"2006-09-26T00:00:00\",\"2006-09-27T00:00:00\",\"2006-09-28T00:00:00\",\"2006-09-29T00:00:00\",\"2006-10-02T00:00:00\",\"2006-10-03T00:00:00\",\"2006-10-04T00:00:00\",\"2006-10-05T00:00:00\",\"2006-10-06T00:00:00\",\"2006-10-09T00:00:00\",\"2006-10-10T00:00:00\",\"2006-10-11T00:00:00\",\"2006-10-12T00:00:00\",\"2006-10-13T00:00:00\",\"2006-10-16T00:00:00\",\"2006-10-17T00:00:00\",\"2006-10-18T00:00:00\",\"2006-10-19T00:00:00\",\"2006-10-20T00:00:00\",\"2006-10-23T00:00:00\",\"2006-10-24T00:00:00\",\"2006-10-25T00:00:00\",\"2006-10-26T00:00:00\",\"2006-10-27T00:00:00\",\"2006-10-30T00:00:00\",\"2006-10-31T00:00:00\",\"2006-11-01T00:00:00\",\"2006-11-02T00:00:00\",\"2006-11-03T00:00:00\",\"2006-11-06T00:00:00\",\"2006-11-07T00:00:00\",\"2006-11-08T00:00:00\",\"2006-11-09T00:00:00\",\"2006-11-10T00:00:00\",\"2006-11-13T00:00:00\",\"2006-11-14T00:00:00\",\"2006-11-15T00:00:00\",\"2006-11-16T00:00:00\",\"2006-11-17T00:00:00\",\"2006-11-20T00:00:00\",\"2006-11-21T00:00:00\",\"2006-11-22T00:00:00\",\"2006-11-24T00:00:00\",\"2006-11-27T00:00:00\",\"2006-11-28T00:00:00\",\"2006-11-29T00:00:00\",\"2006-11-30T00:00:00\",\"2006-12-01T00:00:00\",\"2006-12-04T00:00:00\",\"2006-12-05T00:00:00\",\"2006-12-06T00:00:00\",\"2006-12-07T00:00:00\",\"2006-12-08T00:00:00\",\"2006-12-11T00:00:00\",\"2006-12-12T00:00:00\",\"2006-12-13T00:00:00\",\"2006-12-14T00:00:00\",\"2006-12-15T00:00:00\",\"2006-12-18T00:00:00\",\"2006-12-19T00:00:00\",\"2006-12-20T00:00:00\",\"2006-12-21T00:00:00\",\"2006-12-22T00:00:00\",\"2006-12-26T00:00:00\",\"2006-12-27T00:00:00\",\"2006-12-28T00:00:00\",\"2006-12-29T00:00:00\",\"2007-01-03T00:00:00\",\"2007-01-04T00:00:00\",\"2007-01-05T00:00:00\",\"2007-01-08T00:00:00\",\"2007-01-09T00:00:00\",\"2007-01-10T00:00:00\",\"2007-01-11T00:00:00\",\"2007-01-12T00:00:00\",\"2007-01-16T00:00:00\",\"2007-01-17T00:00:00\",\"2007-01-18T00:00:00\",\"2007-01-19T00:00:00\",\"2007-01-22T00:00:00\",\"2007-01-23T00:00:00\",\"2007-01-24T00:00:00\",\"2007-01-25T00:00:00\",\"2007-01-26T00:00:00\",\"2007-01-29T00:00:00\",\"2007-01-30T00:00:00\",\"2007-01-31T00:00:00\",\"2007-02-01T00:00:00\",\"2007-02-02T00:00:00\",\"2007-02-05T00:00:00\",\"2007-02-06T00:00:00\",\"2007-02-07T00:00:00\",\"2007-02-08T00:00:00\",\"2007-02-09T00:00:00\",\"2007-02-12T00:00:00\",\"2007-02-13T00:00:00\",\"2007-02-14T00:00:00\",\"2007-02-15T00:00:00\",\"2007-02-16T00:00:00\",\"2007-02-20T00:00:00\",\"2007-02-21T00:00:00\",\"2007-02-22T00:00:00\",\"2007-02-23T00:00:00\",\"2007-02-26T00:00:00\",\"2007-02-27T00:00:00\",\"2007-02-28T00:00:00\",\"2007-03-01T00:00:00\",\"2007-03-02T00:00:00\",\"2007-03-05T00:00:00\",\"2007-03-06T00:00:00\",\"2007-03-07T00:00:00\",\"2007-03-08T00:00:00\",\"2007-03-09T00:00:00\",\"2007-03-12T00:00:00\",\"2007-03-13T00:00:00\",\"2007-03-14T00:00:00\",\"2007-03-15T00:00:00\",\"2007-03-16T00:00:00\",\"2007-03-19T00:00:00\",\"2007-03-20T00:00:00\",\"2007-03-21T00:00:00\",\"2007-03-22T00:00:00\",\"2007-03-23T00:00:00\",\"2007-03-26T00:00:00\",\"2007-03-27T00:00:00\",\"2007-03-28T00:00:00\",\"2007-03-29T00:00:00\",\"2007-03-30T00:00:00\",\"2007-04-02T00:00:00\",\"2007-04-03T00:00:00\",\"2007-04-04T00:00:00\",\"2007-04-05T00:00:00\",\"2007-04-09T00:00:00\",\"2007-04-10T00:00:00\",\"2007-04-11T00:00:00\",\"2007-04-12T00:00:00\",\"2007-04-13T00:00:00\",\"2007-04-16T00:00:00\",\"2007-04-17T00:00:00\",\"2007-04-18T00:00:00\",\"2007-04-19T00:00:00\",\"2007-04-20T00:00:00\",\"2007-04-23T00:00:00\",\"2007-04-24T00:00:00\",\"2007-04-25T00:00:00\",\"2007-04-26T00:00:00\",\"2007-04-27T00:00:00\",\"2007-04-30T00:00:00\",\"2007-05-01T00:00:00\",\"2007-05-02T00:00:00\",\"2007-05-03T00:00:00\",\"2007-05-04T00:00:00\",\"2007-05-07T00:00:00\",\"2007-05-08T00:00:00\",\"2007-05-09T00:00:00\",\"2007-05-10T00:00:00\",\"2007-05-11T00:00:00\",\"2007-05-14T00:00:00\",\"2007-05-15T00:00:00\",\"2007-05-16T00:00:00\",\"2007-05-17T00:00:00\",\"2007-05-18T00:00:00\",\"2007-05-21T00:00:00\",\"2007-05-22T00:00:00\",\"2007-05-23T00:00:00\",\"2007-05-24T00:00:00\",\"2007-05-25T00:00:00\",\"2007-05-29T00:00:00\",\"2007-05-30T00:00:00\",\"2007-05-31T00:00:00\",\"2007-06-01T00:00:00\",\"2007-06-04T00:00:00\",\"2007-06-05T00:00:00\",\"2007-06-06T00:00:00\",\"2007-06-07T00:00:00\",\"2007-06-08T00:00:00\",\"2007-06-11T00:00:00\",\"2007-06-12T00:00:00\",\"2007-06-13T00:00:00\",\"2007-06-14T00:00:00\",\"2007-06-15T00:00:00\",\"2007-06-18T00:00:00\",\"2007-06-19T00:00:00\",\"2007-06-20T00:00:00\",\"2007-06-21T00:00:00\",\"2007-06-22T00:00:00\",\"2007-06-25T00:00:00\",\"2007-06-26T00:00:00\",\"2007-06-27T00:00:00\",\"2007-06-28T00:00:00\",\"2007-06-29T00:00:00\",\"2007-07-02T00:00:00\",\"2007-07-03T00:00:00\",\"2007-07-05T00:00:00\",\"2007-07-06T00:00:00\",\"2007-07-09T00:00:00\",\"2007-07-10T00:00:00\",\"2007-07-11T00:00:00\",\"2007-07-12T00:00:00\",\"2007-07-13T00:00:00\",\"2007-07-16T00:00:00\",\"2007-07-17T00:00:00\",\"2007-07-18T00:00:00\",\"2007-07-19T00:00:00\",\"2007-07-20T00:00:00\",\"2007-07-23T00:00:00\",\"2007-07-24T00:00:00\",\"2007-07-25T00:00:00\",\"2007-07-26T00:00:00\",\"2007-07-27T00:00:00\",\"2007-07-30T00:00:00\",\"2007-07-31T00:00:00\",\"2007-08-01T00:00:00\",\"2007-08-02T00:00:00\",\"2007-08-03T00:00:00\",\"2007-08-06T00:00:00\",\"2007-08-07T00:00:00\",\"2007-08-08T00:00:00\",\"2007-08-09T00:00:00\",\"2007-08-10T00:00:00\",\"2007-08-13T00:00:00\",\"2007-08-14T00:00:00\",\"2007-08-15T00:00:00\",\"2007-08-16T00:00:00\",\"2007-08-17T00:00:00\",\"2007-08-20T00:00:00\",\"2007-08-21T00:00:00\",\"2007-08-22T00:00:00\",\"2007-08-23T00:00:00\",\"2007-08-24T00:00:00\",\"2007-08-27T00:00:00\",\"2007-08-28T00:00:00\",\"2007-08-29T00:00:00\",\"2007-08-30T00:00:00\",\"2007-08-31T00:00:00\",\"2007-09-04T00:00:00\",\"2007-09-05T00:00:00\",\"2007-09-06T00:00:00\",\"2007-09-07T00:00:00\",\"2007-09-10T00:00:00\",\"2007-09-11T00:00:00\",\"2007-09-12T00:00:00\",\"2007-09-13T00:00:00\",\"2007-09-14T00:00:00\",\"2007-09-17T00:00:00\",\"2007-09-18T00:00:00\",\"2007-09-19T00:00:00\",\"2007-09-20T00:00:00\",\"2007-09-21T00:00:00\",\"2007-09-24T00:00:00\",\"2007-09-25T00:00:00\",\"2007-09-26T00:00:00\",\"2007-09-27T00:00:00\",\"2007-09-28T00:00:00\",\"2007-10-01T00:00:00\",\"2007-10-02T00:00:00\",\"2007-10-03T00:00:00\",\"2007-10-04T00:00:00\",\"2007-10-05T00:00:00\",\"2007-10-08T00:00:00\",\"2007-10-09T00:00:00\",\"2007-10-10T00:00:00\",\"2007-10-11T00:00:00\",\"2007-10-12T00:00:00\",\"2007-10-15T00:00:00\",\"2007-10-16T00:00:00\",\"2007-10-17T00:00:00\",\"2007-10-18T00:00:00\",\"2007-10-19T00:00:00\",\"2007-10-22T00:00:00\",\"2007-10-23T00:00:00\",\"2007-10-24T00:00:00\",\"2007-10-25T00:00:00\",\"2007-10-26T00:00:00\",\"2007-10-29T00:00:00\",\"2007-10-30T00:00:00\",\"2007-10-31T00:00:00\",\"2007-11-01T00:00:00\",\"2007-11-02T00:00:00\",\"2007-11-05T00:00:00\",\"2007-11-06T00:00:00\",\"2007-11-07T00:00:00\",\"2007-11-08T00:00:00\",\"2007-11-09T00:00:00\",\"2007-11-12T00:00:00\",\"2007-11-13T00:00:00\",\"2007-11-14T00:00:00\",\"2007-11-15T00:00:00\",\"2007-11-16T00:00:00\",\"2007-11-19T00:00:00\",\"2007-11-20T00:00:00\",\"2007-11-21T00:00:00\",\"2007-11-23T00:00:00\",\"2007-11-26T00:00:00\",\"2007-11-27T00:00:00\",\"2007-11-28T00:00:00\",\"2007-11-29T00:00:00\",\"2007-11-30T00:00:00\",\"2007-12-03T00:00:00\",\"2007-12-04T00:00:00\",\"2007-12-05T00:00:00\",\"2007-12-06T00:00:00\",\"2007-12-07T00:00:00\",\"2007-12-10T00:00:00\",\"2007-12-11T00:00:00\",\"2007-12-12T00:00:00\",\"2007-12-13T00:00:00\",\"2007-12-14T00:00:00\",\"2007-12-17T00:00:00\",\"2007-12-18T00:00:00\",\"2007-12-19T00:00:00\",\"2007-12-20T00:00:00\",\"2007-12-21T00:00:00\",\"2007-12-24T00:00:00\",\"2007-12-26T00:00:00\",\"2007-12-27T00:00:00\",\"2007-12-28T00:00:00\",\"2007-12-31T00:00:00\",\"2008-01-02T00:00:00\",\"2008-01-03T00:00:00\",\"2008-01-04T00:00:00\",\"2008-01-07T00:00:00\",\"2008-01-08T00:00:00\",\"2008-01-09T00:00:00\",\"2008-01-10T00:00:00\",\"2008-01-11T00:00:00\",\"2008-01-14T00:00:00\",\"2008-01-15T00:00:00\",\"2008-01-16T00:00:00\",\"2008-01-17T00:00:00\",\"2008-01-18T00:00:00\",\"2008-01-22T00:00:00\",\"2008-01-23T00:00:00\",\"2008-01-24T00:00:00\",\"2008-01-25T00:00:00\",\"2008-01-28T00:00:00\",\"2008-01-29T00:00:00\",\"2008-01-30T00:00:00\",\"2008-01-31T00:00:00\",\"2008-02-01T00:00:00\",\"2008-02-04T00:00:00\",\"2008-02-05T00:00:00\",\"2008-02-06T00:00:00\",\"2008-02-07T00:00:00\",\"2008-02-08T00:00:00\",\"2008-02-11T00:00:00\",\"2008-02-12T00:00:00\",\"2008-02-13T00:00:00\",\"2008-02-14T00:00:00\",\"2008-02-15T00:00:00\",\"2008-02-19T00:00:00\",\"2008-02-20T00:00:00\",\"2008-02-21T00:00:00\",\"2008-02-22T00:00:00\",\"2008-02-25T00:00:00\",\"2008-02-26T00:00:00\",\"2008-02-27T00:00:00\",\"2008-02-28T00:00:00\",\"2008-02-29T00:00:00\",\"2008-03-03T00:00:00\",\"2008-03-04T00:00:00\",\"2008-03-05T00:00:00\",\"2008-03-06T00:00:00\",\"2008-03-07T00:00:00\",\"2008-03-10T00:00:00\",\"2008-03-11T00:00:00\",\"2008-03-12T00:00:00\",\"2008-03-13T00:00:00\",\"2008-03-14T00:00:00\",\"2008-03-17T00:00:00\",\"2008-03-18T00:00:00\",\"2008-03-19T00:00:00\",\"2008-03-20T00:00:00\",\"2008-03-24T00:00:00\",\"2008-03-25T00:00:00\",\"2008-03-26T00:00:00\",\"2008-03-27T00:00:00\",\"2008-03-28T00:00:00\",\"2008-03-31T00:00:00\",\"2008-04-01T00:00:00\",\"2008-04-02T00:00:00\",\"2008-04-03T00:00:00\",\"2008-04-04T00:00:00\",\"2008-04-07T00:00:00\",\"2008-04-08T00:00:00\",\"2008-04-09T00:00:00\",\"2008-04-10T00:00:00\",\"2008-04-11T00:00:00\",\"2008-04-14T00:00:00\",\"2008-04-15T00:00:00\",\"2008-04-16T00:00:00\",\"2008-04-17T00:00:00\",\"2008-04-18T00:00:00\",\"2008-04-21T00:00:00\",\"2008-04-22T00:00:00\",\"2008-04-23T00:00:00\",\"2008-04-24T00:00:00\",\"2008-04-25T00:00:00\",\"2008-04-28T00:00:00\",\"2008-04-29T00:00:00\",\"2008-04-30T00:00:00\",\"2008-05-01T00:00:00\",\"2008-05-02T00:00:00\",\"2008-05-05T00:00:00\",\"2008-05-06T00:00:00\",\"2008-05-07T00:00:00\",\"2008-05-08T00:00:00\",\"2008-05-09T00:00:00\",\"2008-05-12T00:00:00\",\"2008-05-13T00:00:00\",\"2008-05-14T00:00:00\",\"2008-05-15T00:00:00\",\"2008-05-16T00:00:00\",\"2008-05-19T00:00:00\",\"2008-05-20T00:00:00\",\"2008-05-21T00:00:00\",\"2008-05-22T00:00:00\",\"2008-05-23T00:00:00\",\"2008-05-27T00:00:00\",\"2008-05-28T00:00:00\",\"2008-05-29T00:00:00\",\"2008-05-30T00:00:00\",\"2008-06-02T00:00:00\",\"2008-06-03T00:00:00\",\"2008-06-04T00:00:00\",\"2008-06-05T00:00:00\",\"2008-06-06T00:00:00\",\"2008-06-09T00:00:00\",\"2008-06-10T00:00:00\",\"2008-06-11T00:00:00\",\"2008-06-12T00:00:00\",\"2008-06-13T00:00:00\",\"2008-06-16T00:00:00\",\"2008-06-17T00:00:00\",\"2008-06-18T00:00:00\",\"2008-06-19T00:00:00\",\"2008-06-20T00:00:00\",\"2008-06-23T00:00:00\",\"2008-06-24T00:00:00\",\"2008-06-25T00:00:00\",\"2008-06-26T00:00:00\",\"2008-06-27T00:00:00\",\"2008-06-30T00:00:00\",\"2008-07-01T00:00:00\",\"2008-07-02T00:00:00\",\"2008-07-03T00:00:00\",\"2008-07-07T00:00:00\",\"2008-07-08T00:00:00\",\"2008-07-09T00:00:00\",\"2008-07-10T00:00:00\",\"2008-07-11T00:00:00\",\"2008-07-14T00:00:00\",\"2008-07-15T00:00:00\",\"2008-07-16T00:00:00\",\"2008-07-17T00:00:00\",\"2008-07-18T00:00:00\",\"2008-07-21T00:00:00\",\"2008-07-22T00:00:00\",\"2008-07-23T00:00:00\",\"2008-07-24T00:00:00\",\"2008-07-25T00:00:00\",\"2008-07-28T00:00:00\",\"2008-07-29T00:00:00\",\"2008-07-30T00:00:00\",\"2008-07-31T00:00:00\",\"2008-08-01T00:00:00\",\"2008-08-04T00:00:00\",\"2008-08-05T00:00:00\",\"2008-08-06T00:00:00\",\"2008-08-07T00:00:00\",\"2008-08-08T00:00:00\",\"2008-08-11T00:00:00\",\"2008-08-12T00:00:00\",\"2008-08-13T00:00:00\",\"2008-08-14T00:00:00\",\"2008-08-15T00:00:00\",\"2008-08-18T00:00:00\",\"2008-08-19T00:00:00\",\"2008-08-20T00:00:00\",\"2008-08-21T00:00:00\",\"2008-08-22T00:00:00\",\"2008-08-25T00:00:00\",\"2008-08-26T00:00:00\",\"2008-08-27T00:00:00\",\"2008-08-28T00:00:00\",\"2008-08-29T00:00:00\",\"2008-09-02T00:00:00\",\"2008-09-03T00:00:00\",\"2008-09-04T00:00:00\",\"2008-09-05T00:00:00\",\"2008-09-08T00:00:00\",\"2008-09-09T00:00:00\",\"2008-09-10T00:00:00\",\"2008-09-11T00:00:00\",\"2008-09-12T00:00:00\",\"2008-09-15T00:00:00\",\"2008-09-16T00:00:00\",\"2008-09-17T00:00:00\",\"2008-09-18T00:00:00\",\"2008-09-19T00:00:00\",\"2008-09-22T00:00:00\",\"2008-09-23T00:00:00\",\"2008-09-24T00:00:00\",\"2008-09-25T00:00:00\",\"2008-09-26T00:00:00\",\"2008-09-29T00:00:00\",\"2008-09-30T00:00:00\",\"2008-10-01T00:00:00\",\"2008-10-02T00:00:00\",\"2008-10-03T00:00:00\",\"2008-10-06T00:00:00\",\"2008-10-07T00:00:00\",\"2008-10-08T00:00:00\",\"2008-10-09T00:00:00\",\"2008-10-10T00:00:00\",\"2008-10-13T00:00:00\",\"2008-10-14T00:00:00\",\"2008-10-15T00:00:00\",\"2008-10-16T00:00:00\",\"2008-10-17T00:00:00\",\"2008-10-20T00:00:00\",\"2008-10-21T00:00:00\",\"2008-10-22T00:00:00\",\"2008-10-23T00:00:00\",\"2008-10-24T00:00:00\",\"2008-10-27T00:00:00\",\"2008-10-28T00:00:00\",\"2008-10-29T00:00:00\",\"2008-10-30T00:00:00\",\"2008-10-31T00:00:00\",\"2008-11-03T00:00:00\",\"2008-11-04T00:00:00\",\"2008-11-05T00:00:00\",\"2008-11-06T00:00:00\",\"2008-11-07T00:00:00\",\"2008-11-10T00:00:00\",\"2008-11-11T00:00:00\",\"2008-11-12T00:00:00\",\"2008-11-13T00:00:00\",\"2008-11-14T00:00:00\",\"2008-11-17T00:00:00\",\"2008-11-18T00:00:00\",\"2008-11-19T00:00:00\",\"2008-11-20T00:00:00\",\"2008-11-21T00:00:00\",\"2008-11-24T00:00:00\",\"2008-11-25T00:00:00\",\"2008-11-26T00:00:00\",\"2008-11-28T00:00:00\",\"2008-12-01T00:00:00\",\"2008-12-02T00:00:00\",\"2008-12-03T00:00:00\",\"2008-12-04T00:00:00\",\"2008-12-05T00:00:00\",\"2008-12-08T00:00:00\",\"2008-12-09T00:00:00\",\"2008-12-10T00:00:00\",\"2008-12-11T00:00:00\",\"2008-12-12T00:00:00\",\"2008-12-15T00:00:00\",\"2008-12-16T00:00:00\",\"2008-12-17T00:00:00\",\"2008-12-18T00:00:00\",\"2008-12-19T00:00:00\",\"2008-12-22T00:00:00\",\"2008-12-23T00:00:00\",\"2008-12-24T00:00:00\",\"2008-12-26T00:00:00\",\"2008-12-29T00:00:00\",\"2008-12-30T00:00:00\",\"2008-12-31T00:00:00\",\"2009-01-02T00:00:00\",\"2009-01-05T00:00:00\",\"2009-01-06T00:00:00\",\"2009-01-07T00:00:00\",\"2009-01-08T00:00:00\",\"2009-01-09T00:00:00\",\"2009-01-12T00:00:00\",\"2009-01-13T00:00:00\",\"2009-01-14T00:00:00\",\"2009-01-15T00:00:00\",\"2009-01-16T00:00:00\",\"2009-01-20T00:00:00\",\"2009-01-21T00:00:00\",\"2009-01-22T00:00:00\",\"2009-01-23T00:00:00\",\"2009-01-26T00:00:00\",\"2009-01-27T00:00:00\",\"2009-01-28T00:00:00\",\"2009-01-29T00:00:00\",\"2009-01-30T00:00:00\",\"2009-02-02T00:00:00\",\"2009-02-03T00:00:00\",\"2009-02-04T00:00:00\",\"2009-02-05T00:00:00\",\"2009-02-06T00:00:00\",\"2009-02-09T00:00:00\",\"2009-02-10T00:00:00\",\"2009-02-11T00:00:00\",\"2009-02-12T00:00:00\",\"2009-02-13T00:00:00\",\"2009-02-17T00:00:00\",\"2009-02-18T00:00:00\",\"2009-02-19T00:00:00\",\"2009-02-20T00:00:00\",\"2009-02-23T00:00:00\",\"2009-02-24T00:00:00\",\"2009-02-25T00:00:00\",\"2009-02-26T00:00:00\",\"2009-02-27T00:00:00\",\"2009-03-02T00:00:00\",\"2009-03-03T00:00:00\",\"2009-03-04T00:00:00\",\"2009-03-05T00:00:00\",\"2009-03-06T00:00:00\",\"2009-03-09T00:00:00\",\"2009-03-10T00:00:00\",\"2009-03-11T00:00:00\",\"2009-03-12T00:00:00\",\"2009-03-13T00:00:00\",\"2009-03-16T00:00:00\",\"2009-03-17T00:00:00\",\"2009-03-18T00:00:00\",\"2009-03-19T00:00:00\",\"2009-03-20T00:00:00\",\"2009-03-23T00:00:00\",\"2009-03-24T00:00:00\",\"2009-03-25T00:00:00\",\"2009-03-26T00:00:00\",\"2009-03-27T00:00:00\",\"2009-03-30T00:00:00\",\"2009-03-31T00:00:00\",\"2009-04-01T00:00:00\",\"2009-04-02T00:00:00\",\"2009-04-03T00:00:00\",\"2009-04-06T00:00:00\",\"2009-04-07T00:00:00\",\"2009-04-08T00:00:00\",\"2009-04-09T00:00:00\",\"2009-04-13T00:00:00\",\"2009-04-14T00:00:00\",\"2009-04-15T00:00:00\",\"2009-04-16T00:00:00\",\"2009-04-17T00:00:00\",\"2009-04-20T00:00:00\",\"2009-04-21T00:00:00\",\"2009-04-22T00:00:00\",\"2009-04-23T00:00:00\",\"2009-04-24T00:00:00\",\"2009-04-27T00:00:00\",\"2009-04-28T00:00:00\",\"2009-04-29T00:00:00\",\"2009-04-30T00:00:00\",\"2009-05-01T00:00:00\",\"2009-05-04T00:00:00\",\"2009-05-05T00:00:00\",\"2009-05-06T00:00:00\",\"2009-05-07T00:00:00\",\"2009-05-08T00:00:00\",\"2009-05-11T00:00:00\",\"2009-05-12T00:00:00\",\"2009-05-13T00:00:00\",\"2009-05-14T00:00:00\",\"2009-05-15T00:00:00\",\"2009-05-18T00:00:00\",\"2009-05-19T00:00:00\",\"2009-05-20T00:00:00\",\"2009-05-21T00:00:00\",\"2009-05-22T00:00:00\",\"2009-05-26T00:00:00\",\"2009-05-27T00:00:00\",\"2009-05-28T00:00:00\",\"2009-05-29T00:00:00\",\"2009-06-01T00:00:00\",\"2009-06-02T00:00:00\",\"2009-06-03T00:00:00\",\"2009-06-04T00:00:00\",\"2009-06-05T00:00:00\",\"2009-06-08T00:00:00\",\"2009-06-09T00:00:00\",\"2009-06-10T00:00:00\",\"2009-06-11T00:00:00\",\"2009-06-12T00:00:00\",\"2009-06-15T00:00:00\",\"2009-06-16T00:00:00\",\"2009-06-17T00:00:00\",\"2009-06-18T00:00:00\",\"2009-06-19T00:00:00\",\"2009-06-22T00:00:00\",\"2009-06-23T00:00:00\",\"2009-06-24T00:00:00\",\"2009-06-25T00:00:00\",\"2009-06-26T00:00:00\",\"2009-06-29T00:00:00\",\"2009-06-30T00:00:00\",\"2009-07-01T00:00:00\",\"2009-07-02T00:00:00\",\"2009-07-06T00:00:00\",\"2009-07-07T00:00:00\",\"2009-07-08T00:00:00\",\"2009-07-09T00:00:00\",\"2009-07-10T00:00:00\",\"2009-07-13T00:00:00\",\"2009-07-14T00:00:00\",\"2009-07-15T00:00:00\",\"2009-07-16T00:00:00\",\"2009-07-17T00:00:00\",\"2009-07-20T00:00:00\",\"2009-07-21T00:00:00\",\"2009-07-22T00:00:00\",\"2009-07-23T00:00:00\",\"2009-07-24T00:00:00\",\"2009-07-27T00:00:00\",\"2009-07-28T00:00:00\",\"2009-07-29T00:00:00\",\"2009-07-30T00:00:00\",\"2009-07-31T00:00:00\",\"2009-08-03T00:00:00\",\"2009-08-04T00:00:00\",\"2009-08-05T00:00:00\",\"2009-08-06T00:00:00\",\"2009-08-07T00:00:00\",\"2009-08-10T00:00:00\",\"2009-08-11T00:00:00\",\"2009-08-12T00:00:00\",\"2009-08-13T00:00:00\",\"2009-08-14T00:00:00\",\"2009-08-17T00:00:00\",\"2009-08-18T00:00:00\",\"2009-08-19T00:00:00\",\"2009-08-20T00:00:00\",\"2009-08-21T00:00:00\",\"2009-08-24T00:00:00\",\"2009-08-25T00:00:00\",\"2009-08-26T00:00:00\",\"2009-08-27T00:00:00\",\"2009-08-28T00:00:00\",\"2009-08-31T00:00:00\",\"2009-09-01T00:00:00\",\"2009-09-02T00:00:00\",\"2009-09-03T00:00:00\",\"2009-09-04T00:00:00\",\"2009-09-08T00:00:00\",\"2009-09-09T00:00:00\",\"2009-09-10T00:00:00\",\"2009-09-11T00:00:00\",\"2009-09-14T00:00:00\",\"2009-09-15T00:00:00\",\"2009-09-16T00:00:00\",\"2009-09-17T00:00:00\",\"2009-09-18T00:00:00\",\"2009-09-21T00:00:00\",\"2009-09-22T00:00:00\",\"2009-09-23T00:00:00\",\"2009-09-24T00:00:00\",\"2009-09-25T00:00:00\",\"2009-09-28T00:00:00\",\"2009-09-29T00:00:00\",\"2009-09-30T00:00:00\",\"2009-10-01T00:00:00\",\"2009-10-02T00:00:00\",\"2009-10-05T00:00:00\",\"2009-10-06T00:00:00\",\"2009-10-07T00:00:00\",\"2009-10-08T00:00:00\",\"2009-10-09T00:00:00\",\"2009-10-12T00:00:00\",\"2009-10-13T00:00:00\",\"2009-10-14T00:00:00\",\"2009-10-15T00:00:00\",\"2009-10-16T00:00:00\",\"2009-10-19T00:00:00\",\"2009-10-20T00:00:00\",\"2009-10-21T00:00:00\",\"2009-10-22T00:00:00\",\"2009-10-23T00:00:00\",\"2009-10-26T00:00:00\",\"2009-10-27T00:00:00\",\"2009-10-28T00:00:00\",\"2009-10-29T00:00:00\",\"2009-10-30T00:00:00\",\"2009-11-02T00:00:00\",\"2009-11-03T00:00:00\",\"2009-11-04T00:00:00\",\"2009-11-05T00:00:00\",\"2009-11-06T00:00:00\",\"2009-11-09T00:00:00\",\"2009-11-10T00:00:00\",\"2009-11-11T00:00:00\",\"2009-11-12T00:00:00\",\"2009-11-13T00:00:00\",\"2009-11-16T00:00:00\",\"2009-11-17T00:00:00\",\"2009-11-18T00:00:00\",\"2009-11-19T00:00:00\",\"2009-11-20T00:00:00\",\"2009-11-23T00:00:00\",\"2009-11-24T00:00:00\",\"2009-11-25T00:00:00\",\"2009-11-27T00:00:00\",\"2009-11-30T00:00:00\",\"2009-12-01T00:00:00\",\"2009-12-02T00:00:00\",\"2009-12-03T00:00:00\",\"2009-12-04T00:00:00\",\"2009-12-07T00:00:00\",\"2009-12-08T00:00:00\",\"2009-12-09T00:00:00\",\"2009-12-10T00:00:00\",\"2009-12-11T00:00:00\",\"2009-12-14T00:00:00\",\"2009-12-15T00:00:00\",\"2009-12-16T00:00:00\",\"2009-12-17T00:00:00\",\"2009-12-18T00:00:00\",\"2009-12-21T00:00:00\",\"2009-12-22T00:00:00\",\"2009-12-23T00:00:00\",\"2009-12-24T00:00:00\",\"2009-12-28T00:00:00\",\"2009-12-29T00:00:00\",\"2009-12-30T00:00:00\",\"2009-12-31T00:00:00\",\"2010-01-04T00:00:00\",\"2010-01-05T00:00:00\",\"2010-01-06T00:00:00\",\"2010-01-07T00:00:00\",\"2010-01-08T00:00:00\",\"2010-01-11T00:00:00\",\"2010-01-12T00:00:00\",\"2010-01-13T00:00:00\",\"2010-01-14T00:00:00\",\"2010-01-15T00:00:00\",\"2010-01-19T00:00:00\",\"2010-01-20T00:00:00\",\"2010-01-21T00:00:00\",\"2010-01-22T00:00:00\",\"2010-01-25T00:00:00\",\"2010-01-26T00:00:00\",\"2010-01-27T00:00:00\",\"2010-01-28T00:00:00\",\"2010-01-29T00:00:00\",\"2010-02-01T00:00:00\",\"2010-02-02T00:00:00\",\"2010-02-03T00:00:00\",\"2010-02-04T00:00:00\",\"2010-02-05T00:00:00\",\"2010-02-08T00:00:00\",\"2010-02-09T00:00:00\",\"2010-02-10T00:00:00\",\"2010-02-11T00:00:00\",\"2010-02-12T00:00:00\",\"2010-02-16T00:00:00\",\"2010-02-17T00:00:00\",\"2010-02-18T00:00:00\",\"2010-02-19T00:00:00\",\"2010-02-22T00:00:00\",\"2010-02-23T00:00:00\",\"2010-02-24T00:00:00\",\"2010-02-25T00:00:00\",\"2010-02-26T00:00:00\",\"2010-03-01T00:00:00\",\"2010-03-02T00:00:00\",\"2010-03-03T00:00:00\",\"2010-03-04T00:00:00\",\"2010-03-05T00:00:00\",\"2010-03-08T00:00:00\",\"2010-03-09T00:00:00\",\"2010-03-10T00:00:00\",\"2010-03-11T00:00:00\",\"2010-03-12T00:00:00\",\"2010-03-15T00:00:00\",\"2010-03-16T00:00:00\",\"2010-03-17T00:00:00\",\"2010-03-18T00:00:00\",\"2010-03-19T00:00:00\",\"2010-03-22T00:00:00\",\"2010-03-23T00:00:00\",\"2010-03-24T00:00:00\",\"2010-03-25T00:00:00\",\"2010-03-26T00:00:00\",\"2010-03-29T00:00:00\",\"2010-03-30T00:00:00\",\"2010-03-31T00:00:00\",\"2010-04-01T00:00:00\",\"2010-04-05T00:00:00\",\"2010-04-06T00:00:00\",\"2010-04-07T00:00:00\",\"2010-04-08T00:00:00\",\"2010-04-09T00:00:00\",\"2010-04-12T00:00:00\",\"2010-04-13T00:00:00\",\"2010-04-14T00:00:00\",\"2010-04-15T00:00:00\",\"2010-04-16T00:00:00\",\"2010-04-19T00:00:00\",\"2010-04-20T00:00:00\",\"2010-04-21T00:00:00\",\"2010-04-22T00:00:00\",\"2010-04-23T00:00:00\",\"2010-04-26T00:00:00\",\"2010-04-27T00:00:00\",\"2010-04-28T00:00:00\",\"2010-04-29T00:00:00\",\"2010-04-30T00:00:00\",\"2010-05-03T00:00:00\",\"2010-05-04T00:00:00\",\"2010-05-05T00:00:00\",\"2010-05-06T00:00:00\",\"2010-05-07T00:00:00\",\"2010-05-10T00:00:00\",\"2010-05-11T00:00:00\",\"2010-05-12T00:00:00\",\"2010-05-13T00:00:00\",\"2010-05-14T00:00:00\",\"2010-05-17T00:00:00\",\"2010-05-18T00:00:00\",\"2010-05-19T00:00:00\",\"2010-05-20T00:00:00\",\"2010-05-21T00:00:00\",\"2010-05-24T00:00:00\",\"2010-05-25T00:00:00\",\"2010-05-26T00:00:00\",\"2010-05-27T00:00:00\",\"2010-05-28T00:00:00\",\"2010-06-01T00:00:00\",\"2010-06-02T00:00:00\",\"2010-06-03T00:00:00\",\"2010-06-04T00:00:00\",\"2010-06-07T00:00:00\",\"2010-06-08T00:00:00\",\"2010-06-09T00:00:00\",\"2010-06-10T00:00:00\",\"2010-06-11T00:00:00\",\"2010-06-14T00:00:00\",\"2010-06-15T00:00:00\",\"2010-06-16T00:00:00\",\"2010-06-17T00:00:00\",\"2010-06-18T00:00:00\",\"2010-06-21T00:00:00\",\"2010-06-22T00:00:00\",\"2010-06-23T00:00:00\",\"2010-06-24T00:00:00\",\"2010-06-25T00:00:00\",\"2010-06-28T00:00:00\",\"2010-06-29T00:00:00\",\"2010-06-30T00:00:00\",\"2010-07-01T00:00:00\",\"2010-07-02T00:00:00\",\"2010-07-06T00:00:00\",\"2010-07-07T00:00:00\",\"2010-07-08T00:00:00\",\"2010-07-09T00:00:00\",\"2010-07-12T00:00:00\",\"2010-07-13T00:00:00\",\"2010-07-14T00:00:00\",\"2010-07-15T00:00:00\",\"2010-07-16T00:00:00\",\"2010-07-19T00:00:00\",\"2010-07-20T00:00:00\",\"2010-07-21T00:00:00\",\"2010-07-22T00:00:00\",\"2010-07-23T00:00:00\",\"2010-07-26T00:00:00\",\"2010-07-27T00:00:00\",\"2010-07-28T00:00:00\",\"2010-07-29T00:00:00\",\"2010-07-30T00:00:00\",\"2010-08-02T00:00:00\",\"2010-08-03T00:00:00\",\"2010-08-04T00:00:00\",\"2010-08-05T00:00:00\",\"2010-08-06T00:00:00\",\"2010-08-09T00:00:00\",\"2010-08-10T00:00:00\",\"2010-08-11T00:00:00\",\"2010-08-12T00:00:00\",\"2010-08-13T00:00:00\",\"2010-08-16T00:00:00\",\"2010-08-17T00:00:00\",\"2010-08-18T00:00:00\",\"2010-08-19T00:00:00\",\"2010-08-20T00:00:00\",\"2010-08-23T00:00:00\",\"2010-08-24T00:00:00\",\"2010-08-25T00:00:00\",\"2010-08-26T00:00:00\",\"2010-08-27T00:00:00\",\"2010-08-30T00:00:00\",\"2010-08-31T00:00:00\",\"2010-09-01T00:00:00\",\"2010-09-02T00:00:00\",\"2010-09-03T00:00:00\",\"2010-09-07T00:00:00\",\"2010-09-08T00:00:00\",\"2010-09-09T00:00:00\",\"2010-09-10T00:00:00\",\"2010-09-13T00:00:00\",\"2010-09-14T00:00:00\",\"2010-09-15T00:00:00\",\"2010-09-16T00:00:00\",\"2010-09-17T00:00:00\",\"2010-09-20T00:00:00\",\"2010-09-21T00:00:00\",\"2010-09-22T00:00:00\",\"2010-09-23T00:00:00\",\"2010-09-24T00:00:00\",\"2010-09-27T00:00:00\",\"2010-09-28T00:00:00\",\"2010-09-29T00:00:00\",\"2010-09-30T00:00:00\",\"2010-10-01T00:00:00\",\"2010-10-04T00:00:00\",\"2010-10-05T00:00:00\",\"2010-10-06T00:00:00\",\"2010-10-07T00:00:00\",\"2010-10-08T00:00:00\",\"2010-10-11T00:00:00\",\"2010-10-12T00:00:00\",\"2010-10-13T00:00:00\",\"2010-10-14T00:00:00\",\"2010-10-15T00:00:00\",\"2010-10-18T00:00:00\",\"2010-10-19T00:00:00\",\"2010-10-20T00:00:00\",\"2010-10-21T00:00:00\",\"2010-10-22T00:00:00\",\"2010-10-25T00:00:00\",\"2010-10-26T00:00:00\",\"2010-10-27T00:00:00\",\"2010-10-28T00:00:00\",\"2010-10-29T00:00:00\",\"2010-11-01T00:00:00\",\"2010-11-02T00:00:00\",\"2010-11-03T00:00:00\",\"2010-11-04T00:00:00\",\"2010-11-05T00:00:00\",\"2010-11-08T00:00:00\",\"2010-11-09T00:00:00\",\"2010-11-10T00:00:00\",\"2010-11-11T00:00:00\",\"2010-11-12T00:00:00\",\"2010-11-15T00:00:00\",\"2010-11-16T00:00:00\",\"2010-11-17T00:00:00\",\"2010-11-18T00:00:00\",\"2010-11-19T00:00:00\",\"2010-11-22T00:00:00\",\"2010-11-23T00:00:00\",\"2010-11-24T00:00:00\",\"2010-11-26T00:00:00\",\"2010-11-29T00:00:00\",\"2010-11-30T00:00:00\",\"2010-12-01T00:00:00\",\"2010-12-02T00:00:00\",\"2010-12-03T00:00:00\",\"2010-12-06T00:00:00\",\"2010-12-07T00:00:00\",\"2010-12-08T00:00:00\",\"2010-12-09T00:00:00\",\"2010-12-10T00:00:00\",\"2010-12-13T00:00:00\",\"2010-12-14T00:00:00\",\"2010-12-15T00:00:00\",\"2010-12-16T00:00:00\",\"2010-12-17T00:00:00\",\"2010-12-20T00:00:00\",\"2010-12-21T00:00:00\",\"2010-12-22T00:00:00\",\"2010-12-23T00:00:00\",\"2010-12-27T00:00:00\",\"2010-12-28T00:00:00\",\"2010-12-29T00:00:00\",\"2010-12-30T00:00:00\",\"2010-12-31T00:00:00\",\"2011-01-03T00:00:00\",\"2011-01-04T00:00:00\",\"2011-01-05T00:00:00\",\"2011-01-06T00:00:00\",\"2011-01-07T00:00:00\",\"2011-01-10T00:00:00\",\"2011-01-11T00:00:00\",\"2011-01-12T00:00:00\",\"2011-01-13T00:00:00\",\"2011-01-14T00:00:00\",\"2011-01-18T00:00:00\",\"2011-01-19T00:00:00\",\"2011-01-20T00:00:00\",\"2011-01-21T00:00:00\",\"2011-01-24T00:00:00\",\"2011-01-25T00:00:00\",\"2011-01-26T00:00:00\",\"2011-01-27T00:00:00\",\"2011-01-28T00:00:00\",\"2011-01-31T00:00:00\",\"2011-02-01T00:00:00\",\"2011-02-02T00:00:00\",\"2011-02-03T00:00:00\",\"2011-02-04T00:00:00\",\"2011-02-07T00:00:00\",\"2011-02-08T00:00:00\",\"2011-02-09T00:00:00\",\"2011-02-10T00:00:00\",\"2011-02-11T00:00:00\",\"2011-02-14T00:00:00\",\"2011-02-15T00:00:00\",\"2011-02-16T00:00:00\",\"2011-02-17T00:00:00\",\"2011-02-18T00:00:00\",\"2011-02-22T00:00:00\",\"2011-02-23T00:00:00\",\"2011-02-24T00:00:00\",\"2011-02-25T00:00:00\",\"2011-02-28T00:00:00\",\"2011-03-01T00:00:00\",\"2011-03-02T00:00:00\",\"2011-03-03T00:00:00\",\"2011-03-04T00:00:00\",\"2011-03-07T00:00:00\",\"2011-03-08T00:00:00\",\"2011-03-09T00:00:00\",\"2011-03-10T00:00:00\",\"2011-03-11T00:00:00\",\"2011-03-14T00:00:00\",\"2011-03-15T00:00:00\",\"2011-03-16T00:00:00\",\"2011-03-17T00:00:00\",\"2011-03-18T00:00:00\",\"2011-03-21T00:00:00\",\"2011-03-22T00:00:00\",\"2011-03-23T00:00:00\",\"2011-03-24T00:00:00\",\"2011-03-25T00:00:00\",\"2011-03-28T00:00:00\",\"2011-03-29T00:00:00\",\"2011-03-30T00:00:00\",\"2011-03-31T00:00:00\",\"2011-04-01T00:00:00\",\"2011-04-04T00:00:00\",\"2011-04-05T00:00:00\",\"2011-04-06T00:00:00\",\"2011-04-07T00:00:00\",\"2011-04-08T00:00:00\",\"2011-04-11T00:00:00\",\"2011-04-12T00:00:00\",\"2011-04-13T00:00:00\",\"2011-04-14T00:00:00\",\"2011-04-15T00:00:00\",\"2011-04-18T00:00:00\",\"2011-04-19T00:00:00\",\"2011-04-20T00:00:00\",\"2011-04-21T00:00:00\",\"2011-04-25T00:00:00\",\"2011-04-26T00:00:00\",\"2011-04-27T00:00:00\",\"2011-04-28T00:00:00\",\"2011-04-29T00:00:00\",\"2011-05-02T00:00:00\",\"2011-05-03T00:00:00\",\"2011-05-04T00:00:00\",\"2011-05-05T00:00:00\",\"2011-05-06T00:00:00\",\"2011-05-09T00:00:00\",\"2011-05-10T00:00:00\",\"2011-05-11T00:00:00\",\"2011-05-12T00:00:00\",\"2011-05-13T00:00:00\",\"2011-05-16T00:00:00\",\"2011-05-17T00:00:00\",\"2011-05-18T00:00:00\",\"2011-05-19T00:00:00\",\"2011-05-20T00:00:00\",\"2011-05-23T00:00:00\",\"2011-05-24T00:00:00\",\"2011-05-25T00:00:00\",\"2011-05-26T00:00:00\",\"2011-05-27T00:00:00\",\"2011-05-31T00:00:00\",\"2011-06-01T00:00:00\",\"2011-06-02T00:00:00\",\"2011-06-03T00:00:00\",\"2011-06-06T00:00:00\",\"2011-06-07T00:00:00\",\"2011-06-08T00:00:00\",\"2011-06-09T00:00:00\",\"2011-06-10T00:00:00\",\"2011-06-13T00:00:00\",\"2011-06-14T00:00:00\",\"2011-06-15T00:00:00\",\"2011-06-16T00:00:00\",\"2011-06-17T00:00:00\",\"2011-06-20T00:00:00\",\"2011-06-21T00:00:00\",\"2011-06-22T00:00:00\",\"2011-06-23T00:00:00\",\"2011-06-24T00:00:00\",\"2011-06-27T00:00:00\",\"2011-06-28T00:00:00\",\"2011-06-29T00:00:00\",\"2011-06-30T00:00:00\",\"2011-07-01T00:00:00\",\"2011-07-05T00:00:00\",\"2011-07-06T00:00:00\",\"2011-07-07T00:00:00\",\"2011-07-08T00:00:00\",\"2011-07-11T00:00:00\",\"2011-07-12T00:00:00\",\"2011-07-13T00:00:00\",\"2011-07-14T00:00:00\",\"2011-07-15T00:00:00\",\"2011-07-18T00:00:00\",\"2011-07-19T00:00:00\",\"2011-07-20T00:00:00\",\"2011-07-21T00:00:00\",\"2011-07-22T00:00:00\",\"2011-07-25T00:00:00\",\"2011-07-26T00:00:00\",\"2011-07-27T00:00:00\",\"2011-07-28T00:00:00\",\"2011-07-29T00:00:00\",\"2011-08-01T00:00:00\",\"2011-08-02T00:00:00\",\"2011-08-03T00:00:00\",\"2011-08-04T00:00:00\",\"2011-08-05T00:00:00\",\"2011-08-08T00:00:00\",\"2011-08-09T00:00:00\",\"2011-08-10T00:00:00\",\"2011-08-11T00:00:00\",\"2011-08-12T00:00:00\",\"2011-08-15T00:00:00\",\"2011-08-16T00:00:00\",\"2011-08-17T00:00:00\",\"2011-08-18T00:00:00\",\"2011-08-19T00:00:00\",\"2011-08-22T00:00:00\",\"2011-08-23T00:00:00\",\"2011-08-24T00:00:00\",\"2011-08-25T00:00:00\",\"2011-08-26T00:00:00\",\"2011-08-29T00:00:00\",\"2011-08-30T00:00:00\",\"2011-08-31T00:00:00\",\"2011-09-01T00:00:00\",\"2011-09-02T00:00:00\",\"2011-09-06T00:00:00\",\"2011-09-07T00:00:00\",\"2011-09-08T00:00:00\",\"2011-09-09T00:00:00\",\"2011-09-12T00:00:00\",\"2011-09-13T00:00:00\",\"2011-09-14T00:00:00\",\"2011-09-15T00:00:00\",\"2011-09-16T00:00:00\",\"2011-09-19T00:00:00\",\"2011-09-20T00:00:00\",\"2011-09-21T00:00:00\",\"2011-09-22T00:00:00\",\"2011-09-23T00:00:00\",\"2011-09-26T00:00:00\",\"2011-09-27T00:00:00\",\"2011-09-28T00:00:00\",\"2011-09-29T00:00:00\",\"2011-09-30T00:00:00\",\"2011-10-03T00:00:00\",\"2011-10-04T00:00:00\",\"2011-10-05T00:00:00\",\"2011-10-06T00:00:00\",\"2011-10-07T00:00:00\",\"2011-10-10T00:00:00\",\"2011-10-11T00:00:00\",\"2011-10-12T00:00:00\",\"2011-10-13T00:00:00\",\"2011-10-14T00:00:00\",\"2011-10-17T00:00:00\",\"2011-10-18T00:00:00\",\"2011-10-19T00:00:00\",\"2011-10-20T00:00:00\",\"2011-10-21T00:00:00\",\"2011-10-24T00:00:00\",\"2011-10-25T00:00:00\",\"2011-10-26T00:00:00\",\"2011-10-27T00:00:00\",\"2011-10-28T00:00:00\",\"2011-10-31T00:00:00\",\"2011-11-01T00:00:00\",\"2011-11-02T00:00:00\",\"2011-11-03T00:00:00\",\"2011-11-04T00:00:00\",\"2011-11-07T00:00:00\",\"2011-11-08T00:00:00\",\"2011-11-09T00:00:00\",\"2011-11-10T00:00:00\",\"2011-11-11T00:00:00\",\"2011-11-14T00:00:00\",\"2011-11-15T00:00:00\",\"2011-11-16T00:00:00\",\"2011-11-17T00:00:00\",\"2011-11-18T00:00:00\",\"2011-11-21T00:00:00\",\"2011-11-22T00:00:00\",\"2011-11-23T00:00:00\",\"2011-11-25T00:00:00\",\"2011-11-28T00:00:00\",\"2011-11-29T00:00:00\",\"2011-11-30T00:00:00\",\"2011-12-01T00:00:00\",\"2011-12-02T00:00:00\",\"2011-12-05T00:00:00\",\"2011-12-06T00:00:00\",\"2011-12-07T00:00:00\",\"2011-12-08T00:00:00\",\"2011-12-09T00:00:00\",\"2011-12-12T00:00:00\",\"2011-12-13T00:00:00\",\"2011-12-14T00:00:00\",\"2011-12-15T00:00:00\",\"2011-12-16T00:00:00\",\"2011-12-19T00:00:00\",\"2011-12-20T00:00:00\",\"2011-12-21T00:00:00\",\"2011-12-22T00:00:00\",\"2011-12-23T00:00:00\",\"2011-12-27T00:00:00\",\"2011-12-28T00:00:00\",\"2011-12-29T00:00:00\",\"2011-12-30T00:00:00\",\"2012-01-03T00:00:00\",\"2012-01-04T00:00:00\",\"2012-01-05T00:00:00\",\"2012-01-06T00:00:00\",\"2012-01-09T00:00:00\",\"2012-01-10T00:00:00\",\"2012-01-11T00:00:00\",\"2012-01-12T00:00:00\",\"2012-01-13T00:00:00\",\"2012-01-17T00:00:00\",\"2012-01-18T00:00:00\",\"2012-01-19T00:00:00\",\"2012-01-20T00:00:00\",\"2012-01-23T00:00:00\",\"2012-01-24T00:00:00\",\"2012-01-25T00:00:00\",\"2012-01-26T00:00:00\",\"2012-01-27T00:00:00\",\"2012-01-30T00:00:00\",\"2012-01-31T00:00:00\",\"2012-02-01T00:00:00\",\"2012-02-02T00:00:00\",\"2012-02-03T00:00:00\",\"2012-02-06T00:00:00\",\"2012-02-07T00:00:00\",\"2012-02-08T00:00:00\",\"2012-02-09T00:00:00\",\"2012-02-10T00:00:00\",\"2012-02-13T00:00:00\",\"2012-02-14T00:00:00\",\"2012-02-15T00:00:00\",\"2012-02-16T00:00:00\",\"2012-02-17T00:00:00\",\"2012-02-21T00:00:00\",\"2012-02-22T00:00:00\",\"2012-02-23T00:00:00\",\"2012-02-24T00:00:00\",\"2012-02-27T00:00:00\",\"2012-02-28T00:00:00\",\"2012-02-29T00:00:00\",\"2012-03-01T00:00:00\",\"2012-03-02T00:00:00\",\"2012-03-05T00:00:00\",\"2012-03-06T00:00:00\",\"2012-03-07T00:00:00\",\"2012-03-08T00:00:00\",\"2012-03-09T00:00:00\",\"2012-03-12T00:00:00\",\"2012-03-13T00:00:00\",\"2012-03-14T00:00:00\",\"2012-03-15T00:00:00\",\"2012-03-16T00:00:00\",\"2012-03-19T00:00:00\",\"2012-03-20T00:00:00\",\"2012-03-21T00:00:00\",\"2012-03-22T00:00:00\",\"2012-03-23T00:00:00\",\"2012-03-26T00:00:00\",\"2012-03-27T00:00:00\",\"2012-03-28T00:00:00\",\"2012-03-29T00:00:00\",\"2012-03-30T00:00:00\",\"2012-04-02T00:00:00\",\"2012-04-03T00:00:00\",\"2012-04-04T00:00:00\",\"2012-04-05T00:00:00\",\"2012-04-09T00:00:00\",\"2012-04-10T00:00:00\",\"2012-04-11T00:00:00\",\"2012-04-12T00:00:00\",\"2012-04-13T00:00:00\",\"2012-04-16T00:00:00\",\"2012-04-17T00:00:00\",\"2012-04-18T00:00:00\",\"2012-04-19T00:00:00\",\"2012-04-20T00:00:00\",\"2012-04-23T00:00:00\",\"2012-04-24T00:00:00\",\"2012-04-25T00:00:00\",\"2012-04-26T00:00:00\",\"2012-04-27T00:00:00\",\"2012-04-30T00:00:00\",\"2012-05-01T00:00:00\",\"2012-05-02T00:00:00\",\"2012-05-03T00:00:00\",\"2012-05-04T00:00:00\",\"2012-05-07T00:00:00\",\"2012-05-08T00:00:00\",\"2012-05-09T00:00:00\",\"2012-05-10T00:00:00\",\"2012-05-11T00:00:00\",\"2012-05-14T00:00:00\",\"2012-05-15T00:00:00\",\"2012-05-16T00:00:00\",\"2012-05-17T00:00:00\",\"2012-05-18T00:00:00\",\"2012-05-21T00:00:00\",\"2012-05-22T00:00:00\",\"2012-05-23T00:00:00\",\"2012-05-24T00:00:00\",\"2012-05-25T00:00:00\",\"2012-05-29T00:00:00\",\"2012-05-30T00:00:00\",\"2012-05-31T00:00:00\",\"2012-06-01T00:00:00\",\"2012-06-04T00:00:00\",\"2012-06-05T00:00:00\",\"2012-06-06T00:00:00\",\"2012-06-07T00:00:00\",\"2012-06-08T00:00:00\",\"2012-06-11T00:00:00\",\"2012-06-12T00:00:00\",\"2012-06-13T00:00:00\",\"2012-06-14T00:00:00\",\"2012-06-15T00:00:00\",\"2012-06-18T00:00:00\",\"2012-06-19T00:00:00\",\"2012-06-20T00:00:00\",\"2012-06-21T00:00:00\",\"2012-06-22T00:00:00\",\"2012-06-25T00:00:00\",\"2012-06-26T00:00:00\",\"2012-06-27T00:00:00\",\"2012-06-28T00:00:00\",\"2012-06-29T00:00:00\",\"2012-07-02T00:00:00\",\"2012-07-03T00:00:00\",\"2012-07-05T00:00:00\",\"2012-07-06T00:00:00\",\"2012-07-09T00:00:00\",\"2012-07-10T00:00:00\",\"2012-07-11T00:00:00\",\"2012-07-12T00:00:00\",\"2012-07-13T00:00:00\",\"2012-07-16T00:00:00\",\"2012-07-17T00:00:00\",\"2012-07-18T00:00:00\",\"2012-07-19T00:00:00\",\"2012-07-20T00:00:00\",\"2012-07-23T00:00:00\",\"2012-07-24T00:00:00\",\"2012-07-25T00:00:00\",\"2012-07-26T00:00:00\",\"2012-07-27T00:00:00\",\"2012-07-30T00:00:00\",\"2012-07-31T00:00:00\",\"2012-08-01T00:00:00\",\"2012-08-02T00:00:00\",\"2012-08-03T00:00:00\",\"2012-08-06T00:00:00\",\"2012-08-07T00:00:00\",\"2012-08-08T00:00:00\",\"2012-08-09T00:00:00\",\"2012-08-10T00:00:00\",\"2012-08-13T00:00:00\",\"2012-08-14T00:00:00\",\"2012-08-15T00:00:00\",\"2012-08-16T00:00:00\",\"2012-08-17T00:00:00\",\"2012-08-20T00:00:00\",\"2012-08-21T00:00:00\",\"2012-08-22T00:00:00\",\"2012-08-23T00:00:00\",\"2012-08-24T00:00:00\",\"2012-08-27T00:00:00\",\"2012-08-28T00:00:00\",\"2012-08-29T00:00:00\",\"2012-08-30T00:00:00\",\"2012-08-31T00:00:00\",\"2012-09-04T00:00:00\",\"2012-09-05T00:00:00\",\"2012-09-06T00:00:00\",\"2012-09-07T00:00:00\",\"2012-09-10T00:00:00\",\"2012-09-11T00:00:00\",\"2012-09-12T00:00:00\",\"2012-09-13T00:00:00\",\"2012-09-14T00:00:00\",\"2012-09-17T00:00:00\",\"2012-09-18T00:00:00\",\"2012-09-19T00:00:00\",\"2012-09-20T00:00:00\",\"2012-09-21T00:00:00\",\"2012-09-24T00:00:00\",\"2012-09-25T00:00:00\",\"2012-09-26T00:00:00\",\"2012-09-27T00:00:00\",\"2012-09-28T00:00:00\",\"2012-10-01T00:00:00\",\"2012-10-02T00:00:00\",\"2012-10-03T00:00:00\",\"2012-10-04T00:00:00\",\"2012-10-05T00:00:00\",\"2012-10-08T00:00:00\",\"2012-10-09T00:00:00\",\"2012-10-10T00:00:00\",\"2012-10-11T00:00:00\",\"2012-10-12T00:00:00\",\"2012-10-15T00:00:00\",\"2012-10-16T00:00:00\",\"2012-10-17T00:00:00\",\"2012-10-18T00:00:00\",\"2012-10-19T00:00:00\",\"2012-10-22T00:00:00\",\"2012-10-23T00:00:00\",\"2012-10-24T00:00:00\",\"2012-10-25T00:00:00\",\"2012-10-26T00:00:00\",\"2012-10-31T00:00:00\",\"2012-11-01T00:00:00\",\"2012-11-02T00:00:00\",\"2012-11-05T00:00:00\",\"2012-11-06T00:00:00\",\"2012-11-07T00:00:00\",\"2012-11-08T00:00:00\",\"2012-11-09T00:00:00\",\"2012-11-12T00:00:00\",\"2012-11-13T00:00:00\",\"2012-11-14T00:00:00\",\"2012-11-15T00:00:00\",\"2012-11-16T00:00:00\",\"2012-11-19T00:00:00\",\"2012-11-20T00:00:00\",\"2012-11-21T00:00:00\",\"2012-11-23T00:00:00\",\"2012-11-26T00:00:00\",\"2012-11-27T00:00:00\",\"2012-11-28T00:00:00\",\"2012-11-29T00:00:00\",\"2012-11-30T00:00:00\",\"2012-12-03T00:00:00\",\"2012-12-04T00:00:00\",\"2012-12-05T00:00:00\",\"2012-12-06T00:00:00\",\"2012-12-07T00:00:00\",\"2012-12-10T00:00:00\",\"2012-12-11T00:00:00\",\"2012-12-12T00:00:00\",\"2012-12-13T00:00:00\",\"2012-12-14T00:00:00\",\"2012-12-17T00:00:00\",\"2012-12-18T00:00:00\",\"2012-12-19T00:00:00\",\"2012-12-20T00:00:00\",\"2012-12-21T00:00:00\",\"2012-12-24T00:00:00\",\"2012-12-26T00:00:00\",\"2012-12-27T00:00:00\",\"2012-12-28T00:00:00\",\"2012-12-31T00:00:00\",\"2013-01-02T00:00:00\",\"2013-01-03T00:00:00\",\"2013-01-04T00:00:00\",\"2013-01-07T00:00:00\",\"2013-01-08T00:00:00\",\"2013-01-09T00:00:00\",\"2013-01-10T00:00:00\",\"2013-01-11T00:00:00\",\"2013-01-14T00:00:00\",\"2013-01-15T00:00:00\",\"2013-01-16T00:00:00\",\"2013-01-17T00:00:00\",\"2013-01-18T00:00:00\",\"2013-01-22T00:00:00\",\"2013-01-23T00:00:00\",\"2013-01-24T00:00:00\",\"2013-01-25T00:00:00\",\"2013-01-28T00:00:00\",\"2013-01-29T00:00:00\",\"2013-01-30T00:00:00\",\"2013-01-31T00:00:00\",\"2013-02-01T00:00:00\",\"2013-02-04T00:00:00\",\"2013-02-05T00:00:00\",\"2013-02-06T00:00:00\",\"2013-02-07T00:00:00\",\"2013-02-08T00:00:00\",\"2013-02-11T00:00:00\",\"2013-02-12T00:00:00\",\"2013-02-13T00:00:00\",\"2013-02-14T00:00:00\",\"2013-02-15T00:00:00\",\"2013-02-19T00:00:00\",\"2013-02-20T00:00:00\",\"2013-02-21T00:00:00\",\"2013-02-22T00:00:00\",\"2013-02-25T00:00:00\",\"2013-02-26T00:00:00\",\"2013-02-27T00:00:00\",\"2013-02-28T00:00:00\",\"2013-03-01T00:00:00\",\"2013-03-04T00:00:00\",\"2013-03-05T00:00:00\",\"2013-03-06T00:00:00\",\"2013-03-07T00:00:00\",\"2013-03-08T00:00:00\",\"2013-03-11T00:00:00\",\"2013-03-12T00:00:00\",\"2013-03-13T00:00:00\",\"2013-03-14T00:00:00\",\"2013-03-15T00:00:00\",\"2013-03-18T00:00:00\",\"2013-03-19T00:00:00\",\"2013-03-20T00:00:00\",\"2013-03-21T00:00:00\",\"2013-03-22T00:00:00\",\"2013-03-25T00:00:00\",\"2013-03-26T00:00:00\",\"2013-03-27T00:00:00\",\"2013-03-28T00:00:00\",\"2013-04-01T00:00:00\",\"2013-04-02T00:00:00\",\"2013-04-03T00:00:00\",\"2013-04-04T00:00:00\",\"2013-04-05T00:00:00\",\"2013-04-08T00:00:00\",\"2013-04-09T00:00:00\",\"2013-04-10T00:00:00\",\"2013-04-11T00:00:00\",\"2013-04-12T00:00:00\",\"2013-04-15T00:00:00\",\"2013-04-16T00:00:00\",\"2013-04-17T00:00:00\",\"2013-04-18T00:00:00\",\"2013-04-19T00:00:00\",\"2013-04-22T00:00:00\",\"2013-04-23T00:00:00\",\"2013-04-24T00:00:00\",\"2013-04-25T00:00:00\",\"2013-04-26T00:00:00\",\"2013-04-29T00:00:00\",\"2013-04-30T00:00:00\",\"2013-05-01T00:00:00\",\"2013-05-02T00:00:00\",\"2013-05-03T00:00:00\",\"2013-05-06T00:00:00\",\"2013-05-07T00:00:00\",\"2013-05-08T00:00:00\",\"2013-05-09T00:00:00\",\"2013-05-10T00:00:00\",\"2013-05-13T00:00:00\",\"2013-05-14T00:00:00\",\"2013-05-15T00:00:00\",\"2013-05-16T00:00:00\",\"2013-05-17T00:00:00\",\"2013-05-20T00:00:00\",\"2013-05-21T00:00:00\",\"2013-05-22T00:00:00\",\"2013-05-23T00:00:00\",\"2013-05-24T00:00:00\",\"2013-05-28T00:00:00\",\"2013-05-29T00:00:00\",\"2013-05-30T00:00:00\",\"2013-05-31T00:00:00\",\"2013-06-03T00:00:00\",\"2013-06-04T00:00:00\",\"2013-06-05T00:00:00\",\"2013-06-06T00:00:00\",\"2013-06-07T00:00:00\",\"2013-06-10T00:00:00\",\"2013-06-11T00:00:00\",\"2013-06-12T00:00:00\",\"2013-06-13T00:00:00\",\"2013-06-14T00:00:00\",\"2013-06-17T00:00:00\",\"2013-06-18T00:00:00\",\"2013-06-19T00:00:00\",\"2013-06-20T00:00:00\",\"2013-06-21T00:00:00\",\"2013-06-24T00:00:00\",\"2013-06-25T00:00:00\",\"2013-06-26T00:00:00\",\"2013-06-27T00:00:00\",\"2013-06-28T00:00:00\",\"2013-07-01T00:00:00\",\"2013-07-02T00:00:00\",\"2013-07-03T00:00:00\",\"2013-07-05T00:00:00\",\"2013-07-08T00:00:00\",\"2013-07-09T00:00:00\",\"2013-07-10T00:00:00\",\"2013-07-11T00:00:00\",\"2013-07-12T00:00:00\",\"2013-07-15T00:00:00\",\"2013-07-16T00:00:00\",\"2013-07-17T00:00:00\",\"2013-07-18T00:00:00\",\"2013-07-19T00:00:00\",\"2013-07-22T00:00:00\",\"2013-07-23T00:00:00\",\"2013-07-24T00:00:00\",\"2013-07-25T00:00:00\",\"2013-07-26T00:00:00\",\"2013-07-29T00:00:00\",\"2013-07-30T00:00:00\",\"2013-07-31T00:00:00\",\"2013-08-01T00:00:00\",\"2013-08-02T00:00:00\",\"2013-08-05T00:00:00\",\"2013-08-06T00:00:00\",\"2013-08-07T00:00:00\",\"2013-08-08T00:00:00\",\"2013-08-09T00:00:00\",\"2013-08-12T00:00:00\",\"2013-08-13T00:00:00\",\"2013-08-14T00:00:00\",\"2013-08-15T00:00:00\",\"2013-08-16T00:00:00\",\"2013-08-19T00:00:00\",\"2013-08-20T00:00:00\",\"2013-08-21T00:00:00\",\"2013-08-22T00:00:00\",\"2013-08-23T00:00:00\",\"2013-08-26T00:00:00\",\"2013-08-27T00:00:00\",\"2013-08-28T00:00:00\",\"2013-08-29T00:00:00\",\"2013-08-30T00:00:00\",\"2013-09-03T00:00:00\",\"2013-09-04T00:00:00\",\"2013-09-05T00:00:00\",\"2013-09-06T00:00:00\",\"2013-09-09T00:00:00\",\"2013-09-10T00:00:00\",\"2013-09-11T00:00:00\",\"2013-09-12T00:00:00\",\"2013-09-13T00:00:00\",\"2013-09-16T00:00:00\",\"2013-09-17T00:00:00\",\"2013-09-18T00:00:00\",\"2013-09-19T00:00:00\",\"2013-09-20T00:00:00\",\"2013-09-23T00:00:00\",\"2013-09-24T00:00:00\",\"2013-09-25T00:00:00\",\"2013-09-26T00:00:00\",\"2013-09-27T00:00:00\",\"2013-09-30T00:00:00\",\"2013-10-01T00:00:00\",\"2013-10-02T00:00:00\",\"2013-10-03T00:00:00\",\"2013-10-04T00:00:00\",\"2013-10-07T00:00:00\",\"2013-10-08T00:00:00\",\"2013-10-09T00:00:00\",\"2013-10-10T00:00:00\",\"2013-10-11T00:00:00\",\"2013-10-14T00:00:00\",\"2013-10-15T00:00:00\",\"2013-10-16T00:00:00\",\"2013-10-17T00:00:00\",\"2013-10-18T00:00:00\",\"2013-10-21T00:00:00\",\"2013-10-22T00:00:00\",\"2013-10-23T00:00:00\",\"2013-10-24T00:00:00\",\"2013-10-25T00:00:00\",\"2013-10-28T00:00:00\",\"2013-10-29T00:00:00\",\"2013-10-30T00:00:00\",\"2013-10-31T00:00:00\",\"2013-11-01T00:00:00\",\"2013-11-04T00:00:00\",\"2013-11-05T00:00:00\",\"2013-11-06T00:00:00\",\"2013-11-07T00:00:00\",\"2013-11-08T00:00:00\",\"2013-11-11T00:00:00\",\"2013-11-12T00:00:00\",\"2013-11-13T00:00:00\",\"2013-11-14T00:00:00\",\"2013-11-15T00:00:00\",\"2013-11-18T00:00:00\",\"2013-11-19T00:00:00\",\"2013-11-20T00:00:00\",\"2013-11-21T00:00:00\",\"2013-11-22T00:00:00\",\"2013-11-25T00:00:00\",\"2013-11-26T00:00:00\",\"2013-11-27T00:00:00\",\"2013-11-29T00:00:00\",\"2013-12-02T00:00:00\",\"2013-12-03T00:00:00\",\"2013-12-04T00:00:00\",\"2013-12-05T00:00:00\",\"2013-12-06T00:00:00\",\"2013-12-09T00:00:00\",\"2013-12-10T00:00:00\",\"2013-12-11T00:00:00\",\"2013-12-12T00:00:00\",\"2013-12-13T00:00:00\",\"2013-12-16T00:00:00\",\"2013-12-17T00:00:00\",\"2013-12-18T00:00:00\",\"2013-12-19T00:00:00\",\"2013-12-20T00:00:00\",\"2013-12-23T00:00:00\",\"2013-12-24T00:00:00\",\"2013-12-26T00:00:00\",\"2013-12-27T00:00:00\",\"2013-12-30T00:00:00\",\"2013-12-31T00:00:00\",\"2014-01-02T00:00:00\",\"2014-01-03T00:00:00\",\"2014-01-06T00:00:00\",\"2014-01-07T00:00:00\",\"2014-01-08T00:00:00\",\"2014-01-09T00:00:00\",\"2014-01-10T00:00:00\",\"2014-01-13T00:00:00\",\"2014-01-14T00:00:00\",\"2014-01-15T00:00:00\",\"2014-01-16T00:00:00\",\"2014-01-17T00:00:00\",\"2014-01-21T00:00:00\",\"2014-01-22T00:00:00\",\"2014-01-23T00:00:00\",\"2014-01-24T00:00:00\",\"2014-01-27T00:00:00\",\"2014-01-28T00:00:00\",\"2014-01-29T00:00:00\",\"2014-01-30T00:00:00\",\"2014-01-31T00:00:00\",\"2014-02-03T00:00:00\",\"2014-02-04T00:00:00\",\"2014-02-05T00:00:00\",\"2014-02-06T00:00:00\",\"2014-02-07T00:00:00\",\"2014-02-10T00:00:00\",\"2014-02-11T00:00:00\",\"2014-02-12T00:00:00\",\"2014-02-13T00:00:00\",\"2014-02-14T00:00:00\",\"2014-02-18T00:00:00\",\"2014-02-19T00:00:00\",\"2014-02-20T00:00:00\",\"2014-02-21T00:00:00\",\"2014-02-24T00:00:00\",\"2014-02-25T00:00:00\",\"2014-02-26T00:00:00\",\"2014-02-27T00:00:00\",\"2014-02-28T00:00:00\",\"2014-03-03T00:00:00\",\"2014-03-04T00:00:00\",\"2014-03-05T00:00:00\",\"2014-03-06T00:00:00\",\"2014-03-07T00:00:00\",\"2014-03-10T00:00:00\",\"2014-03-11T00:00:00\",\"2014-03-12T00:00:00\",\"2014-03-13T00:00:00\",\"2014-03-14T00:00:00\",\"2014-03-17T00:00:00\",\"2014-03-18T00:00:00\",\"2014-03-19T00:00:00\",\"2014-03-20T00:00:00\",\"2014-03-21T00:00:00\",\"2014-03-24T00:00:00\",\"2014-03-25T00:00:00\",\"2014-03-26T00:00:00\",\"2014-03-27T00:00:00\",\"2014-03-28T00:00:00\",\"2014-03-31T00:00:00\",\"2014-04-01T00:00:00\",\"2014-04-02T00:00:00\",\"2014-04-03T00:00:00\",\"2014-04-04T00:00:00\",\"2014-04-07T00:00:00\",\"2014-04-08T00:00:00\",\"2014-04-09T00:00:00\",\"2014-04-10T00:00:00\",\"2014-04-11T00:00:00\",\"2014-04-14T00:00:00\",\"2014-04-15T00:00:00\",\"2014-04-16T00:00:00\",\"2014-04-17T00:00:00\",\"2014-04-21T00:00:00\",\"2014-04-22T00:00:00\",\"2014-04-23T00:00:00\",\"2014-04-24T00:00:00\",\"2014-04-25T00:00:00\",\"2014-04-28T00:00:00\",\"2014-04-29T00:00:00\",\"2014-04-30T00:00:00\",\"2014-05-01T00:00:00\",\"2014-05-02T00:00:00\",\"2014-05-05T00:00:00\",\"2014-05-06T00:00:00\",\"2014-05-07T00:00:00\",\"2014-05-08T00:00:00\",\"2014-05-09T00:00:00\",\"2014-05-12T00:00:00\",\"2014-05-13T00:00:00\",\"2014-05-14T00:00:00\",\"2014-05-15T00:00:00\",\"2014-05-16T00:00:00\",\"2014-05-19T00:00:00\",\"2014-05-20T00:00:00\",\"2014-05-21T00:00:00\",\"2014-05-22T00:00:00\",\"2014-05-23T00:00:00\",\"2014-05-27T00:00:00\",\"2014-05-28T00:00:00\",\"2014-05-29T00:00:00\",\"2014-05-30T00:00:00\",\"2014-06-02T00:00:00\",\"2014-06-03T00:00:00\",\"2014-06-04T00:00:00\",\"2014-06-05T00:00:00\",\"2014-06-06T00:00:00\",\"2014-06-09T00:00:00\",\"2014-06-10T00:00:00\",\"2014-06-11T00:00:00\",\"2014-06-12T00:00:00\",\"2014-06-13T00:00:00\",\"2014-06-16T00:00:00\",\"2014-06-17T00:00:00\",\"2014-06-18T00:00:00\",\"2014-06-19T00:00:00\",\"2014-06-20T00:00:00\",\"2014-06-23T00:00:00\",\"2014-06-24T00:00:00\",\"2014-06-25T00:00:00\",\"2014-06-26T00:00:00\",\"2014-06-27T00:00:00\",\"2014-06-30T00:00:00\",\"2014-07-01T00:00:00\",\"2014-07-02T00:00:00\",\"2014-07-03T00:00:00\",\"2014-07-07T00:00:00\",\"2014-07-08T00:00:00\",\"2014-07-09T00:00:00\",\"2014-07-10T00:00:00\",\"2014-07-11T00:00:00\",\"2014-07-14T00:00:00\",\"2014-07-15T00:00:00\",\"2014-07-16T00:00:00\",\"2014-07-17T00:00:00\",\"2014-07-18T00:00:00\",\"2014-07-21T00:00:00\",\"2014-07-22T00:00:00\",\"2014-07-23T00:00:00\",\"2014-07-24T00:00:00\",\"2014-07-25T00:00:00\",\"2014-07-28T00:00:00\",\"2014-07-29T00:00:00\",\"2014-07-30T00:00:00\",\"2014-07-31T00:00:00\",\"2014-08-01T00:00:00\",\"2014-08-04T00:00:00\",\"2014-08-05T00:00:00\",\"2014-08-06T00:00:00\",\"2014-08-07T00:00:00\",\"2014-08-08T00:00:00\",\"2014-08-11T00:00:00\",\"2014-08-12T00:00:00\",\"2014-08-13T00:00:00\",\"2014-08-14T00:00:00\",\"2014-08-15T00:00:00\",\"2014-08-18T00:00:00\",\"2014-08-19T00:00:00\",\"2014-08-20T00:00:00\",\"2014-08-21T00:00:00\",\"2014-08-22T00:00:00\",\"2014-08-25T00:00:00\",\"2014-08-26T00:00:00\",\"2014-08-27T00:00:00\",\"2014-08-28T00:00:00\",\"2014-08-29T00:00:00\",\"2014-09-02T00:00:00\",\"2014-09-03T00:00:00\",\"2014-09-04T00:00:00\",\"2014-09-05T00:00:00\",\"2014-09-08T00:00:00\",\"2014-09-09T00:00:00\",\"2014-09-10T00:00:00\",\"2014-09-11T00:00:00\",\"2014-09-12T00:00:00\",\"2014-09-15T00:00:00\",\"2014-09-16T00:00:00\",\"2014-09-17T00:00:00\",\"2014-09-18T00:00:00\",\"2014-09-19T00:00:00\",\"2014-09-22T00:00:00\",\"2014-09-23T00:00:00\",\"2014-09-24T00:00:00\",\"2014-09-25T00:00:00\",\"2014-09-26T00:00:00\",\"2014-09-29T00:00:00\",\"2014-09-30T00:00:00\",\"2014-10-01T00:00:00\",\"2014-10-02T00:00:00\",\"2014-10-03T00:00:00\",\"2014-10-06T00:00:00\",\"2014-10-07T00:00:00\",\"2014-10-08T00:00:00\",\"2014-10-09T00:00:00\",\"2014-10-10T00:00:00\",\"2014-10-13T00:00:00\",\"2014-10-14T00:00:00\",\"2014-10-15T00:00:00\",\"2014-10-16T00:00:00\",\"2014-10-17T00:00:00\",\"2014-10-20T00:00:00\",\"2014-10-21T00:00:00\",\"2014-10-22T00:00:00\",\"2014-10-23T00:00:00\",\"2014-10-24T00:00:00\",\"2014-10-27T00:00:00\",\"2014-10-28T00:00:00\",\"2014-10-29T00:00:00\",\"2014-10-30T00:00:00\",\"2014-10-31T00:00:00\",\"2014-11-03T00:00:00\",\"2014-11-04T00:00:00\",\"2014-11-05T00:00:00\",\"2014-11-06T00:00:00\",\"2014-11-07T00:00:00\",\"2014-11-10T00:00:00\",\"2014-11-11T00:00:00\",\"2014-11-12T00:00:00\",\"2014-11-13T00:00:00\",\"2014-11-14T00:00:00\",\"2014-11-17T00:00:00\",\"2014-11-18T00:00:00\",\"2014-11-19T00:00:00\",\"2014-11-20T00:00:00\",\"2014-11-21T00:00:00\",\"2014-11-24T00:00:00\",\"2014-11-25T00:00:00\",\"2014-11-26T00:00:00\",\"2014-11-28T00:00:00\",\"2014-12-01T00:00:00\",\"2014-12-02T00:00:00\",\"2014-12-03T00:00:00\",\"2014-12-04T00:00:00\",\"2014-12-05T00:00:00\",\"2014-12-08T00:00:00\",\"2014-12-09T00:00:00\",\"2014-12-10T00:00:00\",\"2014-12-11T00:00:00\",\"2014-12-12T00:00:00\",\"2014-12-15T00:00:00\",\"2014-12-16T00:00:00\",\"2014-12-17T00:00:00\",\"2014-12-18T00:00:00\",\"2014-12-19T00:00:00\",\"2014-12-22T00:00:00\",\"2014-12-23T00:00:00\",\"2014-12-24T00:00:00\",\"2014-12-26T00:00:00\",\"2014-12-29T00:00:00\",\"2014-12-30T00:00:00\",\"2014-12-31T00:00:00\",\"2015-01-02T00:00:00\",\"2015-01-05T00:00:00\",\"2015-01-06T00:00:00\",\"2015-01-07T00:00:00\",\"2015-01-08T00:00:00\",\"2015-01-09T00:00:00\",\"2015-01-12T00:00:00\",\"2015-01-13T00:00:00\",\"2015-01-14T00:00:00\",\"2015-01-15T00:00:00\",\"2015-01-16T00:00:00\",\"2015-01-20T00:00:00\",\"2015-01-21T00:00:00\",\"2015-01-22T00:00:00\",\"2015-01-23T00:00:00\",\"2015-01-26T00:00:00\",\"2015-01-27T00:00:00\",\"2015-01-28T00:00:00\",\"2015-01-29T00:00:00\",\"2015-01-30T00:00:00\",\"2015-02-02T00:00:00\",\"2015-02-03T00:00:00\",\"2015-02-04T00:00:00\",\"2015-02-05T00:00:00\",\"2015-02-06T00:00:00\",\"2015-02-09T00:00:00\",\"2015-02-10T00:00:00\",\"2015-02-11T00:00:00\",\"2015-02-12T00:00:00\",\"2015-02-13T00:00:00\",\"2015-02-17T00:00:00\",\"2015-02-18T00:00:00\",\"2015-02-19T00:00:00\",\"2015-02-20T00:00:00\",\"2015-02-23T00:00:00\",\"2015-02-24T00:00:00\",\"2015-02-25T00:00:00\",\"2015-02-26T00:00:00\",\"2015-02-27T00:00:00\",\"2015-03-02T00:00:00\",\"2015-03-03T00:00:00\",\"2015-03-04T00:00:00\",\"2015-03-05T00:00:00\",\"2015-03-06T00:00:00\",\"2015-03-09T00:00:00\",\"2015-03-10T00:00:00\",\"2015-03-11T00:00:00\",\"2015-03-12T00:00:00\",\"2015-03-13T00:00:00\",\"2015-03-16T00:00:00\",\"2015-03-17T00:00:00\",\"2015-03-18T00:00:00\",\"2015-03-19T00:00:00\",\"2015-03-20T00:00:00\",\"2015-03-23T00:00:00\",\"2015-03-24T00:00:00\",\"2015-03-25T00:00:00\",\"2015-03-26T00:00:00\",\"2015-03-27T00:00:00\",\"2015-03-30T00:00:00\",\"2015-03-31T00:00:00\",\"2015-04-01T00:00:00\",\"2015-04-02T00:00:00\",\"2015-04-06T00:00:00\",\"2015-04-07T00:00:00\",\"2015-04-08T00:00:00\",\"2015-04-09T00:00:00\",\"2015-04-10T00:00:00\",\"2015-04-13T00:00:00\",\"2015-04-14T00:00:00\",\"2015-04-15T00:00:00\",\"2015-04-16T00:00:00\",\"2015-04-17T00:00:00\",\"2015-04-20T00:00:00\",\"2015-04-21T00:00:00\",\"2015-04-22T00:00:00\",\"2015-04-23T00:00:00\",\"2015-04-24T00:00:00\",\"2015-04-27T00:00:00\",\"2015-04-28T00:00:00\",\"2015-04-29T00:00:00\",\"2015-04-30T00:00:00\",\"2015-05-01T00:00:00\",\"2015-05-04T00:00:00\",\"2015-05-05T00:00:00\",\"2015-05-06T00:00:00\",\"2015-05-07T00:00:00\",\"2015-05-08T00:00:00\",\"2015-05-11T00:00:00\",\"2015-05-12T00:00:00\",\"2015-05-13T00:00:00\",\"2015-05-14T00:00:00\",\"2015-05-15T00:00:00\",\"2015-05-18T00:00:00\",\"2015-05-19T00:00:00\",\"2015-05-20T00:00:00\",\"2015-05-21T00:00:00\",\"2015-05-22T00:00:00\",\"2015-05-26T00:00:00\",\"2015-05-27T00:00:00\",\"2015-05-28T00:00:00\",\"2015-05-29T00:00:00\",\"2015-06-01T00:00:00\",\"2015-06-02T00:00:00\",\"2015-06-03T00:00:00\",\"2015-06-04T00:00:00\",\"2015-06-05T00:00:00\",\"2015-06-08T00:00:00\",\"2015-06-09T00:00:00\",\"2015-06-10T00:00:00\",\"2015-06-11T00:00:00\",\"2015-06-12T00:00:00\",\"2015-06-15T00:00:00\",\"2015-06-16T00:00:00\",\"2015-06-17T00:00:00\",\"2015-06-18T00:00:00\",\"2015-06-19T00:00:00\",\"2015-06-22T00:00:00\",\"2015-06-23T00:00:00\",\"2015-06-24T00:00:00\",\"2015-06-25T00:00:00\",\"2015-06-26T00:00:00\",\"2015-06-29T00:00:00\",\"2015-06-30T00:00:00\",\"2015-07-01T00:00:00\",\"2015-07-02T00:00:00\",\"2015-07-06T00:00:00\",\"2015-07-07T00:00:00\",\"2015-07-08T00:00:00\",\"2015-07-09T00:00:00\",\"2015-07-10T00:00:00\",\"2015-07-13T00:00:00\",\"2015-07-14T00:00:00\",\"2015-07-15T00:00:00\",\"2015-07-16T00:00:00\",\"2015-07-17T00:00:00\",\"2015-07-20T00:00:00\",\"2015-07-21T00:00:00\",\"2015-07-22T00:00:00\",\"2015-07-23T00:00:00\",\"2015-07-24T00:00:00\",\"2015-07-27T00:00:00\",\"2015-07-28T00:00:00\",\"2015-07-29T00:00:00\",\"2015-07-30T00:00:00\",\"2015-07-31T00:00:00\",\"2015-08-03T00:00:00\",\"2015-08-04T00:00:00\",\"2015-08-05T00:00:00\",\"2015-08-06T00:00:00\",\"2015-08-07T00:00:00\",\"2015-08-10T00:00:00\",\"2015-08-11T00:00:00\",\"2015-08-12T00:00:00\",\"2015-08-13T00:00:00\",\"2015-08-14T00:00:00\",\"2015-08-17T00:00:00\",\"2015-08-18T00:00:00\",\"2015-08-19T00:00:00\",\"2015-08-20T00:00:00\",\"2015-08-21T00:00:00\",\"2015-08-24T00:00:00\",\"2015-08-25T00:00:00\",\"2015-08-26T00:00:00\",\"2015-08-27T00:00:00\",\"2015-08-28T00:00:00\",\"2015-08-31T00:00:00\",\"2015-09-01T00:00:00\",\"2015-09-02T00:00:00\",\"2015-09-03T00:00:00\",\"2015-09-04T00:00:00\",\"2015-09-08T00:00:00\",\"2015-09-09T00:00:00\",\"2015-09-10T00:00:00\",\"2015-09-11T00:00:00\",\"2015-09-14T00:00:00\",\"2015-09-15T00:00:00\",\"2015-09-16T00:00:00\",\"2015-09-17T00:00:00\",\"2015-09-18T00:00:00\",\"2015-09-21T00:00:00\",\"2015-09-22T00:00:00\",\"2015-09-23T00:00:00\",\"2015-09-24T00:00:00\",\"2015-09-25T00:00:00\",\"2015-09-28T00:00:00\",\"2015-09-29T00:00:00\",\"2015-09-30T00:00:00\",\"2015-10-01T00:00:00\",\"2015-10-02T00:00:00\",\"2015-10-05T00:00:00\",\"2015-10-06T00:00:00\",\"2015-10-07T00:00:00\",\"2015-10-08T00:00:00\",\"2015-10-09T00:00:00\",\"2015-10-12T00:00:00\",\"2015-10-13T00:00:00\",\"2015-10-14T00:00:00\",\"2015-10-15T00:00:00\",\"2015-10-16T00:00:00\",\"2015-10-19T00:00:00\",\"2015-10-20T00:00:00\",\"2015-10-21T00:00:00\",\"2015-10-22T00:00:00\",\"2015-10-23T00:00:00\",\"2015-10-26T00:00:00\",\"2015-10-27T00:00:00\",\"2015-10-28T00:00:00\",\"2015-10-29T00:00:00\",\"2015-10-30T00:00:00\",\"2015-11-02T00:00:00\",\"2015-11-03T00:00:00\",\"2015-11-04T00:00:00\",\"2015-11-05T00:00:00\",\"2015-11-06T00:00:00\",\"2015-11-09T00:00:00\",\"2015-11-10T00:00:00\",\"2015-11-11T00:00:00\",\"2015-11-12T00:00:00\",\"2015-11-13T00:00:00\",\"2015-11-16T00:00:00\",\"2015-11-17T00:00:00\",\"2015-11-18T00:00:00\",\"2015-11-19T00:00:00\",\"2015-11-20T00:00:00\",\"2015-11-23T00:00:00\",\"2015-11-24T00:00:00\",\"2015-11-25T00:00:00\",\"2015-11-27T00:00:00\",\"2015-11-30T00:00:00\",\"2015-12-01T00:00:00\",\"2015-12-02T00:00:00\",\"2015-12-03T00:00:00\",\"2015-12-04T00:00:00\",\"2015-12-07T00:00:00\",\"2015-12-08T00:00:00\",\"2015-12-09T00:00:00\",\"2015-12-10T00:00:00\",\"2015-12-11T00:00:00\",\"2015-12-14T00:00:00\",\"2015-12-15T00:00:00\",\"2015-12-16T00:00:00\",\"2015-12-17T00:00:00\",\"2015-12-18T00:00:00\",\"2015-12-21T00:00:00\",\"2015-12-22T00:00:00\",\"2015-12-23T00:00:00\",\"2015-12-24T00:00:00\",\"2015-12-28T00:00:00\",\"2015-12-29T00:00:00\",\"2015-12-30T00:00:00\",\"2015-12-31T00:00:00\",\"2016-01-04T00:00:00\",\"2016-01-05T00:00:00\",\"2016-01-06T00:00:00\",\"2016-01-07T00:00:00\",\"2016-01-08T00:00:00\",\"2016-01-11T00:00:00\",\"2016-01-12T00:00:00\",\"2016-01-13T00:00:00\",\"2016-01-14T00:00:00\",\"2016-01-15T00:00:00\",\"2016-01-19T00:00:00\",\"2016-01-20T00:00:00\",\"2016-01-21T00:00:00\",\"2016-01-22T00:00:00\",\"2016-01-25T00:00:00\",\"2016-01-26T00:00:00\",\"2016-01-27T00:00:00\",\"2016-01-28T00:00:00\",\"2016-01-29T00:00:00\",\"2016-02-01T00:00:00\",\"2016-02-02T00:00:00\",\"2016-02-03T00:00:00\",\"2016-02-04T00:00:00\",\"2016-02-05T00:00:00\",\"2016-02-08T00:00:00\",\"2016-02-09T00:00:00\",\"2016-02-10T00:00:00\",\"2016-02-11T00:00:00\",\"2016-02-12T00:00:00\",\"2016-02-16T00:00:00\",\"2016-02-17T00:00:00\",\"2016-02-18T00:00:00\",\"2016-02-19T00:00:00\",\"2016-02-22T00:00:00\",\"2016-02-23T00:00:00\",\"2016-02-24T00:00:00\",\"2016-02-25T00:00:00\",\"2016-02-26T00:00:00\",\"2016-02-29T00:00:00\",\"2016-03-01T00:00:00\",\"2016-03-02T00:00:00\",\"2016-03-03T00:00:00\",\"2016-03-04T00:00:00\",\"2016-03-07T00:00:00\",\"2016-03-08T00:00:00\",\"2016-03-09T00:00:00\",\"2016-03-10T00:00:00\",\"2016-03-11T00:00:00\",\"2016-03-14T00:00:00\",\"2016-03-15T00:00:00\",\"2016-03-16T00:00:00\",\"2016-03-17T00:00:00\",\"2016-03-18T00:00:00\",\"2016-03-21T00:00:00\",\"2016-03-22T00:00:00\",\"2016-03-23T00:00:00\",\"2016-03-24T00:00:00\",\"2016-03-28T00:00:00\",\"2016-03-29T00:00:00\",\"2016-03-30T00:00:00\",\"2016-03-31T00:00:00\",\"2016-04-01T00:00:00\",\"2016-04-04T00:00:00\",\"2016-04-05T00:00:00\",\"2016-04-06T00:00:00\",\"2016-04-07T00:00:00\",\"2016-04-08T00:00:00\",\"2016-04-11T00:00:00\",\"2016-04-12T00:00:00\",\"2016-04-13T00:00:00\",\"2016-04-14T00:00:00\",\"2016-04-15T00:00:00\",\"2016-04-18T00:00:00\",\"2016-04-19T00:00:00\",\"2016-04-20T00:00:00\",\"2016-04-21T00:00:00\",\"2016-04-22T00:00:00\",\"2016-04-25T00:00:00\",\"2016-04-26T00:00:00\",\"2016-04-27T00:00:00\",\"2016-04-28T00:00:00\",\"2016-04-29T00:00:00\",\"2016-05-02T00:00:00\",\"2016-05-03T00:00:00\",\"2016-05-04T00:00:00\",\"2016-05-05T00:00:00\",\"2016-05-06T00:00:00\",\"2016-05-09T00:00:00\",\"2016-05-10T00:00:00\",\"2016-05-11T00:00:00\",\"2016-05-12T00:00:00\",\"2016-05-13T00:00:00\",\"2016-05-16T00:00:00\",\"2016-05-17T00:00:00\",\"2016-05-18T00:00:00\",\"2016-05-19T00:00:00\",\"2016-05-20T00:00:00\",\"2016-05-23T00:00:00\",\"2016-05-24T00:00:00\",\"2016-05-25T00:00:00\",\"2016-05-26T00:00:00\",\"2016-05-27T00:00:00\",\"2016-05-31T00:00:00\",\"2016-06-01T00:00:00\",\"2016-06-02T00:00:00\",\"2016-06-03T00:00:00\",\"2016-06-06T00:00:00\",\"2016-06-07T00:00:00\",\"2016-06-08T00:00:00\",\"2016-06-09T00:00:00\",\"2016-06-10T00:00:00\",\"2016-06-13T00:00:00\",\"2016-06-14T00:00:00\",\"2016-06-15T00:00:00\",\"2016-06-16T00:00:00\",\"2016-06-17T00:00:00\",\"2016-06-20T00:00:00\",\"2016-06-21T00:00:00\",\"2016-06-22T00:00:00\",\"2016-06-23T00:00:00\",\"2016-06-24T00:00:00\",\"2016-06-27T00:00:00\",\"2016-06-28T00:00:00\",\"2016-06-29T00:00:00\",\"2016-06-30T00:00:00\",\"2016-07-01T00:00:00\",\"2016-07-05T00:00:00\",\"2016-07-06T00:00:00\",\"2016-07-07T00:00:00\",\"2016-07-08T00:00:00\",\"2016-07-11T00:00:00\",\"2016-07-12T00:00:00\",\"2016-07-13T00:00:00\",\"2016-07-14T00:00:00\",\"2016-07-15T00:00:00\",\"2016-07-18T00:00:00\",\"2016-07-19T00:00:00\",\"2016-07-20T00:00:00\",\"2016-07-21T00:00:00\",\"2016-07-22T00:00:00\",\"2016-07-25T00:00:00\",\"2016-07-26T00:00:00\",\"2016-07-27T00:00:00\",\"2016-07-28T00:00:00\",\"2016-07-29T00:00:00\",\"2016-08-01T00:00:00\",\"2016-08-02T00:00:00\",\"2016-08-03T00:00:00\",\"2016-08-04T00:00:00\",\"2016-08-05T00:00:00\",\"2016-08-08T00:00:00\",\"2016-08-09T00:00:00\",\"2016-08-10T00:00:00\",\"2016-08-11T00:00:00\",\"2016-08-12T00:00:00\",\"2016-08-15T00:00:00\",\"2016-08-16T00:00:00\",\"2016-08-17T00:00:00\",\"2016-08-18T00:00:00\",\"2016-08-19T00:00:00\",\"2016-08-22T00:00:00\",\"2016-08-23T00:00:00\",\"2016-08-24T00:00:00\",\"2016-08-25T00:00:00\",\"2016-08-26T00:00:00\",\"2016-08-29T00:00:00\",\"2016-08-30T00:00:00\",\"2016-08-31T00:00:00\",\"2016-09-01T00:00:00\",\"2016-09-02T00:00:00\",\"2016-09-06T00:00:00\",\"2016-09-07T00:00:00\",\"2016-09-08T00:00:00\",\"2016-09-09T00:00:00\",\"2016-09-12T00:00:00\",\"2016-09-13T00:00:00\",\"2016-09-14T00:00:00\",\"2016-09-15T00:00:00\",\"2016-09-16T00:00:00\",\"2016-09-19T00:00:00\",\"2016-09-20T00:00:00\",\"2016-09-21T00:00:00\",\"2016-09-22T00:00:00\",\"2016-09-23T00:00:00\",\"2016-09-26T00:00:00\",\"2016-09-27T00:00:00\",\"2016-09-28T00:00:00\",\"2016-09-29T00:00:00\",\"2016-09-30T00:00:00\",\"2016-10-03T00:00:00\",\"2016-10-04T00:00:00\",\"2016-10-05T00:00:00\",\"2016-10-06T00:00:00\",\"2016-10-07T00:00:00\",\"2016-10-10T00:00:00\",\"2016-10-11T00:00:00\",\"2016-10-12T00:00:00\",\"2016-10-13T00:00:00\",\"2016-10-14T00:00:00\",\"2016-10-17T00:00:00\",\"2016-10-18T00:00:00\",\"2016-10-19T00:00:00\",\"2016-10-20T00:00:00\",\"2016-10-21T00:00:00\",\"2016-10-24T00:00:00\",\"2016-10-25T00:00:00\",\"2016-10-26T00:00:00\",\"2016-10-27T00:00:00\",\"2016-10-28T00:00:00\",\"2016-10-31T00:00:00\",\"2016-11-01T00:00:00\",\"2016-11-02T00:00:00\",\"2016-11-03T00:00:00\",\"2016-11-04T00:00:00\",\"2016-11-07T00:00:00\",\"2016-11-08T00:00:00\",\"2016-11-09T00:00:00\",\"2016-11-10T00:00:00\",\"2016-11-11T00:00:00\",\"2016-11-14T00:00:00\",\"2016-11-15T00:00:00\",\"2016-11-16T00:00:00\",\"2016-11-17T00:00:00\",\"2016-11-18T00:00:00\",\"2016-11-21T00:00:00\",\"2016-11-22T00:00:00\",\"2016-11-23T00:00:00\",\"2016-11-25T00:00:00\",\"2016-11-28T00:00:00\",\"2016-11-29T00:00:00\",\"2016-11-30T00:00:00\",\"2016-12-01T00:00:00\",\"2016-12-02T00:00:00\",\"2016-12-05T00:00:00\",\"2016-12-06T00:00:00\",\"2016-12-07T00:00:00\",\"2016-12-08T00:00:00\",\"2016-12-09T00:00:00\",\"2016-12-12T00:00:00\",\"2016-12-13T00:00:00\",\"2016-12-14T00:00:00\",\"2016-12-15T00:00:00\",\"2016-12-16T00:00:00\",\"2016-12-19T00:00:00\",\"2016-12-20T00:00:00\",\"2016-12-21T00:00:00\",\"2016-12-22T00:00:00\",\"2016-12-23T00:00:00\",\"2016-12-27T00:00:00\",\"2016-12-28T00:00:00\",\"2016-12-29T00:00:00\",\"2016-12-30T00:00:00\",\"2017-01-03T00:00:00\",\"2017-01-04T00:00:00\",\"2017-01-05T00:00:00\",\"2017-01-06T00:00:00\",\"2017-01-09T00:00:00\",\"2017-01-10T00:00:00\",\"2017-01-11T00:00:00\",\"2017-01-12T00:00:00\",\"2017-01-13T00:00:00\",\"2017-01-17T00:00:00\",\"2017-01-18T00:00:00\",\"2017-01-19T00:00:00\",\"2017-01-20T00:00:00\",\"2017-01-23T00:00:00\",\"2017-01-24T00:00:00\",\"2017-01-25T00:00:00\",\"2017-01-26T00:00:00\",\"2017-01-27T00:00:00\",\"2017-01-30T00:00:00\",\"2017-01-31T00:00:00\",\"2017-02-01T00:00:00\",\"2017-02-02T00:00:00\",\"2017-02-03T00:00:00\",\"2017-02-06T00:00:00\",\"2017-02-07T00:00:00\",\"2017-02-08T00:00:00\",\"2017-02-09T00:00:00\",\"2017-02-10T00:00:00\",\"2017-02-13T00:00:00\",\"2017-02-14T00:00:00\",\"2017-02-15T00:00:00\",\"2017-02-16T00:00:00\",\"2017-02-17T00:00:00\",\"2017-02-21T00:00:00\",\"2017-02-22T00:00:00\",\"2017-02-23T00:00:00\",\"2017-02-24T00:00:00\",\"2017-02-27T00:00:00\",\"2017-02-28T00:00:00\",\"2017-03-01T00:00:00\",\"2017-03-02T00:00:00\",\"2017-03-03T00:00:00\",\"2017-03-06T00:00:00\",\"2017-03-07T00:00:00\",\"2017-03-08T00:00:00\",\"2017-03-09T00:00:00\",\"2017-03-10T00:00:00\",\"2017-03-13T00:00:00\",\"2017-03-14T00:00:00\",\"2017-03-15T00:00:00\",\"2017-03-16T00:00:00\",\"2017-03-17T00:00:00\",\"2017-03-20T00:00:00\",\"2017-03-21T00:00:00\",\"2017-03-22T00:00:00\",\"2017-03-23T00:00:00\",\"2017-03-24T00:00:00\",\"2017-03-27T00:00:00\",\"2017-03-28T00:00:00\",\"2017-03-29T00:00:00\",\"2017-03-30T00:00:00\",\"2017-03-31T00:00:00\",\"2017-04-03T00:00:00\",\"2017-04-04T00:00:00\",\"2017-04-05T00:00:00\",\"2017-04-06T00:00:00\",\"2017-04-07T00:00:00\",\"2017-04-10T00:00:00\",\"2017-04-11T00:00:00\",\"2017-04-12T00:00:00\",\"2017-04-13T00:00:00\",\"2017-04-17T00:00:00\",\"2017-04-18T00:00:00\",\"2017-04-19T00:00:00\",\"2017-04-20T00:00:00\",\"2017-04-21T00:00:00\",\"2017-04-24T00:00:00\",\"2017-04-25T00:00:00\",\"2017-04-26T00:00:00\",\"2017-04-27T00:00:00\",\"2017-04-28T00:00:00\",\"2017-05-01T00:00:00\",\"2017-05-02T00:00:00\",\"2017-05-03T00:00:00\",\"2017-05-04T00:00:00\",\"2017-05-05T00:00:00\",\"2017-05-08T00:00:00\",\"2017-05-09T00:00:00\",\"2017-05-10T00:00:00\",\"2017-05-11T00:00:00\",\"2017-05-12T00:00:00\",\"2017-05-15T00:00:00\",\"2017-05-16T00:00:00\",\"2017-05-17T00:00:00\",\"2017-05-18T00:00:00\",\"2017-05-19T00:00:00\",\"2017-05-22T00:00:00\",\"2017-05-23T00:00:00\",\"2017-05-24T00:00:00\",\"2017-05-25T00:00:00\",\"2017-05-26T00:00:00\",\"2017-05-30T00:00:00\",\"2017-05-31T00:00:00\",\"2017-06-01T00:00:00\",\"2017-06-02T00:00:00\",\"2017-06-05T00:00:00\",\"2017-06-06T00:00:00\",\"2017-06-07T00:00:00\",\"2017-06-08T00:00:00\",\"2017-06-09T00:00:00\",\"2017-06-12T00:00:00\",\"2017-06-13T00:00:00\",\"2017-06-14T00:00:00\",\"2017-06-15T00:00:00\",\"2017-06-16T00:00:00\",\"2017-06-19T00:00:00\",\"2017-06-20T00:00:00\",\"2017-06-21T00:00:00\",\"2017-06-22T00:00:00\",\"2017-06-23T00:00:00\",\"2017-06-26T00:00:00\",\"2017-06-27T00:00:00\",\"2017-06-28T00:00:00\",\"2017-06-29T00:00:00\",\"2017-06-30T00:00:00\",\"2017-07-03T00:00:00\",\"2017-07-05T00:00:00\",\"2017-07-06T00:00:00\",\"2017-07-07T00:00:00\",\"2017-07-10T00:00:00\",\"2017-07-11T00:00:00\",\"2017-07-12T00:00:00\",\"2017-07-13T00:00:00\",\"2017-07-14T00:00:00\",\"2017-07-17T00:00:00\",\"2017-07-18T00:00:00\",\"2017-07-19T00:00:00\",\"2017-07-20T00:00:00\",\"2017-07-21T00:00:00\",\"2017-07-24T00:00:00\",\"2017-07-25T00:00:00\",\"2017-07-26T00:00:00\",\"2017-07-27T00:00:00\",\"2017-07-28T00:00:00\",\"2017-07-31T00:00:00\",\"2017-08-01T00:00:00\",\"2017-08-02T00:00:00\",\"2017-08-03T00:00:00\",\"2017-08-04T00:00:00\",\"2017-08-07T00:00:00\",\"2017-08-08T00:00:00\",\"2017-08-09T00:00:00\",\"2017-08-10T00:00:00\",\"2017-08-11T00:00:00\",\"2017-08-14T00:00:00\",\"2017-08-15T00:00:00\",\"2017-08-16T00:00:00\",\"2017-08-17T00:00:00\",\"2017-08-18T00:00:00\",\"2017-08-21T00:00:00\",\"2017-08-22T00:00:00\",\"2017-08-23T00:00:00\",\"2017-08-24T00:00:00\",\"2017-08-25T00:00:00\",\"2017-08-28T00:00:00\",\"2017-08-29T00:00:00\",\"2017-08-30T00:00:00\",\"2017-08-31T00:00:00\",\"2017-09-01T00:00:00\",\"2017-09-05T00:00:00\",\"2017-09-06T00:00:00\",\"2017-09-07T00:00:00\",\"2017-09-08T00:00:00\",\"2017-09-11T00:00:00\",\"2017-09-12T00:00:00\",\"2017-09-13T00:00:00\",\"2017-09-14T00:00:00\",\"2017-09-15T00:00:00\",\"2017-09-18T00:00:00\",\"2017-09-19T00:00:00\",\"2017-09-20T00:00:00\",\"2017-09-21T00:00:00\",\"2017-09-22T00:00:00\",\"2017-09-25T00:00:00\",\"2017-09-26T00:00:00\",\"2017-09-27T00:00:00\",\"2017-09-28T00:00:00\",\"2017-09-29T00:00:00\",\"2017-10-02T00:00:00\",\"2017-10-03T00:00:00\",\"2017-10-04T00:00:00\",\"2017-10-05T00:00:00\",\"2017-10-06T00:00:00\",\"2017-10-09T00:00:00\",\"2017-10-10T00:00:00\",\"2017-10-11T00:00:00\",\"2017-10-12T00:00:00\",\"2017-10-13T00:00:00\",\"2017-10-16T00:00:00\",\"2017-10-17T00:00:00\",\"2017-10-18T00:00:00\",\"2017-10-19T00:00:00\",\"2017-10-20T00:00:00\",\"2017-10-23T00:00:00\",\"2017-10-24T00:00:00\",\"2017-10-25T00:00:00\",\"2017-10-26T00:00:00\",\"2017-10-27T00:00:00\",\"2017-10-30T00:00:00\",\"2017-10-31T00:00:00\",\"2017-11-01T00:00:00\",\"2017-11-02T00:00:00\",\"2017-11-03T00:00:00\",\"2017-11-06T00:00:00\",\"2017-11-07T00:00:00\",\"2017-11-08T00:00:00\",\"2017-11-09T00:00:00\",\"2017-11-10T00:00:00\",\"2017-11-13T00:00:00\",\"2017-11-14T00:00:00\",\"2017-11-15T00:00:00\",\"2017-11-16T00:00:00\",\"2017-11-17T00:00:00\",\"2017-11-20T00:00:00\",\"2017-11-21T00:00:00\",\"2017-11-22T00:00:00\",\"2017-11-24T00:00:00\",\"2017-11-27T00:00:00\",\"2017-11-28T00:00:00\",\"2017-11-29T00:00:00\",\"2017-11-30T00:00:00\",\"2017-12-01T00:00:00\",\"2017-12-04T00:00:00\",\"2017-12-05T00:00:00\",\"2017-12-06T00:00:00\",\"2017-12-07T00:00:00\",\"2017-12-08T00:00:00\",\"2017-12-11T00:00:00\",\"2017-12-12T00:00:00\",\"2017-12-13T00:00:00\",\"2017-12-14T00:00:00\",\"2017-12-15T00:00:00\",\"2017-12-18T00:00:00\",\"2017-12-19T00:00:00\",\"2017-12-20T00:00:00\",\"2017-12-21T00:00:00\",\"2017-12-22T00:00:00\",\"2017-12-26T00:00:00\",\"2017-12-27T00:00:00\",\"2017-12-28T00:00:00\",\"2017-12-29T00:00:00\",\"2018-01-02T00:00:00\",\"2018-01-03T00:00:00\",\"2018-01-04T00:00:00\",\"2018-01-05T00:00:00\",\"2018-01-08T00:00:00\",\"2018-01-09T00:00:00\",\"2018-01-10T00:00:00\",\"2018-01-11T00:00:00\",\"2018-01-12T00:00:00\",\"2018-01-16T00:00:00\",\"2018-01-17T00:00:00\",\"2018-01-18T00:00:00\",\"2018-01-19T00:00:00\",\"2018-01-22T00:00:00\",\"2018-01-23T00:00:00\",\"2018-01-24T00:00:00\",\"2018-01-25T00:00:00\",\"2018-01-26T00:00:00\",\"2018-01-29T00:00:00\",\"2018-01-30T00:00:00\",\"2018-01-31T00:00:00\",\"2018-02-01T00:00:00\",\"2018-02-02T00:00:00\",\"2018-02-05T00:00:00\",\"2018-02-06T00:00:00\",\"2018-02-07T00:00:00\",\"2018-02-08T00:00:00\",\"2018-02-09T00:00:00\",\"2018-02-12T00:00:00\",\"2018-02-13T00:00:00\",\"2018-02-14T00:00:00\",\"2018-02-15T00:00:00\",\"2018-02-16T00:00:00\",\"2018-02-20T00:00:00\",\"2018-02-21T00:00:00\",\"2018-02-22T00:00:00\",\"2018-02-23T00:00:00\",\"2018-02-26T00:00:00\",\"2018-02-27T00:00:00\",\"2018-02-28T00:00:00\",\"2018-03-01T00:00:00\",\"2018-03-02T00:00:00\",\"2018-03-05T00:00:00\",\"2018-03-06T00:00:00\",\"2018-03-07T00:00:00\",\"2018-03-08T00:00:00\",\"2018-03-09T00:00:00\",\"2018-03-12T00:00:00\",\"2018-03-13T00:00:00\",\"2018-03-14T00:00:00\",\"2018-03-15T00:00:00\",\"2018-03-16T00:00:00\",\"2018-03-19T00:00:00\",\"2018-03-20T00:00:00\",\"2018-03-21T00:00:00\",\"2018-03-22T00:00:00\",\"2018-03-23T00:00:00\",\"2018-03-26T00:00:00\",\"2018-03-27T00:00:00\",\"2018-03-28T00:00:00\",\"2018-03-29T00:00:00\",\"2018-04-02T00:00:00\",\"2018-04-03T00:00:00\",\"2018-04-04T00:00:00\",\"2018-04-05T00:00:00\",\"2018-04-06T00:00:00\",\"2018-04-09T00:00:00\",\"2018-04-10T00:00:00\",\"2018-04-11T00:00:00\",\"2018-04-12T00:00:00\",\"2018-04-13T00:00:00\",\"2018-04-16T00:00:00\",\"2018-04-17T00:00:00\",\"2018-04-18T00:00:00\",\"2018-04-19T00:00:00\",\"2018-04-20T00:00:00\",\"2018-04-23T00:00:00\",\"2018-04-24T00:00:00\",\"2018-04-25T00:00:00\",\"2018-04-26T00:00:00\",\"2018-04-27T00:00:00\",\"2018-04-30T00:00:00\",\"2018-05-01T00:00:00\",\"2018-05-02T00:00:00\",\"2018-05-03T00:00:00\",\"2018-05-04T00:00:00\",\"2018-05-07T00:00:00\",\"2018-05-08T00:00:00\",\"2018-05-09T00:00:00\",\"2018-05-10T00:00:00\",\"2018-05-11T00:00:00\",\"2018-05-14T00:00:00\",\"2018-05-15T00:00:00\",\"2018-05-16T00:00:00\",\"2018-05-17T00:00:00\",\"2018-05-18T00:00:00\",\"2018-05-21T00:00:00\",\"2018-05-22T00:00:00\",\"2018-05-23T00:00:00\",\"2018-05-24T00:00:00\",\"2018-05-25T00:00:00\",\"2018-05-29T00:00:00\",\"2018-05-30T00:00:00\",\"2018-05-31T00:00:00\",\"2018-06-01T00:00:00\",\"2018-06-04T00:00:00\",\"2018-06-05T00:00:00\",\"2018-06-06T00:00:00\",\"2018-06-07T00:00:00\",\"2018-06-08T00:00:00\",\"2018-06-11T00:00:00\",\"2018-06-12T00:00:00\",\"2018-06-13T00:00:00\",\"2018-06-14T00:00:00\",\"2018-06-15T00:00:00\",\"2018-06-18T00:00:00\",\"2018-06-19T00:00:00\",\"2018-06-20T00:00:00\",\"2018-06-21T00:00:00\",\"2018-06-22T00:00:00\",\"2018-06-25T00:00:00\",\"2018-06-26T00:00:00\",\"2018-06-27T00:00:00\",\"2018-06-28T00:00:00\",\"2018-06-29T00:00:00\",\"2018-07-02T00:00:00\",\"2018-07-03T00:00:00\",\"2018-07-05T00:00:00\",\"2018-07-06T00:00:00\",\"2018-07-09T00:00:00\",\"2018-07-10T00:00:00\",\"2018-07-11T00:00:00\",\"2018-07-12T00:00:00\",\"2018-07-13T00:00:00\",\"2018-07-16T00:00:00\",\"2018-07-17T00:00:00\",\"2018-07-18T00:00:00\",\"2018-07-19T00:00:00\",\"2018-07-20T00:00:00\",\"2018-07-23T00:00:00\",\"2018-07-24T00:00:00\",\"2018-07-25T00:00:00\",\"2018-07-26T00:00:00\",\"2018-07-27T00:00:00\",\"2018-07-30T00:00:00\",\"2018-07-31T00:00:00\",\"2018-08-01T00:00:00\",\"2018-08-02T00:00:00\",\"2018-08-03T00:00:00\",\"2018-08-06T00:00:00\",\"2018-08-07T00:00:00\",\"2018-08-08T00:00:00\",\"2018-08-09T00:00:00\",\"2018-08-10T00:00:00\",\"2018-08-13T00:00:00\",\"2018-08-14T00:00:00\",\"2018-08-15T00:00:00\",\"2018-08-16T00:00:00\",\"2018-08-17T00:00:00\",\"2018-08-20T00:00:00\",\"2018-08-21T00:00:00\",\"2018-08-22T00:00:00\",\"2018-08-23T00:00:00\",\"2018-08-24T00:00:00\",\"2018-08-27T00:00:00\",\"2018-08-28T00:00:00\",\"2018-08-29T00:00:00\",\"2018-08-30T00:00:00\",\"2018-08-31T00:00:00\",\"2018-09-04T00:00:00\",\"2018-09-05T00:00:00\",\"2018-09-06T00:00:00\",\"2018-09-07T00:00:00\",\"2018-09-10T00:00:00\",\"2018-09-11T00:00:00\",\"2018-09-12T00:00:00\",\"2018-09-13T00:00:00\",\"2018-09-14T00:00:00\",\"2018-09-17T00:00:00\",\"2018-09-18T00:00:00\",\"2018-09-19T00:00:00\",\"2018-09-20T00:00:00\",\"2018-09-21T00:00:00\",\"2018-09-24T00:00:00\",\"2018-09-25T00:00:00\",\"2018-09-26T00:00:00\",\"2018-09-27T00:00:00\",\"2018-09-28T00:00:00\",\"2018-10-01T00:00:00\",\"2018-10-02T00:00:00\",\"2018-10-03T00:00:00\",\"2018-10-04T00:00:00\",\"2018-10-05T00:00:00\",\"2018-10-08T00:00:00\",\"2018-10-09T00:00:00\",\"2018-10-10T00:00:00\",\"2018-10-11T00:00:00\",\"2018-10-12T00:00:00\",\"2018-10-15T00:00:00\",\"2018-10-16T00:00:00\",\"2018-10-17T00:00:00\",\"2018-10-18T00:00:00\",\"2018-10-19T00:00:00\",\"2018-10-22T00:00:00\",\"2018-10-23T00:00:00\",\"2018-10-24T00:00:00\",\"2018-10-25T00:00:00\",\"2018-10-26T00:00:00\",\"2018-10-29T00:00:00\",\"2018-10-30T00:00:00\",\"2018-10-31T00:00:00\",\"2018-11-01T00:00:00\",\"2018-11-02T00:00:00\",\"2018-11-05T00:00:00\",\"2018-11-06T00:00:00\",\"2018-11-07T00:00:00\",\"2018-11-08T00:00:00\",\"2018-11-09T00:00:00\",\"2018-11-12T00:00:00\",\"2018-11-13T00:00:00\",\"2018-11-14T00:00:00\",\"2018-11-15T00:00:00\",\"2018-11-16T00:00:00\",\"2018-11-19T00:00:00\",\"2018-11-20T00:00:00\",\"2018-11-21T00:00:00\",\"2018-11-23T00:00:00\",\"2018-11-26T00:00:00\",\"2018-11-27T00:00:00\",\"2018-11-28T00:00:00\",\"2018-11-29T00:00:00\",\"2018-11-30T00:00:00\",\"2018-12-03T00:00:00\",\"2018-12-04T00:00:00\",\"2018-12-06T00:00:00\",\"2018-12-07T00:00:00\",\"2018-12-10T00:00:00\",\"2018-12-11T00:00:00\",\"2018-12-12T00:00:00\",\"2018-12-13T00:00:00\",\"2018-12-14T00:00:00\",\"2018-12-17T00:00:00\",\"2018-12-18T00:00:00\",\"2018-12-19T00:00:00\",\"2018-12-20T00:00:00\",\"2018-12-21T00:00:00\",\"2018-12-24T00:00:00\",\"2018-12-26T00:00:00\",\"2018-12-27T00:00:00\",\"2018-12-28T00:00:00\",\"2018-12-31T00:00:00\",\"2019-01-02T00:00:00\",\"2019-01-03T00:00:00\",\"2019-01-04T00:00:00\",\"2019-01-07T00:00:00\",\"2019-01-08T00:00:00\",\"2019-01-09T00:00:00\",\"2019-01-10T00:00:00\",\"2019-01-11T00:00:00\",\"2019-01-14T00:00:00\",\"2019-01-15T00:00:00\",\"2019-01-16T00:00:00\",\"2019-01-17T00:00:00\",\"2019-01-18T00:00:00\",\"2019-01-22T00:00:00\",\"2019-01-23T00:00:00\",\"2019-01-24T00:00:00\",\"2019-01-25T00:00:00\",\"2019-01-28T00:00:00\",\"2019-01-29T00:00:00\",\"2019-01-30T00:00:00\",\"2019-01-31T00:00:00\",\"2019-02-01T00:00:00\",\"2019-02-04T00:00:00\",\"2019-02-05T00:00:00\",\"2019-02-06T00:00:00\",\"2019-02-07T00:00:00\",\"2019-02-08T00:00:00\",\"2019-02-11T00:00:00\",\"2019-02-12T00:00:00\",\"2019-02-13T00:00:00\",\"2019-02-14T00:00:00\",\"2019-02-15T00:00:00\",\"2019-02-19T00:00:00\",\"2019-02-20T00:00:00\",\"2019-02-21T00:00:00\",\"2019-02-22T00:00:00\",\"2019-02-25T00:00:00\",\"2019-02-26T00:00:00\",\"2019-02-27T00:00:00\",\"2019-02-28T00:00:00\",\"2019-03-01T00:00:00\",\"2019-03-04T00:00:00\",\"2019-03-05T00:00:00\",\"2019-03-06T00:00:00\",\"2019-03-07T00:00:00\",\"2019-03-08T00:00:00\",\"2019-03-11T00:00:00\",\"2019-03-12T00:00:00\",\"2019-03-13T00:00:00\",\"2019-03-14T00:00:00\",\"2019-03-15T00:00:00\",\"2019-03-18T00:00:00\",\"2019-03-19T00:00:00\",\"2019-03-20T00:00:00\",\"2019-03-21T00:00:00\",\"2019-03-22T00:00:00\",\"2019-03-25T00:00:00\",\"2019-03-26T00:00:00\",\"2019-03-27T00:00:00\",\"2019-03-28T00:00:00\",\"2019-03-29T00:00:00\",\"2019-04-01T00:00:00\",\"2019-04-02T00:00:00\",\"2019-04-03T00:00:00\",\"2019-04-04T00:00:00\",\"2019-04-05T00:00:00\",\"2019-04-08T00:00:00\",\"2019-04-09T00:00:00\",\"2019-04-10T00:00:00\",\"2019-04-11T00:00:00\",\"2019-04-12T00:00:00\",\"2019-04-15T00:00:00\",\"2019-04-16T00:00:00\",\"2019-04-17T00:00:00\",\"2019-04-18T00:00:00\",\"2019-04-22T00:00:00\",\"2019-04-23T00:00:00\",\"2019-04-24T00:00:00\",\"2019-04-25T00:00:00\",\"2019-04-26T00:00:00\",\"2019-04-29T00:00:00\",\"2019-04-30T00:00:00\",\"2019-05-01T00:00:00\",\"2019-05-02T00:00:00\",\"2019-05-03T00:00:00\",\"2019-05-06T00:00:00\",\"2019-05-07T00:00:00\",\"2019-05-08T00:00:00\",\"2019-05-09T00:00:00\",\"2019-05-10T00:00:00\",\"2019-05-13T00:00:00\",\"2019-05-14T00:00:00\",\"2019-05-15T00:00:00\",\"2019-05-16T00:00:00\",\"2019-05-17T00:00:00\",\"2019-05-20T00:00:00\",\"2019-05-21T00:00:00\",\"2019-05-22T00:00:00\",\"2019-05-23T00:00:00\",\"2019-05-24T00:00:00\",\"2019-05-28T00:00:00\",\"2019-05-29T00:00:00\",\"2019-05-30T00:00:00\",\"2019-05-31T00:00:00\",\"2019-06-03T00:00:00\",\"2019-06-04T00:00:00\",\"2019-06-05T00:00:00\",\"2019-06-06T00:00:00\",\"2019-06-07T00:00:00\",\"2019-06-10T00:00:00\",\"2019-06-11T00:00:00\",\"2019-06-12T00:00:00\",\"2019-06-13T00:00:00\",\"2019-06-14T00:00:00\",\"2019-06-17T00:00:00\",\"2019-06-18T00:00:00\",\"2019-06-19T00:00:00\",\"2019-06-20T00:00:00\",\"2019-06-21T00:00:00\",\"2019-06-24T00:00:00\",\"2019-06-25T00:00:00\",\"2019-06-26T00:00:00\",\"2019-06-27T00:00:00\",\"2019-06-28T00:00:00\",\"2019-07-01T00:00:00\",\"2019-07-02T00:00:00\",\"2019-07-03T00:00:00\",\"2019-07-05T00:00:00\",\"2019-07-08T00:00:00\",\"2019-07-09T00:00:00\",\"2019-07-10T00:00:00\",\"2019-07-11T00:00:00\",\"2019-07-12T00:00:00\",\"2019-07-15T00:00:00\",\"2019-07-16T00:00:00\",\"2019-07-17T00:00:00\",\"2019-07-18T00:00:00\",\"2019-07-19T00:00:00\",\"2019-07-22T00:00:00\",\"2019-07-23T00:00:00\",\"2019-07-24T00:00:00\",\"2019-07-25T00:00:00\",\"2019-07-26T00:00:00\",\"2019-07-29T00:00:00\",\"2019-07-30T00:00:00\",\"2019-07-31T00:00:00\",\"2019-08-01T00:00:00\",\"2019-08-02T00:00:00\",\"2019-08-05T00:00:00\",\"2019-08-06T00:00:00\",\"2019-08-07T00:00:00\",\"2019-08-08T00:00:00\",\"2019-08-09T00:00:00\",\"2019-08-12T00:00:00\",\"2019-08-13T00:00:00\",\"2019-08-14T00:00:00\",\"2019-08-15T00:00:00\",\"2019-08-16T00:00:00\",\"2019-08-19T00:00:00\",\"2019-08-20T00:00:00\",\"2019-08-21T00:00:00\",\"2019-08-22T00:00:00\",\"2019-08-23T00:00:00\",\"2019-08-26T00:00:00\",\"2019-08-27T00:00:00\",\"2019-08-28T00:00:00\",\"2019-08-29T00:00:00\",\"2019-08-30T00:00:00\",\"2019-09-03T00:00:00\",\"2019-09-04T00:00:00\",\"2019-09-05T00:00:00\",\"2019-09-06T00:00:00\",\"2019-09-09T00:00:00\",\"2019-09-10T00:00:00\",\"2019-09-11T00:00:00\",\"2019-09-12T00:00:00\",\"2019-09-13T00:00:00\",\"2019-09-16T00:00:00\",\"2019-09-17T00:00:00\",\"2019-09-18T00:00:00\",\"2019-09-19T00:00:00\",\"2019-09-20T00:00:00\",\"2019-09-23T00:00:00\",\"2019-09-24T00:00:00\",\"2019-09-25T00:00:00\",\"2019-09-26T00:00:00\",\"2019-09-27T00:00:00\",\"2019-09-30T00:00:00\",\"2019-10-01T00:00:00\",\"2019-10-02T00:00:00\",\"2019-10-03T00:00:00\",\"2019-10-04T00:00:00\",\"2019-10-07T00:00:00\",\"2019-10-08T00:00:00\",\"2019-10-09T00:00:00\",\"2019-10-10T00:00:00\",\"2019-10-11T00:00:00\",\"2019-10-14T00:00:00\",\"2019-10-15T00:00:00\",\"2019-10-16T00:00:00\",\"2019-10-17T00:00:00\",\"2019-10-18T00:00:00\",\"2019-10-21T00:00:00\",\"2019-10-22T00:00:00\",\"2019-10-23T00:00:00\",\"2019-10-24T00:00:00\",\"2019-10-25T00:00:00\",\"2019-10-28T00:00:00\",\"2019-10-29T00:00:00\",\"2019-10-30T00:00:00\",\"2019-10-31T00:00:00\",\"2019-11-01T00:00:00\",\"2019-11-04T00:00:00\",\"2019-11-05T00:00:00\",\"2019-11-06T00:00:00\",\"2019-11-07T00:00:00\",\"2019-11-08T00:00:00\",\"2019-11-11T00:00:00\",\"2019-11-12T00:00:00\",\"2019-11-13T00:00:00\",\"2019-11-14T00:00:00\",\"2019-11-15T00:00:00\",\"2019-11-18T00:00:00\",\"2019-11-19T00:00:00\",\"2019-11-20T00:00:00\",\"2019-11-21T00:00:00\",\"2019-11-22T00:00:00\",\"2019-11-25T00:00:00\",\"2019-11-26T00:00:00\",\"2019-11-27T00:00:00\",\"2019-11-29T00:00:00\",\"2019-12-02T00:00:00\",\"2019-12-03T00:00:00\",\"2019-12-04T00:00:00\",\"2019-12-05T00:00:00\",\"2019-12-06T00:00:00\",\"2019-12-09T00:00:00\",\"2019-12-10T00:00:00\",\"2019-12-11T00:00:00\",\"2019-12-12T00:00:00\",\"2019-12-13T00:00:00\",\"2019-12-16T00:00:00\",\"2019-12-17T00:00:00\",\"2019-12-18T00:00:00\",\"2019-12-19T00:00:00\",\"2019-12-20T00:00:00\",\"2019-12-23T00:00:00\",\"2019-12-24T00:00:00\",\"2019-12-26T00:00:00\",\"2019-12-27T00:00:00\",\"2019-12-30T00:00:00\",\"2019-12-31T00:00:00\",\"2020-01-02T00:00:00\",\"2020-01-03T00:00:00\",\"2020-01-06T00:00:00\",\"2020-01-07T00:00:00\",\"2020-01-08T00:00:00\",\"2020-01-09T00:00:00\",\"2020-01-10T00:00:00\",\"2020-01-13T00:00:00\",\"2020-01-14T00:00:00\",\"2020-01-15T00:00:00\",\"2020-01-16T00:00:00\",\"2020-01-17T00:00:00\",\"2020-01-21T00:00:00\",\"2020-01-22T00:00:00\",\"2020-01-23T00:00:00\",\"2020-01-24T00:00:00\",\"2020-01-27T00:00:00\",\"2020-01-28T00:00:00\",\"2020-01-29T00:00:00\",\"2020-01-30T00:00:00\",\"2020-01-31T00:00:00\",\"2020-02-03T00:00:00\",\"2020-02-04T00:00:00\",\"2020-02-05T00:00:00\",\"2020-02-06T00:00:00\",\"2020-02-07T00:00:00\",\"2020-02-10T00:00:00\",\"2020-02-11T00:00:00\",\"2020-02-12T00:00:00\",\"2020-02-13T00:00:00\",\"2020-02-14T00:00:00\",\"2020-02-18T00:00:00\",\"2020-02-19T00:00:00\",\"2020-02-20T00:00:00\",\"2020-02-21T00:00:00\",\"2020-02-24T00:00:00\",\"2020-02-25T00:00:00\",\"2020-02-26T00:00:00\",\"2020-02-27T00:00:00\",\"2020-02-28T00:00:00\",\"2020-03-02T00:00:00\",\"2020-03-03T00:00:00\",\"2020-03-04T00:00:00\",\"2020-03-05T00:00:00\",\"2020-03-06T00:00:00\",\"2020-03-09T00:00:00\",\"2020-03-10T00:00:00\",\"2020-03-11T00:00:00\",\"2020-03-12T00:00:00\",\"2020-03-13T00:00:00\",\"2020-03-16T00:00:00\",\"2020-03-17T00:00:00\",\"2020-03-18T00:00:00\",\"2020-03-19T00:00:00\",\"2020-03-20T00:00:00\",\"2020-03-23T00:00:00\",\"2020-03-24T00:00:00\",\"2020-03-25T00:00:00\",\"2020-03-26T00:00:00\",\"2020-03-27T00:00:00\",\"2020-03-30T00:00:00\",\"2020-03-31T00:00:00\",\"2020-04-01T00:00:00\",\"2020-04-02T00:00:00\",\"2020-04-03T00:00:00\",\"2020-04-06T00:00:00\",\"2020-04-07T00:00:00\",\"2020-04-08T00:00:00\",\"2020-04-09T00:00:00\",\"2020-04-13T00:00:00\",\"2020-04-14T00:00:00\",\"2020-04-15T00:00:00\",\"2020-04-16T00:00:00\",\"2020-04-17T00:00:00\",\"2020-04-20T00:00:00\",\"2020-04-21T00:00:00\",\"2020-04-22T00:00:00\",\"2020-04-23T00:00:00\",\"2020-04-24T00:00:00\",\"2020-04-27T00:00:00\",\"2020-04-28T00:00:00\",\"2020-04-29T00:00:00\",\"2020-04-30T00:00:00\",\"2020-05-01T00:00:00\",\"2020-05-04T00:00:00\",\"2020-05-05T00:00:00\",\"2020-05-06T00:00:00\",\"2020-05-07T00:00:00\",\"2020-05-08T00:00:00\",\"2020-05-11T00:00:00\",\"2020-05-12T00:00:00\",\"2020-05-13T00:00:00\",\"2020-05-14T00:00:00\",\"2020-05-15T00:00:00\",\"2020-05-18T00:00:00\",\"2020-05-19T00:00:00\",\"2020-05-20T00:00:00\",\"2020-05-21T00:00:00\",\"2020-05-22T00:00:00\",\"2020-05-26T00:00:00\",\"2020-05-27T00:00:00\",\"2020-05-28T00:00:00\",\"2020-05-29T00:00:00\",\"2020-06-01T00:00:00\",\"2020-06-02T00:00:00\",\"2020-06-03T00:00:00\",\"2020-06-04T00:00:00\",\"2020-06-05T00:00:00\",\"2020-06-08T00:00:00\",\"2020-06-09T00:00:00\",\"2020-06-10T00:00:00\",\"2020-06-11T00:00:00\",\"2020-06-12T00:00:00\",\"2020-06-15T00:00:00\",\"2020-06-16T00:00:00\",\"2020-06-17T00:00:00\",\"2020-06-18T00:00:00\",\"2020-06-19T00:00:00\",\"2020-06-22T00:00:00\",\"2020-06-23T00:00:00\",\"2020-06-24T00:00:00\",\"2020-06-25T00:00:00\",\"2020-06-26T00:00:00\",\"2020-06-29T00:00:00\",\"2020-06-30T00:00:00\",\"2020-07-01T00:00:00\",\"2020-07-02T00:00:00\",\"2020-07-06T00:00:00\",\"2020-07-07T00:00:00\",\"2020-07-08T00:00:00\",\"2020-07-09T00:00:00\",\"2020-07-10T00:00:00\",\"2020-07-13T00:00:00\",\"2020-07-14T00:00:00\",\"2020-07-15T00:00:00\",\"2020-07-16T00:00:00\",\"2020-07-17T00:00:00\",\"2020-07-20T00:00:00\",\"2020-07-21T00:00:00\",\"2020-07-22T00:00:00\",\"2020-07-23T00:00:00\",\"2020-07-24T00:00:00\",\"2020-07-27T00:00:00\",\"2020-07-28T00:00:00\",\"2020-07-29T00:00:00\",\"2020-07-30T00:00:00\",\"2020-07-31T00:00:00\",\"2020-08-03T00:00:00\",\"2020-08-04T00:00:00\",\"2020-08-05T00:00:00\",\"2020-08-06T00:00:00\",\"2020-08-07T00:00:00\",\"2020-08-10T00:00:00\",\"2020-08-11T00:00:00\",\"2020-08-12T00:00:00\",\"2020-08-13T00:00:00\",\"2020-08-14T00:00:00\",\"2020-08-17T00:00:00\",\"2020-08-18T00:00:00\",\"2020-08-19T00:00:00\",\"2020-08-20T00:00:00\",\"2020-08-21T00:00:00\",\"2020-08-24T00:00:00\",\"2020-08-25T00:00:00\",\"2020-08-26T00:00:00\",\"2020-08-27T00:00:00\",\"2020-08-28T00:00:00\",\"2020-08-31T00:00:00\",\"2020-09-01T00:00:00\",\"2020-09-02T00:00:00\",\"2020-09-03T00:00:00\",\"2020-09-04T00:00:00\",\"2020-09-08T00:00:00\",\"2020-09-09T00:00:00\",\"2020-09-10T00:00:00\",\"2020-09-11T00:00:00\",\"2020-09-14T00:00:00\",\"2020-09-15T00:00:00\",\"2020-09-16T00:00:00\",\"2020-09-17T00:00:00\",\"2020-09-18T00:00:00\",\"2020-09-21T00:00:00\",\"2020-09-22T00:00:00\",\"2020-09-23T00:00:00\",\"2020-09-24T00:00:00\",\"2020-09-25T00:00:00\",\"2020-09-28T00:00:00\",\"2020-09-29T00:00:00\",\"2020-09-30T00:00:00\",\"2020-10-01T00:00:00\",\"2020-10-02T00:00:00\",\"2020-10-05T00:00:00\",\"2020-10-06T00:00:00\",\"2020-10-07T00:00:00\",\"2020-10-08T00:00:00\",\"2020-10-09T00:00:00\",\"2020-10-12T00:00:00\",\"2020-10-13T00:00:00\",\"2020-10-14T00:00:00\",\"2020-10-15T00:00:00\",\"2020-10-16T00:00:00\",\"2020-10-19T00:00:00\",\"2020-10-20T00:00:00\",\"2020-10-21T00:00:00\",\"2020-10-22T00:00:00\",\"2020-10-23T00:00:00\",\"2020-10-26T00:00:00\",\"2020-10-27T00:00:00\",\"2020-10-28T00:00:00\",\"2020-10-29T00:00:00\",\"2020-10-30T00:00:00\",\"2020-11-02T00:00:00\",\"2020-11-03T00:00:00\",\"2020-11-04T00:00:00\",\"2020-11-05T00:00:00\",\"2020-11-06T00:00:00\",\"2020-11-09T00:00:00\",\"2020-11-10T00:00:00\",\"2020-11-11T00:00:00\",\"2020-11-12T00:00:00\",\"2020-11-13T00:00:00\",\"2020-11-16T00:00:00\",\"2020-11-17T00:00:00\",\"2020-11-18T00:00:00\",\"2020-11-19T00:00:00\",\"2020-11-20T00:00:00\",\"2020-11-23T00:00:00\",\"2020-11-24T00:00:00\",\"2020-11-25T00:00:00\",\"2020-11-27T00:00:00\",\"2020-11-30T00:00:00\",\"2020-12-01T00:00:00\",\"2020-12-02T00:00:00\",\"2020-12-03T00:00:00\",\"2020-12-04T00:00:00\",\"2020-12-07T00:00:00\",\"2020-12-08T00:00:00\",\"2020-12-09T00:00:00\",\"2020-12-10T00:00:00\",\"2020-12-11T00:00:00\",\"2020-12-14T00:00:00\",\"2020-12-15T00:00:00\",\"2020-12-16T00:00:00\",\"2020-12-17T00:00:00\",\"2020-12-18T00:00:00\",\"2020-12-21T00:00:00\",\"2020-12-22T00:00:00\",\"2020-12-23T00:00:00\",\"2020-12-24T00:00:00\",\"2020-12-28T00:00:00\",\"2020-12-29T00:00:00\",\"2020-12-30T00:00:00\",\"2020-12-31T00:00:00\",\"2021-01-04T00:00:00\",\"2021-01-05T00:00:00\",\"2021-01-06T00:00:00\",\"2021-01-07T00:00:00\",\"2021-01-08T00:00:00\",\"2021-01-11T00:00:00\",\"2021-01-12T00:00:00\",\"2021-01-13T00:00:00\",\"2021-01-14T00:00:00\",\"2021-01-15T00:00:00\",\"2021-01-19T00:00:00\",\"2021-01-20T00:00:00\",\"2021-01-21T00:00:00\",\"2021-01-22T00:00:00\",\"2021-01-25T00:00:00\",\"2021-01-26T00:00:00\",\"2021-01-27T00:00:00\",\"2021-01-28T00:00:00\",\"2021-01-29T00:00:00\",\"2021-02-01T00:00:00\",\"2021-02-02T00:00:00\",\"2021-02-03T00:00:00\",\"2021-02-04T00:00:00\",\"2021-02-05T00:00:00\",\"2021-02-08T00:00:00\",\"2021-02-09T00:00:00\",\"2021-02-10T00:00:00\",\"2021-02-11T00:00:00\",\"2021-02-12T00:00:00\",\"2021-02-16T00:00:00\",\"2021-02-17T00:00:00\",\"2021-02-18T00:00:00\",\"2021-02-19T00:00:00\",\"2021-02-22T00:00:00\",\"2021-02-23T00:00:00\",\"2021-02-24T00:00:00\",\"2021-02-25T00:00:00\",\"2021-02-26T00:00:00\",\"2021-03-01T00:00:00\",\"2021-03-02T00:00:00\",\"2021-03-03T00:00:00\",\"2021-03-04T00:00:00\",\"2021-03-05T00:00:00\",\"2021-03-08T00:00:00\",\"2021-03-09T00:00:00\",\"2021-03-10T00:00:00\",\"2021-03-11T00:00:00\",\"2021-03-12T00:00:00\",\"2021-03-15T00:00:00\",\"2021-03-16T00:00:00\",\"2021-03-17T00:00:00\",\"2021-03-18T00:00:00\",\"2021-03-19T00:00:00\",\"2021-03-22T00:00:00\",\"2021-03-23T00:00:00\",\"2021-03-24T00:00:00\",\"2021-03-25T00:00:00\",\"2021-03-26T00:00:00\",\"2021-03-29T00:00:00\",\"2021-03-30T00:00:00\",\"2021-03-31T00:00:00\",\"2021-04-01T00:00:00\",\"2021-04-05T00:00:00\",\"2021-04-06T00:00:00\",\"2021-04-07T00:00:00\",\"2021-04-08T00:00:00\",\"2021-04-09T00:00:00\",\"2021-04-12T00:00:00\",\"2021-04-13T00:00:00\",\"2021-04-14T00:00:00\",\"2021-04-15T00:00:00\",\"2021-04-16T00:00:00\",\"2021-04-19T00:00:00\",\"2021-04-20T00:00:00\",\"2021-04-21T00:00:00\",\"2021-04-22T00:00:00\",\"2021-04-23T00:00:00\",\"2021-04-26T00:00:00\",\"2021-04-27T00:00:00\",\"2021-04-28T00:00:00\",\"2021-04-29T00:00:00\",\"2021-04-30T00:00:00\",\"2021-05-03T00:00:00\",\"2021-05-04T00:00:00\",\"2021-05-05T00:00:00\",\"2021-05-06T00:00:00\",\"2021-05-07T00:00:00\",\"2021-05-10T00:00:00\",\"2021-05-11T00:00:00\",\"2021-05-12T00:00:00\",\"2021-05-13T00:00:00\",\"2021-05-14T00:00:00\",\"2021-05-17T00:00:00\",\"2021-05-18T00:00:00\",\"2021-05-19T00:00:00\",\"2021-05-20T00:00:00\",\"2021-05-21T00:00:00\",\"2021-05-24T00:00:00\",\"2021-05-25T00:00:00\",\"2021-05-26T00:00:00\",\"2021-05-27T00:00:00\",\"2021-05-28T00:00:00\",\"2021-06-01T00:00:00\",\"2021-06-02T00:00:00\",\"2021-06-03T00:00:00\",\"2021-06-04T00:00:00\",\"2021-06-07T00:00:00\",\"2021-06-08T00:00:00\",\"2021-06-09T00:00:00\",\"2021-06-10T00:00:00\",\"2021-06-11T00:00:00\",\"2021-06-14T00:00:00\"],\"y\":[1.6916667222976685,1.6832506656646729,1.6748340129852295,1.60750412940979,1.6622098684310913,1.6580021381378174,1.6285446882247925,1.6411685943603516,1.6411685943603516,1.6117119789123535,1.60750412940979,1.6302279233932495,1.6580021381378174,1.6201282739639282,1.6285446882247925,1.718598484992981,1.7589967250823975,1.7817203998565674,1.7842457294464111,1.7690964937210083,1.7674129009246826,1.712707281112671,1.6243369579315186,1.5738394260406494,1.5166083574295044,1.578047275543213,1.6243369579315186,1.6596845388412476,1.6815670728683472,1.733747959136963,1.7000831365585327,1.6032956838607788,1.5687894821166992,1.565422534942627,1.5948797464370728,1.5561647415161133,1.5401740074157715,1.5948797464370728,1.592354416847229,1.5570063591003418,1.5359662771224976,1.562056303024292,1.5990879535675049,1.6672594547271729,1.6672594547271729,1.7059743404388428,1.6832506656646729,1.645377278327942,1.6335946321487427,1.6327528953552246,1.6201282739639282,1.5906710624694824,1.6032956838607788,1.7253315448760986,1.7531050443649292,1.7505803108215332,1.8305350542068481,1.8094940185546875,1.8852406740188599,1.9231135845184326,1.856624722480774,1.8094940185546875,1.7505803108215332,1.6706260442733765,1.733747959136963,1.7867703437805176,1.7993948459625244,1.7253315448760986,1.788453221321106,1.8860821723937988,1.9744529724121094,2.0375735759735107,1.9862353801727295,1.9576196670532227,2.035891532897949,1.956778883934021,1.9719277620315552,1.956778883934021,1.956778883934021,1.9315305948257446,1.8936564922332764,1.9146971702575684,1.8852406740188599,1.9323710203170776,1.8944981098175049,1.9374215602874756,1.8953399658203125,1.9357378482818604,1.8431593179702759,1.7674129009246826,1.7270146608352661,1.6815670728683472,1.5948797464370728,1.6832506656646729,1.766571283340454,1.6613678932189941,1.5788882970809937,1.5570063591003418,1.5999298095703125,1.6672594547271729,1.6411685943603516,1.6159204244613647,1.5511151552200317,1.488835096359253,1.4055140018463135,1.36259126663208,1.3541749715805054,1.3499666452407837,1.3280844688415527,1.3297675848007202,1.3466005325317383,1.4804186820983887,1.4290791749954224,1.476210594177246,1.5401740074157715,1.5107167959213257,1.4728442430496216,1.4046725034713745,1.2708539962768555,1.2918944358825684,1.3289262056350708,1.3373422622680664,1.2540212869644165,1.2834784984588623,1.3676409721374512,1.376057505607605,1.4560115337371826,1.5233417749404907,1.593196153640747,1.679042100906372,1.7606796026229858,1.8052856922149658,1.7253315448760986,1.6622098684310913,1.7387971878051758,1.7345895767211914,1.7589967250823975,1.803602933883667,1.7505803108215332,1.6832506656646729,1.565422534942627,1.6142370700836182,1.6504268646240234,1.6874582767486572,1.7169151306152344,1.7505803108215332,1.7169151306152344,1.649585247039795,1.7009241580963135,1.718598484992981,1.6916667222976685,1.7068160772323608,1.6874582767486572,1.6748340129852295,1.6344362497329712,1.6537935733795166,1.7379556894302368,1.7909785509109497,1.721123218536377,1.6832506656646729,1.6664183139801025,1.6117119789123535,1.6251782178878784,1.565422534942627,1.5906710624694824,1.4703190326690674,1.541015625,1.5628981590270996,1.5772053003311157,1.648743748664856,1.6411685943603516,1.6647344827651978,1.712707281112671,1.7547883987426758,1.6133955717086792,1.6782008409500122,1.7169151306152344,1.712707281112671,1.561214804649353,1.5149250030517578,1.5149250030517578,1.5065090656280518,1.4837851524353027,1.521658182144165,1.578047275543213,1.565422534942627,1.5544816255569458,1.4332876205444336,1.4644277095794678,1.5485905408859253,1.5990879535675049,1.5990879535675049,1.6975579261779785,1.7034496068954468,1.60750412940979,1.6201282739639282,1.6361193656921387,1.5570063591003418,1.562056303024292,1.5570063591003418,1.5713140964508057,1.565422534942627,1.5906710624694824,1.6041375398635864,1.5822553634643555,1.6201282739639282,1.6176034212112427,1.5275499820709229,1.5250248908996582,1.4484368562698364,1.5233417749404907,1.3297675848007202,1.3466005325317383,1.2540212869644165,1.1210447549819946,0.7843947410583496,0.7970189452171326,0.7911276817321777,0.7700870037078857,0.7742952704429626,0.7869197130203247,0.8189013004302979,0.8247926235198975,0.8180596828460693,0.8306839466094971,0.8315258026123047,0.8500415682792664,0.8542495965957642,0.8921228647232056,0.8736069798469543,0.8879143595695496,0.8332091569900513,0.8029105067253113,0.803752064704895,0.803752064704895,0.8121684789657593,0.8332091569900513,0.8205842971801758,0.7919692993164062,0.7574625015258789,0.7566209435462952,0.7574625015258789,0.7465214133262634,0.7153813242912292,0.6951822638511658,0.7145395874977112,0.694340705871582,0.6733002662658691,0.6665670871734619,0.6497346758842468,0.6387935280799866,0.6733002662658691,0.6665670871734619,0.6926574110984802,0.8584575653076172,0.8752901554107666,0.8576160073280334,0.8921228647232056,0.8710821866989136,0.8677155375480652,0.8550910353660583,0.8635073304176331,0.8837064504623413,0.9072717428207397,0.8752901554107666,0.8837064504623413,0.9089550971984863,0.9190546870231628,0.8921228647232056,0.902222216129303,0.9257877469062805,0.971235454082489,1.0183663368225098,1.0225746631622314,1.0183663368225098,1.020891547203064,0.9931176900863647,1.0200496912002563,0.9905929565429688,1.00153386592865,1.009950041770935,1.009950041770935,1.0133163928985596,1.009950041770935,1.0107917785644531,1.025099515914917,1.0082666873931885,1.0840132236480713,1.0899046659469604,1.0772804021835327,1.0570812225341797,1.0377241373062134,1.045298457145691,1.0730719566345215,1.0562397241592407,1.0629726648330688,1.041932225227356,1.0604478120803833,1.068864107131958,1.0941126346588135,1.0436152219772339,1.0166833400726318,1.0335159301757812,1.0671807527542114,1.005741834640503,0.9594528079032898,0.9476699829101562,1.007425308227539,0.9880679845809937,1.1176780462265015,1.0983206033706665,1.1185200214385986,1.1538684368133545,1.096637487411499,1.123569369316101,1.093271017074585,1.0941126346588135,1.0461400747299194,1.0166833400726318,1.0394068956375122,0.972076952457428,0.9889096021652222,1.0141584873199463,1.0495067834854126,1.0495067834854126,1.0545563697814941,1.0638145208358765,1.0621309280395508,1.0604478120803833,1.0814882516860962,1.0856964588165283,1.0730719566345215,1.0730719566345215,1.0730719566345215,1.069705605506897,1.0730719566345215,1.1101032495498657,1.1681755781173706,1.167333960533142,1.1395604610443115,1.1429269313812256,1.1025288105010986,1.1260942220687866,1.110945224761963,1.089063048362732,1.0562397241592407,1.0873799324035645,1.1101032495498657,1.1446101665496826,1.1193615198135376,1.1589179039001465,1.2279307842254639,1.2498133182525635,1.203524112701416,1.182483434677124,1.2119401693344116,1.1883745193481445,1.1462935209274292,1.1361943483352661,1.1404024362564087,1.110945224761963,1.154709815979004,1.1159948110580444,1.1319856643676758,1.1361943483352661,1.1866916418075562,1.1993156671524048,1.1908994913101196,1.1446101665496826,1.1387189626693726,1.1572346687316895,1.1277775764465332,1.1025288105010986,1.1058954000473022,1.0705475807189941,1.0654973983764648,1.0730719566345215,1.0814882516860962,1.1025288105010986,1.110945224761963,1.0941126346588135,1.205207347869873,1.2430808544158936,1.3163015842437744,1.3701659440994263,1.388681411743164,1.342392086982727,1.3802653551101685,1.388681411743164,1.3996227979660034,1.4560115337371826,1.495567798614502,1.5132418870925903,1.5149250030517578,1.5014592409133911,1.4896764755249023,1.4509618282318115,1.42992103099823,1.4147717952728271,1.4475955963134766,1.4181383848190308,1.4534868001937866,1.4433871507644653,1.4433871507644653,1.4122470617294312,1.4433871507644653,1.3785821199417114,1.3466005325317383,1.3676409721374512,1.3718491792678833,1.338183879852295,1.3676409721374512,1.3954148292541504,1.4038307666778564,1.4518033266067505,1.4518033266067505,1.4374958276748657,1.4728442430496216,1.4661110639572144,1.5511151552200317,1.5864636898040771,1.592354416847229,1.5755220651626587,1.5359662771224976,1.519133448600769,1.515767216682434,1.4770519733428955,1.431604266166687,1.3524916172027588,1.4038307666778564,1.4602197408676147,1.4307626485824585,1.4307626485824585,1.4156134128570557,1.314618706703186,1.335659146308899,1.4055140018463135,1.422346830368042,1.4139299392700195,1.401305913925171,1.422346830368042,1.4534868001937866,1.4055140018463135,1.3609079122543335,1.3466005325317383,1.2750619649887085,1.296944260597229,1.365116000175476,1.3609079122543335,1.3861567974090576,1.3575413227081299,1.3600664138793945,1.359224796295166,1.3457586765289307,1.2834784984588623,1.2876865863800049,1.2506550550460815,1.2371891736984253,1.2346642017364502,1.203524112701416,1.2169899940490723,1.2876865863800049,1.2742204666137695,1.2127817869186401,1.2573879957199097,1.2371891736984253,1.2750619649887085,1.295261025428772,1.2658041715621948,1.3238763809204102,1.2615962028503418,1.2674875259399414,1.2961024045944214,1.3070437908172607,1.296944260597229,1.273378610610962,1.3516498804092407,1.5149250030517578,1.4349703788757324,1.5628981590270996,1.512400507926941,1.5115585327148438,1.499776005744934,1.4795771837234497,1.4644277095794678,1.4728442430496216,1.4644277095794678,1.4694777727127075,1.4484368562698364,1.42992103099823,1.4425455331802368,1.4349703788757324,1.392889142036438,1.388681411743164,1.3970980644226074,1.376057505607605,1.3710070848464966,1.3735321760177612,1.388681411743164,1.4661110639572144,1.4139299392700195,1.4475955963134766,1.4728442430496216,1.4728442430496216,1.44591224193573,1.541015625,1.519133448600769,1.5199750661849976,1.5149250030517578,1.4989343881607056,1.5679478645324707,1.5696312189102173,1.5553231239318848,1.5696312189102173,1.562056303024292,1.5275499820709229,1.539332389831543,1.515767216682434,1.5233417749404907,1.4980930089950562,1.4922014474868774,1.436653971672058,1.4189800024032593,1.5065090656280518,1.4795771837234497,1.4450700283050537,1.4198217391967773,1.4080384969711304,1.436653971672058,1.3895231485366821,1.4307626485824585,1.42992103099823,1.4518033266067505,1.471160888671875,1.5258665084838867,1.5115585327148438,1.5166083574295044,1.5090337991714478,1.545223593711853,1.5536401271820068,1.5485905408859253,1.5418568849563599,1.5502736568450928,1.5527982711791992,1.5107167959213257,1.5073505640029907,1.539332389831543,1.533441185951233,1.537649154663086,1.5140838623046875,1.5561647415161133,1.560373067855835,1.5275499820709229,1.5283912420272827,1.538490653038025,1.5140838623046875,1.493884563446045,1.4821017980575562,1.495567798614502,1.5300747156143188,1.521658182144165,1.519133448600769,1.4812605381011963,1.4475955963134766,1.4728442430496216,1.4593782424926758,1.4518033266067505,1.436653971672058,1.3912063837051392,1.3255597352981567,1.3045191764831543,1.2902113199234009,1.2961024045944214,1.295261025428772,1.2961024045944214,1.3213512897491455,1.3238763809204102,1.314618706703186,1.3062021732330322,1.3095688819885254,1.2876865863800049,1.312093734741211,1.342392086982727,1.342392086982727,1.3524916172027588,1.3314505815505981,1.296944260597229,1.2961024045944214,1.3280844688415527,1.3053606748580933,1.2649623155593872,1.2624377012252808,1.2237229347229004,1.248971939086914,1.2397139072418213,1.2708539962768555,1.2632793188095093,1.2540212869644165,1.2809534072875977,1.2456051111221313,1.2506550550460815,1.2413970232009888,1.227089524269104,1.2371891736984253,1.2456051111221313,1.2624377012252808,1.2742204666137695,1.2750619649887085,1.2700122594833374,1.266645908355713,1.2456051111221313,1.2775870561599731,1.3062021732330322,1.2918944358825684,1.2254060506820679,1.2262479066848755,1.286845088005066,1.271695613861084,1.295261025428772,1.2961024045944214,1.3196684122085571,1.2876865863800049,1.2792702913284302,1.2582294940948486,1.2624377012252808,1.2514965534210205,1.2700122594833374,1.2658041715621948,1.2548630237579346,1.2624377012252808,1.3297675848007202,1.3508085012435913,1.4088807106018066,1.4433871507644653,1.4307626485824585,1.4080384969711304,1.4273960590362549,1.4307626485824585,1.4198217391967773,1.42992103099823,1.4400205612182617,1.4105639457702637,1.4257129430770874,1.4560115337371826,1.452644944190979,1.4585363864898682,1.434129238128662,1.452644944190979,1.4509618282318115,1.4585363864898682,1.4686356782913208,1.4753689765930176,1.4964097738265991,1.578047275543213,1.5233417749404907,1.5570063591003418,1.5317574739456177,1.5023010969161987,1.5359662771224976,1.5081924200057983,1.4964097738265991,1.5292328596115112,1.5578480958938599,1.592354416847229,1.679042100906372,1.70260751247406,1.6739921569824219,1.592354416847229,1.5755220651626587,1.6091872453689575,1.6159204244613647,1.5864636898040771,1.5527982711791992,1.6066622734069824,1.60750412940979,1.593196153640747,1.610870361328125,1.6394855976104736,1.6218116283416748,1.6159204244613647,1.6369609832763672,1.6840918064117432,1.6748340129852295,1.648743748664856,1.6672594547271729,1.6883001327514648,1.6798837184906006,1.7084991931915283,1.8120189905166626,1.9231135845184326,1.8507332801818848,1.8010776042938232,1.800236701965332,1.9778192043304443,1.948362112045288,1.8776659965515137,1.851575493812561,1.8431593179702759,1.7286978960037231,1.6655768156051636,1.733747959136963,1.8078110218048096,1.8263272047042847,1.7968701124191284,1.7749876976013184,1.7758287191390991,1.7724626064300537,1.7674129009246826,1.7707791328430176,1.7758287191390991,1.8027610778808594,1.8027610778808594,1.8221180438995361,1.8094940185546875,1.7867703437805176,1.7892950773239136,1.8069690465927124,1.7800374031066895,1.7690964937210083,1.7842457294464111,1.8456841707229614,1.806127667427063,1.7943446636199951,1.872615933418274,1.879348635673523,1.8902901411056519,1.881873607635498,1.8120189905166626,1.792661428451538,1.7909785509109497,1.7800374031066895,1.645377278327942,1.6327528953552246,1.6117119789123535,1.6024545431137085,1.5974047183990479,1.6032956838607788,1.6260199546813965,1.629386305809021,1.6133955717086792,1.60750412940979,1.5721559524536133,1.5729973316192627,1.6091872453689575,1.6192867755889893,1.5822553634643555,1.6066622734069824,1.6218116283416748,1.6866168975830078,1.6504268646240234,1.6546351909637451,1.6411685943603516,1.6411685943603516,1.6091872453689575,1.592354416847229,1.6117119789123535,1.6201282739639282,1.6571600437164307,1.6580021381378174,1.6630516052246094,1.6436941623687744,1.5746809244155884,1.5856215953826904,1.565422534942627,1.6184452772140503,1.6335946321487427,1.7059743404388428,1.7068160772323608,1.712707281112671,1.7413227558135986,1.7514218091964722,1.7278563976287842,1.7051326036453247,1.7084991931915283,1.7076575756072998,1.6546351909637451,1.7834035158157349,1.7505803108215332,1.7699377536773682,1.7690964937210083,1.7345895767211914,1.6411685943603516,1.847367286682129,1.8978644609451294,1.9710866212844849,1.8995479345321655,1.9121724367141724,1.8650407791137695,1.832218050956726,1.8330596685409546,1.8608330488204956,1.8456841707229614,1.8507332801818848,1.8330596685409546,1.8103358745574951,1.847367286682129,1.8111777305603027,1.7598382234573364,1.8187522888183594,1.995493769645691,2.0283169746398926,1.9710866212844849,2.013167142868042,1.9904437065124512,2.050199031829834,2.068714141845703,2.0594563484191895,2.064506769180298,2.071239471435547,2.1579267978668213,2.146143913269043,2.116687059402466,2.1713929176330566,2.1739187240600586,2.167185068130493,2.159609794616699,2.165501594543457,2.1713929176330566,2.1453025341033936,2.160452365875244,2.2050576210021973,2.286695718765259,2.358234167098999,2.358234167098999,2.401998281478882,2.5038347244262695,2.406205654144287,2.480269432067871,2.513934373855591,2.454179048538208,2.5282421112060547,2.533291816711426,2.6157708168029785,2.737806558609009,2.6957249641418457,2.625870704650879,2.7176077365875244,2.7580058574676514,2.7436983585357666,2.72518253326416,2.8211278915405273,2.7765214443206787,2.783254384994507,2.7260239124298096,2.697408437728882,2.7352819442749023,2.7352819442749023,2.7016170024871826,2.6578524112701416,2.728549003601074,2.732758045196533,2.752955675125122,2.7613718509674072,2.7849373817443848,2.83038592338562,2.8800411224365234,2.9591543674468994,2.9852445125579834,3.0046021938323975,2.9860856533050537,2.9768285751342773,2.961678981781006,2.944004774093628,2.944004774093628,2.9692542552948,2.947371482849121,2.898557186126709,2.8766748905181885,2.8657333850860596,2.94232177734375,2.975144624710083,2.8909826278686523,2.870783567428589,2.9204394817352295,2.8876163959503174,2.816920042037964,2.7100329399108887,2.710874319076538,2.768946886062622,2.7723135948181152,2.7352819442749023,2.642702579498291,2.655327320098877,2.530766487121582,2.478586196899414,2.721815824508667,2.77567982673645,2.8825669288635254,2.935588836669922,2.903606653213501,2.8993990421295166,2.8623664379119873,2.8404853343963623,2.804295063018799,2.8404853343963623,2.819443941116333,2.847217559814453,3.006284475326538,3.0492076873779297,3.030691623687744,3.041632890701294,3.0601494312286377,3.0500497817993164,3.08876371383667,3.0163848400115967,3.031534433364868,3.028167724609375,2.971778392791748,2.7874627113342285,2.811028003692627,2.844693660736084,2.8017702102661133,2.753797769546509,2.7647387981414795,2.7016170024871826,2.648594379425049,2.606513500213623,2.6494362354278564,2.6940419673919678,2.6090383529663086,2.5837888717651367,2.629237413406372,2.6006219387054443,2.5879971981048584,2.5804226398468018,2.604830265045166,2.655327320098877,2.763896942138672,2.8581583499908447,2.8648929595947266,2.8690998554229736,2.9212806224823,3.0020763874053955,2.851425886154175,2.780729055404663,2.901923656463623,2.9860856533050537,2.9961860179901123,3.050891637802124,3.1131715774536133,3.0618321895599365,3.130845069885254,3.062674045562744,3.1106462478637695,3.0954971313476562,3.022275686264038,3.0391087532043457,2.991135597229004,2.9835615158081055,3.006284475326538,3.052574396133423,3.181342124938965,3.078664779663086,2.984402894973755,3.075298309326172,2.9608373641967773,2.9448459148406982,2.8312268257141113,2.828702211380005,2.9625210762023926,2.935588836669922,2.945688486099243,2.8901400566101074,2.916231632232666,2.8573176860809326,2.874149799346924,2.7697882652282715,2.770629644393921,2.660377264022827,2.6544857025146484,2.598097324371338,2.562748908996582,2.5913643836975098,2.5703232288360596,2.577897548675537,2.598097324371338,2.6528022289276123,2.673001766204834,2.678050994873047,2.7192904949188232,2.8152363300323486,3.140103578567505,3.241940498352051,3.2259490489959717,3.257089376449585,3.297487497329712,3.2436232566833496,3.2267911434173584,3.2208991050720215,3.2032248973846436,3.2562475204467773,3.208275079727173,3.2065913677215576,3.2065913677215576,3.224266529083252,3.258772611618042,3.294121026992798,3.328627586364746,3.392591714859009,3.5508158206939697,3.5398755073547363,3.582799196243286,3.6274046897888184,3.5255677700042725,3.513784646987915,3.40521502494812,3.4068992137908936,3.3824915885925293,3.4111063480377197,3.4195234775543213,3.5095767974853516,3.463287830352783,3.409423828125,3.4540293216705322,3.3631341457366943,3.3707082271575928,3.3866994380950928,3.369025707244873,3.448979616165161,3.3917503356933594,3.4506630897521973,3.4329895973205566,3.3614501953125,3.2612974643707275,3.2192158699035645,3.265505790710449,3.292437791824341,3.4035325050354004,3.3488268852233887,3.3749165534973145,3.4590792655944824,3.4843287467956543,3.7873129844665527,3.8243448734283447,3.802461624145508,3.9396474361419678,3.9455392360687256,3.9009318351745605,3.9556384086608887,3.9556384086608887,3.9674205780029297,3.9101903438568115,4.0431671142578125,4.096189022064209,4.1231207847595215,4.121438980102539,4.095347881317139,3.9539551734924316,3.9648959636688232,3.9438555240631104,3.9219722747802734,3.937122344970703,3.9615299701690674,3.999403238296509,3.95479679107666,3.935439109802246,3.93880558013916,3.987621545791626,3.9850950241088867,3.972470760345459,4.0061354637146,4.041483402252197,4.037275314331055,3.990987539291382,4.058315753936768,3.995194673538208,4.00277042388916,3.905982255935669,3.779738426208496,3.698941469192505,3.656019687652588,3.7283990383148193,3.753648519515991,3.8192946910858154,3.7847886085510254,3.6467621326446533,3.6391873359680176,3.5390334129333496,3.6585447788238525,3.667802572250366,3.5499753952026367,3.613938093185425,3.6972591876983643,3.655177593231201,3.4481379985809326,3.5078935623168945,3.471703052520752,3.4464545249938965,3.4843287467956543,3.3749165534973145,3.325261116027832,3.398482084274292,3.471703052520752,3.318527936935425,3.1914424896240234,3.087080240249634,3.2335240840911865,3.098022937774658,3.1704022884368896,3.1249542236328125,3.0954971313476562,3.125796318054199,3.295804500579834,3.5348258018493652,3.3471434116363525,3.2688724994659424,3.3000121116638184,3.204909086227417,3.114854574203491,3.1409449577331543,3.1064388751983643,3.3109538555145264,3.2772881984710693,3.1704022884368896,3.319369077682495,3.4439303874969482,3.2713966369628906,3.1872339248657227,3.289072275161743,3.389224052429199,3.4388797283172607,3.438037633895874,3.5533409118652344,3.502002477645874,3.406057596206665,3.6114134788513184,3.737656354904175,3.7283990383148193,3.762063980102539,3.732606887817383,3.685476303100586,3.750281810760498,3.9093496799468994,3.880732774734497,3.897566795349121,3.9556384086608887,3.8049869537353516,3.739339590072632,3.6248791217803955,3.670328140258789,3.6728525161743164,3.554183006286621,3.523042917251587,3.582799196243286,3.6282458305358887,3.6694867610931396,3.6762187480926514,3.6408705711364746,3.718299150466919,3.6745355129241943,3.677060127258301,3.766273260116577,3.837811231613159,3.9792044162750244,4.035592555999756,3.970787286758423,4.010344505310059,4.052426338195801,4.037275314331055,4.070940971374512,4.1113386154174805,3.9665796756744385,4.038116931915283,4.060840606689453,3.9733121395111084,3.925339937210083,3.895040512084961,3.880732774734497,3.9825704097747803,4.038116931915283,4.059157371520996,4.006977558135986,4.044008255004883,4.03895902633667,4.128170490264893,4.230849266052246,4.352884769439697,4.356252193450928,4.30491304397583,4.290605068206787,4.315011501312256,4.313330173492432,4.384024620056152,4.283872604370117,4.181193828582764,4.339419841766357,4.346152305603027,4.2830305099487305,4.297338962554932,4.215700626373291,4.233374118804932,4.5043768882751465,4.48249626159668,4.463979244232178,4.48333740234375,4.375608444213867,4.400856971740723,4.400856971740723,4.469029903411865,4.43789005279541,4.399174213409424,4.3545684814453125,4.3057541847229,4.46061372756958,4.657552719116211,4.767806529998779,4.629779815673828,4.5784406661987305,4.645771503448486,4.717309951782227,4.677753448486328,4.7358245849609375,4.776222229003906,4.836819648742676,4.814096450805664,4.863750457763672,4.816619873046875,4.746766567230225,4.73666524887085,4.796422004699707,4.7635979652404785,4.6676530838012695,4.633145809173584,4.642404556274414,4.670177936553955,4.649979591369629,4.630621910095215,4.688693046569824,4.695426940917969,4.6381964683532715,4.620522499084473,4.663444519042969,4.670177936553955,4.586856365203857,4.742558479309082,4.766964912414551,4.883110046386719,4.8511271476745605,4.8553361892700195,4.844394207000732,4.784637928009033,4.715625286102295,4.633145809173584,4.6222052574157715,4.692902088165283,4.516159534454346,4.397490501403809,4.467345714569092,4.4387311935424805,4.496802806854248,4.531310081481934,4.536359786987305,4.46061372756958,4.4387311935424805,4.520369052886963,4.481653690338135,4.505218982696533,4.463979244232178,4.512794017791748,4.538043022155762,4.522051811218262,4.522893905639648,4.537201404571533,4.65587043762207,4.570865631103516,4.530468940734863,4.492595195770264,4.388233184814453,4.4084320068359375,4.390758037567139,4.3166961669921875,4.303229331970215,4.358776569366455,4.359618663787842,4.524577617645264,4.561609745025635,4.614630699157715,4.538043022155762,4.48333740234375,4.558241844177246,4.498486518859863,4.5801239013671875,4.654186248779297,4.650820732116699,4.5986409187316895,4.600323677062988,4.7080512046813965,5.24500846862793,5.487396717071533,5.457098007202148,5.4823479652404785,5.542943477630615,5.586708068847656,5.5513596534729,5.608590126037598,5.571556568145752,5.733150482177734,5.780280113220215,5.707901954650879,5.68770170211792,5.694435119628906,5.714635372161865,5.642255783081055,5.5597758293151855,5.731466770172119,5.882960796356201,5.748299598693848,5.692752361297607,5.728099822998047,5.65740442276001,5.583341598510742,5.638887882232666,5.689387321472168,5.6540374755859375,5.596807479858398,5.606906890869141,5.6321539878845215,5.638887882232666,5.541259288787842,5.494128704071045,5.5513596534729,5.768499851226807,5.933457851409912,5.992372035980225,5.990687370300293,6.244859218597412,6.342486381530762,6.034451484680176,5.926723957061768,6.024352550506592,6.063068866729736,6.130396842956543,6.224658966064453,6.342486381530762,6.440116882324219,6.419916152954102,6.295357704162598,6.130396842956543,6.273474216461182,6.2128777503967285,6.120298862457275,6.2313923835754395,6.271791458129883,6.600024223327637,6.763298511505127,6.7414164543151855,6.667353630065918,6.7414164543151855,6.743100643157959,6.7296342849731445,6.650522232055664,6.796964168548584,6.719534873962402,6.581509113311768,6.766666889190674,6.8087477684021,6.987172603607178,6.993905544281006,7.280057430267334,7.091533184051514,7.02756929397583,7.140347003936768,7.0696516036987305,7.081433296203613,7.004004955291748,7.086482048034668,7.014105319976807,7.0578694343566895,6.9164719581604,7.004004955291748,7.0713348388671875,6.911425590515137,6.800332546234131,6.8541951179504395,6.791915416717529,6.749833106994629,6.987172603607178,6.657255172729492,6.833996772766113,7.197579383850098,7.4130330085754395,6.892909049987793,6.712803363800049,6.84914493560791,6.744785308837891,6.65557336807251,6.561308860778809,6.716168403625488,7.015787124633789,7.231244087219238,7.3086724281311035,7.98702335357666,8.320306777954102,8.199112892150879,7.813648223876953,8.355655670166016,8.219311714172363,8.4398193359375,8.60645866394043,8.360702514648438,8.424665451049805,8.114948272705078,8.215947151184082,8.446549415588379,8.475166320800781,8.384268760681152,8.72933578491211,8.65190601348877,8.788248062133789,8.990239143371582,9.172029495239258,9.305008888244629,9.454816818237305,9.599577903747559,9.894145011901855,9.559178352355957,9.485116958618164,9.45145034790039,9.695521354675293,9.52888011932373,9.195596694946289,9.547394752502441,9.535613059997559,9.882363319396973,9.926128387451172,9.60294246673584,9.661857604980469,9.766220092773438,9.783049583435059,9.848697662353516,9.828498840332031,9.550761222839355,9.554129600524902,10.107917785644531,9.784733772277832,9.52888011932373,9.66858959197998,9.808300018310547,9.678689002990723,9.968208312988281,9.737605094909668,9.515413284301758,9.591158866882324,9.878997802734375,9.496898651123047,9.392536163330078,8.884196281433105,8.752901077270508,9.161932945251465,9.067671775817871,9.414420127868652,9.257877349853516,8.91954231262207,8.586259841918945,8.301793098449707,8.441499710083008,8.665371894836426,8.944791793823242,9.387484550476074,9.40263557434082,9.670272827148438,9.695521354675293,9.629874229431152,9.746021270751953,10.04058837890625,10.230792999267578,10.099501609802246,9.783049583435059,9.867215156555176,9.687105178833008,9.798201560974121,9.788101196289062,10.26109504699707,10.262777328491211,10.452984809875488,10.343572616577148,10.654973983764648,10.58427906036377,10.469818115234375,10.48664665222168,10.454668045043945,10.15000057220459,10.118017196655273,9.601262092590332,9.5137300491333,9.443034172058105,9.276392936706543,8.798348426818848,8.773099899291992,9.040738105773926,8.552596092224121,8.636759757995605,8.369120597839355,8.301793098449707,8.495366096496582,8.761317253112793,8.823598861694336,8.348921775817871,8.508831977844238,8.360702514648438,8.261393547058105,8.678839683532715,8.840429306030273,8.752901077270508,8.308523178100586,8.295058250427246,8.27653980255127,8.456649780273438,8.456649780273438,8.26475715637207,7.9651408195495605,7.70255184173584,8.017322540283203,7.887711048126221,7.699186325073242,7.741269111633301,7.7884016036987305,7.753052234649658,7.9297919273376465,7.980290412902832,7.584726810455322,7.130248546600342,7.194211483001709,7.338973522186279,7.613343238830566,7.2985734939575195,7.184112548828125,7.293524265289307,7.889394760131836,7.785032272338867,7.939891338348389,8.256340980529785,7.911276817321777,8.172181129455566,7.907910346984863,8.446549415588379,9.087867736816406,9.064301490783691,8.917860984802246,9.089554786682129,8.73438549041748,8.704087257385254,9.37065315246582,9.37065315246582,9.49353313446045,9.496898651123047,9.43630313873291,9.316791534423828,9.037370681762695,9.2898588180542,9.180444717407227,9.239361763000488,9.400951385498047,9.537296295166016,9.601262092590332,9.533929824829102,9.353821754455566,9.232627868652344,9.293225288391113,9.421150207519531,9.456499099731445,9.278078079223633,9.195596694946289,9.264609336853027,9.491847038269043,9.087867736816406,8.879149436950684,9.07271957397461,8.783201217651367,8.594677925109863,8.623290061950684,9.106383323669434,9.190546989440918,9.252826690673828,9.33362102508545,9.067671775817871,8.786564826965332,8.682204246520996,8.557644844055176,8.222677230834961,8.310209274291992,8.332090377807617,8.46506404876709,8.279908180236816,8.348921775817871,8.274856567382812,8.151981353759766,7.975243091583252,8.00554084777832,7.5746259689331055,7.714335918426514,7.512346267700195,7.155495643615723,7.224510669708252,7.492147445678711,8.069500923156738,7.887711048126221,7.852362155914307,8.069500923156738,7.645324230194092,7.699186325073242,7.641955852508545,7.746316909790039,7.327188968658447,7.209361553192139,6.800332546234131,6.859244346618652,6.80201530456543,6.527645587921143,6.625274181365967,6.852513313293457,6.628640174865723,6.551210403442383,6.611806869506836,6.778448104858398,6.936673641204834,7.195894241333008,7.293524265289307,7.616706848144531,7.246391773223877,7.312039375305176,7.4450154304504395,7.163914203643799,6.992223739624023,6.830630302429199,6.985488414764404,6.904691696166992,6.81884765625,6.704387664794922,6.63705587387085,7.221142768859863,7.200946807861328,6.972023010253906,7.443332195281982,7.704236030578613,7.59987735748291,7.441650390625,7.478679180145264,7.273324012756348,7.436598300933838,7.4130330085754395,7.325506687164307,7.318770885467529,7.433232307434082,7.281741142272949,7.256491661071777,7.254809379577637,7.421452045440674,7.384418964385986,7.638589382171631,7.389469146728516,7.3945183753967285,7.34402322769165,7.453430652618408,7.330552577972412,7.197579383850098,7.187480449676514,6.936673641204834,6.547843933105469,6.746467590332031,6.329021453857422,6.478832244873047,6.345854759216309,6.10683012008667,5.8812761306762695,5.8240461349487305,6.066433429718018,6.08663272857666,5.756715774536133,5.758398056030273,6.066433429718018,6.027719497680664,5.9385085105896,5.741567134857178,5.175994396209717,5.0850982666015625,4.896574974060059,4.898258209228516,5.642255783081055,5.110348224639893,4.6676530838012695,5.186093807220459,5.359467506408691,5.586708068847656,5.127180099487305,4.7518157958984375,4.556557655334473,4.331003189086914,4.24347448348999,4.866276264190674,4.953805923461914,4.953805923461914,4.610421657562256,4.539726734161377,4.671019554138184,4.255258083343506,4.007819175720215,4.224958896636963,4.120596885681152,3.9404897689819336,3.7098841667175293,4.179510116577148,3.918607711791992,3.8293943405151367,3.7384984493255615,3.4607622623443604,2.945688486099243,3.0264837741851807,3.401848316192627,3.479278802871704,3.703150987625122,3.6779026985168457,3.257089376449585,3.199859619140625,3.1729273796081543,3.3968005180358887,3.5802738666534424,4.208126068115234,3.9101903438568115,4.05495023727417,3.844543933868408,4.061683177947998,3.891674041748047,4.324270248413086,4.320904731750488,4.105446815490723,4.140796184539795,3.895040512084961,3.7334485054016113,3.923656702041626,3.895040512084961,3.694734573364258,3.726715326309204,3.6459195613861084,3.9034574031829834,4.011186122894287,3.9590048789978027,3.805828809738159,4.3057541847229,4.3983330726623535,4.2872395515441895,4.147529125213623,3.9438555240631104,4.011186122894287,4.154261589050293,3.879892349243164,4.112179279327393,4.095347881317139,4.3444695472717285,4.470712184906006,4.4387311935424805,4.73666524887085,4.4303154945373535,4.17109489440918,4.285555362701416,4.3124871253967285,4.374767780303955,4.563291549682617,4.714783668518066,4.615473747253418,4.527942657470703,4.462297439575195,4.543092727661133,4.418531894683838,4.21149206161499,4.186244487762451,4.48249626159668,4.490911483764648,4.41348123550415,4.605373382568359,4.765282154083252,4.5447773933410645,4.531310081481934,4.391600608825684,4.37308406829834,4.595273494720459,3.9489059448242188,3.76711368560791,3.854641914367676,4.24347448348999,4.251890659332275,4.275456428527832,4.319219589233398,4.108813285827637,4.199709415435791,4.179510116577148,4.278822422027588,4.1828789710998535,4.4808125495910645,4.553191661834717,4.517843246459961,4.411799430847168,4.684485912322998,4.556557655334473,4.716468334197998,4.746766567230225,5.066583633422852,5.012719631195068,4.81746244430542,4.9235076904296875,5.10698127746582,5.457098007202148,5.435215473175049,5.3005547523498535,5.369568347930908,4.999253273010254,4.852811813354492,4.780430793762207,5.016085147857666,5.026185989379883,5.133913993835449,5.2702555656433105,5.130547523498535,4.994203090667725,5.0649003982543945,5.0766825675964355,4.938656806945801,4.938656806945801,4.896574974060059,4.630621910095215,4.529627323150635,4.3983330726623535,4.487544059753418,4.418531894683838,4.319219589233398,4.371401309967041,4.455562591552734,4.423581600189209,4.346152305603027,4.455562591552734,3.76711368560791,3.795728921890259,3.932072162628174,3.704833507537842,3.9606873989105225,4.199709415435791,4.342785835266113,4.093664646148682,4.068416118621826,4.115547180175781,4.021285057067871,4.095347881317139,4.208126068115234,4.199709415435791,4.142478942871094,4.059999465942383,3.9842529296875,3.8697919845581055,3.9118735790252686,3.837811231613159,3.8630611896514893,3.696417808532715,3.6795852184295654,3.6745355129241943,3.7384984493255615,3.73176646232605,3.73176646232605,3.704833507537842,3.7805802822113037,3.5466079711914062,3.541558265686035,3.4439303874969482,3.524726390838623,3.4826455116271973,3.440563917160034,3.5398755073547363,3.6408705711364746,3.6425530910491943,3.7283990383148193,3.696417808532715,3.760380744934082,3.8580093383789062,3.975837230682373,4.022967338562012,4.065049171447754,3.9606873989105225,3.837811231613159,3.6812682151794434,3.615622043609619,3.684635639190674,3.8479108810424805,4.11049747467041,4.065049171447754,4.127330303192139,4.235058307647705,4.066733360290527,4.157627582550049,4.315853595733643,4.431997776031494,4.450514316558838,4.2232747077941895,4.130696773529053,4.2384233474731445,3.9404897689819336,3.893357753753662,3.797412157058716,3.7755305767059326,3.797412157058716,3.874843120574951,3.9505887031555176,4.0061354637146,3.925339937210083,3.9489059448242188,4.0313849449157715,4.049900531768799,4.196342945098877,4.216540813446045,4.21149206161499,4.157627582550049,4.307436943054199,4.26535701751709,4.346152305603027,4.342785835266113,4.509427070617676,4.423581600189209,4.416848182678223,4.487544059753418,4.415165424346924,4.38318395614624,4.411799430847168,4.509427070617676,4.455562591552734,4.379817008972168,4.3225860595703125,4.3815016746521,4.4808125495910645,4.416848182678223,4.6070556640625,4.538043022155762,4.521210193634033,4.602006912231445,4.7400336265563965,4.686168670654297,4.6676530838012695,4.7400336265563965,4.317536354064941,4.26535701751709,4.248523712158203,4.169410705566406,4.053265571594238,4.140796184539795,4.078516960144043,4.132378578186035,4.0886149406433105,4.071783065795898,4.036433219909668,3.9960367679595947,4.071783065795898,4.145845890045166,4.292287826538086,4.2384233474731445,4.112179279327393,4.144162178039551,3.987621545791626,4.107131004333496,4.034750461578369,4.05495023727417,4.123963356018066,4.290605068206787,4.319219589233398,4.255258083343506,4.309121608734131,4.261989593505859,4.108813285827637,4.012869834899902,3.6812682151794434,3.593740224838257,3.5903725624084473,3.691368341445923,3.593740224838257,3.5045270919799805,3.565124273300171,3.656019687652588,3.750281810760498,3.7553319931030273,3.7772133350372314,3.8125624656677246,3.7839465141296387,3.8075122833251953,3.7401819229125977,3.704833507537842,3.704833507537842,3.743549346923828,3.73176646232605,3.73176646232605,3.693051338195801,3.854641914367676,3.9590048789978027,4.0448503494262695,3.4439303874969482,3.4153151512145996,3.4203641414642334,3.4961118698120117,3.4994781017303467,3.4506630897521973,3.4506630897521973,3.5028436183929443,3.452345848083496,3.437196969985962,3.3715503215789795,3.35471773147583,3.305903434753418,3.3564016819000244,3.3429360389709473,3.327786684036255,3.35471773147583,3.40521502494812,3.452345848083496,3.383333444595337,3.3917503356933594,3.3143200874328613,3.167877197265625,3.2267911434173584,3.258772611618042,3.2267911434173584,3.1964926719665527,3.2453064918518066,3.2688724994659424,3.250356435775757,3.211642026901245,3.1762936115264893,3.174610137939453,2.947371482849121,2.895191192626953,2.944004774093628,2.944004774093628,3.0046021938323975,2.994502544403076,3.04331636428833,3.1089632511138916,3.039950132369995,3.07698130607605,3.257089376449585,3.2335240840911865,3.265505790710449,3.2671892642974854,3.3429360389709473,3.5617570877075195,3.5533409118652344,3.6358203887939453,3.736815929412842,3.6543362140655518,3.666119337081909,3.703150987625122,3.664436101913452,3.6728525161743164,3.688002824783325,3.7704813480377197,3.8108785152435303,3.7889962196350098,3.8176109790802,3.891674041748047,3.9219722747802734,3.9505887031555176,3.9825704097747803,4.0313849449157715,4.11049747467041,4.176142692565918,4.258624076843262,4.275456428527832,4.231690406799316,4.213175296783447,4.245157718658447,4.285555362701416,4.130696773529053,4.160994052886963,4.2064433097839355,4.091980934143066,4.231690406799316,4.164361000061035,4.125646591186523,3.901773691177368,3.8007795810699463,3.9219722747802734,3.8613762855529785,3.895040512084961,3.8176109790802,3.6779026985168457,3.708200693130493,3.6038389205932617,3.5802738666534424,3.4708621501922607,3.585322856903076,3.5819571018218994,3.688002824783325,3.6459195613861084,3.8681092262268066,3.8361268043518066,3.6795852184295654,3.7250330448150635,3.8176109790802,3.664436101913452,3.5583903789520264,3.533142566680908,3.533142566680908,3.573540687561035,3.6459195613861084,3.6829521656036377,3.486011505126953,3.305903434753418,3.258772611618042,3.2335240840911865,3.174610137939453,3.169560432434082,3.179659605026245,3.0921308994293213,3.1156961917877197,3.156094551086426,3.0837137699127197,3.162827730178833,3.209958076477051,3.075298309326172,3.0971810817718506,3.156094551086426,3.1729273796081543,3.2032248973846436,3.252039909362793,3.2840209007263184,3.2840209007263184,3.285703659057617,3.1897594928741455,3.265505790710449,3.332836627960205,3.3092703819274902,3.3648171424865723,3.4506630897521973,3.5163094997406006,3.4153151512145996,3.3681836128234863,3.3227357864379883,3.3749165534973145,3.5533409118652344,3.4775943756103516,3.578590154647827,3.5567078590393066,3.529775619506836,3.5280921459198,3.4557127952575684,3.3429360389709473,3.3176867961883545,3.294121026992798,3.3378853797912598,3.3698673248291016,3.4944279193878174,3.208275079727173,3.1661934852600098,3.1005473136901855,3.087080240249634,3.1005473136901855,3.087080240249634,3.085397481918335,3.0079686641693115,3.0180675983428955,3.07698130607605,3.1140127182006836,3.199859619140625,3.156094551086426,3.125796318054199,3.09381365776062,3.071932554244995,3.1392624378204346,3.1325290203094482,3.129162311553955,3.265505790710449,3.260455846786499,3.292437791824341,3.2789711952209473,3.282337188720703,3.289072275161743,3.3530349731445312,3.336202621459961,3.3463025093078613,3.3160042762756348,3.3176867961883545,3.3665013313293457,3.3479843139648438,3.4068992137908936,3.401848316192627,3.3530349731445312,3.3799660205841064,3.428781747817993,3.332836627960205,3.2402565479278564,3.167877197265625,3.0837137699127197,3.075298309326172,3.1005473136901855,3.1914424896240234,3.204909086227417,3.2200584411621094,3.2368905544281006,3.265505790710449,3.262138843536377,3.2671892642974854,3.307587146759033,3.250356435775757,3.295804500579834,3.290754556655884,3.358084201812744,3.3648171424865723,3.4557127952575684,3.398482084274292,3.390066146850586,3.5516574382781982,3.5062100887298584,3.487694263458252,3.5095767974853516,3.5348258018493652,3.4338302612304688,3.3866994380950928,3.430464029312134,3.401848316192627,3.425414562225342,3.4506630897521973,3.3866994380950928,3.3530349731445312,3.4119486808776855,3.560074806213379,3.5903725624084473,3.576906442642212,3.608888864517212,3.5886893272399902,3.6425530910491943,3.743549346923828,3.689685106277466,3.6593854427337646,3.629086971282959,3.6543362140655518,3.6476030349731445,3.578590154647827,3.6425530910491943,3.6526544094085693,3.7401819229125977,3.745231866836548,3.790679931640625,3.7889962196350098,3.8630611896514893,3.85127592086792,3.8563263416290283,3.7873129844665527,3.684635639190674,3.4725449085235596,3.4961118698120117,3.4843287467956543,3.398482084274292,3.479278802871704,3.467495918273926,3.428781747817993,3.428781747817993,3.4439303874969482,3.536508798599243,3.517993450164795,3.5499753952026367,3.5449252128601074,3.541558265686035,3.5466079711914062,3.531458616256714,3.5466079711914062,3.4590792655944824,3.336202621459961,3.282337188720703,3.3749165534973145,3.390066146850586,3.3698673248291016,3.3160042762756348,3.428781747817993,3.4136321544647217,3.344618082046509,3.3732337951660156,3.4119486808776855,3.3850159645080566,3.358084201812744,3.3126370906829834,3.3126370906829834,3.2840209007263184,3.341252088546753,3.358084201812744,3.319369077682495,3.3160042762756348,3.3883824348449707,3.3749165534973145,3.3176867961883545,3.336202621459961,3.3261032104492188,3.295804500579834,3.327786684036255,3.336202621459961,3.4557127952575684,3.4573957920074463,3.531458616256714,3.5280921459198,3.5668070316314697,3.5381929874420166,3.5533409118652344,3.657702684402466,3.656019687652588,3.6980998516082764,3.757014751434326,3.809195041656494,3.790679931640625,3.8580093383789062,3.799095869064331,3.969104051589966,4.022967338562012,4.0448503494262695,4.007819175720215,3.9977192878723145,4.0061354637146,4.268723011016846,4.277139186859131,4.443780899047852,4.400016784667969,4.470712184906006,4.435365200042725,4.467345714569092,4.458930492401123,4.425265312194824,4.41348123550415,4.4101152420043945,4.3225860595703125,4.339419841766357,4.352884769439697,4.3225860595703125,4.3545684814453125,4.285555362701416,4.288921356201172,4.339419841766357,4.342785835266113,4.364667892456055,4.497645378112793,4.45724630355835,4.435365200042725,4.490911483764648,4.5986409187316895,4.692902088165283,4.65587043762207,4.6491379737854,4.671019554138184,4.671019554138184,4.748449325561523,4.7097344398498535,4.623890399932861,4.588540077209473,4.499329090118408,4.472395896911621,4.406750202178955,4.421899318695068,4.46061372756958,4.420214653015137,4.418531894683838,4.448829174041748,4.396649360656738,4.4101152420043945,4.450514316558838,4.511110305786133,4.630621910095215,4.467345714569092,4.420214653015137,4.396649360656738,4.341102123260498,4.435365200042725,4.374767780303955,4.489228248596191,4.532992839813232,4.612107276916504,4.596956729888916,4.581807613372803,4.519527912139893,4.368034362792969,4.176142692565918,4.078516960144043,4.011186122894287,3.970787286758423,3.9421732425689697,3.990987539291382,3.918607711791992,3.925339937210083,3.9505887031555176,3.97752046585083,3.999403238296509,3.9556384086608887,3.965738534927368,3.969104051589966,3.889991521835327,3.8563263416290283,3.8462271690368652,3.6829521656036377,3.7250330448150635,3.4607622623443604,3.5954227447509766,3.4573957920074463,3.608888864517212,3.487694263458252,3.5264089107513428,3.600473403930664,3.4439303874969482,3.607205867767334,3.6307716369628906,3.6375045776367188,3.8007795810699463,3.930389404296875,3.7873129844665527,3.834444522857666,3.888307809829712,3.932072162628174,4.028018474578857,3.878209352493286,3.7283990383148193,3.839494228363037,3.9085073471069336,3.8563263416290283,3.893357753753662,3.9085073471069336,3.900090456008911,4.024651050567627,4.147529125213623,4.189610481262207,4.078516960144043,4.036433219909668,3.9455392360687256,3.805828809738159,3.7889962196350098,3.974154233932495,4.019601345062256,3.9590048789978027,4.038116931915283,3.888307809829712,3.8664262294769287,4.004452705383301,4.017918109893799,4.049900531768799,4.095347881317139,4.137428283691406,4.194660663604736,4.317536354064941,4.245157718658447,4.235058307647705,4.080198764801025,4.2047600746154785,4.186244487762451,4.218225479125977,4.214858531951904,4.3057541847229,4.309121608734131,4.214858531951904,4.361301422119141,4.4101152420043945,4.304071426391602,4.214858531951904,4.224958896636963,4.347837448120117,4.324270248413086,4.283872604370117,4.315853595733643,4.194660663604736,4.140796184539795,4.236741065979004,4.147529125213623,3.965738534927368,3.790679931640625,3.691368341445923,3.7805802822113037,3.8243448734283447,3.7755305767059326,3.721666097640991,3.6206717491149902,3.763747215270996,3.8293943405151367,3.891674041748047,3.932072162628174,3.9085073471069336,3.985936164855957,3.9287068843841553,3.987621545791626,3.9674205780029297,4.073465347290039,4.159311771392822,4.051584243774414,3.9539551734924316,3.9893035888671875,3.9287068843841553,3.8159282207489014,3.9505887031555176,3.962371826171875,4.004452705383301,4.026334285736084,4.026334285736084,4.051584243774414,4.0987138748168945,4.061683177947998,4.004452705383301,4.061683177947998,4.251890659332275,4.186244487762451,4.038116931915283,4.078516960144043,4.103765487670898,4.070098876953125,3.9573214054107666,3.9101903438568115,4.0431671142578125,4.181193828582764,4.132378578186035,4.167728900909424,4.166045188903809,4.208126068115234,4.157627582550049,4.093664646148682,3.9960367679595947,3.932072162628174,3.923656702041626,3.916923999786377,3.9792044162750244,3.9404897689819336,3.9943528175354004,4.122279167175293,4.053265571594238,3.85127592086792,3.8613762855529785,3.8681092262268066,3.839494228363037,3.903881072998047,3.927603006362915,3.9479336738586426,3.892019510269165,3.9462413787841797,3.8513553142547607,3.8971030712127686,3.953019142150879,3.8598268032073975,4.039432525634766,4.044516086578369,4.093652248382568,4.030960559844971,4.0495991706848145,4.102124214172363,4.0495991706848145,4.0275726318359375,4.030960559844971,3.981823682785034,4.03434944152832,3.991989850997925,4.058070659637451,4.0682373046875,4.180066108703613,3.924213409423828,4.002156734466553,4.032655715942383,4.025877475738525,3.980128288269043,3.827634334564209,3.7005538940429688,3.805605888366699,3.734442710876465,3.7191920280456543,3.6819159984588623,3.702249050140381,3.629390001296997,3.603973627090454,3.6531105041503906,3.597195625305176,3.676832437515259,3.753079652786255,3.776801586151123,3.776801586151123,3.792050838470459,3.7903573513031006,3.775106191635132,3.825939178466797,3.825939178466797,3.8428821563720703,3.856438398361206,3.873382568359375,3.8581321239471436,3.8089945316314697,3.698859214782715,3.5734739303588867,3.5768628120422363,3.5429749488830566,3.570085048675537,3.444700241088867,3.5378925800323486,3.493838310241699,3.5311145782470703,3.1380157470703125,3.2312066555023193,3.215956926345825,3.2261242866516113,3.2329015731811523,3.2738895416259766,3.3336617946624756,3.3661108016967773,3.357572078704834,3.275596857070923,3.279012441635132,3.279012441635132,3.337078094482422,3.304629325866699,3.2106997966766357,3.2499794960021973,3.1218929290771484,3.171419620513916,3.0928609371185303,3.0296709537506104,3.04504132270813,3.1116461753845215,3.137263536453247,3.0979840755462646,2.998929977416992,3.021131753921509,2.9357407093048096,2.9852683544158936,3.0433335304260254,3.041625499725342,3.1355557441711426,3.070657968521118,3.137263536453247,3.120185136795044,3.096276044845581,2.992098569869995,2.9972221851348877,2.9391562938690186,2.92037034034729,2.8742589950561523,2.829855442047119,2.85888934135437,2.886214256286621,2.8691353797912598,2.7837448120117188,2.7564194202423096,2.686399459838867,2.693230390548706,2.727386951446533,2.7564194202423096,2.735926389694214,2.735926389694214,2.744464635848999,2.689814329147339,2.7154316902160645,2.7342183589935303,2.8708438873291016,2.8571813106536865,2.8742589950561523,3.0296709537506104,3.0552878379821777,2.9511115550994873,2.9118311405181885,3.070657968521118,3.171419620513916,3.328538656234741,3.328538656234741,3.2089922428131104,3.2277779579162598,3.1879711151123047,3.1412429809570312,3.1395115852355957,3.2208549976348877,3.316044569015503,3.302198648452759,3.5323832035064697,3.556612730026245,3.6448795795440674,3.7487220764160156,3.736607789993286,3.7677600383758545,3.8196816444396973,3.873333215713501,4.006597995758057,3.857757091522217,3.881985902786255,3.9512155055999756,3.935638666152954,3.859488010406494,3.8300657272338867,3.61372709274292,3.655263900756836,3.6206490993499756,3.634495735168457,3.6760330200195312,3.6916086673736572,3.6864163875579834,3.871602773666382,3.9944825172424316,4.023906230926514,4.1519775390625,3.9737143516540527,3.956406831741333,3.940831422805786,3.9425621032714844,3.971984624862671,3.9702529907226562,4.056789398193359,4.001406192779541,4.015251636505127,3.997943162918091,4.029097557067871,4.105248928070068,3.980638027191162,3.9512155055999756,4.084480285644531,4.120825290679932,4.105248928070068,4.139863014221191,4.049866199493408,3.8975634574890137,3.826603889465332,3.9962143898010254,4.025636672973633,4.063711643218994,4.240243434906006,4.421968460083008,4.48600435256958,4.58119535446167,4.686768531799316,4.685037136077881,4.685037136077881,4.660581588745117,4.618657112121582,4.578479766845703,4.585466384887695,4.5121002197265625,4.520834445953369,4.536556243896484,4.653593063354492,4.768885135650635,4.793342113494873,4.840505599975586,4.86146879196167,4.8230390548706055,4.805570125579834,4.807316303253174,4.842254161834717,4.812556743621826,4.564504146575928,4.466681957244873,4.468428611755371,4.347896575927734,4.309465408325195,4.285009384155273,4.382833957672119,4.48240327835083,4.255313873291016,4.332175254821777,4.323440074920654,4.05093240737915,3.9496161937713623,3.98106050491333,4.061413288116455,4.019489288330078,4.045691967010498,4.029970645904541,4.103338241577148,4.066655158996582,4.073642253875732,4.043944835662842,4.099843502044678,4.141769886016846,4.153996467590332,4.195920944213867,4.129540920257568,4.052680492401123,4.312959671020508,4.410782337188721,4.683290481567383,4.402048587799072,4.438733100891113,4.552277088165283,4.576733589172363,4.515594005584717,4.547036170959473,4.498125076293945,4.4317450523376465,4.454453945159912,4.42475700378418,4.319947719573975,4.335668563842773,4.298985958099365,4.330427646636963,4.409036159515381,4.37759256362915,4.247775077819824,4.157698154449463,4.291929721832275,4.311359882354736,4.334320068359375,4.357280731201172,4.461488246917725,4.500345230102539,4.530371189117432,4.487982749938965,4.495047092437744,4.542735576629639,4.457955360412598,4.495047092437744,4.457955360412598,4.532136917114258,4.482683181762695,4.655772686004639,4.6716694831848145,4.9401350021362305,5.256290912628174,5.341070652008057,5.342834949493408,5.279251575469971,5.291615009307861,5.344602108001709,5.277485370635986,5.282783508300781,5.5954060554504395,5.655457973480225,5.542418956756592,5.704911231994629,5.787925720214844,5.77202844619751,5.78085994720459,5.74376916885376,5.862105846405029,6.0457940101623535,6.047560214996338,6.1146769523620605,6.105846405029297,6.164130210876465,6.135873317718506,6.413169860839844,6.561532020568848,6.568595886230469,6.586258411407471,6.5597662925720215,6.550934314727783,6.77877950668335,6.7593488693237305,6.8246989250183105,6.886519908905029,6.720493316650391,7.022518157958984,6.845893383026123,6.496181964874268,6.402572154998779,6.360183238983154,5.6713547706604,5.602470874786377,5.620132923126221,5.916858196258545,5.9052839279174805,6.1261091232299805,6.320219993591309,6.208028316497803,6.165287494659424,6.544606685638428,6.2311787605285645,6.717350482940674,6.516112804412842,6.6835126876831055,6.947076797485352,6.856255054473877,6.849133491516113,6.861598491668701,7.290780067443848,7.26228666305542,7.105574131011963,7.134068489074707,7.191053867340088,7.278315544128418,7.484893321990967,7.516948223114014,7.509825706481934,7.54722261428833,7.655856609344482,7.591744422912598,7.602429389953613,7.554346561431885,7.5864033699035645,7.68790864944458,7.743117332458496,7.807226181030273,7.743117332458496,7.769828796386719,7.739555358886719,7.661197185516357,7.554346561431885,7.700377941131592,7.908735752105713,8.15627384185791,8.083259582519531,8.353946685791016,8.736830711364746,8.900665283203125,8.973679542541504,8.955873489379883,8.724364280700684,8.526688575744629,8.635319709777832,8.72080135345459,8.811624526977539,8.768881797790527,8.670936584472656,8.492852210998535,8.473262786865234,8.494633674621582,8.590799331665039,8.480386734008789,9.244369506835938,9.192724227905273,9.328068733215332,8.792032241821289,8.886419296264648,9.071758270263672,8.991177558898926,8.948199272155762,8.889105796813965,9.16845703125,8.883734703063965,8.971477508544922,9.014453887939453,8.874778747558594,8.855081558227539,9.39229679107666,9.333202362060547,9.422737121582031,9.200689315795898,9.283062934875488,8.85150146484375,8.919547080993652,9.141595840454102,9.096827507019043,9.030572891235352,8.89089584350586,8.89089584350586,9.170248031616211,9.01087474822998,8.921338081359863,9.078923225402832,8.8783597946167,8.831802368164062,8.957152366638184,9.292014122009277,9.23292350769043,9.272317886352539,9.186362266540527,9.250831604003906,9.43169116973877,9.648367881774902,9.7862548828125,9.805952072143555,9.754020690917969,9.813111305236816,9.827441215515137,9.743276596069336,9.929511070251465,9.888325691223145,9.816695213317871,9.85788345336914,9.902647972106934,10.128277778625488,10.036952018737793,9.637622833251953,9.934882164001465,9.916974067687988,10.199910163879395,10.312723159790039,10.284072875976562,10.122906684875488,9.856091499328613,9.524809837341309,9.390503883361816,8.738685607910156,8.92850112915039,8.756591796875,8.641985893249512,8.554241180419922,8.640196800231934,8.459198951721191,8.275497436523438,8.243080139160156,8.127817153930664,8.118812561035156,8.2088623046875,8.243080139160156,8.142223358154297,8.214262962341309,8.516829490661621,8.664509773254395,8.821194648742676,8.992287635803223,8.981481552124023,8.869820594787598,9.098544120788574,9.179588317871094,9.069727897644043,8.831999778747559,8.873425483703613,8.871623039245605,8.941859245300293,8.868019104003906,8.675315856933594,7.949521064758301,8.167438507080078,8.099003791809082,8.198057174682617,8.162036895751953,6.53935432434082,6.658220291137695,6.798696517944336,6.7806854248046875,6.881540298461914,7.068841457366943,6.8887434005737305,6.577173709869385,6.721253871917725,6.492528438568115,6.316033840179443,6.359257221221924,6.316033840179443,6.092710971832275,6.114323139190674,6.260201930999756,6.366461277008057,6.393474578857422,6.559163570404053,6.4384989738464355,6.575374126434326,6.458310127258301,6.413284778594971,6.508737087249756,6.411484718322754,6.4186882972717285,6.404280662536621,6.492528438568115,6.928365707397461,6.856327056884766,6.708646774291992,6.71945333480835,6.697839736938477,6.726655960083008,6.978793621063232,6.967986106872559,6.937370777130127,6.935569763183594,6.931967735290527,6.933767795562744,6.743031024932861,7.080910682678223,7.2207841873168945,6.973731994628906,6.832042217254639,6.982814788818359,6.870190620422363,6.922869682312012,6.864740371704102,7.066376686096191,6.781179904937744,7.37882137298584,7.4660162925720215,7.734866142272949,7.878373622894287,8.0636625289917,7.782097816467285,7.9056220054626465,7.945587158203125,7.843861103057861,7.485997676849365,7.360658168792725,7.478732585906982,7.529597759246826,7.4006218910217285,7.533229827880859,7.44240140914917,7.678554058074951,7.249847412109375,7.304342746734619,7.151753902435303,7.327957630157471,7.329774856567383,7.208068370819092,7.131772518157959,7.251664161682129,6.930136203765869,6.841125011444092,6.510512828826904,6.543210506439209,6.641303539276123,6.688534259796143,6.875638961791992,6.623138427734375,6.515961170196533,6.579540729522705,6.717599868774414,6.61768913269043,6.710333824157715,6.699434280395508,6.980999946594238,6.7739129066467285,6.941035270690918,6.9337687492370605,6.875638961791992,6.699715614318848,6.7015485763549805,6.827993869781494,6.723538875579834,6.831658363342285,6.692385196685791,6.833491325378418,6.915956020355225,6.65207052230835,6.7785162925720215,6.912290096282959,7.383248805999756,7.330106258392334,7.322774887084961,7.350263595581055,7.403407096862793,7.374087810516357,7.368587493896484,7.4345598220825195,7.3942413330078125,7.416234016418457,7.421729564666748,7.489535808563232,7.652628421783447,7.6214776039123535,7.630640506744385,7.658128261566162,7.6562933921813965,7.5573410987854,7.6562933921813965,7.51702356338501,7.612316131591797,7.559171676635742,7.84871244430542,7.852375507354736,8.079608917236328,8.195056915283203,8.447946548461914,8.370979309082031,8.444283485412598,7.95866060256958,7.905519485473633,7.691112518310547,7.553674221038818,7.639801979064941,7.573831081390381,7.604985237121582,7.489535808563232,7.458380699157715,7.630640506744385,7.5005316734313965,7.575665473937988,7.665461540222168,7.264133930206299,7.449219226837158,7.491369247436523,7.573831081390381,7.419899940490723,7.861537456512451,7.771742820739746,7.837716579437256,7.87803316116333,7.911018371582031,7.792832374572754,8.079061508178711,8.038433074951172,8.2064790725708,8.354209899902344,8.176935195922852,7.9701080322265625,7.966415882110596,8.117839813232422,8.053208351135254,8.034741401672363,8.282191276550293,8.128920555114746,8.167699813842773,8.010735511779785,8.010735511779785,7.826070308685303,7.971956253051758,7.766980171203613,7.763282775878906,7.766980171203613,7.608166694641113,7.456742286682129,7.549074649810791,7.47151517868042,7.305318355560303,7.203749656677246,7.320090293884277,7.072639465332031,7.074488639831543,6.869508743286133,6.869508743286133,7.102187156677246,7.244378566741943,7.360716342926025,7.508448123931885,7.517683029174805,7.497366905212402,7.619246006011963,7.761438369750977,7.7208123207092285,7.576773166656494,7.669105529785156,7.770670413970947,7.896242618560791,7.887010097503662,7.8907036781311035,7.947948455810547,8.260029792785645,8.067981719970703,7.892550468444824,7.848230361938477,8.016275405883789,8.210171699523926,8.199090957641602,8.143693923950195,8.128920555114746,8.053208351135254,8.10122013092041,7.044378280639648,7.02577018737793,6.958789825439453,6.92157506942749,7.035074234008789,6.6666669845581055,6.6127095222473145,6.811797618865967,6.897387504577637,6.962507724761963,6.547586917877197,6.618292331695557,6.201509475708008,6.3094258308410645,6.009862422943115,6.127082824707031,5.939158916473389,6.082427024841309,6.1587138175964355,6.419203281402588,6.348498344421387,6.4433913230896,6.212672710418701,6.261049270629883,6.261049270629883,6.2945404052734375,6.2889580726623535,6.2889580726623535,6.460136413574219,6.268491268157959,6.195926666259766,6.268491268157959,6.004281044006348,6.283377170562744,6.097312927246094,6.737372875213623,6.4117608070373535,6.763421058654785,6.711324214935303,6.854592800140381,6.9066901206970215,6.958789825439453,7.100196361541748,7.122524261474609,6.997862815856934,6.748536586761475,6.558751106262207,6.8527326583862305,6.977395057678223,6.815519332885742,6.828543663024902,6.839707374572754,6.917853832244873,7.077868461608887,6.98111629486084,6.930877208709717,6.949484348297119,6.951346397399902,6.977395057678223,6.982975959777832,6.975533485412598,6.949484348297119,6.910411357879639,6.936460018157959,6.889944553375244,6.878780841827393,7.195089340209961,7.196949005126953,7.448135852813721,7.442554473876953,7.472324371337891,7.596986770629883,7.563495635986328,7.34580135345459,7.38301420211792,7.642131805419922,7.715363502502441,7.6815643310546875,7.720996856689453,7.659031867980957,7.68344259262085,7.762302398681641,7.6815643310546875,7.4750213623046875,7.2834978103637695,7.202757835388184,7.076953887939453,7.127649307250977,7.093850612640381,7.172714710235596,7.204633712768555,7.131405353546143,7.2684760093688965,7.508819103240967,7.585803508758545,7.5895586013793945,7.585803508758545,7.677807331085205,7.687198638916016,7.446854591369629,7.570781707763672,7.5257182121276855,7.555760383605957,7.570781707763672,7.644010543823242,7.563270092010498,7.583925247192383,7.384891986846924,7.236555099487305,7.3548479080200195,7.533227443695068,7.514451026916504,7.34733772277832,7.4186906814575195,7.546372413635254,7.465631008148193,7.33231782913208,7.3604817390441895,7.3548479080200195,7.521962642669678,7.555760383605957,7.56890344619751,7.536984443664551,7.655276775360107,7.6609086990356445,7.544495105743408,7.411179542541504,7.68344259262085,8.150982856750488,8.162247657775879,8.256133079528809,8.209190368652344,8.265520095825195,8.28805160522461,8.149855613708496,8.121459007263184,8.111992835998535,8.140390396118164,8.132817268371582,8.049520492553711,8.047629356384277,8.14607048034668,8.176358222961426,8.157429695129395,8.308876991271973,8.39785385131836,8.433822631835938,8.265335083007812,8.337273597717285,8.096848487854004,8.132817268371582,8.35241985321045,8.246403694152832,8.390281677246094,8.714003562927246,8.659103393554688,8.878705978393555,8.890063285827637,8.963894844055176,8.846522331237793,8.787835121154785,8.941176414489746,8.835163116455078,8.865452766418457,8.886276245117188,8.935498237609863,8.886276245117188,8.611775398254395,8.57959270477295,8.57201862335205,8.68371295928955,8.738614082336426,8.679927825927734,8.509547233581543,8.626921653747559,8.782155990600586,8.585269927978516,8.55119514465332,8.672354698181152,8.655317306518555,8.636385917663574,8.727255821228027,8.980931282043457,8.888169288635254,8.895743370056152,8.793514251708984,8.562554359436035,8.48682975769043,8.132817268371582,8.308876991271973,8.587164878845215,8.746187210083008,8.043840408325195,8.041946411132812,7.795843601226807,7.9151105880737305,7.89617919921875,7.877082824707031,7.980202674865723,7.980202674865723,8.087138175964355,8.16925048828125,8.243725776672363,8.211261749267578,8.398402214050293,8.32774829864502,8.071860313415527,7.966832637786865,7.896178245544434,7.844619274139404,7.867535591125488,7.829342842102051,7.695671081542969,7.720494747161865,7.869445323944092,7.737682819366455,7.9248223304748535,8.111963272094727,8.276187896728516,8.295284271240234,8.398402214050293,8.480515480041504,8.390765190124512,8.310561180114746,8.220808982849121,8.388853073120117,8.490062713623047,8.539714813232422,8.612276077270508,8.791779518127441,8.971280097961426,8.660014152526855,8.53016471862793,8.449960708618164,8.698208808898926,8.728761672973633,8.797505378723145,8.818513870239258,8.927359580993652,8.946455955505371,8.963642120361328,8.940729141235352,8.688660621643066,8.772684097290039,8.512979507446289,8.503430366516113,7.099876403808594,7.273651123046875,7.096057891845703,7.2201828956604,7.34430456161499,7.497072219848633,7.1819891929626465,7.239278316497803,6.996758937835693,6.876452922821045,6.689314842224121,6.695102691650391,6.5349602699279785,6.324653148651123,6.424983024597168,6.380606174468994,6.509878158569336,6.259052753448486,6.176086902618408,5.788272857666016,5.840367794036865,5.892462253570557,5.896320819854736,5.604978561401367,5.54902458190918,5.547094345092773,5.518153667449951,5.547094345092773,5.4737772941589355,5.49307107925415,5.485352993011475,5.494999885559082,5.410104751586914,5.462200164794922,5.550954341888428,5.4737772941589355,5.489211559295654,5.4737772941589355,5.668648719787598,5.379234313964844,5.197869300842285,4.935467720031738,4.947044372558594,4.921961307525635,4.860220909118652,4.879514217376709,4.952832221984863,4.835137367248535,5.028079509735107,5.045444488525391,4.960549831390381,5.057021141052246,5.172786235809326,5.001067638397217,5.04930305480957,5.2113752365112305,5.176645755767822,5.381164073944092,5.232598781585693,5.141915798187256,5.145774841308594,5.205586910247803,5.402387619018555,5.545165538787842,5.641637325286865,5.439046859741211,5.635847568511963,5.680225372314453,5.767049312591553,5.780555248260498,5.892462253570557,5.94648551940918,5.969639301300049,6.037169456481934,6.3111467361450195,6.094531059265137,5.998907566070557,5.877915382385254,6.106240272521973,5.940362453460693,6.000859260559082,6.1784443855285645,6.006712913513184,6.227232456207275,6.119899749755859,6.016470909118652,6.020373821258545,5.889623165130615,5.92670202255249,5.907186985015869,5.8720598220825195,6.149171829223633,6.197960376739502,6.192105770111084,6.115996360778809,6.035986423492432,5.911089897155762,5.8720598220825195,5.682765007019043,5.754970073699951,5.83107852935791,5.8720598220825195,6.141366958618164,6.176493167877197,6.2038140296936035,6.285777568817139,6.332613945007324,6.418478965759277,6.305292129516602,6.400917053222656,6.400917053222656,6.502394199371338,6.514103889465332,6.420431613922119,6.400917053222656,6.31505012512207,6.108191013336182,5.998907566070557,5.87596321105957,5.8720598220825195,5.891574382781982,5.955974578857422,5.698376655578613,5.678861141204834,5.606656074523926,5.663249492645264,5.553965091705322,5.47005033493042,5.571528434753418,5.557868003845215,5.555916786193848,5.600802421569824,5.8018059730529785,5.850593090057373,5.620316028594971,5.678861141204834,5.649589538574219,5.637880325317383,5.587141036987305,5.628659248352051,5.626682281494141,5.581209182739258,5.391413688659668,5.245110988616943,5.146258354187012,5.086947441101074,5.16602897644043,5.126487731933594,5.16998291015625,5.219409942626953,5.108694553375244,5.1403279304504395,5.205570697784424,5.009842395782471,5.041476249694824,5.150212287902832,5.221386432647705,5.2549967765808105,5.3498945236206055,5.199639797210693,5.233249187469482,5.205570697784424,5.411183834075928,5.624704360961914,5.6820387840271,5.703787326812744,5.658314228057861,5.533761024475098,5.9687113761901855,5.9687113761901855,6.152576923370361,6.130828857421875,6.0912885665893555,6.105127811431885,6.17827844619751,6.192117691040039,6.16246223449707,6.118967533111572,6.0003437995910645,5.780892372131348,5.859973907470703,5.863927841186523,5.939055919647217,5.8896307945251465,5.857995986938477,5.960803508758545,6.150599956512451,6.198049545288086,6.273177623748779,6.16246223449707,6.093265056610107,6.16246223449707,6.271198749542236,6.219796657562256,6.344350814819336,6.269222736358643,6.358189105987549,5.6820387840271,5.727510929107666,5.632612705230713,5.612841606140137,5.541668891906738,5.612841606140137,5.608888149261475,5.634929180145264,5.564817905426025,5.4446282386779785,5.416584014892578,5.40656852722168,5.414580821990967,5.458650588989258,5.426600456237793,5.588856220245361,5.552800178527832,5.634929180145264,5.662974834442139,5.64694881439209,5.536774158477783,5.4947075843811035,5.5067267417907715,5.436615943908691,5.526758670806885,5.564817905426025,5.434612274169922,5.448634624481201,5.3444695472717285,5.3444695472717285,5.37451696395874,5.218268871307373,5.2322916984558105,5.102086067199707,5.084056854248047,4.947841167449951,4.971878528594971,5.007936000823975,5.029971599578857,5.009938716888428,5.035980701446533,4.957857131958008,4.961863040924072,4.805614948272705,4.787586688995361,4.817634582519531,4.719479084014893,4.192643642425537,4.172613143920898,4.152580738067627,4.25474214553833,4.188638687133789,4.312834739685059,4.3809428215026855,4.4710845947265625,4.605297565460205,4.5371904373168945,4.619319915771484,4.699447154998779,4.699447154998779,4.699447154998779,4.829653739929199,5.220272541046143,5.172197341918945,5.037983417510986,4.9790239334106445,5.019686222076416,5.009520530700684,4.934296607971191,4.985123634338379,5.060347080230713,5.27382230758667,5.279921054840088,5.290086269378662,5.371409893035889,5.365310192108154,5.139638423919678,5.151836395263672,5.1681013107299805,5.265688896179199,5.3104166984558105,5.365310192108154,5.094910144805908,5.166068077087402,5.27585506439209,5.137604713439941,5.151836395263672,5.1355719566345215,5.157936096191406,5.2697553634643555,5.082711219787598,4.985123634338379,4.9790239334106445,5.009520530700684,5.003421306610107,5.025785446166992,4.621201038360596,4.745220184326172,4.7757158279418945,4.7391204833984375,4.794013500213623,4.865171432495117,4.852973461151123,4.913965702056885,4.924130916595459,4.942429065704346,4.915998458862305,4.9790239334106445,4.940395832061768,4.956660270690918,5.029850959777832,5.017652988433838,5.0074872970581055,5.040017604827881,5.162002086639404,5.21689510345459,5.157936096191406,5.233160018920898,5.241292476654053,5.1681013107299805,5.198597431182861,5.330747604370117,5.33888053894043,5.196564674377441,5.342946529388428,5.391740322113037,4.968859672546387,4.976991176605225,5.078646183013916,5.139638423919678,5.064413547515869,5.01561975479126,5.082711219787598,5.082711219787598,5.19832181930542,4.9939398765563965,5.070324897766113,5.093033790588379,5.008391857147217,5.086841106414795,4.929941654205322,4.956779956817627,4.97329568862915,4.946457862854004,4.273441791534424,4.304409027099609,4.484016418457031,4.531499862670898,4.636787414550781,4.655367374420166,4.5418219566345215,4.537693500518799,4.492275238037109,4.508790493011475,4.471630573272705,4.517048358917236,4.564531326293945,4.556273460388184,4.620271682739258,4.725559234619141,4.715236663818359,4.702849864959717,4.787492752075195,4.787492752075195,4.793686866760254,4.830847263336182,4.882458686828613,4.7689127922058105,4.684269905090332,4.702849864959717,4.839105606079102,4.948521614074707,4.86594295501709,4.954715728759766,5.0331645011901855,5.055873870849609,5.150839328765869,5.026971340179443,4.960908889770508,5.029036045074463,5.0517449378967285,4.9216837882995605,4.909296035766602,5.000133037567139,4.9650373458862305,4.67807674407959,4.688398838043213,4.876265525817871,4.587240695953369,4.659496307373047,4.5707244873046875,4.702849864959717,4.680140972137451,4.720035076141357,4.598254203796387,4.627649784088135,4.486972332000732,4.62135124206543,4.558361053466797,4.615052223205566,4.541563510894775,4.455477714538574,4.323199272155762,4.3672919273376465,4.3336968421936035,4.295903205871582,4.312701225280762,4.33579683303833,4.436580657958984,4.489072799682617,4.516367435455322,4.537364959716797,4.537364959716797,4.53526496887207,4.516367435455322,4.434481143951416,4.390388011932373,4.386188507080078,4.400885581970215,4.407185077667236,4.4428791999816895,4.413484573364258,4.468075752258301,4.428182125091553,4.482773780822754,4.4302825927734375,4.36309289932251,4.3672919273376465,4.463876247406006,4.4176836013793945,4.5562615394592285,4.514268398284912,4.554161548614502,4.484873294830322,4.489072799682617,4.547863006591797,4.604553699493408,4.654945373535156,4.606653213500977,4.636048316955566,4.507968902587891,4.568859577178955,4.587756633758545,4.394587516784668,4.491171360015869,4.4302825927734375,4.455477714538574,4.405086040496826,4.5436625480651855,4.510068893432617,4.573058605194092,4.073339462280273,4.020848751068115,3.936861991882324,3.945260524749756,3.884370803833008,3.920064926147461,3.9767556190490723,4.060741424560547,4.037182331085205,4.101434707641602,4.112143516540527,4.182821273803711,4.287765979766846,4.300616264343262,4.345592975616455,4.319891929626465,4.32417631149292,4.304900169372559,4.259922981262207,4.285624980926514,4.377719879150391,4.422696113586426,4.465530872344971,4.4526801109313965,4.424837589263916,4.384144306182861,4.3284592628479,4.337026119232178,4.394853115081787,4.287765979766846,4.315609455108643,4.332742214202881,4.195671558380127,4.176395893096924,4.221372127532959,4.157120227813721,4.210662841796875,4.294190883636475,4.294190883636475,4.311325550079346,4.343451499938965,4.2749152183532715,4.199954986572266,4.178537845611572,4.142127513885498,4.02004861831665,4.002914905548096,3.9836390018463135,3.9643635749816895,3.876551389694214,3.8187248706817627,3.6645193099975586,3.68379545211792,3.7608978748321533,3.518880844116211,3.469621419906616,3.4674794673919678,3.426786184310913,3.4653375148773193,3.4931800365448,3.5210227966308594,3.5831329822540283,3.7202045917510986,3.7309136390686035,3.8915438652038574,4.073591709136963,4.180678844451904,4.095492839813232,4.0998616218566895,4.237469673156738,4.209074974060059,4.152284145355225,4.069281578063965,4.193784713745117,4.165389537811279,4.174126148223877,4.078018665313721,4.014675140380859,4.0059380531311035,4.07583475112915,4.016859531402588,3.986279249191284,4.029965400695801,3.9950168132781982,4.0430707931518555,3.986279249191284,3.9688055515289307,3.92075252532959,3.988464117050171,3.975358724594116,4.0015692710876465,4.080203533172607,4.2003374099731445,4.270233631134033,4.298629283905029,4.359788417816162,3.879251003265381,3.748195171356201,3.822460412979126,3.9010939598083496,3.9600682258605957,3.833380937576294,3.800617218017578,3.7088780403137207,3.6782987117767334,3.7263526916503906,3.7460110187530518,3.728536605834961,3.671746015548706,3.638982057571411,3.5450587272644043,3.4183714389801025,3.525400400161743,3.5974812507629395,3.457688093185425,3.5319533348083496,3.4511351585388184,3.4030816555023193,3.542874336242676,3.5843753814697266,3.582190990447998,3.464240789413452,3.4271085262298584,3.411818742752075,3.4882681369781494,3.5122947692871094,3.40089750289917,3.4271085262298584,3.4882681369781494,3.564342975616455,3.5911924839019775,3.5934300422668457,3.5665805339813232,3.499455213546753,3.546443223953247,3.4793179035186768,3.4927425384521484,3.4591801166534424,3.4256176948547363,3.450230360031128,3.3137426376342773,3.2376675605773926,3.136979818344116,3.0944671630859375,3.020629644393921,3.1414549350738525,3.105654716491699,3.166067123413086,2.8237292766571045,2.8684792518615723,2.910991907119751,2.9848294258117676,3.0340545177459717,3.004967212677002,3.0161545276641846,3.0609047412872314,3.0967047214508057,3.0497169494628906,3.0452418327331543,3.0899922847747803,3.11907958984375,3.056429624557495,3.0251047611236572,2.881904363632202,2.9535045623779297,3.0004920959472656,3.0116796493530273,3.0586671829223633,3.101179599761963,3.054192066192627,3.098942518234253,3.009442090988159,2.8707168102264404,2.908754348754883,2.8841419219970703,2.861766815185547,2.893091917037964,2.915466785430908,2.8438668251037598,2.9669296741485596,3.022867441177368,3.0318169593811035,3.0474793910980225,2.7879292964935303,2.8595292568206787,2.834916830062866,2.846104383468628,2.850579261779785,2.834916830062866,2.9199419021606445,3.002729654312134,2.9535045623779297,3.069854736328125,3.186204671859741,3.2667551040649414,3.2264797687530518,3.24214243888855,3.2510924339294434,3.2832589149475098,3.228116512298584,3.062689781188965,2.9524056911468506,3.2074382305145264,3.492339611053467,3.6187071800231934,3.6095166206359863,3.568159818649292,3.5658624172210693,3.47166109085083,3.4394948482513428,3.3544843196868896,3.4188168048858643,3.3475914001464844,3.253389835357666,3.228116512298584,3.361377000808716,3.480851411819458,3.5543746948242188,3.4142212867736816,3.37746000289917,3.4670660495758057,3.5107202529907227,3.496934652328491,3.349888801574707,3.349888801574707,3.428006887435913,3.464768409729004,3.421114206314087,3.395840644836426,3.333806037902832,3.402733564376831,3.4073286056518555,3.37746000289917,3.3108296394348145,3.384352684020996,3.359079122543335,3.411924123764038,3.4142212867736816,3.473958730697632,3.5038273334503174,3.4946370124816895,3.5199108123779297,3.4946370124816895,3.561267137527466,3.542886734008789,3.496934652328491,3.5222082138061523,3.641683340072632,3.788728713989258,3.901310682296753,3.8507637977600098,3.80251407623291,3.3797574043273926,3.2235212326049805,3.244199514389038,3.1201295852661133,3.0489044189453125,3.228116512298584,3.735884428024292,3.708313226699829,3.7060155868530273,3.676146984100342,3.7129085063934326,3.8277881145477295,3.9150965213775635,3.857656717300415,3.904672622680664,3.8788137435913086,3.9023220539093018,3.8764631748199463,3.8835155963897705,3.6484360694885254,3.7659757137298584,3.664891481399536,3.6554882526397705,3.5896661281585693,3.5920166969299316,3.495634078979492,3.507388114929199,3.483880043029785,3.4509692192077637,3.5214929580688477,3.469775438308716,3.4862310886383057,3.4462673664093018,3.4791786670684814,3.4979848861694336,3.594367504119873,3.601419687271118,3.5402991771698,3.4627227783203125,3.5544040203094482,3.5896661281585693,3.542649984359741,3.394549608230591,3.2229416370391846,3.4157071113586426,3.448618173599243,3.4321627616882324,3.6084725856781006,3.669593095779419,3.52384352684021,3.5144402980804443,3.5026865005493164,3.493283271789551,3.441565990447998,3.2629053592681885,3.2629053592681885,3.0466318130493164,3.0865955352783203,3.0066685676574707,3.0630877017974854,2.886777877807617,3.2229416370391846,3.1735751628875732,3.4274611473083496,3.46037220954895,3.528545379638672,3.4392149448394775,3.2111876010894775,3.260554552078247,3.1735751628875732,3.1876797676086426,3.2158894538879395,3.1989636421203613,3.131260633468628,3.1989636421203613,3.092573404312134,3.0853195190429688,3.0587217807769775,3.0780653953552246,3.0417962074279785,3.0055267810821533,2.8918824195861816,2.8217616081237793,2.998272657394409,2.945077657699585,2.969257116317749,3.0514678955078125,3.160276174545288,3.136096715927124,3.684973955154419,3.7430050373077393,3.822798013687134,3.863903045654297,3.85906720161438,3.8324697017669678,3.7816925048828125,3.7550947666168213,3.7913644313812256,3.8131260871887207,3.851813554763794,3.692228078842163,3.7430050373077393,3.8203799724578857,3.84455943107605,3.7478411197662354,2.727461099624634,2.7081172466278076,2.741968870162964,2.7177891731262207,2.749222755432129,2.8507771492004395,2.783074378967285,2.773402452468872,2.744386911392212,2.732296943664551,2.792746067047119,2.773402452468872,2.739550828933716,2.763730525970459,2.7081172466278076,2.7081172466278076,2.6670119762420654,2.749222755432129,2.792746067047119,2.8145077228546143,2.8217616081237793,2.8290154933929443,2.8411052227020264,2.797581911087036,2.8048360347747803,2.795164108276367,2.8024179935455322,2.6525044441223145,2.722625255584717,2.773402452468872,2.799999952316284,2.737499952316284,2.765000104904175,2.7674999237060547,2.740000009536743,2.625,2.637500047683716,2.612499952316284,2.5350000858306885,2.5875000953674316,2.572499990463257,2.547499895095825,2.5399999618530273,2.5924999713897705,2.5250000953674316,2.4075000286102295,2.507499933242798,2.4649999141693115,2.484999895095825,2.4549999237060547,2.492500066757202,2.440000057220459,2.3299999237060547,2.234999895095825,2.2699999809265137,2.234999895095825,2.192500114440918,2.1624999046325684,2.2225000858306885,2.252500057220459,2.237499952316284,2.2225000858306885,2.190000057220459,2.1624999046325684,2.127500057220459,2.192500114440918,2.242500066757202,2.2125000953674316,2.192500114440918,2.172499895095825,2.130000114440918,2.119999885559082,2.065000057220459,2.132499933242798,2.172499895095825,2.1675000190734863,2.1524999141693115,2.015000104904175,2.0325000286102295,1.975000023841858,1.9249999523162842,1.9550000429153442,1.934999942779541,1.8925000429153442,1.899999976158142,1.8949999809265137,1.8674999475479126,1.9550000429153442,1.2599999904632568,1.2825000286102295,1.2549999952316284,1.3600000143051147,1.4299999475479126,1.375,1.4249999523162842,1.4075000286102295,1.4249999523162842,1.4325000047683716,1.4075000286102295,1.3825000524520874,1.3550000190734863,1.3424999713897705,1.3624999523162842,1.3674999475479126,1.3849999904632568,1.3674999475479126,1.340000033378601,1.3450000286102295,1.3274999856948853,1.3799999952316284,1.3624999523162842,1.3274999856948853,1.2949999570846558,1.2100000381469727,1.2274999618530273,1.1875,1.1575000286102295,1.0950000286102295,1.0499999523162842,1.0800000429153442,1.034999966621399,1.0225000381469727,1.0199999809265137,0.9950000047683716,1.002500057220459,1.0299999713897705,1.0075000524520874,1.0049999952316284,0.9599999785423279,0.9449999928474426,0.9275000095367432,0.9524999856948853,0.9524999856948853,0.9725000262260437,0.8974999785423279,0.8774999976158142,0.8675000071525574,0.8299999833106995,0.8025000095367432,0.8299999833106995,0.8450000286102295,0.8550000190734863,0.8849999904632568,0.9674999713897705,0.9125000238418579,0.9549999833106995,0.925000011920929,0.9700000286102295,1.0575000047683716,0.9925000071525574,0.9524999856948853,0.9950000047683716,1.0575000047683716,1.0774999856948853,1.190000057220459,1.2725000381469727,1.1475000381469727,1.1449999809265137,1.1024999618530273,1.087499976158142,1.0824999809265137,1.149999976158142,1.1100000143051147,1.1749999523162842,1.2549999952316284,1.252500057220459,1.2999999523162842,1.3200000524520874,1.3350000381469727,1.3799999952316284,1.3949999809265137,1.3300000429153442,1.3550000190734863,1.3875000476837158,1.372499942779541,1.3075000047683716,1.247499942779541,1.2625000476837158,1.3424999713897705,1.3949999809265137,1.402500033378601,1.4700000286102295,1.5075000524520874,1.4850000143051147,1.4824999570846558,1.597499966621399,1.6074999570846558,1.6050000190734863,1.587499976158142,1.5475000143051147,1.4524999856948853,1.4325000047683716,1.3600000143051147,1.4600000381469727,1.462499976158142,1.4774999618530273,1.5225000381469727,1.5549999475479126,1.5225000381469727,1.5049999952316284,1.4800000190734863,1.4850000143051147,1.4950000047683716,1.4700000286102295,1.4049999713897705,1.375,1.3650000095367432,1.375,1.4149999618530273,1.5075000524520874,1.524999976158142,1.587499976158142,1.5850000381469727,1.5425000190734863,1.5299999713897705,1.6074999570846558,1.600000023841858,1.6699999570846558,1.5824999809265137,1.627500057220459,1.3825000524520874,1.3949999809265137,1.3624999523162842,1.375,1.5149999856948853,1.5399999618530273,1.5149999856948853,1.497499942779541,1.402500033378601,1.3600000143051147,1.350000023841858,1.475000023841858,1.5325000286102295,1.5199999809265137,1.5774999856948853,1.4700000286102295,1.462499976158142,1.3799999952316284,1.4299999475479126,1.3875000476837158,1.3574999570846558,1.3574999570846558,1.1775000095367432,1.152500033378601,1.1549999713897705,1.1875,1.1475000381469727,1.1399999856948853,1.1549999713897705,1.0800000429153442,1.0700000524520874,1.0525000095367432,1.0325000286102295,0.9825000166893005,0.9599999785423279,0.987500011920929,1.0175000429153442,1.0449999570846558,1.034999966621399,0.9524999856948853,0.9850000143051147,1.0049999952316284,1.0475000143051147,1.027500033378601,1.0049999952316284,1.0149999856948853,1.037500023841858,1.034999966621399,1.0099999904632568,0.925000011920929,0.8899999856948853,0.8475000262260437,0.8675000071525574,0.8999999761581421,0.9574999809265137,0.9075000286102295,0.9424999952316284,0.9900000095367432,0.9800000190734863,0.925000011920929,1.0575000047683716,1.034999966621399,0.9950000047683716,1.1475000381469727,1.0924999713897705,1.0575000047683716,0.9424999952316284,1.0475000143051147,0.9399999976158142,0.9524999856948853,1.0399999618530273,1.0425000190734863,1.1024999618530273,1.0549999475479126,0.9125000238418579,0.875,0.8125,0.7124999761581421,0.699999988079071,0.7724999785423279,0.8174999952316284,0.8525000214576721,0.9725000262260437,1.184999942779541,1.4874999523162842,1.3174999952316284,1.2575000524520874,1.2200000286102295,1.402500033378601,1.1950000524520874,1.222499966621399,1.1749999523162842,1.1924999952316284,1.4550000429153442,1.409999966621399,1.5099999904632568,1.4325000047683716,1.5125000476837158,1.3700000047683716,1.347499966621399,1.2324999570846558,1.2174999713897705,1.2450000047683716,1.190000057220459,1.1349999904632568,1.0525000095367432,1.0325000286102295,1.0549999475479126,1.1449999809265137,1.1100000143051147,1.1074999570846558,1.1100000143051147,1.0449999570846558,1.1050000190734863,1.1725000143051147,1.0824999809265137,1.0149999856948853,1.0325000286102295,1.0449999570846558,1.1100000143051147,1.1174999475479126,1.034999966621399,1.252500057220459,1.2400000095367432,1.2675000429153442,1.0924999713897705,1.1799999475479126,1.1725000143051147,1.159999966621399,1.190000057220459,1.2374999523162842,1.2200000286102295,1.2174999713897705,1.2074999809265137,1.1024999618530273,1.1150000095367432,1.087499976158142,1.0950000286102295,1.0850000381469727,1.1100000143051147,1.0724999904632568,1.059999942779541,1.0225000381469727,1.065000057220459,1.0525000095367432,1.0850000381469727,1.065000057220459,1.0199999809265137,1.0475000143051147,1.0425000190734863,0.9900000095367432,0.9624999761581421,1.002500057220459,1.027500033378601,1.027500033378601,1.0075000524520874,1.002500057220459,0.9850000143051147,1.0149999856948853,1.024999976158142,1.002500057220459,1.037500023841858,1.1074999570846558,1.1575000286102295,1.1074999570846558,1.0399999618530273,1.0824999809265137,1.087499976158142,1.1299999952316284,1.159999966621399,1.1875,1.1575000286102295,1.2024999856948853,1.1799999475479126,1.152500033378601,1.2575000524520874,1.2174999713897705,1.2450000047683716,1.277500033378601,1.3125,1.347499966621399,1.6699999570846558,1.912500023841858,1.9275000095367432,1.9550000429153442,1.912500023841858,1.9249999523162842,1.837499976158142,1.5575000047683716,1.5225000381469727,1.7274999618530273,1.7725000381469727,2.1700000762939453,2.299999952316284,2.367500066757202,2.1875,2.640000104904175,2.509999990463257,2.2850000858306885,2.505000114440918,2.5225000381469727,2.5875000953674316,2.549999952316284,2.442500114440918,2.3475000858306885,2.365000009536743,2.2825000286102295,2.3399999141693115,3.372499942779541,3.005000114440918,2.950000047683716,2.9700000286102295,3.0625,3.4574999809265137,3.327500104904175,3.4774999618530273,3.4649999141693115,3.5250000953674316,3.7274999618530273,3.75,3.362499952316284,3.172499895095825,2.9549999237060547,2.932499885559082,2.617500066757202,2.6875,2.8924999237060547,2.7274999618530273,2.862499952316284,2.9649999141693115,2.872499942779541,2.7750000953674316,2.9375,2.7825000286102295,2.752500057220459,3.015000104904175,2.9075000286102295,2.8924999237060547,3.115000009536743,3.177500009536743,3.4749999046325684,3.4175000190734863,3.6875,4.019999980926514,4.139999866485596,3.950000047683716,4.144999980926514,4.03000020980835,4.224999904632568,4.087500095367432,4.235000133514404,3.4149999618530273,3.5299999713897705,3.327500104904175,3.180000066757202,3.4625000953674316,3.4625000953674316,3.7074999809265137,3.9075000286102295,3.882499933242798,4.864999771118164,5.142499923706055,5.037499904632568,5.247499942779541,4.84499979019165,4.815000057220459,4.710000038146973,4.3125,4.34250020980835,4.590000152587891,4.519999980926514,4.422500133514404,4.985000133514404,4.987500190734863,7.849999904632568,9.977499961853027,8.875,9.84000015258789,9.779999732971191,10.757499694824219,16.252500534057617,19.197500228881836,36.994998931884766,86.87750244140625,48.400001525878906,81.25,56.25,22.5,23.102500915527344,13.375,15.942500114440918,15.0,12.577500343322754,12.800000190734863,12.774999618530273,13.100000381469727,12.3774995803833,11.484999656677246,10.172499656677246,10.147500038146973,11.5,11.242500305175781,22.927499771118164,27.1825008392334,25.434999465942383,30.100000381469727,29.545000076293945,31.045000076293945,33.087501525878906,34.435001373291016,48.625,61.724998474121094,66.25,65.0,66.125,55.03499984741211,52.04249954223633,52.45249938964844,50.4375,50.067501068115234,48.622501373291016,45.4375,30.084999084472656,45.9375,45.25,45.32500076293945,48.6150016784668,47.45500183105469,47.86249923706055,46.73749923706055,46.125,44.49250030517578,42.564998626708984,39.59000015258789,35.272499084472656,35.247501373291016,41.63249969482422,39.11000061035156,38.67250061035156,41.092498779296875,39.63249969482422,39.627498626708984,37.79249954223633,37.79499816894531,42.23249816894531,44.442501068115234,44.64500045776367,44.04750061035156,43.397499084472656,40.54999923706055,40.182498931884766,39.869998931884766,40.252498626708984,40.27750015258789,35.80500030517578,36.72999954223633,36.1974983215332,41.125,39.97999954223633,45.150001525878906,45.16749954223633,42.20750045776367,42.622501373291016,44.1974983215332,45.002498626708984,52.35749816894531,60.63999938964844,63.532501220703125,55.5,62.255001068115234,70.55999755859375,64.54499816894531,62.09000015258789,70.00250244140625,75.0,75.63999938964844,55.09749984741211,58.334999084472656,57.36000061035156],\"type\":\"scatter\",\"xaxis\":\"x\",\"yaxis\":\"y\"},{\"name\":\"Revenue\",\"x\":[\"2021-04-30T00:00:00\",\"2021-01-31T00:00:00\",\"2020-10-31T00:00:00\",\"2020-07-31T00:00:00\",\"2020-04-30T00:00:00\",\"2020-01-31T00:00:00\",\"2019-10-31T00:00:00\",\"2019-07-31T00:00:00\",\"2019-04-30T00:00:00\",\"2019-01-31T00:00:00\",\"2018-10-31T00:00:00\",\"2018-07-31T00:00:00\",\"2018-04-30T00:00:00\",\"2018-01-31T00:00:00\",\"2017-10-31T00:00:00\",\"2017-07-31T00:00:00\",\"2017-04-30T00:00:00\",\"2017-01-31T00:00:00\",\"2016-10-31T00:00:00\",\"2016-07-31T00:00:00\",\"2016-04-30T00:00:00\",\"2016-01-31T00:00:00\",\"2015-10-31T00:00:00\",\"2015-07-31T00:00:00\",\"2015-04-30T00:00:00\",\"2015-01-31T00:00:00\",\"2014-10-31T00:00:00\",\"2014-07-31T00:00:00\",\"2014-04-30T00:00:00\",\"2014-01-31T00:00:00\",\"2013-10-31T00:00:00\",\"2013-07-31T00:00:00\",\"2013-04-30T00:00:00\",\"2013-01-31T00:00:00\",\"2012-10-31T00:00:00\",\"2012-07-31T00:00:00\",\"2012-04-30T00:00:00\",\"2012-01-31T00:00:00\",\"2011-10-31T00:00:00\",\"2011-07-31T00:00:00\",\"2011-04-30T00:00:00\",\"2011-01-31T00:00:00\",\"2010-10-31T00:00:00\",\"2010-07-31T00:00:00\",\"2010-04-30T00:00:00\",\"2010-01-31T00:00:00\",\"2009-10-31T00:00:00\",\"2009-07-31T00:00:00\",\"2009-04-30T00:00:00\",\"2009-01-31T00:00:00\"],\"y\":[1277.0,2122.0,1005.0,942.0,1021.0,2194.0,1439.0,1286.0,1548.0,3063.0,1935.0,1501.0,1786.0,2825.0,1989.0,1688.0,2046.0,2403.0,1959.0,1632.0,1972.0,3525.0,2016.0,1762.0,2061.0,3476.0,2092.0,1731.0,1996.0,3684.0,2107.0,1384.0,1865.0,3562.0,1773.0,1550.0,2002.0,3579.0,1947.0,1744.0,2281.0,3693.0,1899.0,1799.0,2083.0,3524.0,1835.0,1739.0,1981.0,3492.0],\"type\":\"scatter\",\"xaxis\":\"x2\",\"yaxis\":\"y2\"}],                        {\"template\":{\"data\":{\"histogram2dcontour\":[{\"type\":\"histogram2dcontour\",\"colorbar\":{\"outlinewidth\":0,\"ticks\":\"\"},\"colorscale\":[[0.0,\"#0d0887\"],[0.1111111111111111,\"#46039f\"],[0.2222222222222222,\"#7201a8\"],[0.3333333333333333,\"#9c179e\"],[0.4444444444444444,\"#bd3786\"],[0.5555555555555556,\"#d8576b\"],[0.6666666666666666,\"#ed7953\"],[0.7777777777777778,\"#fb9f3a\"],[0.8888888888888888,\"#fdca26\"],[1.0,\"#f0f921\"]]}],\"choropleth\":[{\"type\":\"choropleth\",\"colorbar\":{\"outlinewidth\":0,\"ticks\":\"\"}}],\"histogram2d\":[{\"type\":\"histogram2d\",\"colorbar\":{\"outlinewidth\":0,\"ticks\":\"\"},\"colorscale\":[[0.0,\"#0d0887\"],[0.1111111111111111,\"#46039f\"],[0.2222222222222222,\"#7201a8\"],[0.3333333333333333,\"#9c179e\"],[0.4444444444444444,\"#bd3786\"],[0.5555555555555556,\"#d8576b\"],[0.6666666666666666,\"#ed7953\"],[0.7777777777777778,\"#fb9f3a\"],[0.8888888888888888,\"#fdca26\"],[1.0,\"#f0f921\"]]}],\"heatmap\":[{\"type\":\"heatmap\",\"colorbar\":{\"outlinewidth\":0,\"ticks\":\"\"},\"colorscale\":[[0.0,\"#0d0887\"],[0.1111111111111111,\"#46039f\"],[0.2222222222222222,\"#7201a8\"],[0.3333333333333333,\"#9c179e\"],[0.4444444444444444,\"#bd3786\"],[0.5555555555555556,\"#d8576b\"],[0.6666666666666666,\"#ed7953\"],[0.7777777777777778,\"#fb9f3a\"],[0.8888888888888888,\"#fdca26\"],[1.0,\"#f0f921\"]]}],\"heatmapgl\":[{\"type\":\"heatmapgl\",\"colorbar\":{\"outlinewidth\":0,\"ticks\":\"\"},\"colorscale\":[[0.0,\"#0d0887\"],[0.1111111111111111,\"#46039f\"],[0.2222222222222222,\"#7201a8\"],[0.3333333333333333,\"#9c179e\"],[0.4444444444444444,\"#bd3786\"],[0.5555555555555556,\"#d8576b\"],[0.6666666666666666,\"#ed7953\"],[0.7777777777777778,\"#fb9f3a\"],[0.8888888888888888,\"#fdca26\"],[1.0,\"#f0f921\"]]}],\"contourcarpet\":[{\"type\":\"contourcarpet\",\"colorbar\":{\"outlinewidth\":0,\"ticks\":\"\"}}],\"contour\":[{\"type\":\"contour\",\"colorbar\":{\"outlinewidth\":0,\"ticks\":\"\"},\"colorscale\":[[0.0,\"#0d0887\"],[0.1111111111111111,\"#46039f\"],[0.2222222222222222,\"#7201a8\"],[0.3333333333333333,\"#9c179e\"],[0.4444444444444444,\"#bd3786\"],[0.5555555555555556,\"#d8576b\"],[0.6666666666666666,\"#ed7953\"],[0.7777777777777778,\"#fb9f3a\"],[0.8888888888888888,\"#fdca26\"],[1.0,\"#f0f921\"]]}],\"surface\":[{\"type\":\"surface\",\"colorbar\":{\"outlinewidth\":0,\"ticks\":\"\"},\"colorscale\":[[0.0,\"#0d0887\"],[0.1111111111111111,\"#46039f\"],[0.2222222222222222,\"#7201a8\"],[0.3333333333333333,\"#9c179e\"],[0.4444444444444444,\"#bd3786\"],[0.5555555555555556,\"#d8576b\"],[0.6666666666666666,\"#ed7953\"],[0.7777777777777778,\"#fb9f3a\"],[0.8888888888888888,\"#fdca26\"],[1.0,\"#f0f921\"]]}],\"mesh3d\":[{\"type\":\"mesh3d\",\"colorbar\":{\"outlinewidth\":0,\"ticks\":\"\"}}],\"scatter\":[{\"fillpattern\":{\"fillmode\":\"overlay\",\"size\":10,\"solidity\":0.2},\"type\":\"scatter\"}],\"parcoords\":[{\"type\":\"parcoords\",\"line\":{\"colorbar\":{\"outlinewidth\":0,\"ticks\":\"\"}}}],\"scatterpolargl\":[{\"type\":\"scatterpolargl\",\"marker\":{\"colorbar\":{\"outlinewidth\":0,\"ticks\":\"\"}}}],\"bar\":[{\"error_x\":{\"color\":\"#2a3f5f\"},\"error_y\":{\"color\":\"#2a3f5f\"},\"marker\":{\"line\":{\"color\":\"#E5ECF6\",\"width\":0.5},\"pattern\":{\"fillmode\":\"overlay\",\"size\":10,\"solidity\":0.2}},\"type\":\"bar\"}],\"scattergeo\":[{\"type\":\"scattergeo\",\"marker\":{\"colorbar\":{\"outlinewidth\":0,\"ticks\":\"\"}}}],\"scatterpolar\":[{\"type\":\"scatterpolar\",\"marker\":{\"colorbar\":{\"outlinewidth\":0,\"ticks\":\"\"}}}],\"histogram\":[{\"marker\":{\"pattern\":{\"fillmode\":\"overlay\",\"size\":10,\"solidity\":0.2}},\"type\":\"histogram\"}],\"scattergl\":[{\"type\":\"scattergl\",\"marker\":{\"colorbar\":{\"outlinewidth\":0,\"ticks\":\"\"}}}],\"scatter3d\":[{\"type\":\"scatter3d\",\"line\":{\"colorbar\":{\"outlinewidth\":0,\"ticks\":\"\"}},\"marker\":{\"colorbar\":{\"outlinewidth\":0,\"ticks\":\"\"}}}],\"scattermapbox\":[{\"type\":\"scattermapbox\",\"marker\":{\"colorbar\":{\"outlinewidth\":0,\"ticks\":\"\"}}}],\"scatterternary\":[{\"type\":\"scatterternary\",\"marker\":{\"colorbar\":{\"outlinewidth\":0,\"ticks\":\"\"}}}],\"scattercarpet\":[{\"type\":\"scattercarpet\",\"marker\":{\"colorbar\":{\"outlinewidth\":0,\"ticks\":\"\"}}}],\"carpet\":[{\"aaxis\":{\"endlinecolor\":\"#2a3f5f\",\"gridcolor\":\"white\",\"linecolor\":\"white\",\"minorgridcolor\":\"white\",\"startlinecolor\":\"#2a3f5f\"},\"baxis\":{\"endlinecolor\":\"#2a3f5f\",\"gridcolor\":\"white\",\"linecolor\":\"white\",\"minorgridcolor\":\"white\",\"startlinecolor\":\"#2a3f5f\"},\"type\":\"carpet\"}],\"table\":[{\"cells\":{\"fill\":{\"color\":\"#EBF0F8\"},\"line\":{\"color\":\"white\"}},\"header\":{\"fill\":{\"color\":\"#C8D4E3\"},\"line\":{\"color\":\"white\"}},\"type\":\"table\"}],\"barpolar\":[{\"marker\":{\"line\":{\"color\":\"#E5ECF6\",\"width\":0.5},\"pattern\":{\"fillmode\":\"overlay\",\"size\":10,\"solidity\":0.2}},\"type\":\"barpolar\"}],\"pie\":[{\"automargin\":true,\"type\":\"pie\"}]},\"layout\":{\"autotypenumbers\":\"strict\",\"colorway\":[\"#636efa\",\"#EF553B\",\"#00cc96\",\"#ab63fa\",\"#FFA15A\",\"#19d3f3\",\"#FF6692\",\"#B6E880\",\"#FF97FF\",\"#FECB52\"],\"font\":{\"color\":\"#2a3f5f\"},\"hovermode\":\"closest\",\"hoverlabel\":{\"align\":\"left\"},\"paper_bgcolor\":\"white\",\"plot_bgcolor\":\"#E5ECF6\",\"polar\":{\"bgcolor\":\"#E5ECF6\",\"angularaxis\":{\"gridcolor\":\"white\",\"linecolor\":\"white\",\"ticks\":\"\"},\"radialaxis\":{\"gridcolor\":\"white\",\"linecolor\":\"white\",\"ticks\":\"\"}},\"ternary\":{\"bgcolor\":\"#E5ECF6\",\"aaxis\":{\"gridcolor\":\"white\",\"linecolor\":\"white\",\"ticks\":\"\"},\"baxis\":{\"gridcolor\":\"white\",\"linecolor\":\"white\",\"ticks\":\"\"},\"caxis\":{\"gridcolor\":\"white\",\"linecolor\":\"white\",\"ticks\":\"\"}},\"coloraxis\":{\"colorbar\":{\"outlinewidth\":0,\"ticks\":\"\"}},\"colorscale\":{\"sequential\":[[0.0,\"#0d0887\"],[0.1111111111111111,\"#46039f\"],[0.2222222222222222,\"#7201a8\"],[0.3333333333333333,\"#9c179e\"],[0.4444444444444444,\"#bd3786\"],[0.5555555555555556,\"#d8576b\"],[0.6666666666666666,\"#ed7953\"],[0.7777777777777778,\"#fb9f3a\"],[0.8888888888888888,\"#fdca26\"],[1.0,\"#f0f921\"]],\"sequentialminus\":[[0.0,\"#0d0887\"],[0.1111111111111111,\"#46039f\"],[0.2222222222222222,\"#7201a8\"],[0.3333333333333333,\"#9c179e\"],[0.4444444444444444,\"#bd3786\"],[0.5555555555555556,\"#d8576b\"],[0.6666666666666666,\"#ed7953\"],[0.7777777777777778,\"#fb9f3a\"],[0.8888888888888888,\"#fdca26\"],[1.0,\"#f0f921\"]],\"diverging\":[[0,\"#8e0152\"],[0.1,\"#c51b7d\"],[0.2,\"#de77ae\"],[0.3,\"#f1b6da\"],[0.4,\"#fde0ef\"],[0.5,\"#f7f7f7\"],[0.6,\"#e6f5d0\"],[0.7,\"#b8e186\"],[0.8,\"#7fbc41\"],[0.9,\"#4d9221\"],[1,\"#276419\"]]},\"xaxis\":{\"gridcolor\":\"white\",\"linecolor\":\"white\",\"ticks\":\"\",\"title\":{\"standoff\":15},\"zerolinecolor\":\"white\",\"automargin\":true,\"zerolinewidth\":2},\"yaxis\":{\"gridcolor\":\"white\",\"linecolor\":\"white\",\"ticks\":\"\",\"title\":{\"standoff\":15},\"zerolinecolor\":\"white\",\"automargin\":true,\"zerolinewidth\":2},\"scene\":{\"xaxis\":{\"backgroundcolor\":\"#E5ECF6\",\"gridcolor\":\"white\",\"linecolor\":\"white\",\"showbackground\":true,\"ticks\":\"\",\"zerolinecolor\":\"white\",\"gridwidth\":2},\"yaxis\":{\"backgroundcolor\":\"#E5ECF6\",\"gridcolor\":\"white\",\"linecolor\":\"white\",\"showbackground\":true,\"ticks\":\"\",\"zerolinecolor\":\"white\",\"gridwidth\":2},\"zaxis\":{\"backgroundcolor\":\"#E5ECF6\",\"gridcolor\":\"white\",\"linecolor\":\"white\",\"showbackground\":true,\"ticks\":\"\",\"zerolinecolor\":\"white\",\"gridwidth\":2}},\"shapedefaults\":{\"line\":{\"color\":\"#2a3f5f\"}},\"annotationdefaults\":{\"arrowcolor\":\"#2a3f5f\",\"arrowhead\":0,\"arrowwidth\":1},\"geo\":{\"bgcolor\":\"white\",\"landcolor\":\"#E5ECF6\",\"subunitcolor\":\"white\",\"showland\":true,\"showlakes\":true,\"lakecolor\":\"white\"},\"title\":{\"x\":0.05},\"mapbox\":{\"style\":\"light\"}}},\"xaxis\":{\"anchor\":\"y\",\"domain\":[0.0,1.0],\"matches\":\"x2\",\"showticklabels\":false,\"title\":{\"text\":\"Date\"},\"rangeslider\":{\"visible\":true}},\"yaxis\":{\"anchor\":\"x\",\"domain\":[0.6499999999999999,0.9999999999999999],\"title\":{\"text\":\"Price ($US)\"}},\"xaxis2\":{\"anchor\":\"y2\",\"domain\":[0.0,1.0],\"title\":{\"text\":\"Date\"}},\"yaxis2\":{\"anchor\":\"x2\",\"domain\":[0.0,0.35],\"title\":{\"text\":\"Revenue ($US Millions)\"}},\"annotations\":[{\"font\":{\"size\":16},\"showarrow\":false,\"text\":\"Historical Share Price\",\"x\":0.5,\"xanchor\":\"center\",\"xref\":\"paper\",\"y\":0.9999999999999999,\"yanchor\":\"bottom\",\"yref\":\"paper\"},{\"font\":{\"size\":16},\"showarrow\":false,\"text\":\"Historical Revenue\",\"x\":0.5,\"xanchor\":\"center\",\"xref\":\"paper\",\"y\":0.35,\"yanchor\":\"bottom\",\"yref\":\"paper\"}],\"showlegend\":false,\"height\":900,\"title\":{\"text\":\"GameStop Stock Data Graph\"}},                        {\"responsive\": true}                    ).then(function(){\n",
       "                            \n",
       "var gd = document.getElementById('a80f727a-08a9-4b20-be43-8a0690789561');\n",
       "var x = new MutationObserver(function (mutations, observer) {{\n",
       "        var display = window.getComputedStyle(gd).display;\n",
       "        if (!display || display === 'none') {{\n",
       "            console.log([gd, 'removed!']);\n",
       "            Plotly.purge(gd);\n",
       "            observer.disconnect();\n",
       "        }}\n",
       "}});\n",
       "\n",
       "// Listen for the removal of the full notebook cells\n",
       "var notebookContainer = gd.closest('#notebook-container');\n",
       "if (notebookContainer) {{\n",
       "    x.observe(notebookContainer, {childList: true});\n",
       "}}\n",
       "\n",
       "// Listen for the clearing of the current output cell\n",
       "var outputEl = gd.closest('.output');\n",
       "if (outputEl) {{\n",
       "    x.observe(outputEl, {childList: true});\n",
       "}}\n",
       "\n",
       "                        })                };                });            </script>        </div>"
      ]
     },
     "metadata": {},
     "output_type": "display_data"
    }
   ],
   "source": [
    "make_graph(gme_data, gme_revenue, 'GameStop Stock Data Graph')"
   ]
  }
 ],
 "metadata": {
  "kernelspec": {
   "display_name": "Python 3",
   "language": "python",
   "name": "python3"
  },
  "language_info": {
   "codemirror_mode": {
    "name": "ipython",
    "version": 3
   },
   "file_extension": ".py",
   "mimetype": "text/x-python",
   "name": "python",
   "nbconvert_exporter": "python",
   "pygments_lexer": "ipython3",
   "version": "3.7.12"
  },
  "papermill": {
   "default_parameters": {},
   "duration": 79.354363,
   "end_time": "2023-02-17T14:34:56.613375",
   "environment_variables": {},
   "exception": null,
   "input_path": "__notebook__.ipynb",
   "output_path": "__notebook__.ipynb",
   "parameters": {},
   "start_time": "2023-02-17T14:33:37.259012",
   "version": "2.3.4"
  }
 },
 "nbformat": 4,
 "nbformat_minor": 5
}
