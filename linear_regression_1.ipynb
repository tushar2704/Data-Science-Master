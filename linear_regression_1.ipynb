{
  "nbformat": 4,
  "nbformat_minor": 0,
  "metadata": {
    "colab": {
      "provenance": [],
      "authorship_tag": "ABX9TyOvyo1hj4nwwdyHgqrhB4gn",
      "include_colab_link": true
    },
    "kernelspec": {
      "name": "python3",
      "display_name": "Python 3"
    },
    "language_info": {
      "name": "python"
    }
  },
  "cells": [
    {
      "cell_type": "markdown",
      "metadata": {
        "id": "view-in-github",
        "colab_type": "text"
      },
      "source": [
        "<a href=\"https://colab.research.google.com/github/tushar2704/Data-Science-Master/blob/main/linear_regression_1.ipynb\" target=\"_parent\"><img src=\"https://colab.research.google.com/assets/colab-badge.svg\" alt=\"Open In Colab\"/></a>"
      ]
    },
    {
      "cell_type": "markdown",
      "source": [
        "#Linear Regression"
      ],
      "metadata": {
        "id": "lxAnQAd89BPo"
      }
    },
    {
      "cell_type": "code",
      "source": [
        "#importing the required libraries \n",
        "import numpy as np\n",
        "import pandas as pd\n",
        "import matplotlib.pyplot as plt \n",
        "import statsmodels.formula.api as smf\n",
        "import seaborn as sns\n",
        "%matplotlib inline"
      ],
      "metadata": {
        "id": "r-Ru1xAH9O-Z"
      },
      "execution_count": null,
      "outputs": []
    },
    {
      "cell_type": "markdown",
      "source": [
        "Importing Advertising data"
      ],
      "metadata": {
        "id": "uFTp2vm8A7S-"
      }
    },
    {
      "cell_type": "code",
      "source": [
        "from google.colab import files\n",
        "data_to_upload = files.upload()"
      ],
      "metadata": {
        "colab": {
          "base_uri": "https://localhost:8080/",
          "height": 73
        },
        "id": "4hL19XyuBApl",
        "outputId": "e31c8328-1cae-4af8-9ef0-45492c6a4d66"
      },
      "execution_count": null,
      "outputs": [
        {
          "output_type": "display_data",
          "data": {
            "text/plain": [
              "<IPython.core.display.HTML object>"
            ],
            "text/html": [
              "\n",
              "     <input type=\"file\" id=\"files-1b9c4a15-1447-4c89-8f44-d2dd62ae117d\" name=\"files[]\" multiple disabled\n",
              "        style=\"border:none\" />\n",
              "     <output id=\"result-1b9c4a15-1447-4c89-8f44-d2dd62ae117d\">\n",
              "      Upload widget is only available when the cell has been executed in the\n",
              "      current browser session. Please rerun this cell to enable.\n",
              "      </output>\n",
              "      <script>// Copyright 2017 Google LLC\n",
              "//\n",
              "// Licensed under the Apache License, Version 2.0 (the \"License\");\n",
              "// you may not use this file except in compliance with the License.\n",
              "// You may obtain a copy of the License at\n",
              "//\n",
              "//      http://www.apache.org/licenses/LICENSE-2.0\n",
              "//\n",
              "// Unless required by applicable law or agreed to in writing, software\n",
              "// distributed under the License is distributed on an \"AS IS\" BASIS,\n",
              "// WITHOUT WARRANTIES OR CONDITIONS OF ANY KIND, either express or implied.\n",
              "// See the License for the specific language governing permissions and\n",
              "// limitations under the License.\n",
              "\n",
              "/**\n",
              " * @fileoverview Helpers for google.colab Python module.\n",
              " */\n",
              "(function(scope) {\n",
              "function span(text, styleAttributes = {}) {\n",
              "  const element = document.createElement('span');\n",
              "  element.textContent = text;\n",
              "  for (const key of Object.keys(styleAttributes)) {\n",
              "    element.style[key] = styleAttributes[key];\n",
              "  }\n",
              "  return element;\n",
              "}\n",
              "\n",
              "// Max number of bytes which will be uploaded at a time.\n",
              "const MAX_PAYLOAD_SIZE = 100 * 1024;\n",
              "\n",
              "function _uploadFiles(inputId, outputId) {\n",
              "  const steps = uploadFilesStep(inputId, outputId);\n",
              "  const outputElement = document.getElementById(outputId);\n",
              "  // Cache steps on the outputElement to make it available for the next call\n",
              "  // to uploadFilesContinue from Python.\n",
              "  outputElement.steps = steps;\n",
              "\n",
              "  return _uploadFilesContinue(outputId);\n",
              "}\n",
              "\n",
              "// This is roughly an async generator (not supported in the browser yet),\n",
              "// where there are multiple asynchronous steps and the Python side is going\n",
              "// to poll for completion of each step.\n",
              "// This uses a Promise to block the python side on completion of each step,\n",
              "// then passes the result of the previous step as the input to the next step.\n",
              "function _uploadFilesContinue(outputId) {\n",
              "  const outputElement = document.getElementById(outputId);\n",
              "  const steps = outputElement.steps;\n",
              "\n",
              "  const next = steps.next(outputElement.lastPromiseValue);\n",
              "  return Promise.resolve(next.value.promise).then((value) => {\n",
              "    // Cache the last promise value to make it available to the next\n",
              "    // step of the generator.\n",
              "    outputElement.lastPromiseValue = value;\n",
              "    return next.value.response;\n",
              "  });\n",
              "}\n",
              "\n",
              "/**\n",
              " * Generator function which is called between each async step of the upload\n",
              " * process.\n",
              " * @param {string} inputId Element ID of the input file picker element.\n",
              " * @param {string} outputId Element ID of the output display.\n",
              " * @return {!Iterable<!Object>} Iterable of next steps.\n",
              " */\n",
              "function* uploadFilesStep(inputId, outputId) {\n",
              "  const inputElement = document.getElementById(inputId);\n",
              "  inputElement.disabled = false;\n",
              "\n",
              "  const outputElement = document.getElementById(outputId);\n",
              "  outputElement.innerHTML = '';\n",
              "\n",
              "  const pickedPromise = new Promise((resolve) => {\n",
              "    inputElement.addEventListener('change', (e) => {\n",
              "      resolve(e.target.files);\n",
              "    });\n",
              "  });\n",
              "\n",
              "  const cancel = document.createElement('button');\n",
              "  inputElement.parentElement.appendChild(cancel);\n",
              "  cancel.textContent = 'Cancel upload';\n",
              "  const cancelPromise = new Promise((resolve) => {\n",
              "    cancel.onclick = () => {\n",
              "      resolve(null);\n",
              "    };\n",
              "  });\n",
              "\n",
              "  // Wait for the user to pick the files.\n",
              "  const files = yield {\n",
              "    promise: Promise.race([pickedPromise, cancelPromise]),\n",
              "    response: {\n",
              "      action: 'starting',\n",
              "    }\n",
              "  };\n",
              "\n",
              "  cancel.remove();\n",
              "\n",
              "  // Disable the input element since further picks are not allowed.\n",
              "  inputElement.disabled = true;\n",
              "\n",
              "  if (!files) {\n",
              "    return {\n",
              "      response: {\n",
              "        action: 'complete',\n",
              "      }\n",
              "    };\n",
              "  }\n",
              "\n",
              "  for (const file of files) {\n",
              "    const li = document.createElement('li');\n",
              "    li.append(span(file.name, {fontWeight: 'bold'}));\n",
              "    li.append(span(\n",
              "        `(${file.type || 'n/a'}) - ${file.size} bytes, ` +\n",
              "        `last modified: ${\n",
              "            file.lastModifiedDate ? file.lastModifiedDate.toLocaleDateString() :\n",
              "                                    'n/a'} - `));\n",
              "    const percent = span('0% done');\n",
              "    li.appendChild(percent);\n",
              "\n",
              "    outputElement.appendChild(li);\n",
              "\n",
              "    const fileDataPromise = new Promise((resolve) => {\n",
              "      const reader = new FileReader();\n",
              "      reader.onload = (e) => {\n",
              "        resolve(e.target.result);\n",
              "      };\n",
              "      reader.readAsArrayBuffer(file);\n",
              "    });\n",
              "    // Wait for the data to be ready.\n",
              "    let fileData = yield {\n",
              "      promise: fileDataPromise,\n",
              "      response: {\n",
              "        action: 'continue',\n",
              "      }\n",
              "    };\n",
              "\n",
              "    // Use a chunked sending to avoid message size limits. See b/62115660.\n",
              "    let position = 0;\n",
              "    do {\n",
              "      const length = Math.min(fileData.byteLength - position, MAX_PAYLOAD_SIZE);\n",
              "      const chunk = new Uint8Array(fileData, position, length);\n",
              "      position += length;\n",
              "\n",
              "      const base64 = btoa(String.fromCharCode.apply(null, chunk));\n",
              "      yield {\n",
              "        response: {\n",
              "          action: 'append',\n",
              "          file: file.name,\n",
              "          data: base64,\n",
              "        },\n",
              "      };\n",
              "\n",
              "      let percentDone = fileData.byteLength === 0 ?\n",
              "          100 :\n",
              "          Math.round((position / fileData.byteLength) * 100);\n",
              "      percent.textContent = `${percentDone}% done`;\n",
              "\n",
              "    } while (position < fileData.byteLength);\n",
              "  }\n",
              "\n",
              "  // All done.\n",
              "  yield {\n",
              "    response: {\n",
              "      action: 'complete',\n",
              "    }\n",
              "  };\n",
              "}\n",
              "\n",
              "scope.google = scope.google || {};\n",
              "scope.google.colab = scope.google.colab || {};\n",
              "scope.google.colab._files = {\n",
              "  _uploadFiles,\n",
              "  _uploadFilesContinue,\n",
              "};\n",
              "})(self);\n",
              "</script> "
            ]
          },
          "metadata": {}
        },
        {
          "output_type": "stream",
          "name": "stdout",
          "text": [
            "Saving Advertising.csv to Advertising (3).csv\n"
          ]
        }
      ]
    },
    {
      "cell_type": "code",
      "source": [
        "import io\n",
        "advertising_data_1 = pd.read_csv(io.BytesIO(data_to_upload['Advertising.csv']))"
      ],
      "metadata": {
        "id": "j1_zx0_2Ctq-"
      },
      "execution_count": null,
      "outputs": []
    },
    {
      "cell_type": "markdown",
      "source": [
        "Checking the data"
      ],
      "metadata": {
        "id": "Wgdmg4giQbF_"
      }
    },
    {
      "cell_type": "code",
      "source": [
        "print(advertising_data_1.info())"
      ],
      "metadata": {
        "colab": {
          "base_uri": "https://localhost:8080/"
        },
        "id": "ndaSLfcYDfI9",
        "outputId": "774a4908-5ab7-4c1c-b329-a370e1e6426d"
      },
      "execution_count": null,
      "outputs": [
        {
          "output_type": "stream",
          "name": "stdout",
          "text": [
            "<class 'pandas.core.frame.DataFrame'>\n",
            "RangeIndex: 200 entries, 0 to 199\n",
            "Data columns (total 5 columns):\n",
            " #   Column      Non-Null Count  Dtype  \n",
            "---  ------      --------------  -----  \n",
            " 0   Unnamed: 0  200 non-null    int64  \n",
            " 1   TV          200 non-null    float64\n",
            " 2   Radio       200 non-null    float64\n",
            " 3   Newspaper   200 non-null    float64\n",
            " 4   Sales       200 non-null    float64\n",
            "dtypes: float64(4), int64(1)\n",
            "memory usage: 7.9 KB\n",
            "None\n"
          ]
        }
      ]
    },
    {
      "cell_type": "markdown",
      "source": [],
      "metadata": {
        "id": "KLR7xzmhT74z"
      }
    },
    {
      "cell_type": "code",
      "source": [
        "print(advertising_data_1.head())"
      ],
      "metadata": {
        "colab": {
          "base_uri": "https://localhost:8080/"
        },
        "id": "E_BNHze4Dna6",
        "outputId": "badf708a-944a-45aa-a1a1-b23b03f1836e"
      },
      "execution_count": null,
      "outputs": [
        {
          "output_type": "stream",
          "name": "stdout",
          "text": [
            "   Unnamed: 0     TV  Radio  Newspaper  Sales\n",
            "0           1  230.1   37.8       69.2   22.1\n",
            "1           2   44.5   39.3       45.1   10.4\n",
            "2           3   17.2   45.9       69.3    9.3\n",
            "3           4  151.5   41.3       58.5   18.5\n",
            "4           5  180.8   10.8       58.4   12.9\n"
          ]
        }
      ]
    },
    {
      "cell_type": "markdown",
      "source": [
        "NOTE: All the values in the above data are in thousands ('000s)\n",
        "\n",
        "Features/Variables:\n",
        "*   TV\n",
        "*   Radio\n",
        "*   Newspaper\n",
        "*   Sales\n",
        "\n",
        "TV, Radio and Newspaper are \"Input\" Vars / Features\n",
        "Sales is the \"Output\" var\n"
      ],
      "metadata": {
        "id": "D6zmBe8ARhMq"
      }
    },
    {
      "cell_type": "code",
      "source": [
        "print(advertising_data_1.shape)"
      ],
      "metadata": {
        "colab": {
          "base_uri": "https://localhost:8080/"
        },
        "id": "nEnw2IG6T8__",
        "outputId": "1b4ec1ac-874b-48d7-aeac-366050829afe"
      },
      "execution_count": null,
      "outputs": [
        {
          "output_type": "stream",
          "name": "stdout",
          "text": [
            "(200, 5)\n"
          ]
        }
      ]
    },
    {
      "cell_type": "markdown",
      "source": [
        "NOTE: There are 200 rows and 5 columns in the data set (including the index column - having \"0\" as the header)\n",
        "\n",
        "Each row represents a particular town/city (in general a particular market)\n"
      ],
      "metadata": {
        "id": "zqGVySyBUFEG"
      }
    },
    {
      "cell_type": "code",
      "source": [
        "print(advertising_data_1.tail())"
      ],
      "metadata": {
        "colab": {
          "base_uri": "https://localhost:8080/"
        },
        "id": "lccFW_qjDrzJ",
        "outputId": "bdf3cb82-d0f2-478c-896b-479a56303242"
      },
      "execution_count": null,
      "outputs": [
        {
          "output_type": "stream",
          "name": "stdout",
          "text": [
            "     Unnamed: 0     TV  Radio  Newspaper  Sales\n",
            "195         196   38.2    3.7       13.8    7.6\n",
            "196         197   94.2    4.9        8.1    9.7\n",
            "197         198  177.0    9.3        6.4   12.8\n",
            "198         199  283.6   42.0       66.2   25.5\n",
            "199         200  232.1    8.6        8.7   13.4\n"
          ]
        }
      ]
    },
    {
      "cell_type": "code",
      "source": [
        "print(advertising_data_1.describe())"
      ],
      "metadata": {
        "colab": {
          "base_uri": "https://localhost:8080/"
        },
        "id": "-yUIIcL-DuoE",
        "outputId": "760aeb30-0566-4046-abb5-81095d4f4309"
      },
      "execution_count": null,
      "outputs": [
        {
          "output_type": "stream",
          "name": "stdout",
          "text": [
            "       Unnamed: 0          TV       Radio   Newspaper       Sales\n",
            "count  200.000000  200.000000  200.000000  200.000000  200.000000\n",
            "mean   100.500000  147.042500   23.264000   30.554000   14.022500\n",
            "std     57.879185   85.854236   14.846809   21.778621    5.217457\n",
            "min      1.000000    0.700000    0.000000    0.300000    1.600000\n",
            "25%     50.750000   74.375000    9.975000   12.750000   10.375000\n",
            "50%    100.500000  149.750000   22.900000   25.750000   12.900000\n",
            "75%    150.250000  218.825000   36.525000   45.100000   17.400000\n",
            "max    200.000000  296.400000   49.600000  114.000000   27.000000\n"
          ]
        }
      ]
    },
    {
      "cell_type": "markdown",
      "source": [
        "# Visualize the relationship between features (input vars) and the target (output var)\n",
        "\n",
        "Use Scatterplots\n"
      ],
      "metadata": {
        "id": "WPYyOZIoD1gm"
      }
    },
    {
      "cell_type": "code",
      "source": [
        "fig, axs = plt.subplots(1, 3, sharey=True)\n",
        "advertising_data_1.plot(kind='scatter', x='TV', y='Sales', ax= axs[0], figsize = (16,8))\n",
        "advertising_data_1.plot(kind='scatter', x='Radio', y='Sales', ax=axs[1], figsize=(16,8))\n",
        "advertising_data_1.plot(kind='scatter', x='Newspaper', y='Sales', ax=axs[2], figsize=(16,8))"
      ],
      "metadata": {
        "id": "Fw2ZjNi9D0fe",
        "colab": {
          "base_uri": "https://localhost:8080/",
          "height": 495
        },
        "outputId": "04dd01dc-6a24-451b-8e0d-e127e0798f7c"
      },
      "execution_count": null,
      "outputs": [
        {
          "output_type": "execute_result",
          "data": {
            "text/plain": [
              "<matplotlib.axes._subplots.AxesSubplot at 0x7fdca3baf450>"
            ]
          },
          "metadata": {},
          "execution_count": 12
        },
        {
          "output_type": "display_data",
          "data": {
            "text/plain": [
              "<Figure size 1152x576 with 3 Axes>"
            ],
            "image/png": "[encoded data removed]"
          },
          "metadata": {
            "needs_background": "light"
          }
        }
      ]
    },
    {
      "cell_type": "markdown",
      "source": [
        "Questions that we can answer using Linear Regression\n",
        "*   Is there a relationship between advertising amount (x variable/s) and sales (y var)\n",
        "*   Strength of relationship - How much variation in sales can be explained by advertisement amount\n",
        "*   Which type of advertisment channel contributes for increase/decrease in sales\n",
        "*   Effect of each ad type on sales\n",
        "*   Can we predict sales for a given amount spent on advertisments\n"
      ],
      "metadata": {
        "id": "h8nuHxf6aSHK"
      }
    },
    {
      "cell_type": "markdown",
      "source": [
        "Let us use \"TV\" ad spends to check the effect on sales\n"
      ],
      "metadata": {
        "id": "ukPGTaVmqpzm"
      }
    },
    {
      "cell_type": "markdown",
      "source": [
        "Create/build the model in one line of code"
      ],
      "metadata": {
        "id": "oNxJewpJqziq"
      }
    },
    {
      "cell_type": "code",
      "source": [
        "lm = smf.ols(formula = 'Sales ~ TV', data = advertising_data_1).fit()"
      ],
      "metadata": {
        "id": "9rmvhSM5aVss"
      },
      "execution_count": null,
      "outputs": []
    },
    {
      "cell_type": "markdown",
      "source": [
        "Getting the model coefficients"
      ],
      "metadata": {
        "id": "EEb9vNPPuyb0"
      }
    },
    {
      "cell_type": "code",
      "source": [
        "lm.params"
      ],
      "metadata": {
        "colab": {
          "base_uri": "https://localhost:8080/"
        },
        "id": "N38IOFpbvBvc",
        "outputId": "ca02edfc-79ee-46e8-edd1-1679ce777895"
      },
      "execution_count": null,
      "outputs": [
        {
          "output_type": "execute_result",
          "data": {
            "text/plain": [
              "Intercept    7.032594\n",
              "TV           0.047537\n",
              "dtype: float64"
            ]
          },
          "metadata": {},
          "execution_count": 14
        }
      ]
    },
    {
      "cell_type": "markdown",
      "source": [
        "Manually doing predictions - E.g. Amount spent on TV ads is 50,000 dollars. What can be the expected sales?\n",
        "\n",
        "Note: We need to enter only \"50\" and NOT \"50,000\" as the data we have used represents '000s\n"
      ],
      "metadata": {
        "id": "Vtwz9UhIvdlY"
      }
    },
    {
      "cell_type": "code",
      "source": [
        "7.032594 +  0.047537 * 50"
      ],
      "metadata": {
        "colab": {
          "base_uri": "https://localhost:8080/"
        },
        "id": "cRRoeNtBvf6z",
        "outputId": "de6851e4-589d-49a6-a4aa-605a864a95e9"
      },
      "execution_count": null,
      "outputs": [
        {
          "output_type": "execute_result",
          "data": {
            "text/plain": [
              "9.409444"
            ]
          },
          "metadata": {},
          "execution_count": 15
        }
      ]
    },
    {
      "cell_type": "markdown",
      "source": [
        "Using statsmodels to make predictions\n",
        "\n",
        "\n",
        "*   Here we have to create a dataframe (df) because statsmodels formula interface expects a df\n"
      ],
      "metadata": {
        "id": "_Jc8HaCyxaEQ"
      }
    },
    {
      "cell_type": "code",
      "source": [
        "X_new = pd.DataFrame({'TV':[50]})\n",
        "X_new.head()"
      ],
      "metadata": {
        "colab": {
          "base_uri": "https://localhost:8080/",
          "height": 81
        },
        "id": "pErn6OgCxGfW",
        "outputId": "d5f7562a-c327-4ae8-b10a-1033c4748841"
      },
      "execution_count": null,
      "outputs": [
        {
          "output_type": "execute_result",
          "data": {
            "text/plain": [
              "   TV\n",
              "0  50"
            ],
            "text/html": [
              "\n",
              "  <div id=\"df-6433223c-c0e1-4359-a5aa-837998576194\">\n",
              "    <div class=\"colab-df-container\">\n",
              "      <div>\n",
              "<style scoped>\n",
              "    .dataframe tbody tr th:only-of-type {\n",
              "        vertical-align: middle;\n",
              "    }\n",
              "\n",
              "    .dataframe tbody tr th {\n",
              "        vertical-align: top;\n",
              "    }\n",
              "\n",
              "    .dataframe thead th {\n",
              "        text-align: right;\n",
              "    }\n",
              "</style>\n",
              "<table border=\"1\" class=\"dataframe\">\n",
              "  <thead>\n",
              "    <tr style=\"text-align: right;\">\n",
              "      <th></th>\n",
              "      <th>TV</th>\n",
              "    </tr>\n",
              "  </thead>\n",
              "  <tbody>\n",
              "    <tr>\n",
              "      <th>0</th>\n",
              "      <td>50</td>\n",
              "    </tr>\n",
              "  </tbody>\n",
              "</table>\n",
              "</div>\n",
              "      <button class=\"colab-df-convert\" onclick=\"convertToInteractive('df-6433223c-c0e1-4359-a5aa-837998576194')\"\n",
              "              title=\"Convert this dataframe to an interactive table.\"\n",
              "              style=\"display:none;\">\n",
              "        \n",
              "  <svg xmlns=\"http://www.w3.org/2000/svg\" height=\"24px\"viewBox=\"0 0 24 24\"\n",
              "       width=\"24px\">\n",
              "    <path d=\"M0 0h24v24H0V0z\" fill=\"none\"/>\n",
              "    <path d=\"M18.56 5.44l.94 2.06.94-2.06 2.06-.94-2.06-.94-.94-2.06-.94 2.06-2.06.94zm-11 1L8.5 8.5l.94-2.06 2.06-.94-2.06-.94L8.5 2.5l-.94 2.06-2.06.94zm10 10l.94 2.06.94-2.06 2.06-.94-2.06-.94-.94-2.06-.94 2.06-2.06.94z\"/><path d=\"M17.41 7.96l-1.37-1.37c-.4-.4-.92-.59-1.43-.59-.52 0-1.04.2-1.43.59L10.3 9.45l-7.72 7.72c-.78.78-.78 2.05 0 2.83L4 21.41c.39.39.9.59 1.41.59.51 0 1.02-.2 1.41-.59l7.78-7.78 2.81-2.81c.8-.78.8-2.07 0-2.86zM5.41 20L4 18.59l7.72-7.72 1.47 1.35L5.41 20z\"/>\n",
              "  </svg>\n",
              "      </button>\n",
              "      \n",
              "  <style>\n",
              "    .colab-df-container {\n",
              "      display:flex;\n",
              "      flex-wrap:wrap;\n",
              "      gap: 12px;\n",
              "    }\n",
              "\n",
              "    .colab-df-convert {\n",
              "      background-color: #E8F0FE;\n",
              "      border: none;\n",
              "      border-radius: 50%;\n",
              "      cursor: pointer;\n",
              "      display: none;\n",
              "      fill: #1967D2;\n",
              "      height: 32px;\n",
              "      padding: 0 0 0 0;\n",
              "      width: 32px;\n",
              "    }\n",
              "\n",
              "    .colab-df-convert:hover {\n",
              "      background-color: #E2EBFA;\n",
              "      box-shadow: 0px 1px 2px rgba(60, 64, 67, 0.3), 0px 1px 3px 1px rgba(60, 64, 67, 0.15);\n",
              "      fill: #174EA6;\n",
              "    }\n",
              "\n",
              "    [theme=dark] .colab-df-convert {\n",
              "      background-color: #3B4455;\n",
              "      fill: #D2E3FC;\n",
              "    }\n",
              "\n",
              "    [theme=dark] .colab-df-convert:hover {\n",
              "      background-color: #434B5C;\n",
              "      box-shadow: 0px 1px 3px 1px rgba(0, 0, 0, 0.15);\n",
              "      filter: drop-shadow(0px 1px 2px rgba(0, 0, 0, 0.3));\n",
              "      fill: #FFFFFF;\n",
              "    }\n",
              "  </style>\n",
              "\n",
              "      <script>\n",
              "        const buttonEl =\n",
              "          document.querySelector('#df-6433223c-c0e1-4359-a5aa-837998576194 button.colab-df-convert');\n",
              "        buttonEl.style.display =\n",
              "          google.colab.kernel.accessAllowed ? 'block' : 'none';\n",
              "\n",
              "        async function convertToInteractive(key) {\n",
              "          const element = document.querySelector('#df-6433223c-c0e1-4359-a5aa-837998576194');\n",
              "          const dataTable =\n",
              "            await google.colab.kernel.invokeFunction('convertToInteractive',\n",
              "                                                     [key], {});\n",
              "          if (!dataTable) return;\n",
              "\n",
              "          const docLinkHtml = 'Like what you see? Visit the ' +\n",
              "            '<a target=\"_blank\" href=https://colab.research.google.com/notebooks/data_table.ipynb>data table notebook</a>'\n",
              "            + ' to learn more about interactive tables.';\n",
              "          element.innerHTML = '';\n",
              "          dataTable['output_type'] = 'display_data';\n",
              "          await google.colab.output.renderOutput(dataTable, element);\n",
              "          const docLink = document.createElement('div');\n",
              "          docLink.innerHTML = docLinkHtml;\n",
              "          element.appendChild(docLink);\n",
              "        }\n",
              "      </script>\n",
              "    </div>\n",
              "  </div>\n",
              "  "
            ]
          },
          "metadata": {},
          "execution_count": 16
        }
      ]
    },
    {
      "cell_type": "code",
      "source": [
        "lm.predict(X_new)"
      ],
      "metadata": {
        "colab": {
          "base_uri": "https://localhost:8080/"
        },
        "id": "YqGpr6rHx7To",
        "outputId": "f5201018-42eb-4786-9ebe-0c35d2cccd2e"
      },
      "execution_count": null,
      "outputs": [
        {
          "output_type": "execute_result",
          "data": {
            "text/plain": [
              "0    9.409426\n",
              "dtype: float64"
            ]
          },
          "metadata": {},
          "execution_count": 17
        }
      ]
    },
    {
      "cell_type": "markdown",
      "source": [
        "Computing the P Values"
      ],
      "metadata": {
        "id": "KkYNrOhW0fGp"
      }
    },
    {
      "cell_type": "code",
      "source": [
        "lm.pvalues"
      ],
      "metadata": {
        "colab": {
          "base_uri": "https://localhost:8080/"
        },
        "id": "4bZ9BJ2XzQZj",
        "outputId": "060a18d4-c5d2-4712-e551-3e7f41f54452"
      },
      "execution_count": null,
      "outputs": [
        {
          "output_type": "execute_result",
          "data": {
            "text/plain": [
              "Intercept    1.406300e-35\n",
              "TV           1.467390e-42\n",
              "dtype: float64"
            ]
          },
          "metadata": {},
          "execution_count": 18
        }
      ]
    },
    {
      "cell_type": "markdown",
      "source": [
        "We can get the Confidence Interval (CI) for the model cofficients"
      ],
      "metadata": {
        "id": "RYXh_Bor09bt"
      }
    },
    {
      "cell_type": "code",
      "source": [
        "lm.conf_int()"
      ],
      "metadata": {
        "colab": {
          "base_uri": "https://localhost:8080/",
          "height": 112
        },
        "id": "vLbN4zL30lPU",
        "outputId": "125e8ac0-ac22-43b5-84fa-93e0bc7fc13e"
      },
      "execution_count": null,
      "outputs": [
        {
          "output_type": "execute_result",
          "data": {
            "text/plain": [
              "                  0         1\n",
              "Intercept  6.129719  7.935468\n",
              "TV         0.042231  0.052843"
            ],
            "text/html": [
              "\n",
              "  <div id=\"df-45a8fa09-9a23-4b76-be28-2c02168170e0\">\n",
              "    <div class=\"colab-df-container\">\n",
              "      <div>\n",
              "<style scoped>\n",
              "    .dataframe tbody tr th:only-of-type {\n",
              "        vertical-align: middle;\n",
              "    }\n",
              "\n",
              "    .dataframe tbody tr th {\n",
              "        vertical-align: top;\n",
              "    }\n",
              "\n",
              "    .dataframe thead th {\n",
              "        text-align: right;\n",
              "    }\n",
              "</style>\n",
              "<table border=\"1\" class=\"dataframe\">\n",
              "  <thead>\n",
              "    <tr style=\"text-align: right;\">\n",
              "      <th></th>\n",
              "      <th>0</th>\n",
              "      <th>1</th>\n",
              "    </tr>\n",
              "  </thead>\n",
              "  <tbody>\n",
              "    <tr>\n",
              "      <th>Intercept</th>\n",
              "      <td>6.129719</td>\n",
              "      <td>7.935468</td>\n",
              "    </tr>\n",
              "    <tr>\n",
              "      <th>TV</th>\n",
              "      <td>0.042231</td>\n",
              "      <td>0.052843</td>\n",
              "    </tr>\n",
              "  </tbody>\n",
              "</table>\n",
              "</div>\n",
              "      <button class=\"colab-df-convert\" onclick=\"convertToInteractive('df-45a8fa09-9a23-4b76-be28-2c02168170e0')\"\n",
              "              title=\"Convert this dataframe to an interactive table.\"\n",
              "              style=\"display:none;\">\n",
              "        \n",
              "  <svg xmlns=\"http://www.w3.org/2000/svg\" height=\"24px\"viewBox=\"0 0 24 24\"\n",
              "       width=\"24px\">\n",
              "    <path d=\"M0 0h24v24H0V0z\" fill=\"none\"/>\n",
              "    <path d=\"M18.56 5.44l.94 2.06.94-2.06 2.06-.94-2.06-.94-.94-2.06-.94 2.06-2.06.94zm-11 1L8.5 8.5l.94-2.06 2.06-.94-2.06-.94L8.5 2.5l-.94 2.06-2.06.94zm10 10l.94 2.06.94-2.06 2.06-.94-2.06-.94-.94-2.06-.94 2.06-2.06.94z\"/><path d=\"M17.41 7.96l-1.37-1.37c-.4-.4-.92-.59-1.43-.59-.52 0-1.04.2-1.43.59L10.3 9.45l-7.72 7.72c-.78.78-.78 2.05 0 2.83L4 21.41c.39.39.9.59 1.41.59.51 0 1.02-.2 1.41-.59l7.78-7.78 2.81-2.81c.8-.78.8-2.07 0-2.86zM5.41 20L4 18.59l7.72-7.72 1.47 1.35L5.41 20z\"/>\n",
              "  </svg>\n",
              "      </button>\n",
              "      \n",
              "  <style>\n",
              "    .colab-df-container {\n",
              "      display:flex;\n",
              "      flex-wrap:wrap;\n",
              "      gap: 12px;\n",
              "    }\n",
              "\n",
              "    .colab-df-convert {\n",
              "      background-color: #E8F0FE;\n",
              "      border: none;\n",
              "      border-radius: 50%;\n",
              "      cursor: pointer;\n",
              "      display: none;\n",
              "      fill: #1967D2;\n",
              "      height: 32px;\n",
              "      padding: 0 0 0 0;\n",
              "      width: 32px;\n",
              "    }\n",
              "\n",
              "    .colab-df-convert:hover {\n",
              "      background-color: #E2EBFA;\n",
              "      box-shadow: 0px 1px 2px rgba(60, 64, 67, 0.3), 0px 1px 3px 1px rgba(60, 64, 67, 0.15);\n",
              "      fill: #174EA6;\n",
              "    }\n",
              "\n",
              "    [theme=dark] .colab-df-convert {\n",
              "      background-color: #3B4455;\n",
              "      fill: #D2E3FC;\n",
              "    }\n",
              "\n",
              "    [theme=dark] .colab-df-convert:hover {\n",
              "      background-color: #434B5C;\n",
              "      box-shadow: 0px 1px 3px 1px rgba(0, 0, 0, 0.15);\n",
              "      filter: drop-shadow(0px 1px 2px rgba(0, 0, 0, 0.3));\n",
              "      fill: #FFFFFF;\n",
              "    }\n",
              "  </style>\n",
              "\n",
              "      <script>\n",
              "        const buttonEl =\n",
              "          document.querySelector('#df-45a8fa09-9a23-4b76-be28-2c02168170e0 button.colab-df-convert');\n",
              "        buttonEl.style.display =\n",
              "          google.colab.kernel.accessAllowed ? 'block' : 'none';\n",
              "\n",
              "        async function convertToInteractive(key) {\n",
              "          const element = document.querySelector('#df-45a8fa09-9a23-4b76-be28-2c02168170e0');\n",
              "          const dataTable =\n",
              "            await google.colab.kernel.invokeFunction('convertToInteractive',\n",
              "                                                     [key], {});\n",
              "          if (!dataTable) return;\n",
              "\n",
              "          const docLinkHtml = 'Like what you see? Visit the ' +\n",
              "            '<a target=\"_blank\" href=https://colab.research.google.com/notebooks/data_table.ipynb>data table notebook</a>'\n",
              "            + ' to learn more about interactive tables.';\n",
              "          element.innerHTML = '';\n",
              "          dataTable['output_type'] = 'display_data';\n",
              "          await google.colab.output.renderOutput(dataTable, element);\n",
              "          const docLink = document.createElement('div');\n",
              "          docLink.innerHTML = docLinkHtml;\n",
              "          element.appendChild(docLink);\n",
              "        }\n",
              "      </script>\n",
              "    </div>\n",
              "  </div>\n",
              "  "
            ]
          },
          "metadata": {},
          "execution_count": 19
        }
      ]
    },
    {
      "cell_type": "markdown",
      "source": [
        "Findind R squared"
      ],
      "metadata": {
        "id": "YrmIXVEC1hmp"
      }
    },
    {
      "cell_type": "code",
      "source": [
        "lm.rsquared"
      ],
      "metadata": {
        "colab": {
          "base_uri": "https://localhost:8080/"
        },
        "id": "nI3alXIG1UWD",
        "outputId": "6339b6bf-0bec-4e29-ef5f-4305793238d6"
      },
      "execution_count": null,
      "outputs": [
        {
          "output_type": "execute_result",
          "data": {
            "text/plain": [
              "0.611875050850071"
            ]
          },
          "metadata": {},
          "execution_count": 20
        }
      ]
    },
    {
      "cell_type": "code",
      "source": [
        "lm.summary()"
      ],
      "metadata": {
        "colab": {
          "base_uri": "https://localhost:8080/",
          "height": 450
        },
        "id": "0Jp5Vdoa1ro1",
        "outputId": "ae465b87-8c48-40cd-834c-3096a3e97eeb"
      },
      "execution_count": null,
      "outputs": [
        {
          "output_type": "execute_result",
          "data": {
            "text/plain": [
              "<class 'statsmodels.iolib.summary.Summary'>\n",
              "\"\"\"\n",
              "                            OLS Regression Results                            \n",
              "==============================================================================\n",
              "Dep. Variable:                  Sales   R-squared:                       0.612\n",
              "Model:                            OLS   Adj. R-squared:                  0.610\n",
              "Method:                 Least Squares   F-statistic:                     312.1\n",
              "Date:                Thu, 06 Oct 2022   Prob (F-statistic):           1.47e-42\n",
              "Time:                        02:30:35   Log-Likelihood:                -519.05\n",
              "No. Observations:                 200   AIC:                             1042.\n",
              "Df Residuals:                     198   BIC:                             1049.\n",
              "Df Model:                           1                                         \n",
              "Covariance Type:            nonrobust                                         \n",
              "==============================================================================\n",
              "                 coef    std err          t      P>|t|      [0.025      0.975]\n",
              "------------------------------------------------------------------------------\n",
              "Intercept      7.0326      0.458     15.360      0.000       6.130       7.935\n",
              "TV             0.0475      0.003     17.668      0.000       0.042       0.053\n",
              "==============================================================================\n",
              "Omnibus:                        0.531   Durbin-Watson:                   1.935\n",
              "Prob(Omnibus):                  0.767   Jarque-Bera (JB):                0.669\n",
              "Skew:                          -0.089   Prob(JB):                        0.716\n",
              "Kurtosis:                       2.779   Cond. No.                         338.\n",
              "==============================================================================\n",
              "\n",
              "Notes:\n",
              "[1] Standard Errors assume that the covariance matrix of the errors is correctly specified.\n",
              "\"\"\""
            ],
            "text/html": [
              "<table class=\"simpletable\">\n",
              "<caption>OLS Regression Results</caption>\n",
              "<tr>\n",
              "  <th>Dep. Variable:</th>          <td>Sales</td>      <th>  R-squared:         </th> <td>   0.612</td>\n",
              "</tr>\n",
              "<tr>\n",
              "  <th>Model:</th>                   <td>OLS</td>       <th>  Adj. R-squared:    </th> <td>   0.610</td>\n",
              "</tr>\n",
              "<tr>\n",
              "  <th>Method:</th>             <td>Least Squares</td>  <th>  F-statistic:       </th> <td>   312.1</td>\n",
              "</tr>\n",
              "<tr>\n",
              "  <th>Date:</th>             <td>Thu, 06 Oct 2022</td> <th>  Prob (F-statistic):</th> <td>1.47e-42</td>\n",
              "</tr>\n",
              "<tr>\n",
              "  <th>Time:</th>                 <td>02:30:35</td>     <th>  Log-Likelihood:    </th> <td> -519.05</td>\n",
              "</tr>\n",
              "<tr>\n",
              "  <th>No. Observations:</th>      <td>   200</td>      <th>  AIC:               </th> <td>   1042.</td>\n",
              "</tr>\n",
              "<tr>\n",
              "  <th>Df Residuals:</th>          <td>   198</td>      <th>  BIC:               </th> <td>   1049.</td>\n",
              "</tr>\n",
              "<tr>\n",
              "  <th>Df Model:</th>              <td>     1</td>      <th>                     </th>     <td> </td>   \n",
              "</tr>\n",
              "<tr>\n",
              "  <th>Covariance Type:</th>      <td>nonrobust</td>    <th>                     </th>     <td> </td>   \n",
              "</tr>\n",
              "</table>\n",
              "<table class=\"simpletable\">\n",
              "<tr>\n",
              "      <td></td>         <th>coef</th>     <th>std err</th>      <th>t</th>      <th>P>|t|</th>  <th>[0.025</th>    <th>0.975]</th>  \n",
              "</tr>\n",
              "<tr>\n",
              "  <th>Intercept</th> <td>    7.0326</td> <td>    0.458</td> <td>   15.360</td> <td> 0.000</td> <td>    6.130</td> <td>    7.935</td>\n",
              "</tr>\n",
              "<tr>\n",
              "  <th>TV</th>        <td>    0.0475</td> <td>    0.003</td> <td>   17.668</td> <td> 0.000</td> <td>    0.042</td> <td>    0.053</td>\n",
              "</tr>\n",
              "</table>\n",
              "<table class=\"simpletable\">\n",
              "<tr>\n",
              "  <th>Omnibus:</th>       <td> 0.531</td> <th>  Durbin-Watson:     </th> <td>   1.935</td>\n",
              "</tr>\n",
              "<tr>\n",
              "  <th>Prob(Omnibus):</th> <td> 0.767</td> <th>  Jarque-Bera (JB):  </th> <td>   0.669</td>\n",
              "</tr>\n",
              "<tr>\n",
              "  <th>Skew:</th>          <td>-0.089</td> <th>  Prob(JB):          </th> <td>   0.716</td>\n",
              "</tr>\n",
              "<tr>\n",
              "  <th>Kurtosis:</th>      <td> 2.779</td> <th>  Cond. No.          </th> <td>    338.</td>\n",
              "</tr>\n",
              "</table><br/><br/>Notes:<br/>[1] Standard Errors assume that the covariance matrix of the errors is correctly specified."
            ]
          },
          "metadata": {},
          "execution_count": 21
        }
      ]
    },
    {
      "cell_type": "markdown",
      "source": [
        "#Plot the (least squares) line\n",
        "*   Select the smallest and largest values in the x variable (TV adv spend) and then make predictions\n",
        "*   Use the predicted values and plot the least squares line"
      ],
      "metadata": {
        "id": "eCG1CjVE0Z7N"
      }
    },
    {
      "cell_type": "markdown",
      "source": [
        "Create a dataframe (df) with min & max value of \"x\" i.e. min & max of TV adv spend\n"
      ],
      "metadata": {
        "id": "VEUNdIMF0-sk"
      }
    },
    {
      "cell_type": "code",
      "source": [
        "X_new = pd.DataFrame({\"TV\":[advertising_data_1.TV.min(), advertising_data_1.TV.max()]})\n",
        "print(X_new.head())"
      ],
      "metadata": {
        "id": "YBaw6UrP1-PJ",
        "colab": {
          "base_uri": "https://localhost:8080/"
        },
        "outputId": "a8bbcd1a-2acd-4358-985c-ace0620fb00c"
      },
      "execution_count": null,
      "outputs": [
        {
          "output_type": "stream",
          "name": "stdout",
          "text": [
            "      TV\n",
            "0    0.7\n",
            "1  296.4\n"
          ]
        }
      ]
    },
    {
      "cell_type": "markdown",
      "source": [
        "Make predictions for the min & max value stored in the new df X_new and save/store them\n"
      ],
      "metadata": {
        "id": "Xdjqjw2A5pDh"
      }
    },
    {
      "cell_type": "code",
      "source": [
        "preds = lm.predict(X_new)\n",
        "print(preds)"
      ],
      "metadata": {
        "colab": {
          "base_uri": "https://localhost:8080/"
        },
        "id": "Nm5PsWmz2W0b",
        "outputId": "49fa368d-8a8c-4f14-a546-4a40cfec87ef"
      },
      "execution_count": null,
      "outputs": [
        {
          "output_type": "stream",
          "name": "stdout",
          "text": [
            "0     7.065869\n",
            "1    21.122454\n",
            "dtype: float64\n"
          ]
        }
      ]
    },
    {
      "cell_type": "markdown",
      "source": [
        "Let us first plot the observed data (the data given in the data set), then plot the least squares line\n"
      ],
      "metadata": {
        "id": "UvOUlHFK6ZiF"
      }
    },
    {
      "cell_type": "code",
      "source": [
        "advertising_data_1.plot(kind = 'scatter', x = 'TV', y = 'Sales', )\n",
        "plt.plot(X_new, preds, c = 'red', linewidth = 2, )\n",
        "plt.show()"
      ],
      "metadata": {
        "colab": {
          "base_uri": "https://localhost:8080/",
          "height": 279
        },
        "id": "OylDp-ka6Dbq",
        "outputId": "58546f37-7f93-43ab-920a-92b29fcfe17b"
      },
      "execution_count": null,
      "outputs": [
        {
          "output_type": "display_data",
          "data": {
            "text/plain": [
              "<Figure size 432x288 with 1 Axes>"
            ],
            "image/png": "[encoded data removed]"
          },
          "metadata": {
            "needs_background": "light"
          }
        }
      ]
    },
    {
      "cell_type": "markdown",
      "source": [
        "#Multiple Linear Regression\n"
      ],
      "metadata": {
        "id": "acSya-ne9FGR"
      }
    },
    {
      "cell_type": "markdown",
      "source": [
        "Fitting the model with all the three \"x\" variables\n"
      ],
      "metadata": {
        "id": "0wx_BBAN9Fkh"
      }
    },
    {
      "cell_type": "code",
      "source": [
        "lm =  smf.ols(formula = 'Sales ~ TV + Radio + Newspaper', data = advertising_data_1).fit()"
      ],
      "metadata": {
        "id": "U3Z3GB8n8bRt"
      },
      "execution_count": null,
      "outputs": []
    },
    {
      "cell_type": "markdown",
      "source": [
        "Printing the coefficients\n"
      ],
      "metadata": {
        "id": "8YRiwrFy-sgq"
      }
    },
    {
      "cell_type": "code",
      "source": [
        "lm.params"
      ],
      "metadata": {
        "colab": {
          "base_uri": "https://localhost:8080/"
        },
        "id": "fbe3aS7S-Eyj",
        "outputId": "79c42fb7-5568-4260-ca85-fa40b3696289"
      },
      "execution_count": null,
      "outputs": [
        {
          "output_type": "execute_result",
          "data": {
            "text/plain": [
              "Intercept    2.938889\n",
              "TV           0.045765\n",
              "Radio        0.188530\n",
              "Newspaper   -0.001037\n",
              "dtype: float64"
            ]
          },
          "metadata": {},
          "execution_count": 26
        }
      ]
    },
    {
      "cell_type": "code",
      "source": [
        "lm.summary()"
      ],
      "metadata": {
        "colab": {
          "base_uri": "https://localhost:8080/",
          "height": 493
        },
        "id": "nOcdxQjN-yor",
        "outputId": "2e819d46-07b3-4ef0-8547-5dd5a9b8336e"
      },
      "execution_count": null,
      "outputs": [
        {
          "output_type": "execute_result",
          "data": {
            "text/plain": [
              "<class 'statsmodels.iolib.summary.Summary'>\n",
              "\"\"\"\n",
              "                            OLS Regression Results                            \n",
              "==============================================================================\n",
              "Dep. Variable:                  Sales   R-squared:                       0.897\n",
              "Model:                            OLS   Adj. R-squared:                  0.896\n",
              "Method:                 Least Squares   F-statistic:                     570.3\n",
              "Date:                Thu, 06 Oct 2022   Prob (F-statistic):           1.58e-96\n",
              "Time:                        02:30:50   Log-Likelihood:                -386.18\n",
              "No. Observations:                 200   AIC:                             780.4\n",
              "Df Residuals:                     196   BIC:                             793.6\n",
              "Df Model:                           3                                         \n",
              "Covariance Type:            nonrobust                                         \n",
              "==============================================================================\n",
              "                 coef    std err          t      P>|t|      [0.025      0.975]\n",
              "------------------------------------------------------------------------------\n",
              "Intercept      2.9389      0.312      9.422      0.000       2.324       3.554\n",
              "TV             0.0458      0.001     32.809      0.000       0.043       0.049\n",
              "Radio          0.1885      0.009     21.893      0.000       0.172       0.206\n",
              "Newspaper     -0.0010      0.006     -0.177      0.860      -0.013       0.011\n",
              "==============================================================================\n",
              "Omnibus:                       60.414   Durbin-Watson:                   2.084\n",
              "Prob(Omnibus):                  0.000   Jarque-Bera (JB):              151.241\n",
              "Skew:                          -1.327   Prob(JB):                     1.44e-33\n",
              "Kurtosis:                       6.332   Cond. No.                         454.\n",
              "==============================================================================\n",
              "\n",
              "Notes:\n",
              "[1] Standard Errors assume that the covariance matrix of the errors is correctly specified.\n",
              "\"\"\""
            ],
            "text/html": [
              "<table class=\"simpletable\">\n",
              "<caption>OLS Regression Results</caption>\n",
              "<tr>\n",
              "  <th>Dep. Variable:</th>          <td>Sales</td>      <th>  R-squared:         </th> <td>   0.897</td>\n",
              "</tr>\n",
              "<tr>\n",
              "  <th>Model:</th>                   <td>OLS</td>       <th>  Adj. R-squared:    </th> <td>   0.896</td>\n",
              "</tr>\n",
              "<tr>\n",
              "  <th>Method:</th>             <td>Least Squares</td>  <th>  F-statistic:       </th> <td>   570.3</td>\n",
              "</tr>\n",
              "<tr>\n",
              "  <th>Date:</th>             <td>Thu, 06 Oct 2022</td> <th>  Prob (F-statistic):</th> <td>1.58e-96</td>\n",
              "</tr>\n",
              "<tr>\n",
              "  <th>Time:</th>                 <td>02:30:50</td>     <th>  Log-Likelihood:    </th> <td> -386.18</td>\n",
              "</tr>\n",
              "<tr>\n",
              "  <th>No. Observations:</th>      <td>   200</td>      <th>  AIC:               </th> <td>   780.4</td>\n",
              "</tr>\n",
              "<tr>\n",
              "  <th>Df Residuals:</th>          <td>   196</td>      <th>  BIC:               </th> <td>   793.6</td>\n",
              "</tr>\n",
              "<tr>\n",
              "  <th>Df Model:</th>              <td>     3</td>      <th>                     </th>     <td> </td>   \n",
              "</tr>\n",
              "<tr>\n",
              "  <th>Covariance Type:</th>      <td>nonrobust</td>    <th>                     </th>     <td> </td>   \n",
              "</tr>\n",
              "</table>\n",
              "<table class=\"simpletable\">\n",
              "<tr>\n",
              "      <td></td>         <th>coef</th>     <th>std err</th>      <th>t</th>      <th>P>|t|</th>  <th>[0.025</th>    <th>0.975]</th>  \n",
              "</tr>\n",
              "<tr>\n",
              "  <th>Intercept</th> <td>    2.9389</td> <td>    0.312</td> <td>    9.422</td> <td> 0.000</td> <td>    2.324</td> <td>    3.554</td>\n",
              "</tr>\n",
              "<tr>\n",
              "  <th>TV</th>        <td>    0.0458</td> <td>    0.001</td> <td>   32.809</td> <td> 0.000</td> <td>    0.043</td> <td>    0.049</td>\n",
              "</tr>\n",
              "<tr>\n",
              "  <th>Radio</th>     <td>    0.1885</td> <td>    0.009</td> <td>   21.893</td> <td> 0.000</td> <td>    0.172</td> <td>    0.206</td>\n",
              "</tr>\n",
              "<tr>\n",
              "  <th>Newspaper</th> <td>   -0.0010</td> <td>    0.006</td> <td>   -0.177</td> <td> 0.860</td> <td>   -0.013</td> <td>    0.011</td>\n",
              "</tr>\n",
              "</table>\n",
              "<table class=\"simpletable\">\n",
              "<tr>\n",
              "  <th>Omnibus:</th>       <td>60.414</td> <th>  Durbin-Watson:     </th> <td>   2.084</td>\n",
              "</tr>\n",
              "<tr>\n",
              "  <th>Prob(Omnibus):</th> <td> 0.000</td> <th>  Jarque-Bera (JB):  </th> <td> 151.241</td>\n",
              "</tr>\n",
              "<tr>\n",
              "  <th>Skew:</th>          <td>-1.327</td> <th>  Prob(JB):          </th> <td>1.44e-33</td>\n",
              "</tr>\n",
              "<tr>\n",
              "  <th>Kurtosis:</th>      <td> 6.332</td> <th>  Cond. No.          </th> <td>    454.</td>\n",
              "</tr>\n",
              "</table><br/><br/>Notes:<br/>[1] Standard Errors assume that the covariance matrix of the errors is correctly specified."
            ]
          },
          "metadata": {},
          "execution_count": 27
        }
      ]
    },
    {
      "cell_type": "markdown",
      "source": [
        "We notice that newspaper (advertisments) is not significantly influencing sales\n",
        "\n",
        "Therefore, we can keep only those variables which are significantly impacting sales in our model\n",
        "\n",
        "Let us build the model with only TV and Radio as the input variables or features\n"
      ],
      "metadata": {
        "id": "LwCDOLsT_Zt5"
      }
    },
    {
      "cell_type": "code",
      "source": [
        "lm =  smf.ols(formula = 'Sales ~ TV + Radio ', data = advertising_data_1).fit()\n",
        "print(lm.summary())"
      ],
      "metadata": {
        "colab": {
          "base_uri": "https://localhost:8080/"
        },
        "id": "8zpRttGR-49_",
        "outputId": "e1ac9c8b-7329-4264-849d-240209ddc009"
      },
      "execution_count": null,
      "outputs": [
        {
          "output_type": "stream",
          "name": "stdout",
          "text": [
            "                            OLS Regression Results                            \n",
            "==============================================================================\n",
            "Dep. Variable:                  Sales   R-squared:                       0.897\n",
            "Model:                            OLS   Adj. R-squared:                  0.896\n",
            "Method:                 Least Squares   F-statistic:                     859.6\n",
            "Date:                Thu, 06 Oct 2022   Prob (F-statistic):           4.83e-98\n",
            "Time:                        02:30:52   Log-Likelihood:                -386.20\n",
            "No. Observations:                 200   AIC:                             778.4\n",
            "Df Residuals:                     197   BIC:                             788.3\n",
            "Df Model:                           2                                         \n",
            "Covariance Type:            nonrobust                                         \n",
            "==============================================================================\n",
            "                 coef    std err          t      P>|t|      [0.025      0.975]\n",
            "------------------------------------------------------------------------------\n",
            "Intercept      2.9211      0.294      9.919      0.000       2.340       3.502\n",
            "TV             0.0458      0.001     32.909      0.000       0.043       0.048\n",
            "Radio          0.1880      0.008     23.382      0.000       0.172       0.204\n",
            "==============================================================================\n",
            "Omnibus:                       60.022   Durbin-Watson:                   2.081\n",
            "Prob(Omnibus):                  0.000   Jarque-Bera (JB):              148.679\n",
            "Skew:                          -1.323   Prob(JB):                     5.19e-33\n",
            "Kurtosis:                       6.292   Cond. No.                         425.\n",
            "==============================================================================\n",
            "\n",
            "Notes:\n",
            "[1] Standard Errors assume that the covariance matrix of the errors is correctly specified.\n"
          ]
        }
      ]
    },
    {
      "cell_type": "markdown",
      "source": [
        "# Using Categorical Variables as predictors in the model\n",
        "\n",
        "All the variables that we have used so far in the model are continuous\n"
      ],
      "metadata": {
        "id": "C7ORK7MH9ax_"
      }
    },
    {
      "cell_type": "markdown",
      "source": [
        "Let us create a new \"Categorical\" variable/feature called as \"Size\". Let this new variable contain values as \"small\" or \"large\"\n"
      ],
      "metadata": {
        "id": "ugQOLJnv9fiG"
      }
    },
    {
      "cell_type": "markdown",
      "source": [
        "Setting a random seed\n"
      ],
      "metadata": {
        "id": "8178vXsv90nR"
      }
    },
    {
      "cell_type": "code",
      "source": [
        "np.random.seed(111)"
      ],
      "metadata": {
        "id": "7EZygDnu__VA"
      },
      "execution_count": null,
      "outputs": []
    },
    {
      "cell_type": "markdown",
      "source": [
        "Creating / Generating random numbers"
      ],
      "metadata": {
        "id": "oxT_2lbC-IU6"
      }
    },
    {
      "cell_type": "code",
      "source": [
        "nums = np.random.rand(len(advertising_data_1))\n",
        "print(nums)"
      ],
      "metadata": {
        "colab": {
          "base_uri": "https://localhost:8080/"
        },
        "id": "AcG_mMon-x8E",
        "outputId": "d4a8830e-f193-43e4-f4ac-ae6fc10cd40d"
      },
      "execution_count": null,
      "outputs": [
        {
          "output_type": "stream",
          "name": "stdout",
          "text": [
            "[0.61217018 0.16906975 0.43605902 0.76926247 0.2953253  0.14916296\n",
            " 0.02247832 0.42022449 0.23868214 0.33765619 0.99071246 0.23772645\n",
            " 0.08119266 0.66960024 0.62124292 0.27425353 0.46622141 0.11836775\n",
            " 0.07395756 0.90077418 0.79396256 0.84056965 0.81520746 0.99095485\n",
            " 0.57727383 0.81376692 0.42131788 0.02744796 0.45413664 0.10532609\n",
            " 0.81722006 0.69772773 0.5652854  0.2742273  0.99847374 0.13804205\n",
            " 0.61541569 0.4850363  0.40502704 0.7278491  0.32281393 0.40054555\n",
            " 0.3189664  0.94722183 0.91870836 0.81384438 0.03407709 0.94337287\n",
            " 0.95043916 0.80659105 0.48127804 0.96675923 0.41697908 0.31884013\n",
            " 0.01644282 0.03818193 0.05308965 0.12796081 0.03338316 0.22642109\n",
            " 0.54390891 0.17862581 0.17934478 0.14961322 0.68301313 0.46900855\n",
            " 0.76824793 0.66881406 0.44126818 0.59522545 0.46165662 0.96326687\n",
            " 0.14781138 0.90681313 0.49792484 0.59249847 0.68465799 0.17745066\n",
            " 0.86468549 0.48208878 0.06934179 0.36473134 0.36150419 0.4720635\n",
            " 0.17948485 0.17527984 0.9491296  0.65568231 0.13499553 0.92778583\n",
            " 0.84179162 0.05277604 0.20368352 0.87250164 0.67384806 0.29727251\n",
            " 0.73441308 0.61834027 0.21049925 0.80206458 0.05910708 0.3082233\n",
            " 0.20736749 0.97219083 0.90941858 0.67645419 0.1151861  0.95798068\n",
            " 0.09171332 0.62979647 0.90290054 0.33979728 0.65280429 0.92515852\n",
            " 0.3739835  0.77136418 0.89616473 0.62017809 0.15106007 0.37491975\n",
            " 0.63584055 0.45907073 0.53223817 0.35229218 0.65986196 0.47652343\n",
            " 0.45459494 0.12479753 0.41247224 0.27309572 0.34674088 0.97437429\n",
            " 0.21558059 0.68284291 0.03180999 0.83538294 0.70165234 0.96594378\n",
            " 0.59181621 0.21734542 0.71922624 0.03086999 0.41870795 0.28122512\n",
            " 0.10624436 0.42634622 0.84057751 0.11041134 0.98665245 0.23329332\n",
            " 0.72141158 0.66089203 0.07775671 0.6972843  0.26530624 0.90183836\n",
            " 0.81826387 0.3992332  0.82028542 0.19781508 0.52252507 0.41247483\n",
            " 0.92583386 0.82538045 0.50102967 0.11678892 0.01159232 0.91315044\n",
            " 0.51239748 0.84308211 0.09484669 0.80342662 0.06222815 0.63549448\n",
            " 0.96878115 0.39743223 0.65958678 0.21486674 0.88986562 0.98663162\n",
            " 0.73867458 0.64148666 0.25215639 0.47580894 0.26805668 0.86826055\n",
            " 0.26688898 0.9730157  0.21355595 0.2977747  0.73676922 0.01289132\n",
            " 0.03023444 0.73382334 0.49825689 0.21806718 0.00892996 0.85070303\n",
            " 0.5364074  0.72350705]\n"
          ]
        }
      ]
    },
    {
      "cell_type": "code",
      "source": [
        "mask_large = nums>0.5\n",
        "print(mask_large)"
      ],
      "metadata": {
        "colab": {
          "base_uri": "https://localhost:8080/"
        },
        "id": "kg-z-GQ4A-33",
        "outputId": "af3a79be-c559-4f6a-c783-79a965c7a82b"
      },
      "execution_count": null,
      "outputs": [
        {
          "output_type": "stream",
          "name": "stdout",
          "text": [
            "[ True False False  True False False False False False False  True False\n",
            " False  True  True False False False False  True  True  True  True  True\n",
            "  True  True False False False False  True  True  True False  True False\n",
            "  True False False  True False False False  True  True  True False  True\n",
            "  True  True False  True False False False False False False False False\n",
            "  True False False False  True False  True  True False  True False  True\n",
            " False  True False  True  True False  True False False False False False\n",
            " False False  True  True False  True  True False False  True  True False\n",
            "  True  True False  True False False False  True  True  True False  True\n",
            " False  True  True False  True  True False  True  True  True False False\n",
            "  True False  True False  True False False False False False False  True\n",
            " False  True False  True  True  True  True False  True False False False\n",
            " False False  True False  True False  True  True False  True False  True\n",
            "  True False  True False  True False  True  True  True False False  True\n",
            "  True  True False  True False  True  True False  True False  True  True\n",
            "  True  True False False False  True False  True False False  True False\n",
            " False  True False False False  True  True  True]\n"
          ]
        }
      ]
    },
    {
      "cell_type": "markdown",
      "source": [
        "Creating a new var/feature called \"Size\" in our original dataframe\n"
      ],
      "metadata": {
        "id": "itQzOW9ZBXD6"
      }
    },
    {
      "cell_type": "code",
      "source": [
        "advertising_data_1['Size'] = \"Small\"\n",
        "advertising_data_1.loc[mask_large, 'Size'] = \"Large\""
      ],
      "metadata": {
        "id": "7zeOQNiKBH0B"
      },
      "execution_count": null,
      "outputs": []
    },
    {
      "cell_type": "code",
      "source": [
        "print(advertising_data_1.head(100))"
      ],
      "metadata": {
        "colab": {
          "base_uri": "https://localhost:8080/"
        },
        "id": "2mL8xMUJBvRq",
        "outputId": "b8b68648-0cbd-4b13-b7be-ff4eb941d031"
      },
      "execution_count": null,
      "outputs": [
        {
          "output_type": "stream",
          "name": "stdout",
          "text": [
            "    Unnamed: 0     TV  Radio  Newspaper  Sales   Size\n",
            "0            1  230.1   37.8       69.2   22.1  Large\n",
            "1            2   44.5   39.3       45.1   10.4  Small\n",
            "2            3   17.2   45.9       69.3    9.3  Small\n",
            "3            4  151.5   41.3       58.5   18.5  Large\n",
            "4            5  180.8   10.8       58.4   12.9  Small\n",
            "..         ...    ...    ...        ...    ...    ...\n",
            "95          96  163.3   31.6       52.9   16.9  Small\n",
            "96          97  197.6    3.5        5.9   11.7  Large\n",
            "97          98  184.9   21.0       22.0   15.5  Large\n",
            "98          99  289.7   42.3       51.2   25.4  Small\n",
            "99         100  135.2   41.7       45.9   17.2  Large\n",
            "\n",
            "[100 rows x 6 columns]\n"
          ]
        }
      ]
    },
    {
      "cell_type": "markdown",
      "source": [
        "Create a new feature and name it \"IsLarge\"\n"
      ],
      "metadata": {
        "id": "ZCWhJt5nG5MK"
      }
    },
    {
      "cell_type": "code",
      "source": [
        "advertising_data_1['IsLarge'] = advertising_data_1.Size.map({\"Small\":0, \"Large\":1})\n"
      ],
      "metadata": {
        "id": "48z_X-y1Dwby"
      },
      "execution_count": null,
      "outputs": []
    },
    {
      "cell_type": "code",
      "source": [
        "print(advertising_data_1.head(11))"
      ],
      "metadata": {
        "colab": {
          "base_uri": "https://localhost:8080/"
        },
        "id": "fmO65UyBHxyI",
        "outputId": "5150540a-6539-457e-d163-d6bd9c2fcda8"
      },
      "execution_count": null,
      "outputs": [
        {
          "output_type": "stream",
          "name": "stdout",
          "text": [
            "    Unnamed: 0     TV  Radio  Newspaper  Sales   Size  IsLarge\n",
            "0            1  230.1   37.8       69.2   22.1  Large        1\n",
            "1            2   44.5   39.3       45.1   10.4  Small        0\n",
            "2            3   17.2   45.9       69.3    9.3  Small        0\n",
            "3            4  151.5   41.3       58.5   18.5  Large        1\n",
            "4            5  180.8   10.8       58.4   12.9  Small        0\n",
            "5            6    8.7   48.9       75.0    7.2  Small        0\n",
            "6            7   57.5   32.8       23.5   11.8  Small        0\n",
            "7            8  120.2   19.6       11.6   13.2  Small        0\n",
            "8            9    8.6    2.1        1.0    4.8  Small        0\n",
            "9           10  199.8    2.6       21.2   10.6  Small        0\n",
            "10          11   66.1    5.8       24.2    8.6  Large        1\n"
          ]
        }
      ]
    },
    {
      "cell_type": "code",
      "source": [
        "lm_1 = smf.ols(formula ='Sales ~ TV+Radio+Size+IsLarge', data = advertising_data_1).fit()"
      ],
      "metadata": {
        "id": "lNAZWjJyH04p"
      },
      "execution_count": null,
      "outputs": []
    },
    {
      "cell_type": "code",
      "source": [
        "lm_1.summary()\n"
      ],
      "metadata": {
        "colab": {
          "base_uri": "https://localhost:8080/",
          "height": 549
        },
        "id": "4YPS8wOHJ_3M",
        "outputId": "95664c6a-3ddd-4e3a-e8da-6733e802bd63"
      },
      "execution_count": null,
      "outputs": [
        {
          "output_type": "execute_result",
          "data": {
            "text/plain": [
              "<class 'statsmodels.iolib.summary.Summary'>\n",
              "\"\"\"\n",
              "                            OLS Regression Results                            \n",
              "==============================================================================\n",
              "Dep. Variable:                  Sales   R-squared:                       0.897\n",
              "Model:                            OLS   Adj. R-squared:                  0.896\n",
              "Method:                 Least Squares   F-statistic:                     570.4\n",
              "Date:                Thu, 06 Oct 2022   Prob (F-statistic):           1.54e-96\n",
              "Time:                        02:31:09   Log-Likelihood:                -386.16\n",
              "No. Observations:                 200   AIC:                             780.3\n",
              "Df Residuals:                     196   BIC:                             793.5\n",
              "Df Model:                           3                                         \n",
              "Covariance Type:            nonrobust                                         \n",
              "=================================================================================\n",
              "                    coef    std err          t      P>|t|      [0.025      0.975]\n",
              "---------------------------------------------------------------------------------\n",
              "Intercept         1.9461      0.197      9.886      0.000       1.558       2.334\n",
              "Size[T.Small]     1.0063      0.154      6.542      0.000       0.703       1.310\n",
              "TV                0.0458      0.001     32.683      0.000       0.043       0.049\n",
              "Radio             0.1878      0.008     23.161      0.000       0.172       0.204\n",
              "IsLarge           0.9398      0.157      5.968      0.000       0.629       1.250\n",
              "==============================================================================\n",
              "Omnibus:                       60.613   Durbin-Watson:                   2.085\n",
              "Prob(Omnibus):                  0.000   Jarque-Bera (JB):              151.926\n",
              "Skew:                          -1.331   Prob(JB):                     1.02e-33\n",
              "Kurtosis:                       6.338   Cond. No.                     7.50e+17\n",
              "==============================================================================\n",
              "\n",
              "Notes:\n",
              "[1] Standard Errors assume that the covariance matrix of the errors is correctly specified.\n",
              "[2] The smallest eigenvalue is 1.04e-29. This might indicate that there are\n",
              "strong multicollinearity problems or that the design matrix is singular.\n",
              "\"\"\""
            ],
            "text/html": [
              "<table class=\"simpletable\">\n",
              "<caption>OLS Regression Results</caption>\n",
              "<tr>\n",
              "  <th>Dep. Variable:</th>          <td>Sales</td>      <th>  R-squared:         </th> <td>   0.897</td>\n",
              "</tr>\n",
              "<tr>\n",
              "  <th>Model:</th>                   <td>OLS</td>       <th>  Adj. R-squared:    </th> <td>   0.896</td>\n",
              "</tr>\n",
              "<tr>\n",
              "  <th>Method:</th>             <td>Least Squares</td>  <th>  F-statistic:       </th> <td>   570.4</td>\n",
              "</tr>\n",
              "<tr>\n",
              "  <th>Date:</th>             <td>Thu, 06 Oct 2022</td> <th>  Prob (F-statistic):</th> <td>1.54e-96</td>\n",
              "</tr>\n",
              "<tr>\n",
              "  <th>Time:</th>                 <td>02:31:09</td>     <th>  Log-Likelihood:    </th> <td> -386.16</td>\n",
              "</tr>\n",
              "<tr>\n",
              "  <th>No. Observations:</th>      <td>   200</td>      <th>  AIC:               </th> <td>   780.3</td>\n",
              "</tr>\n",
              "<tr>\n",
              "  <th>Df Residuals:</th>          <td>   196</td>      <th>  BIC:               </th> <td>   793.5</td>\n",
              "</tr>\n",
              "<tr>\n",
              "  <th>Df Model:</th>              <td>     3</td>      <th>                     </th>     <td> </td>   \n",
              "</tr>\n",
              "<tr>\n",
              "  <th>Covariance Type:</th>      <td>nonrobust</td>    <th>                     </th>     <td> </td>   \n",
              "</tr>\n",
              "</table>\n",
              "<table class=\"simpletable\">\n",
              "<tr>\n",
              "        <td></td>           <th>coef</th>     <th>std err</th>      <th>t</th>      <th>P>|t|</th>  <th>[0.025</th>    <th>0.975]</th>  \n",
              "</tr>\n",
              "<tr>\n",
              "  <th>Intercept</th>     <td>    1.9461</td> <td>    0.197</td> <td>    9.886</td> <td> 0.000</td> <td>    1.558</td> <td>    2.334</td>\n",
              "</tr>\n",
              "<tr>\n",
              "  <th>Size[T.Small]</th> <td>    1.0063</td> <td>    0.154</td> <td>    6.542</td> <td> 0.000</td> <td>    0.703</td> <td>    1.310</td>\n",
              "</tr>\n",
              "<tr>\n",
              "  <th>TV</th>            <td>    0.0458</td> <td>    0.001</td> <td>   32.683</td> <td> 0.000</td> <td>    0.043</td> <td>    0.049</td>\n",
              "</tr>\n",
              "<tr>\n",
              "  <th>Radio</th>         <td>    0.1878</td> <td>    0.008</td> <td>   23.161</td> <td> 0.000</td> <td>    0.172</td> <td>    0.204</td>\n",
              "</tr>\n",
              "<tr>\n",
              "  <th>IsLarge</th>       <td>    0.9398</td> <td>    0.157</td> <td>    5.968</td> <td> 0.000</td> <td>    0.629</td> <td>    1.250</td>\n",
              "</tr>\n",
              "</table>\n",
              "<table class=\"simpletable\">\n",
              "<tr>\n",
              "  <th>Omnibus:</th>       <td>60.613</td> <th>  Durbin-Watson:     </th> <td>   2.085</td>\n",
              "</tr>\n",
              "<tr>\n",
              "  <th>Prob(Omnibus):</th> <td> 0.000</td> <th>  Jarque-Bera (JB):  </th> <td> 151.926</td>\n",
              "</tr>\n",
              "<tr>\n",
              "  <th>Skew:</th>          <td>-1.331</td> <th>  Prob(JB):          </th> <td>1.02e-33</td>\n",
              "</tr>\n",
              "<tr>\n",
              "  <th>Kurtosis:</th>      <td> 6.338</td> <th>  Cond. No.          </th> <td>7.50e+17</td>\n",
              "</tr>\n",
              "</table><br/><br/>Notes:<br/>[1] Standard Errors assume that the covariance matrix of the errors is correctly specified.<br/>[2] The smallest eigenvalue is 1.04e-29. This might indicate that there are<br/>strong multicollinearity problems or that the design matrix is singular."
            ]
          },
          "metadata": {},
          "execution_count": 37
        }
      ]
    },
    {
      "cell_type": "markdown",
      "source": [
        "Creating and using a categorical var with >2 categories\n",
        "\n",
        "Let us create a feature/var called \"Area\". Let this new var/feature contain 3 values - rural, suburban and urban\n",
        "\n"
      ],
      "metadata": {
        "id": "7GmXOodlHTWZ"
      }
    },
    {
      "cell_type": "code",
      "source": [
        "np.random.seed(123)"
      ],
      "metadata": {
        "id": "j1VYXOjfKEB9"
      },
      "execution_count": null,
      "outputs": []
    },
    {
      "cell_type": "markdown",
      "source": [
        "Generating random numbers and assigning 3 categories\n"
      ],
      "metadata": {
        "id": "fttrqy8eH9Hx"
      }
    },
    {
      "cell_type": "code",
      "source": [
        "nums = np.random.rand(len(advertising_data_1))\n",
        "mask_urban = nums>0.66\n",
        "mask_suburban = (nums>0.33) & (nums<0.66)\n",
        "advertising_data_1['Area'] = \"Rural\"\n",
        "advertising_data_1.loc[mask_urban, 'Area'] = \"Ubran\"\n",
        "advertising_data_1.loc[mask_suburban, 'Area'] = \"Suburban\"\n",
        "print(advertising_data_1)\n"
      ],
      "metadata": {
        "colab": {
          "base_uri": "https://localhost:8080/"
        },
        "id": "OCht4_4IHu7a",
        "outputId": "91f2b641-ff7f-488c-9e4b-edae4a0fc111"
      },
      "execution_count": null,
      "outputs": [
        {
          "output_type": "stream",
          "name": "stdout",
          "text": [
            "     Unnamed: 0     TV  Radio  Newspaper  Sales   Size  IsLarge      Area\n",
            "0             1  230.1   37.8       69.2   22.1  Large        1     Ubran\n",
            "1             2   44.5   39.3       45.1   10.4  Small        0     Rural\n",
            "2             3   17.2   45.9       69.3    9.3  Small        0     Rural\n",
            "3             4  151.5   41.3       58.5   18.5  Large        1  Suburban\n",
            "4             5  180.8   10.8       58.4   12.9  Small        0     Ubran\n",
            "..          ...    ...    ...        ...    ...    ...      ...       ...\n",
            "195         196   38.2    3.7       13.8    7.6  Small        0  Suburban\n",
            "196         197   94.2    4.9        8.1    9.7  Small        0     Rural\n",
            "197         198  177.0    9.3        6.4   12.8  Large        1     Ubran\n",
            "198         199  283.6   42.0       66.2   25.5  Large        1  Suburban\n",
            "199         200  232.1    8.6        8.7   13.4  Large        1     Rural\n",
            "\n",
            "[200 rows x 8 columns]\n"
          ]
        }
      ]
    },
    {
      "cell_type": "markdown",
      "source": [
        "Create dummy variables for \"Area\". Use get_dummies function\n",
        "\n",
        "Note: We need to exclude the first dummy column"
      ],
      "metadata": {
        "id": "xGYyG3c1O4aK"
      }
    },
    {
      "cell_type": "code",
      "source": [
        "area_dummies = pd.get_dummies(advertising_data_1, prefix= 'Area').iloc[:, 1:]"
      ],
      "metadata": {
        "id": "OuPghNnZIoxM"
      },
      "execution_count": null,
      "outputs": []
    },
    {
      "cell_type": "code",
      "source": [
        "print(area_dummies)"
      ],
      "metadata": {
        "colab": {
          "base_uri": "https://localhost:8080/"
        },
        "id": "bhAHO9Q0PolD",
        "outputId": "2c9f573d-4102-4eeb-d876-5046f81c34ad"
      },
      "execution_count": null,
      "outputs": [
        {
          "output_type": "stream",
          "name": "stdout",
          "text": [
            "        TV  Radio  Newspaper  Sales  IsLarge  Area_Large  Area_Small  \\\n",
            "0    230.1   37.8       69.2   22.1        1           1           0   \n",
            "1     44.5   39.3       45.1   10.4        0           0           1   \n",
            "2     17.2   45.9       69.3    9.3        0           0           1   \n",
            "3    151.5   41.3       58.5   18.5        1           1           0   \n",
            "4    180.8   10.8       58.4   12.9        0           0           1   \n",
            "..     ...    ...        ...    ...      ...         ...         ...   \n",
            "195   38.2    3.7       13.8    7.6        0           0           1   \n",
            "196   94.2    4.9        8.1    9.7        0           0           1   \n",
            "197  177.0    9.3        6.4   12.8        1           1           0   \n",
            "198  283.6   42.0       66.2   25.5        1           1           0   \n",
            "199  232.1    8.6        8.7   13.4        1           1           0   \n",
            "\n",
            "     Area_Rural  Area_Suburban  Area_Ubran  \n",
            "0             0              0           1  \n",
            "1             1              0           0  \n",
            "2             1              0           0  \n",
            "3             0              1           0  \n",
            "4             0              0           1  \n",
            "..          ...            ...         ...  \n",
            "195           0              1           0  \n",
            "196           1              0           0  \n",
            "197           0              0           1  \n",
            "198           0              1           0  \n",
            "199           1              0           0  \n",
            "\n",
            "[200 rows x 10 columns]\n"
          ]
        }
      ]
    },
    {
      "cell_type": "markdown",
      "source": [
        "Add/Concatenate the dummy variables with the original dataframe\n",
        "\n",
        "Note: Use axis = 1 (axis = 0 means rows and axis = 1 means columns)\n"
      ],
      "metadata": {
        "id": "TUm4Dvg3Q430"
      }
    },
    {
      "cell_type": "code",
      "source": [
        "advertising_data_1 = pd.concat([advertising_data_1,area_dummies] ,axis=1)\n",
        "print(advertising_data_1.head())"
      ],
      "metadata": {
        "colab": {
          "base_uri": "https://localhost:8080/"
        },
        "id": "DIBIEeSYPySE",
        "outputId": "a7edd653-8bf5-49e1-9494-047ad4ce99b7"
      },
      "execution_count": null,
      "outputs": [
        {
          "output_type": "stream",
          "name": "stdout",
          "text": [
            "   Unnamed: 0     TV  Radio  Newspaper  Sales   Size  IsLarge      Area  \\\n",
            "0           1  230.1   37.8       69.2   22.1  Large        1     Ubran   \n",
            "1           2   44.5   39.3       45.1   10.4  Small        0     Rural   \n",
            "2           3   17.2   45.9       69.3    9.3  Small        0     Rural   \n",
            "3           4  151.5   41.3       58.5   18.5  Large        1  Suburban   \n",
            "4           5  180.8   10.8       58.4   12.9  Small        0     Ubran   \n",
            "\n",
            "      TV  Radio  Newspaper  Sales  IsLarge  Area_Large  Area_Small  \\\n",
            "0  230.1   37.8       69.2   22.1        1           1           0   \n",
            "1   44.5   39.3       45.1   10.4        0           0           1   \n",
            "2   17.2   45.9       69.3    9.3        0           0           1   \n",
            "3  151.5   41.3       58.5   18.5        1           1           0   \n",
            "4  180.8   10.8       58.4   12.9        0           0           1   \n",
            "\n",
            "   Area_Rural  Area_Suburban  Area_Ubran  \n",
            "0           0              0           1  \n",
            "1           1              0           0  \n",
            "2           1              0           0  \n",
            "3           0              1           0  \n",
            "4           0              0           1  \n"
          ]
        }
      ]
    },
    {
      "cell_type": "markdown",
      "source": [
        "Building Multiple Linear Regression Model"
      ],
      "metadata": {
        "id": "1mIXp0s7NQZr"
      }
    },
    {
      "cell_type": "code",
      "source": [
        "lm_2 = smf.ols(formula=\"Sales ~ TV + Radio + Newspaper + IsLarge + Area_Suburban + Area_Ubran\", data=area_dummies).fit()"
      ],
      "metadata": {
        "id": "28K0aZ29T4k8"
      },
      "execution_count": null,
      "outputs": []
    },
    {
      "cell_type": "code",
      "source": [
        "print(lm_2.summary())"
      ],
      "metadata": {
        "colab": {
          "base_uri": "https://localhost:8080/"
        },
        "id": "p84RvtLLQ9YW",
        "outputId": "8334b5b8-8168-4a01-92f0-ecd7addd5203"
      },
      "execution_count": null,
      "outputs": [
        {
          "output_type": "stream",
          "name": "stdout",
          "text": [
            "                            OLS Regression Results                            \n",
            "==============================================================================\n",
            "Dep. Variable:                  Sales   R-squared:                       0.900\n",
            "Model:                            OLS   Adj. R-squared:                  0.897\n",
            "Method:                 Least Squares   F-statistic:                     288.7\n",
            "Date:                Thu, 06 Oct 2022   Prob (F-statistic):           1.54e-93\n",
            "Time:                        02:31:21   Log-Likelihood:                -383.66\n",
            "No. Observations:                 200   AIC:                             781.3\n",
            "Df Residuals:                     193   BIC:                             804.4\n",
            "Df Model:                           6                                         \n",
            "Covariance Type:            nonrobust                                         \n",
            "=================================================================================\n",
            "                    coef    std err          t      P>|t|      [0.025      0.975]\n",
            "---------------------------------------------------------------------------------\n",
            "Intercept         2.4998      0.400      6.257      0.000       1.712       3.288\n",
            "TV                0.0463      0.001     32.693      0.000       0.044       0.049\n",
            "Radio             0.1887      0.009     21.965      0.000       0.172       0.206\n",
            "Newspaper        -0.0014      0.006     -0.246      0.806      -0.013       0.010\n",
            "IsLarge          -0.0944      0.241     -0.391      0.696      -0.571       0.382\n",
            "Area_Suburban     0.5292      0.297      1.779      0.077      -0.058       1.116\n",
            "Area_Ubran        0.6281      0.304      2.066      0.040       0.028       1.228\n",
            "==============================================================================\n",
            "Omnibus:                       65.562   Durbin-Watson:                   2.057\n",
            "Prob(Omnibus):                  0.000   Jarque-Bera (JB):              189.274\n",
            "Skew:                          -1.378   Prob(JB):                     7.94e-42\n",
            "Kurtosis:                       6.889   Cond. No.                         710.\n",
            "==============================================================================\n",
            "\n",
            "Notes:\n",
            "[1] Standard Errors assume that the covariance matrix of the errors is correctly specified.\n"
          ]
        }
      ]
    },
    {
      "cell_type": "markdown",
      "source": [],
      "metadata": {
        "id": "CcF_w16z3Ote"
      }
    },
    {
      "cell_type": "code",
      "source": [],
      "metadata": {
        "id": "BC6WBuZyRDVe"
      },
      "execution_count": null,
      "outputs": []
    }
  ]
}